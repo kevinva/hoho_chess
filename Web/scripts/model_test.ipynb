{
 "cells": [
  {
   "cell_type": "code",
   "execution_count": 8,
   "id": "3ffb07f4",
   "metadata": {},
   "outputs": [],
   "source": [
    "import sys, os\n",
    "\n",
    "root_dir = os.path.dirname(os.path.dirname(os.path.realpath('__file__')))\n",
    "sys.path.append(root_dir)\n",
    "\n",
    "import random\n",
    "import pandas as pd\n",
    "import numpy as np\n",
    "\n",
    "from model.hoho_dqn import *\n",
    "from model.hoho_cchessgame import *"
   ]
  },
  {
   "cell_type": "code",
   "execution_count": 2,
   "id": "5854b860",
   "metadata": {},
   "outputs": [
    {
     "name": "stdout",
     "output_type": "stream",
     "text": [
      "argmax action!\n",
      "    action: h0g2\n",
      "argmax action!\n",
      "    action: h0g2\n",
      "random action!\n",
      "    action: b2a2\n",
      "argmax action!\n",
      "    action: h0g2\n",
      "argmax action!\n",
      "    action: h0g2\n",
      "random action!\n",
      "    action: e3e4\n",
      "argmax action!\n",
      "    action: h0g2\n",
      "argmax action!\n",
      "    action: h0g2\n",
      "random action!\n",
      "    action: b2b6\n",
      "random action!\n",
      "    action: h2h4\n",
      "argmax action!\n",
      "    action: h0g2\n",
      "random action!\n",
      "    action: b2a2\n",
      "argmax action!\n",
      "    action: h0g2\n",
      "argmax action!\n",
      "    action: h0g2\n",
      "argmax action!\n",
      "    action: h0g2\n",
      "argmax action!\n",
      "    action: h0g2\n",
      "argmax action!\n",
      "    action: h0g2\n",
      "argmax action!\n",
      "    action: h0g2\n",
      "argmax action!\n",
      "    action: h0g2\n",
      "argmax action!\n",
      "    action: h0g2\n",
      "argmax action!\n",
      "    action: h0g2\n",
      "argmax action!\n",
      "    action: h0g2\n",
      "argmax action!\n",
      "    action: h0g2\n",
      "argmax action!\n",
      "    action: h0g2\n",
      "argmax action!\n",
      "    action: h0g2\n",
      "argmax action!\n",
      "    action: h0g2\n",
      "argmax action!\n",
      "    action: h0g2\n",
      "argmax action!\n",
      "    action: h0g2\n",
      "argmax action!\n",
      "    action: h0g2\n",
      "argmax action!\n",
      "    action: h0g2\n",
      "argmax action!\n",
      "    action: h0g2\n",
      "argmax action!\n",
      "    action: h0g2\n",
      "argmax action!\n",
      "    action: h0g2\n",
      "argmax action!\n",
      "    action: h0g2\n",
      "argmax action!\n",
      "    action: h0g2\n",
      "argmax action!\n",
      "    action: h0g2\n",
      "argmax action!\n",
      "    action: h0g2\n",
      "argmax action!\n",
      "    action: h0g2\n",
      "argmax action!\n",
      "    action: h0g2\n",
      "random action!\n",
      "    action: b2b5\n",
      "argmax action!\n",
      "    action: h0g2\n",
      "argmax action!\n",
      "    action: h0g2\n",
      "argmax action!\n",
      "    action: h0g2\n",
      "argmax action!\n",
      "    action: h0g2\n",
      "argmax action!\n",
      "    action: h0g2\n",
      "random action!\n",
      "    action: h2h3\n",
      "argmax action!\n",
      "    action: h0g2\n",
      "argmax action!\n",
      "    action: h0g2\n",
      "random action!\n",
      "    action: b2e2\n",
      "argmax action!\n",
      "    action: h0g2\n",
      "argmax action!\n",
      "    action: h0g2\n",
      "argmax action!\n",
      "    action: h0g2\n",
      "argmax action!\n",
      "    action: h0g2\n",
      "argmax action!\n",
      "    action: h0g2\n",
      "random action!\n",
      "    action: b2f2\n",
      "argmax action!\n",
      "    action: h0g2\n",
      "argmax action!\n",
      "    action: h0g2\n",
      "random action!\n",
      "    action: e0e1\n",
      "argmax action!\n",
      "    action: h0g2\n",
      "argmax action!\n",
      "    action: h0g2\n",
      "argmax action!\n",
      "    action: h0g2\n",
      "argmax action!\n",
      "    action: h0g2\n",
      "argmax action!\n",
      "    action: h0g2\n",
      "random action!\n",
      "    action: g0e2\n",
      "argmax action!\n",
      "    action: h0g2\n",
      "argmax action!\n",
      "    action: h0g2\n",
      "random action!\n",
      "    action: b0a2\n",
      "argmax action!\n",
      "    action: h0g2\n",
      "argmax action!\n",
      "    action: h0g2\n",
      "argmax action!\n",
      "    action: h0g2\n",
      "argmax action!\n",
      "    action: h0g2\n",
      "argmax action!\n",
      "    action: h0g2\n",
      "argmax action!\n",
      "    action: h0g2\n",
      "argmax action!\n",
      "    action: h0g2\n",
      "argmax action!\n",
      "    action: h0g2\n",
      "argmax action!\n",
      "    action: h0g2\n",
      "argmax action!\n",
      "    action: h0g2\n",
      "argmax action!\n",
      "    action: h0g2\n",
      "random action!\n",
      "    action: h2d2\n",
      "argmax action!\n",
      "    action: h0g2\n",
      "argmax action!\n",
      "    action: h0g2\n",
      "argmax action!\n",
      "    action: h0g2\n",
      "argmax action!\n",
      "    action: h0g2\n",
      "argmax action!\n",
      "    action: h0g2\n",
      "random action!\n",
      "    action: h2i2\n",
      "random action!\n",
      "    action: b2b3\n",
      "argmax action!\n",
      "    action: h0g2\n",
      "argmax action!\n",
      "    action: h0g2\n",
      "argmax action!\n",
      "    action: h0g2\n",
      "argmax action!\n",
      "    action: h0g2\n",
      "argmax action!\n",
      "    action: h0g2\n",
      "argmax action!\n",
      "    action: h0g2\n",
      "argmax action!\n",
      "    action: h0g2\n",
      "argmax action!\n",
      "    action: h0g2\n",
      "argmax action!\n",
      "    action: h0g2\n",
      "argmax action!\n",
      "    action: h0g2\n",
      "argmax action!\n",
      "    action: h0g2\n",
      "argmax action!\n",
      "    action: h0g2\n",
      "argmax action!\n",
      "    action: h0g2\n",
      "argmax action!\n",
      "    action: h0g2\n"
     ]
    }
   ],
   "source": [
    "gamma = 0.99\n",
    "lr = 5e-5\n",
    "epsilon = 0.1\n",
    "\n",
    "dqn = DQN(ACTION_DIM, lr, gamma, epsilon, 100, DEVICE)\n",
    "state = INIT_BOARD_STATE\n",
    "for i in range(100):\n",
    "    action = dqn.take_action(state)\n",
    "    print(f\"    action: {action}\")"
   ]
  },
  {
   "cell_type": "code",
   "execution_count": null,
   "id": "72c8b374",
   "metadata": {},
   "outputs": [],
   "source": []
  },
  {
   "cell_type": "code",
   "execution_count": null,
   "id": "03cf75fc",
   "metadata": {},
   "outputs": [],
   "source": []
  },
  {
   "cell_type": "code",
   "execution_count": 32,
   "id": "d2de61e6",
   "metadata": {},
   "outputs": [],
   "source": [
    "file_path = \"./outputs/hoho_chess_data_20230915000911.xlsx\"\n",
    "data = pd.read_excel(file_path)"
   ]
  },
  {
   "cell_type": "code",
   "execution_count": 33,
   "id": "d952f92c",
   "metadata": {},
   "outputs": [
    {
     "data": {
      "text/html": [
       "<div>\n",
       "<style scoped>\n",
       "    .dataframe tbody tr th:only-of-type {\n",
       "        vertical-align: middle;\n",
       "    }\n",
       "\n",
       "    .dataframe tbody tr th {\n",
       "        vertical-align: top;\n",
       "    }\n",
       "\n",
       "    .dataframe thead th {\n",
       "        text-align: right;\n",
       "    }\n",
       "</style>\n",
       "<table border=\"1\" class=\"dataframe\">\n",
       "  <thead>\n",
       "    <tr style=\"text-align: right;\">\n",
       "      <th></th>\n",
       "      <th>match_id</th>\n",
       "      <th>round_id</th>\n",
       "      <th>state</th>\n",
       "      <th>action</th>\n",
       "      <th>next_state</th>\n",
       "      <th>done</th>\n",
       "      <th>chaptures</th>\n",
       "      <th>chapture_reward</th>\n",
       "      <th>win</th>\n",
       "      <th>converted</th>\n",
       "      <th>jid</th>\n",
       "    </tr>\n",
       "  </thead>\n",
       "  <tbody>\n",
       "    <tr>\n",
       "      <th>0</th>\n",
       "      <td>0-0</td>\n",
       "      <td>16947077516060</td>\n",
       "      <td>RNBAKABNR/9/1C5C1/P1P1P1P1P/9/9/p1p1p1p1p/1c5c...</td>\n",
       "      <td>f0e1</td>\n",
       "      <td>RNBAK1BNR/4A4/1C5C1/P1P1P1P1P/9/9/p1p1p1p1p/1c...</td>\n",
       "      <td>0</td>\n",
       "      <td>N</td>\n",
       "      <td>-2.0</td>\n",
       "      <td>0</td>\n",
       "      <td>0</td>\n",
       "      <td>0-0_16947077516060</td>\n",
       "    </tr>\n",
       "    <tr>\n",
       "      <th>1</th>\n",
       "      <td>0-0</td>\n",
       "      <td>16947077516061</td>\n",
       "      <td>RNBAK1BcR/4A4/1C5C1/P1P1P1P1P/9/9/p1p1p1p1p/1c...</td>\n",
       "      <td>h2g2</td>\n",
       "      <td>RNBAK1BcR/4A4/1C4C2/P1P1P1P1P/9/9/p1p1p1p1p/1c...</td>\n",
       "      <td>1</td>\n",
       "      <td>K</td>\n",
       "      <td>-100.0</td>\n",
       "      <td>-1</td>\n",
       "      <td>1</td>\n",
       "      <td>0-0_16947077516061</td>\n",
       "    </tr>\n",
       "    <tr>\n",
       "      <th>2</th>\n",
       "      <td>0-1</td>\n",
       "      <td>16947077516070</td>\n",
       "      <td>RNBAKABNR/9/1C5C1/P1P1P1P1P/9/9/p1p1p1p1p/1c5c...</td>\n",
       "      <td>f0e1</td>\n",
       "      <td>RNBAK1BNR/4A4/1C5C1/P1P1P1P1P/9/9/p1p1p1p1p/1c...</td>\n",
       "      <td>0</td>\n",
       "      <td>N</td>\n",
       "      <td>-2.0</td>\n",
       "      <td>0</td>\n",
       "      <td>0</td>\n",
       "      <td>0-1_16947077516070</td>\n",
       "    </tr>\n",
       "    <tr>\n",
       "      <th>3</th>\n",
       "      <td>0-1</td>\n",
       "      <td>16947077516071</td>\n",
       "      <td>RNBAK1BcR/4A4/1C5C1/P1P1P1P1P/9/9/p1p1p1p1p/1c...</td>\n",
       "      <td>h2g2</td>\n",
       "      <td>RNBAK1BcR/4A4/1C4C2/P1P1P1P1P/9/9/p1p1p1p1p/1c...</td>\n",
       "      <td>1</td>\n",
       "      <td>K</td>\n",
       "      <td>-100.0</td>\n",
       "      <td>-1</td>\n",
       "      <td>1</td>\n",
       "      <td>0-1_16947077516071</td>\n",
       "    </tr>\n",
       "    <tr>\n",
       "      <th>4</th>\n",
       "      <td>0-2</td>\n",
       "      <td>16947077516080</td>\n",
       "      <td>RNBAKABNR/9/1C5C1/P1P1P1P1P/9/9/p1p1p1p1p/1c5c...</td>\n",
       "      <td>f0e1</td>\n",
       "      <td>RNBAK1BNR/4A4/1C5C1/P1P1P1P1P/9/9/p1p1p1p1p/1c...</td>\n",
       "      <td>0</td>\n",
       "      <td>N</td>\n",
       "      <td>-2.0</td>\n",
       "      <td>0</td>\n",
       "      <td>0</td>\n",
       "      <td>0-2_16947077516080</td>\n",
       "    </tr>\n",
       "    <tr>\n",
       "      <th>...</th>\n",
       "      <td>...</td>\n",
       "      <td>...</td>\n",
       "      <td>...</td>\n",
       "      <td>...</td>\n",
       "      <td>...</td>\n",
       "      <td>...</td>\n",
       "      <td>...</td>\n",
       "      <td>...</td>\n",
       "      <td>...</td>\n",
       "      <td>...</td>\n",
       "      <td>...</td>\n",
       "    </tr>\n",
       "    <tr>\n",
       "      <th>6601</th>\n",
       "      <td>63-24</td>\n",
       "      <td>169470775425018</td>\n",
       "      <td>6B2/4K4/1p7/P1c1P3P/9/6c2/p3p1n1p/n8/9/1rbakab1r</td>\n",
       "      <td>e3e4</td>\n",
       "      <td>6B2/4K4/1p7/P1c5P/4P4/6c2/p3p1n1p/n8/9/1rbakab1r</td>\n",
       "      <td>0</td>\n",
       "      <td>NaN</td>\n",
       "      <td>0.0</td>\n",
       "      <td>0</td>\n",
       "      <td>0</td>\n",
       "      <td>63-24_169470775425018</td>\n",
       "    </tr>\n",
       "    <tr>\n",
       "      <th>6602</th>\n",
       "      <td>63-24</td>\n",
       "      <td>169470775425019</td>\n",
       "      <td>6B2/4K4/1p7/P1c5P/1r2P4/6c2/p3p1n1p/n8/9/2bakab1r</td>\n",
       "      <td>g0e2</td>\n",
       "      <td>9/4K4/1p2B4/P1c5P/1r2P4/6c2/p3p1n1p/n8/9/2bakab1r</td>\n",
       "      <td>0</td>\n",
       "      <td>NaN</td>\n",
       "      <td>0.0</td>\n",
       "      <td>0</td>\n",
       "      <td>0</td>\n",
       "      <td>63-24_169470775425019</td>\n",
       "    </tr>\n",
       "    <tr>\n",
       "      <th>6603</th>\n",
       "      <td>63-24</td>\n",
       "      <td>169470775425020</td>\n",
       "      <td>9/4K4/1p2B4/P1c5P/1r2P4/6c2/p3p1n1p/n8/9/2bakabr1</td>\n",
       "      <td>e1d1</td>\n",
       "      <td>9/3K5/1p2B4/P1c5P/1r2P4/6c2/p3p1n1p/n8/9/2bakabr1</td>\n",
       "      <td>0</td>\n",
       "      <td>P</td>\n",
       "      <td>-1.0</td>\n",
       "      <td>0</td>\n",
       "      <td>0</td>\n",
       "      <td>63-24_169470775425020</td>\n",
       "    </tr>\n",
       "    <tr>\n",
       "      <th>6604</th>\n",
       "      <td>63-24</td>\n",
       "      <td>169470775425021</td>\n",
       "      <td>9/3K5/1p2B4/P1c5P/4r4/6c2/p3p1n1p/n8/9/2bakabr1</td>\n",
       "      <td>d1d2</td>\n",
       "      <td>9/9/1p1KB4/P1c5P/4r4/6c2/p3p1n1p/n8/9/2bakabr1</td>\n",
       "      <td>0</td>\n",
       "      <td>NaN</td>\n",
       "      <td>0.0</td>\n",
       "      <td>0</td>\n",
       "      <td>0</td>\n",
       "      <td>63-24_169470775425021</td>\n",
       "    </tr>\n",
       "    <tr>\n",
       "      <th>6605</th>\n",
       "      <td>63-24</td>\n",
       "      <td>169470775425022</td>\n",
       "      <td>9/9/1p1KB4/P1c5P/3r5/6c2/p3p1n1p/n8/9/2bakabr1</td>\n",
       "      <td>d2d1</td>\n",
       "      <td>9/3K5/1p2B4/P1c5P/3r5/6c2/p3p1n1p/n8/9/2bakabr1</td>\n",
       "      <td>1</td>\n",
       "      <td>K</td>\n",
       "      <td>-100.0</td>\n",
       "      <td>-1</td>\n",
       "      <td>1</td>\n",
       "      <td>63-24_169470775425022</td>\n",
       "    </tr>\n",
       "  </tbody>\n",
       "</table>\n",
       "<p>6606 rows × 11 columns</p>\n",
       "</div>"
      ],
      "text/plain": [
       "     match_id         round_id  \\\n",
       "0         0-0   16947077516060   \n",
       "1         0-0   16947077516061   \n",
       "2         0-1   16947077516070   \n",
       "3         0-1   16947077516071   \n",
       "4         0-2   16947077516080   \n",
       "...       ...              ...   \n",
       "6601    63-24  169470775425018   \n",
       "6602    63-24  169470775425019   \n",
       "6603    63-24  169470775425020   \n",
       "6604    63-24  169470775425021   \n",
       "6605    63-24  169470775425022   \n",
       "\n",
       "                                                  state action  \\\n",
       "0     RNBAKABNR/9/1C5C1/P1P1P1P1P/9/9/p1p1p1p1p/1c5c...   f0e1   \n",
       "1     RNBAK1BcR/4A4/1C5C1/P1P1P1P1P/9/9/p1p1p1p1p/1c...   h2g2   \n",
       "2     RNBAKABNR/9/1C5C1/P1P1P1P1P/9/9/p1p1p1p1p/1c5c...   f0e1   \n",
       "3     RNBAK1BcR/4A4/1C5C1/P1P1P1P1P/9/9/p1p1p1p1p/1c...   h2g2   \n",
       "4     RNBAKABNR/9/1C5C1/P1P1P1P1P/9/9/p1p1p1p1p/1c5c...   f0e1   \n",
       "...                                                 ...    ...   \n",
       "6601   6B2/4K4/1p7/P1c1P3P/9/6c2/p3p1n1p/n8/9/1rbakab1r   e3e4   \n",
       "6602  6B2/4K4/1p7/P1c5P/1r2P4/6c2/p3p1n1p/n8/9/2bakab1r   g0e2   \n",
       "6603  9/4K4/1p2B4/P1c5P/1r2P4/6c2/p3p1n1p/n8/9/2bakabr1   e1d1   \n",
       "6604    9/3K5/1p2B4/P1c5P/4r4/6c2/p3p1n1p/n8/9/2bakabr1   d1d2   \n",
       "6605     9/9/1p1KB4/P1c5P/3r5/6c2/p3p1n1p/n8/9/2bakabr1   d2d1   \n",
       "\n",
       "                                             next_state  done chaptures  \\\n",
       "0     RNBAK1BNR/4A4/1C5C1/P1P1P1P1P/9/9/p1p1p1p1p/1c...     0         N   \n",
       "1     RNBAK1BcR/4A4/1C4C2/P1P1P1P1P/9/9/p1p1p1p1p/1c...     1         K   \n",
       "2     RNBAK1BNR/4A4/1C5C1/P1P1P1P1P/9/9/p1p1p1p1p/1c...     0         N   \n",
       "3     RNBAK1BcR/4A4/1C4C2/P1P1P1P1P/9/9/p1p1p1p1p/1c...     1         K   \n",
       "4     RNBAK1BNR/4A4/1C5C1/P1P1P1P1P/9/9/p1p1p1p1p/1c...     0         N   \n",
       "...                                                 ...   ...       ...   \n",
       "6601   6B2/4K4/1p7/P1c5P/4P4/6c2/p3p1n1p/n8/9/1rbakab1r     0       NaN   \n",
       "6602  9/4K4/1p2B4/P1c5P/1r2P4/6c2/p3p1n1p/n8/9/2bakab1r     0       NaN   \n",
       "6603  9/3K5/1p2B4/P1c5P/1r2P4/6c2/p3p1n1p/n8/9/2bakabr1     0         P   \n",
       "6604     9/9/1p1KB4/P1c5P/4r4/6c2/p3p1n1p/n8/9/2bakabr1     0       NaN   \n",
       "6605    9/3K5/1p2B4/P1c5P/3r5/6c2/p3p1n1p/n8/9/2bakabr1     1         K   \n",
       "\n",
       "      chapture_reward  win  converted                    jid  \n",
       "0                -2.0    0          0     0-0_16947077516060  \n",
       "1              -100.0   -1          1     0-0_16947077516061  \n",
       "2                -2.0    0          0     0-1_16947077516070  \n",
       "3              -100.0   -1          1     0-1_16947077516071  \n",
       "4                -2.0    0          0     0-2_16947077516080  \n",
       "...               ...  ...        ...                    ...  \n",
       "6601              0.0    0          0  63-24_169470775425018  \n",
       "6602              0.0    0          0  63-24_169470775425019  \n",
       "6603             -1.0    0          0  63-24_169470775425020  \n",
       "6604              0.0    0          0  63-24_169470775425021  \n",
       "6605           -100.0   -1          1  63-24_169470775425022  \n",
       "\n",
       "[6606 rows x 11 columns]"
      ]
     },
     "execution_count": 33,
     "metadata": {},
     "output_type": "execute_result"
    }
   ],
   "source": [
    "data"
   ]
  },
  {
   "cell_type": "code",
   "execution_count": null,
   "id": "75f40153",
   "metadata": {},
   "outputs": [],
   "source": []
  },
  {
   "cell_type": "code",
   "execution_count": 2,
   "id": "9708e18e",
   "metadata": {},
   "outputs": [],
   "source": [
    "rb = ReplayBuffer.load_from_dir(\"../output/data\")"
   ]
  },
  {
   "cell_type": "code",
   "execution_count": 3,
   "id": "8778748d",
   "metadata": {},
   "outputs": [
    {
     "data": {
      "text/plain": [
       "307"
      ]
     },
     "execution_count": 3,
     "metadata": {},
     "output_type": "execute_result"
    }
   ],
   "source": [
    "rb.size()"
   ]
  },
  {
   "cell_type": "code",
   "execution_count": 6,
   "id": "89d4cea7",
   "metadata": {},
   "outputs": [
    {
     "name": "stdout",
     "output_type": "stream",
     "text": [
      "step count: 307\n"
     ]
    }
   ],
   "source": [
    "print(f\"step count: {len(rb.buffer)}\")"
   ]
  },
  {
   "cell_type": "code",
   "execution_count": 7,
   "id": "f7111609",
   "metadata": {},
   "outputs": [
    {
     "name": "stdout",
     "output_type": "stream",
     "text": [
      "check step count: 307\n",
      "round count: 107\n"
     ]
    }
   ],
   "source": [
    "step_count = 0\n",
    "for r in rb.step_list:\n",
    "    step_count += len(r)\n",
    "\n",
    "print(f\"check step count: {step_count}\")\n",
    "print(f\"round count: {len(rb.step_list)}\")"
   ]
  },
  {
   "cell_type": "code",
   "execution_count": 25,
   "id": "cc564cc5",
   "metadata": {},
   "outputs": [],
   "source": [
    "test = [1, 2, 3]\n",
    "# test.clear()"
   ]
  },
  {
   "cell_type": "code",
   "execution_count": 26,
   "id": "e80e38de",
   "metadata": {},
   "outputs": [
    {
     "data": {
      "text/plain": [
       "[1, 2, 3]"
      ]
     },
     "execution_count": 26,
     "metadata": {},
     "output_type": "execute_result"
    }
   ],
   "source": [
    "test"
   ]
  },
  {
   "cell_type": "code",
   "execution_count": 27,
   "id": "4c79da15",
   "metadata": {},
   "outputs": [
    {
     "data": {
      "text/plain": [
       "[1, 2, 3]"
      ]
     },
     "execution_count": 27,
     "metadata": {},
     "output_type": "execute_result"
    }
   ],
   "source": [
    "list(test)"
   ]
  },
  {
   "cell_type": "code",
   "execution_count": 10,
   "id": "1fcc2a31",
   "metadata": {},
   "outputs": [],
   "source": [
    "queue = collections.deque(maxlen=5)\n",
    "queue.append(1)\n",
    "queue.append(2)\n",
    "queue.append(3)\n",
    "queue.append(4)\n",
    "queue.append(5)\n",
    "queue.append(6)"
   ]
  },
  {
   "cell_type": "code",
   "execution_count": 11,
   "id": "ebcc384b",
   "metadata": {},
   "outputs": [
    {
     "data": {
      "text/plain": [
       "deque([2, 3, 4, 5, 6], maxlen=5)"
      ]
     },
     "execution_count": 11,
     "metadata": {},
     "output_type": "execute_result"
    }
   ],
   "source": [
    "queue"
   ]
  },
  {
   "cell_type": "code",
   "execution_count": 12,
   "id": "58d534df",
   "metadata": {},
   "outputs": [],
   "source": [
    "queue.extend([7, 8, 9])"
   ]
  },
  {
   "cell_type": "code",
   "execution_count": 13,
   "id": "9c6feaab",
   "metadata": {},
   "outputs": [
    {
     "data": {
      "text/plain": [
       "deque([5, 6, 7, 8, 9], maxlen=5)"
      ]
     },
     "execution_count": 13,
     "metadata": {},
     "output_type": "execute_result"
    }
   ],
   "source": [
    "queue"
   ]
  },
  {
   "cell_type": "code",
   "execution_count": 14,
   "id": "75608d8c",
   "metadata": {},
   "outputs": [
    {
     "data": {
      "text/plain": [
       "[5, 6, 7, 8, 9]"
      ]
     },
     "execution_count": 14,
     "metadata": {},
     "output_type": "execute_result"
    }
   ],
   "source": [
    "list(queue)"
   ]
  },
  {
   "cell_type": "code",
   "execution_count": null,
   "id": "f2996630",
   "metadata": {},
   "outputs": [],
   "source": []
  },
  {
   "cell_type": "code",
   "execution_count": null,
   "id": "5e61206f",
   "metadata": {},
   "outputs": [],
   "source": []
  },
  {
   "cell_type": "code",
   "execution_count": 19,
   "id": "9540f13d",
   "metadata": {},
   "outputs": [],
   "source": [
    "buffer = collections.deque(maxlen = 5)\n",
    "buffer.append([\"a\", \"ab\", 1, 1.0])\n",
    "buffer.append([\"bfd\", \"aba\", 2, 32.0])\n",
    "buffer.append([\"ad\", \"ab\", 3, 423.3])\n",
    "buffer.append([\"aa\", \"ab\", 4, 13.0])\n",
    "buffer.append([\"ad\", \"ab\", 5, 1.0])"
   ]
  },
  {
   "cell_type": "code",
   "execution_count": 22,
   "id": "c804dc0e",
   "metadata": {},
   "outputs": [
    {
     "data": {
      "text/plain": [
       "[['bfd', 'aba', 2, 32.0], ['aa', 'ab', 4, 13.0]]"
      ]
     },
     "execution_count": 22,
     "metadata": {},
     "output_type": "execute_result"
    }
   ],
   "source": [
    "transitions = random.sample(buffer, 2)\n",
    "transitions"
   ]
  },
  {
   "cell_type": "code",
   "execution_count": 27,
   "id": "baefa16b",
   "metadata": {},
   "outputs": [],
   "source": [
    "states, actions, rewards, dones = zip(*transitions)"
   ]
  },
  {
   "cell_type": "code",
   "execution_count": 28,
   "id": "143fac4b",
   "metadata": {},
   "outputs": [
    {
     "data": {
      "text/plain": [
       "('bfd', 'aa')"
      ]
     },
     "execution_count": 28,
     "metadata": {},
     "output_type": "execute_result"
    }
   ],
   "source": [
    "states"
   ]
  },
  {
   "cell_type": "code",
   "execution_count": 29,
   "id": "c3122b22",
   "metadata": {},
   "outputs": [
    {
     "data": {
      "text/plain": [
       "('aba', 'ab')"
      ]
     },
     "execution_count": 29,
     "metadata": {},
     "output_type": "execute_result"
    }
   ],
   "source": [
    "actions"
   ]
  },
  {
   "cell_type": "code",
   "execution_count": 30,
   "id": "bf60c479",
   "metadata": {},
   "outputs": [
    {
     "data": {
      "text/plain": [
       "(2, 4)"
      ]
     },
     "execution_count": 30,
     "metadata": {},
     "output_type": "execute_result"
    }
   ],
   "source": [
    "rewards"
   ]
  },
  {
   "cell_type": "code",
   "execution_count": 31,
   "id": "21624134",
   "metadata": {},
   "outputs": [
    {
     "data": {
      "text/plain": [
       "(32.0, 13.0)"
      ]
     },
     "execution_count": 31,
     "metadata": {},
     "output_type": "execute_result"
    }
   ],
   "source": [
    "dones"
   ]
  },
  {
   "cell_type": "code",
   "execution_count": null,
   "id": "21243391",
   "metadata": {},
   "outputs": [],
   "source": []
  }
 ],
 "metadata": {
  "kernelspec": {
   "display_name": "Python 3 (ipykernel)",
   "language": "python",
   "name": "python3"
  },
  "language_info": {
   "codemirror_mode": {
    "name": "ipython",
    "version": 3
   },
   "file_extension": ".py",
   "mimetype": "text/x-python",
   "name": "python",
   "nbconvert_exporter": "python",
   "pygments_lexer": "ipython3",
   "version": "3.10.11"
  }
 },
 "nbformat": 4,
 "nbformat_minor": 5
}
