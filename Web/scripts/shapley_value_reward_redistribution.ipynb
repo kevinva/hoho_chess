{
 "cells": [
  {
   "cell_type": "code",
   "execution_count": 27,
   "id": "3f1d59cf",
   "metadata": {},
   "outputs": [],
   "source": [
    "import os\n",
    "import sys\n",
    "\n",
    "root_dir = os.path.dirname(os.path.dirname(os.path.realpath('__file__')))\n",
    "model_dir = os.path.join(root_dir, \"model\")\n",
    "sys.path.append(root_dir)\n",
    "sys.path.append(model_dir)\n",
    "\n",
    "from collections import defaultdict\n",
    "import itertools\n",
    "import time\n",
    "import json\n",
    "import numpy as np\n",
    "import pandas as pd\n",
    "import matplotlib.pyplot as plt\n",
    "import hoho_utils\n",
    "\n",
    "os.environ['CUDA_VISIBLE_DEVICES']='1' \n",
    "plt.style.use('ggplot')"
   ]
  },
  {
   "cell_type": "markdown",
   "id": "1315eb2d",
   "metadata": {},
   "source": [
    "### 数据预处理"
   ]
  },
  {
   "cell_type": "code",
   "execution_count": 28,
   "id": "82348960",
   "metadata": {},
   "outputs": [],
   "source": [
    "def suffix_time():\n",
    "    current_time = time.time()\n",
    "    local_time = time.localtime(current_time)\n",
    "    time_str = time.strftime('%Y%m%d%H%M%S', local_time)\n",
    "    return time_str"
   ]
  },
  {
   "cell_type": "code",
   "execution_count": 29,
   "id": "9398ef0a",
   "metadata": {},
   "outputs": [
    {
     "data": {
      "text/plain": [
       "'KARBNPCkarbnpc'"
      ]
     },
     "execution_count": 29,
     "metadata": {},
     "output_type": "execute_result"
    }
   ],
   "source": [
    "#test\n",
    "hoho_utils.INDEXS_2_PIECES"
   ]
  },
  {
   "cell_type": "code",
   "execution_count": 30,
   "id": "6eacd7a1",
   "metadata": {},
   "outputs": [
    {
     "data": {
      "text/plain": [
       "'20230912215110'"
      ]
     },
     "execution_count": 30,
     "metadata": {},
     "output_type": "execute_result"
    }
   ],
   "source": [
    "suffix = suffix_time()\n",
    "suffix"
   ]
  },
  {
   "cell_type": "code",
   "execution_count": 31,
   "id": "d254e226",
   "metadata": {},
   "outputs": [
    {
     "name": "stdout",
     "output_type": "stream",
     "text": [
      "file_count: 338\n"
     ]
    }
   ],
   "source": [
    "data_dir = \"../output/data\"\n",
    "file_list = os.listdir(data_dir)\n",
    "file_count = len(file_list)\n",
    "item_list = list()\n",
    "\n",
    "print(f\"file_count: {file_count}\")\n",
    "\n",
    "for i, filename in enumerate(file_list):\n",
    "    file_path = os.path.join(data_dir, filename)\n",
    "    with open(file_path, \"r\") as file:\n",
    "        json_str = file.read()\n",
    "        matches = json.loads(json_str)\n",
    "        match_count = len(matches)\n",
    "\n",
    "        for j, match in enumerate(matches):\n",
    "#             print(f\"match: {match}\")\n",
    "#             break\n",
    "\n",
    "            base_id =  int(time.time() * 1000) + j\n",
    "            for k, round in enumerate(match):\n",
    "                match_id = f\"{i}-{j}\"\n",
    "                round_id = f\"{base_id}{k}\"\n",
    "                state = round[0]\n",
    "                action = round[2]\n",
    "                next_state = round[3]\n",
    "                chapture_list = round[6]\n",
    "                chaptures = ','.join(chapture_list)\n",
    "                chapture_reward = round[7]\n",
    "\n",
    "                win = 0\n",
    "                done = round[5]\n",
    "                if \"K\" in chapture_list:\n",
    "                    win = -1\n",
    "                    done = True\n",
    "                elif \"k\" in chapture_list:\n",
    "                    win = 1\n",
    "                    done = True\n",
    "\n",
    "                round_dict = {\"match_id\": match_id,\n",
    "                              \"round_id\": round_id,\n",
    "                              \"state\": state,\n",
    "                              \"action\":action,\n",
    "                              \"next_state\": next_state,\n",
    "                              \"done\": done,\n",
    "                              \"chaptures\": chaptures,\n",
    "                              \"chapture_reward\": chapture_reward,\n",
    "                              \"win\": win}\n",
    "                item_list.append(round_dict)\n",
    "\n",
    "                if win == 1 or win == -1:\n",
    "                    break"
   ]
  },
  {
   "cell_type": "code",
   "execution_count": 32,
   "id": "d9e97301",
   "metadata": {},
   "outputs": [],
   "source": [
    "data = pd.DataFrame(item_list)"
   ]
  },
  {
   "cell_type": "code",
   "execution_count": 33,
   "id": "7da54a64",
   "metadata": {},
   "outputs": [
    {
     "data": {
      "text/html": [
       "<div>\n",
       "<style scoped>\n",
       "    .dataframe tbody tr th:only-of-type {\n",
       "        vertical-align: middle;\n",
       "    }\n",
       "\n",
       "    .dataframe tbody tr th {\n",
       "        vertical-align: top;\n",
       "    }\n",
       "\n",
       "    .dataframe thead th {\n",
       "        text-align: right;\n",
       "    }\n",
       "</style>\n",
       "<table border=\"1\" class=\"dataframe\">\n",
       "  <thead>\n",
       "    <tr style=\"text-align: right;\">\n",
       "      <th></th>\n",
       "      <th>match_id</th>\n",
       "      <th>round_id</th>\n",
       "      <th>state</th>\n",
       "      <th>action</th>\n",
       "      <th>next_state</th>\n",
       "      <th>done</th>\n",
       "      <th>chaptures</th>\n",
       "      <th>chapture_reward</th>\n",
       "      <th>win</th>\n",
       "    </tr>\n",
       "  </thead>\n",
       "  <tbody>\n",
       "    <tr>\n",
       "      <th>0</th>\n",
       "      <td>0-0</td>\n",
       "      <td>16945266706620</td>\n",
       "      <td>RNBAKABNR/9/1C5C1/P1P1P1P1P/9/9/p1p1p1p1p/1c5c...</td>\n",
       "      <td>f0e1</td>\n",
       "      <td>RNBAK1BNR/4A4/1C5C1/P1P1P1P1P/9/9/p1p1p1p1p/1c...</td>\n",
       "      <td>False</td>\n",
       "      <td>N</td>\n",
       "      <td>-6.28</td>\n",
       "      <td>0</td>\n",
       "    </tr>\n",
       "    <tr>\n",
       "      <th>1</th>\n",
       "      <td>0-0</td>\n",
       "      <td>16945266706621</td>\n",
       "      <td>RNBAK1BcR/4A4/1C5C1/P1P1P1P1P/9/9/p1p1p1p1p/1c...</td>\n",
       "      <td>h2g2</td>\n",
       "      <td>RNBAK1BcR/4A4/1C4C2/P1P1P1P1P/9/9/p1p1p1p1p/1c...</td>\n",
       "      <td>True</td>\n",
       "      <td>K</td>\n",
       "      <td>-4.92</td>\n",
       "      <td>-1</td>\n",
       "    </tr>\n",
       "    <tr>\n",
       "      <th>2</th>\n",
       "      <td>0-1</td>\n",
       "      <td>16945266706630</td>\n",
       "      <td>RNBAKABNR/9/1C5C1/P1P1P1P1P/9/9/p1p1p1p1p/1c5c...</td>\n",
       "      <td>f0e1</td>\n",
       "      <td>RNBAK1BNR/4A4/1C5C1/P1P1P1P1P/9/9/p1p1p1p1p/1c...</td>\n",
       "      <td>False</td>\n",
       "      <td>N</td>\n",
       "      <td>-6.28</td>\n",
       "      <td>0</td>\n",
       "    </tr>\n",
       "    <tr>\n",
       "      <th>3</th>\n",
       "      <td>0-1</td>\n",
       "      <td>16945266706631</td>\n",
       "      <td>RNBAK1BcR/4A4/1C5C1/P1P1P1P1P/9/9/p1p1p1p1p/1c...</td>\n",
       "      <td>h2g2</td>\n",
       "      <td>RNBAK1BcR/4A4/1C4C2/P1P1P1P1P/9/9/p1p1p1p1p/1c...</td>\n",
       "      <td>True</td>\n",
       "      <td>K</td>\n",
       "      <td>-4.92</td>\n",
       "      <td>-1</td>\n",
       "    </tr>\n",
       "    <tr>\n",
       "      <th>4</th>\n",
       "      <td>0-2</td>\n",
       "      <td>16945266706640</td>\n",
       "      <td>RNBAKABNR/9/1C5C1/P1P1P1P1P/9/9/p1p1p1p1p/1c5c...</td>\n",
       "      <td>f0e1</td>\n",
       "      <td>RNBAK1BNR/4A4/1C5C1/P1P1P1P1P/9/9/p1p1p1p1p/1c...</td>\n",
       "      <td>False</td>\n",
       "      <td>N</td>\n",
       "      <td>-6.28</td>\n",
       "      <td>0</td>\n",
       "    </tr>\n",
       "    <tr>\n",
       "      <th>5</th>\n",
       "      <td>0-2</td>\n",
       "      <td>16945266706641</td>\n",
       "      <td>RNBAK1BcR/4A4/1C5C1/P1P1P1P1P/9/9/p1p1p1p1p/1c...</td>\n",
       "      <td>h2g2</td>\n",
       "      <td>RNBAK1BcR/4A4/1C4C2/P1P1P1P1P/9/9/p1p1p1p1p/1c...</td>\n",
       "      <td>True</td>\n",
       "      <td>K</td>\n",
       "      <td>-4.92</td>\n",
       "      <td>-1</td>\n",
       "    </tr>\n",
       "    <tr>\n",
       "      <th>6</th>\n",
       "      <td>0-3</td>\n",
       "      <td>16945266706650</td>\n",
       "      <td>RNBAKABNR/9/1C5C1/P1P1P1P1P/9/9/p1p1p1p1p/1c5c...</td>\n",
       "      <td>f0e1</td>\n",
       "      <td>RNBAK1BNR/4A4/1C5C1/P1P1P1P1P/9/9/p1p1p1p1p/1c...</td>\n",
       "      <td>False</td>\n",
       "      <td>N</td>\n",
       "      <td>-6.28</td>\n",
       "      <td>0</td>\n",
       "    </tr>\n",
       "    <tr>\n",
       "      <th>7</th>\n",
       "      <td>0-3</td>\n",
       "      <td>16945266706651</td>\n",
       "      <td>RNBAK1BcR/4A4/1C5C1/P1P1P1P1P/9/9/p1p1p1p1p/1c...</td>\n",
       "      <td>h2g2</td>\n",
       "      <td>RNBAK1BcR/4A4/1C4C2/P1P1P1P1P/9/9/p1p1p1p1p/1c...</td>\n",
       "      <td>True</td>\n",
       "      <td>K</td>\n",
       "      <td>-4.92</td>\n",
       "      <td>-1</td>\n",
       "    </tr>\n",
       "    <tr>\n",
       "      <th>8</th>\n",
       "      <td>0-4</td>\n",
       "      <td>16945266706660</td>\n",
       "      <td>RNBAKABNR/9/1C5C1/P1P1P1P1P/9/9/p1p1p1p1p/1c5c...</td>\n",
       "      <td>a0a1</td>\n",
       "      <td>1NBAKABNR/R8/1C5C1/P1P1P1P1P/9/9/p1p1p1p1p/1c5...</td>\n",
       "      <td>False</td>\n",
       "      <td>N</td>\n",
       "      <td>-6.28</td>\n",
       "      <td>0</td>\n",
       "    </tr>\n",
       "    <tr>\n",
       "      <th>9</th>\n",
       "      <td>0-4</td>\n",
       "      <td>16945266706661</td>\n",
       "      <td>1cBAKABNR/R8/1C5C1/P1P1P1P1P/9/9/p1p1p1p1p/7c1...</td>\n",
       "      <td>b2b4</td>\n",
       "      <td>1cBAKABNR/R8/7C1/P1P1P1P1P/1C7/9/p1p1p1p1p/7c1...</td>\n",
       "      <td>False</td>\n",
       "      <td></td>\n",
       "      <td>0.00</td>\n",
       "      <td>0</td>\n",
       "    </tr>\n",
       "    <tr>\n",
       "      <th>10</th>\n",
       "      <td>0-4</td>\n",
       "      <td>16945266706662</td>\n",
       "      <td>1cBAKABNR/R8/7C1/P1P1P1P1P/1C7/9/p1p1p1p1p/6nc...</td>\n",
       "      <td>e3e4</td>\n",
       "      <td>1cBAKABNR/R8/7C1/P1P3P1P/1C2P4/9/p1p1p1p1p/6nc...</td>\n",
       "      <td>False</td>\n",
       "      <td></td>\n",
       "      <td>0.00</td>\n",
       "      <td>0</td>\n",
       "    </tr>\n",
       "    <tr>\n",
       "      <th>11</th>\n",
       "      <td>0-4</td>\n",
       "      <td>16945266706663</td>\n",
       "      <td>1cBAKABNR/R8/7C1/P1P3P1P/1C2P4/9/p1p1p1p1p/2n3...</td>\n",
       "      <td>h2h4</td>\n",
       "      <td>1cBAKABNR/R8/9/P1P3P1P/1C2P2C1/9/p1p1p1p1p/2n3...</td>\n",
       "      <td>False</td>\n",
       "      <td></td>\n",
       "      <td>0.00</td>\n",
       "      <td>0</td>\n",
       "    </tr>\n",
       "    <tr>\n",
       "      <th>12</th>\n",
       "      <td>0-4</td>\n",
       "      <td>16945266706664</td>\n",
       "      <td>1cBAKABNR/R8/9/P1P3P1P/1C2P2C1/9/p1p1p1p1p/2n3...</td>\n",
       "      <td>b4b6</td>\n",
       "      <td>1cBAKABNR/R8/9/P1P3P1P/4P2C1/9/pCp1p1p1p/2n3nc...</td>\n",
       "      <td>False</td>\n",
       "      <td>C</td>\n",
       "      <td>-25.41</td>\n",
       "      <td>0</td>\n",
       "    </tr>\n",
       "    <tr>\n",
       "      <th>13</th>\n",
       "      <td>0-4</td>\n",
       "      <td>16945266706665</td>\n",
       "      <td>1cBAKABNR/R8/9/P1P3P1P/4P2C1/9/prp1p1p1p/2n3nc...</td>\n",
       "      <td>h4f4</td>\n",
       "      <td>1cBAKABNR/R8/9/P1P3P1P/4PC3/9/prp1p1p1p/2n3nc1...</td>\n",
       "      <td>False</td>\n",
       "      <td></td>\n",
       "      <td>0.00</td>\n",
       "      <td>0</td>\n",
       "    </tr>\n",
       "    <tr>\n",
       "      <th>14</th>\n",
       "      <td>0-4</td>\n",
       "      <td>16945266706666</td>\n",
       "      <td>1cBAKABNR/R8/9/P1P3P1P/4PC3/9/prp1p1p1p/2n3nc1...</td>\n",
       "      <td>i3i4</td>\n",
       "      <td>1cBAKABNR/R8/9/P1P3P2/4PC2P/9/prp1p1p1p/2n3nc1...</td>\n",
       "      <td>False</td>\n",
       "      <td></td>\n",
       "      <td>0.00</td>\n",
       "      <td>0</td>\n",
       "    </tr>\n",
       "    <tr>\n",
       "      <th>15</th>\n",
       "      <td>0-4</td>\n",
       "      <td>16945266706667</td>\n",
       "      <td>1cBAKABNR/R8/9/P1P3P2/4PC2P/6p2/prp1p3p/2n3nc1...</td>\n",
       "      <td>a1f1</td>\n",
       "      <td>1cBAKABNR/5R3/9/P1P3P2/4PC2P/6p2/prp1p3p/2n3nc...</td>\n",
       "      <td>False</td>\n",
       "      <td></td>\n",
       "      <td>0.00</td>\n",
       "      <td>0</td>\n",
       "    </tr>\n",
       "    <tr>\n",
       "      <th>16</th>\n",
       "      <td>0-4</td>\n",
       "      <td>16945266706668</td>\n",
       "      <td>1cBAKABNR/5R3/9/P1P3P2/4PC2P/5np2/prp1p3p/2n4c...</td>\n",
       "      <td>c0e2</td>\n",
       "      <td>1c1AKABNR/5R3/4B4/P1P3P2/4PC2P/5np2/prp1p3p/2n...</td>\n",
       "      <td>True</td>\n",
       "      <td>K</td>\n",
       "      <td>-4.92</td>\n",
       "      <td>-1</td>\n",
       "    </tr>\n",
       "    <tr>\n",
       "      <th>17</th>\n",
       "      <td>0-5</td>\n",
       "      <td>16945266706670</td>\n",
       "      <td>RNBAKABNR/9/1C5C1/P1P1P1P1P/9/9/p1p1p1p1p/1c5c...</td>\n",
       "      <td>f0e1</td>\n",
       "      <td>RNBAK1BNR/4A4/1C5C1/P1P1P1P1P/9/9/p1p1p1p1p/1c...</td>\n",
       "      <td>False</td>\n",
       "      <td>N</td>\n",
       "      <td>-6.28</td>\n",
       "      <td>0</td>\n",
       "    </tr>\n",
       "    <tr>\n",
       "      <th>18</th>\n",
       "      <td>0-5</td>\n",
       "      <td>16945266706671</td>\n",
       "      <td>RNBAK1BcR/4A4/1C5C1/P1P1P1P1P/9/9/p1p1p1p1p/1c...</td>\n",
       "      <td>h2g2</td>\n",
       "      <td>RNBAK1BcR/4A4/1C4C2/P1P1P1P1P/9/9/p1p1p1p1p/1c...</td>\n",
       "      <td>True</td>\n",
       "      <td>K</td>\n",
       "      <td>-4.92</td>\n",
       "      <td>-1</td>\n",
       "    </tr>\n",
       "    <tr>\n",
       "      <th>19</th>\n",
       "      <td>0-6</td>\n",
       "      <td>16945266706680</td>\n",
       "      <td>RNBAKABNR/9/1C5C1/P1P1P1P1P/9/9/p1p1p1p1p/1c5c...</td>\n",
       "      <td>f0e1</td>\n",
       "      <td>RNBAK1BNR/4A4/1C5C1/P1P1P1P1P/9/9/p1p1p1p1p/1c...</td>\n",
       "      <td>False</td>\n",
       "      <td>N</td>\n",
       "      <td>-6.28</td>\n",
       "      <td>0</td>\n",
       "    </tr>\n",
       "  </tbody>\n",
       "</table>\n",
       "</div>"
      ],
      "text/plain": [
       "   match_id        round_id  \\\n",
       "0       0-0  16945266706620   \n",
       "1       0-0  16945266706621   \n",
       "2       0-1  16945266706630   \n",
       "3       0-1  16945266706631   \n",
       "4       0-2  16945266706640   \n",
       "5       0-2  16945266706641   \n",
       "6       0-3  16945266706650   \n",
       "7       0-3  16945266706651   \n",
       "8       0-4  16945266706660   \n",
       "9       0-4  16945266706661   \n",
       "10      0-4  16945266706662   \n",
       "11      0-4  16945266706663   \n",
       "12      0-4  16945266706664   \n",
       "13      0-4  16945266706665   \n",
       "14      0-4  16945266706666   \n",
       "15      0-4  16945266706667   \n",
       "16      0-4  16945266706668   \n",
       "17      0-5  16945266706670   \n",
       "18      0-5  16945266706671   \n",
       "19      0-6  16945266706680   \n",
       "\n",
       "                                                state action  \\\n",
       "0   RNBAKABNR/9/1C5C1/P1P1P1P1P/9/9/p1p1p1p1p/1c5c...   f0e1   \n",
       "1   RNBAK1BcR/4A4/1C5C1/P1P1P1P1P/9/9/p1p1p1p1p/1c...   h2g2   \n",
       "2   RNBAKABNR/9/1C5C1/P1P1P1P1P/9/9/p1p1p1p1p/1c5c...   f0e1   \n",
       "3   RNBAK1BcR/4A4/1C5C1/P1P1P1P1P/9/9/p1p1p1p1p/1c...   h2g2   \n",
       "4   RNBAKABNR/9/1C5C1/P1P1P1P1P/9/9/p1p1p1p1p/1c5c...   f0e1   \n",
       "5   RNBAK1BcR/4A4/1C5C1/P1P1P1P1P/9/9/p1p1p1p1p/1c...   h2g2   \n",
       "6   RNBAKABNR/9/1C5C1/P1P1P1P1P/9/9/p1p1p1p1p/1c5c...   f0e1   \n",
       "7   RNBAK1BcR/4A4/1C5C1/P1P1P1P1P/9/9/p1p1p1p1p/1c...   h2g2   \n",
       "8   RNBAKABNR/9/1C5C1/P1P1P1P1P/9/9/p1p1p1p1p/1c5c...   a0a1   \n",
       "9   1cBAKABNR/R8/1C5C1/P1P1P1P1P/9/9/p1p1p1p1p/7c1...   b2b4   \n",
       "10  1cBAKABNR/R8/7C1/P1P1P1P1P/1C7/9/p1p1p1p1p/6nc...   e3e4   \n",
       "11  1cBAKABNR/R8/7C1/P1P3P1P/1C2P4/9/p1p1p1p1p/2n3...   h2h4   \n",
       "12  1cBAKABNR/R8/9/P1P3P1P/1C2P2C1/9/p1p1p1p1p/2n3...   b4b6   \n",
       "13  1cBAKABNR/R8/9/P1P3P1P/4P2C1/9/prp1p1p1p/2n3nc...   h4f4   \n",
       "14  1cBAKABNR/R8/9/P1P3P1P/4PC3/9/prp1p1p1p/2n3nc1...   i3i4   \n",
       "15  1cBAKABNR/R8/9/P1P3P2/4PC2P/6p2/prp1p3p/2n3nc1...   a1f1   \n",
       "16  1cBAKABNR/5R3/9/P1P3P2/4PC2P/5np2/prp1p3p/2n4c...   c0e2   \n",
       "17  RNBAKABNR/9/1C5C1/P1P1P1P1P/9/9/p1p1p1p1p/1c5c...   f0e1   \n",
       "18  RNBAK1BcR/4A4/1C5C1/P1P1P1P1P/9/9/p1p1p1p1p/1c...   h2g2   \n",
       "19  RNBAKABNR/9/1C5C1/P1P1P1P1P/9/9/p1p1p1p1p/1c5c...   f0e1   \n",
       "\n",
       "                                           next_state   done chaptures  \\\n",
       "0   RNBAK1BNR/4A4/1C5C1/P1P1P1P1P/9/9/p1p1p1p1p/1c...  False         N   \n",
       "1   RNBAK1BcR/4A4/1C4C2/P1P1P1P1P/9/9/p1p1p1p1p/1c...   True         K   \n",
       "2   RNBAK1BNR/4A4/1C5C1/P1P1P1P1P/9/9/p1p1p1p1p/1c...  False         N   \n",
       "3   RNBAK1BcR/4A4/1C4C2/P1P1P1P1P/9/9/p1p1p1p1p/1c...   True         K   \n",
       "4   RNBAK1BNR/4A4/1C5C1/P1P1P1P1P/9/9/p1p1p1p1p/1c...  False         N   \n",
       "5   RNBAK1BcR/4A4/1C4C2/P1P1P1P1P/9/9/p1p1p1p1p/1c...   True         K   \n",
       "6   RNBAK1BNR/4A4/1C5C1/P1P1P1P1P/9/9/p1p1p1p1p/1c...  False         N   \n",
       "7   RNBAK1BcR/4A4/1C4C2/P1P1P1P1P/9/9/p1p1p1p1p/1c...   True         K   \n",
       "8   1NBAKABNR/R8/1C5C1/P1P1P1P1P/9/9/p1p1p1p1p/1c5...  False         N   \n",
       "9   1cBAKABNR/R8/7C1/P1P1P1P1P/1C7/9/p1p1p1p1p/7c1...  False             \n",
       "10  1cBAKABNR/R8/7C1/P1P3P1P/1C2P4/9/p1p1p1p1p/6nc...  False             \n",
       "11  1cBAKABNR/R8/9/P1P3P1P/1C2P2C1/9/p1p1p1p1p/2n3...  False             \n",
       "12  1cBAKABNR/R8/9/P1P3P1P/4P2C1/9/pCp1p1p1p/2n3nc...  False         C   \n",
       "13  1cBAKABNR/R8/9/P1P3P1P/4PC3/9/prp1p1p1p/2n3nc1...  False             \n",
       "14  1cBAKABNR/R8/9/P1P3P2/4PC2P/9/prp1p1p1p/2n3nc1...  False             \n",
       "15  1cBAKABNR/5R3/9/P1P3P2/4PC2P/6p2/prp1p3p/2n3nc...  False             \n",
       "16  1c1AKABNR/5R3/4B4/P1P3P2/4PC2P/5np2/prp1p3p/2n...   True         K   \n",
       "17  RNBAK1BNR/4A4/1C5C1/P1P1P1P1P/9/9/p1p1p1p1p/1c...  False         N   \n",
       "18  RNBAK1BcR/4A4/1C4C2/P1P1P1P1P/9/9/p1p1p1p1p/1c...   True         K   \n",
       "19  RNBAK1BNR/4A4/1C5C1/P1P1P1P1P/9/9/p1p1p1p1p/1c...  False         N   \n",
       "\n",
       "    chapture_reward  win  \n",
       "0             -6.28    0  \n",
       "1             -4.92   -1  \n",
       "2             -6.28    0  \n",
       "3             -4.92   -1  \n",
       "4             -6.28    0  \n",
       "5             -4.92   -1  \n",
       "6             -6.28    0  \n",
       "7             -4.92   -1  \n",
       "8             -6.28    0  \n",
       "9              0.00    0  \n",
       "10             0.00    0  \n",
       "11             0.00    0  \n",
       "12           -25.41    0  \n",
       "13             0.00    0  \n",
       "14             0.00    0  \n",
       "15             0.00    0  \n",
       "16            -4.92   -1  \n",
       "17            -6.28    0  \n",
       "18            -4.92   -1  \n",
       "19            -6.28    0  "
      ]
     },
     "execution_count": 33,
     "metadata": {},
     "output_type": "execute_result"
    }
   ],
   "source": [
    "data.head(20)"
   ]
  },
  {
   "cell_type": "code",
   "execution_count": 34,
   "id": "f96dc14e",
   "metadata": {},
   "outputs": [
    {
     "data": {
      "text/plain": [
       "(24972, 1, 10052)"
      ]
     },
     "execution_count": 34,
     "metadata": {},
     "output_type": "execute_result"
    }
   ],
   "source": [
    "len(data[data[\"win\"] == 0]), len(data[data[\"win\"] == 1]), len(data[data[\"win\"] == -1])"
   ]
  },
  {
   "cell_type": "code",
   "execution_count": 49,
   "id": "602c8641",
   "metadata": {},
   "outputs": [
    {
     "data": {
      "image/png": "[encoded data removed]",
      "text/plain": [
       "<Figure size 720x432 with 1 Axes>"
      ]
     },
     "metadata": {},
     "output_type": "display_data"
    }
   ],
   "source": [
    "### 看看对战轮数的分布\n",
    "\n",
    "data_round_count = data.groupby([\"match_id\"], as_index = True)[\"round_id\"].count().reset_index(name = \"count\")\n",
    "# data_round_count\n",
    "\n",
    "plt.figure(figsize = (10, 6))\n",
    "plt.hist(data_round_count[\"count\"].values)\n",
    "plt.show()"
   ]
  },
  {
   "cell_type": "code",
   "execution_count": 35,
   "id": "99d66205",
   "metadata": {},
   "outputs": [],
   "source": [
    "# data2 = data.groupby([\"match_id\"], as_index = False).agg({\"action\": lambda x: \".\".join(x), \"chapture_reward\": sum})\n",
    "\n",
    "### hoho_todo: 如果出现重复动作，如何分配？\n",
    "data2 = data.groupby([\"match_id\"], as_index = False).agg({\"action\": lambda x: \",\".join(x.unique()), \"chapture_reward\": sum, \"win\": min})\n",
    "data2.rename(columns = {\"action\": \"action_sequence\", \"chapture_reward\": \"chapture_value\"}, inplace = True)"
   ]
  },
  {
   "cell_type": "code",
   "execution_count": 36,
   "id": "0c57ba73",
   "metadata": {},
   "outputs": [
    {
     "data": {
      "text/html": [
       "<div>\n",
       "<style scoped>\n",
       "    .dataframe tbody tr th:only-of-type {\n",
       "        vertical-align: middle;\n",
       "    }\n",
       "\n",
       "    .dataframe tbody tr th {\n",
       "        vertical-align: top;\n",
       "    }\n",
       "\n",
       "    .dataframe thead th {\n",
       "        text-align: right;\n",
       "    }\n",
       "</style>\n",
       "<table border=\"1\" class=\"dataframe\">\n",
       "  <thead>\n",
       "    <tr style=\"text-align: right;\">\n",
       "      <th></th>\n",
       "      <th>match_id</th>\n",
       "      <th>action_sequence</th>\n",
       "      <th>chapture_value</th>\n",
       "      <th>win</th>\n",
       "    </tr>\n",
       "  </thead>\n",
       "  <tbody>\n",
       "    <tr>\n",
       "      <th>0</th>\n",
       "      <td>0-0</td>\n",
       "      <td>f0e1,h2g2</td>\n",
       "      <td>-11.20</td>\n",
       "      <td>-1</td>\n",
       "    </tr>\n",
       "    <tr>\n",
       "      <th>1</th>\n",
       "      <td>0-1</td>\n",
       "      <td>f0e1,h2g2</td>\n",
       "      <td>-11.20</td>\n",
       "      <td>-1</td>\n",
       "    </tr>\n",
       "    <tr>\n",
       "      <th>2</th>\n",
       "      <td>0-10</td>\n",
       "      <td>e0e1,e1f1,i0i2,h2g2,a0a1,b2b5,i2i0,b5h5</td>\n",
       "      <td>-39.07</td>\n",
       "      <td>-1</td>\n",
       "    </tr>\n",
       "    <tr>\n",
       "      <th>3</th>\n",
       "      <td>0-11</td>\n",
       "      <td>f0e1,h2g2</td>\n",
       "      <td>-11.20</td>\n",
       "      <td>-1</td>\n",
       "    </tr>\n",
       "    <tr>\n",
       "      <th>4</th>\n",
       "      <td>0-12</td>\n",
       "      <td>e0e1,b2b4,h2e2,e2g2,c0a2,b0d1,e1e2,a2c4,e2f2,g...</td>\n",
       "      <td>-101.55</td>\n",
       "      <td>-1</td>\n",
       "    </tr>\n",
       "    <tr>\n",
       "      <th>...</th>\n",
       "      <td>...</td>\n",
       "      <td>...</td>\n",
       "      <td>...</td>\n",
       "      <td>...</td>\n",
       "    </tr>\n",
       "    <tr>\n",
       "      <th>10049</th>\n",
       "      <td>99-5</td>\n",
       "      <td>f0e1,h2g2</td>\n",
       "      <td>-11.20</td>\n",
       "      <td>-1</td>\n",
       "    </tr>\n",
       "    <tr>\n",
       "      <th>10050</th>\n",
       "      <td>99-6</td>\n",
       "      <td>e0e1,h2d2,d2d5,b2g2,g0i2,a3a4,a4a5,a0a5,b0c2,g...</td>\n",
       "      <td>-99.55</td>\n",
       "      <td>-1</td>\n",
       "    </tr>\n",
       "    <tr>\n",
       "      <th>10051</th>\n",
       "      <td>99-7</td>\n",
       "      <td>f0e1,h2g2</td>\n",
       "      <td>-11.20</td>\n",
       "      <td>-1</td>\n",
       "    </tr>\n",
       "    <tr>\n",
       "      <th>10052</th>\n",
       "      <td>99-8</td>\n",
       "      <td>f0e1,h2g2</td>\n",
       "      <td>-11.20</td>\n",
       "      <td>-1</td>\n",
       "    </tr>\n",
       "    <tr>\n",
       "      <th>10053</th>\n",
       "      <td>99-9</td>\n",
       "      <td>f0e1,h2h5</td>\n",
       "      <td>-11.20</td>\n",
       "      <td>-1</td>\n",
       "    </tr>\n",
       "  </tbody>\n",
       "</table>\n",
       "<p>10054 rows × 4 columns</p>\n",
       "</div>"
      ],
      "text/plain": [
       "      match_id                                    action_sequence  \\\n",
       "0          0-0                                          f0e1,h2g2   \n",
       "1          0-1                                          f0e1,h2g2   \n",
       "2         0-10            e0e1,e1f1,i0i2,h2g2,a0a1,b2b5,i2i0,b5h5   \n",
       "3         0-11                                          f0e1,h2g2   \n",
       "4         0-12  e0e1,b2b4,h2e2,e2g2,c0a2,b0d1,e1e2,a2c4,e2f2,g...   \n",
       "...        ...                                                ...   \n",
       "10049     99-5                                          f0e1,h2g2   \n",
       "10050     99-6  e0e1,h2d2,d2d5,b2g2,g0i2,a3a4,a4a5,a0a5,b0c2,g...   \n",
       "10051     99-7                                          f0e1,h2g2   \n",
       "10052     99-8                                          f0e1,h2g2   \n",
       "10053     99-9                                          f0e1,h2h5   \n",
       "\n",
       "       chapture_value  win  \n",
       "0              -11.20   -1  \n",
       "1              -11.20   -1  \n",
       "2              -39.07   -1  \n",
       "3              -11.20   -1  \n",
       "4             -101.55   -1  \n",
       "...               ...  ...  \n",
       "10049          -11.20   -1  \n",
       "10050          -99.55   -1  \n",
       "10051          -11.20   -1  \n",
       "10052          -11.20   -1  \n",
       "10053          -11.20   -1  \n",
       "\n",
       "[10054 rows x 4 columns]"
      ]
     },
     "execution_count": 36,
     "metadata": {},
     "output_type": "execute_result"
    }
   ],
   "source": [
    "data2"
   ]
  },
  {
   "cell_type": "code",
   "execution_count": 37,
   "id": "50c3e97e",
   "metadata": {},
   "outputs": [],
   "source": [
    "data3 = data2.groupby(\"action_sequence\", as_index = False).agg({\"chapture_value\": lambda x: x.mean(), \"win\": sum})\n",
    "data3.rename(columns = {\"win\": \"win_count\"}, inplace = True)"
   ]
  },
  {
   "cell_type": "code",
   "execution_count": 38,
   "id": "7bd28adf",
   "metadata": {},
   "outputs": [
    {
     "data": {
      "text/html": [
       "<div>\n",
       "<style scoped>\n",
       "    .dataframe tbody tr th:only-of-type {\n",
       "        vertical-align: middle;\n",
       "    }\n",
       "\n",
       "    .dataframe tbody tr th {\n",
       "        vertical-align: top;\n",
       "    }\n",
       "\n",
       "    .dataframe thead th {\n",
       "        text-align: right;\n",
       "    }\n",
       "</style>\n",
       "<table border=\"1\" class=\"dataframe\">\n",
       "  <thead>\n",
       "    <tr style=\"text-align: right;\">\n",
       "      <th></th>\n",
       "      <th>action_sequence</th>\n",
       "      <th>chapture_value</th>\n",
       "      <th>win_count</th>\n",
       "    </tr>\n",
       "  </thead>\n",
       "  <tbody>\n",
       "    <tr>\n",
       "      <th>0</th>\n",
       "      <td>a0a1,a1c1,b2b8,c1f1,f1f8,c3c4,g0i2,e3e4,c0a2</td>\n",
       "      <td>-96.17</td>\n",
       "      <td>-1</td>\n",
       "    </tr>\n",
       "    <tr>\n",
       "      <th>1</th>\n",
       "      <td>a0a1,b2b4,a1b1,h2d2,g0e2,b1f1,d0e1,e1f2</td>\n",
       "      <td>-37.61</td>\n",
       "      <td>-1</td>\n",
       "    </tr>\n",
       "    <tr>\n",
       "      <th>2</th>\n",
       "      <td>a0a1,b2b4,a1b1,i3i4,b1e1,e1d1,h2b2,g3g4</td>\n",
       "      <td>-37.61</td>\n",
       "      <td>-1</td>\n",
       "    </tr>\n",
       "    <tr>\n",
       "      <th>3</th>\n",
       "      <td>a0a1,b2b4,a1d1,d1a1,a1f1,h2h5,h0i2,f0e1,f1f6,f...</td>\n",
       "      <td>-105.37</td>\n",
       "      <td>-2</td>\n",
       "    </tr>\n",
       "    <tr>\n",
       "      <th>4</th>\n",
       "      <td>a0a1,b2b4,a1d1,d1a1,f0e1,h2h4,h0i2,c0a2</td>\n",
       "      <td>-62.02</td>\n",
       "      <td>-1</td>\n",
       "    </tr>\n",
       "    <tr>\n",
       "      <th>...</th>\n",
       "      <td>...</td>\n",
       "      <td>...</td>\n",
       "      <td>...</td>\n",
       "    </tr>\n",
       "    <tr>\n",
       "      <th>805</th>\n",
       "      <td>f0e1,g0e2,h2h7,b2b3,a0a1,a1a2</td>\n",
       "      <td>-49.45</td>\n",
       "      <td>-2</td>\n",
       "    </tr>\n",
       "    <tr>\n",
       "      <th>806</th>\n",
       "      <td>f0e1,g0e2,h2h7,b2b9,h7e7,a3a4,a0a2,a2a0,g3g4</td>\n",
       "      <td>-87.71</td>\n",
       "      <td>-1</td>\n",
       "    </tr>\n",
       "    <tr>\n",
       "      <th>807</th>\n",
       "      <td>f0e1,h2g2</td>\n",
       "      <td>-11.20</td>\n",
       "      <td>-7811</td>\n",
       "    </tr>\n",
       "    <tr>\n",
       "      <th>808</th>\n",
       "      <td>f0e1,h2h5</td>\n",
       "      <td>-11.20</td>\n",
       "      <td>-363</td>\n",
       "    </tr>\n",
       "    <tr>\n",
       "      <th>809</th>\n",
       "      <td>f0e1,h2h6</td>\n",
       "      <td>-11.20</td>\n",
       "      <td>-11</td>\n",
       "    </tr>\n",
       "  </tbody>\n",
       "</table>\n",
       "<p>810 rows × 3 columns</p>\n",
       "</div>"
      ],
      "text/plain": [
       "                                       action_sequence  chapture_value  \\\n",
       "0         a0a1,a1c1,b2b8,c1f1,f1f8,c3c4,g0i2,e3e4,c0a2          -96.17   \n",
       "1              a0a1,b2b4,a1b1,h2d2,g0e2,b1f1,d0e1,e1f2          -37.61   \n",
       "2              a0a1,b2b4,a1b1,i3i4,b1e1,e1d1,h2b2,g3g4          -37.61   \n",
       "3    a0a1,b2b4,a1d1,d1a1,a1f1,h2h5,h0i2,f0e1,f1f6,f...         -105.37   \n",
       "4              a0a1,b2b4,a1d1,d1a1,f0e1,h2h4,h0i2,c0a2          -62.02   \n",
       "..                                                 ...             ...   \n",
       "805                      f0e1,g0e2,h2h7,b2b3,a0a1,a1a2          -49.45   \n",
       "806       f0e1,g0e2,h2h7,b2b9,h7e7,a3a4,a0a2,a2a0,g3g4          -87.71   \n",
       "807                                          f0e1,h2g2          -11.20   \n",
       "808                                          f0e1,h2h5          -11.20   \n",
       "809                                          f0e1,h2h6          -11.20   \n",
       "\n",
       "     win_count  \n",
       "0           -1  \n",
       "1           -1  \n",
       "2           -1  \n",
       "3           -2  \n",
       "4           -1  \n",
       "..         ...  \n",
       "805         -2  \n",
       "806         -1  \n",
       "807      -7811  \n",
       "808       -363  \n",
       "809        -11  \n",
       "\n",
       "[810 rows x 3 columns]"
      ]
     },
     "execution_count": 38,
     "metadata": {},
     "output_type": "execute_result"
    }
   ],
   "source": [
    "data3"
   ]
  },
  {
   "cell_type": "code",
   "execution_count": 39,
   "id": "50f63a11",
   "metadata": {},
   "outputs": [],
   "source": [
    "actions_list = data3[\"action_sequence\"].values.tolist()\n",
    "# list(map(lambda x: x.split(\",\"), actions_list))"
   ]
  },
  {
   "cell_type": "code",
   "execution_count": 40,
   "id": "b03d9f50",
   "metadata": {},
   "outputs": [],
   "source": [
    "# demo\n",
    "# test_list = [\"e0e1\", \"e1f1\", \"i0i2\", \"h2g2\", \"a0a1\", \"b2b5\", \"i2i0\", \"b5h5\"]\n",
    "# sorted(test_list)\n",
    "# subsets(test_list)"
   ]
  },
  {
   "cell_type": "code",
   "execution_count": 41,
   "id": "71f60215",
   "metadata": {},
   "outputs": [],
   "source": [
    "# demo\n",
    "# test_list2 = [\"e0e1\", \"e1f1\", \"e0e1\"]\n",
    "# frozenset(test_list2)"
   ]
  },
  {
   "cell_type": "markdown",
   "id": "1042e5f2",
   "metadata": {},
   "source": [
    "### 计算shapley value"
   ]
  },
  {
   "cell_type": "code",
   "execution_count": 125,
   "id": "46316f11",
   "metadata": {},
   "outputs": [],
   "source": [
    "from itertools import chain, combinations\n",
    "from tqdm import tqdm\n",
    "from collections import Counter, defaultdict\n",
    "\n",
    "\n",
    "class SimplifiedShapleyAttributionModel:\n",
    "    \n",
    "    def powerset(self, x):\n",
    "        s = list(x)\n",
    "        return chain.from_iterable(combinations(s, r) for r in range(len(s) + 1))\n",
    "\n",
    "    \n",
    "    def _phi(self, channel_index):\n",
    "        S_channel = [k for k in self.journeys.keys() if channel_index in k]\n",
    "        score = 0\n",
    "        print(f\"Computing phi for channel {channel_index}...\")\n",
    "        for S in tqdm(S_channel):\n",
    "            score += self.journeys[S] / len(S)\n",
    "        print(f\"Attribution score for channel {channel_index}: {score:.2f}\")\n",
    "        print()\n",
    "        return score\n",
    "\n",
    "    \n",
    "    def attribute(self, df):\n",
    "        actions_list = data3[\"action_sequence\"].values.tolist()\n",
    "        journeys_list = list(map(lambda x: x.split(\",\"), actions_list))\n",
    "        \n",
    "        self.P = set(chain(*journeys_list))\n",
    "#         print(f\"self.P: {self.P}\")\n",
    "        print(\"Running Simplified Shapley Attribution Model...\")\n",
    "        print(f\"Found {len(self.P)} unique channels!\")\n",
    "        \n",
    "        print(\"Computing journey statistics...\")\n",
    "        value_dict = defaultdict(int)\n",
    "        for i in range(len(df)):\n",
    "            row = df.iloc[i]\n",
    "            key = frozenset(row[\"action_sequence\"].split(\",\"))\n",
    "            value = row[\"win_count\"]         # 用所赢局数做奖励函数（负数表示所输局数）\n",
    "#             value = row[\"chapture_value\"]  # 用所吃棋子棋力做奖励函数（负数表示被吃棋子）\n",
    "            value_dict[key] += value\n",
    "        \n",
    "        self.journeys = value_dict\n",
    "        \n",
    "#         print(f\"self.journeys: {self.journeys}\")\n",
    "        \n",
    "        print(f\"Computing attributions...\")\n",
    "        print()\n",
    "        return {j: self._phi(j) for j in self.P}"
   ]
  },
  {
   "cell_type": "code",
   "execution_count": 126,
   "id": "c5f23ac0",
   "metadata": {},
   "outputs": [
    {
     "name": "stdout",
     "output_type": "stream",
     "text": [
      "Running Simplified Shapley Attribution Model...\n",
      "Found 670 unique channels!\n",
      "Computing journey statistics...\n",
      "Computing attributions...\n",
      "\n",
      "Computing phi for channel e2f2...\n"
     ]
    },
    {
     "name": "stderr",
     "output_type": "stream",
     "text": [
      "100%|███████████████████████████████████████| 28/28 [00:00<00:00, 28062.25it/s]\n"
     ]
    },
    {
     "name": "stdout",
     "output_type": "stream",
     "text": [
      "Attribution score for channel e2f2: -5.82\n",
      "\n",
      "Computing phi for channel g2e1...\n"
     ]
    },
    {
     "name": "stderr",
     "output_type": "stream",
     "text": [
      "100%|████████████████████████████████████████████████████| 4/4 [00:00<?, ?it/s]\n"
     ]
    },
    {
     "name": "stdout",
     "output_type": "stream",
     "text": [
      "Attribution score for channel g2e1: -0.94\n",
      "\n",
      "Computing phi for channel b0c0...\n"
     ]
    },
    {
     "name": "stderr",
     "output_type": "stream",
     "text": [
      "100%|████████████████████████████████████████████████████| 2/2 [00:00<?, ?it/s]\n"
     ]
    },
    {
     "name": "stdout",
     "output_type": "stream",
     "text": [
      "Attribution score for channel b0c0: -0.17\n",
      "\n",
      "Computing phi for channel h2a2...\n"
     ]
    },
    {
     "name": "stderr",
     "output_type": "stream",
     "text": [
      "100%|██████████████████████████████████████████| 4/4 [00:00<00:00, 4010.81it/s]\n"
     ]
    },
    {
     "name": "stdout",
     "output_type": "stream",
     "text": [
      "Attribution score for channel h2a2: -0.51\n",
      "\n",
      "Computing phi for channel a0a5...\n"
     ]
    },
    {
     "name": "stderr",
     "output_type": "stream",
     "text": [
      "100%|████████████████████████████████████████████████████| 1/1 [00:00<?, ?it/s]\n"
     ]
    },
    {
     "name": "stdout",
     "output_type": "stream",
     "text": [
      "Attribution score for channel a0a5: -0.08\n",
      "\n",
      "Computing phi for channel b6b0...\n"
     ]
    },
    {
     "name": "stderr",
     "output_type": "stream",
     "text": [
      "100%|████████████████████████████████████████████████████| 2/2 [00:00<?, ?it/s]\n"
     ]
    },
    {
     "name": "stdout",
     "output_type": "stream",
     "text": [
      "Attribution score for channel b6b0: -0.10\n",
      "\n",
      "Computing phi for channel b6b3...\n"
     ]
    },
    {
     "name": "stderr",
     "output_type": "stream",
     "text": [
      "100%|████████████████████████████████████████████████████| 4/4 [00:00<?, ?it/s]\n"
     ]
    },
    {
     "name": "stdout",
     "output_type": "stream",
     "text": [
      "Attribution score for channel b6b3: -0.25\n",
      "\n",
      "Computing phi for channel f6f0...\n"
     ]
    },
    {
     "name": "stderr",
     "output_type": "stream",
     "text": [
      "100%|████████████████████████████████████████████████████| 2/2 [00:00<?, ?it/s]\n"
     ]
    },
    {
     "name": "stdout",
     "output_type": "stream",
     "text": [
      "Attribution score for channel f6f0: -0.20\n",
      "\n",
      "Computing phi for channel i1h3...\n"
     ]
    },
    {
     "name": "stderr",
     "output_type": "stream",
     "text": [
      "100%|████████████████████████████████████████████████████| 1/1 [00:00<?, ?it/s]\n"
     ]
    },
    {
     "name": "stdout",
     "output_type": "stream",
     "text": [
      "Attribution score for channel i1h3: -0.08\n",
      "\n",
      "Computing phi for channel c1c2...\n"
     ]
    },
    {
     "name": "stderr",
     "output_type": "stream",
     "text": [
      "100%|████████████████████████████████████████████████████| 5/5 [00:00<?, ?it/s]\n"
     ]
    },
    {
     "name": "stdout",
     "output_type": "stream",
     "text": [
      "Attribution score for channel c1c2: -0.45\n",
      "\n",
      "Computing phi for channel b2c0...\n"
     ]
    },
    {
     "name": "stderr",
     "output_type": "stream",
     "text": [
      "100%|████████████████████████████████████████████████████| 2/2 [00:00<?, ?it/s]\n"
     ]
    },
    {
     "name": "stdout",
     "output_type": "stream",
     "text": [
      "Attribution score for channel b2c0: -0.79\n",
      "\n",
      "Computing phi for channel h2h0...\n"
     ]
    },
    {
     "name": "stderr",
     "output_type": "stream",
     "text": [
      "100%|██████████████████████████████████████████████████| 27/27 [00:00<?, ?it/s]\n"
     ]
    },
    {
     "name": "stdout",
     "output_type": "stream",
     "text": [
      "Attribution score for channel h2h0: -6.24\n",
      "\n",
      "Computing phi for channel b4b5...\n"
     ]
    },
    {
     "name": "stderr",
     "output_type": "stream",
     "text": [
      "100%|██████████████████████████████████████████████████| 14/14 [00:00<?, ?it/s]\n"
     ]
    },
    {
     "name": "stdout",
     "output_type": "stream",
     "text": [
      "Attribution score for channel b4b5: -1.28\n",
      "\n",
      "Computing phi for channel d2d6...\n"
     ]
    },
    {
     "name": "stderr",
     "output_type": "stream",
     "text": [
      "100%|████████████████████████████████████████████████████| 8/8 [00:00<?, ?it/s]\n"
     ]
    },
    {
     "name": "stdout",
     "output_type": "stream",
     "text": [
      "Attribution score for channel d2d6: -0.96\n",
      "\n",
      "Computing phi for channel e0c1...\n"
     ]
    },
    {
     "name": "stderr",
     "output_type": "stream",
     "text": [
      "100%|████████████████████████████████████████████████████| 1/1 [00:00<?, ?it/s]\n"
     ]
    },
    {
     "name": "stdout",
     "output_type": "stream",
     "text": [
      "Attribution score for channel e0c1: -0.06\n",
      "\n",
      "Computing phi for channel b4h4...\n"
     ]
    },
    {
     "name": "stderr",
     "output_type": "stream",
     "text": [
      "100%|██████████████████████████████████████████| 6/6 [00:00<00:00, 6011.90it/s]\n"
     ]
    },
    {
     "name": "stdout",
     "output_type": "stream",
     "text": [
      "Attribution score for channel b4h4: -0.63\n",
      "\n",
      "Computing phi for channel d2d5...\n"
     ]
    },
    {
     "name": "stderr",
     "output_type": "stream",
     "text": [
      "100%|██████████████████████████████████████████████████| 10/10 [00:00<?, ?it/s]\n"
     ]
    },
    {
     "name": "stdout",
     "output_type": "stream",
     "text": [
      "Attribution score for channel d2d5: -0.85\n",
      "\n",
      "Computing phi for channel e4g4...\n"
     ]
    },
    {
     "name": "stderr",
     "output_type": "stream",
     "text": [
      "100%|████████████████████████████████████████████████████| 5/5 [00:00<?, ?it/s]\n"
     ]
    },
    {
     "name": "stdout",
     "output_type": "stream",
     "text": [
      "Attribution score for channel e4g4: -0.37\n",
      "\n",
      "Computing phi for channel h5h3...\n"
     ]
    },
    {
     "name": "stderr",
     "output_type": "stream",
     "text": [
      "100%|████████████████████████████████████████████████████| 1/1 [00:00<?, ?it/s]\n"
     ]
    },
    {
     "name": "stdout",
     "output_type": "stream",
     "text": [
      "Attribution score for channel h5h3: -0.07\n",
      "\n",
      "Computing phi for channel b2d2...\n"
     ]
    },
    {
     "name": "stderr",
     "output_type": "stream",
     "text": [
      "100%|██████████████████████████████████████████████████| 27/27 [00:00<?, ?it/s]\n"
     ]
    },
    {
     "name": "stdout",
     "output_type": "stream",
     "text": [
      "Attribution score for channel b2d2: -6.22\n",
      "\n",
      "Computing phi for channel a2a1...\n"
     ]
    },
    {
     "name": "stderr",
     "output_type": "stream",
     "text": [
      "100%|██████████████████████████████████████████████████| 19/19 [00:00<?, ?it/s]\n"
     ]
    },
    {
     "name": "stdout",
     "output_type": "stream",
     "text": [
      "Attribution score for channel a2a1: -3.40\n",
      "\n",
      "Computing phi for channel b1c1...\n"
     ]
    },
    {
     "name": "stderr",
     "output_type": "stream",
     "text": [
      "100%|██████████████████████████████████████████| 4/4 [00:00<00:00, 4017.53it/s]\n"
     ]
    },
    {
     "name": "stdout",
     "output_type": "stream",
     "text": [
      "Attribution score for channel b1c1: -0.68\n",
      "\n",
      "Computing phi for channel c2a2...\n"
     ]
    },
    {
     "name": "stderr",
     "output_type": "stream",
     "text": [
      "100%|██████████████████████████████████████████| 3/3 [00:00<00:00, 3010.27it/s]\n"
     ]
    },
    {
     "name": "stdout",
     "output_type": "stream",
     "text": [
      "Attribution score for channel c2a2: -0.19\n",
      "\n",
      "Computing phi for channel d7c7...\n"
     ]
    },
    {
     "name": "stderr",
     "output_type": "stream",
     "text": [
      "100%|████████████████████████████████████████████████████| 2/2 [00:00<?, ?it/s]\n"
     ]
    },
    {
     "name": "stdout",
     "output_type": "stream",
     "text": [
      "Attribution score for channel d7c7: -0.11\n",
      "\n",
      "Computing phi for channel b3b5...\n"
     ]
    },
    {
     "name": "stderr",
     "output_type": "stream",
     "text": [
      "100%|████████████████████████████████████████████████████| 7/7 [00:00<?, ?it/s]\n"
     ]
    },
    {
     "name": "stdout",
     "output_type": "stream",
     "text": [
      "Attribution score for channel b3b5: -1.75\n",
      "\n",
      "Computing phi for channel b4i4...\n"
     ]
    },
    {
     "name": "stderr",
     "output_type": "stream",
     "text": [
      "100%|██████████████████████████████████████████| 3/3 [00:00<00:00, 3009.55it/s]\n"
     ]
    },
    {
     "name": "stdout",
     "output_type": "stream",
     "text": [
      "Attribution score for channel b4i4: -0.18\n",
      "\n",
      "Computing phi for channel h1h8...\n"
     ]
    },
    {
     "name": "stderr",
     "output_type": "stream",
     "text": [
      "100%|████████████████████████████████████████████████████| 1/1 [00:00<?, ?it/s]\n"
     ]
    },
    {
     "name": "stdout",
     "output_type": "stream",
     "text": [
      "Attribution score for channel h1h8: -0.80\n",
      "\n",
      "Computing phi for channel a5b5...\n"
     ]
    },
    {
     "name": "stderr",
     "output_type": "stream",
     "text": [
      "100%|████████████████████████████████████████████████████| 1/1 [00:00<?, ?it/s]\n"
     ]
    },
    {
     "name": "stdout",
     "output_type": "stream",
     "text": [
      "Attribution score for channel a5b5: -0.11\n",
      "\n",
      "Computing phi for channel c1g1...\n"
     ]
    },
    {
     "name": "stderr",
     "output_type": "stream",
     "text": [
      "100%|████████████████████████████████████████████████████| 3/3 [00:00<?, ?it/s]\n"
     ]
    },
    {
     "name": "stdout",
     "output_type": "stream",
     "text": [
      "Attribution score for channel c1g1: -0.32\n",
      "\n",
      "Computing phi for channel a2g2...\n"
     ]
    },
    {
     "name": "stderr",
     "output_type": "stream",
     "text": [
      "100%|████████████████████████████████████████████████████| 5/5 [00:00<?, ?it/s]\n"
     ]
    },
    {
     "name": "stdout",
     "output_type": "stream",
     "text": [
      "Attribution score for channel a2g2: -1.97\n",
      "\n",
      "Computing phi for channel d2f2...\n"
     ]
    },
    {
     "name": "stderr",
     "output_type": "stream",
     "text": [
      "100%|████████████████████████████████████████████████████| 7/7 [00:00<?, ?it/s]\n"
     ]
    },
    {
     "name": "stdout",
     "output_type": "stream",
     "text": [
      "Attribution score for channel d2f2: -1.06\n",
      "\n",
      "Computing phi for channel c1b1...\n"
     ]
    },
    {
     "name": "stderr",
     "output_type": "stream",
     "text": [
      "100%|████████████████████████████████████████████████████| 7/7 [00:00<?, ?it/s]\n"
     ]
    },
    {
     "name": "stdout",
     "output_type": "stream",
     "text": [
      "Attribution score for channel c1b1: -1.72\n",
      "\n",
      "Computing phi for channel b1b7...\n"
     ]
    },
    {
     "name": "stderr",
     "output_type": "stream",
     "text": [
      "100%|████████████████████████████████████████████████████| 1/1 [00:00<?, ?it/s]\n"
     ]
    },
    {
     "name": "stdout",
     "output_type": "stream",
     "text": [
      "Attribution score for channel b1b7: -0.07\n",
      "\n",
      "Computing phi for channel f2h2...\n"
     ]
    },
    {
     "name": "stderr",
     "output_type": "stream",
     "text": [
      "100%|████████████████████████████████████████████████████| 3/3 [00:00<?, ?it/s]\n"
     ]
    },
    {
     "name": "stdout",
     "output_type": "stream",
     "text": [
      "Attribution score for channel f2h2: -0.93\n",
      "\n",
      "Computing phi for channel b6b4...\n"
     ]
    },
    {
     "name": "stderr",
     "output_type": "stream",
     "text": [
      "100%|████████████████████████████████████████████████████| 8/8 [00:00<?, ?it/s]"
     ]
    },
    {
     "name": "stdout",
     "output_type": "stream",
     "text": [
      "Attribution score for channel b6b4: -0.76\n",
      "\n",
      "Computing phi for channel a0c0...\n"
     ]
    },
    {
     "name": "stderr",
     "output_type": "stream",
     "text": [
      "\n",
      "100%|████████████████████████████████████████████████████| 5/5 [00:00<?, ?it/s]\n"
     ]
    },
    {
     "name": "stdout",
     "output_type": "stream",
     "text": [
      "Attribution score for channel a0c0: -0.94\n",
      "\n",
      "Computing phi for channel c2a1...\n"
     ]
    },
    {
     "name": "stderr",
     "output_type": "stream",
     "text": [
      "100%|██████████████████████████████████████████████████| 14/14 [00:00<?, ?it/s]\n"
     ]
    },
    {
     "name": "stdout",
     "output_type": "stream",
     "text": [
      "Attribution score for channel c2a1: -2.14\n",
      "\n",
      "Computing phi for channel b5c5...\n"
     ]
    },
    {
     "name": "stderr",
     "output_type": "stream",
     "text": [
      "100%|████████████████████████████████████████████████████| 5/5 [00:00<?, ?it/s]\n"
     ]
    },
    {
     "name": "stdout",
     "output_type": "stream",
     "text": [
      "Attribution score for channel b5c5: -0.32\n",
      "\n",
      "Computing phi for channel i2d2...\n"
     ]
    },
    {
     "name": "stderr",
     "output_type": "stream",
     "text": [
      "100%|██████████████████████████████████████████████████| 10/10 [00:00<?, ?it/s]\n"
     ]
    },
    {
     "name": "stdout",
     "output_type": "stream",
     "text": [
      "Attribution score for channel i2d2: -2.15\n",
      "\n",
      "Computing phi for channel a0a1...\n"
     ]
    },
    {
     "name": "stderr",
     "output_type": "stream",
     "text": [
      "100%|████████████████████████████████████████████████| 268/268 [00:00<?, ?it/s]\n"
     ]
    },
    {
     "name": "stdout",
     "output_type": "stream",
     "text": [
      "Attribution score for channel a0a1: -70.06\n",
      "\n",
      "Computing phi for channel g1f1...\n"
     ]
    },
    {
     "name": "stderr",
     "output_type": "stream",
     "text": [
      "100%|████████████████████████████████████████████████████| 3/3 [00:00<?, ?it/s]\n"
     ]
    },
    {
     "name": "stdout",
     "output_type": "stream",
     "text": [
      "Attribution score for channel g1f1: -0.20\n",
      "\n",
      "Computing phi for channel g2e3...\n"
     ]
    },
    {
     "name": "stderr",
     "output_type": "stream",
     "text": [
      "100%|████████████████████████████████████████████████████| 2/2 [00:00<?, ?it/s]\n"
     ]
    },
    {
     "name": "stdout",
     "output_type": "stream",
     "text": [
      "Attribution score for channel g2e3: -0.13\n",
      "\n",
      "Computing phi for channel b2b8...\n"
     ]
    },
    {
     "name": "stderr",
     "output_type": "stream",
     "text": [
      "100%|████████████████████████████████████████████████████| 1/1 [00:00<?, ?it/s]\n"
     ]
    },
    {
     "name": "stdout",
     "output_type": "stream",
     "text": [
      "Attribution score for channel b2b8: -0.11\n",
      "\n",
      "Computing phi for channel b1g1...\n"
     ]
    },
    {
     "name": "stderr",
     "output_type": "stream",
     "text": [
      "100%|██████████████████████████████████████████████████| 11/11 [00:00<?, ?it/s]\n"
     ]
    },
    {
     "name": "stdout",
     "output_type": "stream",
     "text": [
      "Attribution score for channel b1g1: -1.45\n",
      "\n",
      "Computing phi for channel c1d1...\n"
     ]
    },
    {
     "name": "stderr",
     "output_type": "stream",
     "text": [
      "100%|████████████████████████████████████████████████████| 4/4 [00:00<?, ?it/s]\n"
     ]
    },
    {
     "name": "stdout",
     "output_type": "stream",
     "text": [
      "Attribution score for channel c1d1: -0.76\n",
      "\n",
      "Computing phi for channel b5i5...\n"
     ]
    },
    {
     "name": "stderr",
     "output_type": "stream",
     "text": [
      "100%|████████████████████████████████████████████████████| 2/2 [00:00<?, ?it/s]\n"
     ]
    },
    {
     "name": "stdout",
     "output_type": "stream",
     "text": [
      "Attribution score for channel b5i5: -0.55\n",
      "\n",
      "Computing phi for channel b0b8...\n"
     ]
    },
    {
     "name": "stderr",
     "output_type": "stream",
     "text": [
      "100%|████████████████████████████████████████████████████| 5/5 [00:00<?, ?it/s]\n"
     ]
    },
    {
     "name": "stdout",
     "output_type": "stream",
     "text": [
      "Attribution score for channel b0b8: -1.08\n",
      "\n",
      "Computing phi for channel b2e2...\n"
     ]
    },
    {
     "name": "stderr",
     "output_type": "stream",
     "text": [
      "100%|██████████████████████████████████████████████████| 29/29 [00:00<?, ?it/s]\n"
     ]
    },
    {
     "name": "stdout",
     "output_type": "stream",
     "text": [
      "Attribution score for channel b2e2: -6.47\n",
      "\n",
      "Computing phi for channel a4e4...\n"
     ]
    },
    {
     "name": "stderr",
     "output_type": "stream",
     "text": [
      "100%|██████████████████████████████████████████| 1/1 [00:00<00:00, 1004.38it/s]\n"
     ]
    },
    {
     "name": "stdout",
     "output_type": "stream",
     "text": [
      "Attribution score for channel a4e4: -0.06\n",
      "\n",
      "Computing phi for channel h4h9...\n"
     ]
    },
    {
     "name": "stderr",
     "output_type": "stream",
     "text": [
      "100%|████████████████████████████████████████████████████| 1/1 [00:00<?, ?it/s]\n"
     ]
    },
    {
     "name": "stdout",
     "output_type": "stream",
     "text": [
      "Attribution score for channel h4h9: -0.12\n",
      "\n",
      "Computing phi for channel e6e4...\n"
     ]
    },
    {
     "name": "stderr",
     "output_type": "stream",
     "text": [
      "100%|████████████████████████████████████████████████████| 3/3 [00:00<?, ?it/s]\n"
     ]
    },
    {
     "name": "stdout",
     "output_type": "stream",
     "text": [
      "Attribution score for channel e6e4: -0.25\n",
      "\n",
      "Computing phi for channel e4c4...\n"
     ]
    },
    {
     "name": "stderr",
     "output_type": "stream",
     "text": [
      "100%|██████████████████████████████████████████████████| 16/16 [00:00<?, ?it/s]\n"
     ]
    },
    {
     "name": "stdout",
     "output_type": "stream",
     "text": [
      "Attribution score for channel e4c4: -2.64\n",
      "\n",
      "Computing phi for channel b2b1...\n"
     ]
    },
    {
     "name": "stderr",
     "output_type": "stream",
     "text": [
      "100%|██████████████████████████████████████████████████| 92/92 [00:00<?, ?it/s]\n"
     ]
    },
    {
     "name": "stdout",
     "output_type": "stream",
     "text": [
      "Attribution score for channel b2b1: -19.98\n",
      "\n",
      "Computing phi for channel e4e5...\n"
     ]
    },
    {
     "name": "stderr",
     "output_type": "stream",
     "text": [
      "100%|██████████████████████████████████████████████████| 48/48 [00:00<?, ?it/s]\n"
     ]
    },
    {
     "name": "stdout",
     "output_type": "stream",
     "text": [
      "Attribution score for channel e4e5: -7.04\n",
      "\n",
      "Computing phi for channel e2e3...\n"
     ]
    },
    {
     "name": "stderr",
     "output_type": "stream",
     "text": [
      "100%|████████████████████████████████████████████████████| 4/4 [00:00<?, ?it/s]\n"
     ]
    },
    {
     "name": "stdout",
     "output_type": "stream",
     "text": [
      "Attribution score for channel e2e3: -1.35\n",
      "\n",
      "Computing phi for channel h5h4...\n"
     ]
    },
    {
     "name": "stderr",
     "output_type": "stream",
     "text": [
      "100%|██████████████████████████████████████████| 1/1 [00:00<00:00, 1008.00it/s]\n"
     ]
    },
    {
     "name": "stdout",
     "output_type": "stream",
     "text": [
      "Attribution score for channel h5h4: -0.05\n",
      "\n",
      "Computing phi for channel b2a2...\n"
     ]
    },
    {
     "name": "stderr",
     "output_type": "stream",
     "text": [
      "100%|██████████████████████████████████████████████████| 19/19 [00:00<?, ?it/s]\n"
     ]
    },
    {
     "name": "stdout",
     "output_type": "stream",
     "text": [
      "Attribution score for channel b2a2: -4.27\n",
      "\n",
      "Computing phi for channel g2d2...\n"
     ]
    },
    {
     "name": "stderr",
     "output_type": "stream",
     "text": [
      "100%|██████████████████████████████████████████████████| 12/12 [00:00<?, ?it/s]\n"
     ]
    },
    {
     "name": "stdout",
     "output_type": "stream",
     "text": [
      "Attribution score for channel g2d2: -1.10\n",
      "\n",
      "Computing phi for channel h4h0...\n"
     ]
    },
    {
     "name": "stderr",
     "output_type": "stream",
     "text": [
      "100%|████████████████████████████████████████████████████| 4/4 [00:00<?, ?it/s]\n"
     ]
    },
    {
     "name": "stdout",
     "output_type": "stream",
     "text": [
      "Attribution score for channel h4h0: -0.30\n",
      "\n",
      "Computing phi for channel a2b4...\n"
     ]
    },
    {
     "name": "stderr",
     "output_type": "stream",
     "text": [
      "100%|████████████████████████████████████████████████████| 6/6 [00:00<?, ?it/s]\n"
     ]
    },
    {
     "name": "stdout",
     "output_type": "stream",
     "text": [
      "Attribution score for channel a2b4: -0.85\n",
      "\n",
      "Computing phi for channel a2b2...\n"
     ]
    },
    {
     "name": "stderr",
     "output_type": "stream",
     "text": [
      "100%|██████████████████████████████████████████████████| 61/61 [00:00<?, ?it/s]\n"
     ]
    },
    {
     "name": "stdout",
     "output_type": "stream",
     "text": [
      "Attribution score for channel a2b2: -10.40\n",
      "\n",
      "Computing phi for channel f1i1...\n"
     ]
    },
    {
     "name": "stderr",
     "output_type": "stream",
     "text": [
      "100%|████████████████████████████████████████████████████| 2/2 [00:00<?, ?it/s]\n"
     ]
    },
    {
     "name": "stdout",
     "output_type": "stream",
     "text": [
      "Attribution score for channel f1i1: -0.93\n",
      "\n",
      "Computing phi for channel b5e5...\n"
     ]
    },
    {
     "name": "stderr",
     "output_type": "stream",
     "text": [
      "100%|████████████████████████████████████████████████████| 2/2 [00:00<?, ?it/s]\n"
     ]
    },
    {
     "name": "stdout",
     "output_type": "stream",
     "text": [
      "Attribution score for channel b5e5: -0.82\n",
      "\n",
      "Computing phi for channel g2f4...\n"
     ]
    },
    {
     "name": "stderr",
     "output_type": "stream",
     "text": [
      "100%|████████████████████████████████████████████████████| 2/2 [00:00<?, ?it/s]\n"
     ]
    },
    {
     "name": "stdout",
     "output_type": "stream",
     "text": [
      "Attribution score for channel g2f4: -0.47\n",
      "\n",
      "Computing phi for channel c4f4...\n"
     ]
    },
    {
     "name": "stderr",
     "output_type": "stream",
     "text": [
      "100%|██████████████████████████████████████████| 1/1 [00:00<00:00, 1002.70it/s]\n"
     ]
    },
    {
     "name": "stdout",
     "output_type": "stream",
     "text": [
      "Attribution score for channel c4f4: -0.04\n",
      "\n",
      "Computing phi for channel g6g8...\n"
     ]
    },
    {
     "name": "stderr",
     "output_type": "stream",
     "text": [
      "100%|████████████████████████████████████████████████████| 2/2 [00:00<?, ?it/s]\n"
     ]
    },
    {
     "name": "stdout",
     "output_type": "stream",
     "text": [
      "Attribution score for channel g6g8: -0.14\n",
      "\n",
      "Computing phi for channel h7e7...\n"
     ]
    },
    {
     "name": "stderr",
     "output_type": "stream",
     "text": [
      "100%|████████████████████████████████████████████████████| 2/2 [00:00<?, ?it/s]\n"
     ]
    },
    {
     "name": "stdout",
     "output_type": "stream",
     "text": [
      "Attribution score for channel h7e7: -0.21\n",
      "\n",
      "Computing phi for channel c1c5...\n"
     ]
    },
    {
     "name": "stderr",
     "output_type": "stream",
     "text": [
      "100%|████████████████████████████████████████████████████| 1/1 [00:00<?, ?it/s]\n"
     ]
    },
    {
     "name": "stdout",
     "output_type": "stream",
     "text": [
      "Attribution score for channel c1c5: -0.05\n",
      "\n",
      "Computing phi for channel d2d7...\n"
     ]
    },
    {
     "name": "stderr",
     "output_type": "stream",
     "text": [
      "100%|████████████████████████████████████████████████████| 1/1 [00:00<?, ?it/s]\n"
     ]
    },
    {
     "name": "stdout",
     "output_type": "stream",
     "text": [
      "Attribution score for channel d2d7: -0.06\n",
      "\n",
      "Computing phi for channel i1b1...\n"
     ]
    },
    {
     "name": "stderr",
     "output_type": "stream",
     "text": [
      "100%|████████████████████████████████████████████████████| 2/2 [00:00<?, ?it/s]\n"
     ]
    },
    {
     "name": "stdout",
     "output_type": "stream",
     "text": [
      "Attribution score for channel i1b1: -0.12\n",
      "\n",
      "Computing phi for channel g6g5...\n"
     ]
    },
    {
     "name": "stderr",
     "output_type": "stream",
     "text": [
      "100%|████████████████████████████████████████████████████| 3/3 [00:00<?, ?it/s]\n"
     ]
    },
    {
     "name": "stdout",
     "output_type": "stream",
     "text": [
      "Attribution score for channel g6g5: -0.27\n",
      "\n",
      "Computing phi for channel h0h1...\n"
     ]
    },
    {
     "name": "stderr",
     "output_type": "stream",
     "text": [
      "100%|████████████████████████████████████████████████████| 8/8 [00:00<?, ?it/s]\n"
     ]
    },
    {
     "name": "stdout",
     "output_type": "stream",
     "text": [
      "Attribution score for channel h0h1: -5.33\n",
      "\n",
      "Computing phi for channel g0g1...\n"
     ]
    },
    {
     "name": "stderr",
     "output_type": "stream",
     "text": [
      "100%|████████████████████████████████████████████████████| 2/2 [00:00<?, ?it/s]\n"
     ]
    },
    {
     "name": "stdout",
     "output_type": "stream",
     "text": [
      "Attribution score for channel g0g1: -1.18\n",
      "\n",
      "Computing phi for channel e2g0...\n"
     ]
    },
    {
     "name": "stderr",
     "output_type": "stream",
     "text": [
      "100%|██████████████████████████████████████████████████| 17/17 [00:00<?, ?it/s]\n"
     ]
    },
    {
     "name": "stdout",
     "output_type": "stream",
     "text": [
      "Attribution score for channel e2g0: -1.62\n",
      "\n",
      "Computing phi for channel e4h4...\n"
     ]
    },
    {
     "name": "stderr",
     "output_type": "stream",
     "text": [
      "100%|████████████████████████████████████████████████████| 1/1 [00:00<?, ?it/s]\n"
     ]
    },
    {
     "name": "stdout",
     "output_type": "stream",
     "text": [
      "Attribution score for channel e4h4: -0.15\n",
      "\n",
      "Computing phi for channel h2h3...\n"
     ]
    },
    {
     "name": "stderr",
     "output_type": "stream",
     "text": [
      "100%|██████████████████████████████████████████████████| 34/34 [00:00<?, ?it/s]\n"
     ]
    },
    {
     "name": "stdout",
     "output_type": "stream",
     "text": [
      "Attribution score for channel h2h3: -10.17\n",
      "\n",
      "Computing phi for channel d2d0...\n"
     ]
    },
    {
     "name": "stderr",
     "output_type": "stream",
     "text": [
      "100%|████████████████████████████████████████████████████| 1/1 [00:00<?, ?it/s]\n"
     ]
    },
    {
     "name": "stdout",
     "output_type": "stream",
     "text": [
      "Attribution score for channel d2d0: -0.05\n",
      "\n",
      "Computing phi for channel e5g5...\n"
     ]
    },
    {
     "name": "stderr",
     "output_type": "stream",
     "text": [
      "100%|████████████████████████████████████████████████████| 1/1 [00:00<?, ?it/s]\n"
     ]
    },
    {
     "name": "stdout",
     "output_type": "stream",
     "text": [
      "Attribution score for channel e5g5: -0.07\n",
      "\n",
      "Computing phi for channel d2d9...\n"
     ]
    },
    {
     "name": "stderr",
     "output_type": "stream",
     "text": [
      "100%|████████████████████████████████████████████████████| 1/1 [00:00<?, ?it/s]\n"
     ]
    },
    {
     "name": "stdout",
     "output_type": "stream",
     "text": [
      "Attribution score for channel d2d9: -0.25\n",
      "\n",
      "Computing phi for channel g4i4...\n"
     ]
    },
    {
     "name": "stderr",
     "output_type": "stream",
     "text": [
      "100%|████████████████████████████████████████████████████| 1/1 [00:00<?, ?it/s]\n"
     ]
    },
    {
     "name": "stdout",
     "output_type": "stream",
     "text": [
      "Attribution score for channel g4i4: -0.09\n",
      "\n",
      "Computing phi for channel d0e1...\n"
     ]
    },
    {
     "name": "stderr",
     "output_type": "stream",
     "text": [
      "100%|██████████████████████████████████████████████████| 91/91 [00:00<?, ?it/s]\n"
     ]
    },
    {
     "name": "stdout",
     "output_type": "stream",
     "text": [
      "Attribution score for channel d0e1: -51.77\n",
      "\n",
      "Computing phi for channel h4h5...\n"
     ]
    },
    {
     "name": "stderr",
     "output_type": "stream",
     "text": [
      "100%|████████████████████████████████████████████████████| 4/4 [00:00<?, ?it/s]\n"
     ]
    },
    {
     "name": "stdout",
     "output_type": "stream",
     "text": [
      "Attribution score for channel h4h5: -0.29\n",
      "\n",
      "Computing phi for channel d2d3...\n"
     ]
    },
    {
     "name": "stderr",
     "output_type": "stream",
     "text": [
      "100%|████████████████████████████████████████████████████| 6/6 [00:00<?, ?it/s]\n"
     ]
    },
    {
     "name": "stdout",
     "output_type": "stream",
     "text": [
      "Attribution score for channel d2d3: -0.42\n",
      "\n",
      "Computing phi for channel b4e4...\n"
     ]
    },
    {
     "name": "stderr",
     "output_type": "stream",
     "text": [
      "100%|██████████████████████████████████████████████████| 35/35 [00:00<?, ?it/s]\n"
     ]
    },
    {
     "name": "stdout",
     "output_type": "stream",
     "text": [
      "Attribution score for channel b4e4: -7.15\n",
      "\n",
      "Computing phi for channel i3i1...\n"
     ]
    },
    {
     "name": "stderr",
     "output_type": "stream",
     "text": [
      "100%|████████████████████████████████████████████████████| 4/4 [00:00<?, ?it/s]\n"
     ]
    },
    {
     "name": "stdout",
     "output_type": "stream",
     "text": [
      "Attribution score for channel i3i1: -0.30\n",
      "\n",
      "Computing phi for channel h0h4...\n"
     ]
    },
    {
     "name": "stderr",
     "output_type": "stream",
     "text": [
      "100%|████████████████████████████████████████████████████| 2/2 [00:00<?, ?it/s]\n"
     ]
    },
    {
     "name": "stdout",
     "output_type": "stream",
     "text": [
      "Attribution score for channel h0h4: -0.18\n",
      "\n",
      "Computing phi for channel e3e1...\n"
     ]
    },
    {
     "name": "stderr",
     "output_type": "stream",
     "text": [
      "100%|████████████████████████████████████████████████████| 1/1 [00:00<?, ?it/s]\n"
     ]
    },
    {
     "name": "stdout",
     "output_type": "stream",
     "text": [
      "Attribution score for channel e3e1: -0.06\n",
      "\n",
      "Computing phi for channel f5f7...\n"
     ]
    },
    {
     "name": "stderr",
     "output_type": "stream",
     "text": [
      "100%|████████████████████████████████████████████████████| 1/1 [00:00<?, ?it/s]\n"
     ]
    },
    {
     "name": "stdout",
     "output_type": "stream",
     "text": [
      "Attribution score for channel f5f7: -0.06\n",
      "\n",
      "Computing phi for channel a2a0...\n"
     ]
    },
    {
     "name": "stderr",
     "output_type": "stream",
     "text": [
      "100%|██████████████████████████████████████████████████| 17/17 [00:00<?, ?it/s]\n"
     ]
    },
    {
     "name": "stdout",
     "output_type": "stream",
     "text": [
      "Attribution score for channel a2a0: -1.97\n",
      "\n",
      "Computing phi for channel d7a7...\n"
     ]
    },
    {
     "name": "stderr",
     "output_type": "stream",
     "text": [
      "100%|████████████████████████████████████████████████████| 1/1 [00:00<?, ?it/s]\n"
     ]
    },
    {
     "name": "stdout",
     "output_type": "stream",
     "text": [
      "Attribution score for channel d7a7: -0.05\n",
      "\n",
      "Computing phi for channel g0e2...\n"
     ]
    },
    {
     "name": "stderr",
     "output_type": "stream",
     "text": [
      "100%|██████████████████████████████████████████████████| 94/94 [00:00<?, ?it/s]\n"
     ]
    },
    {
     "name": "stdout",
     "output_type": "stream",
     "text": [
      "Attribution score for channel g0e2: -30.88\n",
      "\n",
      "Computing phi for channel e2c4...\n"
     ]
    },
    {
     "name": "stderr",
     "output_type": "stream",
     "text": [
      "100%|██████████████████████████████████████████████████| 33/33 [00:00<?, ?it/s]\n"
     ]
    },
    {
     "name": "stdout",
     "output_type": "stream",
     "text": [
      "Attribution score for channel e2c4: -9.13\n",
      "\n",
      "Computing phi for channel g1g6...\n"
     ]
    },
    {
     "name": "stderr",
     "output_type": "stream",
     "text": [
      "100%|██████████████████████████████████████████| 4/4 [00:00<00:00, 4011.77it/s]\n"
     ]
    },
    {
     "name": "stdout",
     "output_type": "stream",
     "text": [
      "Attribution score for channel g1g6: -0.34\n",
      "\n",
      "Computing phi for channel a4a5...\n"
     ]
    },
    {
     "name": "stderr",
     "output_type": "stream",
     "text": [
      "100%|██████████████████████████████████████████████████| 18/18 [00:00<?, ?it/s]\n"
     ]
    },
    {
     "name": "stdout",
     "output_type": "stream",
     "text": [
      "Attribution score for channel a4a5: -1.37\n",
      "\n",
      "Computing phi for channel a2c4...\n"
     ]
    },
    {
     "name": "stderr",
     "output_type": "stream",
     "text": [
      "100%|██████████████████████████████████████████████████| 56/56 [00:00<?, ?it/s]\n"
     ]
    },
    {
     "name": "stdout",
     "output_type": "stream",
     "text": [
      "Attribution score for channel a2c4: -17.85\n",
      "\n",
      "Computing phi for channel b3b1...\n"
     ]
    },
    {
     "name": "stderr",
     "output_type": "stream",
     "text": [
      "100%|████████████████████████████████████████████████████| 2/2 [00:00<?, ?it/s]\n"
     ]
    },
    {
     "name": "stdout",
     "output_type": "stream",
     "text": [
      "Attribution score for channel b3b1: -0.20\n",
      "\n",
      "Computing phi for channel b5h5...\n"
     ]
    },
    {
     "name": "stderr",
     "output_type": "stream",
     "text": [
      "100%|████████████████████████████████████████████████████| 1/1 [00:00<?, ?it/s]\n"
     ]
    },
    {
     "name": "stdout",
     "output_type": "stream",
     "text": [
      "Attribution score for channel b5h5: -2.25\n",
      "\n",
      "Computing phi for channel e6e7...\n"
     ]
    },
    {
     "name": "stderr",
     "output_type": "stream",
     "text": [
      "100%|████████████████████████████████████████████████████| 2/2 [00:00<?, ?it/s]\n"
     ]
    },
    {
     "name": "stdout",
     "output_type": "stream",
     "text": [
      "Attribution score for channel e6e7: -0.15\n",
      "\n",
      "Computing phi for channel d8h8...\n"
     ]
    },
    {
     "name": "stderr",
     "output_type": "stream",
     "text": [
      "100%|████████████████████████████████████████████████████| 1/1 [00:00<?, ?it/s]\n"
     ]
    },
    {
     "name": "stdout",
     "output_type": "stream",
     "text": [
      "Attribution score for channel d8h8: -0.10\n",
      "\n",
      "Computing phi for channel h4f4...\n"
     ]
    },
    {
     "name": "stderr",
     "output_type": "stream",
     "text": [
      "100%|███████████████████████████████████████| 39/39 [00:00<00:00, 39086.70it/s]\n"
     ]
    },
    {
     "name": "stdout",
     "output_type": "stream",
     "text": [
      "Attribution score for channel h4f4: -9.32\n",
      "\n",
      "Computing phi for channel h5h7...\n"
     ]
    },
    {
     "name": "stderr",
     "output_type": "stream",
     "text": [
      "100%|████████████████████████████████████████████████████| 1/1 [00:00<?, ?it/s]\n"
     ]
    },
    {
     "name": "stdout",
     "output_type": "stream",
     "text": [
      "Attribution score for channel h5h7: -0.12\n",
      "\n",
      "Computing phi for channel h3h1...\n"
     ]
    },
    {
     "name": "stderr",
     "output_type": "stream",
     "text": [
      "100%|████████████████████████████████████████████████████| 3/3 [00:00<?, ?it/s]\n"
     ]
    },
    {
     "name": "stdout",
     "output_type": "stream",
     "text": [
      "Attribution score for channel h3h1: -0.47\n",
      "\n",
      "Computing phi for channel b3b7...\n"
     ]
    },
    {
     "name": "stderr",
     "output_type": "stream",
     "text": [
      "100%|████████████████████████████████████████████████████| 3/3 [00:00<?, ?it/s]\n"
     ]
    },
    {
     "name": "stdout",
     "output_type": "stream",
     "text": [
      "Attribution score for channel b3b7: -0.29\n",
      "\n",
      "Computing phi for channel h3h8...\n"
     ]
    },
    {
     "name": "stderr",
     "output_type": "stream",
     "text": [
      "100%|████████████████████████████████████████████████████| 2/2 [00:00<?, ?it/s]\n"
     ]
    },
    {
     "name": "stdout",
     "output_type": "stream",
     "text": [
      "Attribution score for channel h3h8: -0.20\n",
      "\n",
      "Computing phi for channel g0f0...\n"
     ]
    },
    {
     "name": "stderr",
     "output_type": "stream",
     "text": [
      "100%|████████████████████████████████████████████████████| 2/2 [00:00<?, ?it/s]\n"
     ]
    },
    {
     "name": "stdout",
     "output_type": "stream",
     "text": [
      "Attribution score for channel g0f0: -0.39\n",
      "\n",
      "Computing phi for channel f5e5...\n"
     ]
    },
    {
     "name": "stderr",
     "output_type": "stream",
     "text": [
      "100%|████████████████████████████████████████████████████| 3/3 [00:00<?, ?it/s]\n"
     ]
    },
    {
     "name": "stdout",
     "output_type": "stream",
     "text": [
      "Attribution score for channel f5e5: -0.67\n",
      "\n",
      "Computing phi for channel b2f2...\n"
     ]
    },
    {
     "name": "stderr",
     "output_type": "stream",
     "text": [
      "100%|██████████████████████████████████████████████████| 26/26 [00:00<?, ?it/s]\n"
     ]
    },
    {
     "name": "stdout",
     "output_type": "stream",
     "text": [
      "Attribution score for channel b2f2: -4.00\n",
      "\n",
      "Computing phi for channel h4h8...\n"
     ]
    },
    {
     "name": "stderr",
     "output_type": "stream",
     "text": [
      "100%|████████████████████████████████████████████████████| 1/1 [00:00<?, ?it/s]\n"
     ]
    },
    {
     "name": "stdout",
     "output_type": "stream",
     "text": [
      "Attribution score for channel h4h8: -0.09\n",
      "\n",
      "Computing phi for channel f6f3...\n"
     ]
    },
    {
     "name": "stderr",
     "output_type": "stream",
     "text": [
      "100%|████████████████████████████████████████████████████| 1/1 [00:00<?, ?it/s]\n"
     ]
    },
    {
     "name": "stdout",
     "output_type": "stream",
     "text": [
      "Attribution score for channel f6f3: -0.05\n",
      "\n",
      "Computing phi for channel e5d5...\n"
     ]
    },
    {
     "name": "stderr",
     "output_type": "stream",
     "text": [
      "100%|████████████████████████████████████████████████████| 4/4 [00:00<?, ?it/s]\n"
     ]
    },
    {
     "name": "stdout",
     "output_type": "stream",
     "text": [
      "Attribution score for channel e5d5: -0.45\n",
      "\n",
      "Computing phi for channel c4e2...\n"
     ]
    },
    {
     "name": "stderr",
     "output_type": "stream",
     "text": [
      "100%|████████████████████████████████████████████████████| 7/7 [00:00<?, ?it/s]\n"
     ]
    },
    {
     "name": "stdout",
     "output_type": "stream",
     "text": [
      "Attribution score for channel c4e2: -0.75\n",
      "\n",
      "Computing phi for channel b8i8...\n"
     ]
    },
    {
     "name": "stderr",
     "output_type": "stream",
     "text": [
      "100%|████████████████████████████████████████████████████| 1/1 [00:00<?, ?it/s]\n"
     ]
    },
    {
     "name": "stdout",
     "output_type": "stream",
     "text": [
      "Attribution score for channel b8i8: -0.08\n",
      "\n",
      "Computing phi for channel b4g4...\n"
     ]
    },
    {
     "name": "stderr",
     "output_type": "stream",
     "text": [
      "100%|██████████████████████████████████████████████████| 13/13 [00:00<?, ?it/s]\n"
     ]
    },
    {
     "name": "stdout",
     "output_type": "stream",
     "text": [
      "Attribution score for channel b4g4: -2.00\n",
      "\n",
      "Computing phi for channel d2e1...\n"
     ]
    },
    {
     "name": "stderr",
     "output_type": "stream",
     "text": [
      "100%|████████████████████████████████████████████████████| 4/4 [00:00<?, ?it/s]\n"
     ]
    },
    {
     "name": "stdout",
     "output_type": "stream",
     "text": [
      "Attribution score for channel d2e1: -0.33\n",
      "\n",
      "Computing phi for channel f3f2...\n"
     ]
    },
    {
     "name": "stderr",
     "output_type": "stream",
     "text": [
      "100%|████████████████████████████████████████████████████| 1/1 [00:00<?, ?it/s]\n"
     ]
    },
    {
     "name": "stdout",
     "output_type": "stream",
     "text": [
      "Attribution score for channel f3f2: -0.06\n",
      "\n",
      "Computing phi for channel h2c2...\n"
     ]
    },
    {
     "name": "stderr",
     "output_type": "stream",
     "text": [
      "100%|██████████████████████████████████████████████████| 25/25 [00:00<?, ?it/s]\n"
     ]
    },
    {
     "name": "stdout",
     "output_type": "stream",
     "text": [
      "Attribution score for channel h2c2: -3.84\n",
      "\n",
      "Computing phi for channel b8b9...\n"
     ]
    },
    {
     "name": "stderr",
     "output_type": "stream",
     "text": [
      "100%|████████████████████████████████████████████████████| 1/1 [00:00<?, ?it/s]\n"
     ]
    },
    {
     "name": "stdout",
     "output_type": "stream",
     "text": [
      "Attribution score for channel b8b9: -0.12\n",
      "\n",
      "Computing phi for channel d4d9...\n"
     ]
    },
    {
     "name": "stderr",
     "output_type": "stream",
     "text": [
      "100%|████████████████████████████████████████████████████| 1/1 [00:00<?, ?it/s]\n"
     ]
    },
    {
     "name": "stdout",
     "output_type": "stream",
     "text": [
      "Attribution score for channel d4d9: -0.07\n",
      "\n",
      "Computing phi for channel b1b0...\n"
     ]
    },
    {
     "name": "stderr",
     "output_type": "stream",
     "text": [
      "100%|██████████████████████████████████████████████████| 14/14 [00:00<?, ?it/s]\n"
     ]
    },
    {
     "name": "stdout",
     "output_type": "stream",
     "text": [
      "Attribution score for channel b1b0: -3.87\n",
      "\n",
      "Computing phi for channel b1a1...\n"
     ]
    },
    {
     "name": "stderr",
     "output_type": "stream",
     "text": [
      "100%|████████████████████████████████████████████████████| 5/5 [00:00<?, ?it/s]\n"
     ]
    },
    {
     "name": "stdout",
     "output_type": "stream",
     "text": [
      "Attribution score for channel b1a1: -1.35\n",
      "\n",
      "Computing phi for channel b0b6...\n"
     ]
    },
    {
     "name": "stderr",
     "output_type": "stream",
     "text": [
      "100%|████████████████████████████████████████████████████| 6/6 [00:00<?, ?it/s]\n"
     ]
    },
    {
     "name": "stdout",
     "output_type": "stream",
     "text": [
      "Attribution score for channel b0b6: -0.76\n",
      "\n",
      "Computing phi for channel d1f1...\n"
     ]
    },
    {
     "name": "stderr",
     "output_type": "stream",
     "text": [
      "100%|████████████████████████████████████████████████████| 3/3 [00:00<?, ?it/s]\n"
     ]
    },
    {
     "name": "stdout",
     "output_type": "stream",
     "text": [
      "Attribution score for channel d1f1: -0.41\n",
      "\n",
      "Computing phi for channel i2f2...\n"
     ]
    },
    {
     "name": "stderr",
     "output_type": "stream",
     "text": [
      "100%|██████████████████████████████████████████████████| 14/14 [00:00<?, ?it/s]\n"
     ]
    },
    {
     "name": "stdout",
     "output_type": "stream",
     "text": [
      "Attribution score for channel i2f2: -4.04\n",
      "\n",
      "Computing phi for channel b5b0...\n"
     ]
    },
    {
     "name": "stderr",
     "output_type": "stream",
     "text": [
      "100%|████████████████████████████████████████████████████| 1/1 [00:00<?, ?it/s]\n"
     ]
    },
    {
     "name": "stdout",
     "output_type": "stream",
     "text": [
      "Attribution score for channel b5b0: -0.23\n",
      "\n",
      "Computing phi for channel f1g1...\n"
     ]
    },
    {
     "name": "stderr",
     "output_type": "stream",
     "text": [
      "100%|████████████████████████████████████████████████████| 3/3 [00:00<?, ?it/s]\n"
     ]
    },
    {
     "name": "stdout",
     "output_type": "stream",
     "text": [
      "Attribution score for channel f1g1: -0.19\n",
      "\n",
      "Computing phi for channel d3g3...\n"
     ]
    },
    {
     "name": "stderr",
     "output_type": "stream",
     "text": [
      "100%|████████████████████████████████████████████████████| 1/1 [00:00<?, ?it/s]\n"
     ]
    },
    {
     "name": "stdout",
     "output_type": "stream",
     "text": [
      "Attribution score for channel d3g3: -0.06\n",
      "\n",
      "Computing phi for channel f3f4...\n"
     ]
    },
    {
     "name": "stderr",
     "output_type": "stream",
     "text": [
      "100%|████████████████████████████████████████████████████| 1/1 [00:00<?, ?it/s]\n"
     ]
    },
    {
     "name": "stdout",
     "output_type": "stream",
     "text": [
      "Attribution score for channel f3f4: -0.08\n",
      "\n",
      "Computing phi for channel h2b2...\n"
     ]
    },
    {
     "name": "stderr",
     "output_type": "stream",
     "text": [
      "100%|████████████████████████████████████| 106/106 [00:00<00:00, 106235.66it/s]\n"
     ]
    },
    {
     "name": "stdout",
     "output_type": "stream",
     "text": [
      "Attribution score for channel h2b2: -20.90\n",
      "\n",
      "Computing phi for channel i4i7...\n"
     ]
    },
    {
     "name": "stderr",
     "output_type": "stream",
     "text": [
      "100%|████████████████████████████████████████████████████| 1/1 [00:00<?, ?it/s]\n"
     ]
    },
    {
     "name": "stdout",
     "output_type": "stream",
     "text": [
      "Attribution score for channel i4i7: -0.08\n",
      "\n",
      "Computing phi for channel h5f5...\n"
     ]
    },
    {
     "name": "stderr",
     "output_type": "stream",
     "text": [
      "100%|████████████████████████████████████████████████████| 4/4 [00:00<?, ?it/s]\n"
     ]
    },
    {
     "name": "stdout",
     "output_type": "stream",
     "text": [
      "Attribution score for channel h5f5: -0.51\n",
      "\n",
      "Computing phi for channel c1a2...\n"
     ]
    },
    {
     "name": "stderr",
     "output_type": "stream",
     "text": [
      "100%|████████████████████████████████████████████████████| 1/1 [00:00<?, ?it/s]\n"
     ]
    },
    {
     "name": "stdout",
     "output_type": "stream",
     "text": [
      "Attribution score for channel c1a2: -0.07\n",
      "\n",
      "Computing phi for channel d1d4...\n"
     ]
    },
    {
     "name": "stderr",
     "output_type": "stream",
     "text": [
      "100%|████████████████████████████████████████████████████| 2/2 [00:00<?, ?it/s]\n"
     ]
    },
    {
     "name": "stdout",
     "output_type": "stream",
     "text": [
      "Attribution score for channel d1d4: -0.54\n",
      "\n",
      "Computing phi for channel h8d8...\n"
     ]
    },
    {
     "name": "stderr",
     "output_type": "stream",
     "text": [
      "100%|████████████████████████████████████████████████████| 2/2 [00:00<?, ?it/s]\n"
     ]
    },
    {
     "name": "stdout",
     "output_type": "stream",
     "text": [
      "Attribution score for channel h8d8: -0.32\n",
      "\n",
      "Computing phi for channel b5b9...\n"
     ]
    },
    {
     "name": "stderr",
     "output_type": "stream",
     "text": [
      "100%|████████████████████████████████████████████████████| 2/2 [00:00<?, ?it/s]\n"
     ]
    },
    {
     "name": "stdout",
     "output_type": "stream",
     "text": [
      "Attribution score for channel b5b9: -0.25\n",
      "\n",
      "Computing phi for channel e0e1...\n"
     ]
    },
    {
     "name": "stderr",
     "output_type": "stream",
     "text": [
      "100%|████████████████████████████████████████████████| 413/413 [00:00<?, ?it/s]\n"
     ]
    },
    {
     "name": "stdout",
     "output_type": "stream",
     "text": [
      "Attribution score for channel e0e1: -80.55\n",
      "\n",
      "Computing phi for channel c0c1...\n"
     ]
    },
    {
     "name": "stderr",
     "output_type": "stream",
     "text": [
      "100%|████████████████████████████████████████████████████| 2/2 [00:00<?, ?it/s]\n"
     ]
    },
    {
     "name": "stdout",
     "output_type": "stream",
     "text": [
      "Attribution score for channel c0c1: -0.65\n",
      "\n",
      "Computing phi for channel e1e2...\n"
     ]
    },
    {
     "name": "stderr",
     "output_type": "stream",
     "text": [
      "100%|██████████████████████████████████████████████████| 72/72 [00:00<?, ?it/s]\n"
     ]
    },
    {
     "name": "stdout",
     "output_type": "stream",
     "text": [
      "Attribution score for channel e1e2: -16.65\n",
      "\n",
      "Computing phi for channel f2i2...\n"
     ]
    },
    {
     "name": "stderr",
     "output_type": "stream",
     "text": [
      "100%|██████████████████████████████████████████| 5/5 [00:00<00:00, 5017.11it/s]\n"
     ]
    },
    {
     "name": "stdout",
     "output_type": "stream",
     "text": [
      "Attribution score for channel f2i2: -0.52\n",
      "\n",
      "Computing phi for channel h8e8...\n"
     ]
    },
    {
     "name": "stderr",
     "output_type": "stream",
     "text": [
      "100%|████████████████████████████████████████████████████| 3/3 [00:00<?, ?it/s]\n"
     ]
    },
    {
     "name": "stdout",
     "output_type": "stream",
     "text": [
      "Attribution score for channel h8e8: -0.99\n",
      "\n",
      "Computing phi for channel f0f2...\n"
     ]
    },
    {
     "name": "stderr",
     "output_type": "stream",
     "text": [
      "100%|████████████████████████████████████████████████████| 1/1 [00:00<?, ?it/s]\n"
     ]
    },
    {
     "name": "stdout",
     "output_type": "stream",
     "text": [
      "Attribution score for channel f0f2: -0.17\n",
      "\n",
      "Computing phi for channel a4b4...\n"
     ]
    },
    {
     "name": "stderr",
     "output_type": "stream",
     "text": [
      "100%|████████████████████████████████████████████████████| 1/1 [00:00<?, ?it/s]\n"
     ]
    },
    {
     "name": "stdout",
     "output_type": "stream",
     "text": [
      "Attribution score for channel a4b4: -0.12\n",
      "\n",
      "Computing phi for channel b2b6...\n"
     ]
    },
    {
     "name": "stderr",
     "output_type": "stream",
     "text": [
      "100%|██████████████████████████████████████████████████| 36/36 [00:00<?, ?it/s]\n"
     ]
    },
    {
     "name": "stdout",
     "output_type": "stream",
     "text": [
      "Attribution score for channel b2b6: -5.76\n",
      "\n",
      "Computing phi for channel a1d1...\n"
     ]
    },
    {
     "name": "stderr",
     "output_type": "stream",
     "text": [
      "100%|██████████████████████████████████████████████████| 27/27 [00:00<?, ?it/s]\n"
     ]
    },
    {
     "name": "stdout",
     "output_type": "stream",
     "text": [
      "Attribution score for channel a1d1: -6.11\n",
      "\n",
      "Computing phi for channel i4i5...\n"
     ]
    },
    {
     "name": "stderr",
     "output_type": "stream",
     "text": [
      "100%|██████████████████████████████████████████████████| 56/56 [00:00<?, ?it/s]\n"
     ]
    },
    {
     "name": "stdout",
     "output_type": "stream",
     "text": [
      "Attribution score for channel i4i5: -6.62\n",
      "\n",
      "Computing phi for channel b2b5...\n"
     ]
    },
    {
     "name": "stderr",
     "output_type": "stream",
     "text": [
      "100%|██████████████████████████████████████████████████| 27/27 [00:00<?, ?it/s]\n"
     ]
    },
    {
     "name": "stdout",
     "output_type": "stream",
     "text": [
      "Attribution score for channel b2b5: -8.56\n",
      "\n",
      "Computing phi for channel g2g1...\n"
     ]
    },
    {
     "name": "stderr",
     "output_type": "stream",
     "text": [
      "100%|██████████████████████████████████████████████████| 16/16 [00:00<?, ?it/s]\n"
     ]
    },
    {
     "name": "stdout",
     "output_type": "stream",
     "text": [
      "Attribution score for channel g2g1: -1.77\n",
      "\n",
      "Computing phi for channel b5b8...\n"
     ]
    },
    {
     "name": "stderr",
     "output_type": "stream",
     "text": [
      "100%|██████████████████████████████████████████| 1/1 [00:00<00:00, 1002.46it/s]\n"
     ]
    },
    {
     "name": "stdout",
     "output_type": "stream",
     "text": [
      "Attribution score for channel b5b8: -0.08\n",
      "\n",
      "Computing phi for channel i2g4...\n"
     ]
    },
    {
     "name": "stderr",
     "output_type": "stream",
     "text": [
      "100%|██████████████████████████████████████████████████| 12/12 [00:00<?, ?it/s]\n"
     ]
    },
    {
     "name": "stdout",
     "output_type": "stream",
     "text": [
      "Attribution score for channel i2g4: -1.75\n",
      "\n",
      "Computing phi for channel h8h4...\n"
     ]
    },
    {
     "name": "stderr",
     "output_type": "stream",
     "text": [
      "100%|████████████████████████████████████████████████████| 1/1 [00:00<?, ?it/s]\n"
     ]
    },
    {
     "name": "stdout",
     "output_type": "stream",
     "text": [
      "Attribution score for channel h8h4: -0.07\n",
      "\n",
      "Computing phi for channel d1c1...\n"
     ]
    },
    {
     "name": "stderr",
     "output_type": "stream",
     "text": [
      "100%|████████████████████████████████████████████████████| 2/2 [00:00<?, ?it/s]\n"
     ]
    },
    {
     "name": "stdout",
     "output_type": "stream",
     "text": [
      "Attribution score for channel d1c1: -0.15\n",
      "\n",
      "Computing phi for channel d5c5...\n"
     ]
    },
    {
     "name": "stderr",
     "output_type": "stream",
     "text": [
      "100%|████████████████████████████████████████████████████| 3/3 [00:00<?, ?it/s]\n"
     ]
    },
    {
     "name": "stdout",
     "output_type": "stream",
     "text": [
      "Attribution score for channel d5c5: -0.32\n",
      "\n",
      "Computing phi for channel d7h7...\n"
     ]
    },
    {
     "name": "stderr",
     "output_type": "stream",
     "text": [
      "100%|████████████████████████████████████████████████████| 1/1 [00:00<?, ?it/s]\n"
     ]
    },
    {
     "name": "stdout",
     "output_type": "stream",
     "text": [
      "Attribution score for channel d7h7: -0.12\n",
      "\n",
      "Computing phi for channel g1i1...\n"
     ]
    },
    {
     "name": "stderr",
     "output_type": "stream",
     "text": [
      "100%|████████████████████████████████████████████████████| 3/3 [00:00<?, ?it/s]\n"
     ]
    },
    {
     "name": "stdout",
     "output_type": "stream",
     "text": [
      "Attribution score for channel g1i1: -0.28\n",
      "\n",
      "Computing phi for channel c2c3...\n"
     ]
    },
    {
     "name": "stderr",
     "output_type": "stream",
     "text": [
      "100%|████████████████████████████████████████████████████| 1/1 [00:00<?, ?it/s]\n"
     ]
    },
    {
     "name": "stdout",
     "output_type": "stream",
     "text": [
      "Attribution score for channel c2c3: -0.04\n",
      "\n",
      "Computing phi for channel f7e7...\n"
     ]
    },
    {
     "name": "stderr",
     "output_type": "stream",
     "text": [
      "100%|████████████████████████████████████████████████████| 1/1 [00:00<?, ?it/s]\n"
     ]
    },
    {
     "name": "stdout",
     "output_type": "stream",
     "text": [
      "Attribution score for channel f7e7: -0.04\n",
      "\n",
      "Computing phi for channel e1g1...\n"
     ]
    },
    {
     "name": "stderr",
     "output_type": "stream",
     "text": [
      "100%|██████████████████████████████████████████| 2/2 [00:00<00:00, 2003.49it/s]\n"
     ]
    },
    {
     "name": "stdout",
     "output_type": "stream",
     "text": [
      "Attribution score for channel e1g1: -1.38\n",
      "\n",
      "Computing phi for channel h7d7...\n"
     ]
    },
    {
     "name": "stderr",
     "output_type": "stream",
     "text": [
      "100%|████████████████████████████████████████████████████| 3/3 [00:00<?, ?it/s]\n"
     ]
    },
    {
     "name": "stdout",
     "output_type": "stream",
     "text": [
      "Attribution score for channel h7d7: -0.22\n",
      "\n",
      "Computing phi for channel b7b1...\n"
     ]
    },
    {
     "name": "stderr",
     "output_type": "stream",
     "text": [
      "100%|██████████████████████████████████████████| 1/1 [00:00<00:00, 1001.27it/s]\n"
     ]
    },
    {
     "name": "stdout",
     "output_type": "stream",
     "text": [
      "Attribution score for channel b7b1: -0.08\n",
      "\n",
      "Computing phi for channel c1d3...\n"
     ]
    },
    {
     "name": "stderr",
     "output_type": "stream",
     "text": [
      "100%|████████████████████████████████████████████████████| 2/2 [00:00<?, ?it/s]\n"
     ]
    },
    {
     "name": "stdout",
     "output_type": "stream",
     "text": [
      "Attribution score for channel c1d3: -0.26\n",
      "\n",
      "Computing phi for channel b6b9...\n"
     ]
    },
    {
     "name": "stderr",
     "output_type": "stream",
     "text": [
      "100%|████████████████████████████████████████████████████| 4/4 [00:00<?, ?it/s]\n"
     ]
    },
    {
     "name": "stdout",
     "output_type": "stream",
     "text": [
      "Attribution score for channel b6b9: -0.97\n",
      "\n",
      "Computing phi for channel b1h1...\n"
     ]
    },
    {
     "name": "stderr",
     "output_type": "stream",
     "text": [
      "100%|████████████████████████████████████████████████████| 4/4 [00:00<?, ?it/s]\n"
     ]
    },
    {
     "name": "stdout",
     "output_type": "stream",
     "text": [
      "Attribution score for channel b1h1: -0.42\n",
      "\n",
      "Computing phi for channel b6b8...\n"
     ]
    },
    {
     "name": "stderr",
     "output_type": "stream",
     "text": [
      "100%|████████████████████████████████████████████████████| 1/1 [00:00<?, ?it/s]\n"
     ]
    },
    {
     "name": "stdout",
     "output_type": "stream",
     "text": [
      "Attribution score for channel b6b8: -0.05\n",
      "\n",
      "Computing phi for channel i1i2...\n"
     ]
    },
    {
     "name": "stderr",
     "output_type": "stream",
     "text": [
      "100%|████████████████████████████████████████████████████| 2/2 [00:00<?, ?it/s]\n"
     ]
    },
    {
     "name": "stdout",
     "output_type": "stream",
     "text": [
      "Attribution score for channel i1i2: -0.13\n",
      "\n",
      "Computing phi for channel i0f0...\n"
     ]
    },
    {
     "name": "stderr",
     "output_type": "stream",
     "text": [
      "100%|████████████████████████████████████████████████████| 4/4 [00:00<?, ?it/s]\n"
     ]
    },
    {
     "name": "stdout",
     "output_type": "stream",
     "text": [
      "Attribution score for channel i0f0: -2.16\n",
      "\n",
      "Computing phi for channel e1c2...\n"
     ]
    },
    {
     "name": "stderr",
     "output_type": "stream",
     "text": [
      "100%|████████████████████████████████████████████████████| 2/2 [00:00<?, ?it/s]\n"
     ]
    },
    {
     "name": "stdout",
     "output_type": "stream",
     "text": [
      "Attribution score for channel e1c2: -0.14\n",
      "\n",
      "Computing phi for channel i1c1...\n"
     ]
    },
    {
     "name": "stderr",
     "output_type": "stream",
     "text": [
      "100%|████████████████████████████████████████████████████| 3/3 [00:00<?, ?it/s]\n"
     ]
    },
    {
     "name": "stdout",
     "output_type": "stream",
     "text": [
      "Attribution score for channel i1c1: -0.74\n",
      "\n",
      "Computing phi for channel h1h7...\n"
     ]
    },
    {
     "name": "stderr",
     "output_type": "stream",
     "text": [
      "100%|██████████████████████████████████████████| 8/8 [00:00<00:00, 8023.54it/s]\n"
     ]
    },
    {
     "name": "stdout",
     "output_type": "stream",
     "text": [
      "Attribution score for channel h1h7: -0.74\n",
      "\n",
      "Computing phi for channel h7f7...\n"
     ]
    },
    {
     "name": "stderr",
     "output_type": "stream",
     "text": [
      "100%|████████████████████████████████████████████████████| 1/1 [00:00<?, ?it/s]\n"
     ]
    },
    {
     "name": "stdout",
     "output_type": "stream",
     "text": [
      "Attribution score for channel h7f7: -0.14\n",
      "\n",
      "Computing phi for channel d6d3...\n"
     ]
    },
    {
     "name": "stderr",
     "output_type": "stream",
     "text": [
      "100%|████████████████████████████████████████████████████| 1/1 [00:00<?, ?it/s]\n"
     ]
    },
    {
     "name": "stdout",
     "output_type": "stream",
     "text": [
      "Attribution score for channel d6d3: -0.10\n",
      "\n",
      "Computing phi for channel f8a8...\n"
     ]
    },
    {
     "name": "stderr",
     "output_type": "stream",
     "text": [
      "100%|████████████████████████████████████████████████████| 2/2 [00:00<?, ?it/s]\n"
     ]
    },
    {
     "name": "stdout",
     "output_type": "stream",
     "text": [
      "Attribution score for channel f8a8: -0.10\n",
      "\n",
      "Computing phi for channel f3f0...\n"
     ]
    },
    {
     "name": "stderr",
     "output_type": "stream",
     "text": [
      "100%|████████████████████████████████████████████████████| 1/1 [00:00<?, ?it/s]\n"
     ]
    },
    {
     "name": "stdout",
     "output_type": "stream",
     "text": [
      "Attribution score for channel f3f0: -0.07\n",
      "\n",
      "Computing phi for channel c2i2...\n"
     ]
    },
    {
     "name": "stderr",
     "output_type": "stream",
     "text": [
      "100%|████████████████████████████████████████████████████| 8/8 [00:00<?, ?it/s]"
     ]
    },
    {
     "name": "stdout",
     "output_type": "stream",
     "text": [
      "Attribution score for channel c2i2: -2.21\n",
      "\n",
      "Computing phi for channel d6d1...\n"
     ]
    },
    {
     "name": "stderr",
     "output_type": "stream",
     "text": [
      "\n",
      "100%|██████████████████████████████████████████| 3/3 [00:00<00:00, 3005.23it/s]\n"
     ]
    },
    {
     "name": "stdout",
     "output_type": "stream",
     "text": [
      "Attribution score for channel d6d1: -0.47\n",
      "\n",
      "Computing phi for channel a2e2...\n"
     ]
    },
    {
     "name": "stderr",
     "output_type": "stream",
     "text": [
      "100%|████████████████████████████████████████████████████| 6/6 [00:00<?, ?it/s]\n"
     ]
    },
    {
     "name": "stdout",
     "output_type": "stream",
     "text": [
      "Attribution score for channel a2e2: -0.70\n",
      "\n",
      "Computing phi for channel c2e2...\n"
     ]
    },
    {
     "name": "stderr",
     "output_type": "stream",
     "text": [
      "100%|████████████████████████████████████████████████████| 6/6 [00:00<?, ?it/s]\n"
     ]
    },
    {
     "name": "stdout",
     "output_type": "stream",
     "text": [
      "Attribution score for channel c2e2: -0.46\n",
      "\n",
      "Computing phi for channel g4g9...\n"
     ]
    },
    {
     "name": "stderr",
     "output_type": "stream",
     "text": [
      "100%|████████████████████████████████████████████████████| 1/1 [00:00<?, ?it/s]\n"
     ]
    },
    {
     "name": "stdout",
     "output_type": "stream",
     "text": [
      "Attribution score for channel g4g9: -0.05\n",
      "\n",
      "Computing phi for channel d2h2...\n"
     ]
    },
    {
     "name": "stderr",
     "output_type": "stream",
     "text": [
      "100%|████████████████████████████████████████████████████| 3/3 [00:00<?, ?it/s]\n"
     ]
    },
    {
     "name": "stdout",
     "output_type": "stream",
     "text": [
      "Attribution score for channel d2h2: -0.21\n",
      "\n",
      "Computing phi for channel a2c0...\n"
     ]
    },
    {
     "name": "stderr",
     "output_type": "stream",
     "text": [
      "100%|██████████████████████████████████████████████████| 30/30 [00:00<?, ?it/s]\n"
     ]
    },
    {
     "name": "stdout",
     "output_type": "stream",
     "text": [
      "Attribution score for channel a2c0: -5.66\n",
      "\n",
      "Computing phi for channel g4f4...\n"
     ]
    },
    {
     "name": "stderr",
     "output_type": "stream",
     "text": [
      "100%|██████████████████████████████████████████| 5/5 [00:00<00:00, 5014.71it/s]\n"
     ]
    },
    {
     "name": "stdout",
     "output_type": "stream",
     "text": [
      "Attribution score for channel g4f4: -1.22\n",
      "\n",
      "Computing phi for channel f4f1...\n"
     ]
    },
    {
     "name": "stderr",
     "output_type": "stream",
     "text": [
      "100%|████████████████████████████████████████████████████| 6/6 [00:00<?, ?it/s]\n"
     ]
    },
    {
     "name": "stdout",
     "output_type": "stream",
     "text": [
      "Attribution score for channel f4f1: -1.90\n",
      "\n",
      "Computing phi for channel b2b7...\n"
     ]
    },
    {
     "name": "stderr",
     "output_type": "stream",
     "text": [
      "100%|████████████████████████████████████████████████████| 8/8 [00:00<?, ?it/s]\n"
     ]
    },
    {
     "name": "stdout",
     "output_type": "stream",
     "text": [
      "Attribution score for channel b2b7: -1.05\n",
      "\n",
      "Computing phi for channel c0d2...\n"
     ]
    },
    {
     "name": "stderr",
     "output_type": "stream",
     "text": [
      "100%|████████████████████████████████████████████████████| 1/1 [00:00<?, ?it/s]\n"
     ]
    },
    {
     "name": "stdout",
     "output_type": "stream",
     "text": [
      "Attribution score for channel c0d2: -0.06\n",
      "\n",
      "Computing phi for channel a2a3...\n"
     ]
    },
    {
     "name": "stderr",
     "output_type": "stream",
     "text": [
      "100%|████████████████████████████████████████████████████| 1/1 [00:00<?, ?it/s]\n"
     ]
    },
    {
     "name": "stdout",
     "output_type": "stream",
     "text": [
      "Attribution score for channel a2a3: -0.22\n",
      "\n",
      "Computing phi for channel i0i2...\n"
     ]
    },
    {
     "name": "stderr",
     "output_type": "stream",
     "text": [
      "100%|██████████████████████████████████████████████████| 82/82 [00:00<?, ?it/s]\n"
     ]
    },
    {
     "name": "stdout",
     "output_type": "stream",
     "text": [
      "Attribution score for channel i0i2: -14.01\n",
      "\n",
      "Computing phi for channel c4a4...\n"
     ]
    },
    {
     "name": "stderr",
     "output_type": "stream",
     "text": [
      "100%|██████████████████████████████████████████| 6/6 [00:00<00:00, 1002.54it/s]\n"
     ]
    },
    {
     "name": "stdout",
     "output_type": "stream",
     "text": [
      "Attribution score for channel c4a4: -1.39\n",
      "\n",
      "Computing phi for channel d2g2...\n"
     ]
    },
    {
     "name": "stderr",
     "output_type": "stream",
     "text": [
      "100%|████████████████████████████████████████████████████| 5/5 [00:00<?, ?it/s]\n"
     ]
    },
    {
     "name": "stdout",
     "output_type": "stream",
     "text": [
      "Attribution score for channel d2g2: -0.53\n",
      "\n",
      "Computing phi for channel c3c4...\n"
     ]
    },
    {
     "name": "stderr",
     "output_type": "stream",
     "text": [
      "100%|███████████████████████████████████████| 92/92 [00:00<00:00, 92050.56it/s]\n"
     ]
    },
    {
     "name": "stdout",
     "output_type": "stream",
     "text": [
      "Attribution score for channel c3c4: -16.09\n",
      "\n",
      "Computing phi for channel f3f7...\n"
     ]
    },
    {
     "name": "stderr",
     "output_type": "stream",
     "text": [
      "100%|████████████████████████████████████████████████████| 2/2 [00:00<?, ?it/s]\n"
     ]
    },
    {
     "name": "stdout",
     "output_type": "stream",
     "text": [
      "Attribution score for channel f3f7: -0.14\n",
      "\n",
      "Computing phi for channel c2d0...\n"
     ]
    },
    {
     "name": "stderr",
     "output_type": "stream",
     "text": [
      "100%|██████████████████████████████████████████| 6/6 [00:00<00:00, 6017.65it/s]\n"
     ]
    },
    {
     "name": "stdout",
     "output_type": "stream",
     "text": [
      "Attribution score for channel c2d0: -1.10\n",
      "\n",
      "Computing phi for channel h2f2...\n"
     ]
    },
    {
     "name": "stderr",
     "output_type": "stream",
     "text": [
      "100%|███████████████████████████████████████| 29/29 [00:00<00:00, 29043.65it/s]\n"
     ]
    },
    {
     "name": "stdout",
     "output_type": "stream",
     "text": [
      "Attribution score for channel h2f2: -5.81\n",
      "\n",
      "Computing phi for channel i2i6...\n"
     ]
    },
    {
     "name": "stderr",
     "output_type": "stream",
     "text": [
      "100%|████████████████████████████████████████████████████| 6/6 [00:00<?, ?it/s]\n"
     ]
    },
    {
     "name": "stdout",
     "output_type": "stream",
     "text": [
      "Attribution score for channel i2i6: -0.49\n",
      "\n",
      "Computing phi for channel d6d8...\n"
     ]
    },
    {
     "name": "stderr",
     "output_type": "stream",
     "text": [
      "100%|████████████████████████████████████████████████████| 1/1 [00:00<?, ?it/s]\n"
     ]
    },
    {
     "name": "stdout",
     "output_type": "stream",
     "text": [
      "Attribution score for channel d6d8: -0.10\n",
      "\n",
      "Computing phi for channel d1e1...\n"
     ]
    },
    {
     "name": "stderr",
     "output_type": "stream",
     "text": [
      "100%|███████████████████████████████████████| 15/15 [00:00<00:00, 15091.04it/s]\n"
     ]
    },
    {
     "name": "stdout",
     "output_type": "stream",
     "text": [
      "Attribution score for channel d1e1: -1.05\n",
      "\n",
      "Computing phi for channel b1b3...\n"
     ]
    },
    {
     "name": "stderr",
     "output_type": "stream",
     "text": [
      "100%|██████████████████████████████████████████████████| 17/17 [00:00<?, ?it/s]\n"
     ]
    },
    {
     "name": "stdout",
     "output_type": "stream",
     "text": [
      "Attribution score for channel b1b3: -2.50\n",
      "\n",
      "Computing phi for channel f1f2...\n"
     ]
    },
    {
     "name": "stderr",
     "output_type": "stream",
     "text": [
      "100%|██████████████████████████████████████████████████| 33/33 [00:00<?, ?it/s]\n"
     ]
    },
    {
     "name": "stdout",
     "output_type": "stream",
     "text": [
      "Attribution score for channel f1f2: -3.46\n",
      "\n",
      "Computing phi for channel h3h5...\n"
     ]
    },
    {
     "name": "stderr",
     "output_type": "stream",
     "text": [
      "100%|████████████████████████████████████████████████████| 1/1 [00:00<?, ?it/s]\n"
     ]
    },
    {
     "name": "stdout",
     "output_type": "stream",
     "text": [
      "Attribution score for channel h3h5: -0.22\n",
      "\n",
      "Computing phi for channel d5a5...\n"
     ]
    },
    {
     "name": "stderr",
     "output_type": "stream",
     "text": [
      "100%|████████████████████████████████████████████████████| 2/2 [00:00<?, ?it/s]\n"
     ]
    },
    {
     "name": "stdout",
     "output_type": "stream",
     "text": [
      "Attribution score for channel d5a5: -0.14\n",
      "\n",
      "Computing phi for channel d4f4...\n"
     ]
    },
    {
     "name": "stderr",
     "output_type": "stream",
     "text": [
      "100%|████████████████████████████████████████████████████| 5/5 [00:00<?, ?it/s]\n"
     ]
    },
    {
     "name": "stdout",
     "output_type": "stream",
     "text": [
      "Attribution score for channel d4f4: -0.48\n",
      "\n",
      "Computing phi for channel e1b1...\n"
     ]
    },
    {
     "name": "stderr",
     "output_type": "stream",
     "text": [
      "100%|████████████████████████████████████████████████████| 2/2 [00:00<?, ?it/s]\n"
     ]
    },
    {
     "name": "stdout",
     "output_type": "stream",
     "text": [
      "Attribution score for channel e1b1: -0.18\n",
      "\n",
      "Computing phi for channel a2c1...\n"
     ]
    },
    {
     "name": "stderr",
     "output_type": "stream",
     "text": [
      "100%|██████████████████████████████████████████████████| 13/13 [00:00<?, ?it/s]\n"
     ]
    },
    {
     "name": "stdout",
     "output_type": "stream",
     "text": [
      "Attribution score for channel a2c1: -1.77\n",
      "\n",
      "Computing phi for channel b5b7...\n"
     ]
    },
    {
     "name": "stderr",
     "output_type": "stream",
     "text": [
      "100%|██████████████████████████████████████████| 1/1 [00:00<00:00, 1003.66it/s]\n"
     ]
    },
    {
     "name": "stdout",
     "output_type": "stream",
     "text": [
      "Attribution score for channel b5b7: -0.12\n",
      "\n",
      "Computing phi for channel h7c7...\n"
     ]
    },
    {
     "name": "stderr",
     "output_type": "stream",
     "text": [
      "100%|████████████████████████████████████████████████████| 4/4 [00:00<?, ?it/s]\n"
     ]
    },
    {
     "name": "stdout",
     "output_type": "stream",
     "text": [
      "Attribution score for channel h7c7: -0.38\n",
      "\n",
      "Computing phi for channel g2h2...\n"
     ]
    },
    {
     "name": "stderr",
     "output_type": "stream",
     "text": [
      "100%|██████████████████████████████████████████████████| 26/26 [00:00<?, ?it/s]\n"
     ]
    },
    {
     "name": "stdout",
     "output_type": "stream",
     "text": [
      "Attribution score for channel g2h2: -4.63\n",
      "\n",
      "Computing phi for channel f1b1...\n"
     ]
    },
    {
     "name": "stderr",
     "output_type": "stream",
     "text": [
      "100%|████████████████████████████████████████████████████| 2/2 [00:00<?, ?it/s]\n"
     ]
    },
    {
     "name": "stdout",
     "output_type": "stream",
     "text": [
      "Attribution score for channel f1b1: -0.25\n",
      "\n",
      "Computing phi for channel e4f4...\n"
     ]
    },
    {
     "name": "stderr",
     "output_type": "stream",
     "text": [
      "100%|████████████████████████████████████████████████████| 5/5 [00:00<?, ?it/s]\n"
     ]
    },
    {
     "name": "stdout",
     "output_type": "stream",
     "text": [
      "Attribution score for channel e4f4: -0.36\n",
      "\n",
      "Computing phi for channel e6f6...\n"
     ]
    },
    {
     "name": "stderr",
     "output_type": "stream",
     "text": [
      "100%|████████████████████████████████████████████████████| 1/1 [00:00<?, ?it/s]\n"
     ]
    },
    {
     "name": "stdout",
     "output_type": "stream",
     "text": [
      "Attribution score for channel e6f6: -0.06\n",
      "\n",
      "Computing phi for channel b0b2...\n"
     ]
    },
    {
     "name": "stderr",
     "output_type": "stream",
     "text": [
      "100%|████████████████████████████████████████████████████| 1/1 [00:00<?, ?it/s]\n"
     ]
    },
    {
     "name": "stdout",
     "output_type": "stream",
     "text": [
      "Attribution score for channel b0b2: -0.14\n",
      "\n",
      "Computing phi for channel f1e1...\n"
     ]
    },
    {
     "name": "stderr",
     "output_type": "stream",
     "text": [
      "100%|██████████████████████████████████████████████████| 34/34 [00:00<?, ?it/s]\n"
     ]
    },
    {
     "name": "stdout",
     "output_type": "stream",
     "text": [
      "Attribution score for channel f1e1: -3.67\n",
      "\n",
      "Computing phi for channel f7f4...\n"
     ]
    },
    {
     "name": "stderr",
     "output_type": "stream",
     "text": [
      "100%|████████████████████████████████████████████████████| 1/1 [00:00<?, ?it/s]\n"
     ]
    },
    {
     "name": "stdout",
     "output_type": "stream",
     "text": [
      "Attribution score for channel f7f4: -0.05\n",
      "\n",
      "Computing phi for channel e1c1...\n"
     ]
    },
    {
     "name": "stderr",
     "output_type": "stream",
     "text": [
      "100%|████████████████████████████████████████████████████| 1/1 [00:00<?, ?it/s]\n"
     ]
    },
    {
     "name": "stdout",
     "output_type": "stream",
     "text": [
      "Attribution score for channel e1c1: -0.05\n",
      "\n",
      "Computing phi for channel b8g8...\n"
     ]
    },
    {
     "name": "stderr",
     "output_type": "stream",
     "text": [
      "100%|████████████████████████████████████████████████████| 1/1 [00:00<?, ?it/s]\n"
     ]
    },
    {
     "name": "stdout",
     "output_type": "stream",
     "text": [
      "Attribution score for channel b8g8: -0.05\n",
      "\n",
      "Computing phi for channel d5d0...\n"
     ]
    },
    {
     "name": "stderr",
     "output_type": "stream",
     "text": [
      "100%|██████████████████████████████████████████| 1/1 [00:00<00:00, 1002.22it/s]\n"
     ]
    },
    {
     "name": "stdout",
     "output_type": "stream",
     "text": [
      "Attribution score for channel d5d0: -0.08\n",
      "\n",
      "Computing phi for channel i2i1...\n"
     ]
    },
    {
     "name": "stderr",
     "output_type": "stream",
     "text": [
      "100%|████████████████████████████████████████████████████| 8/8 [00:00<?, ?it/s]\n"
     ]
    },
    {
     "name": "stdout",
     "output_type": "stream",
     "text": [
      "Attribution score for channel i2i1: -2.24\n",
      "\n",
      "Computing phi for channel b5a5...\n"
     ]
    },
    {
     "name": "stderr",
     "output_type": "stream",
     "text": [
      "100%|████████████████████████████████████████████████████| 3/3 [00:00<?, ?it/s]\n"
     ]
    },
    {
     "name": "stdout",
     "output_type": "stream",
     "text": [
      "Attribution score for channel b5a5: -0.23\n",
      "\n",
      "Computing phi for channel e2h2...\n"
     ]
    },
    {
     "name": "stderr",
     "output_type": "stream",
     "text": [
      "100%|███████████████████████████████████████| 10/10 [00:00<00:00, 10031.82it/s]\n"
     ]
    },
    {
     "name": "stdout",
     "output_type": "stream",
     "text": [
      "Attribution score for channel e2h2: -1.89\n",
      "\n",
      "Computing phi for channel h2h1...\n"
     ]
    },
    {
     "name": "stderr",
     "output_type": "stream",
     "text": [
      "100%|███████████████████████████████████████| 23/23 [00:00<00:00, 23073.19it/s]\n"
     ]
    },
    {
     "name": "stdout",
     "output_type": "stream",
     "text": [
      "Attribution score for channel h2h1: -5.28\n",
      "\n",
      "Computing phi for channel h8f8...\n"
     ]
    },
    {
     "name": "stderr",
     "output_type": "stream",
     "text": [
      "100%|██████████████████████████████████████████| 2/2 [00:00<00:00, 2004.45it/s]\n"
     ]
    },
    {
     "name": "stdout",
     "output_type": "stream",
     "text": [
      "Attribution score for channel h8f8: -0.18\n",
      "\n",
      "Computing phi for channel b3b9...\n"
     ]
    },
    {
     "name": "stderr",
     "output_type": "stream",
     "text": [
      "100%|████████████████████████████████████████████████████| 2/2 [00:00<?, ?it/s]\n"
     ]
    },
    {
     "name": "stdout",
     "output_type": "stream",
     "text": [
      "Attribution score for channel b3b9: -0.17\n",
      "\n",
      "Computing phi for channel f0a0...\n"
     ]
    },
    {
     "name": "stderr",
     "output_type": "stream",
     "text": [
      "100%|████████████████████████████████████████████████████| 1/1 [00:00<?, ?it/s]\n"
     ]
    },
    {
     "name": "stdout",
     "output_type": "stream",
     "text": [
      "Attribution score for channel f0a0: -0.07\n",
      "\n",
      "Computing phi for channel a2h2...\n"
     ]
    },
    {
     "name": "stderr",
     "output_type": "stream",
     "text": [
      "100%|████████████████████████████████████████████████████| 5/5 [00:00<?, ?it/s]\n"
     ]
    },
    {
     "name": "stdout",
     "output_type": "stream",
     "text": [
      "Attribution score for channel a2h2: -0.39\n",
      "\n",
      "Computing phi for channel i1h1...\n"
     ]
    },
    {
     "name": "stderr",
     "output_type": "stream",
     "text": [
      "100%|████████████████████████████████████████████████████| 5/5 [00:00<?, ?it/s]\n"
     ]
    },
    {
     "name": "stdout",
     "output_type": "stream",
     "text": [
      "Attribution score for channel i1h1: -0.64\n",
      "\n",
      "Computing phi for channel b2h2...\n"
     ]
    },
    {
     "name": "stderr",
     "output_type": "stream",
     "text": [
      "100%|██████████████████████████████████████████| 4/4 [00:00<00:00, 4013.69it/s]\n"
     ]
    },
    {
     "name": "stdout",
     "output_type": "stream",
     "text": [
      "Attribution score for channel b2h2: -0.33\n",
      "\n",
      "Computing phi for channel e3c3...\n"
     ]
    },
    {
     "name": "stderr",
     "output_type": "stream",
     "text": [
      "100%|████████████████████████████████████████████████████| 1/1 [00:00<?, ?it/s]\n"
     ]
    },
    {
     "name": "stdout",
     "output_type": "stream",
     "text": [
      "Attribution score for channel e3c3: -0.10\n",
      "\n",
      "Computing phi for channel f2d2...\n"
     ]
    },
    {
     "name": "stderr",
     "output_type": "stream",
     "text": [
      "100%|████████████████████████████████████████████████████| 7/7 [00:00<?, ?it/s]\n"
     ]
    },
    {
     "name": "stdout",
     "output_type": "stream",
     "text": [
      "Attribution score for channel f2d2: -0.54\n",
      "\n",
      "Computing phi for channel h3h7...\n"
     ]
    },
    {
     "name": "stderr",
     "output_type": "stream",
     "text": [
      "100%|█████████████████████████████████████████| 1/1 [00:00<00:00, 34379.54it/s]\n"
     ]
    },
    {
     "name": "stdout",
     "output_type": "stream",
     "text": [
      "Attribution score for channel h3h7: -0.10\n",
      "\n",
      "Computing phi for channel f1a1...\n"
     ]
    },
    {
     "name": "stderr",
     "output_type": "stream",
     "text": [
      "100%|████████████████████████████████████████████████████| 1/1 [00:00<?, ?it/s]\n"
     ]
    },
    {
     "name": "stdout",
     "output_type": "stream",
     "text": [
      "Attribution score for channel f1a1: -0.12\n",
      "\n",
      "Computing phi for channel h3h2...\n"
     ]
    },
    {
     "name": "stderr",
     "output_type": "stream",
     "text": [
      "100%|████████████████████████████████████████████████████| 4/4 [00:00<?, ?it/s]\n"
     ]
    },
    {
     "name": "stdout",
     "output_type": "stream",
     "text": [
      "Attribution score for channel h3h2: -0.62\n",
      "\n",
      "Computing phi for channel b0b3...\n"
     ]
    },
    {
     "name": "stderr",
     "output_type": "stream",
     "text": [
      "100%|████████████████████████████████████████████████████| 5/5 [00:00<?, ?it/s]\n"
     ]
    },
    {
     "name": "stdout",
     "output_type": "stream",
     "text": [
      "Attribution score for channel b0b3: -0.31\n",
      "\n",
      "Computing phi for channel c2g2...\n"
     ]
    },
    {
     "name": "stderr",
     "output_type": "stream",
     "text": [
      "100%|████████████████████████████████████████████████████| 4/4 [00:00<?, ?it/s]\n"
     ]
    },
    {
     "name": "stdout",
     "output_type": "stream",
     "text": [
      "Attribution score for channel c2g2: -0.29\n",
      "\n",
      "Computing phi for channel d0d1...\n"
     ]
    },
    {
     "name": "stderr",
     "output_type": "stream",
     "text": [
      "100%|██████████████████████████████████████████████████| 18/18 [00:00<?, ?it/s]\n"
     ]
    },
    {
     "name": "stdout",
     "output_type": "stream",
     "text": [
      "Attribution score for channel d0d1: -1.20\n",
      "\n",
      "Computing phi for channel e4d4...\n"
     ]
    },
    {
     "name": "stderr",
     "output_type": "stream",
     "text": [
      "100%|██████████████████████████████████████████| 2/2 [00:00<00:00, 2005.88it/s]\n"
     ]
    },
    {
     "name": "stdout",
     "output_type": "stream",
     "text": [
      "Attribution score for channel e4d4: -0.18\n",
      "\n",
      "Computing phi for channel h6h3...\n"
     ]
    },
    {
     "name": "stderr",
     "output_type": "stream",
     "text": [
      "100%|████████████████████████████████████████████████████| 6/6 [00:00<?, ?it/s]\n"
     ]
    },
    {
     "name": "stdout",
     "output_type": "stream",
     "text": [
      "Attribution score for channel h6h3: -0.71\n",
      "\n",
      "Computing phi for channel b6b7...\n"
     ]
    },
    {
     "name": "stderr",
     "output_type": "stream",
     "text": [
      "100%|████████████████████████████████████████████████████| 4/4 [00:00<?, ?it/s]\n"
     ]
    },
    {
     "name": "stdout",
     "output_type": "stream",
     "text": [
      "Attribution score for channel b6b7: -0.94\n",
      "\n",
      "Computing phi for channel h5g5...\n"
     ]
    },
    {
     "name": "stderr",
     "output_type": "stream",
     "text": [
      "100%|██████████████████████████████████████████| 1/1 [00:00<00:00, 1001.98it/s]\n"
     ]
    },
    {
     "name": "stdout",
     "output_type": "stream",
     "text": [
      "Attribution score for channel h5g5: -0.07\n",
      "\n",
      "Computing phi for channel c2c5...\n"
     ]
    },
    {
     "name": "stderr",
     "output_type": "stream",
     "text": [
      "100%|███████████████████████████████████████████| 1/1 [00:00<00:00, 500.57it/s]\n"
     ]
    },
    {
     "name": "stdout",
     "output_type": "stream",
     "text": [
      "Attribution score for channel c2c5: -0.05\n",
      "\n",
      "Computing phi for channel f2f5...\n"
     ]
    },
    {
     "name": "stderr",
     "output_type": "stream",
     "text": [
      "100%|████████████████████████████████████████████████████| 7/7 [00:00<?, ?it/s]\n"
     ]
    },
    {
     "name": "stdout",
     "output_type": "stream",
     "text": [
      "Attribution score for channel f2f5: -1.04\n",
      "\n",
      "Computing phi for channel d2b2...\n"
     ]
    },
    {
     "name": "stderr",
     "output_type": "stream",
     "text": [
      "100%|███████████████████████████████████████| 22/22 [00:00<00:00, 21975.40it/s]\n"
     ]
    },
    {
     "name": "stdout",
     "output_type": "stream",
     "text": [
      "Attribution score for channel d2b2: -3.75\n",
      "\n",
      "Computing phi for channel g2i2...\n"
     ]
    },
    {
     "name": "stderr",
     "output_type": "stream",
     "text": [
      "100%|██████████████████████████████████████████████████| 14/14 [00:00<?, ?it/s]\n"
     ]
    },
    {
     "name": "stdout",
     "output_type": "stream",
     "text": [
      "Attribution score for channel g2i2: -3.20\n",
      "\n",
      "Computing phi for channel c9d9...\n"
     ]
    },
    {
     "name": "stderr",
     "output_type": "stream",
     "text": [
      "100%|████████████████████████████████████████████████████| 1/1 [00:00<?, ?it/s]\n"
     ]
    },
    {
     "name": "stdout",
     "output_type": "stream",
     "text": [
      "Attribution score for channel c9d9: -0.07\n",
      "\n",
      "Computing phi for channel f8f4...\n"
     ]
    },
    {
     "name": "stderr",
     "output_type": "stream",
     "text": [
      "100%|████████████████████████████████████████████████████| 2/2 [00:00<?, ?it/s]\n"
     ]
    },
    {
     "name": "stdout",
     "output_type": "stream",
     "text": [
      "Attribution score for channel f8f4: -0.27\n",
      "\n",
      "Computing phi for channel c4c5...\n"
     ]
    },
    {
     "name": "stderr",
     "output_type": "stream",
     "text": [
      "100%|██████████████████████████████████████████████████| 25/25 [00:00<?, ?it/s]"
     ]
    },
    {
     "name": "stdout",
     "output_type": "stream",
     "text": [
      "Attribution score for channel c4c5: -1.99\n",
      "\n",
      "Computing phi for channel a1h1...\n"
     ]
    },
    {
     "name": "stderr",
     "output_type": "stream",
     "text": [
      "\n",
      "100%|████████████████████████████████████████████████████| 9/9 [00:00<?, ?it/s]\n"
     ]
    },
    {
     "name": "stdout",
     "output_type": "stream",
     "text": [
      "Attribution score for channel a1h1: -1.52\n",
      "\n",
      "Computing phi for channel h2h5...\n"
     ]
    },
    {
     "name": "stderr",
     "output_type": "stream",
     "text": [
      "100%|██████████████████████████████████████████████████| 38/38 [00:00<?, ?it/s]\n"
     ]
    },
    {
     "name": "stdout",
     "output_type": "stream",
     "text": [
      "Attribution score for channel h2h5: -186.59\n",
      "\n",
      "Computing phi for channel h0h8...\n"
     ]
    },
    {
     "name": "stderr",
     "output_type": "stream",
     "text": [
      "100%|████████████████████████████████████████████████████| 1/1 [00:00<?, ?it/s]\n"
     ]
    },
    {
     "name": "stdout",
     "output_type": "stream",
     "text": [
      "Attribution score for channel h0h8: -0.08\n",
      "\n",
      "Computing phi for channel b7b2...\n"
     ]
    },
    {
     "name": "stderr",
     "output_type": "stream",
     "text": [
      "100%|████████████████████████████████████████████████████| 2/2 [00:00<?, ?it/s]\n"
     ]
    },
    {
     "name": "stdout",
     "output_type": "stream",
     "text": [
      "Attribution score for channel b7b2: -0.20\n",
      "\n",
      "Computing phi for channel b4b0...\n"
     ]
    },
    {
     "name": "stderr",
     "output_type": "stream",
     "text": [
      "100%|████████████████████████████████████████████████████| 2/2 [00:00<?, ?it/s]\n"
     ]
    },
    {
     "name": "stdout",
     "output_type": "stream",
     "text": [
      "Attribution score for channel b4b0: -0.21\n",
      "\n",
      "Computing phi for channel d3d5...\n"
     ]
    },
    {
     "name": "stderr",
     "output_type": "stream",
     "text": [
      "100%|████████████████████████████████████████████████████| 1/1 [00:00<?, ?it/s]\n"
     ]
    },
    {
     "name": "stdout",
     "output_type": "stream",
     "text": [
      "Attribution score for channel d3d5: -0.08\n",
      "\n",
      "Computing phi for channel h8h3...\n"
     ]
    },
    {
     "name": "stderr",
     "output_type": "stream",
     "text": [
      "100%|████████████████████████████████████████████████████| 1/1 [00:00<?, ?it/s]\n"
     ]
    },
    {
     "name": "stdout",
     "output_type": "stream",
     "text": [
      "Attribution score for channel h8h3: -0.08\n",
      "\n",
      "Computing phi for channel a1f1...\n"
     ]
    },
    {
     "name": "stderr",
     "output_type": "stream",
     "text": [
      "100%|███████████████████████████████████████| 13/13 [00:00<00:00, 13038.25it/s]\n"
     ]
    },
    {
     "name": "stdout",
     "output_type": "stream",
     "text": [
      "Attribution score for channel a1f1: -3.29\n",
      "\n",
      "Computing phi for channel f0e1...\n"
     ]
    },
    {
     "name": "stderr",
     "output_type": "stream",
     "text": [
      "100%|████████████████████████████████████████████████| 194/194 [00:00<?, ?it/s]\n"
     ]
    },
    {
     "name": "stdout",
     "output_type": "stream",
     "text": [
      "Attribution score for channel f0e1: -4159.41\n",
      "\n",
      "Computing phi for channel h2h9...\n"
     ]
    },
    {
     "name": "stderr",
     "output_type": "stream",
     "text": [
      "100%|████████████████████████████████████████████████████| 6/6 [00:00<?, ?it/s]\n"
     ]
    },
    {
     "name": "stdout",
     "output_type": "stream",
     "text": [
      "Attribution score for channel h2h9: -0.51\n",
      "\n",
      "Computing phi for channel b7b4...\n"
     ]
    },
    {
     "name": "stderr",
     "output_type": "stream",
     "text": [
      "100%|████████████████████████████████████████████████████| 1/1 [00:00<?, ?it/s]\n"
     ]
    },
    {
     "name": "stdout",
     "output_type": "stream",
     "text": [
      "Attribution score for channel b7b4: -0.12\n",
      "\n",
      "Computing phi for channel h5h0...\n"
     ]
    },
    {
     "name": "stderr",
     "output_type": "stream",
     "text": [
      "100%|██████████████████████████████████████████| 1/1 [00:00<00:00, 1002.70it/s]\n"
     ]
    },
    {
     "name": "stdout",
     "output_type": "stream",
     "text": [
      "Attribution score for channel h5h0: -0.08\n",
      "\n",
      "Computing phi for channel i1f1...\n"
     ]
    },
    {
     "name": "stderr",
     "output_type": "stream",
     "text": [
      "100%|████████████████████████████████████████████████████| 4/4 [00:00<?, ?it/s]\n"
     ]
    },
    {
     "name": "stdout",
     "output_type": "stream",
     "text": [
      "Attribution score for channel i1f1: -1.18\n",
      "\n",
      "Computing phi for channel h3h0...\n"
     ]
    },
    {
     "name": "stderr",
     "output_type": "stream",
     "text": [
      "100%|████████████████████████████████████████████████████| 3/3 [00:00<?, ?it/s]\n"
     ]
    },
    {
     "name": "stdout",
     "output_type": "stream",
     "text": [
      "Attribution score for channel h3h0: -1.41\n",
      "\n",
      "Computing phi for channel a1c1...\n"
     ]
    },
    {
     "name": "stderr",
     "output_type": "stream",
     "text": [
      "100%|██████████████████████████████████████████████████| 32/32 [00:00<?, ?it/s]\n"
     ]
    },
    {
     "name": "stdout",
     "output_type": "stream",
     "text": [
      "Attribution score for channel a1c1: -8.03\n",
      "\n",
      "Computing phi for channel g1h3...\n"
     ]
    },
    {
     "name": "stderr",
     "output_type": "stream",
     "text": [
      "100%|████████████████████████████████████████████████████| 1/1 [00:00<?, ?it/s]\n"
     ]
    },
    {
     "name": "stdout",
     "output_type": "stream",
     "text": [
      "Attribution score for channel g1h3: -0.05\n",
      "\n",
      "Computing phi for channel b0b1...\n"
     ]
    },
    {
     "name": "stderr",
     "output_type": "stream",
     "text": [
      "100%|████████████████████████████████████████████████████| 6/6 [00:00<?, ?it/s]\n"
     ]
    },
    {
     "name": "stdout",
     "output_type": "stream",
     "text": [
      "Attribution score for channel b0b1: -0.45\n",
      "\n",
      "Computing phi for channel b7e7...\n"
     ]
    },
    {
     "name": "stderr",
     "output_type": "stream",
     "text": [
      "100%|████████████████████████████████████████████████████| 1/1 [00:00<?, ?it/s]\n"
     ]
    },
    {
     "name": "stdout",
     "output_type": "stream",
     "text": [
      "Attribution score for channel b7e7: -0.05\n",
      "\n",
      "Computing phi for channel h6h7...\n"
     ]
    },
    {
     "name": "stderr",
     "output_type": "stream",
     "text": [
      "100%|████████████████████████████████████████████████████| 2/2 [00:00<?, ?it/s]\n"
     ]
    },
    {
     "name": "stdout",
     "output_type": "stream",
     "text": [
      "Attribution score for channel h6h7: -0.58\n",
      "\n",
      "Computing phi for channel f4f5...\n"
     ]
    },
    {
     "name": "stderr",
     "output_type": "stream",
     "text": [
      "100%|██████████████████████████████████████████| 6/6 [00:00<00:00, 6017.65it/s]\n"
     ]
    },
    {
     "name": "stdout",
     "output_type": "stream",
     "text": [
      "Attribution score for channel f4f5: -0.47\n",
      "\n",
      "Computing phi for channel f4f2...\n"
     ]
    },
    {
     "name": "stderr",
     "output_type": "stream",
     "text": [
      "100%|████████████████████████████████████████████████████| 2/2 [00:00<?, ?it/s]\n"
     ]
    },
    {
     "name": "stdout",
     "output_type": "stream",
     "text": [
      "Attribution score for channel f4f2: -0.17\n",
      "\n",
      "Computing phi for channel d8i8...\n"
     ]
    },
    {
     "name": "stderr",
     "output_type": "stream",
     "text": [
      "100%|████████████████████████████████████████████████████| 1/1 [00:00<?, ?it/s]\n"
     ]
    },
    {
     "name": "stdout",
     "output_type": "stream",
     "text": [
      "Attribution score for channel d8i8: -0.07\n",
      "\n",
      "Computing phi for channel b5d5...\n"
     ]
    },
    {
     "name": "stderr",
     "output_type": "stream",
     "text": [
      "100%|████████████████████████████████████████████████████| 3/3 [00:00<?, ?it/s]\n"
     ]
    },
    {
     "name": "stdout",
     "output_type": "stream",
     "text": [
      "Attribution score for channel b5d5: -0.30\n",
      "\n",
      "Computing phi for channel d4b4...\n"
     ]
    },
    {
     "name": "stderr",
     "output_type": "stream",
     "text": [
      "100%|████████████████████████████████████████████████████| 5/5 [00:00<?, ?it/s]\n"
     ]
    },
    {
     "name": "stdout",
     "output_type": "stream",
     "text": [
      "Attribution score for channel d4b4: -0.45\n",
      "\n",
      "Computing phi for channel d1d0...\n"
     ]
    },
    {
     "name": "stderr",
     "output_type": "stream",
     "text": [
      "100%|██████████████████████████████████████████████████| 19/19 [00:00<?, ?it/s]\n"
     ]
    },
    {
     "name": "stdout",
     "output_type": "stream",
     "text": [
      "Attribution score for channel d1d0: -1.88\n",
      "\n",
      "Computing phi for channel d3d0...\n"
     ]
    },
    {
     "name": "stderr",
     "output_type": "stream",
     "text": [
      "100%|████████████████████████████████████████████████████| 1/1 [00:00<?, ?it/s]\n"
     ]
    },
    {
     "name": "stdout",
     "output_type": "stream",
     "text": [
      "Attribution score for channel d3d0: -0.08\n",
      "\n",
      "Computing phi for channel b4d3...\n"
     ]
    },
    {
     "name": "stderr",
     "output_type": "stream",
     "text": [
      "100%|████████████████████████████████████████████████████| 1/1 [00:00<?, ?it/s]\n"
     ]
    },
    {
     "name": "stdout",
     "output_type": "stream",
     "text": [
      "Attribution score for channel b4d3: -0.13\n",
      "\n",
      "Computing phi for channel b1b6...\n"
     ]
    },
    {
     "name": "stderr",
     "output_type": "stream",
     "text": [
      "100%|████████████████████████████████████████████████████| 3/3 [00:00<?, ?it/s]\n"
     ]
    },
    {
     "name": "stdout",
     "output_type": "stream",
     "text": [
      "Attribution score for channel b1b6: -0.27\n",
      "\n",
      "Computing phi for channel h2d2...\n"
     ]
    },
    {
     "name": "stderr",
     "output_type": "stream",
     "text": [
      "100%|██████████████████████████████████████████████████| 15/15 [00:00<?, ?it/s]\n"
     ]
    },
    {
     "name": "stdout",
     "output_type": "stream",
     "text": [
      "Attribution score for channel h2d2: -2.85\n",
      "\n",
      "Computing phi for channel h0i2...\n"
     ]
    },
    {
     "name": "stderr",
     "output_type": "stream",
     "text": [
      "100%|███████████████████████████████████████| 29/29 [00:00<00:00, 29071.42it/s]\n"
     ]
    },
    {
     "name": "stdout",
     "output_type": "stream",
     "text": [
      "Attribution score for channel h0i2: -5.63\n",
      "\n",
      "Computing phi for channel h5h2...\n"
     ]
    },
    {
     "name": "stderr",
     "output_type": "stream",
     "text": [
      "100%|██████████████████████████████████████████████████| 13/13 [00:00<?, ?it/s]\n"
     ]
    },
    {
     "name": "stdout",
     "output_type": "stream",
     "text": [
      "Attribution score for channel h5h2: -1.82\n",
      "\n",
      "Computing phi for channel g2f2...\n"
     ]
    },
    {
     "name": "stderr",
     "output_type": "stream",
     "text": [
      "100%|██████████████████████████████████████████████████| 13/13 [00:00<?, ?it/s]\n"
     ]
    },
    {
     "name": "stdout",
     "output_type": "stream",
     "text": [
      "Attribution score for channel g2f2: -1.73\n",
      "\n",
      "Computing phi for channel b8h8...\n"
     ]
    },
    {
     "name": "stderr",
     "output_type": "stream",
     "text": [
      "100%|████████████████████████████████████████████████████| 1/1 [00:00<?, ?it/s]\n"
     ]
    },
    {
     "name": "stdout",
     "output_type": "stream",
     "text": [
      "Attribution score for channel b8h8: -1.00\n",
      "\n",
      "Computing phi for channel h8h0...\n"
     ]
    },
    {
     "name": "stderr",
     "output_type": "stream",
     "text": [
      "100%|████████████████████████████████████████████████████| 1/1 [00:00<?, ?it/s]\n"
     ]
    },
    {
     "name": "stdout",
     "output_type": "stream",
     "text": [
      "Attribution score for channel h8h0: -0.12\n",
      "\n",
      "Computing phi for channel d0c2...\n"
     ]
    },
    {
     "name": "stderr",
     "output_type": "stream",
     "text": [
      "100%|████████████████████████████████████████████████████| 3/3 [00:00<?, ?it/s]\n"
     ]
    },
    {
     "name": "stdout",
     "output_type": "stream",
     "text": [
      "Attribution score for channel d0c2: -0.15\n",
      "\n",
      "Computing phi for channel i1e1...\n"
     ]
    },
    {
     "name": "stderr",
     "output_type": "stream",
     "text": [
      "100%|████████████████████████████████████████████████████| 5/5 [00:00<?, ?it/s]\n"
     ]
    },
    {
     "name": "stdout",
     "output_type": "stream",
     "text": [
      "Attribution score for channel i1e1: -1.24\n",
      "\n",
      "Computing phi for channel h8h2...\n"
     ]
    },
    {
     "name": "stderr",
     "output_type": "stream",
     "text": [
      "100%|██████████████████████████████████████████| 1/1 [00:00<00:00, 1003.90it/s]\n"
     ]
    },
    {
     "name": "stdout",
     "output_type": "stream",
     "text": [
      "Attribution score for channel h8h2: -0.09\n",
      "\n",
      "Computing phi for channel h4d4...\n"
     ]
    },
    {
     "name": "stderr",
     "output_type": "stream",
     "text": [
      "100%|████████████████████████████████████████████████████| 1/1 [00:00<?, ?it/s]\n"
     ]
    },
    {
     "name": "stdout",
     "output_type": "stream",
     "text": [
      "Attribution score for channel h4d4: -0.06\n",
      "\n",
      "Computing phi for channel e5f5...\n"
     ]
    },
    {
     "name": "stderr",
     "output_type": "stream",
     "text": [
      "100%|████████████████████████████████████████████████████| 1/1 [00:00<?, ?it/s]\n"
     ]
    },
    {
     "name": "stdout",
     "output_type": "stream",
     "text": [
      "Attribution score for channel e5f5: -0.07\n",
      "\n",
      "Computing phi for channel e2e0...\n"
     ]
    },
    {
     "name": "stderr",
     "output_type": "stream",
     "text": [
      "100%|████████████████████████████████████████████████████| 2/2 [00:00<?, ?it/s]\n"
     ]
    },
    {
     "name": "stdout",
     "output_type": "stream",
     "text": [
      "Attribution score for channel e2e0: -0.22\n",
      "\n",
      "Computing phi for channel h4i4...\n"
     ]
    },
    {
     "name": "stderr",
     "output_type": "stream",
     "text": [
      "100%|████████████████████████████████████████████████████| 1/1 [00:00<?, ?it/s]\n"
     ]
    },
    {
     "name": "stdout",
     "output_type": "stream",
     "text": [
      "Attribution score for channel h4i4: -0.08\n",
      "\n",
      "Computing phi for channel d3e3...\n"
     ]
    },
    {
     "name": "stderr",
     "output_type": "stream",
     "text": [
      "100%|████████████████████████████████████████████████████| 1/1 [00:00<?, ?it/s]\n"
     ]
    },
    {
     "name": "stdout",
     "output_type": "stream",
     "text": [
      "Attribution score for channel d3e3: -0.10\n",
      "\n",
      "Computing phi for channel b3b6...\n"
     ]
    },
    {
     "name": "stderr",
     "output_type": "stream",
     "text": [
      "100%|████████████████████████████████████████████████████| 9/9 [00:00<?, ?it/s]\n"
     ]
    },
    {
     "name": "stdout",
     "output_type": "stream",
     "text": [
      "Attribution score for channel b3b6: -0.89\n",
      "\n",
      "Computing phi for channel b1b2...\n"
     ]
    },
    {
     "name": "stderr",
     "output_type": "stream",
     "text": [
      "100%|██████████████████████████████████████████████████| 20/20 [00:00<?, ?it/s]\n"
     ]
    },
    {
     "name": "stdout",
     "output_type": "stream",
     "text": [
      "Attribution score for channel b1b2: -4.24\n",
      "\n",
      "Computing phi for channel d1d9...\n"
     ]
    },
    {
     "name": "stderr",
     "output_type": "stream",
     "text": [
      "100%|████████████████████████████████████████████████████| 1/1 [00:00<?, ?it/s]\n"
     ]
    },
    {
     "name": "stdout",
     "output_type": "stream",
     "text": [
      "Attribution score for channel d1d9: -0.07\n",
      "\n",
      "Computing phi for channel h1i1...\n"
     ]
    },
    {
     "name": "stderr",
     "output_type": "stream",
     "text": [
      "100%|████████████████████████████████████████████████████| 4/4 [00:00<?, ?it/s]\n"
     ]
    },
    {
     "name": "stdout",
     "output_type": "stream",
     "text": [
      "Attribution score for channel h1i1: -0.31\n",
      "\n",
      "Computing phi for channel h1b1...\n"
     ]
    },
    {
     "name": "stderr",
     "output_type": "stream",
     "text": [
      "100%|████████████████████████████████████████████████████| 3/3 [00:00<?, ?it/s]\n"
     ]
    },
    {
     "name": "stdout",
     "output_type": "stream",
     "text": [
      "Attribution score for channel h1b1: -3.30\n",
      "\n",
      "Computing phi for channel d2a2...\n"
     ]
    },
    {
     "name": "stderr",
     "output_type": "stream",
     "text": [
      "100%|██████████████████████████████████████████████████| 10/10 [00:00<?, ?it/s]\n"
     ]
    },
    {
     "name": "stdout",
     "output_type": "stream",
     "text": [
      "Attribution score for channel d2a2: -3.97\n",
      "\n",
      "Computing phi for channel b7b3...\n"
     ]
    },
    {
     "name": "stderr",
     "output_type": "stream",
     "text": [
      "100%|████████████████████████████████████████████████████| 1/1 [00:00<?, ?it/s]\n"
     ]
    },
    {
     "name": "stdout",
     "output_type": "stream",
     "text": [
      "Attribution score for channel b7b3: -0.18\n",
      "\n",
      "Computing phi for channel h3h6...\n"
     ]
    },
    {
     "name": "stderr",
     "output_type": "stream",
     "text": [
      "100%|████████████████████████████████████████████████████| 5/5 [00:00<?, ?it/s]\n"
     ]
    },
    {
     "name": "stdout",
     "output_type": "stream",
     "text": [
      "Attribution score for channel h3h6: -4.00\n",
      "\n",
      "Computing phi for channel g5f5...\n"
     ]
    },
    {
     "name": "stderr",
     "output_type": "stream",
     "text": [
      "100%|████████████████████████████████████████████████████| 2/2 [00:00<?, ?it/s]"
     ]
    },
    {
     "name": "stdout",
     "output_type": "stream",
     "text": [
      "Attribution score for channel g5f5: -0.20\n",
      "\n",
      "Computing phi for channel f8f6...\n"
     ]
    },
    {
     "name": "stderr",
     "output_type": "stream",
     "text": [
      "\n",
      "100%|████████████████████████████████████████████████████| 2/2 [00:00<?, ?it/s]\n"
     ]
    },
    {
     "name": "stdout",
     "output_type": "stream",
     "text": [
      "Attribution score for channel f8f6: -0.12\n",
      "\n",
      "Computing phi for channel b1b9...\n"
     ]
    },
    {
     "name": "stderr",
     "output_type": "stream",
     "text": [
      "100%|████████████████████████████████████████████████████| 4/4 [00:00<?, ?it/s]\n"
     ]
    },
    {
     "name": "stdout",
     "output_type": "stream",
     "text": [
      "Attribution score for channel b1b9: -0.22\n",
      "\n",
      "Computing phi for channel h2h4...\n"
     ]
    },
    {
     "name": "stderr",
     "output_type": "stream",
     "text": [
      "100%|███████████████████████████████████████| 74/74 [00:00<00:00, 74271.00it/s]\n"
     ]
    },
    {
     "name": "stdout",
     "output_type": "stream",
     "text": [
      "Attribution score for channel h2h4: -27.94\n",
      "\n",
      "Computing phi for channel h5b5...\n"
     ]
    },
    {
     "name": "stderr",
     "output_type": "stream",
     "text": [
      "100%|████████████████████████████████████████████████████| 1/1 [00:00<?, ?it/s]\n"
     ]
    },
    {
     "name": "stdout",
     "output_type": "stream",
     "text": [
      "Attribution score for channel h5b5: -0.15\n",
      "\n",
      "Computing phi for channel h7h0...\n"
     ]
    },
    {
     "name": "stderr",
     "output_type": "stream",
     "text": [
      "100%|████████████████████████████████████████████████████| 1/1 [00:00<?, ?it/s]\n"
     ]
    },
    {
     "name": "stdout",
     "output_type": "stream",
     "text": [
      "Attribution score for channel h7h0: -0.04\n",
      "\n",
      "Computing phi for channel h4h6...\n"
     ]
    },
    {
     "name": "stderr",
     "output_type": "stream",
     "text": [
      "100%|████████████████████████████████████████████████████| 2/2 [00:00<?, ?it/s]\n"
     ]
    },
    {
     "name": "stdout",
     "output_type": "stream",
     "text": [
      "Attribution score for channel h4h6: -0.20\n",
      "\n",
      "Computing phi for channel d4c4...\n"
     ]
    },
    {
     "name": "stderr",
     "output_type": "stream",
     "text": [
      "100%|████████████████████████████████████████████████████| 1/1 [00:00<?, ?it/s]\n"
     ]
    },
    {
     "name": "stdout",
     "output_type": "stream",
     "text": [
      "Attribution score for channel d4c4: -0.08\n",
      "\n",
      "Computing phi for channel h3i3...\n"
     ]
    },
    {
     "name": "stderr",
     "output_type": "stream",
     "text": [
      "100%|████████████████████████████████████████████████████| 1/1 [00:00<?, ?it/s]\n"
     ]
    },
    {
     "name": "stdout",
     "output_type": "stream",
     "text": [
      "Attribution score for channel h3i3: -0.06\n",
      "\n",
      "Computing phi for channel e6d6...\n"
     ]
    },
    {
     "name": "stderr",
     "output_type": "stream",
     "text": [
      "100%|██████████████████████████████████████████| 1/1 [00:00<00:00, 1005.11it/s]\n"
     ]
    },
    {
     "name": "stdout",
     "output_type": "stream",
     "text": [
      "Attribution score for channel e6d6: -0.14\n",
      "\n",
      "Computing phi for channel f2f3...\n"
     ]
    },
    {
     "name": "stderr",
     "output_type": "stream",
     "text": [
      "100%|████████████████████████████████████████████████████| 9/9 [00:00<?, ?it/s]\n"
     ]
    },
    {
     "name": "stdout",
     "output_type": "stream",
     "text": [
      "Attribution score for channel f2f3: -1.26\n",
      "\n",
      "Computing phi for channel i1i0...\n"
     ]
    },
    {
     "name": "stderr",
     "output_type": "stream",
     "text": [
      "100%|██████████████████████████████████████████| 6/6 [00:00<00:00, 6034.97it/s]\n"
     ]
    },
    {
     "name": "stdout",
     "output_type": "stream",
     "text": [
      "Attribution score for channel i1i0: -0.53\n",
      "\n",
      "Computing phi for channel b6b5...\n"
     ]
    },
    {
     "name": "stderr",
     "output_type": "stream",
     "text": [
      "100%|████████████████████████████████████████████████████| 1/1 [00:00<?, ?it/s]\n"
     ]
    },
    {
     "name": "stdout",
     "output_type": "stream",
     "text": [
      "Attribution score for channel b6b5: -0.10\n",
      "\n",
      "Computing phi for channel c2c0...\n"
     ]
    },
    {
     "name": "stderr",
     "output_type": "stream",
     "text": [
      "100%|████████████████████████████████████████████████████| 1/1 [00:00<?, ?it/s]"
     ]
    },
    {
     "name": "stdout",
     "output_type": "stream",
     "text": [
      "Attribution score for channel c2c0: -0.05\n",
      "\n",
      "Computing phi for channel e4e8...\n"
     ]
    },
    {
     "name": "stderr",
     "output_type": "stream",
     "text": [
      "\n",
      "100%|████████████████████████████████████████████████████| 1/1 [00:00<?, ?it/s]\n"
     ]
    },
    {
     "name": "stdout",
     "output_type": "stream",
     "text": [
      "Attribution score for channel e4e8: -0.07\n",
      "\n",
      "Computing phi for channel g2b2...\n"
     ]
    },
    {
     "name": "stderr",
     "output_type": "stream",
     "text": [
      "100%|████████████████████████████████████████████████████| 5/5 [00:00<?, ?it/s]\n"
     ]
    },
    {
     "name": "stdout",
     "output_type": "stream",
     "text": [
      "Attribution score for channel g2b2: -1.09\n",
      "\n",
      "Computing phi for channel h8a8...\n"
     ]
    },
    {
     "name": "stderr",
     "output_type": "stream",
     "text": [
      "100%|████████████████████████████████████████████████████| 1/1 [00:00<?, ?it/s]\n"
     ]
    },
    {
     "name": "stdout",
     "output_type": "stream",
     "text": [
      "Attribution score for channel h8a8: -0.12\n",
      "\n",
      "Computing phi for channel b4f4...\n"
     ]
    },
    {
     "name": "stderr",
     "output_type": "stream",
     "text": [
      "100%|████████████████████████████████████████████████████| 1/1 [00:00<?, ?it/s]\n"
     ]
    },
    {
     "name": "stdout",
     "output_type": "stream",
     "text": [
      "Attribution score for channel b4f4: -0.07\n",
      "\n",
      "Computing phi for channel d1i1...\n"
     ]
    },
    {
     "name": "stderr",
     "output_type": "stream",
     "text": [
      "100%|████████████████████████████████████████████████████| 2/2 [00:00<?, ?it/s]\n"
     ]
    },
    {
     "name": "stdout",
     "output_type": "stream",
     "text": [
      "Attribution score for channel d1i1: -1.72\n",
      "\n",
      "Computing phi for channel h7h6...\n"
     ]
    },
    {
     "name": "stderr",
     "output_type": "stream",
     "text": [
      "100%|████████████████████████████████████████████████████| 1/1 [00:00<?, ?it/s]\n"
     ]
    },
    {
     "name": "stdout",
     "output_type": "stream",
     "text": [
      "Attribution score for channel h7h6: -0.50\n",
      "\n",
      "Computing phi for channel c1a0...\n"
     ]
    },
    {
     "name": "stderr",
     "output_type": "stream",
     "text": [
      "100%|████████████████████████████████████████████████████| 1/1 [00:00<?, ?it/s]\n"
     ]
    },
    {
     "name": "stdout",
     "output_type": "stream",
     "text": [
      "Attribution score for channel c1a0: -0.12\n",
      "\n",
      "Computing phi for channel g4a4...\n"
     ]
    },
    {
     "name": "stderr",
     "output_type": "stream",
     "text": [
      "100%|████████████████████████████████████████████████████| 1/1 [00:00<?, ?it/s]\n"
     ]
    },
    {
     "name": "stdout",
     "output_type": "stream",
     "text": [
      "Attribution score for channel g4a4: -0.04\n",
      "\n",
      "Computing phi for channel i2i3...\n"
     ]
    },
    {
     "name": "stderr",
     "output_type": "stream",
     "text": [
      "100%|████████████████████████████████████████████████████| 1/1 [00:00<?, ?it/s]\n"
     ]
    },
    {
     "name": "stdout",
     "output_type": "stream",
     "text": [
      "Attribution score for channel i2i3: -0.07\n",
      "\n",
      "Computing phi for channel d2d4...\n"
     ]
    },
    {
     "name": "stderr",
     "output_type": "stream",
     "text": [
      "100%|████████████████████████████████████████████████████| 5/5 [00:00<?, ?it/s]\n"
     ]
    },
    {
     "name": "stdout",
     "output_type": "stream",
     "text": [
      "Attribution score for channel d2d4: -0.42\n",
      "\n",
      "Computing phi for channel i0i3...\n"
     ]
    },
    {
     "name": "stderr",
     "output_type": "stream",
     "text": [
      "100%|██████████████████████████████████████████████████| 19/19 [00:00<?, ?it/s]\n"
     ]
    },
    {
     "name": "stdout",
     "output_type": "stream",
     "text": [
      "Attribution score for channel i0i3: -2.98\n",
      "\n",
      "Computing phi for channel a2a6...\n"
     ]
    },
    {
     "name": "stderr",
     "output_type": "stream",
     "text": [
      "100%|████████████████████████████████████████████████████| 1/1 [00:00<?, ?it/s]\n"
     ]
    },
    {
     "name": "stdout",
     "output_type": "stream",
     "text": [
      "Attribution score for channel a2a6: -0.06\n",
      "\n",
      "Computing phi for channel b0c2...\n"
     ]
    },
    {
     "name": "stderr",
     "output_type": "stream",
     "text": [
      "100%|████████████████████████████████████| 153/153 [00:00<00:00, 153450.15it/s]\n"
     ]
    },
    {
     "name": "stdout",
     "output_type": "stream",
     "text": [
      "Attribution score for channel b0c2: -37.27\n",
      "\n",
      "Computing phi for channel e2b2...\n"
     ]
    },
    {
     "name": "stderr",
     "output_type": "stream",
     "text": [
      "100%|████████████████████████████████████████████████████| 8/8 [00:00<?, ?it/s]\n"
     ]
    },
    {
     "name": "stdout",
     "output_type": "stream",
     "text": [
      "Attribution score for channel e2b2: -3.07\n",
      "\n",
      "Computing phi for channel c2c1...\n"
     ]
    },
    {
     "name": "stderr",
     "output_type": "stream",
     "text": [
      "100%|████████████████████████████████████████████████████| 4/4 [00:00<?, ?it/s]\n"
     ]
    },
    {
     "name": "stdout",
     "output_type": "stream",
     "text": [
      "Attribution score for channel c2c1: -0.29\n",
      "\n",
      "Computing phi for channel b3a3...\n"
     ]
    },
    {
     "name": "stderr",
     "output_type": "stream",
     "text": [
      "100%|████████████████████████████████████████████████████| 3/3 [00:00<?, ?it/s]\n"
     ]
    },
    {
     "name": "stdout",
     "output_type": "stream",
     "text": [
      "Attribution score for channel b3a3: -0.26\n",
      "\n",
      "Computing phi for channel e2d2...\n"
     ]
    },
    {
     "name": "stderr",
     "output_type": "stream",
     "text": [
      "100%|██████████████████████████████████████████████████| 41/41 [00:00<?, ?it/s]\n"
     ]
    },
    {
     "name": "stdout",
     "output_type": "stream",
     "text": [
      "Attribution score for channel e2d2: -7.49\n",
      "\n",
      "Computing phi for channel a2a5...\n"
     ]
    },
    {
     "name": "stderr",
     "output_type": "stream",
     "text": [
      "100%|████████████████████████████████████████████████████| 1/1 [00:00<?, ?it/s]\n"
     ]
    },
    {
     "name": "stdout",
     "output_type": "stream",
     "text": [
      "Attribution score for channel a2a5: -0.10\n",
      "\n",
      "Computing phi for channel e2a2...\n"
     ]
    },
    {
     "name": "stderr",
     "output_type": "stream",
     "text": [
      "100%|████████████████████████████████████████████████████| 1/1 [00:00<?, ?it/s]\n"
     ]
    },
    {
     "name": "stdout",
     "output_type": "stream",
     "text": [
      "Attribution score for channel e2a2: -0.08\n",
      "\n",
      "Computing phi for channel e0d0...\n"
     ]
    },
    {
     "name": "stderr",
     "output_type": "stream",
     "text": [
      "100%|██████████████████████████████████████████████████| 26/26 [00:00<?, ?it/s]\n"
     ]
    },
    {
     "name": "stdout",
     "output_type": "stream",
     "text": [
      "Attribution score for channel e0d0: -2.66\n",
      "\n",
      "Computing phi for channel g2g0...\n"
     ]
    },
    {
     "name": "stderr",
     "output_type": "stream",
     "text": [
      "100%|██████████████████████████████████████████| 4/4 [00:00<00:00, 4006.98it/s]\n"
     ]
    },
    {
     "name": "stdout",
     "output_type": "stream",
     "text": [
      "Attribution score for channel g2g0: -0.61\n",
      "\n",
      "Computing phi for channel i2g0...\n"
     ]
    },
    {
     "name": "stderr",
     "output_type": "stream",
     "text": [
      "100%|██████████████████████████████████████████████████| 19/19 [00:00<?, ?it/s]\n"
     ]
    },
    {
     "name": "stdout",
     "output_type": "stream",
     "text": [
      "Attribution score for channel i2g0: -3.54\n",
      "\n",
      "Computing phi for channel g1h1...\n"
     ]
    },
    {
     "name": "stderr",
     "output_type": "stream",
     "text": [
      "100%|████████████████████████████████████████████████████| 2/2 [00:00<?, ?it/s]\n"
     ]
    },
    {
     "name": "stdout",
     "output_type": "stream",
     "text": [
      "Attribution score for channel g1h1: -0.13\n",
      "\n",
      "Computing phi for channel b7b0...\n"
     ]
    },
    {
     "name": "stderr",
     "output_type": "stream",
     "text": [
      "100%|████████████████████████████████████████████████████| 2/2 [00:00<?, ?it/s]\n"
     ]
    },
    {
     "name": "stdout",
     "output_type": "stream",
     "text": [
      "Attribution score for channel b7b0: -0.50\n",
      "\n",
      "Computing phi for channel g1g2...\n"
     ]
    },
    {
     "name": "stderr",
     "output_type": "stream",
     "text": [
      "100%|████████████████████████████████████████████████████| 5/5 [00:00<?, ?it/s]\n"
     ]
    },
    {
     "name": "stdout",
     "output_type": "stream",
     "text": [
      "Attribution score for channel g1g2: -0.41\n",
      "\n",
      "Computing phi for channel h0f0...\n"
     ]
    },
    {
     "name": "stderr",
     "output_type": "stream",
     "text": [
      "100%|████████████████████████████████████████████████████| 1/1 [00:00<?, ?it/s]\n"
     ]
    },
    {
     "name": "stdout",
     "output_type": "stream",
     "text": [
      "Attribution score for channel h0f0: -0.20\n",
      "\n",
      "Computing phi for channel d0d2...\n"
     ]
    },
    {
     "name": "stderr",
     "output_type": "stream",
     "text": [
      "100%|████████████████████████████████████████████████████| 1/1 [00:00<?, ?it/s]\n"
     ]
    },
    {
     "name": "stdout",
     "output_type": "stream",
     "text": [
      "Attribution score for channel d0d2: -0.08\n",
      "\n",
      "Computing phi for channel h2h7...\n"
     ]
    },
    {
     "name": "stderr",
     "output_type": "stream",
     "text": [
      "100%|██████████████████████████████████████████████████| 28/28 [00:00<?, ?it/s]\n"
     ]
    },
    {
     "name": "stdout",
     "output_type": "stream",
     "text": [
      "Attribution score for channel h2h7: -4.27\n",
      "\n",
      "Computing phi for channel e1e4...\n"
     ]
    },
    {
     "name": "stderr",
     "output_type": "stream",
     "text": [
      "100%|████████████████████████████████████████████████████| 1/1 [00:00<?, ?it/s]\n"
     ]
    },
    {
     "name": "stdout",
     "output_type": "stream",
     "text": [
      "Attribution score for channel e1e4: -0.04\n",
      "\n",
      "Computing phi for channel a1c2...\n"
     ]
    },
    {
     "name": "stderr",
     "output_type": "stream",
     "text": [
      "100%|████████████████████████████████████████████████████| 3/3 [00:00<?, ?it/s]\n"
     ]
    },
    {
     "name": "stdout",
     "output_type": "stream",
     "text": [
      "Attribution score for channel a1c2: -0.25\n",
      "\n",
      "Computing phi for channel c2h2...\n"
     ]
    },
    {
     "name": "stderr",
     "output_type": "stream",
     "text": [
      "100%|████████████████████████████████████████████████████| 1/1 [00:00<?, ?it/s]\n"
     ]
    },
    {
     "name": "stdout",
     "output_type": "stream",
     "text": [
      "Attribution score for channel c2h2: -0.13\n",
      "\n",
      "Computing phi for channel g4i2...\n"
     ]
    },
    {
     "name": "stderr",
     "output_type": "stream",
     "text": [
      "100%|████████████████████████████████████████████████████| 1/1 [00:00<?, ?it/s]\n"
     ]
    },
    {
     "name": "stdout",
     "output_type": "stream",
     "text": [
      "Attribution score for channel g4i2: -0.09\n",
      "\n",
      "Computing phi for channel i2b2...\n"
     ]
    },
    {
     "name": "stderr",
     "output_type": "stream",
     "text": [
      "100%|████████████████████████████████████████████████████| 2/2 [00:00<?, ?it/s]\n"
     ]
    },
    {
     "name": "stdout",
     "output_type": "stream",
     "text": [
      "Attribution score for channel i2b2: -0.19\n",
      "\n",
      "Computing phi for channel h4g2...\n"
     ]
    },
    {
     "name": "stderr",
     "output_type": "stream",
     "text": [
      "100%|████████████████████████████████████████████████████| 1/1 [00:00<?, ?it/s]\n"
     ]
    },
    {
     "name": "stdout",
     "output_type": "stream",
     "text": [
      "Attribution score for channel h4g2: -0.05\n",
      "\n",
      "Computing phi for channel d1d6...\n"
     ]
    },
    {
     "name": "stderr",
     "output_type": "stream",
     "text": [
      "100%|████████████████████████████████████████████████████| 1/1 [00:00<?, ?it/s]\n"
     ]
    },
    {
     "name": "stdout",
     "output_type": "stream",
     "text": [
      "Attribution score for channel d1d6: -0.25\n",
      "\n",
      "Computing phi for channel f4f7...\n"
     ]
    },
    {
     "name": "stderr",
     "output_type": "stream",
     "text": [
      "100%|████████████████████████████████████████████████████| 1/1 [00:00<?, ?it/s]\n"
     ]
    },
    {
     "name": "stdout",
     "output_type": "stream",
     "text": [
      "Attribution score for channel f4f7: -0.10\n",
      "\n",
      "Computing phi for channel c1f1...\n"
     ]
    },
    {
     "name": "stderr",
     "output_type": "stream",
     "text": [
      "100%|████████████████████████████████████████████████████| 2/2 [00:00<?, ?it/s]\n"
     ]
    },
    {
     "name": "stdout",
     "output_type": "stream",
     "text": [
      "Attribution score for channel c1f1: -0.17\n",
      "\n",
      "Computing phi for channel h1h5...\n"
     ]
    },
    {
     "name": "stderr",
     "output_type": "stream",
     "text": [
      "100%|████████████████████████████████████████████████████| 2/2 [00:00<?, ?it/s]\n"
     ]
    },
    {
     "name": "stdout",
     "output_type": "stream",
     "text": [
      "Attribution score for channel h1h5: -0.24\n",
      "\n",
      "Computing phi for channel h0h7...\n"
     ]
    },
    {
     "name": "stderr",
     "output_type": "stream",
     "text": [
      "100%|████████████████████████████████████████████████████| 1/1 [00:00<?, ?it/s]\n"
     ]
    },
    {
     "name": "stdout",
     "output_type": "stream",
     "text": [
      "Attribution score for channel h0h7: -0.07\n",
      "\n",
      "Computing phi for channel b5b3...\n"
     ]
    },
    {
     "name": "stderr",
     "output_type": "stream",
     "text": [
      "100%|██████████████████████████████████████████| 5/5 [00:00<00:00, 5015.91it/s]\n"
     ]
    },
    {
     "name": "stdout",
     "output_type": "stream",
     "text": [
      "Attribution score for channel b5b3: -0.50\n",
      "\n",
      "Computing phi for channel f2f4...\n"
     ]
    },
    {
     "name": "stderr",
     "output_type": "stream",
     "text": [
      "100%|████████████████████████████████████████████████████| 6/6 [00:00<?, ?it/s]\n"
     ]
    },
    {
     "name": "stdout",
     "output_type": "stream",
     "text": [
      "Attribution score for channel f2f4: -1.40\n",
      "\n",
      "Computing phi for channel g1e1...\n"
     ]
    },
    {
     "name": "stderr",
     "output_type": "stream",
     "text": [
      "100%|████████████████████████████████████████████████████| 1/1 [00:00<?, ?it/s]\n"
     ]
    },
    {
     "name": "stdout",
     "output_type": "stream",
     "text": [
      "Attribution score for channel g1e1: -0.08\n",
      "\n",
      "Computing phi for channel g1g5...\n"
     ]
    },
    {
     "name": "stderr",
     "output_type": "stream",
     "text": [
      "100%|█████████████████████████████████████████| 1/1 [00:00<00:00, 16131.94it/s]\n"
     ]
    },
    {
     "name": "stdout",
     "output_type": "stream",
     "text": [
      "Attribution score for channel g1g5: -0.05\n",
      "\n",
      "Computing phi for channel f2f6...\n"
     ]
    },
    {
     "name": "stderr",
     "output_type": "stream",
     "text": [
      "100%|████████████████████████████████████████████████████| 5/5 [00:00<?, ?it/s]\n"
     ]
    },
    {
     "name": "stdout",
     "output_type": "stream",
     "text": [
      "Attribution score for channel f2f6: -0.59\n",
      "\n",
      "Computing phi for channel b4b3...\n"
     ]
    },
    {
     "name": "stderr",
     "output_type": "stream",
     "text": [
      "100%|████████████████████████████████████████████████████| 9/9 [00:00<?, ?it/s]\n"
     ]
    },
    {
     "name": "stdout",
     "output_type": "stream",
     "text": [
      "Attribution score for channel b4b3: -1.62\n",
      "\n",
      "Computing phi for channel c1b3...\n"
     ]
    },
    {
     "name": "stderr",
     "output_type": "stream",
     "text": [
      "100%|████████████████████████████████████████████████████| 1/1 [00:00<?, ?it/s]\n"
     ]
    },
    {
     "name": "stdout",
     "output_type": "stream",
     "text": [
      "Attribution score for channel c1b3: -0.05\n",
      "\n",
      "Computing phi for channel d8d3...\n"
     ]
    },
    {
     "name": "stderr",
     "output_type": "stream",
     "text": [
      "100%|████████████████████████████████████████████████████| 1/1 [00:00<?, ?it/s]\n"
     ]
    },
    {
     "name": "stdout",
     "output_type": "stream",
     "text": [
      "Attribution score for channel d8d3: -0.10\n",
      "\n",
      "Computing phi for channel h1h4...\n"
     ]
    },
    {
     "name": "stderr",
     "output_type": "stream",
     "text": [
      "100%|████████████████████████████████████████████████████| 3/3 [00:00<?, ?it/s]\n"
     ]
    },
    {
     "name": "stdout",
     "output_type": "stream",
     "text": [
      "Attribution score for channel h1h4: -0.89\n",
      "\n",
      "Computing phi for channel e1e0...\n"
     ]
    },
    {
     "name": "stderr",
     "output_type": "stream",
     "text": [
      "100%|██████████████████████████████████████████████████| 71/71 [00:00<?, ?it/s]\n"
     ]
    },
    {
     "name": "stdout",
     "output_type": "stream",
     "text": [
      "Attribution score for channel e1e0: -18.46\n",
      "\n",
      "Computing phi for channel b5b2...\n"
     ]
    },
    {
     "name": "stderr",
     "output_type": "stream",
     "text": [
      "100%|████████████████████████████████████████████████████| 1/1 [00:00<?, ?it/s]\n"
     ]
    },
    {
     "name": "stdout",
     "output_type": "stream",
     "text": [
      "Attribution score for channel b5b2: -0.18\n",
      "\n",
      "Computing phi for channel g2e2...\n"
     ]
    },
    {
     "name": "stderr",
     "output_type": "stream",
     "text": [
      "100%|██████████████████████████████████████████████████| 25/25 [00:00<?, ?it/s]\n"
     ]
    },
    {
     "name": "stdout",
     "output_type": "stream",
     "text": [
      "Attribution score for channel g2e2: -3.52\n",
      "\n",
      "Computing phi for channel h2h6...\n"
     ]
    },
    {
     "name": "stderr",
     "output_type": "stream",
     "text": [
      "100%|██████████████████████████████████████████████████| 80/80 [00:00<?, ?it/s]\n"
     ]
    },
    {
     "name": "stdout",
     "output_type": "stream",
     "text": [
      "Attribution score for channel h2h6: -26.54\n",
      "\n",
      "Computing phi for channel g2g9...\n"
     ]
    },
    {
     "name": "stderr",
     "output_type": "stream",
     "text": [
      "100%|████████████████████████████████████████████████████| 1/1 [00:00<?, ?it/s]\n"
     ]
    },
    {
     "name": "stdout",
     "output_type": "stream",
     "text": [
      "Attribution score for channel g2g9: -0.06\n",
      "\n",
      "Computing phi for channel c4b4...\n"
     ]
    },
    {
     "name": "stderr",
     "output_type": "stream",
     "text": [
      "100%|████████████████████████████████████████████████████| 6/6 [00:00<?, ?it/s]"
     ]
    },
    {
     "name": "stdout",
     "output_type": "stream",
     "text": [
      "Attribution score for channel c4b4: -0.72\n",
      "\n",
      "Computing phi for channel g5g6...\n"
     ]
    },
    {
     "name": "stderr",
     "output_type": "stream",
     "text": [
      "\n",
      "100%|████████████████████████████████████████████████████| 2/2 [00:00<?, ?it/s]\n"
     ]
    },
    {
     "name": "stdout",
     "output_type": "stream",
     "text": [
      "Attribution score for channel g5g6: -0.20\n",
      "\n",
      "Computing phi for channel f2c2...\n"
     ]
    },
    {
     "name": "stderr",
     "output_type": "stream",
     "text": [
      "100%|██████████████████████████████████████████████████| 10/10 [00:00<?, ?it/s]\n"
     ]
    },
    {
     "name": "stdout",
     "output_type": "stream",
     "text": [
      "Attribution score for channel f2c2: -2.43\n",
      "\n",
      "Computing phi for channel e1e6...\n"
     ]
    },
    {
     "name": "stderr",
     "output_type": "stream",
     "text": [
      "100%|████████████████████████████████████████████████████| 1/1 [00:00<?, ?it/s]\n"
     ]
    },
    {
     "name": "stdout",
     "output_type": "stream",
     "text": [
      "Attribution score for channel e1e6: -0.05\n",
      "\n",
      "Computing phi for channel e2c2...\n"
     ]
    },
    {
     "name": "stderr",
     "output_type": "stream",
     "text": [
      "100%|████████████████████████████████████████████████████| 7/7 [00:00<?, ?it/s]\n"
     ]
    },
    {
     "name": "stdout",
     "output_type": "stream",
     "text": [
      "Attribution score for channel e2c2: -0.59\n",
      "\n",
      "Computing phi for channel a2d2...\n"
     ]
    },
    {
     "name": "stderr",
     "output_type": "stream",
     "text": [
      "100%|██████████████████████████████████████████████████| 21/21 [00:00<?, ?it/s]\n"
     ]
    },
    {
     "name": "stdout",
     "output_type": "stream",
     "text": [
      "Attribution score for channel a2d2: -7.12\n",
      "\n",
      "Computing phi for channel f8g8...\n"
     ]
    },
    {
     "name": "stderr",
     "output_type": "stream",
     "text": [
      "100%|██████████████████████████████████████████| 2/2 [00:00<00:00, 2005.40it/s]\n"
     ]
    },
    {
     "name": "stdout",
     "output_type": "stream",
     "text": [
      "Attribution score for channel f8g8: -0.16\n",
      "\n",
      "Computing phi for channel c1a1...\n"
     ]
    },
    {
     "name": "stderr",
     "output_type": "stream",
     "text": [
      "100%|████████████████████████████████████████████████████| 4/4 [00:00<?, ?it/s]\n"
     ]
    },
    {
     "name": "stdout",
     "output_type": "stream",
     "text": [
      "Attribution score for channel c1a1: -0.30\n",
      "\n",
      "Computing phi for channel d5d2...\n"
     ]
    },
    {
     "name": "stderr",
     "output_type": "stream",
     "text": [
      "100%|████████████████████████████████████████████████████| 1/1 [00:00<?, ?it/s]\n"
     ]
    },
    {
     "name": "stdout",
     "output_type": "stream",
     "text": [
      "Attribution score for channel d5d2: -0.06\n",
      "\n",
      "Computing phi for channel b2b3...\n"
     ]
    },
    {
     "name": "stderr",
     "output_type": "stream",
     "text": [
      "100%|██████████████████████████████████████████████████| 67/67 [00:00<?, ?it/s]\n"
     ]
    },
    {
     "name": "stdout",
     "output_type": "stream",
     "text": [
      "Attribution score for channel b2b3: -16.01\n",
      "\n",
      "Computing phi for channel i1g1...\n"
     ]
    },
    {
     "name": "stderr",
     "output_type": "stream",
     "text": [
      "100%|████████████████████████████████████████████████████| 4/4 [00:00<?, ?it/s]\n"
     ]
    },
    {
     "name": "stdout",
     "output_type": "stream",
     "text": [
      "Attribution score for channel i1g1: -0.44\n",
      "\n",
      "Computing phi for channel f6f8...\n"
     ]
    },
    {
     "name": "stderr",
     "output_type": "stream",
     "text": [
      "100%|████████████████████████████████████████████████████| 1/1 [00:00<?, ?it/s]\n"
     ]
    },
    {
     "name": "stdout",
     "output_type": "stream",
     "text": [
      "Attribution score for channel f6f8: -0.06\n",
      "\n",
      "Computing phi for channel b9b3...\n"
     ]
    },
    {
     "name": "stderr",
     "output_type": "stream",
     "text": [
      "100%|████████████████████████████████████████████████████| 2/2 [00:00<?, ?it/s]\n"
     ]
    },
    {
     "name": "stdout",
     "output_type": "stream",
     "text": [
      "Attribution score for channel b9b3: -0.11\n",
      "\n",
      "Computing phi for channel b0a2...\n"
     ]
    },
    {
     "name": "stderr",
     "output_type": "stream",
     "text": [
      "100%|██████████████████████████████████████████████████| 73/73 [00:00<?, ?it/s]\n"
     ]
    },
    {
     "name": "stdout",
     "output_type": "stream",
     "text": [
      "Attribution score for channel b0a2: -20.96\n",
      "\n",
      "Computing phi for channel d5e5...\n"
     ]
    },
    {
     "name": "stderr",
     "output_type": "stream",
     "text": [
      "100%|████████████████████████████████████████████████████| 5/5 [00:00<?, ?it/s]\n"
     ]
    },
    {
     "name": "stdout",
     "output_type": "stream",
     "text": [
      "Attribution score for channel d5e5: -0.41\n",
      "\n",
      "Computing phi for channel b6b1...\n"
     ]
    },
    {
     "name": "stderr",
     "output_type": "stream",
     "text": [
      "100%|██████████████████████████████████████████████████| 11/11 [00:00<?, ?it/s]\n"
     ]
    },
    {
     "name": "stdout",
     "output_type": "stream",
     "text": [
      "Attribution score for channel b6b1: -0.95\n",
      "\n",
      "Computing phi for channel f2g2...\n"
     ]
    },
    {
     "name": "stderr",
     "output_type": "stream",
     "text": [
      "100%|████████████████████████████████████████████████████| 8/8 [00:00<?, ?it/s]\n"
     ]
    },
    {
     "name": "stdout",
     "output_type": "stream",
     "text": [
      "Attribution score for channel f2g2: -0.59\n",
      "\n",
      "Computing phi for channel c0b0...\n"
     ]
    },
    {
     "name": "stderr",
     "output_type": "stream",
     "text": [
      "100%|██████████████████████████████████████████| 1/1 [00:00<00:00, 1002.70it/s]\n"
     ]
    },
    {
     "name": "stdout",
     "output_type": "stream",
     "text": [
      "Attribution score for channel c0b0: -0.12\n",
      "\n",
      "Computing phi for channel a2c2...\n"
     ]
    },
    {
     "name": "stderr",
     "output_type": "stream",
     "text": [
      "100%|██████████████████████████████████████████████████| 12/12 [00:00<?, ?it/s]\n"
     ]
    },
    {
     "name": "stdout",
     "output_type": "stream",
     "text": [
      "Attribution score for channel a2c2: -2.04\n",
      "\n",
      "Computing phi for channel d0e2...\n"
     ]
    },
    {
     "name": "stderr",
     "output_type": "stream",
     "text": [
      "100%|████████████████████████████████████████████████████| 3/3 [00:00<?, ?it/s]\n"
     ]
    },
    {
     "name": "stdout",
     "output_type": "stream",
     "text": [
      "Attribution score for channel d0e2: -0.95\n",
      "\n",
      "Computing phi for channel b3b8...\n"
     ]
    },
    {
     "name": "stderr",
     "output_type": "stream",
     "text": [
      "100%|████████████████████████████████████████████████████| 1/1 [00:00<?, ?it/s]\n"
     ]
    },
    {
     "name": "stdout",
     "output_type": "stream",
     "text": [
      "Attribution score for channel b3b8: -0.06\n",
      "\n",
      "Computing phi for channel h5i5...\n"
     ]
    },
    {
     "name": "stderr",
     "output_type": "stream",
     "text": [
      "100%|██████████████████████████████████████████████████| 18/18 [00:00<?, ?it/s]\n"
     ]
    },
    {
     "name": "stdout",
     "output_type": "stream",
     "text": [
      "Attribution score for channel h5i5: -6.27\n",
      "\n",
      "Computing phi for channel f2e2...\n"
     ]
    },
    {
     "name": "stderr",
     "output_type": "stream",
     "text": [
      "100%|██████████████████████████████████████████████████| 20/20 [00:00<?, ?it/s]\n"
     ]
    },
    {
     "name": "stdout",
     "output_type": "stream",
     "text": [
      "Attribution score for channel f2e2: -1.81\n",
      "\n",
      "Computing phi for channel i3i4...\n"
     ]
    },
    {
     "name": "stderr",
     "output_type": "stream",
     "text": [
      "100%|████████████████████████████████████████████████| 245/245 [00:00<?, ?it/s]\n"
     ]
    },
    {
     "name": "stdout",
     "output_type": "stream",
     "text": [
      "Attribution score for channel i3i4: -39.60\n",
      "\n",
      "Computing phi for channel g2i1...\n"
     ]
    },
    {
     "name": "stderr",
     "output_type": "stream",
     "text": [
      "100%|████████████████████████████████████████████████████| 2/2 [00:00<?, ?it/s]\n"
     ]
    },
    {
     "name": "stdout",
     "output_type": "stream",
     "text": [
      "Attribution score for channel g2i1: -0.15\n",
      "\n",
      "Computing phi for channel d5d1...\n"
     ]
    },
    {
     "name": "stderr",
     "output_type": "stream",
     "text": [
      "100%|██████████████████████████████████████████| 1/1 [00:00<00:00, 1002.94it/s]\n"
     ]
    },
    {
     "name": "stdout",
     "output_type": "stream",
     "text": [
      "Attribution score for channel d5d1: -0.22\n",
      "\n",
      "Computing phi for channel e1i1...\n"
     ]
    },
    {
     "name": "stderr",
     "output_type": "stream",
     "text": [
      "100%|████████████████████████████████████████████████████| 3/3 [00:00<?, ?it/s]\n"
     ]
    },
    {
     "name": "stdout",
     "output_type": "stream",
     "text": [
      "Attribution score for channel e1i1: -0.68\n",
      "\n",
      "Computing phi for channel f2a2...\n"
     ]
    },
    {
     "name": "stderr",
     "output_type": "stream",
     "text": [
      "100%|████████████████████████████████████████████████████| 2/2 [00:00<?, ?it/s]\n"
     ]
    },
    {
     "name": "stdout",
     "output_type": "stream",
     "text": [
      "Attribution score for channel f2a2: -0.77\n",
      "\n",
      "Computing phi for channel e2c0...\n"
     ]
    },
    {
     "name": "stderr",
     "output_type": "stream",
     "text": [
      "100%|██████████████████████████████████████████████████| 30/30 [00:00<?, ?it/s]\n"
     ]
    },
    {
     "name": "stdout",
     "output_type": "stream",
     "text": [
      "Attribution score for channel e2c0: -9.94\n",
      "\n",
      "Computing phi for channel g2c2...\n"
     ]
    },
    {
     "name": "stderr",
     "output_type": "stream",
     "text": [
      "100%|██████████████████████████████████████████████████| 11/11 [00:00<?, ?it/s]\n"
     ]
    },
    {
     "name": "stdout",
     "output_type": "stream",
     "text": [
      "Attribution score for channel g2c2: -2.37\n",
      "\n",
      "Computing phi for channel c5c6...\n"
     ]
    },
    {
     "name": "stderr",
     "output_type": "stream",
     "text": [
      "100%|████████████████████████████████████████████████████| 2/2 [00:00<?, ?it/s]\n"
     ]
    },
    {
     "name": "stdout",
     "output_type": "stream",
     "text": [
      "Attribution score for channel c5c6: -0.59\n",
      "\n",
      "Computing phi for channel h0h6...\n"
     ]
    },
    {
     "name": "stderr",
     "output_type": "stream",
     "text": [
      "100%|████████████████████████████████████████████████████| 1/1 [00:00<?, ?it/s]\n"
     ]
    },
    {
     "name": "stdout",
     "output_type": "stream",
     "text": [
      "Attribution score for channel h0h6: -0.56\n",
      "\n",
      "Computing phi for channel e3e4...\n"
     ]
    },
    {
     "name": "stderr",
     "output_type": "stream",
     "text": [
      "100%|████████████████████████████████████████████████| 273/273 [00:00<?, ?it/s]"
     ]
    },
    {
     "name": "stdout",
     "output_type": "stream",
     "text": [
      "Attribution score for channel e3e4: -59.72\n",
      "\n",
      "Computing phi for channel e1a1...\n"
     ]
    },
    {
     "name": "stderr",
     "output_type": "stream",
     "text": [
      "\n",
      "100%|████████████████████████████████████████████████████| 3/3 [00:00<?, ?it/s]\n"
     ]
    },
    {
     "name": "stdout",
     "output_type": "stream",
     "text": [
      "Attribution score for channel e1a1: -0.33\n",
      "\n",
      "Computing phi for channel f2f7...\n"
     ]
    },
    {
     "name": "stderr",
     "output_type": "stream",
     "text": [
      "100%|████████████████████████████████████████████████████| 5/5 [00:00<?, ?it/s]\n"
     ]
    },
    {
     "name": "stdout",
     "output_type": "stream",
     "text": [
      "Attribution score for channel f2f7: -0.47\n",
      "\n",
      "Computing phi for channel e1d0...\n"
     ]
    },
    {
     "name": "stderr",
     "output_type": "stream",
     "text": [
      "100%|██████████████████████████████████████████████████| 16/16 [00:00<?, ?it/s]\n"
     ]
    },
    {
     "name": "stdout",
     "output_type": "stream",
     "text": [
      "Attribution score for channel e1d0: -9.41\n",
      "\n",
      "Computing phi for channel e4e2...\n"
     ]
    },
    {
     "name": "stderr",
     "output_type": "stream",
     "text": [
      "100%|████████████████████████████████████████████████████| 1/1 [00:00<?, ?it/s]\n"
     ]
    },
    {
     "name": "stdout",
     "output_type": "stream",
     "text": [
      "Attribution score for channel e4e2: -0.04\n",
      "\n",
      "Computing phi for channel f1h1...\n"
     ]
    },
    {
     "name": "stderr",
     "output_type": "stream",
     "text": [
      "100%|████████████████████████████████████████████████████| 5/5 [00:00<?, ?it/s]\n"
     ]
    },
    {
     "name": "stdout",
     "output_type": "stream",
     "text": [
      "Attribution score for channel f1h1: -2.16\n",
      "\n",
      "Computing phi for channel b4b9...\n"
     ]
    },
    {
     "name": "stderr",
     "output_type": "stream",
     "text": [
      "100%|██████████████████████████████████████████████████| 11/11 [00:00<?, ?it/s]\n"
     ]
    },
    {
     "name": "stdout",
     "output_type": "stream",
     "text": [
      "Attribution score for channel b4b9: -4.06\n",
      "\n",
      "Computing phi for channel f5f4...\n"
     ]
    },
    {
     "name": "stderr",
     "output_type": "stream",
     "text": [
      "100%|████████████████████████████████████████████████████| 1/1 [00:00<?, ?it/s]\n"
     ]
    },
    {
     "name": "stdout",
     "output_type": "stream",
     "text": [
      "Attribution score for channel f5f4: -0.07\n",
      "\n",
      "Computing phi for channel d6g6...\n"
     ]
    },
    {
     "name": "stderr",
     "output_type": "stream",
     "text": [
      "100%|██████████████████████████████████████████| 2/2 [00:00<00:00, 2005.40it/s]\n"
     ]
    },
    {
     "name": "stdout",
     "output_type": "stream",
     "text": [
      "Attribution score for channel d6g6: -0.20\n",
      "\n",
      "Computing phi for channel h1h6...\n"
     ]
    },
    {
     "name": "stderr",
     "output_type": "stream",
     "text": [
      "100%|████████████████████████████████████████████████████| 2/2 [00:00<?, ?it/s]\n"
     ]
    },
    {
     "name": "stdout",
     "output_type": "stream",
     "text": [
      "Attribution score for channel h1h6: -0.18\n",
      "\n",
      "Computing phi for channel h1h0...\n"
     ]
    },
    {
     "name": "stderr",
     "output_type": "stream",
     "text": [
      "100%|████████████████████████████████████████████████████| 1/1 [00:00<?, ?it/s]\n"
     ]
    },
    {
     "name": "stdout",
     "output_type": "stream",
     "text": [
      "Attribution score for channel h1h0: -0.09\n",
      "\n",
      "Computing phi for channel f2f1...\n"
     ]
    },
    {
     "name": "stderr",
     "output_type": "stream",
     "text": [
      "100%|██████████████████████████████████████████████████| 17/17 [00:00<?, ?it/s]\n"
     ]
    },
    {
     "name": "stdout",
     "output_type": "stream",
     "text": [
      "Attribution score for channel f2f1: -1.60\n",
      "\n",
      "Computing phi for channel c0a0...\n"
     ]
    },
    {
     "name": "stderr",
     "output_type": "stream",
     "text": [
      "100%|████████████████████████████████████████████████████| 1/1 [00:00<?, ?it/s]\n"
     ]
    },
    {
     "name": "stdout",
     "output_type": "stream",
     "text": [
      "Attribution score for channel c0a0: -0.09\n",
      "\n",
      "Computing phi for channel c6g6...\n"
     ]
    },
    {
     "name": "stderr",
     "output_type": "stream",
     "text": [
      "100%|████████████████████████████████████████████████████| 1/1 [00:00<?, ?it/s]\n"
     ]
    },
    {
     "name": "stdout",
     "output_type": "stream",
     "text": [
      "Attribution score for channel c6g6: -0.05\n",
      "\n",
      "Computing phi for channel e1g2...\n"
     ]
    },
    {
     "name": "stderr",
     "output_type": "stream",
     "text": [
      "100%|████████████████████████████████████████████████████| 1/1 [00:00<?, ?it/s]\n"
     ]
    },
    {
     "name": "stdout",
     "output_type": "stream",
     "text": [
      "Attribution score for channel e1g2: -0.18\n",
      "\n",
      "Computing phi for channel b9b8...\n"
     ]
    },
    {
     "name": "stderr",
     "output_type": "stream",
     "text": [
      "100%|██████████████████████████████████████████| 3/3 [00:00<00:00, 3009.55it/s]\n"
     ]
    },
    {
     "name": "stdout",
     "output_type": "stream",
     "text": [
      "Attribution score for channel b9b8: -0.35\n",
      "\n",
      "Computing phi for channel e7c6...\n"
     ]
    },
    {
     "name": "stderr",
     "output_type": "stream",
     "text": [
      "100%|████████████████████████████████████████████████████| 1/1 [00:00<?, ?it/s]\n"
     ]
    },
    {
     "name": "stdout",
     "output_type": "stream",
     "text": [
      "Attribution score for channel e7c6: -0.07\n",
      "\n",
      "Computing phi for channel h6h1...\n"
     ]
    },
    {
     "name": "stderr",
     "output_type": "stream",
     "text": [
      "100%|████████████████████████████████████████████████████| 8/8 [00:00<?, ?it/s]\n"
     ]
    },
    {
     "name": "stdout",
     "output_type": "stream",
     "text": [
      "Attribution score for channel h6h1: -1.35\n",
      "\n",
      "Computing phi for channel b5f5...\n"
     ]
    },
    {
     "name": "stderr",
     "output_type": "stream",
     "text": [
      "100%|████████████████████████████████████████████████████| 1/1 [00:00<?, ?it/s]\n"
     ]
    },
    {
     "name": "stdout",
     "output_type": "stream",
     "text": [
      "Attribution score for channel b5f5: -2.75\n",
      "\n",
      "Computing phi for channel f4c4...\n"
     ]
    },
    {
     "name": "stderr",
     "output_type": "stream",
     "text": [
      "100%|████████████████████████████████████████████████████| 5/5 [00:00<?, ?it/s]\n"
     ]
    },
    {
     "name": "stdout",
     "output_type": "stream",
     "text": [
      "Attribution score for channel f4c4: -0.28\n",
      "\n",
      "Computing phi for channel f0i0...\n"
     ]
    },
    {
     "name": "stderr",
     "output_type": "stream",
     "text": [
      "100%|████████████████████████████████████████████████████| 2/2 [00:00<?, ?it/s]\n"
     ]
    },
    {
     "name": "stdout",
     "output_type": "stream",
     "text": [
      "Attribution score for channel f0i0: -0.97\n",
      "\n",
      "Computing phi for channel e0e6...\n"
     ]
    },
    {
     "name": "stderr",
     "output_type": "stream",
     "text": [
      "100%|████████████████████████████████████████████████████| 1/1 [00:00<?, ?it/s]\n"
     ]
    },
    {
     "name": "stdout",
     "output_type": "stream",
     "text": [
      "Attribution score for channel e0e6: -0.06\n",
      "\n",
      "Computing phi for channel h2g2...\n"
     ]
    },
    {
     "name": "stderr",
     "output_type": "stream",
     "text": [
      "100%|██████████████████████████████████████████████████| 80/80 [00:00<?, ?it/s]\n"
     ]
    },
    {
     "name": "stdout",
     "output_type": "stream",
     "text": [
      "Attribution score for channel h2g2: -3932.67\n",
      "\n",
      "Computing phi for channel a0a2...\n"
     ]
    },
    {
     "name": "stderr",
     "output_type": "stream",
     "text": [
      "100%|████████████████████████████████████████████████| 164/164 [00:00<?, ?it/s]\n"
     ]
    },
    {
     "name": "stdout",
     "output_type": "stream",
     "text": [
      "Attribution score for channel a0a2: -33.55\n",
      "\n",
      "Computing phi for channel h0i0...\n"
     ]
    },
    {
     "name": "stderr",
     "output_type": "stream",
     "text": [
      "100%|████████████████████████████████████████████████████| 2/2 [00:00<?, ?it/s]\n"
     ]
    },
    {
     "name": "stdout",
     "output_type": "stream",
     "text": [
      "Attribution score for channel h0i0: -0.19\n",
      "\n",
      "Computing phi for channel h8h6...\n"
     ]
    },
    {
     "name": "stderr",
     "output_type": "stream",
     "text": [
      "100%|████████████████████████████████████████████████████| 3/3 [00:00<?, ?it/s]\n"
     ]
    },
    {
     "name": "stdout",
     "output_type": "stream",
     "text": [
      "Attribution score for channel h8h6: -0.21\n",
      "\n",
      "Computing phi for channel d4d2...\n"
     ]
    },
    {
     "name": "stderr",
     "output_type": "stream",
     "text": [
      "100%|████████████████████████████████████████████████████| 1/1 [00:00<?, ?it/s]\n"
     ]
    },
    {
     "name": "stdout",
     "output_type": "stream",
     "text": [
      "Attribution score for channel d4d2: -0.06\n",
      "\n",
      "Computing phi for channel d3d7...\n"
     ]
    },
    {
     "name": "stderr",
     "output_type": "stream",
     "text": [
      "100%|██████████████████████████████████████████| 1/1 [00:00<00:00, 1002.46it/s]\n"
     ]
    },
    {
     "name": "stdout",
     "output_type": "stream",
     "text": [
      "Attribution score for channel d3d7: -0.05\n",
      "\n",
      "Computing phi for channel a2b0...\n"
     ]
    },
    {
     "name": "stderr",
     "output_type": "stream",
     "text": [
      "100%|████████████████████████████████████████████████████| 7/7 [00:00<?, ?it/s]\n"
     ]
    },
    {
     "name": "stdout",
     "output_type": "stream",
     "text": [
      "Attribution score for channel a2b0: -1.65\n",
      "\n",
      "Computing phi for channel f6i6...\n"
     ]
    },
    {
     "name": "stderr",
     "output_type": "stream",
     "text": [
      "100%|████████████████████████████████████████████████████| 1/1 [00:00<?, ?it/s]\n"
     ]
    },
    {
     "name": "stdout",
     "output_type": "stream",
     "text": [
      "Attribution score for channel f6i6: -0.17\n",
      "\n",
      "Computing phi for channel c4e4...\n"
     ]
    },
    {
     "name": "stderr",
     "output_type": "stream",
     "text": [
      "100%|████████████████████████████████████████████████████| 1/1 [00:00<?, ?it/s]\n"
     ]
    },
    {
     "name": "stdout",
     "output_type": "stream",
     "text": [
      "Attribution score for channel c4e4: -0.07\n",
      "\n",
      "Computing phi for channel d3d6...\n"
     ]
    },
    {
     "name": "stderr",
     "output_type": "stream",
     "text": [
      "100%|████████████████████████████████████████████████████| 1/1 [00:00<?, ?it/s]\n"
     ]
    },
    {
     "name": "stdout",
     "output_type": "stream",
     "text": [
      "Attribution score for channel d3d6: -0.07\n",
      "\n",
      "Computing phi for channel e3d3...\n"
     ]
    },
    {
     "name": "stderr",
     "output_type": "stream",
     "text": [
      "100%|██████████████████████████████████████████| 2/2 [00:00<00:00, 2003.97it/s]\n"
     ]
    },
    {
     "name": "stdout",
     "output_type": "stream",
     "text": [
      "Attribution score for channel e3d3: -0.12\n",
      "\n",
      "Computing phi for channel c5c9...\n"
     ]
    },
    {
     "name": "stderr",
     "output_type": "stream",
     "text": [
      "100%|████████████████████████████████████████████████████| 3/3 [00:00<?, ?it/s]\n"
     ]
    },
    {
     "name": "stdout",
     "output_type": "stream",
     "text": [
      "Attribution score for channel c5c9: -0.27\n",
      "\n",
      "Computing phi for channel f8d8...\n"
     ]
    },
    {
     "name": "stderr",
     "output_type": "stream",
     "text": [
      "100%|████████████████████████████████████████████████████| 1/1 [00:00<?, ?it/s]\n"
     ]
    },
    {
     "name": "stdout",
     "output_type": "stream",
     "text": [
      "Attribution score for channel f8d8: -0.10\n",
      "\n",
      "Computing phi for channel c4i4...\n"
     ]
    },
    {
     "name": "stderr",
     "output_type": "stream",
     "text": [
      "100%|████████████████████████████████████████████████████| 1/1 [00:00<?, ?it/s]\n"
     ]
    },
    {
     "name": "stdout",
     "output_type": "stream",
     "text": [
      "Attribution score for channel c4i4: -0.06\n",
      "\n",
      "Computing phi for channel i0i1...\n"
     ]
    },
    {
     "name": "stderr",
     "output_type": "stream",
     "text": [
      "100%|██████████████████████████████████████████████████| 23/23 [00:00<?, ?it/s]\n"
     ]
    },
    {
     "name": "stdout",
     "output_type": "stream",
     "text": [
      "Attribution score for channel i0i1: -2.56\n",
      "\n",
      "Computing phi for channel d1d3...\n"
     ]
    },
    {
     "name": "stderr",
     "output_type": "stream",
     "text": [
      "100%|██████████████████████████████████████████| 2/2 [00:00<00:00, 2006.36it/s]\n"
     ]
    },
    {
     "name": "stdout",
     "output_type": "stream",
     "text": [
      "Attribution score for channel d1d3: -0.13\n",
      "\n",
      "Computing phi for channel h6e6...\n"
     ]
    },
    {
     "name": "stderr",
     "output_type": "stream",
     "text": [
      "100%|████████████████████████████████████████████████████| 5/5 [00:00<?, ?it/s]\n"
     ]
    },
    {
     "name": "stdout",
     "output_type": "stream",
     "text": [
      "Attribution score for channel h6e6: -0.56\n",
      "\n",
      "Computing phi for channel b6b2...\n"
     ]
    },
    {
     "name": "stderr",
     "output_type": "stream",
     "text": [
      "100%|████████████████████████████████████████████████████| 1/1 [00:00<?, ?it/s]\n"
     ]
    },
    {
     "name": "stdout",
     "output_type": "stream",
     "text": [
      "Attribution score for channel b6b2: -0.05\n",
      "\n",
      "Computing phi for channel g4g5...\n"
     ]
    },
    {
     "name": "stderr",
     "output_type": "stream",
     "text": [
      "100%|██████████████████████████████████████████████████| 19/19 [00:00<?, ?it/s]\n"
     ]
    },
    {
     "name": "stdout",
     "output_type": "stream",
     "text": [
      "Attribution score for channel g4g5: -1.23\n",
      "\n",
      "Computing phi for channel b6c6...\n"
     ]
    },
    {
     "name": "stderr",
     "output_type": "stream",
     "text": [
      "100%|████████████████████████████████████████████████████| 2/2 [00:00<?, ?it/s]\n"
     ]
    },
    {
     "name": "stdout",
     "output_type": "stream",
     "text": [
      "Attribution score for channel b6c6: -0.55\n",
      "\n",
      "Computing phi for channel c2b0...\n"
     ]
    },
    {
     "name": "stderr",
     "output_type": "stream",
     "text": [
      "100%|███████████████████████████████████████| 63/63 [00:00<00:00, 63034.63it/s]\n"
     ]
    },
    {
     "name": "stdout",
     "output_type": "stream",
     "text": [
      "Attribution score for channel c2b0: -20.32\n",
      "\n",
      "Computing phi for channel f2f0...\n"
     ]
    },
    {
     "name": "stderr",
     "output_type": "stream",
     "text": [
      "100%|████████████████████████████████████████████████████| 1/1 [00:00<?, ?it/s]\n"
     ]
    },
    {
     "name": "stdout",
     "output_type": "stream",
     "text": [
      "Attribution score for channel f2f0: -0.17\n",
      "\n",
      "Computing phi for channel b7b6...\n"
     ]
    },
    {
     "name": "stderr",
     "output_type": "stream",
     "text": [
      "100%|██████████████████████████████████████████| 3/3 [00:00<00:00, 3005.23it/s]\n"
     ]
    },
    {
     "name": "stdout",
     "output_type": "stream",
     "text": [
      "Attribution score for channel b7b6: -0.91\n",
      "\n",
      "Computing phi for channel f5f3...\n"
     ]
    },
    {
     "name": "stderr",
     "output_type": "stream",
     "text": [
      "100%|██████████████████████████████████████████| 1/1 [00:00<00:00, 1002.46it/s]\n"
     ]
    },
    {
     "name": "stdout",
     "output_type": "stream",
     "text": [
      "Attribution score for channel f5f3: -0.07\n",
      "\n",
      "Computing phi for channel g4g7...\n"
     ]
    },
    {
     "name": "stderr",
     "output_type": "stream",
     "text": [
      "100%|████████████████████████████████████████████████████| 2/2 [00:00<?, ?it/s]\n"
     ]
    },
    {
     "name": "stdout",
     "output_type": "stream",
     "text": [
      "Attribution score for channel g4g7: -0.15\n",
      "\n",
      "Computing phi for channel f3f1...\n"
     ]
    },
    {
     "name": "stderr",
     "output_type": "stream",
     "text": [
      "100%|████████████████████████████████████████████████████| 1/1 [00:00<?, ?it/s]\n"
     ]
    },
    {
     "name": "stdout",
     "output_type": "stream",
     "text": [
      "Attribution score for channel f3f1: -0.05\n",
      "\n",
      "Computing phi for channel e2g1...\n"
     ]
    },
    {
     "name": "stderr",
     "output_type": "stream",
     "text": [
      "100%|██████████████████████████████████████████| 1/1 [00:00<00:00, 1003.66it/s]\n"
     ]
    },
    {
     "name": "stdout",
     "output_type": "stream",
     "text": [
      "Attribution score for channel e2g1: -0.05\n",
      "\n",
      "Computing phi for channel g6h6...\n"
     ]
    },
    {
     "name": "stderr",
     "output_type": "stream",
     "text": [
      "100%|████████████████████████████████████████████████████| 2/2 [00:00<?, ?it/s]\n"
     ]
    },
    {
     "name": "stdout",
     "output_type": "stream",
     "text": [
      "Attribution score for channel g6h6: -0.21\n",
      "\n",
      "Computing phi for channel g8h8...\n"
     ]
    },
    {
     "name": "stderr",
     "output_type": "stream",
     "text": [
      "100%|████████████████████████████████████████████████████| 1/1 [00:00<?, ?it/s]\n"
     ]
    },
    {
     "name": "stdout",
     "output_type": "stream",
     "text": [
      "Attribution score for channel g8h8: -0.09\n",
      "\n",
      "Computing phi for channel c6b6...\n"
     ]
    },
    {
     "name": "stderr",
     "output_type": "stream",
     "text": [
      "100%|████████████████████████████████████████████████████| 3/3 [00:00<?, ?it/s]\n"
     ]
    },
    {
     "name": "stdout",
     "output_type": "stream",
     "text": [
      "Attribution score for channel c6b6: -0.67\n",
      "\n",
      "Computing phi for channel b2i2...\n"
     ]
    },
    {
     "name": "stderr",
     "output_type": "stream",
     "text": [
      "100%|████████████████████████████████████████████████████| 9/9 [00:00<?, ?it/s]\n"
     ]
    },
    {
     "name": "stdout",
     "output_type": "stream",
     "text": [
      "Attribution score for channel b2i2: -1.68\n",
      "\n",
      "Computing phi for channel h1g1...\n"
     ]
    },
    {
     "name": "stderr",
     "output_type": "stream",
     "text": [
      "100%|██████████████████████████████████████████| 2/2 [00:00<00:00, 2005.40it/s]\n"
     ]
    },
    {
     "name": "stdout",
     "output_type": "stream",
     "text": [
      "Attribution score for channel h1g1: -0.30\n",
      "\n",
      "Computing phi for channel f1f8...\n"
     ]
    },
    {
     "name": "stderr",
     "output_type": "stream",
     "text": [
      "100%|████████████████████████████████████████████████████| 1/1 [00:00<?, ?it/s]\n"
     ]
    },
    {
     "name": "stdout",
     "output_type": "stream",
     "text": [
      "Attribution score for channel f1f8: -0.11\n",
      "\n",
      "Computing phi for channel b4d5...\n"
     ]
    },
    {
     "name": "stderr",
     "output_type": "stream",
     "text": [
      "100%|████████████████████████████████████████████████████| 2/2 [00:00<?, ?it/s]\n"
     ]
    },
    {
     "name": "stdout",
     "output_type": "stream",
     "text": [
      "Attribution score for channel b4d5: -0.57\n",
      "\n",
      "Computing phi for channel a2i2...\n"
     ]
    },
    {
     "name": "stderr",
     "output_type": "stream",
     "text": [
      "100%|██████████████████████████████████████████████████| 13/13 [00:00<?, ?it/s]\n"
     ]
    },
    {
     "name": "stdout",
     "output_type": "stream",
     "text": [
      "Attribution score for channel a2i2: -1.65\n",
      "\n",
      "Computing phi for channel b1d1...\n"
     ]
    },
    {
     "name": "stderr",
     "output_type": "stream",
     "text": [
      "100%|██████████████████████████████████████████| 3/3 [00:00<00:00, 3007.39it/s]\n"
     ]
    },
    {
     "name": "stdout",
     "output_type": "stream",
     "text": [
      "Attribution score for channel b1d1: -0.22\n",
      "\n",
      "Computing phi for channel i2c2...\n"
     ]
    },
    {
     "name": "stderr",
     "output_type": "stream",
     "text": [
      "100%|████████████████████████████████████████████████████| 7/7 [00:00<?, ?it/s]\n"
     ]
    },
    {
     "name": "stdout",
     "output_type": "stream",
     "text": [
      "Attribution score for channel i2c2: -0.56\n",
      "\n",
      "Computing phi for channel i0h0...\n"
     ]
    },
    {
     "name": "stderr",
     "output_type": "stream",
     "text": [
      "100%|██████████████████████████████████████████████████| 10/10 [00:00<?, ?it/s]\n"
     ]
    },
    {
     "name": "stdout",
     "output_type": "stream",
     "text": [
      "Attribution score for channel i0h0: -4.26\n",
      "\n",
      "Computing phi for channel h5a5...\n"
     ]
    },
    {
     "name": "stderr",
     "output_type": "stream",
     "text": [
      "100%|████████████████████████████████████████████████████| 1/1 [00:00<?, ?it/s]\n"
     ]
    },
    {
     "name": "stdout",
     "output_type": "stream",
     "text": [
      "Attribution score for channel h5a5: -0.06\n",
      "\n",
      "Computing phi for channel d2i2...\n"
     ]
    },
    {
     "name": "stderr",
     "output_type": "stream",
     "text": [
      "100%|████████████████████████████████████████████████████| 3/3 [00:00<?, ?it/s]\n"
     ]
    },
    {
     "name": "stdout",
     "output_type": "stream",
     "text": [
      "Attribution score for channel d2i2: -0.20\n",
      "\n",
      "Computing phi for channel d2c2...\n"
     ]
    },
    {
     "name": "stderr",
     "output_type": "stream",
     "text": [
      "100%|████████████████████████████████████████████████████| 6/6 [00:00<?, ?it/s]\n"
     ]
    },
    {
     "name": "stdout",
     "output_type": "stream",
     "text": [
      "Attribution score for channel d2c2: -0.99\n",
      "\n",
      "Computing phi for channel f0f1...\n"
     ]
    },
    {
     "name": "stderr",
     "output_type": "stream",
     "text": [
      "100%|████████████████████████████████████████████████████| 8/8 [00:00<?, ?it/s]\n"
     ]
    },
    {
     "name": "stdout",
     "output_type": "stream",
     "text": [
      "Attribution score for channel f0f1: -0.58\n",
      "\n",
      "Computing phi for channel f0h0...\n"
     ]
    },
    {
     "name": "stderr",
     "output_type": "stream",
     "text": [
      "100%|████████████████████████████████████████████████████| 2/2 [00:00<?, ?it/s]\n"
     ]
    },
    {
     "name": "stdout",
     "output_type": "stream",
     "text": [
      "Attribution score for channel f0h0: -1.48\n",
      "\n",
      "Computing phi for channel f1d2...\n"
     ]
    },
    {
     "name": "stderr",
     "output_type": "stream",
     "text": [
      "100%|████████████████████████████████████████████████████| 1/1 [00:00<?, ?it/s]\n"
     ]
    },
    {
     "name": "stdout",
     "output_type": "stream",
     "text": [
      "Attribution score for channel f1d2: -0.07\n",
      "\n",
      "Computing phi for channel c2c6...\n"
     ]
    },
    {
     "name": "stderr",
     "output_type": "stream",
     "text": [
      "100%|██████████████████████████████████████████████████| 12/12 [00:00<?, ?it/s]\n"
     ]
    },
    {
     "name": "stdout",
     "output_type": "stream",
     "text": [
      "Attribution score for channel c2c6: -1.00\n",
      "\n",
      "Computing phi for channel b4b7...\n"
     ]
    },
    {
     "name": "stderr",
     "output_type": "stream",
     "text": [
      "100%|████████████████████████████████████████████████████| 4/4 [00:00<?, ?it/s]\n"
     ]
    },
    {
     "name": "stdout",
     "output_type": "stream",
     "text": [
      "Attribution score for channel b4b7: -0.72\n",
      "\n",
      "Computing phi for channel d5d6...\n"
     ]
    },
    {
     "name": "stderr",
     "output_type": "stream",
     "text": [
      "100%|██████████████████████████████████████████| 1/1 [00:00<00:00, 1003.18it/s]\n"
     ]
    },
    {
     "name": "stdout",
     "output_type": "stream",
     "text": [
      "Attribution score for channel d5d6: -0.04\n",
      "\n",
      "Computing phi for channel h6h4...\n"
     ]
    },
    {
     "name": "stderr",
     "output_type": "stream",
     "text": [
      "100%|████████████████████████████████████████████████████| 2/2 [00:00<?, ?it/s]\n"
     ]
    },
    {
     "name": "stdout",
     "output_type": "stream",
     "text": [
      "Attribution score for channel h6h4: -0.29\n",
      "\n",
      "Computing phi for channel d4d6...\n"
     ]
    },
    {
     "name": "stderr",
     "output_type": "stream",
     "text": [
      "100%|██████████████████████████████████████████| 2/2 [00:00<00:00, 2006.84it/s]\n"
     ]
    },
    {
     "name": "stdout",
     "output_type": "stream",
     "text": [
      "Attribution score for channel d4d6: -0.15\n",
      "\n",
      "Computing phi for channel g2h0...\n"
     ]
    },
    {
     "name": "stderr",
     "output_type": "stream",
     "text": [
      "100%|████████████████████████████████████████████████████| 5/5 [00:00<?, ?it/s]\n"
     ]
    },
    {
     "name": "stdout",
     "output_type": "stream",
     "text": [
      "Attribution score for channel g2h0: -0.98\n",
      "\n",
      "Computing phi for channel c0b2...\n"
     ]
    },
    {
     "name": "stderr",
     "output_type": "stream",
     "text": [
      "100%|████████████████████████████████████████████████████| 1/1 [00:00<?, ?it/s]\n"
     ]
    },
    {
     "name": "stdout",
     "output_type": "stream",
     "text": [
      "Attribution score for channel c0b2: -0.75\n",
      "\n",
      "Computing phi for channel c1e0...\n"
     ]
    },
    {
     "name": "stderr",
     "output_type": "stream",
     "text": [
      "100%|████████████████████████████████████████████████████| 1/1 [00:00<?, ?it/s]\n"
     ]
    },
    {
     "name": "stdout",
     "output_type": "stream",
     "text": [
      "Attribution score for channel c1e0: -0.06\n",
      "\n",
      "Computing phi for channel f3e3...\n"
     ]
    },
    {
     "name": "stderr",
     "output_type": "stream",
     "text": [
      "100%|██████████████████████████████████████████| 2/2 [00:00<00:00, 2004.93it/s]\n"
     ]
    },
    {
     "name": "stdout",
     "output_type": "stream",
     "text": [
      "Attribution score for channel f3e3: -0.70\n",
      "\n",
      "Computing phi for channel g6c6...\n"
     ]
    },
    {
     "name": "stderr",
     "output_type": "stream",
     "text": [
      "100%|████████████████████████████████████████████████████| 2/2 [00:00<?, ?it/s]\n"
     ]
    },
    {
     "name": "stdout",
     "output_type": "stream",
     "text": [
      "Attribution score for channel g6c6: -0.13\n",
      "\n",
      "Computing phi for channel g6g9...\n"
     ]
    },
    {
     "name": "stderr",
     "output_type": "stream",
     "text": [
      "100%|████████████████████████████████████████████████████| 1/1 [00:00<?, ?it/s]\n"
     ]
    },
    {
     "name": "stdout",
     "output_type": "stream",
     "text": [
      "Attribution score for channel g6g9: -0.10\n",
      "\n",
      "Computing phi for channel b2g2...\n"
     ]
    },
    {
     "name": "stderr",
     "output_type": "stream",
     "text": [
      "100%|██████████████████████████████████████████████████| 26/26 [00:00<?, ?it/s]\n"
     ]
    },
    {
     "name": "stdout",
     "output_type": "stream",
     "text": [
      "Attribution score for channel b2g2: -21.04\n",
      "\n",
      "Computing phi for channel e6a6...\n"
     ]
    },
    {
     "name": "stderr",
     "output_type": "stream",
     "text": [
      "100%|████████████████████████████████████████████████████| 1/1 [00:00<?, ?it/s]\n"
     ]
    },
    {
     "name": "stdout",
     "output_type": "stream",
     "text": [
      "Attribution score for channel e6a6: -0.10\n",
      "\n",
      "Computing phi for channel c0c2...\n"
     ]
    },
    {
     "name": "stderr",
     "output_type": "stream",
     "text": [
      "100%|████████████████████████████████████████████████████| 1/1 [00:00<?, ?it/s]\n"
     ]
    },
    {
     "name": "stdout",
     "output_type": "stream",
     "text": [
      "Attribution score for channel c0c2: -0.05\n",
      "\n",
      "Computing phi for channel f8i8...\n"
     ]
    },
    {
     "name": "stderr",
     "output_type": "stream",
     "text": [
      "100%|██████████████████████████████████████████| 1/1 [00:00<00:00, 1002.70it/s]\n"
     ]
    },
    {
     "name": "stdout",
     "output_type": "stream",
     "text": [
      "Attribution score for channel f8i8: -0.09\n",
      "\n",
      "Computing phi for channel f2e1...\n"
     ]
    },
    {
     "name": "stderr",
     "output_type": "stream",
     "text": [
      "100%|████████████████████████████████████████████████████| 6/6 [00:00<?, ?it/s]\n"
     ]
    },
    {
     "name": "stdout",
     "output_type": "stream",
     "text": [
      "Attribution score for channel f2e1: -0.43\n",
      "\n",
      "Computing phi for channel i2h2...\n"
     ]
    },
    {
     "name": "stderr",
     "output_type": "stream",
     "text": [
      "100%|████████████████████████████████████████████████████| 7/7 [00:00<?, ?it/s]\n"
     ]
    },
    {
     "name": "stdout",
     "output_type": "stream",
     "text": [
      "Attribution score for channel i2h2: -0.58\n",
      "\n",
      "Computing phi for channel f1f3...\n"
     ]
    },
    {
     "name": "stderr",
     "output_type": "stream",
     "text": [
      "100%|████████████████████████████████████████████████████| 2/2 [00:00<?, ?it/s]\n"
     ]
    },
    {
     "name": "stdout",
     "output_type": "stream",
     "text": [
      "Attribution score for channel f1f3: -0.15\n",
      "\n",
      "Computing phi for channel e2g2...\n"
     ]
    },
    {
     "name": "stderr",
     "output_type": "stream",
     "text": [
      "100%|██████████████████████████████████████████████████| 76/76 [00:00<?, ?it/s]\n"
     ]
    },
    {
     "name": "stdout",
     "output_type": "stream",
     "text": [
      "Attribution score for channel e2g2: -20.30\n",
      "\n",
      "Computing phi for channel a1b1...\n"
     ]
    },
    {
     "name": "stderr",
     "output_type": "stream",
     "text": [
      "100%|██████████████████████████████████████████████████| 21/21 [00:00<?, ?it/s]\n"
     ]
    },
    {
     "name": "stdout",
     "output_type": "stream",
     "text": [
      "Attribution score for channel a1b1: -6.24\n",
      "\n",
      "Computing phi for channel e1g0...\n"
     ]
    },
    {
     "name": "stderr",
     "output_type": "stream",
     "text": [
      "100%|████████████████████████████████████████████████████| 1/1 [00:00<?, ?it/s]\n"
     ]
    },
    {
     "name": "stdout",
     "output_type": "stream",
     "text": [
      "Attribution score for channel e1g0: -0.07\n",
      "\n",
      "Computing phi for channel d1f0...\n"
     ]
    },
    {
     "name": "stderr",
     "output_type": "stream",
     "text": [
      "100%|████████████████████████████████████████████████████| 3/3 [00:00<?, ?it/s]\n"
     ]
    },
    {
     "name": "stdout",
     "output_type": "stream",
     "text": [
      "Attribution score for channel d1f0: -0.29\n",
      "\n",
      "Computing phi for channel h4g4...\n"
     ]
    },
    {
     "name": "stderr",
     "output_type": "stream",
     "text": [
      "100%|████████████████████████████████████████████████████| 4/4 [00:00<?, ?it/s]\n"
     ]
    },
    {
     "name": "stdout",
     "output_type": "stream",
     "text": [
      "Attribution score for channel h4g4: -0.40\n",
      "\n",
      "Computing phi for channel c9e9...\n"
     ]
    },
    {
     "name": "stderr",
     "output_type": "stream",
     "text": [
      "100%|████████████████████████████████████████████████████| 1/1 [00:00<?, ?it/s]\n"
     ]
    },
    {
     "name": "stdout",
     "output_type": "stream",
     "text": [
      "Attribution score for channel c9e9: 0.00\n",
      "\n",
      "Computing phi for channel d4c6...\n"
     ]
    },
    {
     "name": "stderr",
     "output_type": "stream",
     "text": [
      "100%|████████████████████████████████████████████████████| 1/1 [00:00<?, ?it/s]\n"
     ]
    },
    {
     "name": "stdout",
     "output_type": "stream",
     "text": [
      "Attribution score for channel d4c6: -0.04\n",
      "\n",
      "Computing phi for channel e3d1...\n"
     ]
    },
    {
     "name": "stderr",
     "output_type": "stream",
     "text": [
      "100%|████████████████████████████████████████████████████| 1/1 [00:00<?, ?it/s]\n"
     ]
    },
    {
     "name": "stdout",
     "output_type": "stream",
     "text": [
      "Attribution score for channel e3d1: -0.09\n",
      "\n",
      "Computing phi for channel c4a2...\n"
     ]
    },
    {
     "name": "stderr",
     "output_type": "stream",
     "text": [
      "100%|██████████████████████████████████████████████████| 12/12 [00:00<?, ?it/s]\n"
     ]
    },
    {
     "name": "stdout",
     "output_type": "stream",
     "text": [
      "Attribution score for channel c4a2: -0.95\n",
      "\n",
      "Computing phi for channel b8e8...\n"
     ]
    },
    {
     "name": "stderr",
     "output_type": "stream",
     "text": [
      "100%|████████████████████████████████████████████████████| 1/1 [00:00<?, ?it/s]"
     ]
    },
    {
     "name": "stdout",
     "output_type": "stream",
     "text": [
      "Attribution score for channel b8e8: -0.06\n",
      "\n",
      "Computing phi for channel h1h3...\n"
     ]
    },
    {
     "name": "stderr",
     "output_type": "stream",
     "text": [
      "\n",
      "100%|████████████████████████████████████████████████████| 4/4 [00:00<?, ?it/s]\n"
     ]
    },
    {
     "name": "stdout",
     "output_type": "stream",
     "text": [
      "Attribution score for channel h1h3: -0.44\n",
      "\n",
      "Computing phi for channel g2a2...\n"
     ]
    },
    {
     "name": "stderr",
     "output_type": "stream",
     "text": [
      "100%|████████████████████████████████████████████████████| 4/4 [00:00<?, ?it/s]\n"
     ]
    },
    {
     "name": "stdout",
     "output_type": "stream",
     "text": [
      "Attribution score for channel g2a2: -0.24\n",
      "\n",
      "Computing phi for channel b0b7...\n"
     ]
    },
    {
     "name": "stderr",
     "output_type": "stream",
     "text": [
      "100%|██████████████████████████████████████████| 1/1 [00:00<00:00, 1001.27it/s]\n"
     ]
    },
    {
     "name": "stdout",
     "output_type": "stream",
     "text": [
      "Attribution score for channel b0b7: -0.40\n",
      "\n",
      "Computing phi for channel b0b4...\n"
     ]
    },
    {
     "name": "stderr",
     "output_type": "stream",
     "text": [
      "100%|████████████████████████████████████████████████████| 3/3 [00:00<?, ?it/s]"
     ]
    },
    {
     "name": "stdout",
     "output_type": "stream",
     "text": [
      "Attribution score for channel b0b4: -0.72\n",
      "\n",
      "Computing phi for channel f4h4...\n"
     ]
    },
    {
     "name": "stderr",
     "output_type": "stream",
     "text": [
      "\n",
      "100%|████████████████████████████████████████████████████| 1/1 [00:00<?, ?it/s]\n"
     ]
    },
    {
     "name": "stdout",
     "output_type": "stream",
     "text": [
      "Attribution score for channel f4h4: -0.64\n",
      "\n",
      "Computing phi for channel h6g6...\n"
     ]
    },
    {
     "name": "stderr",
     "output_type": "stream",
     "text": [
      "100%|████████████████████████████████████████████████████| 1/1 [00:00<?, ?it/s]\n"
     ]
    },
    {
     "name": "stdout",
     "output_type": "stream",
     "text": [
      "Attribution score for channel h6g6: -0.06\n",
      "\n",
      "Computing phi for channel b3e3...\n"
     ]
    },
    {
     "name": "stderr",
     "output_type": "stream",
     "text": [
      "100%|████████████████████████████████████████████████████| 3/3 [00:00<?, ?it/s]\n"
     ]
    },
    {
     "name": "stdout",
     "output_type": "stream",
     "text": [
      "Attribution score for channel b3e3: -0.23\n",
      "\n",
      "Computing phi for channel e1d1...\n"
     ]
    },
    {
     "name": "stderr",
     "output_type": "stream",
     "text": [
      "100%|██████████████████████████████████████████████████| 75/75 [00:00<?, ?it/s]\n"
     ]
    },
    {
     "name": "stdout",
     "output_type": "stream",
     "text": [
      "Attribution score for channel e1d1: -12.47\n",
      "\n",
      "Computing phi for channel c2d4...\n"
     ]
    },
    {
     "name": "stderr",
     "output_type": "stream",
     "text": [
      "100%|████████████████████████████████████████████████████| 2/2 [00:00<?, ?it/s]\n"
     ]
    },
    {
     "name": "stdout",
     "output_type": "stream",
     "text": [
      "Attribution score for channel c2d4: -0.10\n",
      "\n",
      "Computing phi for channel a3e3...\n"
     ]
    },
    {
     "name": "stderr",
     "output_type": "stream",
     "text": [
      "100%|██████████████████████████████████████████| 1/1 [00:00<00:00, 1002.22it/s]\n"
     ]
    },
    {
     "name": "stdout",
     "output_type": "stream",
     "text": [
      "Attribution score for channel a3e3: -0.06\n",
      "\n",
      "Computing phi for channel e1f0...\n"
     ]
    },
    {
     "name": "stderr",
     "output_type": "stream",
     "text": [
      "100%|██████████████████████████████████████████| 9/9 [00:00<00:00, 9011.40it/s]\n"
     ]
    },
    {
     "name": "stdout",
     "output_type": "stream",
     "text": [
      "Attribution score for channel e1f0: -1.27\n",
      "\n",
      "Computing phi for channel e2e4...\n"
     ]
    },
    {
     "name": "stderr",
     "output_type": "stream",
     "text": [
      "100%|██████████████████████████████████████████| 3/3 [00:00<00:00, 6948.05it/s]\n"
     ]
    },
    {
     "name": "stdout",
     "output_type": "stream",
     "text": [
      "Attribution score for channel e2e4: -0.32\n",
      "\n",
      "Computing phi for channel e2e1...\n"
     ]
    },
    {
     "name": "stderr",
     "output_type": "stream",
     "text": [
      "100%|███████████████████████████████████████| 17/17 [00:00<00:00, 17045.94it/s]\n"
     ]
    },
    {
     "name": "stdout",
     "output_type": "stream",
     "text": [
      "Attribution score for channel e2e1: -1.22\n",
      "\n",
      "Computing phi for channel b1b4...\n"
     ]
    },
    {
     "name": "stderr",
     "output_type": "stream",
     "text": [
      "100%|██████████████████████████████████████████████████| 13/13 [00:00<?, ?it/s]\n"
     ]
    },
    {
     "name": "stdout",
     "output_type": "stream",
     "text": [
      "Attribution score for channel b1b4: -0.96\n",
      "\n",
      "Computing phi for channel i1a1...\n"
     ]
    },
    {
     "name": "stderr",
     "output_type": "stream",
     "text": [
      "100%|████████████████████████████████████████████████████| 1/1 [00:00<?, ?it/s]\n"
     ]
    },
    {
     "name": "stdout",
     "output_type": "stream",
     "text": [
      "Attribution score for channel i1a1: -0.08\n",
      "\n",
      "Computing phi for channel a1i1...\n"
     ]
    },
    {
     "name": "stderr",
     "output_type": "stream",
     "text": [
      "100%|████████████████████████████████████████████████████| 3/3 [00:00<?, ?it/s]\n"
     ]
    },
    {
     "name": "stdout",
     "output_type": "stream",
     "text": [
      "Attribution score for channel a1i1: -0.27\n",
      "\n",
      "Computing phi for channel a1a3...\n"
     ]
    },
    {
     "name": "stderr",
     "output_type": "stream",
     "text": [
      "100%|████████████████████████████████████████████████████| 5/5 [00:00<?, ?it/s]\n"
     ]
    },
    {
     "name": "stdout",
     "output_type": "stream",
     "text": [
      "Attribution score for channel a1a3: -0.42\n",
      "\n",
      "Computing phi for channel d3d9...\n"
     ]
    },
    {
     "name": "stderr",
     "output_type": "stream",
     "text": [
      "100%|████████████████████████████████████████████████████| 1/1 [00:00<?, ?it/s]\n"
     ]
    },
    {
     "name": "stdout",
     "output_type": "stream",
     "text": [
      "Attribution score for channel d3d9: -0.08\n",
      "\n",
      "Computing phi for channel i0i4...\n"
     ]
    },
    {
     "name": "stderr",
     "output_type": "stream",
     "text": [
      "100%|████████████████████████████████████████████████████| 1/1 [00:00<?, ?it/s]\n"
     ]
    },
    {
     "name": "stdout",
     "output_type": "stream",
     "text": [
      "Attribution score for channel i0i4: -0.07\n",
      "\n",
      "Computing phi for channel b4a4...\n"
     ]
    },
    {
     "name": "stderr",
     "output_type": "stream",
     "text": [
      "100%|████████████████████████████████████████████████████| 4/4 [00:00<?, ?it/s]\n"
     ]
    },
    {
     "name": "stdout",
     "output_type": "stream",
     "text": [
      "Attribution score for channel b4a4: -1.88\n",
      "\n",
      "Computing phi for channel b1f1...\n"
     ]
    },
    {
     "name": "stderr",
     "output_type": "stream",
     "text": [
      "100%|████████████████████████████████████████████████████| 9/9 [00:00<?, ?it/s]\n"
     ]
    },
    {
     "name": "stdout",
     "output_type": "stream",
     "text": [
      "Attribution score for channel b1f1: -2.94\n",
      "\n",
      "Computing phi for channel h2h8...\n"
     ]
    },
    {
     "name": "stderr",
     "output_type": "stream",
     "text": [
      "100%|██████████████████████████████████████████████████| 17/17 [00:00<?, ?it/s]\n"
     ]
    },
    {
     "name": "stdout",
     "output_type": "stream",
     "text": [
      "Attribution score for channel h2h8: -2.54\n",
      "\n",
      "Computing phi for channel b0b9...\n"
     ]
    },
    {
     "name": "stderr",
     "output_type": "stream",
     "text": [
      "100%|████████████████████████████████████████████████████| 2/2 [00:00<?, ?it/s]\n"
     ]
    },
    {
     "name": "stdout",
     "output_type": "stream",
     "text": [
      "Attribution score for channel b0b9: -0.17\n",
      "\n",
      "Computing phi for channel b4b6...\n"
     ]
    },
    {
     "name": "stderr",
     "output_type": "stream",
     "text": [
      "100%|██████████████████████████████████████████████████| 58/58 [00:00<?, ?it/s]\n"
     ]
    },
    {
     "name": "stdout",
     "output_type": "stream",
     "text": [
      "Attribution score for channel b4b6: -13.26\n",
      "\n",
      "Computing phi for channel b4d4...\n"
     ]
    },
    {
     "name": "stderr",
     "output_type": "stream",
     "text": [
      "100%|███████████████████████████████████████| 13/13 [00:00<00:00, 13035.13it/s]\n"
     ]
    },
    {
     "name": "stdout",
     "output_type": "stream",
     "text": [
      "Attribution score for channel b4d4: -1.20\n",
      "\n",
      "Computing phi for channel a1a0...\n"
     ]
    },
    {
     "name": "stderr",
     "output_type": "stream",
     "text": [
      "100%|██████████████████████████████████████████████████| 12/12 [00:00<?, ?it/s]\n"
     ]
    },
    {
     "name": "stdout",
     "output_type": "stream",
     "text": [
      "Attribution score for channel a1a0: -1.05\n",
      "\n",
      "Computing phi for channel i2a2...\n"
     ]
    },
    {
     "name": "stderr",
     "output_type": "stream",
     "text": [
      "100%|████████████████████████████████████████████████████| 6/6 [00:00<?, ?it/s]\n"
     ]
    },
    {
     "name": "stdout",
     "output_type": "stream",
     "text": [
      "Attribution score for channel i2a2: -0.51\n",
      "\n",
      "Computing phi for channel b3b4...\n"
     ]
    },
    {
     "name": "stderr",
     "output_type": "stream",
     "text": [
      "100%|████████████████████████████████████████████████████| 7/7 [00:00<?, ?it/s]\n"
     ]
    },
    {
     "name": "stdout",
     "output_type": "stream",
     "text": [
      "Attribution score for channel b3b4: -2.09\n",
      "\n",
      "Computing phi for channel i3i0...\n"
     ]
    },
    {
     "name": "stderr",
     "output_type": "stream",
     "text": [
      "100%|██████████████████████████████████████████| 5/5 [00:00<00:00, 5008.72it/s]\n"
     ]
    },
    {
     "name": "stdout",
     "output_type": "stream",
     "text": [
      "Attribution score for channel i3i0: -0.37\n",
      "\n",
      "Computing phi for channel d0e0...\n"
     ]
    },
    {
     "name": "stderr",
     "output_type": "stream",
     "text": [
      "100%|████████████████████████████████████████████████████| 9/9 [00:00<?, ?it/s]\n"
     ]
    },
    {
     "name": "stdout",
     "output_type": "stream",
     "text": [
      "Attribution score for channel d0e0: -0.60\n",
      "\n",
      "Computing phi for channel i2g2...\n"
     ]
    },
    {
     "name": "stderr",
     "output_type": "stream",
     "text": [
      "100%|██████████████████████████████████████████████████| 16/16 [00:00<?, ?it/s]\n"
     ]
    },
    {
     "name": "stdout",
     "output_type": "stream",
     "text": [
      "Attribution score for channel i2g2: -1.15\n",
      "\n",
      "Computing phi for channel e5e4...\n"
     ]
    },
    {
     "name": "stderr",
     "output_type": "stream",
     "text": [
      "100%|████████████████████████████████████████████████████| 1/1 [00:00<?, ?it/s]\n"
     ]
    },
    {
     "name": "stdout",
     "output_type": "stream",
     "text": [
      "Attribution score for channel e5e4: -0.07\n",
      "\n",
      "Computing phi for channel g4e2...\n"
     ]
    },
    {
     "name": "stderr",
     "output_type": "stream",
     "text": [
      "100%|██████████████████████████████████████████| 1/1 [00:00<00:00, 1001.74it/s]\n"
     ]
    },
    {
     "name": "stdout",
     "output_type": "stream",
     "text": [
      "Attribution score for channel g4e2: -0.06\n",
      "\n",
      "Computing phi for channel h5c5...\n"
     ]
    },
    {
     "name": "stderr",
     "output_type": "stream",
     "text": [
      "100%|████████████████████████████████████████████████████| 4/4 [00:00<?, ?it/s]\n"
     ]
    },
    {
     "name": "stdout",
     "output_type": "stream",
     "text": [
      "Attribution score for channel h5c5: -0.38\n",
      "\n",
      "Computing phi for channel c2d2...\n"
     ]
    },
    {
     "name": "stderr",
     "output_type": "stream",
     "text": [
      "100%|██████████████████████████████████████████████████| 24/24 [00:00<?, ?it/s]\n"
     ]
    },
    {
     "name": "stdout",
     "output_type": "stream",
     "text": [
      "Attribution score for channel c2d2: -2.13\n",
      "\n",
      "Computing phi for channel i2h0...\n"
     ]
    },
    {
     "name": "stderr",
     "output_type": "stream",
     "text": [
      "100%|████████████████████████████████████████████████████| 3/3 [00:00<?, ?it/s]\n"
     ]
    },
    {
     "name": "stdout",
     "output_type": "stream",
     "text": [
      "Attribution score for channel i2h0: -0.42\n",
      "\n",
      "Computing phi for channel b4b2...\n"
     ]
    },
    {
     "name": "stderr",
     "output_type": "stream",
     "text": [
      "100%|████████████████████████████████████████████████████| 1/1 [00:00<?, ?it/s]\n"
     ]
    },
    {
     "name": "stdout",
     "output_type": "stream",
     "text": [
      "Attribution score for channel b4b2: -0.06\n",
      "\n",
      "Computing phi for channel g2h4...\n"
     ]
    },
    {
     "name": "stderr",
     "output_type": "stream",
     "text": [
      "100%|████████████████████████████████████████████████████| 4/4 [00:00<?, ?it/s]\n"
     ]
    },
    {
     "name": "stdout",
     "output_type": "stream",
     "text": [
      "Attribution score for channel g2h4: -0.32\n",
      "\n",
      "Computing phi for channel i0g0...\n"
     ]
    },
    {
     "name": "stderr",
     "output_type": "stream",
     "text": [
      "100%|████████████████████████████████████████████████████| 6/6 [00:00<?, ?it/s]\n"
     ]
    },
    {
     "name": "stdout",
     "output_type": "stream",
     "text": [
      "Attribution score for channel i0g0: -0.94\n",
      "\n",
      "Computing phi for channel f7f0...\n"
     ]
    },
    {
     "name": "stderr",
     "output_type": "stream",
     "text": [
      "100%|████████████████████████████████████████████████████| 1/1 [00:00<?, ?it/s]\n"
     ]
    },
    {
     "name": "stdout",
     "output_type": "stream",
     "text": [
      "Attribution score for channel f7f0: -0.07\n",
      "\n",
      "Computing phi for channel c0a2...\n"
     ]
    },
    {
     "name": "stderr",
     "output_type": "stream",
     "text": [
      "100%|████████████████████████████████████| 182/182 [00:00<00:00, 182622.81it/s]\n"
     ]
    },
    {
     "name": "stdout",
     "output_type": "stream",
     "text": [
      "Attribution score for channel c0a2: -57.97\n",
      "\n",
      "Computing phi for channel d1d2...\n"
     ]
    },
    {
     "name": "stderr",
     "output_type": "stream",
     "text": [
      "100%|███████████████████████████████████████| 39/39 [00:00<00:00, 39142.82it/s]\n"
     ]
    },
    {
     "name": "stdout",
     "output_type": "stream",
     "text": [
      "Attribution score for channel d1d2: -6.20\n",
      "\n",
      "Computing phi for channel h7h8...\n"
     ]
    },
    {
     "name": "stderr",
     "output_type": "stream",
     "text": [
      "100%|████████████████████████████████████████████████████| 1/1 [00:00<?, ?it/s]\n"
     ]
    },
    {
     "name": "stdout",
     "output_type": "stream",
     "text": [
      "Attribution score for channel h7h8: -0.12\n",
      "\n",
      "Computing phi for channel b7b9...\n"
     ]
    },
    {
     "name": "stderr",
     "output_type": "stream",
     "text": [
      "100%|██████████████████████████████████████████| 1/1 [00:00<00:00, 1003.42it/s]\n"
     ]
    },
    {
     "name": "stdout",
     "output_type": "stream",
     "text": [
      "Attribution score for channel b7b9: -0.11\n",
      "\n",
      "Computing phi for channel f4e4...\n"
     ]
    },
    {
     "name": "stderr",
     "output_type": "stream",
     "text": [
      "100%|████████████████████████████████████████████████████| 4/4 [00:00<?, ?it/s]\n"
     ]
    },
    {
     "name": "stdout",
     "output_type": "stream",
     "text": [
      "Attribution score for channel f4e4: -0.28\n",
      "\n",
      "Computing phi for channel i5h5...\n"
     ]
    },
    {
     "name": "stderr",
     "output_type": "stream",
     "text": [
      "100%|████████████████████████████████████████████████████| 1/1 [00:00<?, ?it/s]\n"
     ]
    },
    {
     "name": "stdout",
     "output_type": "stream",
     "text": [
      "Attribution score for channel i5h5: -0.25\n",
      "\n",
      "Computing phi for channel e1d2...\n"
     ]
    },
    {
     "name": "stderr",
     "output_type": "stream",
     "text": [
      "100%|███████████████████████████████████████| 22/22 [00:00<00:00, 22043.64it/s]\n"
     ]
    },
    {
     "name": "stdout",
     "output_type": "stream",
     "text": [
      "Attribution score for channel e1d2: -2.43\n",
      "\n",
      "Computing phi for channel h2i2...\n"
     ]
    },
    {
     "name": "stderr",
     "output_type": "stream",
     "text": [
      "100%|██████████████████████████████████████████████████| 22/22 [00:00<?, ?it/s]\n"
     ]
    },
    {
     "name": "stdout",
     "output_type": "stream",
     "text": [
      "Attribution score for channel h2i2: -3.47\n",
      "\n",
      "Computing phi for channel d1a1...\n"
     ]
    },
    {
     "name": "stderr",
     "output_type": "stream",
     "text": [
      "100%|████████████████████████████████████████████████████| 4/4 [00:00<?, ?it/s]\n"
     ]
    },
    {
     "name": "stdout",
     "output_type": "stream",
     "text": [
      "Attribution score for channel d1a1: -0.47\n",
      "\n",
      "Computing phi for channel b5b6...\n"
     ]
    },
    {
     "name": "stderr",
     "output_type": "stream",
     "text": [
      "100%|████████████████████████████████████████████████████| 3/3 [00:00<?, ?it/s]\n"
     ]
    },
    {
     "name": "stdout",
     "output_type": "stream",
     "text": [
      "Attribution score for channel b5b6: -0.25\n",
      "\n",
      "Computing phi for channel f0f3...\n"
     ]
    },
    {
     "name": "stderr",
     "output_type": "stream",
     "text": [
      "100%|████████████████████████████████████████████████████| 1/1 [00:00<?, ?it/s]\n"
     ]
    },
    {
     "name": "stdout",
     "output_type": "stream",
     "text": [
      "Attribution score for channel f0f3: -0.10\n",
      "\n",
      "Computing phi for channel c1e1...\n"
     ]
    },
    {
     "name": "stderr",
     "output_type": "stream",
     "text": [
      "100%|████████████████████████████████████████████████████| 3/3 [00:00<?, ?it/s]\n"
     ]
    },
    {
     "name": "stdout",
     "output_type": "stream",
     "text": [
      "Attribution score for channel c1e1: -0.66\n",
      "\n",
      "Computing phi for channel f3b3...\n"
     ]
    },
    {
     "name": "stderr",
     "output_type": "stream",
     "text": [
      "100%|████████████████████████████████████████████████████| 1/1 [00:00<?, ?it/s]\n"
     ]
    },
    {
     "name": "stdout",
     "output_type": "stream",
     "text": [
      "Attribution score for channel f3b3: -0.06\n",
      "\n",
      "Computing phi for channel i4f4...\n"
     ]
    },
    {
     "name": "stderr",
     "output_type": "stream",
     "text": [
      "100%|████████████████████████████████████████████████████| 1/1 [00:00<?, ?it/s]\n"
     ]
    },
    {
     "name": "stdout",
     "output_type": "stream",
     "text": [
      "Attribution score for channel i4f4: -0.05\n",
      "\n",
      "Computing phi for channel h6h2...\n"
     ]
    },
    {
     "name": "stderr",
     "output_type": "stream",
     "text": [
      "100%|████████████████████████████████████████████████████| 2/2 [00:00<?, ?it/s]\n"
     ]
    },
    {
     "name": "stdout",
     "output_type": "stream",
     "text": [
      "Attribution score for channel h6h2: -0.15\n",
      "\n",
      "Computing phi for channel f1f6...\n"
     ]
    },
    {
     "name": "stderr",
     "output_type": "stream",
     "text": [
      "100%|████████████████████████████████████████████████████| 4/4 [00:00<?, ?it/s]\n"
     ]
    },
    {
     "name": "stdout",
     "output_type": "stream",
     "text": [
      "Attribution score for channel f1f6: -1.05\n",
      "\n",
      "Computing phi for channel b5b1...\n"
     ]
    },
    {
     "name": "stderr",
     "output_type": "stream",
     "text": [
      "100%|████████████████████████████████████████████████████| 2/2 [00:00<?, ?it/s]\n"
     ]
    },
    {
     "name": "stdout",
     "output_type": "stream",
     "text": [
      "Attribution score for channel b5b1: -0.22\n",
      "\n",
      "Computing phi for channel h4h7...\n"
     ]
    },
    {
     "name": "stderr",
     "output_type": "stream",
     "text": [
      "100%|████████████████████████████████████████████████████| 2/2 [00:00<?, ?it/s]\n"
     ]
    },
    {
     "name": "stdout",
     "output_type": "stream",
     "text": [
      "Attribution score for channel h4h7: -0.16\n",
      "\n",
      "Computing phi for channel g2g6...\n"
     ]
    },
    {
     "name": "stderr",
     "output_type": "stream",
     "text": [
      "100%|██████████████████████████████████████████████████| 18/18 [00:00<?, ?it/s]\n"
     ]
    },
    {
     "name": "stdout",
     "output_type": "stream",
     "text": [
      "Attribution score for channel g2g6: -1.50\n",
      "\n",
      "Computing phi for channel b7f7...\n"
     ]
    },
    {
     "name": "stderr",
     "output_type": "stream",
     "text": [
      "100%|████████████████████████████████████████████████████| 3/3 [00:00<?, ?it/s]\n"
     ]
    },
    {
     "name": "stdout",
     "output_type": "stream",
     "text": [
      "Attribution score for channel b7f7: -0.36\n",
      "\n",
      "Computing phi for channel b6g6...\n"
     ]
    },
    {
     "name": "stderr",
     "output_type": "stream",
     "text": [
      "100%|████████████████████████████████████████████████████| 1/1 [00:00<?, ?it/s]\n"
     ]
    },
    {
     "name": "stdout",
     "output_type": "stream",
     "text": [
      "Attribution score for channel b6g6: -0.06\n",
      "\n",
      "Computing phi for channel h0h2...\n"
     ]
    },
    {
     "name": "stderr",
     "output_type": "stream",
     "text": [
      "100%|████████████████████████████████████████████████████| 2/2 [00:00<?, ?it/s]\n"
     ]
    },
    {
     "name": "stdout",
     "output_type": "stream",
     "text": [
      "Attribution score for channel h0h2: -0.18\n",
      "\n",
      "Computing phi for channel e1f1...\n"
     ]
    },
    {
     "name": "stderr",
     "output_type": "stream",
     "text": [
      "100%|████████████████████████████████████████████████| 171/171 [00:00<?, ?it/s]\n"
     ]
    },
    {
     "name": "stdout",
     "output_type": "stream",
     "text": [
      "Attribution score for channel e1f1: -27.07\n",
      "\n",
      "Computing phi for channel f2b2...\n"
     ]
    },
    {
     "name": "stderr",
     "output_type": "stream",
     "text": [
      "100%|████████████████████████████████████████████████████| 4/4 [00:00<?, ?it/s]\n"
     ]
    },
    {
     "name": "stdout",
     "output_type": "stream",
     "text": [
      "Attribution score for channel f2b2: -0.27\n",
      "\n",
      "Computing phi for channel i2g1...\n"
     ]
    },
    {
     "name": "stderr",
     "output_type": "stream",
     "text": [
      "100%|████████████████████████████████████████████████████| 9/9 [00:00<?, ?it/s]\n"
     ]
    },
    {
     "name": "stdout",
     "output_type": "stream",
     "text": [
      "Attribution score for channel i2g1: -1.92\n",
      "\n",
      "Computing phi for channel b2d3...\n"
     ]
    },
    {
     "name": "stderr",
     "output_type": "stream",
     "text": [
      "100%|████████████████████████████████████████████████████| 1/1 [00:00<?, ?it/s]\n"
     ]
    },
    {
     "name": "stdout",
     "output_type": "stream",
     "text": [
      "Attribution score for channel b2d3: -0.05\n",
      "\n",
      "Computing phi for channel c1h1...\n"
     ]
    },
    {
     "name": "stderr",
     "output_type": "stream",
     "text": [
      "100%|████████████████████████████████████████████████████| 1/1 [00:00<?, ?it/s]\n"
     ]
    },
    {
     "name": "stdout",
     "output_type": "stream",
     "text": [
      "Attribution score for channel c1h1: -0.06\n",
      "\n",
      "Computing phi for channel b2b9...\n"
     ]
    },
    {
     "name": "stderr",
     "output_type": "stream",
     "text": [
      "100%|██████████████████████████████████████████████████| 52/52 [00:00<?, ?it/s]\n"
     ]
    },
    {
     "name": "stdout",
     "output_type": "stream",
     "text": [
      "Attribution score for channel b2b9: -12.71\n",
      "\n",
      "Computing phi for channel e6e5...\n"
     ]
    },
    {
     "name": "stderr",
     "output_type": "stream",
     "text": [
      "100%|████████████████████████████████████████████████████| 2/2 [00:00<?, ?it/s]\n"
     ]
    },
    {
     "name": "stdout",
     "output_type": "stream",
     "text": [
      "Attribution score for channel e6e5: -0.13\n",
      "\n",
      "Computing phi for channel d2d1...\n"
     ]
    },
    {
     "name": "stderr",
     "output_type": "stream",
     "text": [
      "100%|██████████████████████████████████████████████████| 14/14 [00:00<?, ?it/s]\n"
     ]
    },
    {
     "name": "stdout",
     "output_type": "stream",
     "text": [
      "Attribution score for channel d2d1: -1.59\n",
      "\n",
      "Computing phi for channel h5e5...\n"
     ]
    },
    {
     "name": "stderr",
     "output_type": "stream",
     "text": [
      "100%|████████████████████████████████████████████████████| 2/2 [00:00<?, ?it/s]\n"
     ]
    },
    {
     "name": "stdout",
     "output_type": "stream",
     "text": [
      "Attribution score for channel h5e5: -0.19\n",
      "\n",
      "Computing phi for channel f1f0...\n"
     ]
    },
    {
     "name": "stderr",
     "output_type": "stream",
     "text": [
      "100%|██████████████████████████████████████████████████| 56/56 [00:00<?, ?it/s]\n"
     ]
    },
    {
     "name": "stdout",
     "output_type": "stream",
     "text": [
      "Attribution score for channel f1f0: -8.63\n",
      "\n",
      "Computing phi for channel b8b2...\n"
     ]
    },
    {
     "name": "stderr",
     "output_type": "stream",
     "text": [
      "100%|████████████████████████████████████████████████████| 1/1 [00:00<?, ?it/s]\n"
     ]
    },
    {
     "name": "stdout",
     "output_type": "stream",
     "text": [
      "Attribution score for channel b8b2: -0.05\n",
      "\n",
      "Computing phi for channel f2f8...\n"
     ]
    },
    {
     "name": "stderr",
     "output_type": "stream",
     "text": [
      "100%|████████████████████████████████████████████████████| 7/7 [00:00<?, ?it/s]\n"
     ]
    },
    {
     "name": "stdout",
     "output_type": "stream",
     "text": [
      "Attribution score for channel f2f8: -0.46\n",
      "\n",
      "Computing phi for channel c4c9...\n"
     ]
    },
    {
     "name": "stderr",
     "output_type": "stream",
     "text": [
      "100%|████████████████████████████████████████████████████| 9/9 [00:00<?, ?it/s]\n"
     ]
    },
    {
     "name": "stdout",
     "output_type": "stream",
     "text": [
      "Attribution score for channel c4c9: -0.67\n",
      "\n",
      "Computing phi for channel f1f9...\n"
     ]
    },
    {
     "name": "stderr",
     "output_type": "stream",
     "text": [
      "100%|████████████████████████████████████████████████████| 1/1 [00:00<?, ?it/s]\n"
     ]
    },
    {
     "name": "stdout",
     "output_type": "stream",
     "text": [
      "Attribution score for channel f1f9: -0.08\n",
      "\n",
      "Computing phi for channel g2g3...\n"
     ]
    },
    {
     "name": "stderr",
     "output_type": "stream",
     "text": [
      "100%|████████████████████████████████████████████████████| 1/1 [00:00<?, ?it/s]\n"
     ]
    },
    {
     "name": "stdout",
     "output_type": "stream",
     "text": [
      "Attribution score for channel g2g3: -0.08\n",
      "\n",
      "Computing phi for channel d4d8...\n"
     ]
    },
    {
     "name": "stderr",
     "output_type": "stream",
     "text": [
      "100%|████████████████████████████████████████████████████| 1/1 [00:00<?, ?it/s]\n"
     ]
    },
    {
     "name": "stdout",
     "output_type": "stream",
     "text": [
      "Attribution score for channel d4d8: -0.08\n",
      "\n",
      "Computing phi for channel e4b4...\n"
     ]
    },
    {
     "name": "stderr",
     "output_type": "stream",
     "text": [
      "100%|████████████████████████████████████████████████████| 1/1 [00:00<?, ?it/s]\n"
     ]
    },
    {
     "name": "stdout",
     "output_type": "stream",
     "text": [
      "Attribution score for channel e4b4: -0.10\n",
      "\n",
      "Computing phi for channel c6c8...\n"
     ]
    },
    {
     "name": "stderr",
     "output_type": "stream",
     "text": [
      "100%|████████████████████████████████████████████████████| 1/1 [00:00<?, ?it/s]\n"
     ]
    },
    {
     "name": "stdout",
     "output_type": "stream",
     "text": [
      "Attribution score for channel c6c8: -0.06\n",
      "\n",
      "Computing phi for channel d7f7...\n"
     ]
    },
    {
     "name": "stderr",
     "output_type": "stream",
     "text": [
      "100%|████████████████████████████████████████████████████| 1/1 [00:00<?, ?it/s]\n"
     ]
    },
    {
     "name": "stdout",
     "output_type": "stream",
     "text": [
      "Attribution score for channel d7f7: -0.04\n",
      "\n",
      "Computing phi for channel c2e1...\n"
     ]
    },
    {
     "name": "stderr",
     "output_type": "stream",
     "text": [
      "100%|████████████████████████████████████████████████████| 5/5 [00:00<?, ?it/s]\n"
     ]
    },
    {
     "name": "stdout",
     "output_type": "stream",
     "text": [
      "Attribution score for channel c2e1: -0.80\n",
      "\n",
      "Computing phi for channel f1f7...\n"
     ]
    },
    {
     "name": "stderr",
     "output_type": "stream",
     "text": [
      "100%|████████████████████████████████████████████████████| 1/1 [00:00<?, ?it/s]\n"
     ]
    },
    {
     "name": "stdout",
     "output_type": "stream",
     "text": [
      "Attribution score for channel f1f7: -0.05\n",
      "\n",
      "Computing phi for channel b2b0...\n"
     ]
    },
    {
     "name": "stderr",
     "output_type": "stream",
     "text": [
      "100%|██████████████████████████████████████████████████| 14/14 [00:00<?, ?it/s]\n"
     ]
    },
    {
     "name": "stdout",
     "output_type": "stream",
     "text": [
      "Attribution score for channel b2b0: -1.93\n",
      "\n",
      "Computing phi for channel c6i6...\n"
     ]
    },
    {
     "name": "stderr",
     "output_type": "stream",
     "text": [
      "100%|████████████████████████████████████████████████████| 1/1 [00:00<?, ?it/s]\n"
     ]
    },
    {
     "name": "stdout",
     "output_type": "stream",
     "text": [
      "Attribution score for channel c6i6: -0.07\n",
      "\n",
      "Computing phi for channel a0b0...\n"
     ]
    },
    {
     "name": "stderr",
     "output_type": "stream",
     "text": [
      "100%|██████████████████████████████████████████████████| 49/49 [00:00<?, ?it/s]\n"
     ]
    },
    {
     "name": "stdout",
     "output_type": "stream",
     "text": [
      "Attribution score for channel a0b0: -8.12\n",
      "\n",
      "Computing phi for channel b1e1...\n"
     ]
    },
    {
     "name": "stderr",
     "output_type": "stream",
     "text": [
      "100%|████████████████████████████████████████████████████| 4/4 [00:00<?, ?it/s]\n"
     ]
    },
    {
     "name": "stdout",
     "output_type": "stream",
     "text": [
      "Attribution score for channel b1e1: -0.34\n",
      "\n",
      "Computing phi for channel b2c2...\n"
     ]
    },
    {
     "name": "stderr",
     "output_type": "stream",
     "text": [
      "100%|██████████████████████████████████████████████████| 87/87 [00:00<?, ?it/s]\n"
     ]
    },
    {
     "name": "stdout",
     "output_type": "stream",
     "text": [
      "Attribution score for channel b2c2: -32.67\n",
      "\n",
      "Computing phi for channel b0a0...\n"
     ]
    },
    {
     "name": "stderr",
     "output_type": "stream",
     "text": [
      "100%|████████████████████████████████████████████████████| 8/8 [00:00<?, ?it/s]\n"
     ]
    },
    {
     "name": "stdout",
     "output_type": "stream",
     "text": [
      "Attribution score for channel b0a0: -3.18\n",
      "\n",
      "Computing phi for channel b4b8...\n"
     ]
    },
    {
     "name": "stderr",
     "output_type": "stream",
     "text": [
      "100%|████████████████████████████████████████████████████| 5/5 [00:00<?, ?it/s]\n"
     ]
    },
    {
     "name": "stdout",
     "output_type": "stream",
     "text": [
      "Attribution score for channel b4b8: -1.59\n",
      "\n",
      "Computing phi for channel d4c2...\n"
     ]
    },
    {
     "name": "stderr",
     "output_type": "stream",
     "text": [
      "100%|████████████████████████████████████████████████████| 1/1 [00:00<?, ?it/s]\n"
     ]
    },
    {
     "name": "stdout",
     "output_type": "stream",
     "text": [
      "Attribution score for channel d4c2: -0.06\n",
      "\n",
      "Computing phi for channel c5d5...\n"
     ]
    },
    {
     "name": "stderr",
     "output_type": "stream",
     "text": [
      "100%|██████████████████████████████████████████| 3/3 [00:00<00:00, 3008.11it/s]\n"
     ]
    },
    {
     "name": "stdout",
     "output_type": "stream",
     "text": [
      "Attribution score for channel c5d5: -0.19\n",
      "\n",
      "Computing phi for channel f4f3...\n"
     ]
    },
    {
     "name": "stderr",
     "output_type": "stream",
     "text": [
      "100%|████████████████████████████████████████████████████| 4/4 [00:00<?, ?it/s]\n"
     ]
    },
    {
     "name": "stdout",
     "output_type": "stream",
     "text": [
      "Attribution score for channel f4f3: -0.47\n",
      "\n",
      "Computing phi for channel d2e2...\n"
     ]
    },
    {
     "name": "stderr",
     "output_type": "stream",
     "text": [
      "100%|██████████████████████████████████████████████████| 28/28 [00:00<?, ?it/s]\n"
     ]
    },
    {
     "name": "stdout",
     "output_type": "stream",
     "text": [
      "Attribution score for channel d2e2: -3.05\n",
      "\n",
      "Computing phi for channel e1f2...\n"
     ]
    },
    {
     "name": "stderr",
     "output_type": "stream",
     "text": [
      "100%|██████████████████████████████████████████████████| 33/33 [00:00<?, ?it/s]\n"
     ]
    },
    {
     "name": "stdout",
     "output_type": "stream",
     "text": [
      "Attribution score for channel e1f2: -5.11\n",
      "\n",
      "Computing phi for channel b3b2...\n"
     ]
    },
    {
     "name": "stderr",
     "output_type": "stream",
     "text": [
      "100%|████████████████████████████████████████████████████| 6/6 [00:00<?, ?it/s]\n"
     ]
    },
    {
     "name": "stdout",
     "output_type": "stream",
     "text": [
      "Attribution score for channel b3b2: -0.58\n",
      "\n",
      "Computing phi for channel b3b0...\n"
     ]
    },
    {
     "name": "stderr",
     "output_type": "stream",
     "text": [
      "100%|██████████████████████████████████████████████████| 15/15 [00:00<?, ?it/s]\n"
     ]
    },
    {
     "name": "stdout",
     "output_type": "stream",
     "text": [
      "Attribution score for channel b3b0: -1.21\n",
      "\n",
      "Computing phi for channel e2e6...\n"
     ]
    },
    {
     "name": "stderr",
     "output_type": "stream",
     "text": [
      "100%|██████████████████████████████████████████████████| 12/12 [00:00<?, ?it/s]\n"
     ]
    },
    {
     "name": "stdout",
     "output_type": "stream",
     "text": [
      "Attribution score for channel e2e6: -1.32\n",
      "\n",
      "Computing phi for channel e0e8...\n"
     ]
    },
    {
     "name": "stderr",
     "output_type": "stream",
     "text": [
      "100%|████████████████████████████████████████████████████| 1/1 [00:00<?, ?it/s]\n"
     ]
    },
    {
     "name": "stdout",
     "output_type": "stream",
     "text": [
      "Attribution score for channel e0e8: -0.04\n",
      "\n",
      "Computing phi for channel f0e2...\n"
     ]
    },
    {
     "name": "stderr",
     "output_type": "stream",
     "text": [
      "100%|████████████████████████████████████████████████████| 1/1 [00:00<?, ?it/s]\n"
     ]
    },
    {
     "name": "stdout",
     "output_type": "stream",
     "text": [
      "Attribution score for channel f0e2: -0.05\n",
      "\n",
      "Computing phi for channel c2c9...\n"
     ]
    },
    {
     "name": "stderr",
     "output_type": "stream",
     "text": [
      "100%|████████████████████████████████████████████████████| 3/3 [00:00<?, ?it/s]\n"
     ]
    },
    {
     "name": "stdout",
     "output_type": "stream",
     "text": [
      "Attribution score for channel c2c9: -0.60\n",
      "\n",
      "Computing phi for channel c9c5...\n"
     ]
    },
    {
     "name": "stderr",
     "output_type": "stream",
     "text": [
      "100%|████████████████████████████████████████████████████| 1/1 [00:00<?, ?it/s]\n"
     ]
    },
    {
     "name": "stdout",
     "output_type": "stream",
     "text": [
      "Attribution score for channel c9c5: -0.50\n",
      "\n",
      "Computing phi for channel d1g1...\n"
     ]
    },
    {
     "name": "stderr",
     "output_type": "stream",
     "text": [
      "100%|████████████████████████████████████████████████████| 2/2 [00:00<?, ?it/s]"
     ]
    },
    {
     "name": "stdout",
     "output_type": "stream",
     "text": [
      "Attribution score for channel d1g1: -0.19\n",
      "\n",
      "Computing phi for channel h1h2...\n"
     ]
    },
    {
     "name": "stderr",
     "output_type": "stream",
     "text": [
      "\n",
      "100%|████████████████████████████████████████████████████| 5/5 [00:00<?, ?it/s]\n"
     ]
    },
    {
     "name": "stdout",
     "output_type": "stream",
     "text": [
      "Attribution score for channel h1h2: -0.38\n",
      "\n",
      "Computing phi for channel c2b2...\n"
     ]
    },
    {
     "name": "stderr",
     "output_type": "stream",
     "text": [
      "100%|███████████████████████████████████████| 36/36 [00:00<00:00, 36123.19it/s]\n"
     ]
    },
    {
     "name": "stdout",
     "output_type": "stream",
     "text": [
      "Attribution score for channel c2b2: -10.90\n",
      "\n",
      "Computing phi for channel b4b1...\n"
     ]
    },
    {
     "name": "stderr",
     "output_type": "stream",
     "text": [
      "100%|██████████████████████████████████████████████████| 15/15 [00:00<?, ?it/s]\n"
     ]
    },
    {
     "name": "stdout",
     "output_type": "stream",
     "text": [
      "Attribution score for channel b4b1: -2.81\n",
      "\n",
      "Computing phi for channel d5e7...\n"
     ]
    },
    {
     "name": "stderr",
     "output_type": "stream",
     "text": [
      "100%|████████████████████████████████████████████████████| 2/2 [00:00<?, ?it/s]"
     ]
    },
    {
     "name": "stdout",
     "output_type": "stream",
     "text": [
      "Attribution score for channel d5e7: -0.57\n",
      "\n",
      "Computing phi for channel h4a4...\n"
     ]
    },
    {
     "name": "stderr",
     "output_type": "stream",
     "text": [
      "\n",
      "100%|████████████████████████████████████████████████████| 3/3 [00:00<?, ?it/s]\n"
     ]
    },
    {
     "name": "stdout",
     "output_type": "stream",
     "text": [
      "Attribution score for channel h4a4: -0.31\n",
      "\n",
      "Computing phi for channel h7h4...\n"
     ]
    },
    {
     "name": "stderr",
     "output_type": "stream",
     "text": [
      "100%|████████████████████████████████████████████████████| 4/4 [00:00<?, ?it/s]\n"
     ]
    },
    {
     "name": "stdout",
     "output_type": "stream",
     "text": [
      "Attribution score for channel h7h4: -0.29\n",
      "\n",
      "Computing phi for channel a3a4...\n"
     ]
    },
    {
     "name": "stderr",
     "output_type": "stream",
     "text": [
      "100%|████████████████████████████████████████████████| 169/169 [00:00<?, ?it/s]\n"
     ]
    },
    {
     "name": "stdout",
     "output_type": "stream",
     "text": [
      "Attribution score for channel a3a4: -30.59\n",
      "\n",
      "Computing phi for channel g8d8...\n"
     ]
    },
    {
     "name": "stderr",
     "output_type": "stream",
     "text": [
      "100%|████████████████████████████████████████████████████| 1/1 [00:00<?, ?it/s]\n"
     ]
    },
    {
     "name": "stdout",
     "output_type": "stream",
     "text": [
      "Attribution score for channel g8d8: -0.07\n",
      "\n",
      "Computing phi for channel a1c0...\n"
     ]
    },
    {
     "name": "stderr",
     "output_type": "stream",
     "text": [
      "100%|████████████████████████████████████████████████████| 1/1 [00:00<?, ?it/s]\n"
     ]
    },
    {
     "name": "stdout",
     "output_type": "stream",
     "text": [
      "Attribution score for channel a1c0: -0.06\n",
      "\n",
      "Computing phi for channel e6i6...\n"
     ]
    },
    {
     "name": "stderr",
     "output_type": "stream",
     "text": [
      "100%|████████████████████████████████████████████████████| 1/1 [00:00<?, ?it/s]\n"
     ]
    },
    {
     "name": "stdout",
     "output_type": "stream",
     "text": [
      "Attribution score for channel e6i6: -0.23\n",
      "\n",
      "Computing phi for channel c2b4...\n"
     ]
    },
    {
     "name": "stderr",
     "output_type": "stream",
     "text": [
      "100%|████████████████████████████████████████████████████| 4/4 [00:00<?, ?it/s]\n"
     ]
    },
    {
     "name": "stdout",
     "output_type": "stream",
     "text": [
      "Attribution score for channel c2b4: -0.22\n",
      "\n",
      "Computing phi for channel f4f8...\n"
     ]
    },
    {
     "name": "stderr",
     "output_type": "stream",
     "text": [
      "100%|████████████████████████████████████████████████████| 2/2 [00:00<?, ?it/s]\n"
     ]
    },
    {
     "name": "stdout",
     "output_type": "stream",
     "text": [
      "Attribution score for channel f4f8: -0.27\n",
      "\n",
      "Computing phi for channel e3b3...\n"
     ]
    },
    {
     "name": "stderr",
     "output_type": "stream",
     "text": [
      "100%|████████████████████████████████████████████████████| 1/1 [00:00<?, ?it/s]\n"
     ]
    },
    {
     "name": "stdout",
     "output_type": "stream",
     "text": [
      "Attribution score for channel e3b3: -0.07\n",
      "\n",
      "Computing phi for channel i0i6...\n"
     ]
    },
    {
     "name": "stderr",
     "output_type": "stream",
     "text": [
      "100%|████████████████████████████████████████████████████| 2/2 [00:00<?, ?it/s]\n"
     ]
    },
    {
     "name": "stdout",
     "output_type": "stream",
     "text": [
      "Attribution score for channel i0i6: -0.12\n",
      "\n",
      "Computing phi for channel h0f1...\n"
     ]
    },
    {
     "name": "stderr",
     "output_type": "stream",
     "text": [
      "100%|████████████████████████████████████████████████████| 8/8 [00:00<?, ?it/s]\n"
     ]
    },
    {
     "name": "stdout",
     "output_type": "stream",
     "text": [
      "Attribution score for channel h0f1: -0.66\n",
      "\n",
      "Computing phi for channel a4c4...\n"
     ]
    },
    {
     "name": "stderr",
     "output_type": "stream",
     "text": [
      "100%|████████████████████████████████████████████████████| 4/4 [00:00<?, ?it/s]\n"
     ]
    },
    {
     "name": "stdout",
     "output_type": "stream",
     "text": [
      "Attribution score for channel a4c4: -1.01\n",
      "\n",
      "Computing phi for channel h0g0...\n"
     ]
    },
    {
     "name": "stderr",
     "output_type": "stream",
     "text": [
      "100%|████████████████████████████████████████████████████| 1/1 [00:00<?, ?it/s]\n"
     ]
    },
    {
     "name": "stdout",
     "output_type": "stream",
     "text": [
      "Attribution score for channel h0g0: -1.12\n",
      "\n",
      "Computing phi for channel h0g2...\n"
     ]
    },
    {
     "name": "stderr",
     "output_type": "stream",
     "text": [
      "100%|██████████████████████████████████████████████████| 81/81 [00:00<?, ?it/s]\n"
     ]
    },
    {
     "name": "stdout",
     "output_type": "stream",
     "text": [
      "Attribution score for channel h0g2: -18.22\n",
      "\n",
      "Computing phi for channel d1b1...\n"
     ]
    },
    {
     "name": "stderr",
     "output_type": "stream",
     "text": [
      "100%|██████████████████████████████████████████████████| 10/10 [00:00<?, ?it/s]\n"
     ]
    },
    {
     "name": "stdout",
     "output_type": "stream",
     "text": [
      "Attribution score for channel d1b1: -2.28\n",
      "\n",
      "Computing phi for channel d4d5...\n"
     ]
    },
    {
     "name": "stderr",
     "output_type": "stream",
     "text": [
      "100%|██████████████████████████████████████████| 1/1 [00:00<00:00, 1002.46it/s]\n"
     ]
    },
    {
     "name": "stdout",
     "output_type": "stream",
     "text": [
      "Attribution score for channel d4d5: -0.47\n",
      "\n",
      "Computing phi for channel c0e2...\n"
     ]
    },
    {
     "name": "stderr",
     "output_type": "stream",
     "text": [
      "100%|████████████████████████████████████████████████| 131/131 [00:00<?, ?it/s]\n"
     ]
    },
    {
     "name": "stdout",
     "output_type": "stream",
     "text": [
      "Attribution score for channel c0e2: -39.85\n",
      "\n",
      "Computing phi for channel f0e0...\n"
     ]
    },
    {
     "name": "stderr",
     "output_type": "stream",
     "text": [
      "100%|██████████████████████████████████████████████████| 17/17 [00:00<?, ?it/s]\n"
     ]
    },
    {
     "name": "stdout",
     "output_type": "stream",
     "text": [
      "Attribution score for channel f0e0: -2.01\n",
      "\n",
      "Computing phi for channel h5h8...\n"
     ]
    },
    {
     "name": "stderr",
     "output_type": "stream",
     "text": [
      "100%|████████████████████████████████████████████████████| 2/2 [00:00<?, ?it/s]"
     ]
    },
    {
     "name": "stdout",
     "output_type": "stream",
     "text": [
      "Attribution score for channel h5h8: -0.11\n",
      "\n",
      "Computing phi for channel h6h0...\n"
     ]
    },
    {
     "name": "stderr",
     "output_type": "stream",
     "text": [
      "\n",
      "100%|████████████████████████████████████████████████████| 4/4 [00:00<?, ?it/s]\n"
     ]
    },
    {
     "name": "stdout",
     "output_type": "stream",
     "text": [
      "Attribution score for channel h6h0: -0.22\n",
      "\n",
      "Computing phi for channel c1e2...\n"
     ]
    },
    {
     "name": "stderr",
     "output_type": "stream",
     "text": [
      "100%|████████████████████████████████████████████████████| 1/1 [00:00<?, ?it/s]\n"
     ]
    },
    {
     "name": "stdout",
     "output_type": "stream",
     "text": [
      "Attribution score for channel c1e2: -0.25\n",
      "\n",
      "Computing phi for channel g2f0...\n"
     ]
    },
    {
     "name": "stderr",
     "output_type": "stream",
     "text": [
      "100%|████████████████████████████████████████████████████| 6/6 [00:00<?, ?it/s]\n"
     ]
    },
    {
     "name": "stdout",
     "output_type": "stream",
     "text": [
      "Attribution score for channel g2f0: -1.39\n",
      "\n",
      "Computing phi for channel f5f6...\n"
     ]
    },
    {
     "name": "stderr",
     "output_type": "stream",
     "text": [
      "100%|██████████████████████████████████████████| 2/2 [00:00<00:00, 2005.88it/s]\n"
     ]
    },
    {
     "name": "stdout",
     "output_type": "stream",
     "text": [
      "Attribution score for channel f5f6: -0.20\n",
      "\n",
      "Computing phi for channel g3g4...\n"
     ]
    },
    {
     "name": "stderr",
     "output_type": "stream",
     "text": [
      "100%|████████████████████████████████████████████████| 120/120 [00:00<?, ?it/s]\n"
     ]
    },
    {
     "name": "stdout",
     "output_type": "stream",
     "text": [
      "Attribution score for channel g3g4: -20.95\n",
      "\n",
      "Computing phi for channel f1h0...\n"
     ]
    },
    {
     "name": "stderr",
     "output_type": "stream",
     "text": [
      "100%|████████████████████████████████████████████████████| 3/3 [00:00<?, ?it/s]\n"
     ]
    },
    {
     "name": "stdout",
     "output_type": "stream",
     "text": [
      "Attribution score for channel f1h0: -0.19\n",
      "\n",
      "Computing phi for channel e3e2...\n"
     ]
    },
    {
     "name": "stderr",
     "output_type": "stream",
     "text": [
      "100%|██████████████████████████████████████████| 1/1 [00:00<00:00, 1002.46it/s]\n"
     ]
    },
    {
     "name": "stdout",
     "output_type": "stream",
     "text": [
      "Attribution score for channel e3e2: -0.08\n",
      "\n",
      "Computing phi for channel f3h3...\n"
     ]
    },
    {
     "name": "stderr",
     "output_type": "stream",
     "text": [
      "100%|████████████████████████████████████████████████████| 1/1 [00:00<?, ?it/s]\n"
     ]
    },
    {
     "name": "stdout",
     "output_type": "stream",
     "text": [
      "Attribution score for channel f3h3: -0.10\n",
      "\n",
      "Computing phi for channel d1b2...\n"
     ]
    },
    {
     "name": "stderr",
     "output_type": "stream",
     "text": [
      "100%|████████████████████████████████████████████████████| 5/5 [00:00<?, ?it/s]\n"
     ]
    },
    {
     "name": "stdout",
     "output_type": "stream",
     "text": [
      "Attribution score for channel d1b2: -0.96\n",
      "\n",
      "Computing phi for channel c6c4...\n"
     ]
    },
    {
     "name": "stderr",
     "output_type": "stream",
     "text": [
      "100%|████████████████████████████████████████████████████| 2/2 [00:00<?, ?it/s]\n"
     ]
    },
    {
     "name": "stdout",
     "output_type": "stream",
     "text": [
      "Attribution score for channel c6c4: -0.15\n",
      "\n",
      "Computing phi for channel f4f0...\n"
     ]
    },
    {
     "name": "stderr",
     "output_type": "stream",
     "text": [
      "100%|████████████████████████████████████████████████████| 1/1 [00:00<?, ?it/s]\n"
     ]
    },
    {
     "name": "stdout",
     "output_type": "stream",
     "text": [
      "Attribution score for channel f4f0: -0.05\n",
      "\n",
      "Computing phi for channel b6e6...\n"
     ]
    },
    {
     "name": "stderr",
     "output_type": "stream",
     "text": [
      "100%|███████████████████████████████████████| 10/10 [00:00<00:00, 10036.62it/s]\n"
     ]
    },
    {
     "name": "stdout",
     "output_type": "stream",
     "text": [
      "Attribution score for channel b6e6: -2.07\n",
      "\n",
      "Computing phi for channel a1a2...\n"
     ]
    },
    {
     "name": "stderr",
     "output_type": "stream",
     "text": [
      "100%|██████████████████████████████████████████████████| 62/62 [00:00<?, ?it/s]\n"
     ]
    },
    {
     "name": "stdout",
     "output_type": "stream",
     "text": [
      "Attribution score for channel a1a2: -11.73\n",
      "\n",
      "Computing phi for channel h7h1...\n"
     ]
    },
    {
     "name": "stderr",
     "output_type": "stream",
     "text": [
      "100%|████████████████████████████████████████████████████| 7/7 [00:00<?, ?it/s]\n"
     ]
    },
    {
     "name": "stdout",
     "output_type": "stream",
     "text": [
      "Attribution score for channel h7h1: -0.53\n",
      "\n",
      "Computing phi for channel b0b5...\n"
     ]
    },
    {
     "name": "stderr",
     "output_type": "stream",
     "text": [
      "100%|████████████████████████████████████████████████████| 1/1 [00:00<?, ?it/s]\n"
     ]
    },
    {
     "name": "stdout",
     "output_type": "stream",
     "text": [
      "Attribution score for channel b0b5: -0.08\n",
      "\n",
      "Computing phi for channel e2e5...\n"
     ]
    },
    {
     "name": "stderr",
     "output_type": "stream",
     "text": [
      "100%|████████████████████████████████████████████████████| 1/1 [00:00<?, ?it/s]\n"
     ]
    },
    {
     "name": "stdout",
     "output_type": "stream",
     "text": [
      "Attribution score for channel e2e5: -0.10\n",
      "\n",
      "Computing phi for channel f4a4...\n"
     ]
    },
    {
     "name": "stderr",
     "output_type": "stream",
     "text": [
      "100%|████████████████████████████████████████████████████| 1/1 [00:00<?, ?it/s]\n"
     ]
    },
    {
     "name": "stdout",
     "output_type": "stream",
     "text": [
      "Attribution score for channel f4a4: -0.08\n",
      "\n",
      "Computing phi for channel g0g2...\n"
     ]
    },
    {
     "name": "stderr",
     "output_type": "stream",
     "text": [
      "100%|████████████████████████████████████████████████████| 1/1 [00:00<?, ?it/s]\n"
     ]
    },
    {
     "name": "stdout",
     "output_type": "stream",
     "text": [
      "Attribution score for channel g0g2: -0.05\n",
      "\n",
      "Computing phi for channel b2b4...\n"
     ]
    },
    {
     "name": "stderr",
     "output_type": "stream",
     "text": [
      "100%|█████████████████████████████████| 370/370 [00:00<00:00, 129324373.33it/s]\n"
     ]
    },
    {
     "name": "stdout",
     "output_type": "stream",
     "text": [
      "Attribution score for channel b2b4: -100.64\n",
      "\n",
      "Computing phi for channel h5h6...\n"
     ]
    },
    {
     "name": "stderr",
     "output_type": "stream",
     "text": [
      "100%|████████████████████████████████████████████████████| 2/2 [00:00<?, ?it/s]\n"
     ]
    },
    {
     "name": "stdout",
     "output_type": "stream",
     "text": [
      "Attribution score for channel h5h6: -0.26\n",
      "\n",
      "Computing phi for channel g1c1...\n"
     ]
    },
    {
     "name": "stderr",
     "output_type": "stream",
     "text": [
      "100%|████████████████████████████████████████████████████| 2/2 [00:00<?, ?it/s]\n"
     ]
    },
    {
     "name": "stdout",
     "output_type": "stream",
     "text": [
      "Attribution score for channel g1c1: -0.61\n",
      "\n",
      "Computing phi for channel f8e8...\n"
     ]
    },
    {
     "name": "stderr",
     "output_type": "stream",
     "text": [
      "100%|████████████████████████████████████████████████████| 1/1 [00:00<?, ?it/s]\n"
     ]
    },
    {
     "name": "stdout",
     "output_type": "stream",
     "text": [
      "Attribution score for channel f8e8: -0.06\n",
      "\n",
      "Computing phi for channel c2f2...\n"
     ]
    },
    {
     "name": "stderr",
     "output_type": "stream",
     "text": [
      "100%|██████████████████████████████████████████████████| 12/12 [00:00<?, ?it/s]\n"
     ]
    },
    {
     "name": "stdout",
     "output_type": "stream",
     "text": [
      "Attribution score for channel c2f2: -1.13\n",
      "\n",
      "Computing phi for channel h1c1...\n"
     ]
    },
    {
     "name": "stderr",
     "output_type": "stream",
     "text": [
      "100%|████████████████████████████████████████████████████| 1/1 [00:00<?, ?it/s]\n"
     ]
    },
    {
     "name": "stdout",
     "output_type": "stream",
     "text": [
      "Attribution score for channel h1c1: -0.05\n",
      "\n",
      "Computing phi for channel h1e1...\n"
     ]
    },
    {
     "name": "stderr",
     "output_type": "stream",
     "text": [
      "100%|████████████████████████████████████████████████████| 2/2 [00:00<?, ?it/s]\n"
     ]
    },
    {
     "name": "stdout",
     "output_type": "stream",
     "text": [
      "Attribution score for channel h1e1: -0.17\n",
      "\n",
      "Computing phi for channel h4h3...\n"
     ]
    },
    {
     "name": "stderr",
     "output_type": "stream",
     "text": [
      "100%|████████████████████████████████████████████████████| 3/3 [00:00<?, ?it/s]\n"
     ]
    },
    {
     "name": "stdout",
     "output_type": "stream",
     "text": [
      "Attribution score for channel h4h3: -0.34\n",
      "\n",
      "Computing phi for channel d6c6...\n"
     ]
    },
    {
     "name": "stderr",
     "output_type": "stream",
     "text": [
      "100%|██████████████████████████████████████████| 1/1 [00:00<00:00, 1003.18it/s]\n"
     ]
    },
    {
     "name": "stdout",
     "output_type": "stream",
     "text": [
      "Attribution score for channel d6c6: -0.04\n",
      "\n",
      "Computing phi for channel g0i2...\n"
     ]
    },
    {
     "name": "stderr",
     "output_type": "stream",
     "text": [
      "100%|████████████████████████████████████| 110/110 [00:00<00:00, 217526.37it/s]\n"
     ]
    },
    {
     "name": "stdout",
     "output_type": "stream",
     "text": [
      "Attribution score for channel g0i2: -33.82\n",
      "\n",
      "Computing phi for channel i6a6...\n"
     ]
    },
    {
     "name": "stderr",
     "output_type": "stream",
     "text": [
      "100%|████████████████████████████████████████████████████| 1/1 [00:00<?, ?it/s]\n"
     ]
    },
    {
     "name": "stdout",
     "output_type": "stream",
     "text": [
      "Attribution score for channel i6a6: -0.07\n",
      "\n",
      "Computing phi for channel f4g4...\n"
     ]
    },
    {
     "name": "stderr",
     "output_type": "stream",
     "text": [
      "100%|████████████████████████████████████████████████████| 1/1 [00:00<?, ?it/s]\n"
     ]
    },
    {
     "name": "stdout",
     "output_type": "stream",
     "text": [
      "Attribution score for channel f4g4: -0.07\n",
      "\n",
      "Computing phi for channel f6e6...\n"
     ]
    },
    {
     "name": "stderr",
     "output_type": "stream",
     "text": [
      "100%|██████████████████████████████████████████| 1/1 [00:00<00:00, 1002.94it/s]\n"
     ]
    },
    {
     "name": "stdout",
     "output_type": "stream",
     "text": [
      "Attribution score for channel f6e6: -0.06\n",
      "\n",
      "Computing phi for channel b5b4...\n"
     ]
    },
    {
     "name": "stderr",
     "output_type": "stream",
     "text": [
      "100%|████████████████████████████████████████████████████| 1/1 [00:00<?, ?it/s]\n"
     ]
    },
    {
     "name": "stdout",
     "output_type": "stream",
     "text": [
      "Attribution score for channel b5b4: -0.08\n",
      "\n",
      "Computing phi for channel h5h1...\n"
     ]
    },
    {
     "name": "stderr",
     "output_type": "stream",
     "text": [
      "100%|████████████████████████████████████████████████████| 4/4 [00:00<?, ?it/s]\n"
     ]
    },
    {
     "name": "stdout",
     "output_type": "stream",
     "text": [
      "Attribution score for channel h5h1: -0.29\n",
      "\n",
      "Computing phi for channel c6d6...\n"
     ]
    },
    {
     "name": "stderr",
     "output_type": "stream",
     "text": [
      "100%|████████████████████████████████████████████████████| 1/1 [00:00<?, ?it/s]\n"
     ]
    },
    {
     "name": "stdout",
     "output_type": "stream",
     "text": [
      "Attribution score for channel c6d6: -0.04\n",
      "\n",
      "Computing phi for channel e2g4...\n"
     ]
    },
    {
     "name": "stderr",
     "output_type": "stream",
     "text": [
      "100%|███████████████████████████████████████| 11/11 [00:00<00:00, 11032.36it/s]\n"
     ]
    },
    {
     "name": "stdout",
     "output_type": "stream",
     "text": [
      "Attribution score for channel e2g4: -0.94\n",
      "\n",
      "Computing phi for channel e5e6...\n"
     ]
    },
    {
     "name": "stderr",
     "output_type": "stream",
     "text": [
      "100%|████████████████████████████████████████████████████| 2/2 [00:00<?, ?it/s]\n"
     ]
    },
    {
     "name": "stdout",
     "output_type": "stream",
     "text": [
      "Attribution score for channel e5e6: -0.12\n",
      "\n",
      "Computing phi for channel a2f2...\n"
     ]
    },
    {
     "name": "stderr",
     "output_type": "stream",
     "text": [
      "100%|████████████████████████████████████████████████████| 8/8 [00:00<?, ?it/s]\n"
     ]
    },
    {
     "name": "stdout",
     "output_type": "stream",
     "text": [
      "Attribution score for channel a2f2: -0.52\n",
      "\n",
      "Computing phi for channel b4c4...\n"
     ]
    },
    {
     "name": "stderr",
     "output_type": "stream",
     "text": [
      "100%|██████████████████████████████████████████████████| 10/10 [00:00<?, ?it/s]\n"
     ]
    },
    {
     "name": "stdout",
     "output_type": "stream",
     "text": [
      "Attribution score for channel b4c4: -2.67\n",
      "\n",
      "Computing phi for channel h3h4...\n"
     ]
    },
    {
     "name": "stderr",
     "output_type": "stream",
     "text": [
      "100%|███████████████████████████████████████████| 1/1 [00:00<00:00, 334.15it/s]\n"
     ]
    },
    {
     "name": "stdout",
     "output_type": "stream",
     "text": [
      "Attribution score for channel h3h4: -0.10\n",
      "\n",
      "Computing phi for channel h1d1...\n"
     ]
    },
    {
     "name": "stderr",
     "output_type": "stream",
     "text": [
      "100%|████████████████████████████████████████████████████| 1/1 [00:00<?, ?it/s]\n"
     ]
    },
    {
     "name": "stdout",
     "output_type": "stream",
     "text": [
      "Attribution score for channel h1d1: -0.79\n",
      "\n",
      "Computing phi for channel d3f2...\n"
     ]
    },
    {
     "name": "stderr",
     "output_type": "stream",
     "text": [
      "100%|████████████████████████████████████████████████████| 1/1 [00:00<?, ?it/s]\n"
     ]
    },
    {
     "name": "stdout",
     "output_type": "stream",
     "text": [
      "Attribution score for channel d3f2: -0.13\n",
      "\n",
      "Computing phi for channel i2e2...\n"
     ]
    },
    {
     "name": "stderr",
     "output_type": "stream",
     "text": [
      "100%|████████████████████████████████████████████████████| 3/3 [00:00<?, ?it/s]\n"
     ]
    },
    {
     "name": "stdout",
     "output_type": "stream",
     "text": [
      "Attribution score for channel i2e2: -0.19\n",
      "\n",
      "Computing phi for channel i5i6...\n"
     ]
    },
    {
     "name": "stderr",
     "output_type": "stream",
     "text": [
      "100%|████████████████████████████████████████████████████| 4/4 [00:00<?, ?it/s]\n"
     ]
    },
    {
     "name": "stdout",
     "output_type": "stream",
     "text": [
      "Attribution score for channel i5i6: -0.64\n",
      "\n",
      "Computing phi for channel h6h5...\n"
     ]
    },
    {
     "name": "stderr",
     "output_type": "stream",
     "text": [
      "100%|███████████████████████████████████████| 31/31 [00:00<00:00, 31054.08it/s]\n"
     ]
    },
    {
     "name": "stdout",
     "output_type": "stream",
     "text": [
      "Attribution score for channel h6h5: -6.88\n",
      "\n",
      "Computing phi for channel c2a3...\n"
     ]
    },
    {
     "name": "stderr",
     "output_type": "stream",
     "text": [
      "100%|████████████████████████████████████████████████████| 1/1 [00:00<?, ?it/s]\n"
     ]
    },
    {
     "name": "stdout",
     "output_type": "stream",
     "text": [
      "Attribution score for channel c2a3: -0.08\n",
      "\n",
      "Computing phi for channel d6d5...\n"
     ]
    },
    {
     "name": "stderr",
     "output_type": "stream",
     "text": [
      "100%|████████████████████████████████████████████████████| 1/1 [00:00<?, ?it/s]\n"
     ]
    },
    {
     "name": "stdout",
     "output_type": "stream",
     "text": [
      "Attribution score for channel d6d5: -0.08\n",
      "\n",
      "Computing phi for channel g1g0...\n"
     ]
    },
    {
     "name": "stderr",
     "output_type": "stream",
     "text": [
      "100%|████████████████████████████████████████████████████| 1/1 [00:00<?, ?it/s]\n"
     ]
    },
    {
     "name": "stdout",
     "output_type": "stream",
     "text": [
      "Attribution score for channel g1g0: -0.04\n",
      "\n",
      "Computing phi for channel b5g5...\n"
     ]
    },
    {
     "name": "stderr",
     "output_type": "stream",
     "text": [
      "100%|████████████████████████████████████████████████████| 2/2 [00:00<?, ?it/s]\n"
     ]
    },
    {
     "name": "stdout",
     "output_type": "stream",
     "text": [
      "Attribution score for channel b5g5: -0.21\n",
      "\n",
      "Computing phi for channel h4b4...\n"
     ]
    },
    {
     "name": "stderr",
     "output_type": "stream",
     "text": [
      "100%|████████████████████████████████████████████████████| 1/1 [00:00<?, ?it/s]\n"
     ]
    },
    {
     "name": "stdout",
     "output_type": "stream",
     "text": [
      "Attribution score for channel h4b4: -2.25\n",
      "\n",
      "Computing phi for channel h2e2...\n"
     ]
    },
    {
     "name": "stderr",
     "output_type": "stream",
     "text": [
      "100%|████████████████████████████████████████████████| 108/108 [00:00<?, ?it/s]\n"
     ]
    },
    {
     "name": "stdout",
     "output_type": "stream",
     "text": [
      "Attribution score for channel h2e2: -30.66\n",
      "\n",
      "Computing phi for channel e6e8...\n"
     ]
    },
    {
     "name": "stderr",
     "output_type": "stream",
     "text": [
      "100%|████████████████████████████████████████████████████| 1/1 [00:00<?, ?it/s]\n"
     ]
    },
    {
     "name": "stdout",
     "output_type": "stream",
     "text": [
      "Attribution score for channel e6e8: -0.56\n",
      "\n",
      "Computing phi for channel d8b8...\n"
     ]
    },
    {
     "name": "stderr",
     "output_type": "stream",
     "text": [
      "100%|██████████████████████████████████████████| 1/1 [00:00<00:00, 1001.74it/s]\n"
     ]
    },
    {
     "name": "stdout",
     "output_type": "stream",
     "text": [
      "Attribution score for channel d8b8: -0.08\n",
      "\n",
      "Computing phi for channel e2i2...\n"
     ]
    },
    {
     "name": "stderr",
     "output_type": "stream",
     "text": [
      "100%|██████████████████████████████████████████| 8/8 [00:00<00:00, 7991.05it/s]\n"
     ]
    },
    {
     "name": "stdout",
     "output_type": "stream",
     "text": [
      "Attribution score for channel e2i2: -0.72\n",
      "\n",
      "Computing phi for channel e5a5...\n"
     ]
    },
    {
     "name": "stderr",
     "output_type": "stream",
     "text": [
      "100%|████████████████████████████████████████████████████| 2/2 [00:00<?, ?it/s]\n"
     ]
    },
    {
     "name": "stdout",
     "output_type": "stream",
     "text": [
      "Attribution score for channel e5a5: -0.13\n",
      "\n",
      "Computing phi for channel i2i0...\n"
     ]
    },
    {
     "name": "stderr",
     "output_type": "stream",
     "text": [
      "100%|██████████████████████████████████████████████████| 13/13 [00:00<?, ?it/s]\n"
     ]
    },
    {
     "name": "stdout",
     "output_type": "stream",
     "text": [
      "Attribution score for channel i2i0: -4.60\n",
      "\n",
      "Computing phi for channel g2i3...\n"
     ]
    },
    {
     "name": "stderr",
     "output_type": "stream",
     "text": [
      "100%|████████████████████████████████████████████████████| 1/1 [00:00<?, ?it/s]\n"
     ]
    },
    {
     "name": "stdout",
     "output_type": "stream",
     "text": [
      "Attribution score for channel g2i3: -0.04\n",
      "\n",
      "Computing phi for channel f7f1...\n"
     ]
    },
    {
     "name": "stderr",
     "output_type": "stream",
     "text": [
      "100%|████████████████████████████████████████████████████| 1/1 [00:00<?, ?it/s]\n"
     ]
    },
    {
     "name": "stdout",
     "output_type": "stream",
     "text": [
      "Attribution score for channel f7f1: -0.06\n",
      "\n",
      "Computing phi for channel e0f0...\n"
     ]
    },
    {
     "name": "stderr",
     "output_type": "stream",
     "text": [
      "100%|██████████████████████████████████████████████████| 29/29 [00:00<?, ?it/s]\n"
     ]
    },
    {
     "name": "stdout",
     "output_type": "stream",
     "text": [
      "Attribution score for channel e0f0: -8.55\n",
      "\n",
      "Computing phi for channel b0d1...\n"
     ]
    },
    {
     "name": "stderr",
     "output_type": "stream",
     "text": [
      "100%|███████████████████████████████████████| 30/30 [00:00<00:00, 30045.16it/s]\n"
     ]
    },
    {
     "name": "stdout",
     "output_type": "stream",
     "text": [
      "Attribution score for channel b0d1: -14.82\n",
      "\n",
      "Computing phi for channel a1e1...\n"
     ]
    },
    {
     "name": "stderr",
     "output_type": "stream",
     "text": [
      "100%|████████████████████████████████████████████████████| 4/4 [00:00<?, ?it/s]"
     ]
    },
    {
     "name": "stdout",
     "output_type": "stream",
     "text": [
      "Attribution score for channel a1e1: -1.88\n",
      "\n"
     ]
    },
    {
     "name": "stderr",
     "output_type": "stream",
     "text": [
      "\n"
     ]
    }
   ],
   "source": [
    "model = SimplifiedShapleyAttributionModel()\n",
    "result = model.attribute(data3)"
   ]
  },
  {
   "cell_type": "code",
   "execution_count": 127,
   "id": "3cd1738a",
   "metadata": {},
   "outputs": [
    {
     "name": "stdout",
     "output_type": "stream",
     "text": [
      "Action 'e2f2': -5.82\n",
      "Action 'g2e1': -0.94\n",
      "Action 'b0c0': -0.17\n",
      "Action 'h2a2': -0.51\n",
      "Action 'a0a5': -0.08\n",
      "Action 'b6b0': -0.10\n",
      "Action 'b6b3': -0.25\n",
      "Action 'f6f0': -0.20\n",
      "Action 'i1h3': -0.08\n",
      "Action 'c1c2': -0.45\n",
      "Action 'b2c0': -0.79\n",
      "Action 'h2h0': -6.24\n",
      "Action 'b4b5': -1.28\n",
      "Action 'd2d6': -0.96\n",
      "Action 'e0c1': -0.06\n",
      "Action 'b4h4': -0.63\n",
      "Action 'd2d5': -0.85\n",
      "Action 'e4g4': -0.37\n",
      "Action 'h5h3': -0.07\n",
      "Action 'b2d2': -6.22\n",
      "Action 'a2a1': -3.40\n",
      "Action 'b1c1': -0.68\n",
      "Action 'c2a2': -0.19\n",
      "Action 'd7c7': -0.11\n",
      "Action 'b3b5': -1.75\n",
      "Action 'b4i4': -0.18\n",
      "Action 'h1h8': -0.80\n",
      "Action 'a5b5': -0.11\n",
      "Action 'c1g1': -0.32\n",
      "Action 'a2g2': -1.97\n",
      "Action 'd2f2': -1.06\n",
      "Action 'c1b1': -1.72\n",
      "Action 'b1b7': -0.07\n",
      "Action 'f2h2': -0.93\n",
      "Action 'b6b4': -0.76\n",
      "Action 'a0c0': -0.94\n",
      "Action 'c2a1': -2.14\n",
      "Action 'b5c5': -0.32\n",
      "Action 'i2d2': -2.15\n",
      "Action 'a0a1': -70.06\n",
      "Action 'g1f1': -0.20\n",
      "Action 'g2e3': -0.13\n",
      "Action 'b2b8': -0.11\n",
      "Action 'b1g1': -1.45\n",
      "Action 'c1d1': -0.76\n",
      "Action 'b5i5': -0.55\n",
      "Action 'b0b8': -1.08\n",
      "Action 'b2e2': -6.47\n",
      "Action 'a4e4': -0.06\n",
      "Action 'h4h9': -0.12\n",
      "Action 'e6e4': -0.25\n",
      "Action 'e4c4': -2.64\n",
      "Action 'b2b1': -19.98\n",
      "Action 'e4e5': -7.04\n",
      "Action 'e2e3': -1.35\n",
      "Action 'h5h4': -0.05\n",
      "Action 'b2a2': -4.27\n",
      "Action 'g2d2': -1.10\n",
      "Action 'h4h0': -0.30\n",
      "Action 'a2b4': -0.85\n",
      "Action 'a2b2': -10.40\n",
      "Action 'f1i1': -0.93\n",
      "Action 'b5e5': -0.82\n",
      "Action 'g2f4': -0.47\n",
      "Action 'c4f4': -0.04\n",
      "Action 'g6g8': -0.14\n",
      "Action 'h7e7': -0.21\n",
      "Action 'c1c5': -0.05\n",
      "Action 'd2d7': -0.06\n",
      "Action 'i1b1': -0.12\n",
      "Action 'g6g5': -0.27\n",
      "Action 'h0h1': -5.33\n",
      "Action 'g0g1': -1.18\n",
      "Action 'e2g0': -1.62\n",
      "Action 'e4h4': -0.15\n",
      "Action 'h2h3': -10.17\n",
      "Action 'd2d0': -0.05\n",
      "Action 'e5g5': -0.07\n",
      "Action 'd2d9': -0.25\n",
      "Action 'g4i4': -0.09\n",
      "Action 'd0e1': -51.77\n",
      "Action 'h4h5': -0.29\n",
      "Action 'd2d3': -0.42\n",
      "Action 'b4e4': -7.15\n",
      "Action 'i3i1': -0.30\n",
      "Action 'h0h4': -0.18\n",
      "Action 'e3e1': -0.06\n",
      "Action 'f5f7': -0.06\n",
      "Action 'a2a0': -1.97\n",
      "Action 'd7a7': -0.05\n",
      "Action 'g0e2': -30.88\n",
      "Action 'e2c4': -9.13\n",
      "Action 'g1g6': -0.34\n",
      "Action 'a4a5': -1.37\n",
      "Action 'a2c4': -17.85\n",
      "Action 'b3b1': -0.20\n",
      "Action 'b5h5': -2.25\n",
      "Action 'e6e7': -0.15\n",
      "Action 'd8h8': -0.10\n",
      "Action 'h4f4': -9.32\n",
      "Action 'h5h7': -0.12\n",
      "Action 'h3h1': -0.47\n",
      "Action 'b3b7': -0.29\n",
      "Action 'h3h8': -0.20\n",
      "Action 'g0f0': -0.39\n",
      "Action 'f5e5': -0.67\n",
      "Action 'b2f2': -4.00\n",
      "Action 'h4h8': -0.09\n",
      "Action 'f6f3': -0.05\n",
      "Action 'e5d5': -0.45\n",
      "Action 'c4e2': -0.75\n",
      "Action 'b8i8': -0.08\n",
      "Action 'b4g4': -2.00\n",
      "Action 'd2e1': -0.33\n",
      "Action 'f3f2': -0.06\n",
      "Action 'h2c2': -3.84\n",
      "Action 'b8b9': -0.12\n",
      "Action 'd4d9': -0.07\n",
      "Action 'b1b0': -3.87\n",
      "Action 'b1a1': -1.35\n",
      "Action 'b0b6': -0.76\n",
      "Action 'd1f1': -0.41\n",
      "Action 'i2f2': -4.04\n",
      "Action 'b5b0': -0.23\n",
      "Action 'f1g1': -0.19\n",
      "Action 'd3g3': -0.06\n",
      "Action 'f3f4': -0.08\n",
      "Action 'h2b2': -20.90\n",
      "Action 'i4i7': -0.08\n",
      "Action 'h5f5': -0.51\n",
      "Action 'c1a2': -0.07\n",
      "Action 'd1d4': -0.54\n",
      "Action 'h8d8': -0.32\n",
      "Action 'b5b9': -0.25\n",
      "Action 'e0e1': -80.55\n",
      "Action 'c0c1': -0.65\n",
      "Action 'e1e2': -16.65\n",
      "Action 'f2i2': -0.52\n",
      "Action 'h8e8': -0.99\n",
      "Action 'f0f2': -0.17\n",
      "Action 'a4b4': -0.12\n",
      "Action 'b2b6': -5.76\n",
      "Action 'a1d1': -6.11\n",
      "Action 'i4i5': -6.62\n",
      "Action 'b2b5': -8.56\n",
      "Action 'g2g1': -1.77\n",
      "Action 'b5b8': -0.08\n",
      "Action 'i2g4': -1.75\n",
      "Action 'h8h4': -0.07\n",
      "Action 'd1c1': -0.15\n",
      "Action 'd5c5': -0.32\n",
      "Action 'd7h7': -0.12\n",
      "Action 'g1i1': -0.28\n",
      "Action 'c2c3': -0.04\n",
      "Action 'f7e7': -0.04\n",
      "Action 'e1g1': -1.38\n",
      "Action 'h7d7': -0.22\n",
      "Action 'b7b1': -0.08\n",
      "Action 'c1d3': -0.26\n",
      "Action 'b6b9': -0.97\n",
      "Action 'b1h1': -0.42\n",
      "Action 'b6b8': -0.05\n",
      "Action 'i1i2': -0.13\n",
      "Action 'i0f0': -2.16\n",
      "Action 'e1c2': -0.14\n",
      "Action 'i1c1': -0.74\n",
      "Action 'h1h7': -0.74\n",
      "Action 'h7f7': -0.14\n",
      "Action 'd6d3': -0.10\n",
      "Action 'f8a8': -0.10\n",
      "Action 'f3f0': -0.07\n",
      "Action 'c2i2': -2.21\n",
      "Action 'd6d1': -0.47\n",
      "Action 'a2e2': -0.70\n",
      "Action 'c2e2': -0.46\n",
      "Action 'g4g9': -0.05\n",
      "Action 'd2h2': -0.21\n",
      "Action 'a2c0': -5.66\n",
      "Action 'g4f4': -1.22\n",
      "Action 'f4f1': -1.90\n",
      "Action 'b2b7': -1.05\n",
      "Action 'c0d2': -0.06\n",
      "Action 'a2a3': -0.22\n",
      "Action 'i0i2': -14.01\n",
      "Action 'c4a4': -1.39\n",
      "Action 'd2g2': -0.53\n",
      "Action 'c3c4': -16.09\n",
      "Action 'f3f7': -0.14\n",
      "Action 'c2d0': -1.10\n",
      "Action 'h2f2': -5.81\n",
      "Action 'i2i6': -0.49\n",
      "Action 'd6d8': -0.10\n",
      "Action 'd1e1': -1.05\n",
      "Action 'b1b3': -2.50\n",
      "Action 'f1f2': -3.46\n",
      "Action 'h3h5': -0.22\n",
      "Action 'd5a5': -0.14\n",
      "Action 'd4f4': -0.48\n",
      "Action 'e1b1': -0.18\n",
      "Action 'a2c1': -1.77\n",
      "Action 'b5b7': -0.12\n",
      "Action 'h7c7': -0.38\n",
      "Action 'g2h2': -4.63\n",
      "Action 'f1b1': -0.25\n",
      "Action 'e4f4': -0.36\n",
      "Action 'e6f6': -0.06\n",
      "Action 'b0b2': -0.14\n",
      "Action 'f1e1': -3.67\n",
      "Action 'f7f4': -0.05\n",
      "Action 'e1c1': -0.05\n",
      "Action 'b8g8': -0.05\n",
      "Action 'd5d0': -0.08\n",
      "Action 'i2i1': -2.24\n",
      "Action 'b5a5': -0.23\n",
      "Action 'e2h2': -1.89\n",
      "Action 'h2h1': -5.28\n",
      "Action 'h8f8': -0.18\n",
      "Action 'b3b9': -0.17\n",
      "Action 'f0a0': -0.07\n",
      "Action 'a2h2': -0.39\n",
      "Action 'i1h1': -0.64\n",
      "Action 'b2h2': -0.33\n",
      "Action 'e3c3': -0.10\n",
      "Action 'f2d2': -0.54\n",
      "Action 'h3h7': -0.10\n",
      "Action 'f1a1': -0.12\n",
      "Action 'h3h2': -0.62\n",
      "Action 'b0b3': -0.31\n",
      "Action 'c2g2': -0.29\n",
      "Action 'd0d1': -1.20\n",
      "Action 'e4d4': -0.18\n",
      "Action 'h6h3': -0.71\n",
      "Action 'b6b7': -0.94\n",
      "Action 'h5g5': -0.07\n",
      "Action 'c2c5': -0.05\n",
      "Action 'f2f5': -1.04\n",
      "Action 'd2b2': -3.75\n",
      "Action 'g2i2': -3.20\n",
      "Action 'c9d9': -0.07\n",
      "Action 'f8f4': -0.27\n",
      "Action 'c4c5': -1.99\n",
      "Action 'a1h1': -1.52\n",
      "Action 'h2h5': -186.59\n",
      "Action 'h0h8': -0.08\n",
      "Action 'b7b2': -0.20\n",
      "Action 'b4b0': -0.21\n",
      "Action 'd3d5': -0.08\n",
      "Action 'h8h3': -0.08\n",
      "Action 'a1f1': -3.29\n",
      "Action 'f0e1': -4159.41\n",
      "Action 'h2h9': -0.51\n",
      "Action 'b7b4': -0.12\n",
      "Action 'h5h0': -0.08\n",
      "Action 'i1f1': -1.18\n",
      "Action 'h3h0': -1.41\n",
      "Action 'a1c1': -8.03\n",
      "Action 'g1h3': -0.05\n",
      "Action 'b0b1': -0.45\n",
      "Action 'b7e7': -0.05\n",
      "Action 'h6h7': -0.58\n",
      "Action 'f4f5': -0.47\n",
      "Action 'f4f2': -0.17\n",
      "Action 'd8i8': -0.07\n",
      "Action 'b5d5': -0.30\n",
      "Action 'd4b4': -0.45\n",
      "Action 'd1d0': -1.88\n",
      "Action 'd3d0': -0.08\n",
      "Action 'b4d3': -0.13\n",
      "Action 'b1b6': -0.27\n",
      "Action 'h2d2': -2.85\n",
      "Action 'h0i2': -5.63\n",
      "Action 'h5h2': -1.82\n",
      "Action 'g2f2': -1.73\n",
      "Action 'b8h8': -1.00\n",
      "Action 'h8h0': -0.12\n",
      "Action 'd0c2': -0.15\n",
      "Action 'i1e1': -1.24\n",
      "Action 'h8h2': -0.09\n",
      "Action 'h4d4': -0.06\n",
      "Action 'e5f5': -0.07\n",
      "Action 'e2e0': -0.22\n",
      "Action 'h4i4': -0.08\n",
      "Action 'd3e3': -0.10\n",
      "Action 'b3b6': -0.89\n",
      "Action 'b1b2': -4.24\n",
      "Action 'd1d9': -0.07\n",
      "Action 'h1i1': -0.31\n",
      "Action 'h1b1': -3.30\n",
      "Action 'd2a2': -3.97\n",
      "Action 'b7b3': -0.18\n",
      "Action 'h3h6': -4.00\n",
      "Action 'g5f5': -0.20\n",
      "Action 'f8f6': -0.12\n",
      "Action 'b1b9': -0.22\n",
      "Action 'h2h4': -27.94\n",
      "Action 'h5b5': -0.15\n",
      "Action 'h7h0': -0.04\n",
      "Action 'h4h6': -0.20\n",
      "Action 'd4c4': -0.08\n",
      "Action 'h3i3': -0.06\n",
      "Action 'e6d6': -0.14\n",
      "Action 'f2f3': -1.26\n",
      "Action 'i1i0': -0.53\n",
      "Action 'b6b5': -0.10\n",
      "Action 'c2c0': -0.05\n",
      "Action 'e4e8': -0.07\n",
      "Action 'g2b2': -1.09\n",
      "Action 'h8a8': -0.12\n",
      "Action 'b4f4': -0.07\n",
      "Action 'd1i1': -1.72\n",
      "Action 'h7h6': -0.50\n",
      "Action 'c1a0': -0.12\n",
      "Action 'g4a4': -0.04\n",
      "Action 'i2i3': -0.07\n",
      "Action 'd2d4': -0.42\n",
      "Action 'i0i3': -2.98\n",
      "Action 'a2a6': -0.06\n",
      "Action 'b0c2': -37.27\n",
      "Action 'e2b2': -3.07\n",
      "Action 'c2c1': -0.29\n",
      "Action 'b3a3': -0.26\n",
      "Action 'e2d2': -7.49\n",
      "Action 'a2a5': -0.10\n",
      "Action 'e2a2': -0.08\n",
      "Action 'e0d0': -2.66\n",
      "Action 'g2g0': -0.61\n",
      "Action 'i2g0': -3.54\n",
      "Action 'g1h1': -0.13\n",
      "Action 'b7b0': -0.50\n",
      "Action 'g1g2': -0.41\n",
      "Action 'h0f0': -0.20\n",
      "Action 'd0d2': -0.08\n",
      "Action 'h2h7': -4.27\n",
      "Action 'e1e4': -0.04\n",
      "Action 'a1c2': -0.25\n",
      "Action 'c2h2': -0.13\n",
      "Action 'g4i2': -0.09\n",
      "Action 'i2b2': -0.19\n",
      "Action 'h4g2': -0.05\n",
      "Action 'd1d6': -0.25\n",
      "Action 'f4f7': -0.10\n",
      "Action 'c1f1': -0.17\n",
      "Action 'h1h5': -0.24\n",
      "Action 'h0h7': -0.07\n",
      "Action 'b5b3': -0.50\n",
      "Action 'f2f4': -1.40\n",
      "Action 'g1e1': -0.08\n",
      "Action 'g1g5': -0.05\n",
      "Action 'f2f6': -0.59\n",
      "Action 'b4b3': -1.62\n",
      "Action 'c1b3': -0.05\n",
      "Action 'd8d3': -0.10\n",
      "Action 'h1h4': -0.89\n",
      "Action 'e1e0': -18.46\n",
      "Action 'b5b2': -0.18\n",
      "Action 'g2e2': -3.52\n",
      "Action 'h2h6': -26.54\n",
      "Action 'g2g9': -0.06\n",
      "Action 'c4b4': -0.72\n",
      "Action 'g5g6': -0.20\n",
      "Action 'f2c2': -2.43\n",
      "Action 'e1e6': -0.05\n",
      "Action 'e2c2': -0.59\n",
      "Action 'a2d2': -7.12\n",
      "Action 'f8g8': -0.16\n",
      "Action 'c1a1': -0.30\n",
      "Action 'd5d2': -0.06\n",
      "Action 'b2b3': -16.01\n",
      "Action 'i1g1': -0.44\n",
      "Action 'f6f8': -0.06\n",
      "Action 'b9b3': -0.11\n",
      "Action 'b0a2': -20.96\n",
      "Action 'd5e5': -0.41\n",
      "Action 'b6b1': -0.95\n",
      "Action 'f2g2': -0.59\n",
      "Action 'c0b0': -0.12\n",
      "Action 'a2c2': -2.04\n",
      "Action 'd0e2': -0.95\n",
      "Action 'b3b8': -0.06\n",
      "Action 'h5i5': -6.27\n",
      "Action 'f2e2': -1.81\n",
      "Action 'i3i4': -39.60\n",
      "Action 'g2i1': -0.15\n",
      "Action 'd5d1': -0.22\n",
      "Action 'e1i1': -0.68\n",
      "Action 'f2a2': -0.77\n",
      "Action 'e2c0': -9.94\n",
      "Action 'g2c2': -2.37\n",
      "Action 'c5c6': -0.59\n",
      "Action 'h0h6': -0.56\n",
      "Action 'e3e4': -59.72\n",
      "Action 'e1a1': -0.33\n",
      "Action 'f2f7': -0.47\n",
      "Action 'e1d0': -9.41\n",
      "Action 'e4e2': -0.04\n",
      "Action 'f1h1': -2.16\n",
      "Action 'b4b9': -4.06\n",
      "Action 'f5f4': -0.07\n",
      "Action 'd6g6': -0.20\n",
      "Action 'h1h6': -0.18\n",
      "Action 'h1h0': -0.09\n",
      "Action 'f2f1': -1.60\n",
      "Action 'c0a0': -0.09\n",
      "Action 'c6g6': -0.05\n",
      "Action 'e1g2': -0.18\n",
      "Action 'b9b8': -0.35\n",
      "Action 'e7c6': -0.07\n",
      "Action 'h6h1': -1.35\n",
      "Action 'b5f5': -2.75\n",
      "Action 'f4c4': -0.28\n",
      "Action 'f0i0': -0.97\n",
      "Action 'e0e6': -0.06\n",
      "Action 'h2g2': -3932.67\n",
      "Action 'a0a2': -33.55\n",
      "Action 'h0i0': -0.19\n",
      "Action 'h8h6': -0.21\n",
      "Action 'd4d2': -0.06\n",
      "Action 'd3d7': -0.05\n",
      "Action 'a2b0': -1.65\n",
      "Action 'f6i6': -0.17\n",
      "Action 'c4e4': -0.07\n",
      "Action 'd3d6': -0.07\n",
      "Action 'e3d3': -0.12\n",
      "Action 'c5c9': -0.27\n",
      "Action 'f8d8': -0.10\n",
      "Action 'c4i4': -0.06\n",
      "Action 'i0i1': -2.56\n",
      "Action 'd1d3': -0.13\n",
      "Action 'h6e6': -0.56\n",
      "Action 'b6b2': -0.05\n",
      "Action 'g4g5': -1.23\n",
      "Action 'b6c6': -0.55\n",
      "Action 'c2b0': -20.32\n",
      "Action 'f2f0': -0.17\n",
      "Action 'b7b6': -0.91\n",
      "Action 'f5f3': -0.07\n",
      "Action 'g4g7': -0.15\n",
      "Action 'f3f1': -0.05\n",
      "Action 'e2g1': -0.05\n",
      "Action 'g6h6': -0.21\n",
      "Action 'g8h8': -0.09\n",
      "Action 'c6b6': -0.67\n",
      "Action 'b2i2': -1.68\n",
      "Action 'h1g1': -0.30\n",
      "Action 'f1f8': -0.11\n",
      "Action 'b4d5': -0.57\n",
      "Action 'a2i2': -1.65\n",
      "Action 'b1d1': -0.22\n",
      "Action 'i2c2': -0.56\n",
      "Action 'i0h0': -4.26\n",
      "Action 'h5a5': -0.06\n",
      "Action 'd2i2': -0.20\n",
      "Action 'd2c2': -0.99\n",
      "Action 'f0f1': -0.58\n",
      "Action 'f0h0': -1.48\n",
      "Action 'f1d2': -0.07\n",
      "Action 'c2c6': -1.00\n",
      "Action 'b4b7': -0.72\n",
      "Action 'd5d6': -0.04\n",
      "Action 'h6h4': -0.29\n",
      "Action 'd4d6': -0.15\n",
      "Action 'g2h0': -0.98\n",
      "Action 'c0b2': -0.75\n",
      "Action 'c1e0': -0.06\n",
      "Action 'f3e3': -0.70\n",
      "Action 'g6c6': -0.13\n",
      "Action 'g6g9': -0.10\n",
      "Action 'b2g2': -21.04\n",
      "Action 'e6a6': -0.10\n",
      "Action 'c0c2': -0.05\n",
      "Action 'f8i8': -0.09\n",
      "Action 'f2e1': -0.43\n",
      "Action 'i2h2': -0.58\n",
      "Action 'f1f3': -0.15\n",
      "Action 'e2g2': -20.30\n",
      "Action 'a1b1': -6.24\n",
      "Action 'e1g0': -0.07\n",
      "Action 'd1f0': -0.29\n",
      "Action 'h4g4': -0.40\n",
      "Action 'c9e9': 0.00\n",
      "Action 'd4c6': -0.04\n",
      "Action 'e3d1': -0.09\n",
      "Action 'c4a2': -0.95\n",
      "Action 'b8e8': -0.06\n",
      "Action 'h1h3': -0.44\n",
      "Action 'g2a2': -0.24\n",
      "Action 'b0b7': -0.40\n",
      "Action 'b0b4': -0.72\n",
      "Action 'f4h4': -0.64\n",
      "Action 'h6g6': -0.06\n",
      "Action 'b3e3': -0.23\n",
      "Action 'e1d1': -12.47\n",
      "Action 'c2d4': -0.10\n",
      "Action 'a3e3': -0.06\n",
      "Action 'e1f0': -1.27\n",
      "Action 'e2e4': -0.32\n",
      "Action 'e2e1': -1.22\n",
      "Action 'b1b4': -0.96\n",
      "Action 'i1a1': -0.08\n",
      "Action 'a1i1': -0.27\n",
      "Action 'a1a3': -0.42\n",
      "Action 'd3d9': -0.08\n",
      "Action 'i0i4': -0.07\n",
      "Action 'b4a4': -1.88\n",
      "Action 'b1f1': -2.94\n",
      "Action 'h2h8': -2.54\n",
      "Action 'b0b9': -0.17\n",
      "Action 'b4b6': -13.26\n",
      "Action 'b4d4': -1.20\n",
      "Action 'a1a0': -1.05\n",
      "Action 'i2a2': -0.51\n",
      "Action 'b3b4': -2.09\n",
      "Action 'i3i0': -0.37\n",
      "Action 'd0e0': -0.60\n",
      "Action 'i2g2': -1.15\n",
      "Action 'e5e4': -0.07\n",
      "Action 'g4e2': -0.06\n",
      "Action 'h5c5': -0.38\n",
      "Action 'c2d2': -2.13\n",
      "Action 'i2h0': -0.42\n",
      "Action 'b4b2': -0.06\n",
      "Action 'g2h4': -0.32\n",
      "Action 'i0g0': -0.94\n",
      "Action 'f7f0': -0.07\n",
      "Action 'c0a2': -57.97\n",
      "Action 'd1d2': -6.20\n",
      "Action 'h7h8': -0.12\n",
      "Action 'b7b9': -0.11\n",
      "Action 'f4e4': -0.28\n",
      "Action 'i5h5': -0.25\n",
      "Action 'e1d2': -2.43\n",
      "Action 'h2i2': -3.47\n",
      "Action 'd1a1': -0.47\n",
      "Action 'b5b6': -0.25\n",
      "Action 'f0f3': -0.10\n",
      "Action 'c1e1': -0.66\n",
      "Action 'f3b3': -0.06\n",
      "Action 'i4f4': -0.05\n",
      "Action 'h6h2': -0.15\n",
      "Action 'f1f6': -1.05\n",
      "Action 'b5b1': -0.22\n",
      "Action 'h4h7': -0.16\n",
      "Action 'g2g6': -1.50\n",
      "Action 'b7f7': -0.36\n",
      "Action 'b6g6': -0.06\n",
      "Action 'h0h2': -0.18\n",
      "Action 'e1f1': -27.07\n",
      "Action 'f2b2': -0.27\n",
      "Action 'i2g1': -1.92\n",
      "Action 'b2d3': -0.05\n",
      "Action 'c1h1': -0.06\n",
      "Action 'b2b9': -12.71\n",
      "Action 'e6e5': -0.13\n",
      "Action 'd2d1': -1.59\n",
      "Action 'h5e5': -0.19\n",
      "Action 'f1f0': -8.63\n",
      "Action 'b8b2': -0.05\n",
      "Action 'f2f8': -0.46\n",
      "Action 'c4c9': -0.67\n",
      "Action 'f1f9': -0.08\n",
      "Action 'g2g3': -0.08\n",
      "Action 'd4d8': -0.08\n",
      "Action 'e4b4': -0.10\n",
      "Action 'c6c8': -0.06\n",
      "Action 'd7f7': -0.04\n",
      "Action 'c2e1': -0.80\n",
      "Action 'f1f7': -0.05\n",
      "Action 'b2b0': -1.93\n",
      "Action 'c6i6': -0.07\n",
      "Action 'a0b0': -8.12\n",
      "Action 'b1e1': -0.34\n",
      "Action 'b2c2': -32.67\n",
      "Action 'b0a0': -3.18\n",
      "Action 'b4b8': -1.59\n",
      "Action 'd4c2': -0.06\n",
      "Action 'c5d5': -0.19\n",
      "Action 'f4f3': -0.47\n",
      "Action 'd2e2': -3.05\n",
      "Action 'e1f2': -5.11\n",
      "Action 'b3b2': -0.58\n",
      "Action 'b3b0': -1.21\n",
      "Action 'e2e6': -1.32\n",
      "Action 'e0e8': -0.04\n",
      "Action 'f0e2': -0.05\n",
      "Action 'c2c9': -0.60\n",
      "Action 'c9c5': -0.50\n",
      "Action 'd1g1': -0.19\n",
      "Action 'h1h2': -0.38\n",
      "Action 'c2b2': -10.90\n",
      "Action 'b4b1': -2.81\n",
      "Action 'd5e7': -0.57\n",
      "Action 'h4a4': -0.31\n",
      "Action 'h7h4': -0.29\n",
      "Action 'a3a4': -30.59\n",
      "Action 'g8d8': -0.07\n",
      "Action 'a1c0': -0.06\n",
      "Action 'e6i6': -0.23\n",
      "Action 'c2b4': -0.22\n",
      "Action 'f4f8': -0.27\n",
      "Action 'e3b3': -0.07\n",
      "Action 'i0i6': -0.12\n",
      "Action 'h0f1': -0.66\n",
      "Action 'a4c4': -1.01\n",
      "Action 'h0g0': -1.12\n",
      "Action 'h0g2': -18.22\n",
      "Action 'd1b1': -2.28\n",
      "Action 'd4d5': -0.47\n",
      "Action 'c0e2': -39.85\n",
      "Action 'f0e0': -2.01\n",
      "Action 'h5h8': -0.11\n",
      "Action 'h6h0': -0.22\n",
      "Action 'c1e2': -0.25\n",
      "Action 'g2f0': -1.39\n",
      "Action 'f5f6': -0.20\n",
      "Action 'g3g4': -20.95\n",
      "Action 'f1h0': -0.19\n",
      "Action 'e3e2': -0.08\n",
      "Action 'f3h3': -0.10\n",
      "Action 'd1b2': -0.96\n",
      "Action 'c6c4': -0.15\n",
      "Action 'f4f0': -0.05\n",
      "Action 'b6e6': -2.07\n",
      "Action 'a1a2': -11.73\n",
      "Action 'h7h1': -0.53\n",
      "Action 'b0b5': -0.08\n",
      "Action 'e2e5': -0.10\n",
      "Action 'f4a4': -0.08\n",
      "Action 'g0g2': -0.05\n",
      "Action 'b2b4': -100.64\n",
      "Action 'h5h6': -0.26\n",
      "Action 'g1c1': -0.61\n",
      "Action 'f8e8': -0.06\n",
      "Action 'c2f2': -1.13\n",
      "Action 'h1c1': -0.05\n",
      "Action 'h1e1': -0.17\n",
      "Action 'h4h3': -0.34\n",
      "Action 'd6c6': -0.04\n",
      "Action 'g0i2': -33.82\n",
      "Action 'i6a6': -0.07\n",
      "Action 'f4g4': -0.07\n",
      "Action 'f6e6': -0.06\n",
      "Action 'b5b4': -0.08\n",
      "Action 'h5h1': -0.29\n",
      "Action 'c6d6': -0.04\n",
      "Action 'e2g4': -0.94\n",
      "Action 'e5e6': -0.12\n",
      "Action 'a2f2': -0.52\n",
      "Action 'b4c4': -2.67\n",
      "Action 'h3h4': -0.10\n",
      "Action 'h1d1': -0.79\n",
      "Action 'd3f2': -0.13\n",
      "Action 'i2e2': -0.19\n",
      "Action 'i5i6': -0.64\n",
      "Action 'h6h5': -6.88\n",
      "Action 'c2a3': -0.08\n",
      "Action 'd6d5': -0.08\n",
      "Action 'g1g0': -0.04\n",
      "Action 'b5g5': -0.21\n",
      "Action 'h4b4': -2.25\n",
      "Action 'h2e2': -30.66\n",
      "Action 'e6e8': -0.56\n",
      "Action 'd8b8': -0.08\n",
      "Action 'e2i2': -0.72\n",
      "Action 'e5a5': -0.13\n",
      "Action 'i2i0': -4.60\n",
      "Action 'g2i3': -0.04\n",
      "Action 'f7f1': -0.06\n",
      "Action 'e0f0': -8.55\n",
      "Action 'b0d1': -14.82\n",
      "Action 'a1e1': -1.88\n",
      "Total of attributed values: -10052.00\n"
     ]
    }
   ],
   "source": [
    "total = 0\n",
    "for k, v in result.items():\n",
    "    print(f\"Action '{k}': {v:.2f}\")\n",
    "    total += v\n",
    "\n",
    "print(f\"Total of attributed values: {total:.2f}\")"
   ]
  },
  {
   "cell_type": "markdown",
   "id": "61c16a2e",
   "metadata": {},
   "source": [
    "### 输出所有动作的贡献比例分布"
   ]
  },
  {
   "cell_type": "code",
   "execution_count": 128,
   "id": "5e19bcfc",
   "metadata": {},
   "outputs": [],
   "source": [
    "all_actions = hoho_utils.get_all_actions()\n",
    "\n",
    "actions_count = len(all_actions)\n",
    "attributions = np.zeros(actions_count)\n",
    "for key, value in result.items():\n",
    "    action_check = key\n",
    "    action_idx = all_actions.index(action_check)\n",
    "    if action_idx is not None:\n",
    "        attributions[action_idx] = attributions[action_idx] + value "
   ]
  },
  {
   "cell_type": "code",
   "execution_count": 129,
   "id": "331c797d",
   "metadata": {},
   "outputs": [
    {
     "data": {
      "image/png": "[encoded data removed]",
      "text/plain": [
       "<Figure size 1152x648 with 1 Axes>"
      ]
     },
     "metadata": {},
     "output_type": "display_data"
    }
   ],
   "source": [
    "contribution_rate = attributions / total   # hoho_todo: 如果其中某个动作是正数，但总值为负数 怎么办\n",
    "\n",
    "action_idx_range = range(200, 500)\n",
    "# action_idx_range = range(len(contribution_rate))\n",
    "\n",
    "fig = plt.figure(figsize = (16, 9))\n",
    "plt.bar(action_idx_range, contribution_rate[action_idx_range], label='Shapley_Value-Based')\n",
    "plt.xlabel('Action ID')\n",
    "plt.ylabel('Contribution')\n",
    "plt.legend(loc='upper left')\n",
    "plt.show()"
   ]
  },
  {
   "cell_type": "markdown",
   "id": "45c6f371",
   "metadata": {},
   "source": [
    "### 奖励重分配"
   ]
  },
  {
   "cell_type": "code",
   "execution_count": 130,
   "id": "a2c351fc",
   "metadata": {},
   "outputs": [
    {
     "data": {
      "text/html": [
       "<div>\n",
       "<style scoped>\n",
       "    .dataframe tbody tr th:only-of-type {\n",
       "        vertical-align: middle;\n",
       "    }\n",
       "\n",
       "    .dataframe tbody tr th {\n",
       "        vertical-align: top;\n",
       "    }\n",
       "\n",
       "    .dataframe thead th {\n",
       "        text-align: right;\n",
       "    }\n",
       "</style>\n",
       "<table border=\"1\" class=\"dataframe\">\n",
       "  <thead>\n",
       "    <tr style=\"text-align: right;\">\n",
       "      <th></th>\n",
       "      <th>action</th>\n",
       "      <th>shapley_value</th>\n",
       "    </tr>\n",
       "  </thead>\n",
       "  <tbody>\n",
       "    <tr>\n",
       "      <th>0</th>\n",
       "      <td>a0b0</td>\n",
       "      <td>-8.124167</td>\n",
       "    </tr>\n",
       "    <tr>\n",
       "      <th>1</th>\n",
       "      <td>a0c0</td>\n",
       "      <td>-0.936794</td>\n",
       "    </tr>\n",
       "    <tr>\n",
       "      <th>2</th>\n",
       "      <td>a0d0</td>\n",
       "      <td>0.000000</td>\n",
       "    </tr>\n",
       "    <tr>\n",
       "      <th>3</th>\n",
       "      <td>a0e0</td>\n",
       "      <td>0.000000</td>\n",
       "    </tr>\n",
       "    <tr>\n",
       "      <th>4</th>\n",
       "      <td>a0f0</td>\n",
       "      <td>0.000000</td>\n",
       "    </tr>\n",
       "    <tr>\n",
       "      <th>...</th>\n",
       "      <td>...</td>\n",
       "      <td>...</td>\n",
       "    </tr>\n",
       "    <tr>\n",
       "      <th>2081</th>\n",
       "      <td>e7c9</td>\n",
       "      <td>0.000000</td>\n",
       "    </tr>\n",
       "    <tr>\n",
       "      <th>2082</th>\n",
       "      <td>e7g5</td>\n",
       "      <td>0.000000</td>\n",
       "    </tr>\n",
       "    <tr>\n",
       "      <th>2083</th>\n",
       "      <td>g5e7</td>\n",
       "      <td>0.000000</td>\n",
       "    </tr>\n",
       "    <tr>\n",
       "      <th>2084</th>\n",
       "      <td>g9i7</td>\n",
       "      <td>0.000000</td>\n",
       "    </tr>\n",
       "    <tr>\n",
       "      <th>2085</th>\n",
       "      <td>i7g9</td>\n",
       "      <td>0.000000</td>\n",
       "    </tr>\n",
       "  </tbody>\n",
       "</table>\n",
       "<p>2086 rows × 2 columns</p>\n",
       "</div>"
      ],
      "text/plain": [
       "     action  shapley_value\n",
       "0      a0b0      -8.124167\n",
       "1      a0c0      -0.936794\n",
       "2      a0d0       0.000000\n",
       "3      a0e0       0.000000\n",
       "4      a0f0       0.000000\n",
       "...     ...            ...\n",
       "2081   e7c9       0.000000\n",
       "2082   e7g5       0.000000\n",
       "2083   g5e7       0.000000\n",
       "2084   g9i7       0.000000\n",
       "2085   i7g9       0.000000\n",
       "\n",
       "[2086 rows x 2 columns]"
      ]
     },
     "execution_count": 130,
     "metadata": {},
     "output_type": "execute_result"
    }
   ],
   "source": [
    "shav_arr = np.zeros(actions_count)\n",
    "for key, value in result.items():\n",
    "    action_idx = all_actions.index(key)\n",
    "    if action_idx is not None:\n",
    "        shav_arr[action_idx] = value\n",
    "    \n",
    "data_shapley_value = pd.DataFrame({\"action\": all_actions, \"shapley_value\": shav_arr})\n",
    "data_shapley_value"
   ]
  },
  {
   "cell_type": "code",
   "execution_count": 131,
   "id": "363a5e7c",
   "metadata": {},
   "outputs": [
    {
     "data": {
      "text/html": [
       "<div>\n",
       "<style scoped>\n",
       "    .dataframe tbody tr th:only-of-type {\n",
       "        vertical-align: middle;\n",
       "    }\n",
       "\n",
       "    .dataframe tbody tr th {\n",
       "        vertical-align: top;\n",
       "    }\n",
       "\n",
       "    .dataframe thead th {\n",
       "        text-align: right;\n",
       "    }\n",
       "</style>\n",
       "<table border=\"1\" class=\"dataframe\">\n",
       "  <thead>\n",
       "    <tr style=\"text-align: right;\">\n",
       "      <th></th>\n",
       "      <th>match_id</th>\n",
       "      <th>action_sequence</th>\n",
       "      <th>chapture_value</th>\n",
       "      <th>win</th>\n",
       "    </tr>\n",
       "  </thead>\n",
       "  <tbody>\n",
       "    <tr>\n",
       "      <th>0</th>\n",
       "      <td>0-0</td>\n",
       "      <td>f0e1,h2g2</td>\n",
       "      <td>-11.20</td>\n",
       "      <td>-1</td>\n",
       "    </tr>\n",
       "    <tr>\n",
       "      <th>1</th>\n",
       "      <td>0-1</td>\n",
       "      <td>f0e1,h2g2</td>\n",
       "      <td>-11.20</td>\n",
       "      <td>-1</td>\n",
       "    </tr>\n",
       "    <tr>\n",
       "      <th>2</th>\n",
       "      <td>0-10</td>\n",
       "      <td>e0e1,e1f1,i0i2,h2g2,a0a1,b2b5,i2i0,b5h5</td>\n",
       "      <td>-39.07</td>\n",
       "      <td>-1</td>\n",
       "    </tr>\n",
       "    <tr>\n",
       "      <th>3</th>\n",
       "      <td>0-11</td>\n",
       "      <td>f0e1,h2g2</td>\n",
       "      <td>-11.20</td>\n",
       "      <td>-1</td>\n",
       "    </tr>\n",
       "    <tr>\n",
       "      <th>4</th>\n",
       "      <td>0-12</td>\n",
       "      <td>e0e1,b2b4,h2e2,e2g2,c0a2,b0d1,e1e2,a2c4,e2f2,g...</td>\n",
       "      <td>-101.55</td>\n",
       "      <td>-1</td>\n",
       "    </tr>\n",
       "    <tr>\n",
       "      <th>...</th>\n",
       "      <td>...</td>\n",
       "      <td>...</td>\n",
       "      <td>...</td>\n",
       "      <td>...</td>\n",
       "    </tr>\n",
       "    <tr>\n",
       "      <th>10049</th>\n",
       "      <td>99-5</td>\n",
       "      <td>f0e1,h2g2</td>\n",
       "      <td>-11.20</td>\n",
       "      <td>-1</td>\n",
       "    </tr>\n",
       "    <tr>\n",
       "      <th>10050</th>\n",
       "      <td>99-6</td>\n",
       "      <td>e0e1,h2d2,d2d5,b2g2,g0i2,a3a4,a4a5,a0a5,b0c2,g...</td>\n",
       "      <td>-99.55</td>\n",
       "      <td>-1</td>\n",
       "    </tr>\n",
       "    <tr>\n",
       "      <th>10051</th>\n",
       "      <td>99-7</td>\n",
       "      <td>f0e1,h2g2</td>\n",
       "      <td>-11.20</td>\n",
       "      <td>-1</td>\n",
       "    </tr>\n",
       "    <tr>\n",
       "      <th>10052</th>\n",
       "      <td>99-8</td>\n",
       "      <td>f0e1,h2g2</td>\n",
       "      <td>-11.20</td>\n",
       "      <td>-1</td>\n",
       "    </tr>\n",
       "    <tr>\n",
       "      <th>10053</th>\n",
       "      <td>99-9</td>\n",
       "      <td>f0e1,h2h5</td>\n",
       "      <td>-11.20</td>\n",
       "      <td>-1</td>\n",
       "    </tr>\n",
       "  </tbody>\n",
       "</table>\n",
       "<p>10052 rows × 4 columns</p>\n",
       "</div>"
      ],
      "text/plain": [
       "      match_id                                    action_sequence  \\\n",
       "0          0-0                                          f0e1,h2g2   \n",
       "1          0-1                                          f0e1,h2g2   \n",
       "2         0-10            e0e1,e1f1,i0i2,h2g2,a0a1,b2b5,i2i0,b5h5   \n",
       "3         0-11                                          f0e1,h2g2   \n",
       "4         0-12  e0e1,b2b4,h2e2,e2g2,c0a2,b0d1,e1e2,a2c4,e2f2,g...   \n",
       "...        ...                                                ...   \n",
       "10049     99-5                                          f0e1,h2g2   \n",
       "10050     99-6  e0e1,h2d2,d2d5,b2g2,g0i2,a3a4,a4a5,a0a5,b0c2,g...   \n",
       "10051     99-7                                          f0e1,h2g2   \n",
       "10052     99-8                                          f0e1,h2g2   \n",
       "10053     99-9                                          f0e1,h2h5   \n",
       "\n",
       "       chapture_value  win  \n",
       "0              -11.20   -1  \n",
       "1              -11.20   -1  \n",
       "2              -39.07   -1  \n",
       "3              -11.20   -1  \n",
       "4             -101.55   -1  \n",
       "...               ...  ...  \n",
       "10049          -11.20   -1  \n",
       "10050          -99.55   -1  \n",
       "10051          -11.20   -1  \n",
       "10052          -11.20   -1  \n",
       "10053          -11.20   -1  \n",
       "\n",
       "[10052 rows x 4 columns]"
      ]
     },
     "execution_count": 131,
     "metadata": {},
     "output_type": "execute_result"
    }
   ],
   "source": [
    "data2[data2[\"win\"] == -1]"
   ]
  },
  {
   "cell_type": "code",
   "execution_count": 149,
   "id": "ee99bdb6",
   "metadata": {},
   "outputs": [
    {
     "data": {
      "text/html": [
       "<div>\n",
       "<style scoped>\n",
       "    .dataframe tbody tr th:only-of-type {\n",
       "        vertical-align: middle;\n",
       "    }\n",
       "\n",
       "    .dataframe tbody tr th {\n",
       "        vertical-align: top;\n",
       "    }\n",
       "\n",
       "    .dataframe thead th {\n",
       "        text-align: right;\n",
       "    }\n",
       "</style>\n",
       "<table border=\"1\" class=\"dataframe\">\n",
       "  <thead>\n",
       "    <tr style=\"text-align: right;\">\n",
       "      <th></th>\n",
       "      <th>action</th>\n",
       "      <th>shapley_value</th>\n",
       "      <th>mine</th>\n",
       "      <th>alphago_zero</th>\n",
       "    </tr>\n",
       "  </thead>\n",
       "  <tbody>\n",
       "    <tr>\n",
       "      <th>222</th>\n",
       "      <td>b0d1</td>\n",
       "      <td>-14.824493</td>\n",
       "      <td>-0.463572</td>\n",
       "      <td>-1</td>\n",
       "    </tr>\n",
       "    <tr>\n",
       "      <th>256</th>\n",
       "      <td>b2b4</td>\n",
       "      <td>-100.643963</td>\n",
       "      <td>-3.147207</td>\n",
       "      <td>-1</td>\n",
       "    </tr>\n",
       "    <tr>\n",
       "      <th>291</th>\n",
       "      <td>b4a4</td>\n",
       "      <td>-1.875649</td>\n",
       "      <td>-0.058653</td>\n",
       "      <td>-1</td>\n",
       "    </tr>\n",
       "    <tr>\n",
       "      <th>908</th>\n",
       "      <td>e0e1</td>\n",
       "      <td>-80.549810</td>\n",
       "      <td>-2.518849</td>\n",
       "      <td>-1</td>\n",
       "    </tr>\n",
       "    <tr>\n",
       "      <th>930</th>\n",
       "      <td>e1e2</td>\n",
       "      <td>-16.650151</td>\n",
       "      <td>-0.520662</td>\n",
       "      <td>-1</td>\n",
       "    </tr>\n",
       "    <tr>\n",
       "      <th>948</th>\n",
       "      <td>e2f2</td>\n",
       "      <td>-5.820705</td>\n",
       "      <td>-0.182017</td>\n",
       "      <td>-1</td>\n",
       "    </tr>\n",
       "    <tr>\n",
       "      <th>949</th>\n",
       "      <td>e2g2</td>\n",
       "      <td>-20.297256</td>\n",
       "      <td>-0.634709</td>\n",
       "      <td>-1</td>\n",
       "    </tr>\n",
       "    <tr>\n",
       "      <th>1426</th>\n",
       "      <td>g2h2</td>\n",
       "      <td>-4.632996</td>\n",
       "      <td>-0.144877</td>\n",
       "      <td>-1</td>\n",
       "    </tr>\n",
       "    <tr>\n",
       "      <th>1659</th>\n",
       "      <td>h2e2</td>\n",
       "      <td>-30.658959</td>\n",
       "      <td>-0.958727</td>\n",
       "      <td>-1</td>\n",
       "    </tr>\n",
       "    <tr>\n",
       "      <th>2054</th>\n",
       "      <td>a2c4</td>\n",
       "      <td>-17.846135</td>\n",
       "      <td>-0.558061</td>\n",
       "      <td>-1</td>\n",
       "    </tr>\n",
       "    <tr>\n",
       "      <th>2071</th>\n",
       "      <td>c0a2</td>\n",
       "      <td>-57.966910</td>\n",
       "      <td>-1.812666</td>\n",
       "      <td>-1</td>\n",
       "    </tr>\n",
       "  </tbody>\n",
       "</table>\n",
       "</div>"
      ],
      "text/plain": [
       "     action  shapley_value      mine  alphago_zero\n",
       "222    b0d1     -14.824493 -0.463572            -1\n",
       "256    b2b4    -100.643963 -3.147207            -1\n",
       "291    b4a4      -1.875649 -0.058653            -1\n",
       "908    e0e1     -80.549810 -2.518849            -1\n",
       "930    e1e2     -16.650151 -0.520662            -1\n",
       "948    e2f2      -5.820705 -0.182017            -1\n",
       "949    e2g2     -20.297256 -0.634709            -1\n",
       "1426   g2h2      -4.632996 -0.144877            -1\n",
       "1659   h2e2     -30.658959 -0.958727            -1\n",
       "2054   a2c4     -17.846135 -0.558061            -1\n",
       "2071   c0a2     -57.966910 -1.812666            -1"
      ]
     },
     "execution_count": 149,
     "metadata": {},
     "output_type": "execute_result"
    }
   ],
   "source": [
    "win = -1 # 赢为1，输为-1\n",
    "check_match_id = \"0-12\"\n",
    "\n",
    "match_data = data[data[\"match_id\"] == check_match_id]\n",
    "match_actions = match_data[\"action\"].values\n",
    "match_contribution_data = data_shapley_value[data_shapley_value[\"action\"].isin(match_actions)].copy()\n",
    "total_reward_expect = len(match_contribution_data) * win\n",
    "\n",
    "total_contribution = match_contribution_data[\"shapley_value\"].sum()\n",
    "match_contribution_data[\"mine\"] = match_contribution_data[\"shapley_value\"].apply(lambda c: c / total_contribution * total_reward_expect)\n",
    "match_contribution_data[\"alphago_zero\"] = len(match_contribution_data) * [win]\n",
    "\n",
    "match_contribution_data"
   ]
  },
  {
   "cell_type": "code",
   "execution_count": 150,
   "id": "a4a83e6e",
   "metadata": {},
   "outputs": [
    {
     "data": {
      "text/html": [
       "<div>\n",
       "<style scoped>\n",
       "    .dataframe tbody tr th:only-of-type {\n",
       "        vertical-align: middle;\n",
       "    }\n",
       "\n",
       "    .dataframe tbody tr th {\n",
       "        vertical-align: top;\n",
       "    }\n",
       "\n",
       "    .dataframe thead th {\n",
       "        text-align: right;\n",
       "    }\n",
       "</style>\n",
       "<table border=\"1\" class=\"dataframe\">\n",
       "  <thead>\n",
       "    <tr style=\"text-align: right;\">\n",
       "      <th></th>\n",
       "      <th>match_id</th>\n",
       "      <th>round_id</th>\n",
       "      <th>state</th>\n",
       "      <th>action</th>\n",
       "      <th>next_state</th>\n",
       "      <th>done</th>\n",
       "      <th>chaptures</th>\n",
       "      <th>chapture_reward</th>\n",
       "      <th>win</th>\n",
       "      <th>shapley_value</th>\n",
       "      <th>mine</th>\n",
       "      <th>alphago_zero</th>\n",
       "    </tr>\n",
       "  </thead>\n",
       "  <tbody>\n",
       "    <tr>\n",
       "      <th>0</th>\n",
       "      <td>0-12</td>\n",
       "      <td>16945266706740</td>\n",
       "      <td>RNBAKABNR/9/1C5C1/P1P1P1P1P/9/9/p1p1p1p1p/1c5c...</td>\n",
       "      <td>e0e1</td>\n",
       "      <td>RNBA1ABNR/4K4/1C5C1/P1P1P1P1P/9/9/p1p1p1p1p/1c...</td>\n",
       "      <td>False</td>\n",
       "      <td>N</td>\n",
       "      <td>-6.28</td>\n",
       "      <td>0</td>\n",
       "      <td>-80.549810</td>\n",
       "      <td>-2.518849</td>\n",
       "      <td>-1</td>\n",
       "    </tr>\n",
       "    <tr>\n",
       "      <th>1</th>\n",
       "      <td>0-12</td>\n",
       "      <td>16945266706741</td>\n",
       "      <td>RNBA1ABcR/4K4/1C5C1/P1P1P1P1P/9/9/p1p1p1p1p/1c...</td>\n",
       "      <td>b2b4</td>\n",
       "      <td>RNBA1ABcR/4K4/7C1/P1P1P1P1P/1C7/9/p1p1p1p1p/1c...</td>\n",
       "      <td>False</td>\n",
       "      <td>A</td>\n",
       "      <td>-4.10</td>\n",
       "      <td>0</td>\n",
       "      <td>-100.643963</td>\n",
       "      <td>-3.147207</td>\n",
       "      <td>-1</td>\n",
       "    </tr>\n",
       "    <tr>\n",
       "      <th>2</th>\n",
       "      <td>0-12</td>\n",
       "      <td>16945266706742</td>\n",
       "      <td>RNBA1cB1R/4K4/7C1/P1P1P1P1P/1C7/9/p1p1p1p1p/1c...</td>\n",
       "      <td>h2e2</td>\n",
       "      <td>RNBA1cB1R/4K4/4C4/P1P1P1P1P/1C7/9/p1p1p1p1p/1c...</td>\n",
       "      <td>False</td>\n",
       "      <td>R</td>\n",
       "      <td>-27.87</td>\n",
       "      <td>0</td>\n",
       "      <td>-30.658959</td>\n",
       "      <td>-0.958727</td>\n",
       "      <td>-1</td>\n",
       "    </tr>\n",
       "    <tr>\n",
       "      <th>3</th>\n",
       "      <td>0-12</td>\n",
       "      <td>16945266706743</td>\n",
       "      <td>RNBA2B1c/4K4/4C4/P1P1P1P1P/1C7/9/p1p1p1p1p/1c7...</td>\n",
       "      <td>e2g2</td>\n",
       "      <td>RNBA2B1c/4K4/6C2/P1P1P1P1P/1C7/9/p1p1p1p1p/1c7...</td>\n",
       "      <td>False</td>\n",
       "      <td>A</td>\n",
       "      <td>-4.10</td>\n",
       "      <td>0</td>\n",
       "      <td>-20.297256</td>\n",
       "      <td>-0.634709</td>\n",
       "      <td>-1</td>\n",
       "    </tr>\n",
       "    <tr>\n",
       "      <th>4</th>\n",
       "      <td>0-12</td>\n",
       "      <td>16945266706744</td>\n",
       "      <td>RNBc2B2/4K4/6C2/P1P1P1P1P/1C7/9/p1p1p1p1p/1c7/...</td>\n",
       "      <td>c0a2</td>\n",
       "      <td>RN1c2B2/4K4/B5C2/P1P1P1P1P/1C7/9/p1p1p1p1p/1c7...</td>\n",
       "      <td>False</td>\n",
       "      <td>R</td>\n",
       "      <td>-27.87</td>\n",
       "      <td>0</td>\n",
       "      <td>-57.966910</td>\n",
       "      <td>-1.812666</td>\n",
       "      <td>-1</td>\n",
       "    </tr>\n",
       "    <tr>\n",
       "      <th>5</th>\n",
       "      <td>0-12</td>\n",
       "      <td>16945266706745</td>\n",
       "      <td>cN4B2/4K4/B5C2/P1P1P1P1P/1C7/9/p1p1p1p1p/1c7/9...</td>\n",
       "      <td>b0d1</td>\n",
       "      <td>c5B2/3NK4/B5C2/P1P1P1P1P/1C7/9/p1p1p1p1p/1c7/9...</td>\n",
       "      <td>False</td>\n",
       "      <td>P</td>\n",
       "      <td>-1.00</td>\n",
       "      <td>0</td>\n",
       "      <td>-14.824493</td>\n",
       "      <td>-0.463572</td>\n",
       "      <td>-1</td>\n",
       "    </tr>\n",
       "    <tr>\n",
       "      <th>6</th>\n",
       "      <td>0-12</td>\n",
       "      <td>16945266706746</td>\n",
       "      <td>6B2/3NK4/B5C2/c1P1P1P1P/1C7/9/p1p1p1p1p/1c7/9/...</td>\n",
       "      <td>e1e2</td>\n",
       "      <td>6B2/3N5/B3K1C2/c1P1P1P1P/1C7/9/p1p1p1p1p/1c7/9...</td>\n",
       "      <td>False</td>\n",
       "      <td></td>\n",
       "      <td>0.00</td>\n",
       "      <td>0</td>\n",
       "      <td>-16.650151</td>\n",
       "      <td>-0.520662</td>\n",
       "      <td>-1</td>\n",
       "    </tr>\n",
       "    <tr>\n",
       "      <th>7</th>\n",
       "      <td>0-12</td>\n",
       "      <td>16945266706747</td>\n",
       "      <td>6B2/3N5/B3K1C2/c1P1P1P1P/1C7/9/p1p1p1p1p/1c6n/...</td>\n",
       "      <td>a2c4</td>\n",
       "      <td>6B2/3N5/4K1C2/c1P1P1P1P/1CB6/9/p1p1p1p1p/1c6n/...</td>\n",
       "      <td>False</td>\n",
       "      <td></td>\n",
       "      <td>0.00</td>\n",
       "      <td>0</td>\n",
       "      <td>-17.846135</td>\n",
       "      <td>-0.558061</td>\n",
       "      <td>-1</td>\n",
       "    </tr>\n",
       "    <tr>\n",
       "      <th>8</th>\n",
       "      <td>0-12</td>\n",
       "      <td>16945266706748</td>\n",
       "      <td>6B2/3N5/4K1C2/c1P1P1P1P/1CB6/9/p1p1p1p1p/2c5n/...</td>\n",
       "      <td>e2f2</td>\n",
       "      <td>6B2/3N5/5KC2/c1P1P1P1P/1CB6/9/p1p1p1p1p/2c5n/9...</td>\n",
       "      <td>False</td>\n",
       "      <td></td>\n",
       "      <td>0.00</td>\n",
       "      <td>0</td>\n",
       "      <td>-5.820705</td>\n",
       "      <td>-0.182017</td>\n",
       "      <td>-1</td>\n",
       "    </tr>\n",
       "    <tr>\n",
       "      <th>9</th>\n",
       "      <td>0-12</td>\n",
       "      <td>16945266706749</td>\n",
       "      <td>6B2/3N5/5KC2/c1P1P1P1P/1CB6/9/p1p1p1p1p/2c5n/9...</td>\n",
       "      <td>g2h2</td>\n",
       "      <td>6B2/3N5/5K1C1/c1P1P1P1P/1CB6/9/p1p1p1p1p/2c5n/...</td>\n",
       "      <td>False</td>\n",
       "      <td>C</td>\n",
       "      <td>-25.41</td>\n",
       "      <td>0</td>\n",
       "      <td>-4.632996</td>\n",
       "      <td>-0.144877</td>\n",
       "      <td>-1</td>\n",
       "    </tr>\n",
       "    <tr>\n",
       "      <th>10</th>\n",
       "      <td>0-12</td>\n",
       "      <td>169452667067410</td>\n",
       "      <td>6B2/3N5/5K1r1/c1P1P1P1P/1CB6/9/p1p1p1p1p/2c5n/...</td>\n",
       "      <td>b4a4</td>\n",
       "      <td>6B2/3N5/5K1r1/c1P1P1P1P/C1B6/9/p1p1p1p1p/2c5n/...</td>\n",
       "      <td>True</td>\n",
       "      <td>K</td>\n",
       "      <td>-4.92</td>\n",
       "      <td>-1</td>\n",
       "      <td>-1.875649</td>\n",
       "      <td>-0.058653</td>\n",
       "      <td>-1</td>\n",
       "    </tr>\n",
       "  </tbody>\n",
       "</table>\n",
       "</div>"
      ],
      "text/plain": [
       "   match_id         round_id  \\\n",
       "0      0-12   16945266706740   \n",
       "1      0-12   16945266706741   \n",
       "2      0-12   16945266706742   \n",
       "3      0-12   16945266706743   \n",
       "4      0-12   16945266706744   \n",
       "5      0-12   16945266706745   \n",
       "6      0-12   16945266706746   \n",
       "7      0-12   16945266706747   \n",
       "8      0-12   16945266706748   \n",
       "9      0-12   16945266706749   \n",
       "10     0-12  169452667067410   \n",
       "\n",
       "                                                state action  \\\n",
       "0   RNBAKABNR/9/1C5C1/P1P1P1P1P/9/9/p1p1p1p1p/1c5c...   e0e1   \n",
       "1   RNBA1ABcR/4K4/1C5C1/P1P1P1P1P/9/9/p1p1p1p1p/1c...   b2b4   \n",
       "2   RNBA1cB1R/4K4/7C1/P1P1P1P1P/1C7/9/p1p1p1p1p/1c...   h2e2   \n",
       "3   RNBA2B1c/4K4/4C4/P1P1P1P1P/1C7/9/p1p1p1p1p/1c7...   e2g2   \n",
       "4   RNBc2B2/4K4/6C2/P1P1P1P1P/1C7/9/p1p1p1p1p/1c7/...   c0a2   \n",
       "5   cN4B2/4K4/B5C2/P1P1P1P1P/1C7/9/p1p1p1p1p/1c7/9...   b0d1   \n",
       "6   6B2/3NK4/B5C2/c1P1P1P1P/1C7/9/p1p1p1p1p/1c7/9/...   e1e2   \n",
       "7   6B2/3N5/B3K1C2/c1P1P1P1P/1C7/9/p1p1p1p1p/1c6n/...   a2c4   \n",
       "8   6B2/3N5/4K1C2/c1P1P1P1P/1CB6/9/p1p1p1p1p/2c5n/...   e2f2   \n",
       "9   6B2/3N5/5KC2/c1P1P1P1P/1CB6/9/p1p1p1p1p/2c5n/9...   g2h2   \n",
       "10  6B2/3N5/5K1r1/c1P1P1P1P/1CB6/9/p1p1p1p1p/2c5n/...   b4a4   \n",
       "\n",
       "                                           next_state   done chaptures  \\\n",
       "0   RNBA1ABNR/4K4/1C5C1/P1P1P1P1P/9/9/p1p1p1p1p/1c...  False         N   \n",
       "1   RNBA1ABcR/4K4/7C1/P1P1P1P1P/1C7/9/p1p1p1p1p/1c...  False         A   \n",
       "2   RNBA1cB1R/4K4/4C4/P1P1P1P1P/1C7/9/p1p1p1p1p/1c...  False         R   \n",
       "3   RNBA2B1c/4K4/6C2/P1P1P1P1P/1C7/9/p1p1p1p1p/1c7...  False         A   \n",
       "4   RN1c2B2/4K4/B5C2/P1P1P1P1P/1C7/9/p1p1p1p1p/1c7...  False         R   \n",
       "5   c5B2/3NK4/B5C2/P1P1P1P1P/1C7/9/p1p1p1p1p/1c7/9...  False         P   \n",
       "6   6B2/3N5/B3K1C2/c1P1P1P1P/1C7/9/p1p1p1p1p/1c7/9...  False             \n",
       "7   6B2/3N5/4K1C2/c1P1P1P1P/1CB6/9/p1p1p1p1p/1c6n/...  False             \n",
       "8   6B2/3N5/5KC2/c1P1P1P1P/1CB6/9/p1p1p1p1p/2c5n/9...  False             \n",
       "9   6B2/3N5/5K1C1/c1P1P1P1P/1CB6/9/p1p1p1p1p/2c5n/...  False         C   \n",
       "10  6B2/3N5/5K1r1/c1P1P1P1P/C1B6/9/p1p1p1p1p/2c5n/...   True         K   \n",
       "\n",
       "    chapture_reward  win  shapley_value      mine  alphago_zero  \n",
       "0             -6.28    0     -80.549810 -2.518849            -1  \n",
       "1             -4.10    0    -100.643963 -3.147207            -1  \n",
       "2            -27.87    0     -30.658959 -0.958727            -1  \n",
       "3             -4.10    0     -20.297256 -0.634709            -1  \n",
       "4            -27.87    0     -57.966910 -1.812666            -1  \n",
       "5             -1.00    0     -14.824493 -0.463572            -1  \n",
       "6              0.00    0     -16.650151 -0.520662            -1  \n",
       "7              0.00    0     -17.846135 -0.558061            -1  \n",
       "8              0.00    0      -5.820705 -0.182017            -1  \n",
       "9            -25.41    0      -4.632996 -0.144877            -1  \n",
       "10            -4.92   -1      -1.875649 -0.058653            -1  "
      ]
     },
     "execution_count": 150,
     "metadata": {},
     "output_type": "execute_result"
    }
   ],
   "source": [
    "# 按回出棋的顺序\n",
    "result_data = pd.merge(match_data, match_contribution_data, on = \"action\", how = \"left\")\n",
    "result_data"
   ]
  },
  {
   "cell_type": "code",
   "execution_count": 151,
   "id": "7af73a81",
   "metadata": {},
   "outputs": [
    {
     "data": {
      "image/png": "[encoded data removed]",
      "text/plain": [
       "<Figure size 1152x576 with 1 Axes>"
      ]
     },
     "metadata": {},
     "output_type": "display_data"
    }
   ],
   "source": [
    "custom_ticks = list(range(len(result_data)))\n",
    "custom_labels = result_data[\"action\"].values.tolist()\n",
    "plt.figure(figsize = (16, 8))\n",
    "plt.bar(range(len(result_data)), result_data[\"mine\"], width = 0.4, alpha = 0.8, label = 'this paper' )\n",
    "plt.bar([i + 0.4 for i in range(len(result_data))], result_data[\"alphago_zero\"], width = 0.4, alpha = 0.8, label = 'AlphaGo Zero')\n",
    "plt.xticks(custom_ticks, custom_labels)\n",
    "plt.xlabel('Action')\n",
    "plt.ylabel('Reward')\n",
    "plt.legend(loc='lower left')\n",
    "plt.show()"
   ]
  },
  {
   "cell_type": "code",
   "execution_count": null,
   "id": "8b9a47c0",
   "metadata": {},
   "outputs": [],
   "source": []
  },
  {
   "cell_type": "code",
   "execution_count": null,
   "id": "e959d56a",
   "metadata": {},
   "outputs": [],
   "source": []
  },
  {
   "cell_type": "markdown",
   "id": "3238d3c4",
   "metadata": {},
   "source": [
    "### 以下计算shapley value 方法复杂度很高，暂不采用"
   ]
  },
  {
   "cell_type": "code",
   "execution_count": 13,
   "id": "a2a726af",
   "metadata": {},
   "outputs": [],
   "source": [
    "# 即生成列表List的所有组合\n",
    "# 如List = [1,2,3]，则返回[], [1], [2], [3], [1,2], [1,3], [2,3], [1,2,3]\n",
    "def power_set(List):\n",
    "    PS = [list(j) for i in range(len(List)) for j in itertools.combinations(List, i+1)]\n",
    "    return PS"
   ]
  },
  {
   "cell_type": "code",
   "execution_count": 14,
   "id": "2c7300ef",
   "metadata": {},
   "outputs": [],
   "source": [
    "def subsets(s):\n",
    "    if len(s) == 1:\n",
    "        return s\n",
    "    else:\n",
    "        sub_channels = []\n",
    "        for i in range(1, len(s) + 1):\n",
    "            sub_channels.extend(map(list, itertools.combinations(s, i)))\n",
    "    return list(map(\",\".join, map(sorted, sub_channels)))"
   ]
  },
  {
   "cell_type": "code",
   "execution_count": 16,
   "id": "c20bcfcc",
   "metadata": {},
   "outputs": [],
   "source": [
    "def value_function(A, C_values):\n",
    "    subsets_of_A = subsets(A)\n",
    "    worth_of_A = 0\n",
    "    for subset in subsets_of_A:\n",
    "        print(f\"subset: {subset}\")\n",
    "        if subset in C_values:\n",
    "            worth_of_A += C_values[subset]\n",
    "    return worth_of_A"
   ]
  },
  {
   "cell_type": "code",
   "execution_count": 17,
   "id": "a69d788c",
   "metadata": {},
   "outputs": [],
   "source": [
    "def factorial(n):\n",
    "    if n == 0:\n",
    "        return 1\n",
    "    else:\n",
    "        return n * factorial(n-1)"
   ]
  },
  {
   "cell_type": "code",
   "execution_count": 23,
   "id": "56ab1157",
   "metadata": {},
   "outputs": [
    {
     "name": "stdout",
     "output_type": "stream",
     "text": [
      "channels count: 16\n",
      "{'a0a1,a1c1,b2b8,c1f1,f1f8,c3c4,g0i2,e3e4,c0a2': -96.17, 'a0a1,b2b4,a1b1,h2d2,g0e2,b1f1,d0e1,e1f2': -37.61}\n"
     ]
    }
   ],
   "source": [
    "#demo\n",
    "data_demo = data3.head(2)\n",
    "\n",
    "c_values = data_demo.set_index(\"action_sequence\").to_dict()[\"chapture_value\"]    \n",
    "channels = []\n",
    "for i in range(len(data_demo)):\n",
    "    row = data_demo.iloc[i]\n",
    "    actions = row[\"action_sequence\"].split(\",\")\n",
    "    channels.extend(actions)\n",
    "    \n",
    "channels = list(set(channels))\n",
    "print(f\"channels count: {len(channels)}\")\n",
    "\n",
    "power_channels = power_set(channels)\n",
    "print(c_values)\n",
    "    \n",
    "# v_values = {}\n",
    "# for A in power_channels:\n",
    "#     v_values[','.join(sorted(A))] = value_function(A, c_values)\n",
    "# print(f\"v_values: {v_values}\")\n"
   ]
  },
  {
   "cell_type": "code",
   "execution_count": 21,
   "id": "f26c5880",
   "metadata": {},
   "outputs": [
    {
     "ename": "KeyError",
     "evalue": "'a0a1,a1c1,b2b8,c1f1,f1f8,c3c4,g0i2,e3e4,c0a2'",
     "output_type": "error",
     "traceback": [
      "\u001b[1;31m---------------------------------------------------------------------------\u001b[0m",
      "\u001b[1;31mKeyError\u001b[0m                                  Traceback (most recent call last)",
      "Input \u001b[1;32mIn [21]\u001b[0m, in \u001b[0;36m<cell line: 1>\u001b[1;34m()\u001b[0m\n\u001b[1;32m----> 1\u001b[0m \u001b[43mv_values\u001b[49m\u001b[43m[\u001b[49m\u001b[38;5;124;43m\"\u001b[39;49m\u001b[38;5;124;43ma0a1,a1c1,b2b8,c1f1,f1f8,c3c4,g0i2,e3e4,c0a2\u001b[39;49m\u001b[38;5;124;43m\"\u001b[39;49m\u001b[43m]\u001b[49m\n",
      "\u001b[1;31mKeyError\u001b[0m: 'a0a1,a1c1,b2b8,c1f1,f1f8,c3c4,g0i2,e3e4,c0a2'"
     ]
    }
   ],
   "source": [
    "v_values[\"a0a1,a1c1,b2b8,c1f1,f1f8,c3c4,g0i2,e3e4,c0a2\"]"
   ]
  },
  {
   "cell_type": "code",
   "execution_count": 28,
   "id": "343465c6",
   "metadata": {},
   "outputs": [],
   "source": [
    "def calculate_shapley(df, channel_name, conv_name):\n",
    "    c_values = df.set_index(channel_name).to_dict()[conv_name]    \n",
    "    df['channels'] = df[channel_name].apply(lambda x: x if len(x.split(\",\")) == 1 else np.nan)  # hoho: 这里可能会遗漏一些channel\n",
    "    channels = list(df['channels'].dropna().unique())\n",
    "    \n",
    "#     print(f\"power_set: {power_set(channels)}\")\n",
    "    \n",
    "    v_values = {}\n",
    "    for A in power_set(channels):\n",
    "        v_values[','.join(sorted(A))] = v_function(A, c_values)\n",
    "    n = len(channels)\n",
    "    shapley_values = defaultdict(int)\n",
    "    \n",
    "    for channel in channels:\n",
    "        for A in v_values.keys():\n",
    "            if channel not in A.split(\",\"):\n",
    "                cardinal_A = len(A.split(\",\"))  # 没有channel的长度\n",
    "                A_with_channel = A.split(\",\")\n",
    "                A_with_channel.append(channel)\n",
    "                A_with_channel = \",\".join(sorted(A_with_channel))\n",
    "                weight = (factorial(cardinal_A) * factorial(n - cardinal_A - 1) / factorial(n)) # Weight = |S|!(n-|S|-1)!/n!\n",
    "                contrib = (v_values[A_with_channel] - v_values[A]) # Marginal contribution = v(S U {i})-v(S)\n",
    "                shapley_values[channel] += weight * contrib\n",
    "                \n",
    "        # Add the term corresponding to the empty set\n",
    "        shapley_values[channel]+= v_values[channel] / n \n",
    "        \n",
    "    return shapley_values"
   ]
  },
  {
   "cell_type": "markdown",
   "id": "a42ba4c9",
   "metadata": {},
   "source": [
    "### 计算shapley value 方法复杂度很高，暂不采用"
   ]
  },
  {
   "cell_type": "code",
   "execution_count": null,
   "id": "db66ab32",
   "metadata": {},
   "outputs": [],
   "source": []
  }
 ],
 "metadata": {
  "kernelspec": {
   "display_name": "Python 3 (ipykernel)",
   "language": "python",
   "name": "python3"
  },
  "language_info": {
   "codemirror_mode": {
    "name": "ipython",
    "version": 3
   },
   "file_extension": ".py",
   "mimetype": "text/x-python",
   "name": "python",
   "nbconvert_exporter": "python",
   "pygments_lexer": "ipython3",
   "version": "3.9.7"
  }
 },
 "nbformat": 4,
 "nbformat_minor": 5
}
