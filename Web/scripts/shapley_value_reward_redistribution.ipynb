{
 "cells": [
  {
   "cell_type": "code",
   "execution_count": 1,
   "id": "3f1d59cf",
   "metadata": {},
   "outputs": [],
   "source": [
    "import os\n",
    "import sys\n",
    "\n",
    "root_dir = os.path.dirname(os.path.dirname(os.path.realpath('__file__')))\n",
    "model_dir = os.path.join(root_dir, \"model\")\n",
    "sys.path.append(root_dir)\n",
    "sys.path.append(model_dir)\n",
    "\n",
    "from collections import defaultdict\n",
    "import itertools\n",
    "import time\n",
    "import json\n",
    "import numpy as np\n",
    "import pandas as pd\n",
    "import matplotlib.pyplot as plt\n",
    "import hoho_utils\n",
    "\n",
    "os.environ['CUDA_LAUNCH_BLOCKING']='1' "
   ]
  },
  {
   "cell_type": "markdown",
   "id": "1315eb2d",
   "metadata": {},
   "source": [
    "### 数据预处理"
   ]
  },
  {
   "cell_type": "code",
   "execution_count": 2,
   "id": "82348960",
   "metadata": {},
   "outputs": [],
   "source": [
    "def suffix_time():\n",
    "    current_time = time.time()\n",
    "    local_time = time.localtime(current_time)\n",
    "    time_str = time.strftime('%Y%m%d%H%M%S', local_time)\n",
    "    return time_str"
   ]
  },
  {
   "cell_type": "code",
   "execution_count": 3,
   "id": "9398ef0a",
   "metadata": {},
   "outputs": [
    {
     "data": {
      "text/plain": [
       "'KARBNPCkarbnpc'"
      ]
     },
     "execution_count": 3,
     "metadata": {},
     "output_type": "execute_result"
    }
   ],
   "source": [
    "#test\n",
    "hoho_utils.INDEXS_2_PIECES"
   ]
  },
  {
   "cell_type": "code",
   "execution_count": 4,
   "id": "6eacd7a1",
   "metadata": {},
   "outputs": [
    {
     "data": {
      "text/plain": [
       "'20230910110405'"
      ]
     },
     "execution_count": 4,
     "metadata": {},
     "output_type": "execute_result"
    }
   ],
   "source": [
    "suffix = suffix_time()\n",
    "suffix"
   ]
  },
  {
   "cell_type": "code",
   "execution_count": 5,
   "id": "d254e226",
   "metadata": {},
   "outputs": [
    {
     "name": "stdout",
     "output_type": "stream",
     "text": [
      "file_count: 338\n"
     ]
    }
   ],
   "source": [
    "data_dir = \"../output/data\"\n",
    "file_list = os.listdir(data_dir)\n",
    "file_count = len(file_list)\n",
    "item_list = list()\n",
    "\n",
    "print(f\"file_count: {file_count}\")\n",
    "\n",
    "for i, filename in enumerate(file_list):\n",
    "    file_path = os.path.join(data_dir, filename)\n",
    "    with open(file_path, \"r\") as file:\n",
    "        json_str = file.read()\n",
    "        matches = json.loads(json_str)\n",
    "        match_count = len(matches)\n",
    "\n",
    "        for j, match in enumerate(matches):\n",
    "#             print(f\"match: {match}\")\n",
    "#             break\n",
    "\n",
    "            base_id =  int(time.time() * 1000) + j\n",
    "            for k, round in enumerate(match):\n",
    "                match_id = f\"{i}-{j}\"\n",
    "                round_id = f\"{base_id}{k}\"\n",
    "                state = round[0]\n",
    "                action = round[2]\n",
    "                next_state = round[3]\n",
    "                chapture_list = round[6]\n",
    "                chaptures = ','.join(chapture_list)\n",
    "                chapture_reward = round[7]\n",
    "\n",
    "                win = 0\n",
    "                done = round[5]\n",
    "                if \"K\" in chapture_list:\n",
    "                    win = -1\n",
    "                    done = True\n",
    "                elif \"k\" in chapture_list:\n",
    "                    win = 1\n",
    "                    done = True\n",
    "\n",
    "                round_dict = {\"match_id\": match_id,\n",
    "                              \"round_id\": round_id,\n",
    "                              \"state\": state,\n",
    "                              \"action\":action,\n",
    "                              \"next_state\": next_state,\n",
    "                              \"done\": done,\n",
    "                              \"chaptures\": chaptures,\n",
    "                              \"chapture_reward\": chapture_reward,\n",
    "                              \"win\": win}\n",
    "                item_list.append(round_dict)\n",
    "\n",
    "                if win == 1 or win == -1:\n",
    "                    break"
   ]
  },
  {
   "cell_type": "code",
   "execution_count": 6,
   "id": "d9e97301",
   "metadata": {},
   "outputs": [],
   "source": [
    "data = pd.DataFrame(item_list)"
   ]
  },
  {
   "cell_type": "code",
   "execution_count": 7,
   "id": "7da54a64",
   "metadata": {},
   "outputs": [
    {
     "data": {
      "text/html": [
       "<div>\n",
       "<style scoped>\n",
       "    .dataframe tbody tr th:only-of-type {\n",
       "        vertical-align: middle;\n",
       "    }\n",
       "\n",
       "    .dataframe tbody tr th {\n",
       "        vertical-align: top;\n",
       "    }\n",
       "\n",
       "    .dataframe thead th {\n",
       "        text-align: right;\n",
       "    }\n",
       "</style>\n",
       "<table border=\"1\" class=\"dataframe\">\n",
       "  <thead>\n",
       "    <tr style=\"text-align: right;\">\n",
       "      <th></th>\n",
       "      <th>match_id</th>\n",
       "      <th>round_id</th>\n",
       "      <th>state</th>\n",
       "      <th>action</th>\n",
       "      <th>next_state</th>\n",
       "      <th>done</th>\n",
       "      <th>chaptures</th>\n",
       "      <th>chapture_reward</th>\n",
       "      <th>win</th>\n",
       "    </tr>\n",
       "  </thead>\n",
       "  <tbody>\n",
       "    <tr>\n",
       "      <th>0</th>\n",
       "      <td>0-0</td>\n",
       "      <td>16943150457890</td>\n",
       "      <td>RNBAKABNR/9/1C5C1/P1P1P1P1P/9/9/p1p1p1p1p/1c5c...</td>\n",
       "      <td>f0e1</td>\n",
       "      <td>RNBAK1BNR/4A4/1C5C1/P1P1P1P1P/9/9/p1p1p1p1p/1c...</td>\n",
       "      <td>False</td>\n",
       "      <td>N</td>\n",
       "      <td>-6.28</td>\n",
       "      <td>0</td>\n",
       "    </tr>\n",
       "    <tr>\n",
       "      <th>1</th>\n",
       "      <td>0-0</td>\n",
       "      <td>16943150457891</td>\n",
       "      <td>RNBAK1BcR/4A4/1C5C1/P1P1P1P1P/9/9/p1p1p1p1p/1c...</td>\n",
       "      <td>h2g2</td>\n",
       "      <td>RNBAK1BcR/4A4/1C4C2/P1P1P1P1P/9/9/p1p1p1p1p/1c...</td>\n",
       "      <td>True</td>\n",
       "      <td>K</td>\n",
       "      <td>-4.92</td>\n",
       "      <td>-1</td>\n",
       "    </tr>\n",
       "    <tr>\n",
       "      <th>2</th>\n",
       "      <td>0-1</td>\n",
       "      <td>16943150457900</td>\n",
       "      <td>RNBAKABNR/9/1C5C1/P1P1P1P1P/9/9/p1p1p1p1p/1c5c...</td>\n",
       "      <td>f0e1</td>\n",
       "      <td>RNBAK1BNR/4A4/1C5C1/P1P1P1P1P/9/9/p1p1p1p1p/1c...</td>\n",
       "      <td>False</td>\n",
       "      <td>N</td>\n",
       "      <td>-6.28</td>\n",
       "      <td>0</td>\n",
       "    </tr>\n",
       "    <tr>\n",
       "      <th>3</th>\n",
       "      <td>0-1</td>\n",
       "      <td>16943150457901</td>\n",
       "      <td>RNBAK1BcR/4A4/1C5C1/P1P1P1P1P/9/9/p1p1p1p1p/1c...</td>\n",
       "      <td>h2g2</td>\n",
       "      <td>RNBAK1BcR/4A4/1C4C2/P1P1P1P1P/9/9/p1p1p1p1p/1c...</td>\n",
       "      <td>True</td>\n",
       "      <td>K</td>\n",
       "      <td>-4.92</td>\n",
       "      <td>-1</td>\n",
       "    </tr>\n",
       "    <tr>\n",
       "      <th>4</th>\n",
       "      <td>0-2</td>\n",
       "      <td>16943150457910</td>\n",
       "      <td>RNBAKABNR/9/1C5C1/P1P1P1P1P/9/9/p1p1p1p1p/1c5c...</td>\n",
       "      <td>f0e1</td>\n",
       "      <td>RNBAK1BNR/4A4/1C5C1/P1P1P1P1P/9/9/p1p1p1p1p/1c...</td>\n",
       "      <td>False</td>\n",
       "      <td>N</td>\n",
       "      <td>-6.28</td>\n",
       "      <td>0</td>\n",
       "    </tr>\n",
       "    <tr>\n",
       "      <th>5</th>\n",
       "      <td>0-2</td>\n",
       "      <td>16943150457911</td>\n",
       "      <td>RNBAK1BcR/4A4/1C5C1/P1P1P1P1P/9/9/p1p1p1p1p/1c...</td>\n",
       "      <td>h2g2</td>\n",
       "      <td>RNBAK1BcR/4A4/1C4C2/P1P1P1P1P/9/9/p1p1p1p1p/1c...</td>\n",
       "      <td>True</td>\n",
       "      <td>K</td>\n",
       "      <td>-4.92</td>\n",
       "      <td>-1</td>\n",
       "    </tr>\n",
       "    <tr>\n",
       "      <th>6</th>\n",
       "      <td>0-3</td>\n",
       "      <td>16943150457920</td>\n",
       "      <td>RNBAKABNR/9/1C5C1/P1P1P1P1P/9/9/p1p1p1p1p/1c5c...</td>\n",
       "      <td>f0e1</td>\n",
       "      <td>RNBAK1BNR/4A4/1C5C1/P1P1P1P1P/9/9/p1p1p1p1p/1c...</td>\n",
       "      <td>False</td>\n",
       "      <td>N</td>\n",
       "      <td>-6.28</td>\n",
       "      <td>0</td>\n",
       "    </tr>\n",
       "    <tr>\n",
       "      <th>7</th>\n",
       "      <td>0-3</td>\n",
       "      <td>16943150457921</td>\n",
       "      <td>RNBAK1BcR/4A4/1C5C1/P1P1P1P1P/9/9/p1p1p1p1p/1c...</td>\n",
       "      <td>h2g2</td>\n",
       "      <td>RNBAK1BcR/4A4/1C4C2/P1P1P1P1P/9/9/p1p1p1p1p/1c...</td>\n",
       "      <td>True</td>\n",
       "      <td>K</td>\n",
       "      <td>-4.92</td>\n",
       "      <td>-1</td>\n",
       "    </tr>\n",
       "    <tr>\n",
       "      <th>8</th>\n",
       "      <td>0-4</td>\n",
       "      <td>16943150457930</td>\n",
       "      <td>RNBAKABNR/9/1C5C1/P1P1P1P1P/9/9/p1p1p1p1p/1c5c...</td>\n",
       "      <td>a0a1</td>\n",
       "      <td>1NBAKABNR/R8/1C5C1/P1P1P1P1P/9/9/p1p1p1p1p/1c5...</td>\n",
       "      <td>False</td>\n",
       "      <td>N</td>\n",
       "      <td>-6.28</td>\n",
       "      <td>0</td>\n",
       "    </tr>\n",
       "    <tr>\n",
       "      <th>9</th>\n",
       "      <td>0-4</td>\n",
       "      <td>16943150457931</td>\n",
       "      <td>1cBAKABNR/R8/1C5C1/P1P1P1P1P/9/9/p1p1p1p1p/7c1...</td>\n",
       "      <td>b2b4</td>\n",
       "      <td>1cBAKABNR/R8/7C1/P1P1P1P1P/1C7/9/p1p1p1p1p/7c1...</td>\n",
       "      <td>False</td>\n",
       "      <td></td>\n",
       "      <td>0.00</td>\n",
       "      <td>0</td>\n",
       "    </tr>\n",
       "    <tr>\n",
       "      <th>10</th>\n",
       "      <td>0-4</td>\n",
       "      <td>16943150457932</td>\n",
       "      <td>1cBAKABNR/R8/7C1/P1P1P1P1P/1C7/9/p1p1p1p1p/6nc...</td>\n",
       "      <td>e3e4</td>\n",
       "      <td>1cBAKABNR/R8/7C1/P1P3P1P/1C2P4/9/p1p1p1p1p/6nc...</td>\n",
       "      <td>False</td>\n",
       "      <td></td>\n",
       "      <td>0.00</td>\n",
       "      <td>0</td>\n",
       "    </tr>\n",
       "    <tr>\n",
       "      <th>11</th>\n",
       "      <td>0-4</td>\n",
       "      <td>16943150457933</td>\n",
       "      <td>1cBAKABNR/R8/7C1/P1P3P1P/1C2P4/9/p1p1p1p1p/2n3...</td>\n",
       "      <td>h2h4</td>\n",
       "      <td>1cBAKABNR/R8/9/P1P3P1P/1C2P2C1/9/p1p1p1p1p/2n3...</td>\n",
       "      <td>False</td>\n",
       "      <td></td>\n",
       "      <td>0.00</td>\n",
       "      <td>0</td>\n",
       "    </tr>\n",
       "    <tr>\n",
       "      <th>12</th>\n",
       "      <td>0-4</td>\n",
       "      <td>16943150457934</td>\n",
       "      <td>1cBAKABNR/R8/9/P1P3P1P/1C2P2C1/9/p1p1p1p1p/2n3...</td>\n",
       "      <td>b4b6</td>\n",
       "      <td>1cBAKABNR/R8/9/P1P3P1P/4P2C1/9/pCp1p1p1p/2n3nc...</td>\n",
       "      <td>False</td>\n",
       "      <td>C</td>\n",
       "      <td>-25.41</td>\n",
       "      <td>0</td>\n",
       "    </tr>\n",
       "    <tr>\n",
       "      <th>13</th>\n",
       "      <td>0-4</td>\n",
       "      <td>16943150457935</td>\n",
       "      <td>1cBAKABNR/R8/9/P1P3P1P/4P2C1/9/prp1p1p1p/2n3nc...</td>\n",
       "      <td>h4f4</td>\n",
       "      <td>1cBAKABNR/R8/9/P1P3P1P/4PC3/9/prp1p1p1p/2n3nc1...</td>\n",
       "      <td>False</td>\n",
       "      <td></td>\n",
       "      <td>0.00</td>\n",
       "      <td>0</td>\n",
       "    </tr>\n",
       "    <tr>\n",
       "      <th>14</th>\n",
       "      <td>0-4</td>\n",
       "      <td>16943150457936</td>\n",
       "      <td>1cBAKABNR/R8/9/P1P3P1P/4PC3/9/prp1p1p1p/2n3nc1...</td>\n",
       "      <td>i3i4</td>\n",
       "      <td>1cBAKABNR/R8/9/P1P3P2/4PC2P/9/prp1p1p1p/2n3nc1...</td>\n",
       "      <td>False</td>\n",
       "      <td></td>\n",
       "      <td>0.00</td>\n",
       "      <td>0</td>\n",
       "    </tr>\n",
       "    <tr>\n",
       "      <th>15</th>\n",
       "      <td>0-4</td>\n",
       "      <td>16943150457937</td>\n",
       "      <td>1cBAKABNR/R8/9/P1P3P2/4PC2P/6p2/prp1p3p/2n3nc1...</td>\n",
       "      <td>a1f1</td>\n",
       "      <td>1cBAKABNR/5R3/9/P1P3P2/4PC2P/6p2/prp1p3p/2n3nc...</td>\n",
       "      <td>False</td>\n",
       "      <td></td>\n",
       "      <td>0.00</td>\n",
       "      <td>0</td>\n",
       "    </tr>\n",
       "    <tr>\n",
       "      <th>16</th>\n",
       "      <td>0-4</td>\n",
       "      <td>16943150457938</td>\n",
       "      <td>1cBAKABNR/5R3/9/P1P3P2/4PC2P/5np2/prp1p3p/2n4c...</td>\n",
       "      <td>c0e2</td>\n",
       "      <td>1c1AKABNR/5R3/4B4/P1P3P2/4PC2P/5np2/prp1p3p/2n...</td>\n",
       "      <td>True</td>\n",
       "      <td>K</td>\n",
       "      <td>-4.92</td>\n",
       "      <td>-1</td>\n",
       "    </tr>\n",
       "    <tr>\n",
       "      <th>17</th>\n",
       "      <td>0-5</td>\n",
       "      <td>16943150457940</td>\n",
       "      <td>RNBAKABNR/9/1C5C1/P1P1P1P1P/9/9/p1p1p1p1p/1c5c...</td>\n",
       "      <td>f0e1</td>\n",
       "      <td>RNBAK1BNR/4A4/1C5C1/P1P1P1P1P/9/9/p1p1p1p1p/1c...</td>\n",
       "      <td>False</td>\n",
       "      <td>N</td>\n",
       "      <td>-6.28</td>\n",
       "      <td>0</td>\n",
       "    </tr>\n",
       "    <tr>\n",
       "      <th>18</th>\n",
       "      <td>0-5</td>\n",
       "      <td>16943150457941</td>\n",
       "      <td>RNBAK1BcR/4A4/1C5C1/P1P1P1P1P/9/9/p1p1p1p1p/1c...</td>\n",
       "      <td>h2g2</td>\n",
       "      <td>RNBAK1BcR/4A4/1C4C2/P1P1P1P1P/9/9/p1p1p1p1p/1c...</td>\n",
       "      <td>True</td>\n",
       "      <td>K</td>\n",
       "      <td>-4.92</td>\n",
       "      <td>-1</td>\n",
       "    </tr>\n",
       "    <tr>\n",
       "      <th>19</th>\n",
       "      <td>0-6</td>\n",
       "      <td>16943150457950</td>\n",
       "      <td>RNBAKABNR/9/1C5C1/P1P1P1P1P/9/9/p1p1p1p1p/1c5c...</td>\n",
       "      <td>f0e1</td>\n",
       "      <td>RNBAK1BNR/4A4/1C5C1/P1P1P1P1P/9/9/p1p1p1p1p/1c...</td>\n",
       "      <td>False</td>\n",
       "      <td>N</td>\n",
       "      <td>-6.28</td>\n",
       "      <td>0</td>\n",
       "    </tr>\n",
       "  </tbody>\n",
       "</table>\n",
       "</div>"
      ],
      "text/plain": [
       "   match_id        round_id  \\\n",
       "0       0-0  16943150457890   \n",
       "1       0-0  16943150457891   \n",
       "2       0-1  16943150457900   \n",
       "3       0-1  16943150457901   \n",
       "4       0-2  16943150457910   \n",
       "5       0-2  16943150457911   \n",
       "6       0-3  16943150457920   \n",
       "7       0-3  16943150457921   \n",
       "8       0-4  16943150457930   \n",
       "9       0-4  16943150457931   \n",
       "10      0-4  16943150457932   \n",
       "11      0-4  16943150457933   \n",
       "12      0-4  16943150457934   \n",
       "13      0-4  16943150457935   \n",
       "14      0-4  16943150457936   \n",
       "15      0-4  16943150457937   \n",
       "16      0-4  16943150457938   \n",
       "17      0-5  16943150457940   \n",
       "18      0-5  16943150457941   \n",
       "19      0-6  16943150457950   \n",
       "\n",
       "                                                state action  \\\n",
       "0   RNBAKABNR/9/1C5C1/P1P1P1P1P/9/9/p1p1p1p1p/1c5c...   f0e1   \n",
       "1   RNBAK1BcR/4A4/1C5C1/P1P1P1P1P/9/9/p1p1p1p1p/1c...   h2g2   \n",
       "2   RNBAKABNR/9/1C5C1/P1P1P1P1P/9/9/p1p1p1p1p/1c5c...   f0e1   \n",
       "3   RNBAK1BcR/4A4/1C5C1/P1P1P1P1P/9/9/p1p1p1p1p/1c...   h2g2   \n",
       "4   RNBAKABNR/9/1C5C1/P1P1P1P1P/9/9/p1p1p1p1p/1c5c...   f0e1   \n",
       "5   RNBAK1BcR/4A4/1C5C1/P1P1P1P1P/9/9/p1p1p1p1p/1c...   h2g2   \n",
       "6   RNBAKABNR/9/1C5C1/P1P1P1P1P/9/9/p1p1p1p1p/1c5c...   f0e1   \n",
       "7   RNBAK1BcR/4A4/1C5C1/P1P1P1P1P/9/9/p1p1p1p1p/1c...   h2g2   \n",
       "8   RNBAKABNR/9/1C5C1/P1P1P1P1P/9/9/p1p1p1p1p/1c5c...   a0a1   \n",
       "9   1cBAKABNR/R8/1C5C1/P1P1P1P1P/9/9/p1p1p1p1p/7c1...   b2b4   \n",
       "10  1cBAKABNR/R8/7C1/P1P1P1P1P/1C7/9/p1p1p1p1p/6nc...   e3e4   \n",
       "11  1cBAKABNR/R8/7C1/P1P3P1P/1C2P4/9/p1p1p1p1p/2n3...   h2h4   \n",
       "12  1cBAKABNR/R8/9/P1P3P1P/1C2P2C1/9/p1p1p1p1p/2n3...   b4b6   \n",
       "13  1cBAKABNR/R8/9/P1P3P1P/4P2C1/9/prp1p1p1p/2n3nc...   h4f4   \n",
       "14  1cBAKABNR/R8/9/P1P3P1P/4PC3/9/prp1p1p1p/2n3nc1...   i3i4   \n",
       "15  1cBAKABNR/R8/9/P1P3P2/4PC2P/6p2/prp1p3p/2n3nc1...   a1f1   \n",
       "16  1cBAKABNR/5R3/9/P1P3P2/4PC2P/5np2/prp1p3p/2n4c...   c0e2   \n",
       "17  RNBAKABNR/9/1C5C1/P1P1P1P1P/9/9/p1p1p1p1p/1c5c...   f0e1   \n",
       "18  RNBAK1BcR/4A4/1C5C1/P1P1P1P1P/9/9/p1p1p1p1p/1c...   h2g2   \n",
       "19  RNBAKABNR/9/1C5C1/P1P1P1P1P/9/9/p1p1p1p1p/1c5c...   f0e1   \n",
       "\n",
       "                                           next_state   done chaptures  \\\n",
       "0   RNBAK1BNR/4A4/1C5C1/P1P1P1P1P/9/9/p1p1p1p1p/1c...  False         N   \n",
       "1   RNBAK1BcR/4A4/1C4C2/P1P1P1P1P/9/9/p1p1p1p1p/1c...   True         K   \n",
       "2   RNBAK1BNR/4A4/1C5C1/P1P1P1P1P/9/9/p1p1p1p1p/1c...  False         N   \n",
       "3   RNBAK1BcR/4A4/1C4C2/P1P1P1P1P/9/9/p1p1p1p1p/1c...   True         K   \n",
       "4   RNBAK1BNR/4A4/1C5C1/P1P1P1P1P/9/9/p1p1p1p1p/1c...  False         N   \n",
       "5   RNBAK1BcR/4A4/1C4C2/P1P1P1P1P/9/9/p1p1p1p1p/1c...   True         K   \n",
       "6   RNBAK1BNR/4A4/1C5C1/P1P1P1P1P/9/9/p1p1p1p1p/1c...  False         N   \n",
       "7   RNBAK1BcR/4A4/1C4C2/P1P1P1P1P/9/9/p1p1p1p1p/1c...   True         K   \n",
       "8   1NBAKABNR/R8/1C5C1/P1P1P1P1P/9/9/p1p1p1p1p/1c5...  False         N   \n",
       "9   1cBAKABNR/R8/7C1/P1P1P1P1P/1C7/9/p1p1p1p1p/7c1...  False             \n",
       "10  1cBAKABNR/R8/7C1/P1P3P1P/1C2P4/9/p1p1p1p1p/6nc...  False             \n",
       "11  1cBAKABNR/R8/9/P1P3P1P/1C2P2C1/9/p1p1p1p1p/2n3...  False             \n",
       "12  1cBAKABNR/R8/9/P1P3P1P/4P2C1/9/pCp1p1p1p/2n3nc...  False         C   \n",
       "13  1cBAKABNR/R8/9/P1P3P1P/4PC3/9/prp1p1p1p/2n3nc1...  False             \n",
       "14  1cBAKABNR/R8/9/P1P3P2/4PC2P/9/prp1p1p1p/2n3nc1...  False             \n",
       "15  1cBAKABNR/5R3/9/P1P3P2/4PC2P/6p2/prp1p3p/2n3nc...  False             \n",
       "16  1c1AKABNR/5R3/4B4/P1P3P2/4PC2P/5np2/prp1p3p/2n...   True         K   \n",
       "17  RNBAK1BNR/4A4/1C5C1/P1P1P1P1P/9/9/p1p1p1p1p/1c...  False         N   \n",
       "18  RNBAK1BcR/4A4/1C4C2/P1P1P1P1P/9/9/p1p1p1p1p/1c...   True         K   \n",
       "19  RNBAK1BNR/4A4/1C5C1/P1P1P1P1P/9/9/p1p1p1p1p/1c...  False         N   \n",
       "\n",
       "    chapture_reward  win  \n",
       "0             -6.28    0  \n",
       "1             -4.92   -1  \n",
       "2             -6.28    0  \n",
       "3             -4.92   -1  \n",
       "4             -6.28    0  \n",
       "5             -4.92   -1  \n",
       "6             -6.28    0  \n",
       "7             -4.92   -1  \n",
       "8             -6.28    0  \n",
       "9              0.00    0  \n",
       "10             0.00    0  \n",
       "11             0.00    0  \n",
       "12           -25.41    0  \n",
       "13             0.00    0  \n",
       "14             0.00    0  \n",
       "15             0.00    0  \n",
       "16            -4.92   -1  \n",
       "17            -6.28    0  \n",
       "18            -4.92   -1  \n",
       "19            -6.28    0  "
      ]
     },
     "execution_count": 7,
     "metadata": {},
     "output_type": "execute_result"
    }
   ],
   "source": [
    "data.head(20)"
   ]
  },
  {
   "cell_type": "code",
   "execution_count": 8,
   "id": "f96dc14e",
   "metadata": {},
   "outputs": [
    {
     "data": {
      "text/plain": [
       "(24972, 1, 10052)"
      ]
     },
     "execution_count": 8,
     "metadata": {},
     "output_type": "execute_result"
    }
   ],
   "source": [
    "len(data[data[\"win\"] == 0]), len(data[data[\"win\"] == 1]), len(data[data[\"win\"] == -1])"
   ]
  },
  {
   "cell_type": "code",
   "execution_count": 44,
   "id": "99d66205",
   "metadata": {},
   "outputs": [],
   "source": [
    "# data2 = data.groupby([\"match_id\"], as_index = False).agg({\"action\": lambda x: \".\".join(x), \"chapture_reward\": sum})\n",
    "\n",
    "### hoho_todo: 如果出现重复动作，如何分配？\n",
    "data2 = data.groupby([\"match_id\"], as_index = False).agg({\"action\": lambda x: \",\".join(x.unique()), \"chapture_reward\": sum, \"win\": min})\n",
    "data2.rename(columns = {\"action\": \"action_sequence\", \"chapture_reward\": \"chapture_value\"}, inplace = True)"
   ]
  },
  {
   "cell_type": "code",
   "execution_count": 45,
   "id": "0c57ba73",
   "metadata": {},
   "outputs": [
    {
     "data": {
      "text/html": [
       "<div>\n",
       "<style scoped>\n",
       "    .dataframe tbody tr th:only-of-type {\n",
       "        vertical-align: middle;\n",
       "    }\n",
       "\n",
       "    .dataframe tbody tr th {\n",
       "        vertical-align: top;\n",
       "    }\n",
       "\n",
       "    .dataframe thead th {\n",
       "        text-align: right;\n",
       "    }\n",
       "</style>\n",
       "<table border=\"1\" class=\"dataframe\">\n",
       "  <thead>\n",
       "    <tr style=\"text-align: right;\">\n",
       "      <th></th>\n",
       "      <th>match_id</th>\n",
       "      <th>action_sequence</th>\n",
       "      <th>chapture_value</th>\n",
       "      <th>win</th>\n",
       "    </tr>\n",
       "  </thead>\n",
       "  <tbody>\n",
       "    <tr>\n",
       "      <th>0</th>\n",
       "      <td>0-0</td>\n",
       "      <td>f0e1,h2g2</td>\n",
       "      <td>-11.20</td>\n",
       "      <td>-1</td>\n",
       "    </tr>\n",
       "    <tr>\n",
       "      <th>1</th>\n",
       "      <td>0-1</td>\n",
       "      <td>f0e1,h2g2</td>\n",
       "      <td>-11.20</td>\n",
       "      <td>-1</td>\n",
       "    </tr>\n",
       "    <tr>\n",
       "      <th>2</th>\n",
       "      <td>0-10</td>\n",
       "      <td>e0e1,e1f1,i0i2,h2g2,a0a1,b2b5,i2i0,b5h5</td>\n",
       "      <td>-39.07</td>\n",
       "      <td>-1</td>\n",
       "    </tr>\n",
       "    <tr>\n",
       "      <th>3</th>\n",
       "      <td>0-11</td>\n",
       "      <td>f0e1,h2g2</td>\n",
       "      <td>-11.20</td>\n",
       "      <td>-1</td>\n",
       "    </tr>\n",
       "    <tr>\n",
       "      <th>4</th>\n",
       "      <td>0-12</td>\n",
       "      <td>e0e1,b2b4,h2e2,e2g2,c0a2,b0d1,e1e2,a2c4,e2f2,g...</td>\n",
       "      <td>-101.55</td>\n",
       "      <td>-1</td>\n",
       "    </tr>\n",
       "    <tr>\n",
       "      <th>...</th>\n",
       "      <td>...</td>\n",
       "      <td>...</td>\n",
       "      <td>...</td>\n",
       "      <td>...</td>\n",
       "    </tr>\n",
       "    <tr>\n",
       "      <th>10049</th>\n",
       "      <td>99-5</td>\n",
       "      <td>f0e1,h2g2</td>\n",
       "      <td>-11.20</td>\n",
       "      <td>-1</td>\n",
       "    </tr>\n",
       "    <tr>\n",
       "      <th>10050</th>\n",
       "      <td>99-6</td>\n",
       "      <td>e0e1,h2d2,d2d5,b2g2,g0i2,a3a4,a4a5,a0a5,b0c2,g...</td>\n",
       "      <td>-99.55</td>\n",
       "      <td>-1</td>\n",
       "    </tr>\n",
       "    <tr>\n",
       "      <th>10051</th>\n",
       "      <td>99-7</td>\n",
       "      <td>f0e1,h2g2</td>\n",
       "      <td>-11.20</td>\n",
       "      <td>-1</td>\n",
       "    </tr>\n",
       "    <tr>\n",
       "      <th>10052</th>\n",
       "      <td>99-8</td>\n",
       "      <td>f0e1,h2g2</td>\n",
       "      <td>-11.20</td>\n",
       "      <td>-1</td>\n",
       "    </tr>\n",
       "    <tr>\n",
       "      <th>10053</th>\n",
       "      <td>99-9</td>\n",
       "      <td>f0e1,h2h5</td>\n",
       "      <td>-11.20</td>\n",
       "      <td>-1</td>\n",
       "    </tr>\n",
       "  </tbody>\n",
       "</table>\n",
       "<p>10054 rows × 4 columns</p>\n",
       "</div>"
      ],
      "text/plain": [
       "      match_id                                    action_sequence  \\\n",
       "0          0-0                                          f0e1,h2g2   \n",
       "1          0-1                                          f0e1,h2g2   \n",
       "2         0-10            e0e1,e1f1,i0i2,h2g2,a0a1,b2b5,i2i0,b5h5   \n",
       "3         0-11                                          f0e1,h2g2   \n",
       "4         0-12  e0e1,b2b4,h2e2,e2g2,c0a2,b0d1,e1e2,a2c4,e2f2,g...   \n",
       "...        ...                                                ...   \n",
       "10049     99-5                                          f0e1,h2g2   \n",
       "10050     99-6  e0e1,h2d2,d2d5,b2g2,g0i2,a3a4,a4a5,a0a5,b0c2,g...   \n",
       "10051     99-7                                          f0e1,h2g2   \n",
       "10052     99-8                                          f0e1,h2g2   \n",
       "10053     99-9                                          f0e1,h2h5   \n",
       "\n",
       "       chapture_value  win  \n",
       "0              -11.20   -1  \n",
       "1              -11.20   -1  \n",
       "2              -39.07   -1  \n",
       "3              -11.20   -1  \n",
       "4             -101.55   -1  \n",
       "...               ...  ...  \n",
       "10049          -11.20   -1  \n",
       "10050          -99.55   -1  \n",
       "10051          -11.20   -1  \n",
       "10052          -11.20   -1  \n",
       "10053          -11.20   -1  \n",
       "\n",
       "[10054 rows x 4 columns]"
      ]
     },
     "execution_count": 45,
     "metadata": {},
     "output_type": "execute_result"
    }
   ],
   "source": [
    "data2"
   ]
  },
  {
   "cell_type": "code",
   "execution_count": 46,
   "id": "50c3e97e",
   "metadata": {},
   "outputs": [],
   "source": [
    "data3 = data2.groupby(\"action_sequence\", as_index = False).agg({\"chapture_value\": lambda x: x.mean(), \"win\": sum})\n",
    "data3.rename(columns = {\"win\": \"win_count\"}, inplace = True)"
   ]
  },
  {
   "cell_type": "code",
   "execution_count": 47,
   "id": "7bd28adf",
   "metadata": {},
   "outputs": [
    {
     "data": {
      "text/html": [
       "<div>\n",
       "<style scoped>\n",
       "    .dataframe tbody tr th:only-of-type {\n",
       "        vertical-align: middle;\n",
       "    }\n",
       "\n",
       "    .dataframe tbody tr th {\n",
       "        vertical-align: top;\n",
       "    }\n",
       "\n",
       "    .dataframe thead th {\n",
       "        text-align: right;\n",
       "    }\n",
       "</style>\n",
       "<table border=\"1\" class=\"dataframe\">\n",
       "  <thead>\n",
       "    <tr style=\"text-align: right;\">\n",
       "      <th></th>\n",
       "      <th>action_sequence</th>\n",
       "      <th>chapture_value</th>\n",
       "      <th>win_count</th>\n",
       "    </tr>\n",
       "  </thead>\n",
       "  <tbody>\n",
       "    <tr>\n",
       "      <th>0</th>\n",
       "      <td>a0a1,a1c1,b2b8,c1f1,f1f8,c3c4,g0i2,e3e4,c0a2</td>\n",
       "      <td>-96.17</td>\n",
       "      <td>-1</td>\n",
       "    </tr>\n",
       "    <tr>\n",
       "      <th>1</th>\n",
       "      <td>a0a1,b2b4,a1b1,h2d2,g0e2,b1f1,d0e1,e1f2</td>\n",
       "      <td>-37.61</td>\n",
       "      <td>-1</td>\n",
       "    </tr>\n",
       "    <tr>\n",
       "      <th>2</th>\n",
       "      <td>a0a1,b2b4,a1b1,i3i4,b1e1,e1d1,h2b2,g3g4</td>\n",
       "      <td>-37.61</td>\n",
       "      <td>-1</td>\n",
       "    </tr>\n",
       "    <tr>\n",
       "      <th>3</th>\n",
       "      <td>a0a1,b2b4,a1d1,d1a1,a1f1,h2h5,h0i2,f0e1,f1f6,f...</td>\n",
       "      <td>-105.37</td>\n",
       "      <td>-2</td>\n",
       "    </tr>\n",
       "    <tr>\n",
       "      <th>4</th>\n",
       "      <td>a0a1,b2b4,a1d1,d1a1,f0e1,h2h4,h0i2,c0a2</td>\n",
       "      <td>-62.02</td>\n",
       "      <td>-1</td>\n",
       "    </tr>\n",
       "    <tr>\n",
       "      <th>...</th>\n",
       "      <td>...</td>\n",
       "      <td>...</td>\n",
       "      <td>...</td>\n",
       "    </tr>\n",
       "    <tr>\n",
       "      <th>805</th>\n",
       "      <td>f0e1,g0e2,h2h7,b2b3,a0a1,a1a2</td>\n",
       "      <td>-49.45</td>\n",
       "      <td>-2</td>\n",
       "    </tr>\n",
       "    <tr>\n",
       "      <th>806</th>\n",
       "      <td>f0e1,g0e2,h2h7,b2b9,h7e7,a3a4,a0a2,a2a0,g3g4</td>\n",
       "      <td>-87.71</td>\n",
       "      <td>-1</td>\n",
       "    </tr>\n",
       "    <tr>\n",
       "      <th>807</th>\n",
       "      <td>f0e1,h2g2</td>\n",
       "      <td>-11.20</td>\n",
       "      <td>-7811</td>\n",
       "    </tr>\n",
       "    <tr>\n",
       "      <th>808</th>\n",
       "      <td>f0e1,h2h5</td>\n",
       "      <td>-11.20</td>\n",
       "      <td>-363</td>\n",
       "    </tr>\n",
       "    <tr>\n",
       "      <th>809</th>\n",
       "      <td>f0e1,h2h6</td>\n",
       "      <td>-11.20</td>\n",
       "      <td>-11</td>\n",
       "    </tr>\n",
       "  </tbody>\n",
       "</table>\n",
       "<p>810 rows × 3 columns</p>\n",
       "</div>"
      ],
      "text/plain": [
       "                                       action_sequence  chapture_value  \\\n",
       "0         a0a1,a1c1,b2b8,c1f1,f1f8,c3c4,g0i2,e3e4,c0a2          -96.17   \n",
       "1              a0a1,b2b4,a1b1,h2d2,g0e2,b1f1,d0e1,e1f2          -37.61   \n",
       "2              a0a1,b2b4,a1b1,i3i4,b1e1,e1d1,h2b2,g3g4          -37.61   \n",
       "3    a0a1,b2b4,a1d1,d1a1,a1f1,h2h5,h0i2,f0e1,f1f6,f...         -105.37   \n",
       "4              a0a1,b2b4,a1d1,d1a1,f0e1,h2h4,h0i2,c0a2          -62.02   \n",
       "..                                                 ...             ...   \n",
       "805                      f0e1,g0e2,h2h7,b2b3,a0a1,a1a2          -49.45   \n",
       "806       f0e1,g0e2,h2h7,b2b9,h7e7,a3a4,a0a2,a2a0,g3g4          -87.71   \n",
       "807                                          f0e1,h2g2          -11.20   \n",
       "808                                          f0e1,h2h5          -11.20   \n",
       "809                                          f0e1,h2h6          -11.20   \n",
       "\n",
       "     win_count  \n",
       "0           -1  \n",
       "1           -1  \n",
       "2           -1  \n",
       "3           -2  \n",
       "4           -1  \n",
       "..         ...  \n",
       "805         -2  \n",
       "806         -1  \n",
       "807      -7811  \n",
       "808       -363  \n",
       "809        -11  \n",
       "\n",
       "[810 rows x 3 columns]"
      ]
     },
     "execution_count": 47,
     "metadata": {},
     "output_type": "execute_result"
    }
   ],
   "source": [
    "data3"
   ]
  },
  {
   "cell_type": "code",
   "execution_count": 30,
   "id": "50f63a11",
   "metadata": {},
   "outputs": [
    {
     "data": {
      "text/plain": [
       "[['a0a1', 'a1c1', 'b2b8', 'c1f1', 'f1f8', 'c3c4', 'g0i2', 'e3e4', 'c0a2'],\n",
       " ['a0a1', 'b2b4', 'a1b1', 'h2d2', 'g0e2', 'b1f1', 'd0e1', 'e1f2'],\n",
       " ['a0a1', 'b2b4', 'a1b1', 'i3i4', 'b1e1', 'e1d1', 'h2b2', 'g3g4'],\n",
       " ['a0a1',\n",
       "  'b2b4',\n",
       "  'a1d1',\n",
       "  'd1a1',\n",
       "  'a1f1',\n",
       "  'h2h5',\n",
       "  'h0i2',\n",
       "  'f0e1',\n",
       "  'f1f6',\n",
       "  'f6f0',\n",
       "  'g0e2',\n",
       "  'i0i1',\n",
       "  'f0i0',\n",
       "  'i1g1',\n",
       "  'i3i4',\n",
       "  'e0f0',\n",
       "  'i2g1',\n",
       "  'e2g0',\n",
       "  'f0e0',\n",
       "  'i0i3',\n",
       "  'i3i0'],\n",
       " ['a0a1', 'b2b4', 'a1d1', 'd1a1', 'f0e1', 'h2h4', 'h0i2', 'c0a2'],\n",
       " ['a0a1', 'b2b4', 'a1d1', 'd1a1', 'f0e1', 'h2h4', 'i3i4', 'c0a2'],\n",
       " ['a0a1', 'b2b4', 'a1d1', 'd1a1', 'f0e1', 'h2h4', 'i3i4', 'i4i5'],\n",
       " ['a0a1',\n",
       "  'b2b4',\n",
       "  'a1d1',\n",
       "  'e0e1',\n",
       "  'd1b1',\n",
       "  'e1e2',\n",
       "  'b1b2',\n",
       "  'g3g4',\n",
       "  'b2b3',\n",
       "  'h2f2',\n",
       "  'b4b6',\n",
       "  'f2h2',\n",
       "  'e2d2'],\n",
       " ['a0a1', 'b2b4', 'a1d1', 'g0e2', 'd1b1', 'f0e1', 'i3i4', 'e2g0'],\n",
       " ['a0a1', 'b2b4', 'a1d1', 'h0g2', 'b4b1', 'b1b2', 'h2i2'],\n",
       " ['a0a1',\n",
       "  'b2b4',\n",
       "  'a1d1',\n",
       "  'h0g2',\n",
       "  'b4b1',\n",
       "  'b1b2',\n",
       "  'i0i2',\n",
       "  'd1g1',\n",
       "  'e0e1',\n",
       "  'e1e2',\n",
       "  'e2d2'],\n",
       " ['a0a1', 'b2b4', 'a1d1', 'h0g2', 'b4b1', 'b1b2', 'i0i2', 'g2h0'],\n",
       " ['a0a1', 'b2b4', 'b4g4', 'g0e2', 'e2c4', 'g4f4'],\n",
       " ['a0a1', 'b2b4', 'b4g4', 'i0i2', 'a1f1', 'c0a2', 'f0e1'],\n",
       " ['a0a1', 'b2b4', 'b4h4', 'h4h6', 'f0e1', 'h0g2', 'c0a2'],\n",
       " ['a0a1', 'b2b4', 'c0a2'],\n",
       " ['a0a1', 'b2b4', 'e3e4', 'b4b6', 'c0a2'],\n",
       " ['a0a1', 'b2b4', 'e3e4', 'h2b2', 'a1a2', 'c0e2', 'b2b1', 'b1b2', 'i0i2'],\n",
       " ['a0a1', 'b2b4', 'e3e4', 'h2b2', 'b2b1', 'a1a2', 'b1b0', 'i3i4', 'a2b2'],\n",
       " ['a0a1', 'b2b4', 'e3e4', 'h2b2', 'b2b1', 'a1a2', 'b1b0', 'i3i4', 'b0a0'],\n",
       " ['a0a1',\n",
       "  'b2b4',\n",
       "  'e3e4',\n",
       "  'h2b2',\n",
       "  'b2b1',\n",
       "  'a1a2',\n",
       "  'b1f1',\n",
       "  'f0e1',\n",
       "  'h0i2',\n",
       "  'a2b2',\n",
       "  'b2c2',\n",
       "  'e0d0',\n",
       "  'c2e2',\n",
       "  'f1f0'],\n",
       " ['a0a1',\n",
       "  'b2b4',\n",
       "  'e3e4',\n",
       "  'h2b2',\n",
       "  'b2b1',\n",
       "  'a1a2',\n",
       "  'b1f1',\n",
       "  'f0e1',\n",
       "  'h0i2',\n",
       "  'a2b2',\n",
       "  'f1g1',\n",
       "  'g1g6',\n",
       "  'b2b6',\n",
       "  'b6b3',\n",
       "  'g6c6',\n",
       "  'b3b0',\n",
       "  'e0d0',\n",
       "  'c6c4',\n",
       "  'c4b4',\n",
       "  'd0e0'],\n",
       " ['a0a1', 'b2b4', 'e3e4', 'h2b2', 'b2b1', 'b1b0', 'a1a2', 'i3i4', 'a2a1'],\n",
       " ['a0a1', 'b2b4', 'e3e4', 'h2b2', 'b2b1', 'b1b0', 'a1a2', 'i3i4', 'b0a0'],\n",
       " ['a0a1',\n",
       "  'b2b4',\n",
       "  'e3e4',\n",
       "  'h2b2',\n",
       "  'b2b1',\n",
       "  'b1b0',\n",
       "  'a1h1',\n",
       "  'f0e1',\n",
       "  'c0a2',\n",
       "  'b0a0',\n",
       "  'i0i2'],\n",
       " ['a0a1', 'b2b4', 'e3e4', 'h2b2', 'b2b1', 'b1b0', 'f0e1', 'e4e5', 'b0b8'],\n",
       " ['a0a1',\n",
       "  'b2b4',\n",
       "  'e3e4',\n",
       "  'h2b2',\n",
       "  'b2b1',\n",
       "  'b1b0',\n",
       "  'f0e1',\n",
       "  'h0g2',\n",
       "  'g2e3',\n",
       "  'e3d1',\n",
       "  'c0a2',\n",
       "  'a2c4',\n",
       "  'b0a0',\n",
       "  'a3a4',\n",
       "  'a0c0',\n",
       "  'e4e5',\n",
       "  'c3c4',\n",
       "  'c0a0',\n",
       "  'i0i1',\n",
       "  'c4c5',\n",
       "  'i3i4',\n",
       "  'g0i2',\n",
       "  'c5d5'],\n",
       " ['a0a1',\n",
       "  'b2b4',\n",
       "  'e3e4',\n",
       "  'h2b2',\n",
       "  'b2b1',\n",
       "  'b1b0',\n",
       "  'f0e1',\n",
       "  'i3i4',\n",
       "  'i0i2',\n",
       "  'i2a2',\n",
       "  'i4i5'],\n",
       " ['a0a1',\n",
       "  'b2b4',\n",
       "  'e3e4',\n",
       "  'h2b2',\n",
       "  'b2b1',\n",
       "  'b1b0',\n",
       "  'f0e1',\n",
       "  'i3i4',\n",
       "  'i0i2',\n",
       "  'i2i0',\n",
       "  'i4i5',\n",
       "  'e1f2'],\n",
       " ['a0a1',\n",
       "  'b2b4',\n",
       "  'e3e4',\n",
       "  'h2b2',\n",
       "  'b2b1',\n",
       "  'b1b0',\n",
       "  'f0e1',\n",
       "  'i3i4',\n",
       "  'i4i5',\n",
       "  'b0b3',\n",
       "  'g0e2',\n",
       "  'e2g0',\n",
       "  'h0i2',\n",
       "  'i2g1',\n",
       "  'e1d2',\n",
       "  'e4e5',\n",
       "  'i0i3',\n",
       "  'd0e1',\n",
       "  'e1f2',\n",
       "  'g0i2',\n",
       "  'g3g4',\n",
       "  'c0a2'],\n",
       " ['a0a1',\n",
       "  'b2b4',\n",
       "  'e3e4',\n",
       "  'h2b2',\n",
       "  'b2b1',\n",
       "  'b1b3',\n",
       "  'a1a2',\n",
       "  'a2h2',\n",
       "  'b3b2',\n",
       "  'i0i2',\n",
       "  'f0e1',\n",
       "  'e1f2',\n",
       "  'a3a4',\n",
       "  'i3i4'],\n",
       " ['a0a1',\n",
       "  'b2b4',\n",
       "  'e3e4',\n",
       "  'h2b2',\n",
       "  'b2b1',\n",
       "  'b1b3',\n",
       "  'a1a2',\n",
       "  'f0e1',\n",
       "  'b3b0',\n",
       "  'g3g4',\n",
       "  'a3a4',\n",
       "  'a2a1',\n",
       "  'i0i2',\n",
       "  'i2g2',\n",
       "  'b0b1',\n",
       "  'g0i2',\n",
       "  'i3i4',\n",
       "  'i4i5'],\n",
       " ['a0a1',\n",
       "  'b2b4',\n",
       "  'e3e4',\n",
       "  'h2b2',\n",
       "  'b2b1',\n",
       "  'b1b3',\n",
       "  'a1f1',\n",
       "  'a3a4',\n",
       "  'f0e1',\n",
       "  'b3b0',\n",
       "  'h0i2',\n",
       "  'c0a2',\n",
       "  'b0b8',\n",
       "  'a2c4',\n",
       "  'c4a2',\n",
       "  'e1f2'],\n",
       " ['a0a1',\n",
       "  'b2b4',\n",
       "  'e3e4',\n",
       "  'h2b2',\n",
       "  'b2b1',\n",
       "  'b1b3',\n",
       "  'a1f1',\n",
       "  'f0e1',\n",
       "  'c0a2',\n",
       "  'i0i2',\n",
       "  'e0f0',\n",
       "  'i2d2',\n",
       "  'd2i2',\n",
       "  'f0e0',\n",
       "  'b3e3',\n",
       "  'i2f2',\n",
       "  'f2g2',\n",
       "  'a2c4',\n",
       "  'c4a2'],\n",
       " ['a0a1', 'b2b4', 'e3e4', 'h2b2', 'b2b1', 'b1b3', 'f0e1', 'e4e5', 'i3i4'],\n",
       " ['a0a1', 'b2b4', 'e3e4', 'h2b2', 'b2b1', 'b1f1', 'd0e1', 'e0d0', 'i0i2'],\n",
       " ['a0a1',\n",
       "  'b2b4',\n",
       "  'e3e4',\n",
       "  'h2b2',\n",
       "  'b2b1',\n",
       "  'b1g1',\n",
       "  'f0e1',\n",
       "  'h0g2',\n",
       "  'i3i4',\n",
       "  'g2f0',\n",
       "  'c0a2'],\n",
       " ['a0a1', 'b2b4', 'e3e4', 'h2b2', 'b2b1', 'b1g1', 'g1c1', 'f0e1', 'c0e2'],\n",
       " ['a0a1',\n",
       "  'b2b4',\n",
       "  'e3e4',\n",
       "  'h2b2',\n",
       "  'b2b1',\n",
       "  'b1g1',\n",
       "  'g1g2',\n",
       "  'f0e1',\n",
       "  'g2a2',\n",
       "  'a2b2',\n",
       "  'e1f0',\n",
       "  'i3i4',\n",
       "  'a3a4',\n",
       "  'i4i5',\n",
       "  'e0d0'],\n",
       " ['a0a1',\n",
       "  'b2b4',\n",
       "  'e3e4',\n",
       "  'h2b2',\n",
       "  'b2b1',\n",
       "  'b1g1',\n",
       "  'g1g2',\n",
       "  'f0e1',\n",
       "  'g2a2',\n",
       "  'a2b2',\n",
       "  'g0e2',\n",
       "  'h0i2',\n",
       "  'a3a4',\n",
       "  'e1f2',\n",
       "  'f2e1',\n",
       "  'i0f0',\n",
       "  'e4e5'],\n",
       " ['a0a1',\n",
       "  'b2b4',\n",
       "  'e3e4',\n",
       "  'h2b2',\n",
       "  'b2b1',\n",
       "  'b1g1',\n",
       "  'g1g6',\n",
       "  'g0i2',\n",
       "  'g6c6',\n",
       "  'g3g4',\n",
       "  'g4g5',\n",
       "  'c0a2'],\n",
       " ['a0a1', 'b2b4', 'e3e4', 'h2b2', 'b2b1', 'b1g1', 'g1i1', 'i1c1', 'c0e2'],\n",
       " ['a0a1', 'b2b4', 'e3e4', 'h2b2', 'b2b1', 'b1g1', 'g1i1', 'i1h1', 'c0a2'],\n",
       " ['a0a1',\n",
       "  'b2b4',\n",
       "  'e3e4',\n",
       "  'h2b2',\n",
       "  'b2b1',\n",
       "  'f0e1',\n",
       "  'b1b0',\n",
       "  'h0g2',\n",
       "  'b0a0',\n",
       "  'e4e5',\n",
       "  'a0b0',\n",
       "  'b0b1',\n",
       "  'b1b2'],\n",
       " ['a0a1',\n",
       "  'b2b4',\n",
       "  'e3e4',\n",
       "  'h2b2',\n",
       "  'b2b1',\n",
       "  'f0e1',\n",
       "  'b1b2',\n",
       "  'b2g2',\n",
       "  'g2e2',\n",
       "  'h0i2',\n",
       "  'e0f0',\n",
       "  'e2d2',\n",
       "  'd2d1',\n",
       "  'a3a4',\n",
       "  'd1d2',\n",
       "  'd2f2'],\n",
       " ['a0a1',\n",
       "  'b2b4',\n",
       "  'e3e4',\n",
       "  'h2b2',\n",
       "  'b2b1',\n",
       "  'f0e1',\n",
       "  'b1b2',\n",
       "  'e1f2',\n",
       "  'i0i2',\n",
       "  'f2e1',\n",
       "  'i2g2'],\n",
       " ['a0a1',\n",
       "  'b2b4',\n",
       "  'e3e4',\n",
       "  'h2b2',\n",
       "  'b2b1',\n",
       "  'f0e1',\n",
       "  'b1b2',\n",
       "  'h0i2',\n",
       "  'b2b3',\n",
       "  'c0a2',\n",
       "  'a2c0',\n",
       "  'e4e5',\n",
       "  'g0e2',\n",
       "  'a2c4',\n",
       "  'e1f2'],\n",
       " ['a0a1', 'b2b4', 'e3e4', 'h2b2', 'b2b1', 'f0e1', 'b1b3', 'c0a2', 'e0f0'],\n",
       " ['a0a1', 'b2b4', 'e3e4', 'h2b2', 'b2b1', 'f0e1', 'b1b3', 'e4e5', 'b3b0'],\n",
       " ['a0a1', 'b2b4', 'e3e4', 'h2b2', 'b2b1', 'f0e1', 'b1b3', 'e4e5', 'b3b7'],\n",
       " ['a0a1',\n",
       "  'b2b4',\n",
       "  'e3e4',\n",
       "  'h2b2',\n",
       "  'b2b1',\n",
       "  'f0e1',\n",
       "  'b1b3',\n",
       "  'h0i2',\n",
       "  'b3b0',\n",
       "  'g0e2',\n",
       "  'e1f2',\n",
       "  'f2e1',\n",
       "  'i3i4',\n",
       "  'c0a2',\n",
       "  'a2c0',\n",
       "  'e0f0',\n",
       "  'a3a4',\n",
       "  'f0f1'],\n",
       " ['a0a1', 'b2b4', 'e3e4', 'h2b2', 'b2b1', 'f0e1', 'i3i4', 'c0e2', 'a1a2'],\n",
       " ['a0a1', 'b2b4', 'e3e4', 'h2b2', 'b2c2', 'a1a2', 'c0e2'],\n",
       " ['a0a1', 'b2b4', 'e3e4', 'h2b2', 'b2c2', 'c2b2', 'a1a2', 'a2d2'],\n",
       " ['a0a1',\n",
       "  'b2b4',\n",
       "  'e3e4',\n",
       "  'h2b2',\n",
       "  'b2c2',\n",
       "  'c2b2',\n",
       "  'a1a2',\n",
       "  'b2b1',\n",
       "  'a2a1',\n",
       "  'e0e1',\n",
       "  'h0i2',\n",
       "  'i3i4',\n",
       "  'e1f1',\n",
       "  'a3a4',\n",
       "  'i4i5'],\n",
       " ['a0a1',\n",
       "  'b2b4',\n",
       "  'e3e4',\n",
       "  'h2b2',\n",
       "  'b2c2',\n",
       "  'c2b2',\n",
       "  'a1a2',\n",
       "  'b2b1',\n",
       "  'b1f1',\n",
       "  'f0e1',\n",
       "  'a2a1'],\n",
       " ['a0a1',\n",
       "  'b2b4',\n",
       "  'e3e4',\n",
       "  'h2b2',\n",
       "  'b2c2',\n",
       "  'c2b2',\n",
       "  'a1a2',\n",
       "  'b2b1',\n",
       "  'b1f1',\n",
       "  'f1h1',\n",
       "  'a2b2',\n",
       "  'd0e1'],\n",
       " ['a0a1',\n",
       "  'b2b4',\n",
       "  'e3e4',\n",
       "  'h2b2',\n",
       "  'b2c2',\n",
       "  'c2b2',\n",
       "  'a1a2',\n",
       "  'b2b1',\n",
       "  'b1f1',\n",
       "  'f1h1',\n",
       "  'f0e1',\n",
       "  'c3c4'],\n",
       " ['a0a1', 'b2b4', 'e3e4', 'h2b2', 'b2c2', 'c2b2', 'a1a2', 'e0e1'],\n",
       " ['a0a1',\n",
       "  'b2b4',\n",
       "  'e3e4',\n",
       "  'h2b2',\n",
       "  'b2c2',\n",
       "  'c2b2',\n",
       "  'a1a2',\n",
       "  'g0e2',\n",
       "  'e0e1',\n",
       "  'a2a0',\n",
       "  'h0f1',\n",
       "  'c3c4'],\n",
       " ['a0a1', 'b2b4', 'e3e4', 'h2b2', 'b2c2', 'c2b2', 'a1a2', 'i0i1'],\n",
       " ['a0a1',\n",
       "  'b2b4',\n",
       "  'e3e4',\n",
       "  'h2b2',\n",
       "  'b2c2',\n",
       "  'c2b2',\n",
       "  'a1b1',\n",
       "  'c3c4',\n",
       "  'a3a4',\n",
       "  'f0e1'],\n",
       " ['a0a1',\n",
       "  'b2b4',\n",
       "  'e3e4',\n",
       "  'h2b2',\n",
       "  'b2c2',\n",
       "  'c2b2',\n",
       "  'a1b1',\n",
       "  'c3c4',\n",
       "  'a3a4',\n",
       "  'g0e2'],\n",
       " ['a0a1',\n",
       "  'b2b4',\n",
       "  'e3e4',\n",
       "  'h2b2',\n",
       "  'b2c2',\n",
       "  'c2b2',\n",
       "  'a1b1',\n",
       "  'c3c4',\n",
       "  'f0e1',\n",
       "  'a3a4'],\n",
       " ['a0a1',\n",
       "  'b2b4',\n",
       "  'e3e4',\n",
       "  'h2b2',\n",
       "  'b2c2',\n",
       "  'c2b2',\n",
       "  'a1b1',\n",
       "  'c3c4',\n",
       "  'f0e1',\n",
       "  'e4e5'],\n",
       " ['a0a1', 'b2b4', 'e3e4', 'h2b2', 'b2c2', 'c2b2', 'a1b1', 'e0e1'],\n",
       " ['a0a1',\n",
       "  'b2b4',\n",
       "  'e3e4',\n",
       "  'h2b2',\n",
       "  'b2c2',\n",
       "  'c2b2',\n",
       "  'a1b1',\n",
       "  'f0e1',\n",
       "  'a3a4',\n",
       "  'e1f2',\n",
       "  'f2e1',\n",
       "  'h0g2',\n",
       "  'e4e5',\n",
       "  'e1d2',\n",
       "  'e0e1'],\n",
       " ['a0a1',\n",
       "  'b2b4',\n",
       "  'e3e4',\n",
       "  'h2b2',\n",
       "  'b2c2',\n",
       "  'c2b2',\n",
       "  'a1b1',\n",
       "  'f0e1',\n",
       "  'a3a4',\n",
       "  'e4e5',\n",
       "  'e5d5',\n",
       "  'i3i4',\n",
       "  'e1d2',\n",
       "  'h0g2',\n",
       "  'g0e2',\n",
       "  'd0e1'],\n",
       " ['a0a1',\n",
       "  'b2b4',\n",
       "  'e3e4',\n",
       "  'h2b2',\n",
       "  'b2c2',\n",
       "  'c2b2',\n",
       "  'a1b1',\n",
       "  'f0e1',\n",
       "  'a3a4',\n",
       "  'e4e5',\n",
       "  'h0i2',\n",
       "  'c0e2'],\n",
       " ['a0a1',\n",
       "  'b2b4',\n",
       "  'e3e4',\n",
       "  'h2b2',\n",
       "  'b2c2',\n",
       "  'c2b2',\n",
       "  'a1b1',\n",
       "  'f0e1',\n",
       "  'a3a4',\n",
       "  'h0g2',\n",
       "  'g2h0',\n",
       "  'e4e5',\n",
       "  'g0e2',\n",
       "  'i3i4',\n",
       "  'e0e1'],\n",
       " ['a0a1',\n",
       "  'b2b4',\n",
       "  'e3e4',\n",
       "  'h2b2',\n",
       "  'b2c2',\n",
       "  'c2b2',\n",
       "  'a1b1',\n",
       "  'f0e1',\n",
       "  'e1d2',\n",
       "  'e0e1'],\n",
       " ['a0a1', 'b2b4', 'e3e4', 'h2b2', 'b2c2', 'c2b2', 'a1e1', 'c0e2'],\n",
       " ['a0a1',\n",
       "  'b2b4',\n",
       "  'e3e4',\n",
       "  'h2b2',\n",
       "  'b2c2',\n",
       "  'c2b2',\n",
       "  'a1f1',\n",
       "  'f1e1',\n",
       "  'e1a1',\n",
       "  'f0e1'],\n",
       " ['a0a1', 'b2b4', 'e3e4', 'h2b2', 'b2c2', 'c2b2', 'a1h1', 'e0e1'],\n",
       " ['a0a1',\n",
       "  'b2b4',\n",
       "  'e3e4',\n",
       "  'h2b2',\n",
       "  'b2c2',\n",
       "  'c2b2',\n",
       "  'a1h1',\n",
       "  'f0e1',\n",
       "  'e0f0',\n",
       "  'h1g1'],\n",
       " ['a0a1',\n",
       "  'b2b4',\n",
       "  'e3e4',\n",
       "  'h2b2',\n",
       "  'b2c2',\n",
       "  'c2b2',\n",
       "  'a1h1',\n",
       "  'f0e1',\n",
       "  'e0f0',\n",
       "  'h1h6'],\n",
       " ['a0a1', 'b2b4', 'e3e4', 'h2b2', 'b2c2', 'c2b2', 'a1h1', 'i0i1'],\n",
       " ['a0a1', 'b2b4', 'e3e4', 'h2b2', 'b2c2', 'c2b2', 'a1h1', 'i0i2'],\n",
       " ['a0a1', 'b2b4', 'e3e4', 'h2b2', 'b2c2', 'c2b2', 'c0a2'],\n",
       " ['a0a1', 'b2b4', 'e3e4', 'h2b2', 'b2c2', 'c2b2', 'e4e5', 'c0e2'],\n",
       " ['a0a1',\n",
       "  'b2b4',\n",
       "  'e3e4',\n",
       "  'h2b2',\n",
       "  'b2c2',\n",
       "  'c2b2',\n",
       "  'g0e2',\n",
       "  'a1f1',\n",
       "  'f1e1',\n",
       "  'e1b1',\n",
       "  'i3i4'],\n",
       " ['a0a1', 'b2b4', 'e3e4', 'h2b2', 'b2c2', 'c2b2', 'g3g4', 'c0a2'],\n",
       " ['a0a1', 'b2b4', 'e3e4', 'h2b2', 'b2c2', 'c2b2', 'h0g2', 'c0a2'],\n",
       " ['a0a1',\n",
       "  'b2b4',\n",
       "  'e3e4',\n",
       "  'h2b2',\n",
       "  'b2c2',\n",
       "  'c2d2',\n",
       "  'a1a2',\n",
       "  'e0e1',\n",
       "  'i0i2',\n",
       "  'd2b2',\n",
       "  'b2d2',\n",
       "  'e4e5',\n",
       "  'd2d5'],\n",
       " ['a0a1',\n",
       "  'b2b4',\n",
       "  'e3e4',\n",
       "  'h2b2',\n",
       "  'b2c2',\n",
       "  'c2d2',\n",
       "  'f0e1',\n",
       "  'a1a2',\n",
       "  'a2a1',\n",
       "  'd2f2',\n",
       "  'f2f8',\n",
       "  'f8e8',\n",
       "  'i3i4',\n",
       "  'h0g2',\n",
       "  'i0i2',\n",
       "  'e4e5'],\n",
       " ['a0a1',\n",
       "  'b2b4',\n",
       "  'e3e4',\n",
       "  'h2b2',\n",
       "  'b2c2',\n",
       "  'c2d2',\n",
       "  'f0e1',\n",
       "  'd2d5',\n",
       "  'i0i2',\n",
       "  'd5c5',\n",
       "  'i2d2'],\n",
       " ['a0a1',\n",
       "  'b2b4',\n",
       "  'e3e4',\n",
       "  'h2b2',\n",
       "  'b2c2',\n",
       "  'c2d2',\n",
       "  'f0e1',\n",
       "  'e4e5',\n",
       "  'd2d4',\n",
       "  'd4b4',\n",
       "  'e5d5',\n",
       "  'd5c5',\n",
       "  'h0g2',\n",
       "  'e1f2'],\n",
       " ['a0a1',\n",
       "  'b2b4',\n",
       "  'e3e4',\n",
       "  'h2b2',\n",
       "  'b2c2',\n",
       "  'c2d2',\n",
       "  'f0e1',\n",
       "  'e4e5',\n",
       "  'h0i2',\n",
       "  'e5d5',\n",
       "  'g0e2',\n",
       "  'e1f0'],\n",
       " ['a0a1',\n",
       "  'b2b4',\n",
       "  'e3e4',\n",
       "  'h2b2',\n",
       "  'b2c2',\n",
       "  'c2d2',\n",
       "  'f0e1',\n",
       "  'i0i2',\n",
       "  'd2a2',\n",
       "  'e1d2',\n",
       "  'a2b2'],\n",
       " ['a0a1',\n",
       "  'b2b4',\n",
       "  'e3e4',\n",
       "  'h2b2',\n",
       "  'b2c2',\n",
       "  'c2d2',\n",
       "  'f0e1',\n",
       "  'i0i2',\n",
       "  'd2a2',\n",
       "  'e1d2',\n",
       "  'i2h2'],\n",
       " ['a0a1',\n",
       "  'b2b4',\n",
       "  'e3e4',\n",
       "  'h2b2',\n",
       "  'b2c2',\n",
       "  'c2d2',\n",
       "  'f0e1',\n",
       "  'i0i2',\n",
       "  'd2b2',\n",
       "  'c0a2'],\n",
       " ['a0a1',\n",
       "  'b2b4',\n",
       "  'e3e4',\n",
       "  'h2b2',\n",
       "  'b2c2',\n",
       "  'c2d2',\n",
       "  'f0e1',\n",
       "  'i0i2',\n",
       "  'd2f2',\n",
       "  'i2i0',\n",
       "  'f2a2',\n",
       "  'e1f0',\n",
       "  'a3a4',\n",
       "  'i3i4',\n",
       "  'i4i5'],\n",
       " ['a0a1', 'b2b4', 'e3e4', 'h2b2', 'b2c2', 'c2f2', 'c0a2'],\n",
       " ['a0a1',\n",
       "  'b2b4',\n",
       "  'e3e4',\n",
       "  'h2b2',\n",
       "  'b2c2',\n",
       "  'e0e1',\n",
       "  'c2a2',\n",
       "  'a1a0',\n",
       "  'a0b0',\n",
       "  'a2i2',\n",
       "  'i2f2',\n",
       "  'f2f7',\n",
       "  'e1d1',\n",
       "  'c0a2',\n",
       "  'd1d0',\n",
       "  'a3a4',\n",
       "  'i3i4',\n",
       "  'a4a5',\n",
       "  'a2c0',\n",
       "  'd0d1',\n",
       "  'd1d2',\n",
       "  'd2e2',\n",
       "  'e2f2',\n",
       "  'f2f1'],\n",
       " ['a0a1', 'b2b4', 'e3e4', 'h2b2', 'b2d2', 'a1a2', 'd2b2', 'b2b1', 'c0e2'],\n",
       " ['a0a1',\n",
       "  'b2b4',\n",
       "  'e3e4',\n",
       "  'h2b2',\n",
       "  'b2d2',\n",
       "  'a1a2',\n",
       "  'd2b2',\n",
       "  'i0i2',\n",
       "  'b2b6',\n",
       "  'i2e2',\n",
       "  'f0e1'],\n",
       " ['a0a1',\n",
       "  'b2b4',\n",
       "  'e3e4',\n",
       "  'h2b2',\n",
       "  'b2d2',\n",
       "  'd2d5',\n",
       "  'd5e5',\n",
       "  'a1a2',\n",
       "  'f0e1',\n",
       "  'e0f0',\n",
       "  'i3i4',\n",
       "  'a2i2',\n",
       "  'i4i5',\n",
       "  'i2c2',\n",
       "  'i0i3'],\n",
       " ['a0a1',\n",
       "  'b2b4',\n",
       "  'e3e4',\n",
       "  'h2b2',\n",
       "  'b2d2',\n",
       "  'd2d5',\n",
       "  'd5e5',\n",
       "  'a1a2',\n",
       "  'i0i2',\n",
       "  'f0e1',\n",
       "  'a2b2',\n",
       "  'b2b7',\n",
       "  'i2c2',\n",
       "  'c0e2',\n",
       "  'e1f2'],\n",
       " ['a0a1',\n",
       "  'b2b4',\n",
       "  'e3e4',\n",
       "  'h2b2',\n",
       "  'b2d2',\n",
       "  'd2d5',\n",
       "  'd5e5',\n",
       "  'a1a2',\n",
       "  'i0i2',\n",
       "  'i2f2',\n",
       "  'a2a0',\n",
       "  'g0e2',\n",
       "  'f2f3',\n",
       "  'e0e1',\n",
       "  'f3f2',\n",
       "  'f2f1'],\n",
       " ['a0a1',\n",
       "  'b2b4',\n",
       "  'e3e4',\n",
       "  'h2b2',\n",
       "  'b2d2',\n",
       "  'd2d5',\n",
       "  'd5e5',\n",
       "  'e0e1',\n",
       "  'a1a2',\n",
       "  'a2i2',\n",
       "  'i2g2',\n",
       "  'c0a2',\n",
       "  'g2g1',\n",
       "  'h0f1',\n",
       "  'a2c0',\n",
       "  'a3a4',\n",
       "  'g1i1',\n",
       "  'f1h0'],\n",
       " ['a0a1',\n",
       "  'b2b4',\n",
       "  'e3e4',\n",
       "  'h2b2',\n",
       "  'g0e2',\n",
       "  'c0a2',\n",
       "  'f0e1',\n",
       "  'e2g4',\n",
       "  'a1d1',\n",
       "  'd1b1',\n",
       "  'h0f1',\n",
       "  'a2c4',\n",
       "  'a3a4'],\n",
       " ['a0a1',\n",
       "  'b2b4',\n",
       "  'e3e4',\n",
       "  'h2b2',\n",
       "  'g0e2',\n",
       "  'f0e1',\n",
       "  'a1a2',\n",
       "  'b2d2',\n",
       "  'i0i2',\n",
       "  'd2b2',\n",
       "  'i3i4',\n",
       "  'i2g2',\n",
       "  'g2i2'],\n",
       " ['a0a1',\n",
       "  'b2b4',\n",
       "  'e3e4',\n",
       "  'h2b2',\n",
       "  'g0e2',\n",
       "  'f0e1',\n",
       "  'a1c1',\n",
       "  'b2c2',\n",
       "  'e2g0',\n",
       "  'c2i2',\n",
       "  'i2a2',\n",
       "  'a2b2',\n",
       "  'b2b3'],\n",
       " ['a0a1',\n",
       "  'b2b4',\n",
       "  'e3e4',\n",
       "  'h2b2',\n",
       "  'g0e2',\n",
       "  'f0e1',\n",
       "  'a1d1',\n",
       "  'h0g2',\n",
       "  'b2b3',\n",
       "  'i0f0',\n",
       "  'f0h0',\n",
       "  'h0g0',\n",
       "  'c0a2',\n",
       "  'g0g1',\n",
       "  'a2c4',\n",
       "  'e0f0'],\n",
       " ['a0a1',\n",
       "  'b2b4',\n",
       "  'e3e4',\n",
       "  'h2b2',\n",
       "  'g0e2',\n",
       "  'f0e1',\n",
       "  'a1d1',\n",
       "  'h0g2',\n",
       "  'g2f0',\n",
       "  'i3i4',\n",
       "  'b2b3',\n",
       "  'b3b6',\n",
       "  'b6b1',\n",
       "  'c3c4',\n",
       "  'e2g0',\n",
       "  'f0e2',\n",
       "  'e2g1',\n",
       "  'g1h3',\n",
       "  'i0i6',\n",
       "  'a3a4',\n",
       "  'e1d2'],\n",
       " ['a0a1',\n",
       "  'b2b4',\n",
       "  'e3e4',\n",
       "  'h2b2',\n",
       "  'g0e2',\n",
       "  'f0e1',\n",
       "  'b2d2',\n",
       "  'a3a4',\n",
       "  'd2d6',\n",
       "  'd6g6',\n",
       "  'e4e5',\n",
       "  'g6h6',\n",
       "  'e2g4',\n",
       "  'i3i4'],\n",
       " ['a0a1',\n",
       "  'b2b4',\n",
       "  'e3e4',\n",
       "  'h2b2',\n",
       "  'g0e2',\n",
       "  'f0e1',\n",
       "  'h0f1',\n",
       "  'b2c2',\n",
       "  'a1a2',\n",
       "  'a2a0',\n",
       "  'e1d2',\n",
       "  'c0a2'],\n",
       " ['a0a1',\n",
       "  'b2b4',\n",
       "  'e3e4',\n",
       "  'h2b2',\n",
       "  'i3i4',\n",
       "  'c0e2',\n",
       "  'e2c0',\n",
       "  'f0e1',\n",
       "  'i0i3',\n",
       "  'a1a2',\n",
       "  'b2c2'],\n",
       " ['a0a1',\n",
       "  'b2b4',\n",
       "  'e3e4',\n",
       "  'h2b2',\n",
       "  'i3i4',\n",
       "  'c0e2',\n",
       "  'e2c0',\n",
       "  'f0e1',\n",
       "  'i0i3',\n",
       "  'i3i0',\n",
       "  'b2i2',\n",
       "  'i2h2',\n",
       "  'a1c1',\n",
       "  'c1b1',\n",
       "  'e4e5',\n",
       "  'e1f0',\n",
       "  'i0i2',\n",
       "  'e0e1',\n",
       "  'c3c4',\n",
       "  'e5d5'],\n",
       " ['a0a1',\n",
       "  'b2b4',\n",
       "  'e3e4',\n",
       "  'h2b2',\n",
       "  'i3i4',\n",
       "  'c0e2',\n",
       "  'e2c0',\n",
       "  'f0e1',\n",
       "  'i0i3',\n",
       "  'i3i0',\n",
       "  'b2i2',\n",
       "  'i2h2',\n",
       "  'a1c1',\n",
       "  'c1b1',\n",
       "  'e4e5',\n",
       "  'e5e6'],\n",
       " ['a0a1',\n",
       "  'b2b4',\n",
       "  'e3e4',\n",
       "  'h2b2',\n",
       "  'i3i4',\n",
       "  'c0e2',\n",
       "  'e2c0',\n",
       "  'f0e1',\n",
       "  'i4i5',\n",
       "  'b2c2',\n",
       "  'e2g4'],\n",
       " ['a0a1',\n",
       "  'b2b4',\n",
       "  'e3e4',\n",
       "  'h2b2',\n",
       "  'i3i4',\n",
       "  'c0e2',\n",
       "  'e2c0',\n",
       "  'f0e1',\n",
       "  'i4i5',\n",
       "  'e1d2',\n",
       "  'd2e1',\n",
       "  'b2c2',\n",
       "  'c2d2',\n",
       "  'h0g2',\n",
       "  'd2a2',\n",
       "  'e0f0',\n",
       "  'a3a4',\n",
       "  'a2h2'],\n",
       " ['a0a1',\n",
       "  'b2b4',\n",
       "  'e3e4',\n",
       "  'h2b2',\n",
       "  'i3i4',\n",
       "  'c0e2',\n",
       "  'e2c0',\n",
       "  'f0e1',\n",
       "  'i4i5',\n",
       "  'e1d2',\n",
       "  'd2e1',\n",
       "  'b2c2',\n",
       "  'c2d2',\n",
       "  'h0g2',\n",
       "  'd2d6',\n",
       "  'e1f2',\n",
       "  'i0i3',\n",
       "  'c0a2'],\n",
       " ['a0a1',\n",
       "  'b2b4',\n",
       "  'e3e4',\n",
       "  'h2b2',\n",
       "  'i3i4',\n",
       "  'c0e2',\n",
       "  'e2c0',\n",
       "  'f0e1',\n",
       "  'i4i5',\n",
       "  'e1d2',\n",
       "  'd2e1',\n",
       "  'b2c2',\n",
       "  'c2d2',\n",
       "  'h0g2',\n",
       "  'd2d6',\n",
       "  'e1f2',\n",
       "  'i0i3',\n",
       "  'i3i1'],\n",
       " ['a0a1', 'b2b4', 'e3e4', 'h2g2', 'c0a2'],\n",
       " ['a0a1', 'b2b4', 'e3e4', 'h2h4', 'a1a2', 'c0e2'],\n",
       " ['a0a1', 'b2b4', 'e3e4', 'h2h4', 'a1a2', 'd0e1'],\n",
       " ['a0a1', 'b2b4', 'e3e4', 'h2h4', 'a1c1', 'c0a2'],\n",
       " ['a0a1', 'b2b4', 'e3e4', 'h2h4', 'a1c1', 'c0e2'],\n",
       " ['a0a1',\n",
       "  'b2b4',\n",
       "  'e3e4',\n",
       "  'h2h4',\n",
       "  'b4b6',\n",
       "  'a1a2',\n",
       "  'f0e1',\n",
       "  'h4g4',\n",
       "  'g4i4',\n",
       "  'i0i2',\n",
       "  'c0e2'],\n",
       " ['a0a1', 'b2b4', 'e3e4', 'h2h4', 'b4b6', 'a1c1', 'd0e1'],\n",
       " ['a0a1',\n",
       "  'b2b4',\n",
       "  'e3e4',\n",
       "  'h2h4',\n",
       "  'b4b6',\n",
       "  'h4f4',\n",
       "  'a1a2',\n",
       "  'a2h2',\n",
       "  'f4f3',\n",
       "  'c0a2'],\n",
       " ['a0a1',\n",
       "  'b2b4',\n",
       "  'e3e4',\n",
       "  'h2h4',\n",
       "  'b4b6',\n",
       "  'h4f4',\n",
       "  'a1a2',\n",
       "  'h0i2',\n",
       "  'a2a1',\n",
       "  'i2g1',\n",
       "  'a1a0',\n",
       "  'f4f1',\n",
       "  'a0a2',\n",
       "  'a2c2'],\n",
       " ['a0a1',\n",
       "  'b2b4',\n",
       "  'e3e4',\n",
       "  'h2h4',\n",
       "  'b4b6',\n",
       "  'h4f4',\n",
       "  'a1a2',\n",
       "  'h0i2',\n",
       "  'a2a1',\n",
       "  'i2g1',\n",
       "  'a1a0',\n",
       "  'f4g4',\n",
       "  'a0b0',\n",
       "  'g4f4'],\n",
       " ['a0a1',\n",
       "  'b2b4',\n",
       "  'e3e4',\n",
       "  'h2h4',\n",
       "  'b4b6',\n",
       "  'h4f4',\n",
       "  'a1a2',\n",
       "  'h0i2',\n",
       "  'a2a1',\n",
       "  'i2g1',\n",
       "  'f0e1'],\n",
       " ['a0a1',\n",
       "  'b2b4',\n",
       "  'e3e4',\n",
       "  'h2h4',\n",
       "  'b4b6',\n",
       "  'h4f4',\n",
       "  'a1a2',\n",
       "  'h0i2',\n",
       "  'f4f5',\n",
       "  'e0e1',\n",
       "  'f5f6',\n",
       "  'e1e2',\n",
       "  'i2h0'],\n",
       " ['a0a1',\n",
       "  'b2b4',\n",
       "  'e3e4',\n",
       "  'h2h4',\n",
       "  'b4b6',\n",
       "  'h4f4',\n",
       "  'a1a2',\n",
       "  'h0i2',\n",
       "  'i2g1',\n",
       "  'e4e5',\n",
       "  'f0e1',\n",
       "  'c0e2'],\n",
       " ['a0a1',\n",
       "  'b2b4',\n",
       "  'e3e4',\n",
       "  'h2h4',\n",
       "  'b4b6',\n",
       "  'h4f4',\n",
       "  'a1a2',\n",
       "  'h0i2',\n",
       "  'i2g1',\n",
       "  'i0i3',\n",
       "  'f0e1',\n",
       "  'a2i2',\n",
       "  'i2f2',\n",
       "  'f2f3',\n",
       "  'e1f0',\n",
       "  'f3e3',\n",
       "  'c0a2'],\n",
       " ['a0a1',\n",
       "  'b2b4',\n",
       "  'e3e4',\n",
       "  'h2h4',\n",
       "  'b4b6',\n",
       "  'h4f4',\n",
       "  'a1a2',\n",
       "  'h0i2',\n",
       "  'i2g1',\n",
       "  'i0i3',\n",
       "  'f0e1',\n",
       "  'f4h4',\n",
       "  'a2a1',\n",
       "  'c0e2'],\n",
       " ['a0a1', 'b2b4', 'e3e4', 'h2h4', 'b4b6', 'h4f4', 'a1c1', 'c0a2'],\n",
       " ['a0a1',\n",
       "  'b2b4',\n",
       "  'e3e4',\n",
       "  'h2h4',\n",
       "  'b4b6',\n",
       "  'h4f4',\n",
       "  'a1c1',\n",
       "  'g0i2',\n",
       "  'c1d1',\n",
       "  'h0f1',\n",
       "  'd1d9',\n",
       "  'f1d2',\n",
       "  'i0g0',\n",
       "  'c0e2'],\n",
       " ['a0a1',\n",
       "  'b2b4',\n",
       "  'e3e4',\n",
       "  'h2h4',\n",
       "  'b4b6',\n",
       "  'h4f4',\n",
       "  'a1c1',\n",
       "  'g0i2',\n",
       "  'c1g1',\n",
       "  'f0e1',\n",
       "  'i3i4',\n",
       "  'g1f1',\n",
       "  'f1g1'],\n",
       " ['a0a1',\n",
       "  'b2b4',\n",
       "  'e3e4',\n",
       "  'h2h4',\n",
       "  'b4b6',\n",
       "  'h4f4',\n",
       "  'a1d1',\n",
       "  'd1b1',\n",
       "  'f4f3',\n",
       "  'c0a2'],\n",
       " ['a0a1',\n",
       "  'b2b4',\n",
       "  'e3e4',\n",
       "  'h2h4',\n",
       "  'b4b6',\n",
       "  'h4f4',\n",
       "  'a1d1',\n",
       "  'd1b1',\n",
       "  'f4f3',\n",
       "  'f0e1',\n",
       "  'f3f7'],\n",
       " ['a0a1',\n",
       "  'b2b4',\n",
       "  'e3e4',\n",
       "  'h2h4',\n",
       "  'b4b6',\n",
       "  'h4f4',\n",
       "  'a1d1',\n",
       "  'd1b1',\n",
       "  'f4f8',\n",
       "  'f8f4',\n",
       "  'f0e1'],\n",
       " ['a0a1',\n",
       "  'b2b4',\n",
       "  'e3e4',\n",
       "  'h2h4',\n",
       "  'b4b6',\n",
       "  'h4f4',\n",
       "  'a1d1',\n",
       "  'd1b1',\n",
       "  'f4f8',\n",
       "  'f8i8',\n",
       "  'c0e2'],\n",
       " ['a0a1',\n",
       "  'b2b4',\n",
       "  'e3e4',\n",
       "  'h2h4',\n",
       "  'b4b6',\n",
       "  'h4f4',\n",
       "  'a1d1',\n",
       "  'd1b1',\n",
       "  'h0i2',\n",
       "  'f0e1',\n",
       "  'i2h0',\n",
       "  'g3g4',\n",
       "  'i3i4',\n",
       "  'c0a2'],\n",
       " ['a0a1',\n",
       "  'b2b4',\n",
       "  'e3e4',\n",
       "  'h2h4',\n",
       "  'b4b6',\n",
       "  'h4f4',\n",
       "  'a1d1',\n",
       "  'd1b1',\n",
       "  'h0i2',\n",
       "  'g3g4',\n",
       "  'd0e1'],\n",
       " ['a0a1',\n",
       "  'b2b4',\n",
       "  'e3e4',\n",
       "  'h2h4',\n",
       "  'b4b6',\n",
       "  'h4f4',\n",
       "  'a1d1',\n",
       "  'd1b1',\n",
       "  'h0i2',\n",
       "  'i2h0',\n",
       "  'c0a2'],\n",
       " ['a0a1', 'b2b4', 'e3e4', 'h2h4', 'b4b6', 'h4f4', 'a1d1', 'i3i4', 'c0a2'],\n",
       " ['a0a1',\n",
       "  'b2b4',\n",
       "  'e3e4',\n",
       "  'h2h4',\n",
       "  'b4b6',\n",
       "  'h4f4',\n",
       "  'i3i4',\n",
       "  'a1a2',\n",
       "  'f4f5',\n",
       "  'a2i2',\n",
       "  'e4e5',\n",
       "  'c3c4'],\n",
       " ['a0a1',\n",
       "  'b2b4',\n",
       "  'e3e4',\n",
       "  'h2h4',\n",
       "  'b4b6',\n",
       "  'h4f4',\n",
       "  'i3i4',\n",
       "  'a1a2',\n",
       "  'f4f5',\n",
       "  'a2i2',\n",
       "  'e4e5',\n",
       "  'g0i2'],\n",
       " ['a0a1',\n",
       "  'b2b4',\n",
       "  'e3e4',\n",
       "  'h2h4',\n",
       "  'b4b6',\n",
       "  'h4f4',\n",
       "  'i3i4',\n",
       "  'a1a2',\n",
       "  'f4f5',\n",
       "  'a2i2',\n",
       "  'f5e5',\n",
       "  'g0i2',\n",
       "  'h0g2',\n",
       "  'i4i5',\n",
       "  'i0g0',\n",
       "  'i5i6',\n",
       "  'g0g2',\n",
       "  'f0e1',\n",
       "  'c0e2'],\n",
       " ['a0a1',\n",
       "  'b2b4',\n",
       "  'e3e4',\n",
       "  'h2h4',\n",
       "  'b4b6',\n",
       "  'h4f4',\n",
       "  'i3i4',\n",
       "  'a1c1',\n",
       "  'c1b1',\n",
       "  'f0e1',\n",
       "  'f4f1',\n",
       "  'f1h1'],\n",
       " ['a0a1',\n",
       "  'b2b4',\n",
       "  'e3e4',\n",
       "  'h2h4',\n",
       "  'b4b6',\n",
       "  'h4f4',\n",
       "  'i3i4',\n",
       "  'a1c1',\n",
       "  'c1b1',\n",
       "  'f0e1',\n",
       "  'g0e2',\n",
       "  'e2g0'],\n",
       " ['a0a1',\n",
       "  'b2b4',\n",
       "  'e3e4',\n",
       "  'h2h4',\n",
       "  'b4b6',\n",
       "  'h4f4',\n",
       "  'i3i4',\n",
       "  'a1c1',\n",
       "  'c1g1',\n",
       "  'c0e2'],\n",
       " ['a0a1', 'b2b4', 'e3e4', 'h2h4', 'b4b6', 'h4f4', 'i3i4', 'a1f1', 'c0e2'],\n",
       " ['a0a1', 'b2b4', 'e3e4', 'h2h4', 'b4b6', 'h4f4', 'i3i4', 'e4e5', 'c0e2'],\n",
       " ['a0a1', 'b2b4', 'e3e4', 'h2h4', 'b4b6', 'h4f4', 'i3i4', 'f4f1', 'd0e1'],\n",
       " ['a0a1',\n",
       "  'b2b4',\n",
       "  'e3e4',\n",
       "  'h2h4',\n",
       "  'b4b6',\n",
       "  'h4f4',\n",
       "  'i3i4',\n",
       "  'f4f2',\n",
       "  'a1i1',\n",
       "  'e4e5',\n",
       "  'f0e1',\n",
       "  'g0i2',\n",
       "  'i1f1',\n",
       "  'e1f2',\n",
       "  'i2g0',\n",
       "  'e0e1',\n",
       "  'i0i3',\n",
       "  'i3i1'],\n",
       " ['a0a1', 'b2b4', 'e3e4', 'h2h4', 'b4b6', 'h4f4', 'i3i4', 'i4i5', 'c0a2'],\n",
       " ['a0a1', 'b2b4', 'e3e4', 'h2h4', 'b4b6', 'h4h3', 'd0e1'],\n",
       " ['a0a1', 'b2b4', 'e3e4', 'h2h4', 'g0e2', 'd0e1'],\n",
       " ['a0a1', 'b2b4', 'e3e4', 'h2h4', 'i0i2', 'b4b6', 'f0e1'],\n",
       " ['a0a1', 'b2b4', 'e3e4', 'h2h4', 'i0i2', 'f0e1'],\n",
       " ['a0a1', 'b2b4', 'e3e4', 'h2h4', 'i0i2', 'h4g4', 'g4g7', 'g0e2', 'e0d0'],\n",
       " ['a0a1', 'b2b4', 'e3e4', 'h2h4', 'i0i2', 'h4g4', 'i2d2', 'i3i4', 'b4b6'],\n",
       " ['a0a1',\n",
       "  'b2b4',\n",
       "  'e3e4',\n",
       "  'h2h4',\n",
       "  'i0i2',\n",
       "  'i2d2',\n",
       "  'a1a0',\n",
       "  'a0b0',\n",
       "  'd2a2',\n",
       "  'a2b2',\n",
       "  'b2b3'],\n",
       " ['a0a1', 'b2b4', 'e3e4', 'h2h4', 'i0i2', 'i2d2', 'a1a0', 'a0b0', 'f0e1'],\n",
       " ['a0a1',\n",
       "  'b2b4',\n",
       "  'e3e4',\n",
       "  'h2h4',\n",
       "  'i0i2',\n",
       "  'i2d2',\n",
       "  'a1a0',\n",
       "  'a0b0',\n",
       "  'h4f4',\n",
       "  'd2a2',\n",
       "  'f0e1'],\n",
       " ['a0a1', 'b2b4', 'e3e4', 'h2h4', 'i0i2', 'i2d2', 'f0e1'],\n",
       " ['a0a1', 'b2b4', 'e3e4', 'h2h5', 'd0e1'],\n",
       " ['a0a1', 'b2b4', 'g0e2', 'h0i2', 'a1c1', 'f0e1', 'i0g0', 'e1f2', 'i3i4'],\n",
       " ['a0a1',\n",
       "  'b2b4',\n",
       "  'h2f2',\n",
       "  'i0i2',\n",
       "  'f0e1',\n",
       "  'f2f8',\n",
       "  'f8g8',\n",
       "  'g8h8',\n",
       "  'g0e2',\n",
       "  'i2g2',\n",
       "  'g2g1'],\n",
       " ['a0a1',\n",
       "  'b2b4',\n",
       "  'h2f2',\n",
       "  'i0i2',\n",
       "  'f0e1',\n",
       "  'g0e2',\n",
       "  'f2f1',\n",
       "  'a1a0',\n",
       "  'f1f2',\n",
       "  'e0d0'],\n",
       " ['a0a1',\n",
       "  'b2b4',\n",
       "  'i3i4',\n",
       "  'b4b5',\n",
       "  'h2h4',\n",
       "  'h4f4',\n",
       "  'a1c1',\n",
       "  'c1a1',\n",
       "  'f0e1',\n",
       "  'a1b1',\n",
       "  'b1b3',\n",
       "  'b3b7',\n",
       "  'b7b1'],\n",
       " ['a0a1',\n",
       "  'b2b4',\n",
       "  'i3i4',\n",
       "  'b4b5',\n",
       "  'h2h4',\n",
       "  'h4f4',\n",
       "  'a1c1',\n",
       "  'c1a1',\n",
       "  'f0e1',\n",
       "  'a3a4',\n",
       "  'a1a3',\n",
       "  'g0e2',\n",
       "  'e1f2',\n",
       "  'e2g0'],\n",
       " ['a0a1',\n",
       "  'b2b4',\n",
       "  'i3i4',\n",
       "  'b4b5',\n",
       "  'h2h4',\n",
       "  'h4f4',\n",
       "  'a1c1',\n",
       "  'c1a1',\n",
       "  'f0e1',\n",
       "  'i0i3',\n",
       "  'g0e2',\n",
       "  'a3a4',\n",
       "  'i3i1',\n",
       "  'a1a3',\n",
       "  'e3e4'],\n",
       " ['a0a1',\n",
       "  'b2b4',\n",
       "  'i3i4',\n",
       "  'b4b5',\n",
       "  'h2h4',\n",
       "  'h4f4',\n",
       "  'a1d1',\n",
       "  'd1f1',\n",
       "  'f0e1',\n",
       "  'e3e4',\n",
       "  'i4i5'],\n",
       " ['a0a1', 'b2b4', 'i3i4', 'b4b5', 'h2h5', 'f0e1', 'a1a2', 'a2i2'],\n",
       " ['a0a1',\n",
       "  'b2b4',\n",
       "  'i3i4',\n",
       "  'b4b6',\n",
       "  'a1a2',\n",
       "  'a2b2',\n",
       "  'i0i3',\n",
       "  'f0e1',\n",
       "  'g0e2',\n",
       "  'e1f2'],\n",
       " ['a0a1',\n",
       "  'b2b4',\n",
       "  'i3i4',\n",
       "  'b4b6',\n",
       "  'a1a2',\n",
       "  'h2h5',\n",
       "  'e3e4',\n",
       "  'a2e2',\n",
       "  'e4e5',\n",
       "  'i0i1',\n",
       "  'i1b1',\n",
       "  'e2e1',\n",
       "  'f0e1',\n",
       "  'e0f0',\n",
       "  'b1d1'],\n",
       " ['a0a1',\n",
       "  'b2b4',\n",
       "  'i3i4',\n",
       "  'b4b6',\n",
       "  'b6b1',\n",
       "  'a1a2',\n",
       "  'b1e1',\n",
       "  'e1d1',\n",
       "  'd1g1',\n",
       "  'i0i3'],\n",
       " ['a0a1',\n",
       "  'b2b4',\n",
       "  'i3i4',\n",
       "  'b4b6',\n",
       "  'b6b1',\n",
       "  'b1g1',\n",
       "  'g1g6',\n",
       "  'g6g9',\n",
       "  'e3e4',\n",
       "  'a1i1'],\n",
       " ['a0a1',\n",
       "  'b2b4',\n",
       "  'i3i4',\n",
       "  'b4b9',\n",
       "  'a1a2',\n",
       "  'f0e1',\n",
       "  'a2b2',\n",
       "  'h2h5',\n",
       "  'h5h2',\n",
       "  'h0g2',\n",
       "  'i0i3',\n",
       "  'e1f2'],\n",
       " ['a0a1', 'b2b4', 'i3i4', 'b4b9', 'a1c1', 'c1c2', 'f0e1', 'e1d2', 'd2e1'],\n",
       " ['a0a1', 'b2b4', 'i3i4', 'b4b9', 'a1c1', 'c1c2', 'g0e2', 'd0e1'],\n",
       " ['a0a1', 'b2b4', 'i3i4', 'h2h4', 'a1c1', 'c1d1', 'h0i2', 'd1f1', 'c0e2'],\n",
       " ['a0a1',\n",
       "  'b2b4',\n",
       "  'i3i4',\n",
       "  'h2h4',\n",
       "  'a1c1',\n",
       "  'h4f4',\n",
       "  'c1g1',\n",
       "  'g1g2',\n",
       "  'f0e1',\n",
       "  'i0i2',\n",
       "  'g2h2',\n",
       "  'e1f2',\n",
       "  'i2i1',\n",
       "  'i1i0'],\n",
       " ['a0a1', 'f0e1', 'a1a0', 'i0i2', 'b2b1'],\n",
       " ['a0a2', 'c0e2'],\n",
       " ['a0a2', 'd0e1'],\n",
       " ['a0a2', 'g0e2', 'b2b3', 'h0i2', 'h2h6', 'i2g1', 'e2c4', 'h6h3'],\n",
       " ['a0a2',\n",
       "  'g0i2',\n",
       "  'h2g2',\n",
       "  'e0e1',\n",
       "  'b2e2',\n",
       "  'a2a0',\n",
       "  'e2f2',\n",
       "  'c0e2',\n",
       "  'i2g0',\n",
       "  'f2f7',\n",
       "  'e2c4',\n",
       "  'e1e0'],\n",
       " ['a0a2',\n",
       "  'h0g2',\n",
       "  'f0e1',\n",
       "  'g0i2',\n",
       "  'h2h4',\n",
       "  'g2h0',\n",
       "  'b2c2',\n",
       "  'a2b2',\n",
       "  'b2b3',\n",
       "  'b3b2',\n",
       "  'i3i4',\n",
       "  'a3a4',\n",
       "  'e1f0'],\n",
       " ['a0a2',\n",
       "  'h0g2',\n",
       "  'g0e2',\n",
       "  'i0i1',\n",
       "  'i1h1',\n",
       "  'e2g0',\n",
       "  'a2a0',\n",
       "  'a0b0',\n",
       "  'h2h6',\n",
       "  'f0e1',\n",
       "  'b2a2',\n",
       "  'c0e2',\n",
       "  'g2i1',\n",
       "  'e2g4'],\n",
       " ['a0a2', 'h0g2', 'h2h3', 'b2b3', 'd0e1'],\n",
       " ['a0a2', 'h0g2', 'h2h3', 'g0i2', 'h3h1', 'e0d0', 'b2c2', 'd0d1'],\n",
       " ['a0a2', 'h0g2', 'h2h3', 'g2e1', 'c0e2'],\n",
       " ['a0a2', 'h0g2', 'h2h6', 'b2b3', 'd0e1'],\n",
       " ['a0a2', 'h0g2', 'h2h6', 'b2b4', 'b4b6', 'f0e1', 'c0e2'],\n",
       " ['a0a2', 'h0g2', 'h2h6', 'b2b4', 'b4b8', 'd0e1'],\n",
       " ['a0a2',\n",
       "  'h0g2',\n",
       "  'h2h6',\n",
       "  'b2b4',\n",
       "  'b4e4',\n",
       "  'h6h5',\n",
       "  'e4f4',\n",
       "  'e0e1',\n",
       "  'f4a4',\n",
       "  'g0i2',\n",
       "  'a2e2',\n",
       "  'e2d2'],\n",
       " ['a0a2',\n",
       "  'h0g2',\n",
       "  'h2h6',\n",
       "  'b2b4',\n",
       "  'b4e4',\n",
       "  'h6h5',\n",
       "  'g0e2',\n",
       "  'f0e1',\n",
       "  'e4c4',\n",
       "  'a2a0',\n",
       "  'g2h4'],\n",
       " ['a0a2',\n",
       "  'h0g2',\n",
       "  'h2h6',\n",
       "  'b2b4',\n",
       "  'b4e4',\n",
       "  'h6h5',\n",
       "  'g0e2',\n",
       "  'f0e1',\n",
       "  'e4c4',\n",
       "  'g2f0',\n",
       "  'a2b2'],\n",
       " ['a0a2',\n",
       "  'h0g2',\n",
       "  'h2h6',\n",
       "  'b2b4',\n",
       "  'b4e4',\n",
       "  'h6h5',\n",
       "  'h5h2',\n",
       "  'e4g4',\n",
       "  'g0e2',\n",
       "  'e2g0',\n",
       "  'e0e1',\n",
       "  'i0h0',\n",
       "  'e1e0'],\n",
       " ['a0a2',\n",
       "  'h0g2',\n",
       "  'h2h6',\n",
       "  'b2b4',\n",
       "  'b4e4',\n",
       "  'h6h5',\n",
       "  'h5h2',\n",
       "  'e4g4',\n",
       "  'g0e2',\n",
       "  'e2g0',\n",
       "  'i0i2',\n",
       "  'e2c4',\n",
       "  'd0e1',\n",
       "  'c4a2'],\n",
       " ['a0a2',\n",
       "  'h0g2',\n",
       "  'h2h6',\n",
       "  'b2b4',\n",
       "  'b4e4',\n",
       "  'h6h5',\n",
       "  'h5h2',\n",
       "  'e4g4',\n",
       "  'g0e2',\n",
       "  'e2g0',\n",
       "  'i0i2',\n",
       "  'f0e1',\n",
       "  'a3a4',\n",
       "  'i3i4',\n",
       "  'e1f2'],\n",
       " ['a0a2',\n",
       "  'h0g2',\n",
       "  'h2h6',\n",
       "  'b2b4',\n",
       "  'b4e4',\n",
       "  'h6h5',\n",
       "  'h5h2',\n",
       "  'e4g4',\n",
       "  'g0e2',\n",
       "  'g2e1',\n",
       "  'i0g0',\n",
       "  'a3a4',\n",
       "  'g0g1',\n",
       "  'e2g0',\n",
       "  'e1c2',\n",
       "  'c0a2',\n",
       "  'f0e1'],\n",
       " ['a0a2',\n",
       "  'h0g2',\n",
       "  'h2h6',\n",
       "  'b2b4',\n",
       "  'b4e4',\n",
       "  'h6h5',\n",
       "  'h5h2',\n",
       "  'e4g4',\n",
       "  'h2h5',\n",
       "  'f0e1',\n",
       "  'a2a1',\n",
       "  'a1c1',\n",
       "  'g0i2',\n",
       "  'c1b1',\n",
       "  'i0f0',\n",
       "  'f0f3',\n",
       "  'f3h3',\n",
       "  'h3h4',\n",
       "  'h4h3',\n",
       "  'e1f0'],\n",
       " ['a0a2',\n",
       "  'h0g2',\n",
       "  'h2h6',\n",
       "  'b2b4',\n",
       "  'b4e4',\n",
       "  'h6h5',\n",
       "  'h5h2',\n",
       "  'i0i2',\n",
       "  'h2h5',\n",
       "  'f0e1',\n",
       "  'a2f2'],\n",
       " ['a0a2',\n",
       "  'h0g2',\n",
       "  'h2h6',\n",
       "  'b2b4',\n",
       "  'b4e4',\n",
       "  'h6h5',\n",
       "  'h5h2',\n",
       "  'i0i2',\n",
       "  'i3i4',\n",
       "  'd0e1'],\n",
       " ['a0a2',\n",
       "  'h0g2',\n",
       "  'h2h6',\n",
       "  'b2b4',\n",
       "  'b4e4',\n",
       "  'h6h5',\n",
       "  'h5h2',\n",
       "  'i0i2',\n",
       "  'i3i4',\n",
       "  'g2e1',\n",
       "  'a2b2',\n",
       "  'i2i0',\n",
       "  'a3a4',\n",
       "  'g0e2',\n",
       "  'e3e4'],\n",
       " ['a0a2',\n",
       "  'h0g2',\n",
       "  'h2h6',\n",
       "  'b2b4',\n",
       "  'b4e4',\n",
       "  'h6h5',\n",
       "  'h5h2',\n",
       "  'i0i2',\n",
       "  'i3i4',\n",
       "  'i2i0',\n",
       "  'a2b2',\n",
       "  'h2h0',\n",
       "  'e0e1',\n",
       "  'c0a2',\n",
       "  'h0h4',\n",
       "  'h4g4',\n",
       "  'e3e4',\n",
       "  'e1d1',\n",
       "  'a2c4',\n",
       "  'c4e2',\n",
       "  'a3a4',\n",
       "  'd1e1'],\n",
       " ['a0a2',\n",
       "  'h0g2',\n",
       "  'h2h6',\n",
       "  'b2b4',\n",
       "  'b4e4',\n",
       "  'h6h5',\n",
       "  'h5h2',\n",
       "  'i0i2',\n",
       "  'i3i4',\n",
       "  'i2i0',\n",
       "  'a2b2',\n",
       "  'h2h0',\n",
       "  'e0e1',\n",
       "  'c0a2',\n",
       "  'i4i5',\n",
       "  'i5i6',\n",
       "  'g3g4',\n",
       "  'e1d1'],\n",
       " ['a0a2',\n",
       "  'h0g2',\n",
       "  'h2h6',\n",
       "  'b2b4',\n",
       "  'b4e4',\n",
       "  'h6h5',\n",
       "  'h5i5',\n",
       "  'a2d2',\n",
       "  'd2a2',\n",
       "  'd0e1'],\n",
       " ['a0a2',\n",
       "  'h0g2',\n",
       "  'h2h6',\n",
       "  'b2b4',\n",
       "  'b4e4',\n",
       "  'h6h5',\n",
       "  'h5i5',\n",
       "  'a2d2',\n",
       "  'd2a2',\n",
       "  'e4c4',\n",
       "  'd0e1'],\n",
       " ['a0a2',\n",
       "  'h0g2',\n",
       "  'h2h6',\n",
       "  'b2b4',\n",
       "  'b4e4',\n",
       "  'h6h5',\n",
       "  'h5i5',\n",
       "  'a2d2',\n",
       "  'd2a2',\n",
       "  'g0e2',\n",
       "  'd0e1'],\n",
       " ['a0a2',\n",
       "  'h0g2',\n",
       "  'h2h6',\n",
       "  'b2b4',\n",
       "  'b4e4',\n",
       "  'h6h5',\n",
       "  'h5i5',\n",
       "  'a2d2',\n",
       "  'd2b2',\n",
       "  'e4c4',\n",
       "  'c4a4',\n",
       "  'a4c4',\n",
       "  'c4c9',\n",
       "  'f0e1',\n",
       "  'i3i4',\n",
       "  'g0e2',\n",
       "  'i4i5',\n",
       "  'c3c4',\n",
       "  'i5i6',\n",
       "  'e1d2'],\n",
       " ['a0a2',\n",
       "  'h0g2',\n",
       "  'h2h6',\n",
       "  'b2b4',\n",
       "  'b4e4',\n",
       "  'h6h5',\n",
       "  'h5i5',\n",
       "  'a2d2',\n",
       "  'd2b2',\n",
       "  'e4c4',\n",
       "  'c4a4',\n",
       "  'a4c4',\n",
       "  'g3g4',\n",
       "  'a3a4',\n",
       "  'g0i2',\n",
       "  'i2g4'],\n",
       " ['a0a2',\n",
       "  'h0g2',\n",
       "  'h2h6',\n",
       "  'b2b4',\n",
       "  'b4e4',\n",
       "  'h6h5',\n",
       "  'h5i5',\n",
       "  'a2d2',\n",
       "  'd2b2',\n",
       "  'e4c4',\n",
       "  'c4a4',\n",
       "  'a4c4',\n",
       "  'g3g4',\n",
       "  'f0e1',\n",
       "  'a3a4',\n",
       "  'e3e4',\n",
       "  'i0i2',\n",
       "  'e1f2'],\n",
       " ['a0a2',\n",
       "  'h0g2',\n",
       "  'h2h6',\n",
       "  'b2b4',\n",
       "  'b4e4',\n",
       "  'h6h5',\n",
       "  'h5i5',\n",
       "  'a2d2',\n",
       "  'd2b2',\n",
       "  'e4c4',\n",
       "  'c4a4',\n",
       "  'c3c4',\n",
       "  'd0e1'],\n",
       " ['a0a2',\n",
       "  'h0g2',\n",
       "  'h2h6',\n",
       "  'b2b4',\n",
       "  'b4e4',\n",
       "  'h6h5',\n",
       "  'h5i5',\n",
       "  'a2d2',\n",
       "  'd2b2',\n",
       "  'e4c4',\n",
       "  'c4a4',\n",
       "  'g3g4',\n",
       "  'i3i4',\n",
       "  'a4e4',\n",
       "  'g0i2',\n",
       "  'f0e1',\n",
       "  'e1f2'],\n",
       " ['a0a2',\n",
       "  'h0g2',\n",
       "  'h2h6',\n",
       "  'b2b4',\n",
       "  'b4e4',\n",
       "  'h6h5',\n",
       "  'h5i5',\n",
       "  'a2d2',\n",
       "  'd2b2',\n",
       "  'e4c4',\n",
       "  'c4a4',\n",
       "  'g3g4',\n",
       "  'i3i4',\n",
       "  'c3c4',\n",
       "  'i0i2',\n",
       "  'i2f2',\n",
       "  'e3e4',\n",
       "  'f2f3',\n",
       "  'f0e1'],\n",
       " ['a0a2',\n",
       "  'h0g2',\n",
       "  'h2h6',\n",
       "  'b2b4',\n",
       "  'b4e4',\n",
       "  'h6h5',\n",
       "  'h5i5',\n",
       "  'a2d2',\n",
       "  'd2b2',\n",
       "  'e4c4',\n",
       "  'c4b4',\n",
       "  'c3c4',\n",
       "  'g3g4',\n",
       "  'i3i4',\n",
       "  'i4i5',\n",
       "  'i0i3',\n",
       "  'i3i0',\n",
       "  'd0e1'],\n",
       " ['a0a2',\n",
       "  'h0g2',\n",
       "  'h2h6',\n",
       "  'b2b4',\n",
       "  'b4e4',\n",
       "  'h6h5',\n",
       "  'h5i5',\n",
       "  'a2d2',\n",
       "  'd2b2',\n",
       "  'e4c4',\n",
       "  'c4b4',\n",
       "  'g3g4',\n",
       "  'g2f4',\n",
       "  'c3c4',\n",
       "  'f0e1',\n",
       "  'g0e2',\n",
       "  'e1d0'],\n",
       " ['a0a2',\n",
       "  'h0g2',\n",
       "  'h2h6',\n",
       "  'b2b4',\n",
       "  'b4e4',\n",
       "  'h6h5',\n",
       "  'h5i5',\n",
       "  'a2d2',\n",
       "  'd2b2',\n",
       "  'e4c4',\n",
       "  'c4b4',\n",
       "  'g3g4',\n",
       "  'g2f4',\n",
       "  'c3c4',\n",
       "  'f0e1',\n",
       "  'g0e2',\n",
       "  'e2g0'],\n",
       " ['a0a2',\n",
       "  'h0g2',\n",
       "  'h2h6',\n",
       "  'b2b4',\n",
       "  'b4e4',\n",
       "  'h6h5',\n",
       "  'h5i5',\n",
       "  'a2d2',\n",
       "  'd2b2',\n",
       "  'e4c4',\n",
       "  'c4b4',\n",
       "  'g3g4',\n",
       "  'g2h4',\n",
       "  'd0e1'],\n",
       " ['a0a2',\n",
       "  'h0g2',\n",
       "  'h2h6',\n",
       "  'b2b4',\n",
       "  'b4e4',\n",
       "  'h6h5',\n",
       "  'h5i5',\n",
       "  'a2d2',\n",
       "  'e4b4',\n",
       "  'c0e2'],\n",
       " ['a0a2',\n",
       "  'h0g2',\n",
       "  'h2h6',\n",
       "  'b2b4',\n",
       "  'b4e4',\n",
       "  'h6h5',\n",
       "  'h5i5',\n",
       "  'g0e2',\n",
       "  'i0i2',\n",
       "  'd0e1'],\n",
       " ['a0a2',\n",
       "  'h0g2',\n",
       "  'h2h6',\n",
       "  'b2b4',\n",
       "  'b4e4',\n",
       "  'h6h5',\n",
       "  'h5i5',\n",
       "  'i3i4',\n",
       "  'g3g4',\n",
       "  'g0e2',\n",
       "  'e4f4',\n",
       "  'd0e1'],\n",
       " ['a0a2',\n",
       "  'h0g2',\n",
       "  'h2h6',\n",
       "  'b2b4',\n",
       "  'g2e1',\n",
       "  'a2i2',\n",
       "  'e1c2',\n",
       "  'c0a2',\n",
       "  'g3g4',\n",
       "  'a3a4',\n",
       "  'f0e1',\n",
       "  'i3i4'],\n",
       " ['a0a2',\n",
       "  'h0g2',\n",
       "  'h2h6',\n",
       "  'b2b4',\n",
       "  'h6h1',\n",
       "  'f0e1',\n",
       "  'a2c2',\n",
       "  'i0i2',\n",
       "  'h1h4',\n",
       "  'g0i2',\n",
       "  'a3a4',\n",
       "  'g2h0'],\n",
       " ['a0a2',\n",
       "  'h0g2',\n",
       "  'h2h6',\n",
       "  'b2b4',\n",
       "  'h6h1',\n",
       "  'f0e1',\n",
       "  'a2f2',\n",
       "  'g2i1',\n",
       "  'e1f2',\n",
       "  'g0e2',\n",
       "  'i1h3',\n",
       "  'f2e1'],\n",
       " ['a0a2',\n",
       "  'h0g2',\n",
       "  'h2h6',\n",
       "  'b2b4',\n",
       "  'h6h1',\n",
       "  'f0e1',\n",
       "  'e0f0',\n",
       "  'f0e0',\n",
       "  'h1h7',\n",
       "  'g2f0',\n",
       "  'i3i4',\n",
       "  'i0i2',\n",
       "  'i2i3',\n",
       "  'i3i1'],\n",
       " ['a0a2',\n",
       "  'h0g2',\n",
       "  'h2h6',\n",
       "  'b2b4',\n",
       "  'h6h1',\n",
       "  'f0e1',\n",
       "  'e0f0',\n",
       "  'f0e0',\n",
       "  'h1h7',\n",
       "  'g2f0',\n",
       "  'i3i4',\n",
       "  'i4i5',\n",
       "  'i0i3'],\n",
       " ['a0a2', 'h0g2', 'h2h6', 'b2b4', 'h6h1', 'f0e1', 'e0f0', 'h1h7', 'e1d2'],\n",
       " ['b0a2', 'a0a1', 'a1e1'],\n",
       " ['b0a2', 'a0a1', 'a1h1', 'f0e1'],\n",
       " ['b0a2', 'a2b0', 'f0e1'],\n",
       " ['b0a2', 'a3a4', 'c0e2'],\n",
       " ['b0a2', 'a3a4', 'g0e2'],\n",
       " ['b0a2', 'b2b0', 'b0b4', 'a2c1', 'c1d3'],\n",
       " ['b0a2', 'b2b0', 'b0b4', 'a2c1', 'h2h6'],\n",
       " ['b0a2', 'b2b1', 'b1h1', 'h2h5', 'f0e1', 'h5c5', 'c0e2'],\n",
       " ['b0a2', 'b2b1', 'g0e2'],\n",
       " ['b0a2', 'b2b1', 'i3i4', 'b1g1', 'g1c1', 'h2h6'],\n",
       " ['b0a2', 'b2b3', 'i0i1', 'i1e1', 'e3e4', 'a0b0', 'e1f1', 'f0e1', 'f1h1'],\n",
       " ['b0a2',\n",
       "  'b2b3',\n",
       "  'i0i2',\n",
       "  'b3b0',\n",
       "  'a0a1',\n",
       "  'h2b2',\n",
       "  'c0a2',\n",
       "  'a1f1',\n",
       "  'a2c4',\n",
       "  'b0b9',\n",
       "  'f0e1'],\n",
       " ['b0a2',\n",
       "  'b2b3',\n",
       "  'i0i2',\n",
       "  'b3b0',\n",
       "  'a0a1',\n",
       "  'h2g2',\n",
       "  'b0b6',\n",
       "  'g2e2',\n",
       "  'c0a2',\n",
       "  'e2h2',\n",
       "  'f0e1'],\n",
       " ['b0a2',\n",
       "  'b2b3',\n",
       "  'i0i2',\n",
       "  'b3b0',\n",
       "  'a0a1',\n",
       "  'h2g2',\n",
       "  'b0b6',\n",
       "  'g2e2',\n",
       "  'c0a2',\n",
       "  'e2i2',\n",
       "  'a1f1',\n",
       "  'd0e1'],\n",
       " ['b0a2',\n",
       "  'b2b3',\n",
       "  'i0i2',\n",
       "  'b3b0',\n",
       "  'a0a1',\n",
       "  'h2g2',\n",
       "  'b0b6',\n",
       "  'g2e2',\n",
       "  'e2i2',\n",
       "  'a1a2',\n",
       "  'a2c2',\n",
       "  'i2f2',\n",
       "  'f0e1'],\n",
       " ['b0a2',\n",
       "  'b2b3',\n",
       "  'i0i2',\n",
       "  'b3b0',\n",
       "  'h2h8',\n",
       "  'b0b9',\n",
       "  'i2c2',\n",
       "  'g0e2',\n",
       "  'e2c4',\n",
       "  'g3g4',\n",
       "  'c2i2',\n",
       "  'c0e2'],\n",
       " ['b0a2', 'b2b3', 'i0i2', 'h2h3', 'g0e2', 'f0e1'],\n",
       " ['b0a2', 'b2b3', 'i0i2', 'h2h3', 'i2b2', 'g0e2', 'a3a4', 'f0e1'],\n",
       " ['b0a2',\n",
       "  'b2b3',\n",
       "  'i0i2',\n",
       "  'i2i1',\n",
       "  'a0b0',\n",
       "  'f0e1',\n",
       "  'g0i2',\n",
       "  'i1f1',\n",
       "  'i2g4',\n",
       "  'b3b6'],\n",
       " ['b0a2',\n",
       "  'b2b3',\n",
       "  'i0i2',\n",
       "  'i3i4',\n",
       "  'h2h5',\n",
       "  'i2i0',\n",
       "  'a2c1',\n",
       "  'f0e1',\n",
       "  'a0a2',\n",
       "  'b3b6'],\n",
       " ['b0a2', 'b2b5', 'h2e2', 'e2f2', 'f2f7', 'b5e5', 'a2c1', 'c1a0'],\n",
       " ['b0a2', 'b2b6', 'b6e6', 'a0b0', 'b0b7'],\n",
       " ['b0a2', 'b2b6', 'b6e6', 'h2g2', 'g0e2', 'e0e1', 'a3a4'],\n",
       " ['b0a2', 'b2b6', 'b6e6', 'h2g2', 'i3i4'],\n",
       " ['b0a2',\n",
       "  'b2b6',\n",
       "  'b6e6',\n",
       "  'h2h9',\n",
       "  'a3a4',\n",
       "  'd0e1',\n",
       "  'c0e2',\n",
       "  'a0b0',\n",
       "  'b0c0',\n",
       "  'e1d2',\n",
       "  'c0c1',\n",
       "  'e2g4'],\n",
       " ['b0a2', 'b2b6', 'g0i2', 'h2h1', 'e3e4', 'g3g4', 'e0e1'],\n",
       " ['b0a2', 'b2d2', 'd0e1'],\n",
       " ['b0a2', 'b2g2', 'a0a1', 'g0e2', 'i3i4', 'd0e1', 'e0d0'],\n",
       " ['b0a2', 'b2g2', 'd0e1'],\n",
       " ['b0a2', 'b2g2', 'f0e1'],\n",
       " ['b0a2', 'd0e1', 'a2b0'],\n",
       " ['b0a2', 'd0e1', 'e1d2', 'g3g4', 'b2b1'],\n",
       " ['b0a2', 'g0e2', 'a0b0'],\n",
       " ['b0a2', 'h2e2', 'e2h2', 'i3i4', 'a2b0', 'f0e1', 'b0c2'],\n",
       " ['b0a2', 'h2g2', 'i3i4', 'b2b4', 'a2c1', 'c1e2', 'i0i1', 'a0a1'],\n",
       " ['b0a2',\n",
       "  'h2h3',\n",
       "  'a3a4',\n",
       "  'h0g2',\n",
       "  'f0e1',\n",
       "  'b2b3',\n",
       "  'a0b0',\n",
       "  'a2b4',\n",
       "  'b3b0',\n",
       "  'e0f0',\n",
       "  'c0a2',\n",
       "  'b0b1',\n",
       "  'i3i4',\n",
       "  'i0i2',\n",
       "  'i2h2',\n",
       "  'h2g2',\n",
       "  'g2e2',\n",
       "  'e2b2',\n",
       "  'f0f1',\n",
       "  'c3c4',\n",
       "  'a4a5',\n",
       "  'c4c5',\n",
       "  'f1f2'],\n",
       " ['b0a2', 'h2h3', 'g3g4', 'b2b3', 'b3b5', 'b5b1'],\n",
       " ['b0c2', 'a0a1', 'a1e1', 'b2b3', 'c0a2', 'e3e4', 'e1g1', 'f0e1', 'b3b4'],\n",
       " ['b0c2', 'a0a2', 'g0i2', 'b2b4', 'a3a4', 'a2a1', 'b4g4', 'f0e1'],\n",
       " ['b0c2',\n",
       "  'a3a4',\n",
       "  'b2b1',\n",
       "  'h2g2',\n",
       "  'b1g1',\n",
       "  'g2g6',\n",
       "  'i0i2',\n",
       "  'a0a2',\n",
       "  'c2a3',\n",
       "  'e0e1',\n",
       "  'e1e2',\n",
       "  'i2i0',\n",
       "  'g6g5'],\n",
       " ['b0c2',\n",
       "  'b2b0',\n",
       "  'h2h1',\n",
       "  'b0b6',\n",
       "  'b6b9',\n",
       "  'c0a2',\n",
       "  'g0e2',\n",
       "  'a0a1',\n",
       "  'd0e1',\n",
       "  'h0f1',\n",
       "  'g3g4',\n",
       "  'f1h0',\n",
       "  'a1a0',\n",
       "  'a0b0',\n",
       "  'e1f2'],\n",
       " ['b0c2', 'b2b3', 'b3b1', 'g0i2', 'b1h1', 'c2b0', 'f0e1'],\n",
       " ['b0c2',\n",
       "  'b2b3',\n",
       "  'b3b2',\n",
       "  'g0i2',\n",
       "  'a0a2',\n",
       "  'b2b4',\n",
       "  'a2b2',\n",
       "  'b4g4',\n",
       "  'f0e1',\n",
       "  'c2b0',\n",
       "  'c0a2'],\n",
       " ['b0c2',\n",
       "  'b2b3',\n",
       "  'c2b0',\n",
       "  'a0a1',\n",
       "  'f0e1',\n",
       "  'g0e2',\n",
       "  'e2c4',\n",
       "  'c4e2',\n",
       "  'e2g4',\n",
       "  'a1a2',\n",
       "  'g4i2'],\n",
       " ['b0c2',\n",
       "  'b2b3',\n",
       "  'c2b0',\n",
       "  'a0a2',\n",
       "  'h2g2',\n",
       "  'g2g1',\n",
       "  'i3i4',\n",
       "  'i0i1',\n",
       "  'g0i2',\n",
       "  'b3b5',\n",
       "  'f0e1'],\n",
       " ['b0c2',\n",
       "  'b2b5',\n",
       "  'b5b2',\n",
       "  'g0i2',\n",
       "  'a0a2',\n",
       "  'c2b0',\n",
       "  'b2b1',\n",
       "  'b1f1',\n",
       "  'f1f6',\n",
       "  'i3i4',\n",
       "  'a3a4'],\n",
       " ['b0c2',\n",
       "  'b2b6',\n",
       "  'c0a2',\n",
       "  'a2c0',\n",
       "  'e3e4',\n",
       "  'a0a2',\n",
       "  'b6b4',\n",
       "  'i0i2',\n",
       "  'i2c2',\n",
       "  'c2f2',\n",
       "  'f0e1'],\n",
       " ['b0c2', 'b2b6', 'h2h8', 'a0b0', 'c2a1', 'g3g4', 'f0e1', 'c0a2'],\n",
       " ['b0c2',\n",
       "  'c0a2',\n",
       "  'a2c0',\n",
       "  'g0i2',\n",
       "  'a0a2',\n",
       "  'c2b0',\n",
       "  'b2b1',\n",
       "  'b1f1',\n",
       "  'f1f6',\n",
       "  'i3i4',\n",
       "  'i4i5'],\n",
       " ['b0c2',\n",
       "  'c0e2',\n",
       "  'e2c0',\n",
       "  'a0a1',\n",
       "  'f0e1',\n",
       "  'h0g2',\n",
       "  'b2b4',\n",
       "  'b4b6',\n",
       "  'e1d2',\n",
       "  'a1f1',\n",
       "  'f1e1',\n",
       "  'e1e2',\n",
       "  'e2g2',\n",
       "  'a3a4',\n",
       "  'g3g4',\n",
       "  'c0a2',\n",
       "  'g2e2'],\n",
       " ['b0c2',\n",
       "  'c0e2',\n",
       "  'e2c0',\n",
       "  'g0i2',\n",
       "  'a0a2',\n",
       "  'b2b4',\n",
       "  'c2a1',\n",
       "  'a1c2',\n",
       "  'a2a0',\n",
       "  'a0b0',\n",
       "  'i2g4',\n",
       "  'f0e1',\n",
       "  'a3a4',\n",
       "  'h0f1'],\n",
       " ['b0c2', 'c2b0', 'b2f2', 'c0e2'],\n",
       " ['b0c2', 'c2b0', 'b2f2', 'd0e1'],\n",
       " ['b0c2', 'c2b0', 'b2g2', 'f0e1'],\n",
       " ['b0c2', 'c2b0', 'e0e1', 'a0a2', 'a2a0', 'g0i2', 'b2b0', 'b0b1'],\n",
       " ['b0c2',\n",
       "  'c2b0',\n",
       "  'e0e1',\n",
       "  'a0a2',\n",
       "  'b2b3',\n",
       "  'h2b2',\n",
       "  'e1f1',\n",
       "  'h0i2',\n",
       "  'b2c2',\n",
       "  'c2e2',\n",
       "  'e2b2',\n",
       "  'f0e1',\n",
       "  'a3a4',\n",
       "  'a2b2',\n",
       "  'c2c6',\n",
       "  'e1d2',\n",
       "  'f1f2'],\n",
       " ['b0c2', 'c2b0', 'e0e1', 'b2a2', 'a2b2', 'g0i2', 'i2g4'],\n",
       " ['b0c2', 'c2b0', 'e0e1', 'b2c2', 'a0a1', 'h0g2', 'c0a2'],\n",
       " ['b0c2', 'c2b0', 'e0e1', 'b2d2', 'g0e2'],\n",
       " ['b0c2', 'c2b0', 'e0e1', 'b2e2', 'h0i2', 'i0h0', 'e2b2'],\n",
       " ['b0c2', 'c2b0', 'e0e1', 'e1f1', 'a0a1', 'a1a2', 'b2b4', 'f0e1'],\n",
       " ['b0c2',\n",
       "  'c2b0',\n",
       "  'e0e1',\n",
       "  'g3g4',\n",
       "  'a0a1',\n",
       "  'h0g2',\n",
       "  'a1a2',\n",
       "  'b2b3',\n",
       "  'a2f2',\n",
       "  'f2c2',\n",
       "  'g2h4',\n",
       "  'c0e2',\n",
       "  'h4g2',\n",
       "  'i0i2',\n",
       "  'g2e3',\n",
       "  'e2c0',\n",
       "  'e1d1',\n",
       "  'g0i2',\n",
       "  'f0e1',\n",
       "  'd1d0',\n",
       "  'i2g0',\n",
       "  'd0d1'],\n",
       " ['b0c2', 'c2b0', 'e0e1', 'h2h8', 'i0i1', 'b2g2', 'i1h1', 'g2g1', 'c3c4'],\n",
       " ['b0c2',\n",
       "  'c2b0',\n",
       "  'e0e1',\n",
       "  'i3i4',\n",
       "  'a0a1',\n",
       "  'b2b4',\n",
       "  'i4i5',\n",
       "  'e1e2',\n",
       "  'e2d2',\n",
       "  'd2e2',\n",
       "  'f0e1',\n",
       "  'c0a2',\n",
       "  'a2c4',\n",
       "  'i0i4'],\n",
       " ['b0c2',\n",
       "  'c2b0',\n",
       "  'g3g4',\n",
       "  'h2h9',\n",
       "  'a0a1',\n",
       "  'b2e2',\n",
       "  'g4g5',\n",
       "  'e2g2',\n",
       "  'a1f1',\n",
       "  'f1f3',\n",
       "  'g2h2',\n",
       "  'i3i4',\n",
       "  'h2h8',\n",
       "  'h8d8',\n",
       "  'c0a2'],\n",
       " ['b0c2', 'c2b0', 'h0g2', 'b2e2', 'a0a2', 'c2a1', 'e2e4', 'g3g4', 'd0e1'],\n",
       " ['b0c2', 'c2b0', 'h0g2', 'b2e2', 'a0b0', 'b0a0', 'e2d2'],\n",
       " ['b0c2', 'c2b0', 'h0g2', 'b2e2', 'd0e1', 'a0a2', 'e2f2', 'h2h8'],\n",
       " ['b0c2',\n",
       "  'c2b0',\n",
       "  'h0g2',\n",
       "  'b2e2',\n",
       "  'd0e1',\n",
       "  'a0b0',\n",
       "  'h2h4',\n",
       "  'h4h3',\n",
       "  'e2e4',\n",
       "  'g0i2'],\n",
       " ['b0c2', 'c2b0', 'h0g2', 'b2e2', 'e2b2'],\n",
       " ['b0c2', 'c2b0', 'h0g2', 'b2e2', 'e2f2'],\n",
       " ['b0c2',\n",
       "  'c2b0',\n",
       "  'h0g2',\n",
       "  'b2e2',\n",
       "  'i0i1',\n",
       "  'h2h1',\n",
       "  'h1g1',\n",
       "  'e2e5',\n",
       "  'g0e2',\n",
       "  'e2g0'],\n",
       " ['b0c2', 'c2b0', 'h0g2', 'b2e2', 'i0i2', 'h2h3', 'e2e4', 'g3g4', 'g2h4'],\n",
       " ['b0c2',\n",
       "  'c2b0',\n",
       "  'h0g2',\n",
       "  'f0e1',\n",
       "  'b2f2',\n",
       "  'f2f1',\n",
       "  'a0a1',\n",
       "  'f1f9',\n",
       "  'c0e2',\n",
       "  'e2c4',\n",
       "  'g3g4',\n",
       "  'a1c1'],\n",
       " ['b0c2', 'c2b0', 'h2h4', 'f0e1'],\n",
       " ['b0c2', 'c2b0', 'i0i2', 'a0a2', 'c0e2'],\n",
       " ['b0c2', 'c2b0', 'i3i4', 'b2b4', 'f0e1'],\n",
       " ['b0c2', 'c2e1', 'a0a2'],\n",
       " ['b0c2', 'd0e1', 'c0e2', 'c3c4', 'c2b0', 'e1d0', 'b2b4'],\n",
       " ['b0c2', 'e0e1', 'e1e2', 'a0b0', 'b2b3'],\n",
       " ['b0c2', 'e3e4', 'g0i2', 'b2b4'],\n",
       " ['b0c2',\n",
       "  'g0e2',\n",
       "  'h0f1',\n",
       "  'e2g4',\n",
       "  'f1h0',\n",
       "  'a0a2',\n",
       "  'c2e1',\n",
       "  'e1g0',\n",
       "  'b2b3',\n",
       "  'c0a2',\n",
       "  'f0e1',\n",
       "  'e0f0',\n",
       "  'e1f2',\n",
       "  'f2e1'],\n",
       " ['b0c2',\n",
       "  'h0g2',\n",
       "  'c2b0',\n",
       "  'f0e1',\n",
       "  'h2h4',\n",
       "  'e1f2',\n",
       "  'g2f0',\n",
       "  'a0a2',\n",
       "  'a2a1',\n",
       "  'g0i2',\n",
       "  'c3c4',\n",
       "  'g3g4'],\n",
       " ['b0c2', 'h2d2', 'c0a2', 'f0e1', 'b2b1'],\n",
       " ['b0c2', 'h2e2', 'e2h2', 'd0e1', 'h0g2', 'b2b4', 'a0a2', 'a2a1'],\n",
       " ['b0c2',\n",
       "  'h2g2',\n",
       "  'b2b1',\n",
       "  'a0b0',\n",
       "  'b1b6',\n",
       "  'b6b4',\n",
       "  'e0d0',\n",
       "  'b4e4',\n",
       "  'd0d1',\n",
       "  'e4d4',\n",
       "  'c2a1',\n",
       "  'd1d2',\n",
       "  'i0i1',\n",
       "  'g2h2',\n",
       "  'i1c1'],\n",
       " ['b0c2',\n",
       "  'h2h1',\n",
       "  'h1h2',\n",
       "  'g0i2',\n",
       "  'a0a2',\n",
       "  'f0e1',\n",
       "  'h2h5',\n",
       "  'h0g2',\n",
       "  'a2a1',\n",
       "  'a1c1',\n",
       "  'b2b1',\n",
       "  'c1c2',\n",
       "  'e1f0'],\n",
       " ['b0c2', 'h2h3', 'c2b0', 'h0i2', 'b2c2', 'g3g4', 'c2d2', 'f0e1'],\n",
       " ['b0c2',\n",
       "  'h2h5',\n",
       "  'h5h2',\n",
       "  'g0i2',\n",
       "  'i2g4',\n",
       "  'a0a1',\n",
       "  'c2e1',\n",
       "  'b2b4',\n",
       "  'e1g2',\n",
       "  'a1h1',\n",
       "  'd0e1'],\n",
       " ['b0c2', 'h2h7', 'f0e1', 'c2b0', 'a0a2'],\n",
       " ['b0c2',\n",
       "  'h2h8',\n",
       "  'b2b0',\n",
       "  'c0a2',\n",
       "  'a0a1',\n",
       "  'f0e1',\n",
       "  'i3i4',\n",
       "  'b0a0',\n",
       "  'a0b0',\n",
       "  'b0b1',\n",
       "  'b1d1',\n",
       "  'd1d3',\n",
       "  'a1c1',\n",
       "  'e0f0',\n",
       "  'a2c4',\n",
       "  'h0g2',\n",
       "  'i0i2',\n",
       "  'g2h0',\n",
       "  'i2d2',\n",
       "  'g0e2',\n",
       "  'g2i3',\n",
       "  'f0e0',\n",
       "  'e2c0',\n",
       "  'e1f2'],\n",
       " ['b0c2',\n",
       "  'h2i2',\n",
       "  'b2b0',\n",
       "  'a3a4',\n",
       "  'f0e1',\n",
       "  'i2i6',\n",
       "  'e0f0',\n",
       "  'c2a1',\n",
       "  'i3i4',\n",
       "  'a1c2',\n",
       "  'b0b5',\n",
       "  'a0b0'],\n",
       " ['b0c2',\n",
       "  'i0i1',\n",
       "  'b2a2',\n",
       "  'i1g1',\n",
       "  'a0b0',\n",
       "  'a2b2',\n",
       "  'f0e1',\n",
       "  'g1g2',\n",
       "  'g2e2',\n",
       "  'e2g2',\n",
       "  'g2g1'],\n",
       " ['b0c2',\n",
       "  'i0i1',\n",
       "  'h2h4',\n",
       "  'i1e1',\n",
       "  'a0a2',\n",
       "  'c2b0',\n",
       "  'e1a1',\n",
       "  'b2b4',\n",
       "  'b4b3',\n",
       "  'a1c1',\n",
       "  'c1h1',\n",
       "  'h1h4',\n",
       "  'h4h6',\n",
       "  'e0e1',\n",
       "  'h6h0',\n",
       "  'a2c2',\n",
       "  'c2g2',\n",
       "  'c0e2'],\n",
       " ['b0c2',\n",
       "  'i0i1',\n",
       "  'i1i0',\n",
       "  'g0i2',\n",
       "  'i2g4',\n",
       "  'a0a1',\n",
       "  'h0g2',\n",
       "  'c0a2',\n",
       "  'b2b3',\n",
       "  'a1b1',\n",
       "  'i3i4',\n",
       "  'f0e1',\n",
       "  'i4i5',\n",
       "  'b3b5',\n",
       "  'b5b6'],\n",
       " ['b0c2',\n",
       "  'i0i2',\n",
       "  'h2h6',\n",
       "  'c3c4',\n",
       "  'g3g4',\n",
       "  'c2b0',\n",
       "  'i2g2',\n",
       "  'b2d2',\n",
       "  'b0a2',\n",
       "  'd0e1',\n",
       "  'e0d0',\n",
       "  'a0b0',\n",
       "  'd0d1',\n",
       "  'a3a4',\n",
       "  'a4a5',\n",
       "  'c4c5',\n",
       "  'a5b5',\n",
       "  'd1d2'],\n",
       " ['b0c2',\n",
       "  'i3i4',\n",
       "  'a0a1',\n",
       "  'd0e1',\n",
       "  'a1a2',\n",
       "  'b2b4',\n",
       "  'c2a1',\n",
       "  'e0d0',\n",
       "  'a2g2',\n",
       "  'c0a2',\n",
       "  'i0i2',\n",
       "  'd0d1'],\n",
       " ['b0c2', 'i3i4', 'a0a1', 'g0i2', 'i2g0', 'c2b0', 'b2c2', 'a1c1', 'c2b2'],\n",
       " ['b0c2',\n",
       "  'i3i4',\n",
       "  'b2a2',\n",
       "  'a0b0',\n",
       "  'h2h6',\n",
       "  'i4i5',\n",
       "  'i5i6',\n",
       "  'f0e1',\n",
       "  'a2a0',\n",
       "  'e3e4',\n",
       "  'i0i3'],\n",
       " ['c0a2', 'a0a1', 'd0e1', 'e1d0'],\n",
       " ['c0a2', 'a2c4', 'b2a2', 'h2c2'],\n",
       " ['c0a2', 'a2c4', 'b2g2', 'h2h6'],\n",
       " ['c0a2', 'a2c4', 'g0i2', 'i0g0', 'b2b4'],\n",
       " ['c0a2', 'b0c2', 'b2b7', 'c2e1', 'h2b2', 'b2b4', 'b4d4'],\n",
       " ['c0a2', 'b0d1', 'a0a1', 'g0e2'],\n",
       " ['c0a2', 'b0d1', 'a0a1', 'h2h6', 'f0e1'],\n",
       " ['c0a2', 'b0d1', 'a0c0', 'c0b0', 'b2b1', 'h2b2', 'e3e4', 'a2c4'],\n",
       " ['c0a2', 'b2b3', 'a2c0', 'c0e2'],\n",
       " ['c0a2', 'b2b3', 'b3b4', 'a0a1'],\n",
       " ['c0a2', 'b2c2', 'g0e2'],\n",
       " ['c0a2', 'b2d2', 'd2b2', 'h2h6', 'd2g2', 'i3i4', 'h6h5', 'f0e1'],\n",
       " ['c0a2', 'b2g2', 'g0i2'],\n",
       " ['c0a2', 'd0e1', 'h2g2', 'a2c4'],\n",
       " ['c0a2', 'd0e1', 'h2h8', 'h8d8'],\n",
       " ['c0a2', 'e0e1', 'b2b4', 'c3c4', 'b4b9', 'e1e0'],\n",
       " ['c0a2', 'e0e1', 'b2b9', 'a2c4', 'e1f1', 'f1f2', 'a3a4', 'b0c2', 'i3i4'],\n",
       " ['c0a2', 'f0e1'],\n",
       " ['c0a2', 'g0e2'],\n",
       " ['c0a2', 'h2g2', 'a2c0', 'e0f0'],\n",
       " ['c0a2', 'h2g2', 'b2b4', 'a2c4'],\n",
       " ['c0a2', 'h2g2', 'b2b9', 'b0d1'],\n",
       " ['c0a2', 'i0i2', 'h2c2', 'f0e1'],\n",
       " ['c0e2', 'a0a1', 'g0i2'],\n",
       " ['c0e2', 'a0a2', 'f0e1'],\n",
       " ['c0e2',\n",
       "  'b0c2',\n",
       "  'h2h9',\n",
       "  'a0b0',\n",
       "  'b2b6',\n",
       "  'f0e1',\n",
       "  'b6b4',\n",
       "  'b4d4',\n",
       "  'g3g4',\n",
       "  'e0f0',\n",
       "  'd4b4',\n",
       "  'e2c4',\n",
       "  'c4a2'],\n",
       " ['c0e2',\n",
       "  'b0c2',\n",
       "  'h2h9',\n",
       "  'a0b0',\n",
       "  'e2c0',\n",
       "  'b2b1',\n",
       "  'd0e1',\n",
       "  'c3c4',\n",
       "  'i3i4',\n",
       "  'b0c0',\n",
       "  'e1d0'],\n",
       " ['c0e2', 'b0d1', 'g0i2'],\n",
       " ['c0e2',\n",
       "  'b2a2',\n",
       "  'h2h3',\n",
       "  'h3h6',\n",
       "  'i0i2',\n",
       "  'e2g4',\n",
       "  'b0d1',\n",
       "  'a0b0',\n",
       "  'i2f2',\n",
       "  'f2f8',\n",
       "  'a2b2',\n",
       "  'b2b9',\n",
       "  'f8f6',\n",
       "  'h6g6',\n",
       "  'g6h6',\n",
       "  'f0e1'],\n",
       " ['c0e2', 'b2b5', 'e2c0', 'b5f5'],\n",
       " ['c0e2', 'b2b9', 'e2c4', 'h2g2'],\n",
       " ['c0e2', 'e0e1', 'a0a1', 'h2h3', 'e2c0', 'e1e0', 'b2a2'],\n",
       " ['c0e2',\n",
       "  'e0e1',\n",
       "  'c3c4',\n",
       "  'b0a2',\n",
       "  'h2h4',\n",
       "  'b2d2',\n",
       "  'e1f1',\n",
       "  'a2c1',\n",
       "  'c1a2',\n",
       "  'd0e1',\n",
       "  'e1f2',\n",
       "  'f1e1',\n",
       "  'e1e0',\n",
       "  'g0i2',\n",
       "  'e3e4'],\n",
       " ['c0e2', 'e2c4', 'a0a1', 'a1f1'],\n",
       " ['c0e2', 'e2c4', 'b2g2', 'h2h6'],\n",
       " ['c0e2', 'e2c4', 'd0e1', 'b0d1'],\n",
       " ['c0e2', 'e2c4', 'e0e1', 'b0c2', 'h2h4', 'e1d1', 'd1d2', 'b2b1'],\n",
       " ['c0e2', 'e3e4', 'b2b1', 'h2h8'],\n",
       " ['c0e2', 'e3e4', 'b2b6', 'a3a4'],\n",
       " ['c0e2', 'e3e4', 'b2b9', 'e4e5'],\n",
       " ['c0e2', 'e3e4', 'd0e1', 'h2i2'],\n",
       " ['c0e2', 'e3e4', 'e2c0', 'b2e2'],\n",
       " ['c0e2', 'e3e4', 'h2h0', 'b2b3'],\n",
       " ['c0e2', 'e3e4', 'h2h0', 'b2b4'],\n",
       " ['c0e2', 'e3e4', 'h2h0', 'e0e1', 'i3i4', 'e1d1', 'b2b5', 'a0a2', 'd1d0'],\n",
       " ['c0e2', 'e3e4', 'h2h0', 'e0f0'],\n",
       " ['c0e2', 'e3e4', 'h2h0', 'g0i2', 'i0i1', 'b2b4'],\n",
       " ['c0e2', 'e3e4', 'h2h0', 'i0i2'],\n",
       " ['c0e2', 'e3e4', 'h2h1', 'b2a2'],\n",
       " ['c0e2', 'e3e4', 'h2h1', 'b2b3'],\n",
       " ['c0e2', 'e3e4', 'h2h1', 'h1b1'],\n",
       " ['c0e2', 'e3e4', 'h2h4', 'c3c4'],\n",
       " ['c0e2', 'g0i2'],\n",
       " ['c0e2', 'g3g4', 'b2b6', 'a0a1'],\n",
       " ['c0e2', 'h2g2', 'b0a2', 'd0e1'],\n",
       " ['c0e2', 'h2g2', 'b2b4', 'e2c0'],\n",
       " ['c0e2', 'h2g2', 'b2b5', 'e2c4'],\n",
       " ['c0e2', 'h2g2', 'b2b6', 'e2c4'],\n",
       " ['c0e2',\n",
       "  'h2g2',\n",
       "  'e0f0',\n",
       "  'd0e1',\n",
       "  'e1d2',\n",
       "  'c3c4',\n",
       "  'b2b7',\n",
       "  'f0f1',\n",
       "  'a0a1',\n",
       "  'b7b6'],\n",
       " ['c0e2', 'h2g2', 'e2c0', 'c3c4'],\n",
       " ['c0e2', 'h2g2', 'e2c0', 'd0e1'],\n",
       " ['c0e2', 'h2h3', 'g0i2', 'a3a4', 'e0f0'],\n",
       " ['c0e2', 'h2h3', 'g0i2', 'b2b1', 'b1a1'],\n",
       " ['c0e2', 'h2h4', 'b2d2', 'h4b4'],\n",
       " ['c0e2', 'h2h6', 'b2b4', 'b0d1'],\n",
       " ['c0e2', 'h2h6', 'b2b9', 'g3g4'],\n",
       " ['c0e2', 'h2h6', 'c3c4', 'a0a1'],\n",
       " ['c0e2', 'h2h6', 'c3c4', 'a0a2'],\n",
       " ['c0e2', 'h2h6', 'c3c4', 'd0e1'],\n",
       " ['c0e2', 'h2h6', 'g3g4', 'a0a1'],\n",
       " ['c0e2', 'h2h6', 'g3g4', 'e2c4'],\n",
       " ['c0e2', 'h2h6', 'h6h7', 'h7h6'],\n",
       " ['c0e2', 'h2h7', 'c3c4', 'i3i4'],\n",
       " ['d0e1', 'b0a2', 'e1f2', 'b2b0', 'e0d0', 'f0e1'],\n",
       " ['d0e1', 'b0c2', 'c2b0', 'h2g2', 'a0a1', 'a1a2'],\n",
       " ['d0e1', 'b2b3', 'a3a4', 'h2h4'],\n",
       " ['d0e1', 'b2b3', 'e1d0', 'h2f2'],\n",
       " ['d0e1', 'b2b5', 'a3a4', 'i3i4'],\n",
       " ['d0e1', 'b2b5', 'b5b6', 'h2h0', 'h0h1', 'b0a2', 'a0b0', 'e1d0'],\n",
       " ['d0e1', 'b2b6', 'h2g2', 'c0a2'],\n",
       " ['d0e1', 'b2c2', 'a0a1', 'c0e2', 'h2h1', 'h1h5'],\n",
       " ['d0e1', 'b2c2', 'c0a2', 'g0e2'],\n",
       " ['d0e1', 'b2c2', 'g0i2'],\n",
       " ['d0e1', 'b2g2', 'c0e2', 'e1d0', 'i0i2', 'f0e1'],\n",
       " ['d0e1', 'b2g2', 'e0d0', 'e1f2', 'a0a2', 'a2b2'],\n",
       " ['d0e1', 'b2g2', 'g0i2'],\n",
       " ['d0e1', 'c0a2', 'a2c4', 'b2f2'],\n",
       " ['d0e1',\n",
       "  'c0e2',\n",
       "  'h2h0',\n",
       "  'g0i2',\n",
       "  'e1d2',\n",
       "  'a0a2',\n",
       "  'b2b0',\n",
       "  'e0d0',\n",
       "  'a2b2',\n",
       "  'e2c4'],\n",
       " ['d0e1', 'c3c4', 'b2g2', 'h2h6'],\n",
       " ['d0e1', 'c3c4', 'h2f2', 'b2e2'],\n",
       " ['d0e1', 'e1d0', 'b2b4', 'e0f0'],\n",
       " ['d0e1', 'g0e2'],\n",
       " ['d0e1', 'h2c2', 'c0e2', 'c2c6'],\n",
       " ['d0e1', 'h2e2', 'e2g2', 'e1d0'],\n",
       " ['d0e1', 'h2e2', 'i3i4', 'e2g2'],\n",
       " ['d0e1', 'h2h3', 'b2b4', 'h3h6'],\n",
       " ['d0e1', 'h2h5', 'e1f2', 'i3i4'],\n",
       " ['d0e1', 'h2h6', 'b2g2', 'h6h3'],\n",
       " ['d0e1', 'h2i2', 'a0a1', 'b2b3'],\n",
       " ['d0e1', 'i3i4', 'e1d0', 'a0a1'],\n",
       " ['e0e1',\n",
       "  'a0a1',\n",
       "  'h2c2',\n",
       "  'a1a2',\n",
       "  'b2b1',\n",
       "  'b1b2',\n",
       "  'e1f1',\n",
       "  'c2f2',\n",
       "  'f2i2',\n",
       "  'b2c2',\n",
       "  'i2a2'],\n",
       " ['e0e1',\n",
       "  'a0a1',\n",
       "  'h2h0',\n",
       "  'g3g4',\n",
       "  'e1f1',\n",
       "  'b2b1',\n",
       "  'g0i2',\n",
       "  'i2g0',\n",
       "  'a1a2',\n",
       "  'b1c1',\n",
       "  'f1f2',\n",
       "  'c1d1',\n",
       "  'a3a4',\n",
       "  'f2f1',\n",
       "  'd1d4',\n",
       "  'a2a0',\n",
       "  'd4d5',\n",
       "  'f1e1',\n",
       "  'e1e0'],\n",
       " ['e0e1',\n",
       "  'a0a1',\n",
       "  'h2h5',\n",
       "  'h5h8',\n",
       "  'h8e8',\n",
       "  'b2b4',\n",
       "  'e1e2',\n",
       "  'a1c1',\n",
       "  'c1c2',\n",
       "  'b4b5',\n",
       "  'b5g5',\n",
       "  'c2d2',\n",
       "  'd2b2',\n",
       "  'c0a2',\n",
       "  'a2c0',\n",
       "  'g3g4'],\n",
       " ['e0e1', 'a0a2', 'b2b6', 'e1e0'],\n",
       " ['e0e1', 'a0a2', 'b2b9', 'h2f2', 'g0e2', 'f2g2', 'e2g4', 'a2e2'],\n",
       " ['e0e1',\n",
       "  'a0a2',\n",
       "  'b2b9',\n",
       "  'h2h0',\n",
       "  'h0h8',\n",
       "  'a2h2',\n",
       "  'e1d1',\n",
       "  'c3c4',\n",
       "  'h8h3',\n",
       "  'h2d2',\n",
       "  'c4c5',\n",
       "  'e3e4',\n",
       "  'g3g4'],\n",
       " ['e0e1', 'a0a2', 'c3c4', 'h2h1', 'c4c5', 'a2a1', 'a1b1'],\n",
       " ['e0e1',\n",
       "  'a0a2',\n",
       "  'g0i2',\n",
       "  'b2g2',\n",
       "  'g2g6',\n",
       "  'h2h0',\n",
       "  'a2c2',\n",
       "  'e1e0',\n",
       "  'a3a4',\n",
       "  'i2g0'],\n",
       " ['e0e1',\n",
       "  'a0a2',\n",
       "  'h2c2',\n",
       "  'e1f1',\n",
       "  'b2b6',\n",
       "  'b6b1',\n",
       "  'b1b6',\n",
       "  'b6b4',\n",
       "  'a2b2',\n",
       "  'i3i4',\n",
       "  'c0a2',\n",
       "  'd0e1',\n",
       "  'f1f2'],\n",
       " ['e0e1',\n",
       "  'a0a2',\n",
       "  'h2e2',\n",
       "  'b2c2',\n",
       "  'e1d1',\n",
       "  'i3i4',\n",
       "  'a2b2',\n",
       "  'd1e1',\n",
       "  'a3a4',\n",
       "  'b2b3',\n",
       "  'e1f1',\n",
       "  'e2d2'],\n",
       " ['e0e1',\n",
       "  'a0a2',\n",
       "  'h2h6',\n",
       "  'a3a4',\n",
       "  'b2b5',\n",
       "  'e1f1',\n",
       "  'a2a0',\n",
       "  'b5c5',\n",
       "  'c5c9',\n",
       "  'a4a5',\n",
       "  'c9d9',\n",
       "  'h6h2',\n",
       "  'i3i4',\n",
       "  'c0a2'],\n",
       " ['e0e1', 'a0a2', 'h2h7', 'b2f2', 'h7f7', 'e1f1', 'f2d2'],\n",
       " ['e0e1', 'a3a4', 'b2b3', 'a0a1', 'e1e2', 'e2d2', 'b3a3', 'a1d1'],\n",
       " ['e0e1',\n",
       "  'a3a4',\n",
       "  'b2b6',\n",
       "  'a0a1',\n",
       "  'h2d2',\n",
       "  'a4a5',\n",
       "  'e1f1',\n",
       "  'b6b7',\n",
       "  'a1b1',\n",
       "  'd2f2'],\n",
       " ['e0e1',\n",
       "  'a3a4',\n",
       "  'b2b6',\n",
       "  'h2c2',\n",
       "  'b6b5',\n",
       "  'c2c6',\n",
       "  'a0a2',\n",
       "  'c6c4',\n",
       "  'a2b2',\n",
       "  'c4c9',\n",
       "  'b5a5',\n",
       "  'e1d1',\n",
       "  'b2b5',\n",
       "  'c0a2',\n",
       "  'a2c4',\n",
       "  'd1e1',\n",
       "  'e1e0',\n",
       "  'g3g4',\n",
       "  'g4g5',\n",
       "  'd1d2',\n",
       "  'd2d1'],\n",
       " ['e0e1', 'a3a4', 'b2g2', 'h2i2', 'g2b2', 'a0a2', 'e3e4', 'a2b2', 'e4e5'],\n",
       " ['e0e1',\n",
       "  'a3a4',\n",
       "  'h2f2',\n",
       "  'a0a1',\n",
       "  'a1a3',\n",
       "  'f2c2',\n",
       "  'b2b4',\n",
       "  'g0i2',\n",
       "  'c2f2',\n",
       "  'c0a2',\n",
       "  'f2f3',\n",
       "  'f3e3',\n",
       "  'b4g4',\n",
       "  'g4f4',\n",
       "  'e3d3',\n",
       "  'e1e2',\n",
       "  'e2e1',\n",
       "  'f4e4',\n",
       "  'd3d7',\n",
       "  'd7a7'],\n",
       " ['e0e1',\n",
       "  'a3a4',\n",
       "  'h2f2',\n",
       "  'e1e2',\n",
       "  'f2f7',\n",
       "  'f7f0',\n",
       "  'g3g4',\n",
       "  'e2d2',\n",
       "  'd2e2',\n",
       "  'c3c4',\n",
       "  'b2b0',\n",
       "  'a4a5',\n",
       "  'c4c5',\n",
       "  'c0a2',\n",
       "  'a2c0'],\n",
       " ['e0e1',\n",
       "  'a3a4',\n",
       "  'h2f2',\n",
       "  'f2f8',\n",
       "  'b0a2',\n",
       "  'b2b4',\n",
       "  'e1e0',\n",
       "  'b4i4',\n",
       "  'f8f6',\n",
       "  'i4f4',\n",
       "  'f4f1',\n",
       "  'a2b0',\n",
       "  'f1b1',\n",
       "  'b1c1',\n",
       "  'g3g4',\n",
       "  'c1e1',\n",
       "  'b0c2',\n",
       "  'c2a1',\n",
       "  'e1c1'],\n",
       " ['e0e1',\n",
       "  'b0a2',\n",
       "  'b2e2',\n",
       "  'a3a4',\n",
       "  'g0i2',\n",
       "  'a2b4',\n",
       "  'e2e6',\n",
       "  'e6e4',\n",
       "  'i2g0',\n",
       "  'h2h0',\n",
       "  'b4d5',\n",
       "  'h0h7',\n",
       "  'e4e8',\n",
       "  'd5e7',\n",
       "  'e7c6'],\n",
       " ['e0e1', 'b0a2', 'h2c2', 'e1f1', 'a0b0', 'i3i4', 'c2i2', 'b2g2', 'g2e2'],\n",
       " ['e0e1',\n",
       "  'b0a2',\n",
       "  'h2i2',\n",
       "  'b2b5',\n",
       "  'b5b6',\n",
       "  'b6b3',\n",
       "  'i2c2',\n",
       "  'e1d1',\n",
       "  'i3i4',\n",
       "  'a2c1',\n",
       "  'c0a2',\n",
       "  'a2c4',\n",
       "  'e3e4',\n",
       "  'd1d0',\n",
       "  'e4e5',\n",
       "  'd0e0'],\n",
       " ['e0e1', 'b0c2', 'a3a4', 'h2h4', 'h4f4', 'e1f1', 'b2b0'],\n",
       " ['e0e1', 'b0c2', 'b2b9', 'a3a4', 'e1f1', 'h2f2', 'a0a2'],\n",
       " ['e0e1', 'b0c2', 'e3e4', 'h2h3', 'h3h8', 'h8e8', 'b2b4', 'a0a2'],\n",
       " ['e0e1',\n",
       "  'b0c2',\n",
       "  'h2g2',\n",
       "  'b2b4',\n",
       "  'b4c4',\n",
       "  'a0a2',\n",
       "  'i3i4',\n",
       "  'c2b0',\n",
       "  'a3a4',\n",
       "  'a2b2',\n",
       "  'e1d1',\n",
       "  'g0i2',\n",
       "  'd1d2'],\n",
       " ['e0e1',\n",
       "  'b2a2',\n",
       "  'c3c4',\n",
       "  'h2h5',\n",
       "  'a2e2',\n",
       "  'e1f1',\n",
       "  'a0a1',\n",
       "  'g0i2',\n",
       "  'a1c1',\n",
       "  'c1d1'],\n",
       " ['e0e1', 'b2a2', 'e1e0', 'g3g4'],\n",
       " ['e0e1', 'b2a2', 'h2h3', 'e1d1', 'a2g2', 'g0e2', 'h3h5', 'h5f5', 'g2f2'],\n",
       " ['e0e1',\n",
       "  'b2a2',\n",
       "  'h2h8',\n",
       "  'g0i2',\n",
       "  'h8h2',\n",
       "  'e3e4',\n",
       "  'a2a0',\n",
       "  'h2g2',\n",
       "  'b0a2',\n",
       "  'a2c1',\n",
       "  'g2g0'],\n",
       " ['e0e1',\n",
       "  'b2b1',\n",
       "  'h2e2',\n",
       "  'c3c4',\n",
       "  'e1f1',\n",
       "  'g0i2',\n",
       "  'b1b9',\n",
       "  'c4c5',\n",
       "  'c0a2',\n",
       "  'e2b2',\n",
       "  'a0b0',\n",
       "  'b2d2',\n",
       "  'd2d3',\n",
       "  'f1f0',\n",
       "  'f0e0',\n",
       "  'i2g4',\n",
       "  'g4e2',\n",
       "  'a3a4'],\n",
       " ['e0e1',\n",
       "  'b2b1',\n",
       "  'h2e2',\n",
       "  'e2c2',\n",
       "  'e1f1',\n",
       "  'b1b4',\n",
       "  'c2g2',\n",
       "  'c0a2',\n",
       "  'a2c4',\n",
       "  'b4b1',\n",
       "  'g2g6',\n",
       "  'b1b3',\n",
       "  'g6g5',\n",
       "  'g5g6',\n",
       "  'f1e1',\n",
       "  'e1d1',\n",
       "  'd1d2',\n",
       "  'd2d1',\n",
       "  'i3i4'],\n",
       " ['e0e1', 'b2b1', 'h2h1', 'h1h4', 'e1e0', 'e0d0'],\n",
       " ['e0e1', 'b2b1', 'h2h6', 'h6h4', 'e1e0', 'e0d0'],\n",
       " ['e0e1', 'b2b1', 'i0h0', 'e1e0'],\n",
       " ['e0e1',\n",
       "  'b2b3',\n",
       "  'b0a2',\n",
       "  'b3b6',\n",
       "  'h2h0',\n",
       "  'h0h2',\n",
       "  'e3e4',\n",
       "  'a3a4',\n",
       "  'a2b4',\n",
       "  'b6e6',\n",
       "  'i3i4',\n",
       "  'b4d3',\n",
       "  'i4i5',\n",
       "  'd3f2',\n",
       "  'e1f1'],\n",
       " ['e0e1', 'b2b3', 'b0c2', 'g3g4', 'b3b9', 'a0b0', 'e3e4', 'b0b1', 'b1d1'],\n",
       " ['e0e1',\n",
       "  'b2b3',\n",
       "  'b3b6',\n",
       "  'h2g2',\n",
       "  'b0c2',\n",
       "  'b6b1',\n",
       "  'e1f1',\n",
       "  'c2b0',\n",
       "  'i3i4',\n",
       "  'g2d2',\n",
       "  'f1f0'],\n",
       " ['e0e1',\n",
       "  'b2b3',\n",
       "  'c0a2',\n",
       "  'b3b5',\n",
       "  'b5i5',\n",
       "  'h2e2',\n",
       "  'a2c4',\n",
       "  'e2g2',\n",
       "  'b0a2',\n",
       "  'g3g4',\n",
       "  'g2c2',\n",
       "  'a3a4',\n",
       "  'c2c9',\n",
       "  'c9c5',\n",
       "  'a2b4',\n",
       "  'e1d1',\n",
       "  'c5c6',\n",
       "  'b4d5',\n",
       "  'c6b6',\n",
       "  'b6c6',\n",
       "  'i3i4',\n",
       "  'd5e7'],\n",
       " ['e0e1',\n",
       "  'b2b3',\n",
       "  'c0a2',\n",
       "  'b3b5',\n",
       "  'b5i5',\n",
       "  'h2e2',\n",
       "  'a2c4',\n",
       "  'e3e4',\n",
       "  'e2c2',\n",
       "  'i3i4',\n",
       "  'g3g4',\n",
       "  'b0a2',\n",
       "  'c2f2',\n",
       "  'f2b2',\n",
       "  'b2b9',\n",
       "  'e1e2',\n",
       "  'g4g5',\n",
       "  'e2e1',\n",
       "  'a3a4',\n",
       "  'e1d1',\n",
       "  'a4a5',\n",
       "  'd1d2'],\n",
       " ['e0e1', 'b2b3', 'c3c4', 'e1d1', 'e3e4', 'h2a2', 'a0a1'],\n",
       " ['e0e1', 'b2b3', 'e1e0', 'e3e4'],\n",
       " ['e0e1', 'b2b3', 'g0i2', 'i0g0', 'a3a4', 'e1e0'],\n",
       " ['e0e1',\n",
       "  'b2b3',\n",
       "  'h2d2',\n",
       "  'd2c2',\n",
       "  'a0a1',\n",
       "  'i3i4',\n",
       "  'a1d1',\n",
       "  'c0a2',\n",
       "  'e1f1',\n",
       "  'a2c0',\n",
       "  'd1c1',\n",
       "  'c2c6',\n",
       "  'c6b6'],\n",
       " ['e0e1',\n",
       "  'b2b3',\n",
       "  'h2f2',\n",
       "  'b3b4',\n",
       "  'a0a2',\n",
       "  'f2g2',\n",
       "  'b4b9',\n",
       "  'e1f1',\n",
       "  'i3i4',\n",
       "  'a2d2',\n",
       "  'f1e1',\n",
       "  'c0a2',\n",
       "  'a2c4',\n",
       "  'g2g1',\n",
       "  'd2c2',\n",
       "  'c2d2',\n",
       "  'e1e2',\n",
       "  'd2d0',\n",
       "  'g1f1',\n",
       "  'f1i1'],\n",
       " ['e0e1', 'b2b3', 'h2f2', 'e1e0'],\n",
       " ['e0e1',\n",
       "  'b2b3',\n",
       "  'h2g2',\n",
       "  'e1f1',\n",
       "  'b3b1',\n",
       "  'b1b4',\n",
       "  'a0a2',\n",
       "  'g2d2',\n",
       "  'c0e2',\n",
       "  'e3e4',\n",
       "  'd2d1',\n",
       "  'a2a1',\n",
       "  'a1b1',\n",
       "  'd1d2',\n",
       "  'e2c0',\n",
       "  'f1f0',\n",
       "  'b4b2',\n",
       "  'a3a4'],\n",
       " ['e0e1',\n",
       "  'b2b3',\n",
       "  'i0h0',\n",
       "  'b0c2',\n",
       "  'b3b2',\n",
       "  'a0b0',\n",
       "  'b2b7',\n",
       "  'b7b3',\n",
       "  'e1f1',\n",
       "  'd0e1',\n",
       "  'e1d0'],\n",
       " ['e0e1',\n",
       "  'b2b4',\n",
       "  'a0a2',\n",
       "  'b4b3',\n",
       "  'h2h6',\n",
       "  'a2g2',\n",
       "  'g0i2',\n",
       "  'g2b2',\n",
       "  'e1f1',\n",
       "  'b3b5',\n",
       "  'f1f0'],\n",
       " ['e0e1',\n",
       "  'b2b4',\n",
       "  'a0a2',\n",
       "  'h2i2',\n",
       "  'e1f1',\n",
       "  'i2i6',\n",
       "  'b4i4',\n",
       "  'a2b2',\n",
       "  'c0a2',\n",
       "  'a2c4',\n",
       "  'f1e1',\n",
       "  'e1e2',\n",
       "  'b2b1'],\n",
       " ['e0e1',\n",
       "  'b2b4',\n",
       "  'b0a2',\n",
       "  'b4i4',\n",
       "  'h2b2',\n",
       "  'e1f1',\n",
       "  'a2b0',\n",
       "  'c3c4',\n",
       "  'g3g4',\n",
       "  'c4c5',\n",
       "  'f1f2',\n",
       "  'i4i5',\n",
       "  'e3e4',\n",
       "  'e4e5',\n",
       "  'f2f1',\n",
       "  'a3a4',\n",
       "  'f1e1',\n",
       "  'e1d1',\n",
       "  'd1d0',\n",
       "  'd0e0'],\n",
       " ['e0e1',\n",
       "  'b2b4',\n",
       "  'c0a2',\n",
       "  'e1e2',\n",
       "  'b4f4',\n",
       "  'b0d1',\n",
       "  'f4f5',\n",
       "  'h2h6',\n",
       "  'f5f3',\n",
       "  'h6h1',\n",
       "  'f3f0',\n",
       "  'f0a0',\n",
       "  'i3i4',\n",
       "  'g0i2',\n",
       "  'e2d2'],\n",
       " ['e0e1', 'b2b4', 'e1d1', 'g3g4', 'b0c2', 'd1d2', 'd2e2'],\n",
       " ['e0e1', 'b2b4', 'e1d1', 'h2h6', 'h6h4', 'd1d2', 'b4a4', 'a4b4'],\n",
       " ['e0e1', 'b2b4', 'e1e0', 'c0a2'],\n",
       " ['e0e1', 'b2b4', 'e1e0', 'h2a2'],\n",
       " ['e0e1', 'b2b4', 'e1e0', 'h2d2'],\n",
       " ['e0e1', 'b2b4', 'e1e0', 'h2g2'],\n",
       " ['e0e1', 'b2b4', 'e1e0', 'h2h1'],\n",
       " ['e0e1', 'b2b4', 'e1e0', 'h2h3'],\n",
       " ['e0e1', 'b2b4', 'e1e0', 'h2h5'],\n",
       " ['e0e1', 'b2b4', 'e1e0', 'h2h8'],\n",
       " ['e0e1', 'b2b4', 'e1e0', 'h2i2'],\n",
       " ['e0e1',\n",
       "  'b2b4',\n",
       "  'e1f1',\n",
       "  'h2c2',\n",
       "  'b4d4',\n",
       "  'c2f2',\n",
       "  'f2i2',\n",
       "  'i2b2',\n",
       "  'b0c2',\n",
       "  'b2b0',\n",
       "  'b0b3',\n",
       "  'b3b5',\n",
       "  'b5c5',\n",
       "  'f1e1',\n",
       "  'e1e2'],\n",
       " ['e0e1', 'b2b4', 'e1f1', 'h2c2', 'b4d4', 'd4f4', 'f4f5', 'a0a1', 'c2d2'],\n",
       " ['e0e1', 'b2b4', 'e1f1', 'h2c2', 'b4d4', 'i3i4', 'a0a1', 'd4f4'],\n",
       " ['e0e1', 'b2b4', 'e1f1', 'h2f2', 'b4d4', 'f2f4', 'a0a2', 'a2b2', 'd4b4'],\n",
       " ['e0e1',\n",
       "  'b2b4',\n",
       "  'e1f1',\n",
       "  'h2f2',\n",
       "  'f2f5',\n",
       "  'f5e5',\n",
       "  'a0a2',\n",
       "  'a3a4',\n",
       "  'a2c2',\n",
       "  'c0e2',\n",
       "  'c2b2',\n",
       "  'b4b6',\n",
       "  'f1e1',\n",
       "  'e2c0',\n",
       "  'b6b7',\n",
       "  'b7b6'],\n",
       " ['e0e1',\n",
       "  'b2b4',\n",
       "  'g0e2',\n",
       "  'b4c4',\n",
       "  'a3a4',\n",
       "  'a0a2',\n",
       "  'c3c4',\n",
       "  'h2h7',\n",
       "  'g3g4',\n",
       "  'e1f1',\n",
       "  'f1f0'],\n",
       " ['e0e1',\n",
       "  'b2b4',\n",
       "  'g0i2',\n",
       "  'h2g2',\n",
       "  'e1e2',\n",
       "  'a0a2',\n",
       "  'e2d2',\n",
       "  'b4b5',\n",
       "  'a2b2',\n",
       "  'd0e1',\n",
       "  'e1f0',\n",
       "  'g2f2',\n",
       "  'f2f6',\n",
       "  'b2b5',\n",
       "  'b5b3',\n",
       "  'f6f8',\n",
       "  'd2d1',\n",
       "  'f8a8'],\n",
       " ['e0e1',\n",
       "  'b2b4',\n",
       "  'g0i2',\n",
       "  'h2g2',\n",
       "  'e1e2',\n",
       "  'a0a2',\n",
       "  'e2d2',\n",
       "  'g2g1',\n",
       "  'b4b5',\n",
       "  'b5b8',\n",
       "  'g1e1',\n",
       "  'e1a1',\n",
       "  'i2g0'],\n",
       " ['e0e1',\n",
       "  'b2b4',\n",
       "  'h2e2',\n",
       "  'a0a2',\n",
       "  'a2b2',\n",
       "  'e2e6',\n",
       "  'e1f1',\n",
       "  'e6e4',\n",
       "  'g3g4',\n",
       "  'f1f0',\n",
       "  'f0f1',\n",
       "  'i3i4',\n",
       "  'e4c4',\n",
       "  'c4e4'],\n",
       " ['e0e1',\n",
       "  'b2b4',\n",
       "  'h2e2',\n",
       "  'a0a2',\n",
       "  'a2b2',\n",
       "  'e2g2',\n",
       "  'b4b6',\n",
       "  'g2h2',\n",
       "  'h2h1',\n",
       "  'e1f1',\n",
       "  'b6b3'],\n",
       " ['e0e1',\n",
       "  'b2b4',\n",
       "  'h2e2',\n",
       "  'a0a2',\n",
       "  'a2b2',\n",
       "  'e2g2',\n",
       "  'b4b6',\n",
       "  'g2h2',\n",
       "  'i3i4',\n",
       "  'e1e2',\n",
       "  'g0i2',\n",
       "  'h2h9',\n",
       "  'b2b3',\n",
       "  'b3a3'],\n",
       " ['e0e1', 'b2b4', 'h2e2', 'a0a2', 'a2b2', 'e2i2', 'e1f1', 'i2d2', 'd2d4'],\n",
       " ['e0e1', 'b2b4', 'h2e2', 'a0a2', 'a2b2', 'e3e4', 'c0a2', 'e1e0'],\n",
       " ['e0e1',\n",
       "  'b2b4',\n",
       "  'h2e2',\n",
       "  'b4b9',\n",
       "  'a0a1',\n",
       "  'g0i2',\n",
       "  'c0a2',\n",
       "  'g3g4',\n",
       "  'e2g2',\n",
       "  'g2c2',\n",
       "  'e1f1',\n",
       "  'g4g5',\n",
       "  'e3e4'],\n",
       " ['e0e1',\n",
       "  'b2b4',\n",
       "  'h2e2',\n",
       "  'b4b9',\n",
       "  'a3a4',\n",
       "  'i3i4',\n",
       "  'i4i5',\n",
       "  'c3c4',\n",
       "  'e3e4',\n",
       "  'c4c5',\n",
       "  'c0a2',\n",
       "  'e4e5',\n",
       "  'e5e6',\n",
       "  'e6f6',\n",
       "  'f6e6',\n",
       "  'e2i2'],\n",
       " ['e0e1', 'b2b4', 'h2e2', 'b4b9', 'e1e0'],\n",
       " ['e0e1',\n",
       "  'b2b4',\n",
       "  'h2e2',\n",
       "  'b4b9',\n",
       "  'e2e6',\n",
       "  'b0c2',\n",
       "  'e1f1',\n",
       "  'c2b0',\n",
       "  'g3g4',\n",
       "  'f1f0',\n",
       "  'b0a2',\n",
       "  'a2c1',\n",
       "  'f0e0',\n",
       "  'e0d0',\n",
       "  'c1b3',\n",
       "  'd0d1',\n",
       "  'a3a4',\n",
       "  'd1d0',\n",
       "  'd0e0'],\n",
       " ['e0e1', 'b2b4', 'h2e2', 'e2g2'],\n",
       " ['e0e1',\n",
       "  'b2b4',\n",
       "  'h2e2',\n",
       "  'e2g2',\n",
       "  'a3a4',\n",
       "  'e1d1',\n",
       "  'd1d2',\n",
       "  'c0e2',\n",
       "  'e2c0',\n",
       "  'b4c4',\n",
       "  'd2e2',\n",
       "  'c4c9',\n",
       "  'e2e1',\n",
       "  'e1e2',\n",
       "  'c0a2',\n",
       "  'a2c0',\n",
       "  'g3g4',\n",
       "  'g4g5'],\n",
       " ['e0e1',\n",
       "  'b2b4',\n",
       "  'h2e2',\n",
       "  'e2g2',\n",
       "  'a3a4',\n",
       "  'e1f1',\n",
       "  'b4c4',\n",
       "  'g2g1',\n",
       "  'c0a2',\n",
       "  'a2c0',\n",
       "  'c4f4',\n",
       "  'f4c4',\n",
       "  'c4c9',\n",
       "  'g1g0',\n",
       "  'g0f0',\n",
       "  'i3i4',\n",
       "  'f1f2',\n",
       "  'e3e4',\n",
       "  'e4e5',\n",
       "  'f0e0',\n",
       "  'e0e8',\n",
       "  'g3g4',\n",
       "  'g4g5',\n",
       "  'f2e2',\n",
       "  'e2e1',\n",
       "  'e1e2',\n",
       "  'e2d2',\n",
       "  'd2e2'],\n",
       " ['e0e1',\n",
       "  'b2b4',\n",
       "  'h2e2',\n",
       "  'e2g2',\n",
       "  'b0c2',\n",
       "  'c0a2',\n",
       "  'b4b6',\n",
       "  'b6e6',\n",
       "  'c2d0',\n",
       "  'd0e2',\n",
       "  'g2i2',\n",
       "  'e1f1',\n",
       "  'f1f2',\n",
       "  'i2i1',\n",
       "  'i1e1',\n",
       "  'a3a4',\n",
       "  'e3e4',\n",
       "  'i3i4',\n",
       "  'f2e2',\n",
       "  'e2f2',\n",
       "  'i4i5',\n",
       "  'e2d2'],\n",
       " ['e0e1',\n",
       "  'b2b4',\n",
       "  'h2e2',\n",
       "  'e2g2',\n",
       "  'b0c2',\n",
       "  'c0a2',\n",
       "  'b4b6',\n",
       "  'b6e6',\n",
       "  'c2d0',\n",
       "  'd0e2',\n",
       "  'g2i2',\n",
       "  'e1f1',\n",
       "  'f1f2',\n",
       "  'i2i1',\n",
       "  'i3i4'],\n",
       " ['e0e1',\n",
       "  'b2b4',\n",
       "  'h2e2',\n",
       "  'e2g2',\n",
       "  'b0c2',\n",
       "  'c0a2',\n",
       "  'b4c4',\n",
       "  'e1d1',\n",
       "  'c2b0',\n",
       "  'c4c9',\n",
       "  'g2d2',\n",
       "  'd2d5',\n",
       "  'd5d2',\n",
       "  'a3a4',\n",
       "  'd1e1',\n",
       "  'd2d3'],\n",
       " ['e0e1',\n",
       "  'b2b4',\n",
       "  'h2e2',\n",
       "  'e2g2',\n",
       "  'b0c2',\n",
       "  'c0a2',\n",
       "  'c2d0',\n",
       "  'd0c2',\n",
       "  'e1f1',\n",
       "  'g2i2',\n",
       "  'b4e4',\n",
       "  'e4c4',\n",
       "  'e3e4',\n",
       "  'c2d4',\n",
       "  'd4c6',\n",
       "  'i2c2',\n",
       "  'c2d2',\n",
       "  'd2i2',\n",
       "  'i2h2',\n",
       "  'h2c2',\n",
       "  'c2c3',\n",
       "  'f1f2',\n",
       "  'f2e2'],\n",
       " ['e0e1',\n",
       "  'b2b4',\n",
       "  'h2e2',\n",
       "  'e2g2',\n",
       "  'b0c2',\n",
       "  'c0a2',\n",
       "  'c2d0',\n",
       "  'd0c2',\n",
       "  'g2f2',\n",
       "  'f2d2',\n",
       "  'e1f1',\n",
       "  'd2f2',\n",
       "  'i3i4',\n",
       "  'f2f3',\n",
       "  'b4c4',\n",
       "  'a2c4',\n",
       "  'f1f0',\n",
       "  'f0f1',\n",
       "  'f1e1',\n",
       "  'e1e2',\n",
       "  'e2f2',\n",
       "  'i4i5',\n",
       "  'f2e2',\n",
       "  'e2d2',\n",
       "  'd2d1'],\n",
       " ['e0e1',\n",
       "  'b2b4',\n",
       "  'h2e2',\n",
       "  'e2g2',\n",
       "  'b0c2',\n",
       "  'c0a2',\n",
       "  'e1f1',\n",
       "  'a2c4',\n",
       "  'g2h2',\n",
       "  'b4b3',\n",
       "  'b3b6',\n",
       "  'c4a2',\n",
       "  'b6b7',\n",
       "  'b7b2',\n",
       "  'f1f0',\n",
       "  'g0e2'],\n",
       " ['e0e1',\n",
       "  'b2b4',\n",
       "  'h2e2',\n",
       "  'e2g2',\n",
       "  'b0c2',\n",
       "  'c0a2',\n",
       "  'e1f1',\n",
       "  'a2c4',\n",
       "  'g2h2',\n",
       "  'c4e2',\n",
       "  'a3a4',\n",
       "  'b4e4',\n",
       "  'e4h4'],\n",
       " ['e0e1',\n",
       "  'b2b4',\n",
       "  'h2e2',\n",
       "  'e2g2',\n",
       "  'b0c2',\n",
       "  'c0a2',\n",
       "  'i3i4',\n",
       "  'b4b8',\n",
       "  'g2e2',\n",
       "  'c2a1',\n",
       "  'a2c0',\n",
       "  'b8i8'],\n",
       " ['e0e1',\n",
       "  'b2b4',\n",
       "  'h2e2',\n",
       "  'e2g2',\n",
       "  'b0c2',\n",
       "  'c2b0',\n",
       "  'b4a4',\n",
       "  'g2g6',\n",
       "  'e1e2',\n",
       "  'g0i2',\n",
       "  'e2d2',\n",
       "  'i3i4',\n",
       "  'c0a2',\n",
       "  'i2g4',\n",
       "  'd2e2'],\n",
       " ['e0e1',\n",
       "  'b2b4',\n",
       "  'h2e2',\n",
       "  'e2g2',\n",
       "  'b0c2',\n",
       "  'c2b0',\n",
       "  'b4g4',\n",
       "  'g4g9',\n",
       "  'e1d1',\n",
       "  'g2c2',\n",
       "  'c2e2',\n",
       "  'e2c2',\n",
       "  'c2c6',\n",
       "  'd1d2',\n",
       "  'c6g6',\n",
       "  'd2d1',\n",
       "  'd1e1',\n",
       "  'e1e0',\n",
       "  'e0d0',\n",
       "  'd0d1'],\n",
       " ['e0e1', 'b2b4', 'h2e2', 'e2g2', 'b0c2', 'c2b0', 'e1d1', 'd1d0'],\n",
       " ['e0e1',\n",
       "  'b2b4',\n",
       "  'h2e2',\n",
       "  'e2g2',\n",
       "  'b0c2',\n",
       "  'c2b0',\n",
       "  'e1d1',\n",
       "  'g2f2',\n",
       "  'd1d2',\n",
       "  'b4e4',\n",
       "  'e4f4',\n",
       "  'f4e4',\n",
       "  'e4e5',\n",
       "  'e5e4'],\n",
       " ['e0e1',\n",
       "  'b2b4',\n",
       "  'h2e2',\n",
       "  'e2g2',\n",
       "  'b0c2',\n",
       "  'c2b0',\n",
       "  'e1d1',\n",
       "  'g2f2',\n",
       "  'd1d2',\n",
       "  'b4e4',\n",
       "  'e4f4',\n",
       "  'f4e4',\n",
       "  'e4e5',\n",
       "  'e5g5'],\n",
       " ['e0e1',\n",
       "  'b2b4',\n",
       "  'h2e2',\n",
       "  'e2g2',\n",
       "  'b0c2',\n",
       "  'c2b0',\n",
       "  'e1d1',\n",
       "  'g2f2',\n",
       "  'd1d2',\n",
       "  'i3i4',\n",
       "  'f2f5',\n",
       "  'f5f4',\n",
       "  'c0e2',\n",
       "  'a3a4'],\n",
       " ['e0e1',\n",
       "  'b2b4',\n",
       "  'h2e2',\n",
       "  'e2g2',\n",
       "  'b0c2',\n",
       "  'c2b0',\n",
       "  'e1d1',\n",
       "  'g2g6',\n",
       "  'd1d2',\n",
       "  'b4b5',\n",
       "  'c0a2',\n",
       "  'b5a5',\n",
       "  'a2c0',\n",
       "  'g3g4',\n",
       "  'g4g5',\n",
       "  'c0e2',\n",
       "  'e2c0',\n",
       "  'd2e2',\n",
       "  'e2f2',\n",
       "  'f2e2',\n",
       "  'i3i4',\n",
       "  'i4i5',\n",
       "  'f2f1'],\n",
       " ['e0e1',\n",
       "  'b2b4',\n",
       "  'h2e2',\n",
       "  'e2g2',\n",
       "  'b0c2',\n",
       "  'c2b0',\n",
       "  'e1d1',\n",
       "  'g2g6',\n",
       "  'd1d2',\n",
       "  'b4b5',\n",
       "  'g3g4',\n",
       "  'b5b1',\n",
       "  'd2e2',\n",
       "  'e2d2',\n",
       "  'a3a4',\n",
       "  'c3c4',\n",
       "  'c0a2',\n",
       "  'a2c0'],\n",
       " ['e0e1',\n",
       "  'b2b4',\n",
       "  'h2e2',\n",
       "  'e2g2',\n",
       "  'b0c2',\n",
       "  'c2b0',\n",
       "  'e1d1',\n",
       "  'g2g6',\n",
       "  'd1d2',\n",
       "  'b4b7',\n",
       "  'b7f7',\n",
       "  'g3g4',\n",
       "  'c0e2',\n",
       "  'e2g0',\n",
       "  'i3i4',\n",
       "  'd2e2'],\n",
       " ['e0e1',\n",
       "  'b2b4',\n",
       "  'h2e2',\n",
       "  'e2g2',\n",
       "  'b0c2',\n",
       "  'c2b0',\n",
       "  'e1d1',\n",
       "  'g2g6',\n",
       "  'd1d2',\n",
       "  'b4b7',\n",
       "  'b7f7',\n",
       "  'g3g4',\n",
       "  'd2d1'],\n",
       " ['e0e1',\n",
       "  'b2b4',\n",
       "  'h2e2',\n",
       "  'e2g2',\n",
       "  'b0c2',\n",
       "  'c2b0',\n",
       "  'e1d1',\n",
       "  'g2g6',\n",
       "  'd1d2',\n",
       "  'b4h4',\n",
       "  'h4a4',\n",
       "  'g3g4',\n",
       "  'a3a4'],\n",
       " ['e0e1',\n",
       "  'b2b4',\n",
       "  'h2e2',\n",
       "  'e2g2',\n",
       "  'b0c2',\n",
       "  'c2b0',\n",
       "  'e1d1',\n",
       "  'g2g6',\n",
       "  'd1d2',\n",
       "  'b4h4',\n",
       "  'h4a4',\n",
       "  'g3g4',\n",
       "  'd2e2'],\n",
       " ['e0e1',\n",
       "  'b2b4',\n",
       "  'h2e2',\n",
       "  'e2g2',\n",
       "  'b0c2',\n",
       "  'c2b0',\n",
       "  'e1d1',\n",
       "  'g2g6',\n",
       "  'd1d2',\n",
       "  'b4h4',\n",
       "  'h4a4',\n",
       "  'g3g4',\n",
       "  'e3e4'],\n",
       " ['e0e1',\n",
       "  'b2b4',\n",
       "  'h2e2',\n",
       "  'e2g2',\n",
       "  'b0c2',\n",
       "  'c2b0',\n",
       "  'e1d1',\n",
       "  'g2i2',\n",
       "  'd1e1',\n",
       "  'i2i1',\n",
       "  'i3i4',\n",
       "  'i1i0',\n",
       "  'a3a4',\n",
       "  'e3e4',\n",
       "  'e4e5',\n",
       "  'a4a5'],\n",
       " ['e0e1',\n",
       "  'b2b4',\n",
       "  'h2e2',\n",
       "  'e2g2',\n",
       "  'b0c2',\n",
       "  'c2b0',\n",
       "  'e1d1',\n",
       "  'g2i2',\n",
       "  'd1e1',\n",
       "  'i2i1',\n",
       "  'i3i4',\n",
       "  'i1i0',\n",
       "  'a3a4',\n",
       "  'i0i6'],\n",
       " ['e0e1',\n",
       "  'b2b4',\n",
       "  'h2e2',\n",
       "  'e2g2',\n",
       "  'b0c2',\n",
       "  'c2b0',\n",
       "  'i3i4',\n",
       "  'b4b1',\n",
       "  'g2h2',\n",
       "  'h2d2',\n",
       "  'e1e2',\n",
       "  'b1a1',\n",
       "  'a1d1',\n",
       "  'd1i1',\n",
       "  'i1e1',\n",
       "  'e1d1'],\n",
       " ['e0e1',\n",
       "  'b2b4',\n",
       "  'h2e2',\n",
       "  'e2g2',\n",
       "  'b0c2',\n",
       "  'e1d1',\n",
       "  'a3a4',\n",
       "  'b4b3',\n",
       "  'g2d2',\n",
       "  'b3b0',\n",
       "  'd2d4',\n",
       "  'b0b8',\n",
       "  'd4f4',\n",
       "  'c2b4',\n",
       "  'd1e1',\n",
       "  'e1e2',\n",
       "  'e2f2'],\n",
       " ['e0e1',\n",
       "  'b2b4',\n",
       "  'h2e2',\n",
       "  'e2g2',\n",
       "  'b0c2',\n",
       "  'e1d1',\n",
       "  'a3a4',\n",
       "  'b4b3',\n",
       "  'g2h2',\n",
       "  'h2f2',\n",
       "  'f2f3',\n",
       "  'e3e4',\n",
       "  'c2b4',\n",
       "  'b3b9',\n",
       "  'f3b3',\n",
       "  'b3e3',\n",
       "  'd1e1'],\n",
       " ['e0e1', 'b2b4', 'h2e2', 'e2g2', 'b0c2', 'e1e2', 'e2d2', 'g2f2', 'f2e2'],\n",
       " ['e0e1',\n",
       "  'b2b4',\n",
       "  'h2e2',\n",
       "  'e2g2',\n",
       "  'b0c2',\n",
       "  'e1e2',\n",
       "  'i3i4',\n",
       "  'e2d2',\n",
       "  'c0e2',\n",
       "  'e2c4',\n",
       "  'g2e2',\n",
       "  'e2e1',\n",
       "  'b4a4',\n",
       "  'd2d1',\n",
       "  'e1g1',\n",
       "  'g1g5',\n",
       "  'c4a2',\n",
       "  'c3c4',\n",
       "  'i4i5',\n",
       "  'd1d2',\n",
       "  'd2e2'],\n",
       " ['e0e1',\n",
       "  'b2b4',\n",
       "  'h2e2',\n",
       "  'e2g2',\n",
       "  'b0c2',\n",
       "  'g0e2',\n",
       "  'c0a2',\n",
       "  'e1f1',\n",
       "  'e2c4',\n",
       "  'g2g0',\n",
       "  'g0f0',\n",
       "  'f1e1',\n",
       "  'f0h0',\n",
       "  'b4b7',\n",
       "  'b7b0',\n",
       "  'i3i4',\n",
       "  'b0b8'],\n",
       " ['e0e1',\n",
       "  'b2b4',\n",
       "  'h2e2',\n",
       "  'e2g2',\n",
       "  'b0c2',\n",
       "  'g0i2',\n",
       "  'e1f1',\n",
       "  'c2a1',\n",
       "  'g2h2',\n",
       "  'h2d2',\n",
       "  'i2g0',\n",
       "  'a1c2',\n",
       "  'b4d4',\n",
       "  'd4d6',\n",
       "  'd6d8',\n",
       "  'd8d3',\n",
       "  'd3e3',\n",
       "  'e3c3',\n",
       "  'f1f0',\n",
       "  'f0e0',\n",
       "  'a3a4'],\n",
       " ['e0e1',\n",
       "  'b2b4',\n",
       "  'h2e2',\n",
       "  'e2g2',\n",
       "  'b4b1',\n",
       "  'a0a2',\n",
       "  'b1b4',\n",
       "  'g2d2',\n",
       "  'e3e4',\n",
       "  'e1f1',\n",
       "  'f1f2',\n",
       "  'd2d3',\n",
       "  'd3g3',\n",
       "  'b4d4',\n",
       "  'c0a2',\n",
       "  'f2f1',\n",
       "  'd4d2'],\n",
       " ['e0e1',\n",
       "  'b2b4',\n",
       "  'h2e2',\n",
       "  'e2g2',\n",
       "  'b4b1',\n",
       "  'a0a2',\n",
       "  'e1e0',\n",
       "  'g2g6',\n",
       "  'g6g8',\n",
       "  'a2e2',\n",
       "  'g3g4',\n",
       "  'g4g5',\n",
       "  'b1a1'],\n",
       " ['e0e1',\n",
       "  'b2b4',\n",
       "  'h2e2',\n",
       "  'e2g2',\n",
       "  'b4b1',\n",
       "  'a0a2',\n",
       "  'i3i4',\n",
       "  'e1f1',\n",
       "  'g2e2',\n",
       "  'e2b2',\n",
       "  'b2b6',\n",
       "  'a2i2',\n",
       "  'i4i5',\n",
       "  'f1f0',\n",
       "  'b1b3'],\n",
       " ['e0e1',\n",
       "  'b2b4',\n",
       "  'h2e2',\n",
       "  'e2g2',\n",
       "  'b4b1',\n",
       "  'a0a2',\n",
       "  'i3i4',\n",
       "  'g2h2',\n",
       "  'b1b0',\n",
       "  'h2d2',\n",
       "  'b0b6',\n",
       "  'a2c2',\n",
       "  'c2c5',\n",
       "  'b6b0',\n",
       "  'e1e2',\n",
       "  'b6b8',\n",
       "  'b8b2',\n",
       "  'b2c2',\n",
       "  'c2c9',\n",
       "  'd2d4',\n",
       "  'c0a2'],\n",
       " ['e0e1', 'b2b4', 'h2e2', 'e2g2', 'b4b6', 'e1e0'],\n",
       " ['e0e1',\n",
       "  'b2b4',\n",
       "  'h2e2',\n",
       "  'e2g2',\n",
       "  'b4b6',\n",
       "  'g0i2',\n",
       "  'b6e6',\n",
       "  'e6a6',\n",
       "  'a3a4',\n",
       "  'i3i4'],\n",
       " ['e0e1',\n",
       "  'b2b4',\n",
       "  'h2e2',\n",
       "  'e2g2',\n",
       "  'c0a2',\n",
       "  'b0c2',\n",
       "  'e1f1',\n",
       "  'a2c4',\n",
       "  'g2h2',\n",
       "  'c4e2',\n",
       "  'a3a4',\n",
       "  'b4e4',\n",
       "  'e4h4'],\n",
       " ['e0e1',\n",
       "  'b2b4',\n",
       "  'h2e2',\n",
       "  'e2g2',\n",
       "  'c0a2',\n",
       "  'b0c2',\n",
       "  'g2e2',\n",
       "  'b4h4',\n",
       "  'e1f1',\n",
       "  'e2e0',\n",
       "  'e0e6',\n",
       "  'a3a4',\n",
       "  'f1f0',\n",
       "  'a2c4',\n",
       "  'i3i4',\n",
       "  'e3e4',\n",
       "  'g3g4',\n",
       "  'f0e0'],\n",
       " ['e0e1',\n",
       "  'b2b4',\n",
       "  'h2e2',\n",
       "  'e2g2',\n",
       "  'c0a2',\n",
       "  'b0c2',\n",
       "  'i3i4',\n",
       "  'c2d0',\n",
       "  'b4b1',\n",
       "  'a2c4',\n",
       "  'b1b3',\n",
       "  'g2e2',\n",
       "  'd0c2',\n",
       "  'e1f1',\n",
       "  'f1f2'],\n",
       " ['e0e1',\n",
       "  'b2b4',\n",
       "  'h2e2',\n",
       "  'e2g2',\n",
       "  'c0a2',\n",
       "  'b0d1',\n",
       "  'e1e2',\n",
       "  'a2c4',\n",
       "  'b4b6',\n",
       "  'b6c6',\n",
       "  'e2d2',\n",
       "  'd1b2',\n",
       "  'b2d3',\n",
       "  'g2h2',\n",
       "  'h2h1',\n",
       "  'h1c1',\n",
       "  'g3g4',\n",
       "  'd2e2',\n",
       "  'g4g5',\n",
       "  'g0i2',\n",
       "  'd2d1'],\n",
       " ['e0e1',\n",
       "  'b2b4',\n",
       "  'h2e2',\n",
       "  'e2g2',\n",
       "  'c0a2',\n",
       "  'b0d1',\n",
       "  'e1e2',\n",
       "  'a2c4',\n",
       "  'b4b7',\n",
       "  'b7b2',\n",
       "  'c4a2',\n",
       "  'e2d2',\n",
       "  'g0e2',\n",
       "  'e2g4'],\n",
       " ['e0e1',\n",
       "  'b2b4',\n",
       "  'h2e2',\n",
       "  'e2g2',\n",
       "  'c0a2',\n",
       "  'b0d1',\n",
       "  'e1e2',\n",
       "  'a2c4',\n",
       "  'c4a2',\n",
       "  'd1f0',\n",
       "  'b4h4',\n",
       "  'h4h9',\n",
       "  'a2c0',\n",
       "  'e2e1',\n",
       "  'g2e2',\n",
       "  'e2f2'],\n",
       " ['e0e1',\n",
       "  'b2b4',\n",
       "  'h2e2',\n",
       "  'e2g2',\n",
       "  'c0a2',\n",
       "  'b0d1',\n",
       "  'e1e2',\n",
       "  'a2c4',\n",
       "  'e2f2',\n",
       "  'g2g1',\n",
       "  'g1g2',\n",
       "  'i3i4',\n",
       "  'b4b3',\n",
       "  'g2h2',\n",
       "  'h2h5',\n",
       "  'c4e2',\n",
       "  'h5c5',\n",
       "  'f2f1'],\n",
       " ['e0e1',\n",
       "  'b2b4',\n",
       "  'h2e2',\n",
       "  'e2g2',\n",
       "  'c0a2',\n",
       "  'b0d1',\n",
       "  'e1e2',\n",
       "  'a2c4',\n",
       "  'e2f2',\n",
       "  'g2h2',\n",
       "  'b4a4'],\n",
       " ['e0e1',\n",
       "  'b2b4',\n",
       "  'h2e2',\n",
       "  'e2g2',\n",
       "  'c0a2',\n",
       "  'b0d1',\n",
       "  'e1e2',\n",
       "  'a2c4',\n",
       "  'g0i2',\n",
       "  'g2f2',\n",
       "  'd1b2',\n",
       "  'b2c0',\n",
       "  'b4b1',\n",
       "  'b1b0',\n",
       "  'c0b2',\n",
       "  'b0a0'],\n",
       " ['e0e1',\n",
       "  'b2b4',\n",
       "  'h2e2',\n",
       "  'e2g2',\n",
       "  'c0a2',\n",
       "  'b0d1',\n",
       "  'e1e2',\n",
       "  'a2c4',\n",
       "  'g2h2',\n",
       "  'd1f0',\n",
       "  'e3e4'],\n",
       " ['e0e1',\n",
       "  'b2b4',\n",
       "  'h2e2',\n",
       "  'e2g2',\n",
       "  'c0a2',\n",
       "  'b0d1',\n",
       "  'e1e2',\n",
       "  'a2c4',\n",
       "  'g2h2',\n",
       "  'g0i2',\n",
       "  'i2g4'],\n",
       " ['e0e1',\n",
       "  'b2b4',\n",
       "  'h2e2',\n",
       "  'e2g2',\n",
       "  'c0a2',\n",
       "  'b0d1',\n",
       "  'e1e2',\n",
       "  'a2c4',\n",
       "  'g2h2',\n",
       "  'h2g2',\n",
       "  'g2g1'],\n",
       " ['e0e1',\n",
       "  'b2b4',\n",
       "  'h2e2',\n",
       "  'e2g2',\n",
       "  'c0a2',\n",
       "  'b0d1',\n",
       "  'e1e2',\n",
       "  'a2c4',\n",
       "  'g2i2',\n",
       "  'd1b2',\n",
       "  'b2c0',\n",
       "  'g3g4',\n",
       "  'e2e1',\n",
       "  'e2d2',\n",
       "  'i2f2',\n",
       "  'g0e2',\n",
       "  'f2f6',\n",
       "  'e2c4',\n",
       "  'i3i4',\n",
       "  'd2d1',\n",
       "  'd1d2',\n",
       "  'd2e2',\n",
       "  'e2f2'],\n",
       " ['e0e1',\n",
       "  'b2b4',\n",
       "  'h2e2',\n",
       "  'e2g2',\n",
       "  'c0a2',\n",
       "  'b0d1',\n",
       "  'e1e2',\n",
       "  'a2c4',\n",
       "  'g2i2',\n",
       "  'i2g2',\n",
       "  'd1b2',\n",
       "  'e3e4',\n",
       "  'i3i4',\n",
       "  'e4e5'],\n",
       " ['e0e1',\n",
       "  'b2b4',\n",
       "  'h2e2',\n",
       "  'e2g2',\n",
       "  'c0a2',\n",
       "  'b0d1',\n",
       "  'e1e2',\n",
       "  'e2e1',\n",
       "  'g2g1',\n",
       "  'a2c4',\n",
       "  'e2d2'],\n",
       " ['e0e1',\n",
       "  'b2b4',\n",
       "  'h2e2',\n",
       "  'e2g2',\n",
       "  'c0a2',\n",
       "  'b0d1',\n",
       "  'g2f2',\n",
       "  'd1b2',\n",
       "  'a2c4',\n",
       "  'f2c2',\n",
       "  'c4a2',\n",
       "  'e1e0',\n",
       "  'g0e2',\n",
       "  'b4g4',\n",
       "  'g4g7',\n",
       "  'c2c1',\n",
       "  'g3g4',\n",
       "  'c1e1',\n",
       "  'e1e4',\n",
       "  'e4e2',\n",
       "  'e0f0',\n",
       "  'f0f1',\n",
       "  'f1f0'],\n",
       " ['e0e1',\n",
       "  'b2b4',\n",
       "  'h2e2',\n",
       "  'e2g2',\n",
       "  'c0a2',\n",
       "  'b0d1',\n",
       "  'g2f2',\n",
       "  'e3e4',\n",
       "  'a2c0',\n",
       "  'b4d4',\n",
       "  'd4d8',\n",
       "  'd8b8'],\n",
       " ['e0e1',\n",
       "  'b2b4',\n",
       "  'h2e2',\n",
       "  'e2g2',\n",
       "  'c0e2',\n",
       "  'e2c0',\n",
       "  'i3i4',\n",
       "  'b4b1',\n",
       "  'g2f2',\n",
       "  'b1b2',\n",
       "  'b2b0',\n",
       "  'e1e0',\n",
       "  'f2d2',\n",
       "  'b0b4',\n",
       "  'd2d1',\n",
       "  'd1f1',\n",
       "  'f1a1'],\n",
       " ['e0e1',\n",
       "  'b2b4',\n",
       "  'h2e2',\n",
       "  'e2g2',\n",
       "  'e1f1',\n",
       "  'a0a1',\n",
       "  'a1a2',\n",
       "  'b4b6',\n",
       "  'a2c2',\n",
       "  'c2b2',\n",
       "  'g2g1',\n",
       "  'b6b4',\n",
       "  'g1h1',\n",
       "  'h1i1',\n",
       "  'i1i2'],\n",
       " ['e0e1',\n",
       "  'b2b4',\n",
       "  'h2e2',\n",
       "  'e2g2',\n",
       "  'g2c2',\n",
       "  'a0a2',\n",
       "  'e1f1',\n",
       "  'b4e4',\n",
       "  'i3i4',\n",
       "  'e4f4',\n",
       "  'i4i5',\n",
       "  'f4c4',\n",
       "  'c4c9',\n",
       "  'c0a2',\n",
       "  'a2c0',\n",
       "  'c2i2',\n",
       "  'i2a2',\n",
       "  'a2f2',\n",
       "  'f2e2',\n",
       "  'f1f2',\n",
       "  'f2f1'],\n",
       " ['e0e1', 'b2b4', 'h2e2', 'e2g2', 'g2c2', 'c2c1', 'a0b0', 'e1e0'],\n",
       " ['e0e1',\n",
       "  'b2b4',\n",
       "  'h2e2',\n",
       "  'e2g2',\n",
       "  'g2c2',\n",
       "  'c2i2',\n",
       "  'i2i6',\n",
       "  'b4b1',\n",
       "  'c3c4',\n",
       "  'a3a4',\n",
       "  'b1c1',\n",
       "  'c1a1'],\n",
       " ['e0e1',\n",
       "  'b2b4',\n",
       "  'h2e2',\n",
       "  'e2g2',\n",
       "  'g2c2',\n",
       "  'e1f1',\n",
       "  'b4d4',\n",
       "  'c0a2',\n",
       "  'c2f2',\n",
       "  'd4c4',\n",
       "  'c4c9',\n",
       "  'a2c4'],\n",
       " ['e0e1',\n",
       "  'b2b4',\n",
       "  'h2e2',\n",
       "  'e2g2',\n",
       "  'g2c2',\n",
       "  'e1f1',\n",
       "  'c2b2',\n",
       "  'b2i2',\n",
       "  'i2f2',\n",
       "  'b4b8',\n",
       "  'f2c2',\n",
       "  'b8h8',\n",
       "  'c0a2',\n",
       "  'a2c0'],\n",
       " ['e0e1',\n",
       "  'b2b4',\n",
       "  'h2e2',\n",
       "  'e2g2',\n",
       "  'g2e2',\n",
       "  'a0a2',\n",
       "  'b4b1',\n",
       "  'e1f1',\n",
       "  'e2d2',\n",
       "  'b1b4',\n",
       "  'a2b2',\n",
       "  'f1e1',\n",
       "  'c0a2',\n",
       "  'a2c4',\n",
       "  'c4e2',\n",
       "  'b4g4'],\n",
       " ['e0e1',\n",
       "  'b2b4',\n",
       "  'h2e2',\n",
       "  'e2g2',\n",
       "  'g2i2',\n",
       "  'a0a1',\n",
       "  'a1c1',\n",
       "  'i2f2',\n",
       "  'c1b1',\n",
       "  'f2c2',\n",
       "  'b1b2',\n",
       "  'c2i2',\n",
       "  'i2i1',\n",
       "  'i1f1',\n",
       "  'f1i1',\n",
       "  'b4g4',\n",
       "  'g4f4'],\n",
       " ['e0e1',\n",
       "  'b2b4',\n",
       "  'h2f2',\n",
       "  'f2c2',\n",
       "  'b4b9',\n",
       "  'c0e2',\n",
       "  'e1f1',\n",
       "  'e3e4',\n",
       "  'b0a2',\n",
       "  'a3a4',\n",
       "  'f1e1',\n",
       "  'i3i4'],\n",
       " ['e0e1',\n",
       "  'b2b4',\n",
       "  'h2f2',\n",
       "  'f2c2',\n",
       "  'e3e4',\n",
       "  'c2f2',\n",
       "  'a3a4',\n",
       "  'f2b2',\n",
       "  'i3i4',\n",
       "  'c0e2',\n",
       "  'b4b3',\n",
       "  'e2c4',\n",
       "  'b3b7',\n",
       "  'b7b9',\n",
       "  'e1d1',\n",
       "  'g3g4',\n",
       "  'i4i5',\n",
       "  'd1e1',\n",
       "  'e1e0'],\n",
       " ['e0e1', 'b2b4', 'h2f2', 'g0i2', 'e1e0'],\n",
       " ['e0e1', 'b2b4', 'h2g2', 'b0c2', 'b4b6', 'g2g1', 'g1g6', 'c0e2', 'e2c0'],\n",
       " ['e0e1',\n",
       "  'b2b4',\n",
       "  'h2g2',\n",
       "  'b0c2',\n",
       "  'b4c4',\n",
       "  'a0a2',\n",
       "  'c2a1',\n",
       "  'g2e2',\n",
       "  'a2d2',\n",
       "  'c0a2',\n",
       "  'd2b2'],\n",
       " ['e0e1',\n",
       "  'b2b4',\n",
       "  'h2g2',\n",
       "  'b0c2',\n",
       "  'b4c4',\n",
       "  'a0a2',\n",
       "  'g2h2',\n",
       "  'e1f1',\n",
       "  'f1f2',\n",
       "  'd0e1',\n",
       "  'a2b2'],\n",
       " ['e0e1',\n",
       "  'b2b4',\n",
       "  'h2g2',\n",
       "  'b0c2',\n",
       "  'b4c4',\n",
       "  'a0b0',\n",
       "  'c4c9',\n",
       "  'g2d2',\n",
       "  'd2g2',\n",
       "  'g2g1',\n",
       "  'b0a0'],\n",
       " ['e0e1',\n",
       "  'b2b4',\n",
       "  'h2g2',\n",
       "  'b0c2',\n",
       "  'c2b0',\n",
       "  'g2b2',\n",
       "  'c0e2',\n",
       "  'e1f1',\n",
       "  'e2c0',\n",
       "  'f1e1',\n",
       "  'i3i4',\n",
       "  'b4b6',\n",
       "  'b6b1',\n",
       "  'b1b2',\n",
       "  'b2b3',\n",
       "  'e1e0'],\n",
       " ['e0e1', 'b2b4', 'h2g2', 'b0c2', 'e1f1', 'a0a1', 'a1a2'],\n",
       " ['e0e1', 'b2b4', 'h2g2', 'b0c2', 'e1f1', 'a0a1', 'b4b0'],\n",
       " ['e0e1', 'b2b4', 'h2g2', 'b0c2', 'e1f1', 'a0a1', 'g2h2'],\n",
       " ['e0e1', 'b2b4', 'h2g2', 'b0c2', 'e1f1', 'a0b0', 'c2a1'],\n",
       " ['e0e1', 'b2b4', 'h2g2', 'b0c2', 'g2i2', 'a0a2', 'e3e4'],\n",
       " ['e0e1',\n",
       "  'b2b4',\n",
       "  'i0h0',\n",
       "  'h2h4',\n",
       "  'e3e4',\n",
       "  'i3i4',\n",
       "  'h4h0',\n",
       "  'b4c4',\n",
       "  'c4b4',\n",
       "  'c3c4',\n",
       "  'b4b1',\n",
       "  'b1b7',\n",
       "  'b7f7',\n",
       "  'e1d1'],\n",
       " ['e0e1',\n",
       "  'b2b4',\n",
       "  'i0h0',\n",
       "  'h2h4',\n",
       "  'h4i4',\n",
       "  'c3c4',\n",
       "  'e1f1',\n",
       "  'e3e4',\n",
       "  'i4i7',\n",
       "  'b4b5',\n",
       "  'e4e5',\n",
       "  'b5b4',\n",
       "  'f1e1'],\n",
       " ['e0e1', 'b2b4', 'i0i2', 'b4b3', 'e1e2'],\n",
       " ['e0e1', 'b2b5', 'b5b9', 'c3c4', 'h2h7', 'e1f1', 'h7c7', 'i3i4', 'c4c5'],\n",
       " ['e0e1',\n",
       "  'b2b5',\n",
       "  'b5c5',\n",
       "  'c5c9',\n",
       "  'e1e2',\n",
       "  'h2h3',\n",
       "  'g3g4',\n",
       "  'h3h1',\n",
       "  'b0c2',\n",
       "  'h1h2',\n",
       "  'c0a2'],\n",
       " ['e0e1',\n",
       "  'b2b5',\n",
       "  'b5d5',\n",
       "  'c3c4',\n",
       "  'g0e2',\n",
       "  'a0a2',\n",
       "  'e1f1',\n",
       "  'd5c5',\n",
       "  'a2d2',\n",
       "  'd2a2',\n",
       "  'f1e1'],\n",
       " ['e0e1', 'b2b5', 'e1e2', 'b5b9', 'h2h0', 'b0c2', 'a0b0'],\n",
       " ['e0e1',\n",
       "  'b2b5',\n",
       "  'e3e4',\n",
       "  'h2c2',\n",
       "  'a0a2',\n",
       "  'b5b3',\n",
       "  'b3b4',\n",
       "  'i3i4',\n",
       "  'b4b8',\n",
       "  'a2b2'],\n",
       " ['e0e1',\n",
       "  'b2b5',\n",
       "  'h2e2',\n",
       "  'c3c4',\n",
       "  'b5b3',\n",
       "  'e3e4',\n",
       "  'b3e3',\n",
       "  'e2f2',\n",
       "  'e3b3',\n",
       "  'f2f8',\n",
       "  'c0e2',\n",
       "  'f8g8',\n",
       "  'g8d8',\n",
       "  'b3b0',\n",
       "  'd8i8'],\n",
       " ['e0e1',\n",
       "  'b2b5',\n",
       "  'h2i2',\n",
       "  'b5b3',\n",
       "  'e1f1',\n",
       "  'i2i6',\n",
       "  'a0b0',\n",
       "  'i3i4',\n",
       "  'c0a2',\n",
       "  'a2c0',\n",
       "  'b3b4',\n",
       "  'f1f2',\n",
       "  'a2c4'],\n",
       " ['e0e1',\n",
       "  'b2b6',\n",
       "  'e3e4',\n",
       "  'i3i4',\n",
       "  'h2e2',\n",
       "  'e2e6',\n",
       "  'a0a1',\n",
       "  'e6e5',\n",
       "  'b6b4',\n",
       "  'e5a5',\n",
       "  'a1d1',\n",
       "  'd1d4',\n",
       "  'd4d9',\n",
       "  'e4e5',\n",
       "  'e1d1'],\n",
       " ['e0e1',\n",
       "  'b2b6',\n",
       "  'h2i2',\n",
       "  'i2g2',\n",
       "  'b6b1',\n",
       "  'a0a2',\n",
       "  'e1e0',\n",
       "  'i3i4',\n",
       "  'a2b2',\n",
       "  'g2g6',\n",
       "  'b1b9',\n",
       "  'b9b3',\n",
       "  'a3a4',\n",
       "  'a4a5',\n",
       "  'e0d0',\n",
       "  'b6b2',\n",
       "  'b2b7',\n",
       "  'b7e7',\n",
       "  'd0d1',\n",
       "  'd1d0'],\n",
       " ['e0e1',\n",
       "  'b2b6',\n",
       "  'h2i2',\n",
       "  'i2g2',\n",
       "  'b6b1',\n",
       "  'a0a2',\n",
       "  'e1e0',\n",
       "  'i3i4',\n",
       "  'a2b2',\n",
       "  'g2g6',\n",
       "  'b1b9',\n",
       "  'b9b3',\n",
       "  'a3a4',\n",
       "  'b2h2',\n",
       "  'b3a3',\n",
       "  'a3e3',\n",
       "  'e3e1'],\n",
       " ['e0e1', 'b2b9', 'a0a2', 'a3a4', 'h2c2', 'c2d2', 'd2g2', 'g2e2', 'a2a1'],\n",
       " ['e0e1',\n",
       "  'b2b9',\n",
       "  'a0a2',\n",
       "  'a3a4',\n",
       "  'h2c2',\n",
       "  'c2g2',\n",
       "  'g2g6',\n",
       "  'a2a1',\n",
       "  'e1e2',\n",
       "  'a1a3',\n",
       "  'g6g5',\n",
       "  'g5g6',\n",
       "  'g0i2',\n",
       "  'e2d2'],\n",
       " ['e0e1', 'b2b9', 'b0a2', 'h2h0', 'e1e2', 'g3g4', 'a0a1', 'h0i0'],\n",
       " ['e0e1', 'b2b9', 'b9b8', 'g0i2', 'e1e0', 'h2g2', 'a0a2', 'g3g4', 'g2g0'],\n",
       " ['e0e1', 'b2b9', 'b9b8', 'h2h1', 'a3a4', 'b0c2', 'b8b9', 'e1e0'],\n",
       " ['e0e1',\n",
       "  'b2b9',\n",
       "  'e3e4',\n",
       "  'h2e2',\n",
       "  'e2e3',\n",
       "  'e1e2',\n",
       "  'i3i4',\n",
       "  'b0a2',\n",
       "  'g3g4',\n",
       "  'i4i5'],\n",
       " ['e0e1',\n",
       "  'b2b9',\n",
       "  'e3e4',\n",
       "  'h2e2',\n",
       "  'e2e6',\n",
       "  'b0c2',\n",
       "  'g0e2',\n",
       "  'e6e7',\n",
       "  'e1f1',\n",
       "  'c0a2',\n",
       "  'e4e5',\n",
       "  'g3g4',\n",
       "  'e5f5',\n",
       "  'c2e1'],\n",
       " ['e0e1', 'b2b9', 'e3e4', 'h2e2', 'i3i4', 'a3a4', 'b0a2', 'e2h2', 'e1e0'],\n",
       " ['e0e1',\n",
       "  'b2b9',\n",
       "  'e3e4',\n",
       "  'h2e2',\n",
       "  'i3i4',\n",
       "  'e2c2',\n",
       "  'c2e2',\n",
       "  'e1e0',\n",
       "  'e2d2',\n",
       "  'c3c4',\n",
       "  'd2d3',\n",
       "  'd3d0'],\n",
       " ['e0e1',\n",
       "  'b2b9',\n",
       "  'e3e4',\n",
       "  'h2e2',\n",
       "  'i3i4',\n",
       "  'g0i2',\n",
       "  'a0a2',\n",
       "  'e1f1',\n",
       "  'a2b2',\n",
       "  'f1f0'],\n",
       " ['e0e1',\n",
       "  'b2b9',\n",
       "  'e3e4',\n",
       "  'h2e2',\n",
       "  'i3i4',\n",
       "  'g0i2',\n",
       "  'a0a2',\n",
       "  'e1f1',\n",
       "  'i4i5',\n",
       "  'f1f0'],\n",
       " ['e0e1',\n",
       "  'b2b9',\n",
       "  'e3e4',\n",
       "  'h2h0',\n",
       "  'h0h1',\n",
       "  'a3a4',\n",
       "  'h1h3',\n",
       "  'a4a5',\n",
       "  'g3g4',\n",
       "  'e1e0'],\n",
       " ['e0e1',\n",
       "  'b2b9',\n",
       "  'e3e4',\n",
       "  'h2h0',\n",
       "  'h0h1',\n",
       "  'a3a4',\n",
       "  'h1h8',\n",
       "  'h8e8',\n",
       "  'e1e2',\n",
       "  'e2d2'],\n",
       " ['e0e1', 'b2b9', 'e3e4', 'h2h1', 'e1e0'],\n",
       " ['e0e1',\n",
       "  'b2b9',\n",
       "  'e3e4',\n",
       "  'i3i4',\n",
       "  'b0c2',\n",
       "  'a0a2',\n",
       "  'e1e2',\n",
       "  'a2b2',\n",
       "  'i4i5',\n",
       "  'h2h4',\n",
       "  'h4h7'],\n",
       " ['e0e1',\n",
       "  'b2b9',\n",
       "  'e3e4',\n",
       "  'i3i4',\n",
       "  'h2c2',\n",
       "  'c2e2',\n",
       "  'g0i2',\n",
       "  'i2g4',\n",
       "  'e2e3',\n",
       "  'b0c2',\n",
       "  'e3e2',\n",
       "  'e2f2'],\n",
       " ['e0e1', 'b2b9', 'h2b2', 'b2b3', 'c3c4', 'e1f1', 'b9b8', 'b3b2', 'f1f0'],\n",
       " ['e0e1',\n",
       "  'b2b9',\n",
       "  'h2e2',\n",
       "  'c3c4',\n",
       "  'a0a1',\n",
       "  'e3e4',\n",
       "  'e2h2',\n",
       "  'c4c5',\n",
       "  'a1d1',\n",
       "  'd1d3',\n",
       "  'e1f1'],\n",
       " ['e0e1',\n",
       "  'b2b9',\n",
       "  'h2e2',\n",
       "  'g0i2',\n",
       "  'b0c2',\n",
       "  'e2d2',\n",
       "  'd2g2',\n",
       "  'c2a1',\n",
       "  'g2b2',\n",
       "  'b2c2',\n",
       "  'e1e2',\n",
       "  'c2d2',\n",
       "  'a1c0',\n",
       "  'e2f2',\n",
       "  'd2e2',\n",
       "  'c0d2',\n",
       "  'e2e6'],\n",
       " ['e0e1',\n",
       "  'b2b9',\n",
       "  'h2g2',\n",
       "  'e1f1',\n",
       "  'a0a2',\n",
       "  'g2c2',\n",
       "  'c2c1',\n",
       "  'f1f2',\n",
       "  'c1c2',\n",
       "  'i3i4',\n",
       "  'a2b2',\n",
       "  'b2b6',\n",
       "  'f2e2'],\n",
       " ['e0e1', 'b2b9', 'h2g2', 'e1f1', 'f1f0'],\n",
       " ['e0e1', 'b2b9', 'h2h0', 'e1e0'],\n",
       " ['e0e1',\n",
       "  'b2b9',\n",
       "  'h2h5',\n",
       "  'e1f1',\n",
       "  'c3c4',\n",
       "  'h5e5',\n",
       "  'c4c5',\n",
       "  'c0e2',\n",
       "  'e2c4',\n",
       "  'f1f0'],\n",
       " ['e0e1',\n",
       "  'b2b9',\n",
       "  'h2h6',\n",
       "  'e1f1',\n",
       "  'a0a1',\n",
       "  'h6h3',\n",
       "  'g0i2',\n",
       "  'a1e1',\n",
       "  'c0a2',\n",
       "  'e1b1',\n",
       "  'b1a1'],\n",
       " ['e0e1', 'b2b9', 'i3i4', 'e1f1', 'h2c2', 'a0a2', 'f1f0'],\n",
       " ['e0e1',\n",
       "  'b2c2',\n",
       "  'h2e2',\n",
       "  'a0a2',\n",
       "  'e1d1',\n",
       "  'i3i4',\n",
       "  'e2g2',\n",
       "  'c2c6',\n",
       "  'c6c8',\n",
       "  'e3e4',\n",
       "  'a2f2',\n",
       "  'g2i2',\n",
       "  'f2e2',\n",
       "  'e2b2',\n",
       "  'b2b1',\n",
       "  'b1b4',\n",
       "  'i2g2',\n",
       "  'd1d2'],\n",
       " ['e0e1', 'b2d2', 'a0a1', 'g3g4', 'e1f1', 'h2h7', 'h7h8', 'h8h0'],\n",
       " ['e0e1',\n",
       "  'b2d2',\n",
       "  'd2d6',\n",
       "  'g0e2',\n",
       "  'e2c4',\n",
       "  'd6d3',\n",
       "  'b0a2',\n",
       "  'h2f2',\n",
       "  'f2c2',\n",
       "  'e1e0'],\n",
       " ['e0e1',\n",
       "  'b2d2',\n",
       "  'h2i2',\n",
       "  'd2h2',\n",
       "  'h2h6',\n",
       "  'i2i0',\n",
       "  'e1f1',\n",
       "  'h6h7',\n",
       "  'c3c4',\n",
       "  'f1f2',\n",
       "  'b0c2',\n",
       "  'g3g4'],\n",
       " ['e0e1', 'b2e2', 'a0a2', 'h2i2', 'i2g2', 'g0i2', 'e2e6', 'e6e4', 'e4d4'],\n",
       " ['e0e1', 'b2e2', 'h2h7', 'a0a1', 'e1f1', 'e2d2', 'h7c7', 'i3i4'],\n",
       " ['e0e1',\n",
       "  'b2e2',\n",
       "  'h2h7',\n",
       "  'h7c7',\n",
       "  'a0a1',\n",
       "  'g0i2',\n",
       "  'a1a2',\n",
       "  'i3i4',\n",
       "  'e2e6',\n",
       "  'a2a0',\n",
       "  'i2g4',\n",
       "  'e1e2',\n",
       "  'a3a4'],\n",
       " ['e0e1', 'b2e2', 'h2i2', 'i3i4', 'i2g2', 'c3c4', 'a0a1', 'a1d1'],\n",
       " ['e0e1',\n",
       "  'b2e2',\n",
       "  'i3i4',\n",
       "  'h2f2',\n",
       "  'e1f1',\n",
       "  'f2i2',\n",
       "  'c0a2',\n",
       "  'a2c4',\n",
       "  'e2a2',\n",
       "  'i2i6',\n",
       "  'a2f2',\n",
       "  'f2f5'],\n",
       " ['e0e1', 'b2f2', 'f2f5', 'h2h5', 'c0e2', 'g3g4', 'e1e0'],\n",
       " ['e0e1',\n",
       "  'b2f2',\n",
       "  'h2g2',\n",
       "  'e1f1',\n",
       "  'a3a4',\n",
       "  'a0a2',\n",
       "  'f2d2',\n",
       "  'd2c2',\n",
       "  'a2b2',\n",
       "  'b2b1',\n",
       "  'c2f2',\n",
       "  'g2g9',\n",
       "  'f2f4',\n",
       "  'b1b9',\n",
       "  'f1f0',\n",
       "  'f4c4',\n",
       "  'c4i4'],\n",
       " ['e0e1',\n",
       "  'b2f2',\n",
       "  'h2g2',\n",
       "  'e1f1',\n",
       "  'a3a4',\n",
       "  'a0a2',\n",
       "  'f2e2',\n",
       "  'e2e1',\n",
       "  'e1e6',\n",
       "  'e3e4',\n",
       "  'g2h2',\n",
       "  'a2b2',\n",
       "  'b2b6',\n",
       "  'b6b0',\n",
       "  'b0b8',\n",
       "  'b8g8',\n",
       "  'i3i4',\n",
       "  'f1e1',\n",
       "  'f1f0'],\n",
       " ['e0e1',\n",
       "  'b2f2',\n",
       "  'h2g2',\n",
       "  'e1f1',\n",
       "  'a3a4',\n",
       "  'a4a5',\n",
       "  'a0a2',\n",
       "  'a2a5',\n",
       "  'g2i2',\n",
       "  'f2f3'],\n",
       " ['e0e1',\n",
       "  'b2f2',\n",
       "  'h2g2',\n",
       "  'e1f1',\n",
       "  'a3a4',\n",
       "  'b0c2',\n",
       "  'f2f5',\n",
       "  'f5e5',\n",
       "  'c2a1',\n",
       "  'g2d2',\n",
       "  'i3i4',\n",
       "  'd2c2',\n",
       "  'c2a2',\n",
       "  'f1f0',\n",
       "  'a2c2',\n",
       "  'c2i2',\n",
       "  'c0e2',\n",
       "  'e2g4',\n",
       "  'i2e2',\n",
       "  'e2b2'],\n",
       " ['e0e1',\n",
       "  'b2f2',\n",
       "  'h2g2',\n",
       "  'e1f1',\n",
       "  'a3a4',\n",
       "  'c0a2',\n",
       "  'f2d2',\n",
       "  'g2g6',\n",
       "  'f1e1',\n",
       "  'f1f0',\n",
       "  'a2c4',\n",
       "  'd2h2',\n",
       "  'h2h1',\n",
       "  'c4a2',\n",
       "  'g3g4',\n",
       "  'a4a5'],\n",
       " ['e0e1', 'b2f2', 'h2g2', 'e1f1', 'f1e1', 'g2h2', 'c0a2', 'f1f0'],\n",
       " ['e0e1',\n",
       "  'b2f2',\n",
       "  'h2g2',\n",
       "  'e1f1',\n",
       "  'f2e2',\n",
       "  'b0a2',\n",
       "  'e2d2',\n",
       "  'd2f2',\n",
       "  'f1f0',\n",
       "  'c0e2'],\n",
       " ['e0e1', 'b2f2', 'h2h7', 'a0a2', 'e1f1', 'f1f0'],\n",
       " ['e0e1', 'b2g2', 'c0a2', 'e1e0'],\n",
       " ['e0e1', 'b2g2', 'e1e0', 'h2h1'],\n",
       " ['e0e1',\n",
       "  'b2g2',\n",
       "  'g2d2',\n",
       "  'd2d6',\n",
       "  'g0i2',\n",
       "  'd6d5',\n",
       "  'e3e4',\n",
       "  'd5a5',\n",
       "  'a3a4',\n",
       "  'i3i4',\n",
       "  'i4i5',\n",
       "  'e4e5',\n",
       "  'a0a1'],\n",
       " ['e0e1',\n",
       "  'c0a2',\n",
       "  'b2b1',\n",
       "  'h2b2',\n",
       "  'b2c2',\n",
       "  'c2c6',\n",
       "  'e1f1',\n",
       "  'f1f2',\n",
       "  'a2c4',\n",
       "  'b0d1',\n",
       "  'a3a4',\n",
       "  'f2f1'],\n",
       " ['e0e1',\n",
       "  'c0a2',\n",
       "  'c3c4',\n",
       "  'h2h6',\n",
       "  'b2e2',\n",
       "  'h6h2',\n",
       "  'h2h1',\n",
       "  'h1h3',\n",
       "  'e1f1',\n",
       "  'a2c0',\n",
       "  'a3a4',\n",
       "  'f1e1',\n",
       "  'e2c2'],\n",
       " ['e0e1',\n",
       "  'c0a2',\n",
       "  'e1f1',\n",
       "  'h2c2',\n",
       "  'a2c0',\n",
       "  'c2h2',\n",
       "  'b2b4',\n",
       "  'h2i2',\n",
       "  'i2f2',\n",
       "  'b4d4',\n",
       "  'a3a4',\n",
       "  'd4f4',\n",
       "  'f4c4',\n",
       "  'f2i2',\n",
       "  'f1e1'],\n",
       " ['e0e1',\n",
       "  'c0e2',\n",
       "  'b0c2',\n",
       "  'h2h3',\n",
       "  'e1f1',\n",
       "  'b2b9',\n",
       "  'd0e1',\n",
       "  'h3h2',\n",
       "  'e1d2',\n",
       "  'g3g4',\n",
       "  'f1f0'],\n",
       " ['e0e1',\n",
       "  'c0e2',\n",
       "  'e2c4',\n",
       "  'b2b6',\n",
       "  'b6b9',\n",
       "  'a0a1',\n",
       "  'e1f1',\n",
       "  'h2h6',\n",
       "  'a1b1',\n",
       "  'b1b2',\n",
       "  'h6h3',\n",
       "  'b2b3',\n",
       "  'b3b8',\n",
       "  'b8e8',\n",
       "  'g3g4',\n",
       "  'f1f0'],\n",
       " ['e0e1',\n",
       "  'c3c4',\n",
       "  'b2b3',\n",
       "  'i3i4',\n",
       "  'c0e2',\n",
       "  'e2c0',\n",
       "  'b3b2',\n",
       "  'h2h5',\n",
       "  'e1e0',\n",
       "  'h5h8',\n",
       "  'b2g2',\n",
       "  'g2f2',\n",
       "  'f2f1',\n",
       "  'f1f7',\n",
       "  'e3e4',\n",
       "  'e0d0',\n",
       "  'f7f4',\n",
       "  'a3a4',\n",
       "  'i4i5',\n",
       "  'd0e0'],\n",
       " ['e0e1', 'c3c4', 'c0a2', 'h2c2', 'b2b4', 'c2b2', 'b0d1', 'g3g4'],\n",
       " ['e0e1',\n",
       "  'c3c4',\n",
       "  'h2g2',\n",
       "  'b2b1',\n",
       "  'a0a2',\n",
       "  'a3a4',\n",
       "  'a4a5',\n",
       "  'b1b0',\n",
       "  'e1d1',\n",
       "  'g2h2',\n",
       "  'h2f2',\n",
       "  'd1e1',\n",
       "  'a2b2',\n",
       "  'b2e2',\n",
       "  'f2g2',\n",
       "  'g2g0',\n",
       "  'e2e6',\n",
       "  'e1e0'],\n",
       " ['e0e1', 'c3c4', 'h2g2', 'c4c5', 'g2e2', 'i3i4', 'e2g2', 'b2b3', 'e1e0'],\n",
       " ['e0e1',\n",
       "  'c3c4',\n",
       "  'h2g2',\n",
       "  'g2e2',\n",
       "  'a3a4',\n",
       "  'a0b0',\n",
       "  'b2b3',\n",
       "  'e2i2',\n",
       "  'i2h2',\n",
       "  'i3i4',\n",
       "  'a4a5',\n",
       "  'c4c5'],\n",
       " ['e0e1',\n",
       "  'c3c4',\n",
       "  'h2h6',\n",
       "  'i3i4',\n",
       "  'b2d2',\n",
       "  'h6e6',\n",
       "  'd2b2',\n",
       "  'e1d1',\n",
       "  'd2c2',\n",
       "  'c2b2',\n",
       "  'c4c5',\n",
       "  'b2c2',\n",
       "  'c2d2',\n",
       "  'd2g2',\n",
       "  'g2a2',\n",
       "  'd1d2',\n",
       "  'd2e2',\n",
       "  'a2c2'],\n",
       " ['e0e1', 'e1d1', 'a3a4', 'b2f2', 'e3e4', 'h2h8', 'g3g4', 'a0a2'],\n",
       " ['e0e1',\n",
       "  'e1d1',\n",
       "  'g0e2',\n",
       "  'e3e4',\n",
       "  'a0a2',\n",
       "  'b2c2',\n",
       "  'e2c4',\n",
       "  'h2i2',\n",
       "  'd1d2',\n",
       "  'a2b2',\n",
       "  'c4e2',\n",
       "  'b2a2',\n",
       "  'a2c2'],\n",
       " ['e0e1', 'e1d1', 'h2g2', 'b2b6', 'b6b4', 'd1d2', 'g2h2', 'a0a2'],\n",
       " ['e0e1', 'e1e0', 'b2a2', 'a2e2'],\n",
       " ['e0e1', 'e1e0', 'b2b4', 'h2h3'],\n",
       " ['e0e1', 'e1e0', 'b2g2', 'h2h1'],\n",
       " ['e0e1', 'e1e0', 'g0e2', 'h2h0', 'b2b5'],\n",
       " ['e0e1', 'e1e0', 'g0e2', 'h2h0', 'h0f0'],\n",
       " ['e0e1', 'e1e0', 'g0i2', 'h2h5', 'h5f5', 'g3g4', 'b2d2'],\n",
       " ['e0e1', 'e1e0', 'h2g2', 'c3c4'],\n",
       " ['e0e1',\n",
       "  'e1e2',\n",
       "  'b2b5',\n",
       "  'h2h4',\n",
       "  'h4f4',\n",
       "  'f4f0',\n",
       "  'g3g4',\n",
       "  'b5c5',\n",
       "  'e3e4',\n",
       "  'a3a4',\n",
       "  'g4g5',\n",
       "  'a4a5',\n",
       "  'i3i4',\n",
       "  'e2e1',\n",
       "  'i4i5',\n",
       "  'c3c4',\n",
       "  'e1e0',\n",
       "  'e0d0',\n",
       "  'd0d1',\n",
       "  'd1d0',\n",
       "  'd0e0'],\n",
       " ['e0e1', 'e1e2', 'c3c4', 'b2d2', 'd2d5', 'b0a2', 'd5d1', 'g0i2', 'a2c1'],\n",
       " ['e0e1',\n",
       "  'e1e2',\n",
       "  'h2h4',\n",
       "  'e3e4',\n",
       "  'b2b1',\n",
       "  'a3a4',\n",
       "  'b1h1',\n",
       "  'c0a2',\n",
       "  'h1e1',\n",
       "  'h4h8',\n",
       "  'h8h6'],\n",
       " ['e0e1', 'e1f1', 'b2c2', 'h2d2', 'a0a2', 'd2d6', 'd6d1', 'a2a0', 'i3i4'],\n",
       " ['e0e1', 'e1f1', 'b2c2', 'h2d2', 'a0a2', 'd2d6', 'd6d1', 'd1d6'],\n",
       " ['e0e1', 'e1f1', 'b2c2', 'h2d2', 'a0a2', 'd2d6', 'd6d1', 'i3i4', 'i4i5'],\n",
       " ['e0e1',\n",
       "  'e1f1',\n",
       "  'b2c2',\n",
       "  'h2g2',\n",
       "  'c2d2',\n",
       "  'd2b2',\n",
       "  'g2d2',\n",
       "  'g0i2',\n",
       "  'i2g0',\n",
       "  'd0e1',\n",
       "  'e1d2',\n",
       "  'b0a2',\n",
       "  'a0a1',\n",
       "  'c3c4',\n",
       "  'f1e1',\n",
       "  'i0i2',\n",
       "  'i2f2',\n",
       "  'i3i4'],\n",
       " ['e0e1',\n",
       "  'e1f1',\n",
       "  'b2c2',\n",
       "  'h2g2',\n",
       "  'c2d2',\n",
       "  'd2b2',\n",
       "  'g2d2',\n",
       "  'g0i2',\n",
       "  'i3i4',\n",
       "  'i2g0',\n",
       "  'a0a1',\n",
       "  'i0i3',\n",
       "  'g3g4',\n",
       "  'f1f2',\n",
       "  'g0e2',\n",
       "  'a1i1'],\n",
       " ['e0e1',\n",
       "  'e1f1',\n",
       "  'g0i2',\n",
       "  'h2c2',\n",
       "  'c0a2',\n",
       "  'i2g0',\n",
       "  'f0e1',\n",
       "  'b0d1',\n",
       "  'c2i2',\n",
       "  'a2c4',\n",
       "  'e1f2',\n",
       "  'b2c2',\n",
       "  'g3g4',\n",
       "  'i2i0',\n",
       "  'i0f0',\n",
       "  'f0i0'],\n",
       " ['e0e1', 'e1f1', 'h2g2', 'b0c2', 'b2b0', 'a0a1', 'a1a2', 'i3i4', 'f0e1'],\n",
       " ['e0e1', 'e1f1', 'h2g2', 'b0c2', 'b2b7', 'b7b0', 'a0a2'],\n",
       " ['e0e1', 'e1f1', 'h2g2', 'b0c2', 'b2b7', 'b7b6', 'a0a2'],\n",
       " ['e0e1', 'e1f1', 'h2g2', 'b0c2', 'b2b7', 'c2a1', 'i3i4', 'g0i2'],\n",
       " ['e0e1',\n",
       "  'e1f1',\n",
       "  'h2g2',\n",
       "  'g2h2',\n",
       "  'a0a1',\n",
       "  'f0e1',\n",
       "  'a1a0',\n",
       "  'b2c2',\n",
       "  'a0a2',\n",
       "  'f1f0',\n",
       "  'a2b2',\n",
       "  'c2f2',\n",
       "  'f2g2',\n",
       "  'g2e2',\n",
       "  'f0e0'],\n",
       " ['e0e1',\n",
       "  'e1f1',\n",
       "  'i0i1',\n",
       "  'i1g1',\n",
       "  'h2g2',\n",
       "  'f0e1',\n",
       "  'a0a2',\n",
       "  'a2b2',\n",
       "  'c3c4',\n",
       "  'a3a4',\n",
       "  'e1d0'],\n",
       " ['e0e1', 'e1f1', 'i0i2', 'h2g2', 'a0a1', 'b2b5', 'i2i0', 'b5h5'],\n",
       " ['e0e1', 'e3e4', 'a0a1', 'e1f1', 'f1f0'],\n",
       " ['e0e1',\n",
       "  'e3e4',\n",
       "  'b2b3',\n",
       "  'e4e5',\n",
       "  'a0a2',\n",
       "  'h2g2',\n",
       "  'i3i4',\n",
       "  'b3b6',\n",
       "  'b6b4',\n",
       "  'b4b5'],\n",
       " ['e0e1',\n",
       "  'e3e4',\n",
       "  'b2b4',\n",
       "  'i3i4',\n",
       "  'h2e2',\n",
       "  'e2h2',\n",
       "  'h2h0',\n",
       "  'e1f1',\n",
       "  'b4d4',\n",
       "  'd4d6',\n",
       "  'f1f0',\n",
       "  'd6g6',\n",
       "  'i4i5',\n",
       "  'a3a4',\n",
       "  'a4a5',\n",
       "  'f0f1',\n",
       "  'g3g4',\n",
       "  'c3c4'],\n",
       " ['e0e1',\n",
       "  'e3e4',\n",
       "  'b2b6',\n",
       "  'i3i4',\n",
       "  'e1e2',\n",
       "  'h2g2',\n",
       "  'e2d2',\n",
       "  'd2e2',\n",
       "  'c0a2',\n",
       "  'a2c0',\n",
       "  'e2e1'],\n",
       " ['e0e1',\n",
       "  'e3e4',\n",
       "  'b2b9',\n",
       "  'c0a2',\n",
       "  'h2d2',\n",
       "  'd2d3',\n",
       "  'e1e2',\n",
       "  'd3d5',\n",
       "  'd5d0',\n",
       "  'd0d2',\n",
       "  'a2c4',\n",
       "  'e2e1',\n",
       "  'e1d1'],\n",
       " ['e0e1',\n",
       "  'e3e4',\n",
       "  'b2b9',\n",
       "  'h2e2',\n",
       "  'i3i4',\n",
       "  'e2c2',\n",
       "  'g0e2',\n",
       "  'b0a2',\n",
       "  'e1f1',\n",
       "  'f1f2',\n",
       "  'c2d2',\n",
       "  'f2f1'],\n",
       " ['e0e1',\n",
       "  'e3e4',\n",
       "  'b2b9',\n",
       "  'h2e2',\n",
       "  'i3i4',\n",
       "  'g0i2',\n",
       "  'e2f2',\n",
       "  'a0a2',\n",
       "  'e1f1',\n",
       "  'a2b2',\n",
       "  'b2c2'],\n",
       " ['e0e1',\n",
       "  'e3e4',\n",
       "  'b2b9',\n",
       "  'h2h0',\n",
       "  'h0h1',\n",
       "  'a3a4',\n",
       "  'b0a2',\n",
       "  'h1h3',\n",
       "  'g3g4',\n",
       "  'c0e2',\n",
       "  'e2c0'],\n",
       " ['e0e1',\n",
       "  'e3e4',\n",
       "  'b2e2',\n",
       "  'e2g2',\n",
       "  'g2e2',\n",
       "  'i3i4',\n",
       "  'c3c4',\n",
       "  'a3a4',\n",
       "  'a0a2',\n",
       "  'i4i5',\n",
       "  'a2b2'],\n",
       " ['e0e1',\n",
       "  'e3e4',\n",
       "  'h2e2',\n",
       "  'a0a2',\n",
       "  'i3i4',\n",
       "  'b2b1',\n",
       "  'a2d2',\n",
       "  'g0i2',\n",
       "  'd2a2',\n",
       "  'i4i5'],\n",
       " ['e0e1',\n",
       "  'e3e4',\n",
       "  'h2e2',\n",
       "  'a0a2',\n",
       "  'i3i4',\n",
       "  'b2b4',\n",
       "  'a2d2',\n",
       "  'd2d3',\n",
       "  'd3d9',\n",
       "  'a3a4',\n",
       "  'e2i2',\n",
       "  'e1e0'],\n",
       " ['e0e1',\n",
       "  'e3e4',\n",
       "  'h2e2',\n",
       "  'e2e3',\n",
       "  'g0i2',\n",
       "  'a0a2',\n",
       "  'b2f2',\n",
       "  'i3i4',\n",
       "  'e3d3',\n",
       "  'f2f5',\n",
       "  'e1f1',\n",
       "  'a2g2',\n",
       "  'g2g1',\n",
       "  'g1h1',\n",
       "  'd3d6'],\n",
       " ['e0e1',\n",
       "  'e3e4',\n",
       "  'h2e2',\n",
       "  'e2e3',\n",
       "  'g0i2',\n",
       "  'c0a2',\n",
       "  'b0c2',\n",
       "  'e4e5',\n",
       "  'e1d1',\n",
       "  'i3i4'],\n",
       " ['e0e1',\n",
       "  'e3e4',\n",
       "  'h2g2',\n",
       "  'b2c2',\n",
       "  'g2g6',\n",
       "  'a0a1',\n",
       "  'a1a2',\n",
       "  'c2f2',\n",
       "  'c3c4',\n",
       "  'f2b2',\n",
       "  'b2d2',\n",
       "  'd2d5',\n",
       "  'e1f1',\n",
       "  'a2i2',\n",
       "  'a3a4'],\n",
       " ['e0e1', 'e3e4', 'h2h6', 'b2f2', 'h6e6', 'e6d6', 'a3a4'],\n",
       " ['e0e1',\n",
       "  'e3e4',\n",
       "  'h2i2',\n",
       "  'i2e2',\n",
       "  'i3i4',\n",
       "  'a3a4',\n",
       "  'b2b3',\n",
       "  'e2d2',\n",
       "  'e1d1',\n",
       "  'b3b0',\n",
       "  'd2i2',\n",
       "  'b0b3',\n",
       "  'i2a2',\n",
       "  'd1d0',\n",
       "  'd0d1',\n",
       "  'a2b2',\n",
       "  'b2g2',\n",
       "  'g2e2',\n",
       "  'e2h2',\n",
       "  'h2h0',\n",
       "  'h0h2'],\n",
       " ['e0e1',\n",
       "  'g0e2',\n",
       "  'e2c4',\n",
       "  'b2b4',\n",
       "  'a3a4',\n",
       "  'b0a2',\n",
       "  'a2c1',\n",
       "  'e1d1',\n",
       "  'h2g2',\n",
       "  'b4b6',\n",
       "  'b6g6',\n",
       "  'g6g8',\n",
       "  'g2a2',\n",
       "  'a2a6',\n",
       "  'c1d3',\n",
       "  'd1d0',\n",
       "  'd0d1'],\n",
       " ['e0e1',\n",
       "  'g0e2',\n",
       "  'e2c4',\n",
       "  'b2b4',\n",
       "  'i3i4',\n",
       "  'b0d1',\n",
       "  'h2h3',\n",
       "  'e3e4',\n",
       "  'e1e2',\n",
       "  'g3g4',\n",
       "  'f0e1',\n",
       "  'e1d0',\n",
       "  'e2e1',\n",
       "  'g4g5',\n",
       "  'g5f5',\n",
       "  'f5f6'],\n",
       " ['e0e1',\n",
       "  'g0e2',\n",
       "  'e2c4',\n",
       "  'b2b4',\n",
       "  'i3i4',\n",
       "  'h2a2',\n",
       "  'e1f1',\n",
       "  'f0e1',\n",
       "  'a2b2',\n",
       "  'e1d0',\n",
       "  'b2g2',\n",
       "  'g2i2',\n",
       "  'i2i0',\n",
       "  'i0i1',\n",
       "  'g3g4',\n",
       "  'f1f0',\n",
       "  'i1i2'],\n",
       " ['e0e1',\n",
       "  'g0i2',\n",
       "  'a3a4',\n",
       "  'h2h6',\n",
       "  'b2f2',\n",
       "  'b0c2',\n",
       "  'h6h0',\n",
       "  'e3e4',\n",
       "  'e1d1',\n",
       "  'c2b0',\n",
       "  'f2c2',\n",
       "  'd1d0',\n",
       "  'c2c6',\n",
       "  'd0d1',\n",
       "  'i2g4',\n",
       "  'd0e0'],\n",
       " ['e0e1',\n",
       "  'g0i2',\n",
       "  'a3a4',\n",
       "  'h2h6',\n",
       "  'b2f2',\n",
       "  'e3e4',\n",
       "  'e1e0',\n",
       "  'h6h1',\n",
       "  'h1h3',\n",
       "  'e0d0',\n",
       "  'i3i4',\n",
       "  'f2f8',\n",
       "  'd0e0'],\n",
       " ['e0e1',\n",
       "  'g0i2',\n",
       "  'h2f2',\n",
       "  'i2g0',\n",
       "  'b2b6',\n",
       "  'e1f1',\n",
       "  'b6b9',\n",
       "  'i3i4',\n",
       "  'c0a2',\n",
       "  'i4i5',\n",
       "  'f2h2',\n",
       "  'h2e2',\n",
       "  'e2f2',\n",
       "  'a2c4'],\n",
       " ['e0e1',\n",
       "  'g0i2',\n",
       "  'h2h3',\n",
       "  'a0a1',\n",
       "  'h3h2',\n",
       "  'b2f2',\n",
       "  'e1f1',\n",
       "  'h2h6',\n",
       "  'f2f3',\n",
       "  'f0e1'],\n",
       " ['e0e1', 'g0i2', 'h2h6', 'b2b5', 'e1e2', 'f0e1', 'b5b7', 'b7b4'],\n",
       " ['e0e1', 'g0i2', 'i2g0', 'e1e2', 'h2g2', 'a0a1', 'g2g1'],\n",
       " ['e0e1', 'g3g4', 'a0a1', 'e1d1', 'd0e1', 'b2b0', 'b0b2'],\n",
       " ['e0e1', 'g3g4', 'h2e2', 'e1f1', 'b2a2', 'i3i4', 'a2b2', 'f1f0'],\n",
       " ['e0e1',\n",
       "  'g3g4',\n",
       "  'h2h0',\n",
       "  'e1f1',\n",
       "  'b2c2',\n",
       "  'a0a2',\n",
       "  'a3a4',\n",
       "  'c2c6',\n",
       "  'a2c2',\n",
       "  'b0a2',\n",
       "  'a2c1',\n",
       "  'f1f2',\n",
       "  'i3i4',\n",
       "  'g0i2',\n",
       "  'c1e0',\n",
       "  'e0c1',\n",
       "  'f2f1'],\n",
       " ['e0e1',\n",
       "  'g3g4',\n",
       "  'h2h0',\n",
       "  'i0i1',\n",
       "  'b2b6',\n",
       "  'e1f1',\n",
       "  'a0a2',\n",
       "  'f1e1',\n",
       "  'f1f0',\n",
       "  'i1f1',\n",
       "  'f1f3',\n",
       "  'a2i2'],\n",
       " ['e0e1',\n",
       "  'h2c2',\n",
       "  'a0a1',\n",
       "  'e1f1',\n",
       "  'b2b6',\n",
       "  'a1c1',\n",
       "  'c0a2',\n",
       "  'g3g4',\n",
       "  'b6b1',\n",
       "  'c2f2',\n",
       "  'f2g2',\n",
       "  'f1f0',\n",
       "  'g2g3'],\n",
       " ['e0e1',\n",
       "  'h2c2',\n",
       "  'a0a1',\n",
       "  'e1f1',\n",
       "  'b2b6',\n",
       "  'i3i4',\n",
       "  'b6b1',\n",
       "  'i4i5',\n",
       "  'b1b4',\n",
       "  'c2a2',\n",
       "  'a2f2',\n",
       "  'f2b2',\n",
       "  'f1f0',\n",
       "  'b2b1',\n",
       "  'b4g4',\n",
       "  'g4f4',\n",
       "  'g3g4',\n",
       "  'f0e0',\n",
       "  'e0d0'],\n",
       " ['e0e1', 'h2c2', 'b2a2', 'c3c4', 'c2e2', 'e1f1', 'g0i2', 'e2c2', 'i3i4'],\n",
       " ['e0e1',\n",
       "  'h2c2',\n",
       "  'c2c6',\n",
       "  'b2i2',\n",
       "  'e1f1',\n",
       "  'c0a2',\n",
       "  'c6i6',\n",
       "  'i2i0',\n",
       "  'i6a6',\n",
       "  'b0c2',\n",
       "  'i0i2',\n",
       "  'a2c4',\n",
       "  'f1f0',\n",
       "  'f0f1',\n",
       "  'f1e1'],\n",
       " ['e0e1',\n",
       "  'h2d2',\n",
       "  'd2d4',\n",
       "  'd4b4',\n",
       "  'a0a2',\n",
       "  'e1f1',\n",
       "  'b4d4',\n",
       "  'd4f4',\n",
       "  'f4f2',\n",
       "  'f2c2',\n",
       "  'a2b2',\n",
       "  'b2b1',\n",
       "  'f1e1',\n",
       "  'c2c9',\n",
       "  'e1d1',\n",
       "  'b1b0',\n",
       "  'a3a4',\n",
       "  'd1d0'],\n",
       " ['e0e1',\n",
       "  'h2d2',\n",
       "  'd2d5',\n",
       "  'b2g2',\n",
       "  'g0i2',\n",
       "  'a3a4',\n",
       "  'a4a5',\n",
       "  'a0a5',\n",
       "  'b0c2',\n",
       "  'g2e2',\n",
       "  'e1f1',\n",
       "  'e2e6'],\n",
       " ['e0e1', 'h2e2', 'b0c2', 'c0a2', 'b2b5', 'b5g5', 'e1d1'],\n",
       " ['e0e1',\n",
       "  'h2e2',\n",
       "  'b2c2',\n",
       "  'a3a4',\n",
       "  'e1d1',\n",
       "  'a0a1',\n",
       "  'd1e1',\n",
       "  'e1f1',\n",
       "  'e2h2',\n",
       "  'h2g2',\n",
       "  'a1a3'],\n",
       " ['e0e1',\n",
       "  'h2e2',\n",
       "  'b2c2',\n",
       "  'e2i2',\n",
       "  'c2c6',\n",
       "  'i2i1',\n",
       "  'e3e4',\n",
       "  'i1i0',\n",
       "  'e4e5',\n",
       "  'c6b6',\n",
       "  'g0e2'],\n",
       " ['e0e1', 'h2e2', 'b2c2', 'i3i4', 'c3c4', 'a3a4', 'a0a2', 'g0i2', 'e1f1'],\n",
       " ['e0e1',\n",
       "  'h2e2',\n",
       "  'g0i2',\n",
       "  'c3c4',\n",
       "  'b0c2',\n",
       "  'a3a4',\n",
       "  'e1f1',\n",
       "  'd0e1',\n",
       "  'i2g0',\n",
       "  'e3e4',\n",
       "  'e2f2',\n",
       "  'b2b6',\n",
       "  'f2d2',\n",
       "  'e1d0',\n",
       "  'f1e1',\n",
       "  'c4c5',\n",
       "  'c5d5',\n",
       "  'e1e2'],\n",
       " ['e0e1',\n",
       "  'h2f2',\n",
       "  'b2b1',\n",
       "  'b1b2',\n",
       "  'f2f0',\n",
       "  'f0f2',\n",
       "  'e1f1',\n",
       "  'b2e2',\n",
       "  'e2e0',\n",
       "  'f2f6',\n",
       "  'f6i6',\n",
       "  'f1f0'],\n",
       " ['e0e1',\n",
       "  'h2f2',\n",
       "  'b2b5',\n",
       "  'f2a2',\n",
       "  'a2g2',\n",
       "  'b5e5',\n",
       "  'e1f1',\n",
       "  'a0a2',\n",
       "  'i3i4',\n",
       "  'g2i2',\n",
       "  'a2b2',\n",
       "  'b2d2',\n",
       "  'i2f2',\n",
       "  'f1f0',\n",
       "  'c0a2',\n",
       "  'f2e2',\n",
       "  'd2c2',\n",
       "  'e2h2',\n",
       "  'a2c0',\n",
       "  'h2i2'],\n",
       " ['e0e1',\n",
       "  'h2f2',\n",
       "  'c0a2',\n",
       "  'f2f8',\n",
       "  'f8a8',\n",
       "  'c3c4',\n",
       "  'b0c2',\n",
       "  'e1e0',\n",
       "  'g3g4',\n",
       "  'c2b4',\n",
       "  'b2d2',\n",
       "  'd2b2',\n",
       "  'e0d0',\n",
       "  'b2b1',\n",
       "  'b1e1',\n",
       "  'c4c5',\n",
       "  'g4g5',\n",
       "  'e1i1',\n",
       "  'i1e1',\n",
       "  'e1e2',\n",
       "  'a3a4',\n",
       "  'e2d2',\n",
       "  'a2c0'],\n",
       " ['e0e1',\n",
       "  'h2f2',\n",
       "  'f2f5',\n",
       "  'a0a2',\n",
       "  'f5f7',\n",
       "  'b2e2',\n",
       "  'f7f1',\n",
       "  'a3a4',\n",
       "  'e1e0',\n",
       "  'e3e4',\n",
       "  'e0f0',\n",
       "  'e2h2',\n",
       "  'f1e1',\n",
       "  'h2b2',\n",
       "  'b2d2',\n",
       "  'c3c4'],\n",
       " ['e0e1',\n",
       "  'h2g2',\n",
       "  'g0e2',\n",
       "  'b0a2',\n",
       "  'b2b6',\n",
       "  'g2h2',\n",
       "  'e3e4',\n",
       "  'h2h5',\n",
       "  'g3g4',\n",
       "  'b6b9',\n",
       "  'e2g0',\n",
       "  'g0i2',\n",
       "  'g4g5',\n",
       "  'e1d1',\n",
       "  'd1e1',\n",
       "  'e1f1',\n",
       "  'f1f0',\n",
       "  'd0e1'],\n",
       " ['e0e1', 'h2h1', 'a3a4', 'b2b9', 'e1e0'],\n",
       " ['e0e1', 'h2h1', 'b2a2', 'e1e0'],\n",
       " ['e0e1',\n",
       "  'h2h1',\n",
       "  'i0i2',\n",
       "  'g0e2',\n",
       "  'i2i0',\n",
       "  'e2c4',\n",
       "  'b2c2',\n",
       "  'e3e4',\n",
       "  'c2b2',\n",
       "  'b2f2'],\n",
       " ['e0e1',\n",
       "  'h2h3',\n",
       "  'a3a4',\n",
       "  'e1e2',\n",
       "  'a0a1',\n",
       "  'a1h1',\n",
       "  'h1e1',\n",
       "  'e2f2',\n",
       "  'e1i1',\n",
       "  'c0e2',\n",
       "  'g3g4',\n",
       "  'i1a1',\n",
       "  'b2b3'],\n",
       " ['e0e1',\n",
       "  'h2h3',\n",
       "  'b2b5',\n",
       "  'e1f1',\n",
       "  'b5b3',\n",
       "  'b3b4',\n",
       "  'h3h7',\n",
       "  'h7e7',\n",
       "  'i3i4',\n",
       "  'f1f0'],\n",
       " ['e0e1',\n",
       "  'h2h3',\n",
       "  'b2e2',\n",
       "  'e2e6',\n",
       "  'e6e8',\n",
       "  'e1e0',\n",
       "  'e0f0',\n",
       "  'b0a2',\n",
       "  'h3h0',\n",
       "  'i3i4',\n",
       "  'a0c0',\n",
       "  'c0c1',\n",
       "  'c1e1',\n",
       "  'h0h6',\n",
       "  'e1i1',\n",
       "  'i1c1'],\n",
       " ['e0e1',\n",
       "  'h2h3',\n",
       "  'b2i2',\n",
       "  'a0a1',\n",
       "  'a1a0',\n",
       "  'b0a2',\n",
       "  'a2b0',\n",
       "  'a3a4',\n",
       "  'e1f1',\n",
       "  'i2f2',\n",
       "  'f2i2',\n",
       "  'i2c2',\n",
       "  'f1f2',\n",
       "  'c2c6',\n",
       "  'g0i2',\n",
       "  'i2g0',\n",
       "  'f2e2',\n",
       "  'e2e1'],\n",
       " ['e0e1',\n",
       "  'h2h3',\n",
       "  'b2i2',\n",
       "  'h3h2',\n",
       "  'h2b2',\n",
       "  'i2g2',\n",
       "  'b2b5',\n",
       "  'b5c5',\n",
       "  'e1f1',\n",
       "  'g2f2',\n",
       "  'f2g2',\n",
       "  'g2e2',\n",
       "  'e2f2',\n",
       "  'f2f3',\n",
       "  'f1e1',\n",
       "  'f3f1',\n",
       "  'f1f6',\n",
       "  'f6f3',\n",
       "  'f3f7',\n",
       "  'e1e2',\n",
       "  'e2d2',\n",
       "  'c0a2'],\n",
       " ['e0e1',\n",
       "  'h2h3',\n",
       "  'c3c4',\n",
       "  'a0a1',\n",
       "  'b2f2',\n",
       "  'h3h0',\n",
       "  'e1f1',\n",
       "  'a1c1',\n",
       "  'f2d2',\n",
       "  'f1f2',\n",
       "  'd2d7',\n",
       "  'c1f1',\n",
       "  'd7c7',\n",
       "  'a3a4',\n",
       "  'f1g1',\n",
       "  'i3i4'],\n",
       " ['e0e1', 'h2h3', 'e1d1', 'h3h2', 'b2b4', 'd1d2', 'i3i4'],\n",
       " ['e0e1',\n",
       "  'h2h3',\n",
       "  'h3h6',\n",
       "  'b2b4',\n",
       "  'b0c2',\n",
       "  'b4b9',\n",
       "  'e1f1',\n",
       "  'h6e6',\n",
       "  'e6e7',\n",
       "  'c0a2',\n",
       "  'i3i4',\n",
       "  'e3e4',\n",
       "  'a2c0'],\n",
       " ['e0e1',\n",
       "  'h2h3',\n",
       "  'h3h6',\n",
       "  'b2b4',\n",
       "  'b4b5',\n",
       "  'a3a4',\n",
       "  'h6e6',\n",
       "  'e6i6',\n",
       "  'b5b0',\n",
       "  'e1e2',\n",
       "  'c3c4',\n",
       "  'b0b6',\n",
       "  'b6b1'],\n",
       " ['e0e1', 'h2h3', 'i0i2', 'h3h1', 'i2d2', 'd2d9', 'b2i2', 'e1d1'],\n",
       " ['e0e1',\n",
       "  'h2h4',\n",
       "  'h4d4',\n",
       "  'd4b4',\n",
       "  'c3c4',\n",
       "  'b0c2',\n",
       "  'b4b5',\n",
       "  'c2d4',\n",
       "  'b5d5',\n",
       "  'e1d1',\n",
       "  'c0a2',\n",
       "  'a2c0',\n",
       "  'd4c2',\n",
       "  'd5a5',\n",
       "  'c2b4',\n",
       "  'a3a4',\n",
       "  'd1d0'],\n",
       " ['e0e1',\n",
       "  'h2h4',\n",
       "  'h4f4',\n",
       "  'f4f7',\n",
       "  'b2g2',\n",
       "  'b0a2',\n",
       "  'e3e4',\n",
       "  'g2d2',\n",
       "  'a3a4',\n",
       "  'e1d1'],\n",
       " ['e0e1',\n",
       "  'h2h4',\n",
       "  'i3i4',\n",
       "  'h4h0',\n",
       "  'b2b1',\n",
       "  'e3e4',\n",
       "  'i4i5',\n",
       "  'a0a2',\n",
       "  'a2h2',\n",
       "  'b1b3',\n",
       "  'e1e0'],\n",
       " ['e0e1',\n",
       "  'h2h5',\n",
       "  'a0a1',\n",
       "  'e1d1',\n",
       "  'h5h6',\n",
       "  'b2g2',\n",
       "  'c0a2',\n",
       "  'i3i4',\n",
       "  'g2c2',\n",
       "  'e3e4'],\n",
       " ['e0e1',\n",
       "  'h2h5',\n",
       "  'a3a4',\n",
       "  'b0a2',\n",
       "  'b2h2',\n",
       "  'e1f1',\n",
       "  'a2b4',\n",
       "  'h2i2',\n",
       "  'i2a2',\n",
       "  'h5g5',\n",
       "  'a2d2',\n",
       "  'f1e1',\n",
       "  'd2f2',\n",
       "  'f1f0',\n",
       "  'f2g2'],\n",
       " ['e0e1',\n",
       "  'h2h5',\n",
       "  'b2b1',\n",
       "  'h5h4',\n",
       "  'b1b2',\n",
       "  'e1d1',\n",
       "  'g3g4',\n",
       "  'h4h0',\n",
       "  'd1d2',\n",
       "  'c0a2',\n",
       "  'i3i4',\n",
       "  'b2c2',\n",
       "  'c3c4',\n",
       "  'c4c5',\n",
       "  'c2c0',\n",
       "  'c0c2',\n",
       "  'c2c1',\n",
       "  'g4g5',\n",
       "  'c1c5',\n",
       "  'd2e2',\n",
       "  'e2f2'],\n",
       " ['e0e1',\n",
       "  'h2h5',\n",
       "  'b2f2',\n",
       "  'h5f5',\n",
       "  'e1f1',\n",
       "  'f2f4',\n",
       "  'g0i2',\n",
       "  'f4c4',\n",
       "  'c4c9',\n",
       "  'c9e9'],\n",
       " ['e0e1',\n",
       "  'h2h5',\n",
       "  'b2h2',\n",
       "  'c0e2',\n",
       "  'e2c4',\n",
       "  'b0a2',\n",
       "  'i3i4',\n",
       "  'h2h1',\n",
       "  'h1h2',\n",
       "  'h2c2',\n",
       "  'g0i2',\n",
       "  'c4e2'],\n",
       " ['e0e1',\n",
       "  'h2h5',\n",
       "  'e1f1',\n",
       "  'b2b9',\n",
       "  'h5i5',\n",
       "  'i3i4',\n",
       "  'a0a1',\n",
       "  'a1b1',\n",
       "  'b1b2',\n",
       "  'b2f2',\n",
       "  'f1f0',\n",
       "  'f2f4',\n",
       "  'a3a4',\n",
       "  'f4f1',\n",
       "  'f0e0',\n",
       "  'e0f0'],\n",
       " ['e0e1',\n",
       "  'h2h5',\n",
       "  'e1f1',\n",
       "  'b2b9',\n",
       "  'h5i5',\n",
       "  'i3i4',\n",
       "  'a0a1',\n",
       "  'a1b1',\n",
       "  'b1b2',\n",
       "  'b2f2',\n",
       "  'f1f0',\n",
       "  'f2f4',\n",
       "  'a3a4',\n",
       "  'f4f1',\n",
       "  'f1b1'],\n",
       " ['e0e1', 'h2h5', 'e1f1', 'b2c2', 'h5h2', 'h2g2', 'g2d2', 'c0a2'],\n",
       " ['e0e1',\n",
       "  'h2h5',\n",
       "  'h5b5',\n",
       "  'e1f1',\n",
       "  'b5d5',\n",
       "  'd5e5',\n",
       "  'a0a2',\n",
       "  'a2i2',\n",
       "  'i2h2',\n",
       "  'h2b2',\n",
       "  'b2b6',\n",
       "  'f1f0',\n",
       "  'b6b7'],\n",
       " ['e0e1', 'h2h5', 'h5c5', 'c5c9', 'e1f1', 'i3i4', 'b0c2', 'b2b1', 'a0b0'],\n",
       " ['e0e1', 'h2h5', 'h5f5', 'e1f1', 'b2b1', 'b1b4', 'b4b8'],\n",
       " ['e0e1',\n",
       "  'h2h5',\n",
       "  'h5h0',\n",
       "  'c0a2',\n",
       "  'a3a4',\n",
       "  'b0c2',\n",
       "  'b2b9',\n",
       "  'e1f1',\n",
       "  'g3g4',\n",
       "  'f1f0',\n",
       "  'a2c0',\n",
       "  'g4g5',\n",
       "  'g5f5'],\n",
       " ['e0e1',\n",
       "  'h2h5',\n",
       "  'h5h3',\n",
       "  'h3h8',\n",
       "  'b2b9',\n",
       "  'h8h4',\n",
       "  'c0e2',\n",
       "  'h4h7',\n",
       "  'e2c4',\n",
       "  'e1f1',\n",
       "  'i3i4',\n",
       "  'i4i5',\n",
       "  'f1f2',\n",
       "  'f2e2'],\n",
       " ['e0e1',\n",
       "  'h2h5',\n",
       "  'h5h6',\n",
       "  'e1f1',\n",
       "  'a0a2',\n",
       "  'b2b4',\n",
       "  'h6h0',\n",
       "  'a2f2',\n",
       "  'h0i0',\n",
       "  'i0i2',\n",
       "  'f1f0',\n",
       "  'b4b0',\n",
       "  'f2h2',\n",
       "  'a3a4',\n",
       "  'b0b3',\n",
       "  'b3b0'],\n",
       " ['e0e1', 'h2h5', 'h5h7', 'g3g4', 'h7h1', 'b2b4', 'h1i1', 'e1e0'],\n",
       " ['e0e1', 'h2h6', 'a0a1', 'c0a2', 'e1e0'],\n",
       " ['e0e1',\n",
       "  'h2h6',\n",
       "  'c0a2',\n",
       "  'b0d1',\n",
       "  'a2c4',\n",
       "  'e1e2',\n",
       "  'b2a2',\n",
       "  'd1f0',\n",
       "  'a0c0',\n",
       "  'a2a1',\n",
       "  'e2f2',\n",
       "  'c4a2',\n",
       "  'a3a4',\n",
       "  'g3g4'],\n",
       " ['e0e1',\n",
       "  'h2h6',\n",
       "  'e1f1',\n",
       "  'b2b9',\n",
       "  'a3a4',\n",
       "  'b0c2',\n",
       "  'e3e4',\n",
       "  'c2d0',\n",
       "  'h6e6',\n",
       "  'e6e5',\n",
       "  'e5a5',\n",
       "  'f1f2',\n",
       "  'd0e2',\n",
       "  'f2f1',\n",
       "  'i3i4',\n",
       "  'f1f0',\n",
       "  'e4e5'],\n",
       " ['e0e1', 'h2h6', 'e1f1', 'c3c4', 'b2b1', 'h6h3', 'h3h6', 'f1f0'],\n",
       " ['e0e1',\n",
       "  'h2h6',\n",
       "  'e1f1',\n",
       "  'c3c4',\n",
       "  'h6h0',\n",
       "  'c4c5',\n",
       "  'b2b6',\n",
       "  'g3g4',\n",
       "  'c5d5',\n",
       "  'g4g5',\n",
       "  'f1f0',\n",
       "  'e3e4',\n",
       "  'd5d6',\n",
       "  'b6b3',\n",
       "  'a3a4',\n",
       "  'd6c6',\n",
       "  'c6d6',\n",
       "  'a4a5',\n",
       "  'f0e0',\n",
       "  'e0d0',\n",
       "  'd0d1',\n",
       "  'd1d2',\n",
       "  'd2e2'],\n",
       " ['e0e1',\n",
       "  'h2h7',\n",
       "  'b2b1',\n",
       "  'h7h4',\n",
       "  'h4h5',\n",
       "  'a0b0',\n",
       "  'h5h1',\n",
       "  'h1h7',\n",
       "  'e1d1',\n",
       "  'd1d0',\n",
       "  'b1b4',\n",
       "  'b4b3',\n",
       "  'b3b6',\n",
       "  'g3g4',\n",
       "  'a3a4',\n",
       "  'e3e4',\n",
       "  'i3i4',\n",
       "  'd0e0',\n",
       "  'c3c4',\n",
       "  'e0f0',\n",
       "  'f0e0'],\n",
       " ['e0e1',\n",
       "  'h2h7',\n",
       "  'b2b1',\n",
       "  'h7h4',\n",
       "  'h4h5',\n",
       "  'a0b0',\n",
       "  'h5h1',\n",
       "  'h1h7',\n",
       "  'e1d1',\n",
       "  'd1d0',\n",
       "  'b1b4',\n",
       "  'b4g4',\n",
       "  'g4a4',\n",
       "  'a4c4',\n",
       "  'd0d1',\n",
       "  'g3g4',\n",
       "  'd1d2',\n",
       "  'd2e2',\n",
       "  'c3c4',\n",
       "  'i3i4',\n",
       "  'c4c5',\n",
       "  'e3e4',\n",
       "  'e2f2',\n",
       "  'f2e2'],\n",
       " ['e0e1',\n",
       "  'h2h7',\n",
       "  'b2b1',\n",
       "  'h7h4',\n",
       "  'h4h5',\n",
       "  'a0b0',\n",
       "  'h5h1',\n",
       "  'h1h7',\n",
       "  'e1d1',\n",
       "  'd1d0',\n",
       "  'b1b4',\n",
       "  'b4g4',\n",
       "  'g4g5',\n",
       "  'e3e4',\n",
       "  'd0d1',\n",
       "  'd1d2',\n",
       "  'a3a4',\n",
       "  'd2d1',\n",
       "  'i3i4'],\n",
       " ['e0e1',\n",
       "  'h2h7',\n",
       "  'b2b1',\n",
       "  'h7h4',\n",
       "  'h4h5',\n",
       "  'a0b0',\n",
       "  'h5h1',\n",
       "  'h1h7',\n",
       "  'e1d1',\n",
       "  'd1d0',\n",
       "  'b1b4',\n",
       "  'b4g4',\n",
       "  'g4g5',\n",
       "  'e3e4',\n",
       "  'd0d1',\n",
       "  'd1d2',\n",
       "  'a3a4',\n",
       "  'd2e2'],\n",
       " ['e0e1', 'h2h7', 'b2b4', 'e1d1', 'd1d2', 'd2e2', 'e2f2'],\n",
       " ['e0e1',\n",
       "  'h2h7',\n",
       "  'b2e2',\n",
       "  'h7c7',\n",
       "  'c3c4',\n",
       "  'a3a4',\n",
       "  'g0i2',\n",
       "  'i2g0',\n",
       "  'e1e0',\n",
       "  'e2d2',\n",
       "  'b0a2',\n",
       "  'c4c5',\n",
       "  'g3g4',\n",
       "  'a2b0',\n",
       "  'a0a2'],\n",
       " ['e0e1', 'h2h7', 'e1f1', 'h7d7', 'd7h7', 'b2h2', 'h2h9', 'f1f0'],\n",
       " ['e0e1',\n",
       "  'h2h7',\n",
       "  'e1f1',\n",
       "  'h7d7',\n",
       "  'i3i4',\n",
       "  'b2i2',\n",
       "  'a0b0',\n",
       "  'i2g2',\n",
       "  'd7c7',\n",
       "  'e3e4',\n",
       "  'c0a2',\n",
       "  'f1e1',\n",
       "  'e1e2',\n",
       "  'a2c0',\n",
       "  'e2d2',\n",
       "  'e4e5',\n",
       "  'd2e2',\n",
       "  'c3c4',\n",
       "  'g2h2',\n",
       "  'i4i5'],\n",
       " ['e0e1',\n",
       "  'h2h7',\n",
       "  'e1f1',\n",
       "  'i3i4',\n",
       "  'b2b1',\n",
       "  'h7h1',\n",
       "  'b1b4',\n",
       "  'h1i1',\n",
       "  'b4b6',\n",
       "  'i1h1',\n",
       "  'f1f2',\n",
       "  'b6e6',\n",
       "  'f2e2',\n",
       "  'e2d2',\n",
       "  'i4i5',\n",
       "  'c0e2',\n",
       "  'e2g0',\n",
       "  'g0e2',\n",
       "  'e2c0',\n",
       "  'd2e2'],\n",
       " ['e0e1',\n",
       "  'h2h7',\n",
       "  'i3i4',\n",
       "  'e1f1',\n",
       "  'b2b1',\n",
       "  'b1b3',\n",
       "  'c3c4',\n",
       "  'b3b4',\n",
       "  'b4b6',\n",
       "  'a3a4',\n",
       "  'g3g4',\n",
       "  'c4c5'],\n",
       " ['e0e1',\n",
       "  'h2h7',\n",
       "  'i3i4',\n",
       "  'e1f1',\n",
       "  'b2b1',\n",
       "  'h7d7',\n",
       "  'd7f7',\n",
       "  'b1a1',\n",
       "  'a1a0',\n",
       "  'f7e7',\n",
       "  'i4i5',\n",
       "  'a0b0',\n",
       "  'f1f0',\n",
       "  'b0b3',\n",
       "  'c3c4',\n",
       "  'f0e0',\n",
       "  'e0d0',\n",
       "  'c0a2',\n",
       "  'd0d1',\n",
       "  'g3g4',\n",
       "  'd1d2',\n",
       "  'd2e2',\n",
       "  'e2f2',\n",
       "  'f2e2'],\n",
       " ['e0e1',\n",
       "  'h2h7',\n",
       "  'i3i4',\n",
       "  'e1f1',\n",
       "  'b2b1',\n",
       "  'h7h1',\n",
       "  'a0a2',\n",
       "  'h1h2',\n",
       "  'h2h3',\n",
       "  'f1e1',\n",
       "  'b1b2',\n",
       "  'b2i2',\n",
       "  'a2b2',\n",
       "  'i2g2',\n",
       "  'g2e2',\n",
       "  'b2b3',\n",
       "  'g3g4',\n",
       "  'b3b6',\n",
       "  'c0a2',\n",
       "  'e2i2'],\n",
       " ['e0e1',\n",
       "  'h2h7',\n",
       "  'i3i4',\n",
       "  'e1f1',\n",
       "  'b2b1',\n",
       "  'h7h1',\n",
       "  'a0b0',\n",
       "  'b1b3',\n",
       "  'i4i5',\n",
       "  'h1h7',\n",
       "  'h1h6',\n",
       "  'a3a4',\n",
       "  'f1f0'],\n",
       " ['e0e1',\n",
       "  'h2h7',\n",
       "  'i3i4',\n",
       "  'e1f1',\n",
       "  'b2b1',\n",
       "  'h7h1',\n",
       "  'a0b0',\n",
       "  'h1h2',\n",
       "  'b1b3',\n",
       "  'h2h6',\n",
       "  'h6h1',\n",
       "  'i4i5'],\n",
       " ['e0e1',\n",
       "  'h2h7',\n",
       "  'i3i4',\n",
       "  'e1f1',\n",
       "  'b2b1',\n",
       "  'h7h1',\n",
       "  'b1b4',\n",
       "  'h1i1',\n",
       "  'b4b6',\n",
       "  'i1h1',\n",
       "  'f1f2',\n",
       "  'b6e6',\n",
       "  'c3c4',\n",
       "  'f2e2'],\n",
       " ['e0e1',\n",
       "  'h2h7',\n",
       "  'i3i4',\n",
       "  'e1f1',\n",
       "  'b2b1',\n",
       "  'h7h1',\n",
       "  'h1h5',\n",
       "  'b1c1',\n",
       "  'h5c5',\n",
       "  'c1b1',\n",
       "  'b1e1',\n",
       "  'f1f2',\n",
       "  'e1d1',\n",
       "  'f2f1'],\n",
       " ['e0e1',\n",
       "  'h2h7',\n",
       "  'i3i4',\n",
       "  'e1f1',\n",
       "  'h7h0',\n",
       "  'b2a2',\n",
       "  'a2b2',\n",
       "  'b2c2',\n",
       "  'a3a4',\n",
       "  'b0a2',\n",
       "  'c2g2',\n",
       "  'g2g6',\n",
       "  'f1e1',\n",
       "  'a2b4',\n",
       "  'i4i5',\n",
       "  'f1f0',\n",
       "  'f0e0',\n",
       "  'g3g4',\n",
       "  'e1d1',\n",
       "  'd1d2',\n",
       "  'd2e2',\n",
       "  'e2f2',\n",
       "  'f2e2'],\n",
       " ['e0e1',\n",
       "  'h2h8',\n",
       "  'b2b9',\n",
       "  'e1f1',\n",
       "  'h8f8',\n",
       "  'f8f4',\n",
       "  'b0a2',\n",
       "  'a2c1',\n",
       "  'f4f3',\n",
       "  'f3f4',\n",
       "  'f4e4',\n",
       "  'e4c4'],\n",
       " ['e0e1', 'h2h8', 'h8a8', 'e1f1', 'i3i4', 'a0a2', 'a2a0', 'b2b3'],\n",
       " ['e0e1',\n",
       "  'h2h8',\n",
       "  'h8f8',\n",
       "  'e1f1',\n",
       "  'g3g4',\n",
       "  'f8d8',\n",
       "  'a0b0',\n",
       "  'b2c2',\n",
       "  'd8h8',\n",
       "  'f1f0'],\n",
       " ['e0e1',\n",
       "  'h2h8',\n",
       "  'h8h6',\n",
       "  'b2b4',\n",
       "  'b0c2',\n",
       "  'h6h3',\n",
       "  'i3i4',\n",
       "  'h3i3',\n",
       "  'c0a2',\n",
       "  'a2c4',\n",
       "  'i3i0',\n",
       "  'i0i1',\n",
       "  'e1d1',\n",
       "  'e3e4',\n",
       "  'a3a4',\n",
       "  'd1d0',\n",
       "  'i1b1',\n",
       "  'b1b2'],\n",
       " ['e0e1',\n",
       "  'h2h8',\n",
       "  'h8h6',\n",
       "  'e1f1',\n",
       "  'a0a2',\n",
       "  'h6h5',\n",
       "  'a3a4',\n",
       "  'h5a5',\n",
       "  'a2a0',\n",
       "  'b2d2',\n",
       "  'd2h2',\n",
       "  'i3i4',\n",
       "  'h2a2',\n",
       "  'c0e2',\n",
       "  'i4i5',\n",
       "  'f1f2'],\n",
       " ['e0e1', 'h2h8', 'i3i4', 'a0a1', 'e3e4', 'b2c2', 'i4i5', 'i5h5'],\n",
       " ['e0e1', 'h2i2', 'b2b1', 'e1e0'],\n",
       " ['e0e1',\n",
       "  'h2i2',\n",
       "  'b2e2',\n",
       "  'e2e6',\n",
       "  'e1e2',\n",
       "  'g3g4',\n",
       "  'e3e4',\n",
       "  'e2d2',\n",
       "  'a0a1',\n",
       "  'a1f1',\n",
       "  'a3a4',\n",
       "  'f1h1',\n",
       "  'h1b1',\n",
       "  'b1h1',\n",
       "  'i2g2',\n",
       "  'b1g1',\n",
       "  'd2e2',\n",
       "  'c0a2',\n",
       "  'e2f2',\n",
       "  'f2f1',\n",
       "  'a2c4'],\n",
       " ['e0e1',\n",
       "  'h2i2',\n",
       "  'c0e2',\n",
       "  'e2c4',\n",
       "  'b2b9',\n",
       "  'i2i6',\n",
       "  'b0c2',\n",
       "  'e1f1',\n",
       "  'c4a2',\n",
       "  'f1f2',\n",
       "  'a0c0'],\n",
       " ['e0e1', 'i0h0', 'e1e2', 'h0h1', 'a0a2', 'h2g2'],\n",
       " ['e0e1', 'i0h0', 'e1e2', 'h0h1', 'e2d2', 'g3g4'],\n",
       " ['e0e1', 'i0h0', 'e1e2', 'h0h1', 'e2d2', 'h1b1'],\n",
       " ['e0e1', 'i0i1', 'b2e2', 'g3g4', 'h2f2', 'e1f1', 'b0c2', 'f2f7', 'e2e1'],\n",
       " ['e0e1',\n",
       "  'i0i1',\n",
       "  'b2e2',\n",
       "  'i1i0',\n",
       "  'c3c4',\n",
       "  'h2h1',\n",
       "  'h1h0',\n",
       "  'h0h4',\n",
       "  'h4h0',\n",
       "  'c4c5',\n",
       "  'c5c6'],\n",
       " ['e0e1',\n",
       "  'i0i1',\n",
       "  'h2c2',\n",
       "  'a0a1',\n",
       "  'e1d1',\n",
       "  'i1g1',\n",
       "  'c2d2',\n",
       "  'd1e1',\n",
       "  'b2b4',\n",
       "  'd2d1',\n",
       "  'a1b1',\n",
       "  'g1f1',\n",
       "  'd1c1',\n",
       "  'f1f2'],\n",
       " ['e0e1',\n",
       "  'i0i2',\n",
       "  'e3e4',\n",
       "  'h2g2',\n",
       "  'a0a1',\n",
       "  'a1b1',\n",
       "  'g3g4',\n",
       "  'g2b2',\n",
       "  'e1e2',\n",
       "  'c3c4',\n",
       "  'a3a4',\n",
       "  'e2d2',\n",
       "  'c0e2',\n",
       "  'c4c5',\n",
       "  'g0i2',\n",
       "  'i2g0',\n",
       "  'e2c0',\n",
       "  'd2e2',\n",
       "  'e2e1',\n",
       "  'e1f1',\n",
       "  'f1f2',\n",
       "  'f2e2',\n",
       "  'i3i4',\n",
       "  'e1d1',\n",
       "  'd1e1'],\n",
       " ['e0e1', 'i0i2', 'e3e4', 'h2g2', 'c0a2', 'e1f1', 'b0d1', 'g2c2'],\n",
       " ['e0e1',\n",
       "  'i0i2',\n",
       "  'g3g4',\n",
       "  'e3e4',\n",
       "  'h2h3',\n",
       "  'e1f1',\n",
       "  'b2f2',\n",
       "  'c3c4',\n",
       "  'g0i2',\n",
       "  'f2f4',\n",
       "  'c4c5'],\n",
       " ['e0e1',\n",
       "  'i3i4',\n",
       "  'a0a2',\n",
       "  'b2b6',\n",
       "  'a2b2',\n",
       "  'e3e4',\n",
       "  'h2h3',\n",
       "  'h3h0',\n",
       "  'h0h1',\n",
       "  'e1e2',\n",
       "  'h1d1',\n",
       "  'a3a4',\n",
       "  'e4e5',\n",
       "  'd1i1'],\n",
       " ['e0e1',\n",
       "  'i3i4',\n",
       "  'b2b5',\n",
       "  'g0i2',\n",
       "  'i2g0',\n",
       "  'b0d1',\n",
       "  'e1e2',\n",
       "  'b5a5',\n",
       "  'h2h5',\n",
       "  'h5e5',\n",
       "  'e3e4'],\n",
       " ['e0e1', 'i3i4', 'i0h0', 'b0c2', 'b2b1', 'b1b6', 'c0e2', 'e2c4'],\n",
       " ['f0e1', 'a0a2'],\n",
       " ['f0e1', 'b2b4'],\n",
       " ['f0e1', 'b2b9'],\n",
       " ['f0e1', 'b2c2'],\n",
       " ['f0e1', 'g0e2', 'h2f2', 'b2b9', 'a3a4', 'f2f6', 'a0a2', 'a2a3', 'e1d0'],\n",
       " ['f0e1',\n",
       "  'g0e2',\n",
       "  'h2f2',\n",
       "  'b2b9',\n",
       "  'f2f6',\n",
       "  'b0c2',\n",
       "  'c2b0',\n",
       "  'a3a4',\n",
       "  'f6f0',\n",
       "  'e2c0'],\n",
       " ['f0e1', 'g0e2', 'h2h7', 'b2b3', 'a0a1', 'a1a2'],\n",
       " ['f0e1', 'g0e2', 'h2h7', 'b2b9', 'h7e7', 'a3a4', 'a0a2', 'a2a0', 'g3g4'],\n",
       " ['f0e1', 'h2g2'],\n",
       " ['f0e1', 'h2h5'],\n",
       " ['f0e1', 'h2h6']]"
      ]
     },
     "execution_count": 30,
     "metadata": {},
     "output_type": "execute_result"
    }
   ],
   "source": [
    "actions_list = data3[\"action_sequence\"].values.tolist()\n",
    "list(map(lambda x: x.split(\",\"), actions_list))"
   ]
  },
  {
   "cell_type": "code",
   "execution_count": 18,
   "id": "b03d9f50",
   "metadata": {},
   "outputs": [
    {
     "data": {
      "text/plain": [
       "['a0a1', 'b2b5', 'b5h5', 'e0e1', 'e1f1', 'h2g2', 'i0i2', 'i2i0']"
      ]
     },
     "execution_count": 18,
     "metadata": {},
     "output_type": "execute_result"
    }
   ],
   "source": [
    "# demo\n",
    "test_list = [\"e0e1\", \"e1f1\", \"i0i2\", \"h2g2\", \"a0a1\", \"b2b5\", \"i2i0\", \"b5h5\"]\n",
    "sorted(test_list)\n",
    "# subsets(test_list)"
   ]
  },
  {
   "cell_type": "code",
   "execution_count": 55,
   "id": "71f60215",
   "metadata": {},
   "outputs": [
    {
     "data": {
      "text/plain": [
       "frozenset({'e0e1', 'e1f1'})"
      ]
     },
     "execution_count": 55,
     "metadata": {},
     "output_type": "execute_result"
    }
   ],
   "source": [
    "test_list2 = [\"e0e1\", \"e1f1\", \"e0e1\"]\n",
    "frozenset(test_list2)"
   ]
  },
  {
   "cell_type": "code",
   "execution_count": 63,
   "id": "46316f11",
   "metadata": {},
   "outputs": [],
   "source": [
    "from itertools import chain, combinations\n",
    "from tqdm import tqdm\n",
    "from collections import Counter, defaultdict\n",
    "\n",
    "\n",
    "class SimplifiedShapleyAttributionModel:\n",
    "    \n",
    "    def powerset(self, x):\n",
    "        s = list(x)\n",
    "        return chain.from_iterable(combinations(s, r) for r in range(len(s) + 1))\n",
    "\n",
    "    \n",
    "    def _phi(self, channel_index):\n",
    "        S_channel = [k for k in self.journeys.keys() if channel_index in k]\n",
    "        score = 0\n",
    "        print(f\"Computing phi for channel {channel_index}...\")\n",
    "        for S in tqdm(S_channel):\n",
    "            score += self.journeys[S] / len(S)\n",
    "        print(f\"Attribution score for channel {channel_index}: {score:.2f}\")\n",
    "        print()\n",
    "        return score\n",
    "\n",
    "    \n",
    "    def attribute(self, df):\n",
    "        actions_list = data3[\"action_sequence\"].values.tolist()\n",
    "        journeys_list = list(map(lambda x: x.split(\",\"), actions_list))\n",
    "        \n",
    "        self.P = set(chain(*journeys_list))\n",
    "#         print(f\"self.P: {self.P}\")\n",
    "        print(\"Running Simplified Shapley Attribution Model...\")\n",
    "        print(f\"Found {len(self.P)} unique channels!\")\n",
    "        \n",
    "        print(\"Computing journey statistics...\")\n",
    "        value_dict = defaultdict(int)\n",
    "        for i in range(len(df)):\n",
    "            row = df.iloc[i]\n",
    "            key = frozenset(row[\"action_sequence\"].split(\",\"))\n",
    "#             value = row[\"win_count\"]\n",
    "            value = row[\"chapture_value\"]\n",
    "            value_dict[key] += value\n",
    "        \n",
    "        self.journeys = value_dict\n",
    "        \n",
    "#         print(f\"self.journeys: {self.journeys}\")\n",
    "        \n",
    "        print(f\"Computing attributions...\")\n",
    "        print()\n",
    "        return {j: self._phi(j) for j in self.P}"
   ]
  },
  {
   "cell_type": "code",
   "execution_count": 64,
   "id": "c5f23ac0",
   "metadata": {},
   "outputs": [
    {
     "name": "stdout",
     "output_type": "stream",
     "text": [
      "Running Simplified Shapley Attribution Model...\n",
      "Found 670 unique channels!\n",
      "Computing journey statistics...\n",
      "Computing attributions...\n",
      "\n",
      "Computing phi for channel f7f0...\n"
     ]
    },
    {
     "name": "stderr",
     "output_type": "stream",
     "text": [
      "100%|████████████████████████████████████████████████████| 1/1 [00:00<?, ?it/s]\n"
     ]
    },
    {
     "name": "stdout",
     "output_type": "stream",
     "text": [
      "Attribution score for channel f7f0: -9.34\n",
      "\n",
      "Computing phi for channel h0h4...\n"
     ]
    },
    {
     "name": "stderr",
     "output_type": "stream",
     "text": [
      "100%|██████████████████████████████████████████| 2/2 [00:00<00:00, 1945.41it/s]\n"
     ]
    },
    {
     "name": "stdout",
     "output_type": "stream",
     "text": [
      "Attribution score for channel h0h4: -15.86\n",
      "\n",
      "Computing phi for channel g6h6...\n"
     ]
    },
    {
     "name": "stderr",
     "output_type": "stream",
     "text": [
      "100%|████████████████████████████████████████████████████| 2/2 [00:00<?, ?it/s]\n"
     ]
    },
    {
     "name": "stdout",
     "output_type": "stream",
     "text": [
      "Attribution score for channel g6h6: -11.21\n",
      "\n",
      "Computing phi for channel d2f2...\n"
     ]
    },
    {
     "name": "stderr",
     "output_type": "stream",
     "text": [
      "100%|████████████████████████████████████████████████████| 7/7 [00:00<?, ?it/s]\n"
     ]
    },
    {
     "name": "stdout",
     "output_type": "stream",
     "text": [
      "Attribution score for channel d2f2: -45.74\n",
      "\n",
      "Computing phi for channel a2a1...\n"
     ]
    },
    {
     "name": "stderr",
     "output_type": "stream",
     "text": [
      "100%|██████████████████████████████████████████████████| 19/19 [00:00<?, ?it/s]\n"
     ]
    },
    {
     "name": "stdout",
     "output_type": "stream",
     "text": [
      "Attribution score for channel a2a1: -115.29\n",
      "\n",
      "Computing phi for channel f1f8...\n"
     ]
    },
    {
     "name": "stderr",
     "output_type": "stream",
     "text": [
      "100%|████████████████████████████████████████████████████| 1/1 [00:00<?, ?it/s]\n"
     ]
    },
    {
     "name": "stdout",
     "output_type": "stream",
     "text": [
      "Attribution score for channel f1f8: -10.69\n",
      "\n",
      "Computing phi for channel g2e2...\n"
     ]
    },
    {
     "name": "stderr",
     "output_type": "stream",
     "text": [
      "100%|██████████████████████████████████████████████████| 25/25 [00:00<?, ?it/s]\n"
     ]
    },
    {
     "name": "stdout",
     "output_type": "stream",
     "text": [
      "Attribution score for channel g2e2: -149.75\n",
      "\n",
      "Computing phi for channel d2e1...\n"
     ]
    },
    {
     "name": "stderr",
     "output_type": "stream",
     "text": [
      "100%|██████████████████████████████████████████| 4/4 [00:00<00:00, 4015.61it/s]\n"
     ]
    },
    {
     "name": "stdout",
     "output_type": "stream",
     "text": [
      "Attribution score for channel d2e1: -26.40\n",
      "\n",
      "Computing phi for channel e1e0...\n"
     ]
    },
    {
     "name": "stderr",
     "output_type": "stream",
     "text": [
      "100%|██████████████████████████████████████████████████| 71/71 [00:00<?, ?it/s]\n"
     ]
    },
    {
     "name": "stdout",
     "output_type": "stream",
     "text": [
      "Attribution score for channel e1e0: -655.08\n",
      "\n",
      "Computing phi for channel b5h5...\n"
     ]
    },
    {
     "name": "stderr",
     "output_type": "stream",
     "text": [
      "100%|████████████████████████████████████████████████████| 1/1 [00:00<?, ?it/s]\n"
     ]
    },
    {
     "name": "stdout",
     "output_type": "stream",
     "text": [
      "Attribution score for channel b5h5: -4.88\n",
      "\n",
      "Computing phi for channel i0g0...\n"
     ]
    },
    {
     "name": "stderr",
     "output_type": "stream",
     "text": [
      "100%|████████████████████████████████████████████████████| 6/6 [00:00<?, ?it/s]\n"
     ]
    },
    {
     "name": "stdout",
     "output_type": "stream",
     "text": [
      "Attribution score for channel i0g0: -38.69\n",
      "\n",
      "Computing phi for channel f2e2...\n"
     ]
    },
    {
     "name": "stderr",
     "output_type": "stream",
     "text": [
      "100%|██████████████████████████████████████████████████| 20/20 [00:00<?, ?it/s]\n"
     ]
    },
    {
     "name": "stdout",
     "output_type": "stream",
     "text": [
      "Attribution score for channel f2e2: -135.61\n",
      "\n",
      "Computing phi for channel g2h4...\n"
     ]
    },
    {
     "name": "stderr",
     "output_type": "stream",
     "text": [
      "100%|████████████████████████████████████████████████████| 4/4 [00:00<?, ?it/s]\n"
     ]
    },
    {
     "name": "stdout",
     "output_type": "stream",
     "text": [
      "Attribution score for channel g2h4: -23.71\n",
      "\n",
      "Computing phi for channel b2b3...\n"
     ]
    },
    {
     "name": "stderr",
     "output_type": "stream",
     "text": [
      "100%|██████████████████████████████████████████████████| 67/67 [00:00<?, ?it/s]\n"
     ]
    },
    {
     "name": "stdout",
     "output_type": "stream",
     "text": [
      "Attribution score for channel b2b3: -462.83\n",
      "\n",
      "Computing phi for channel e6d6...\n"
     ]
    },
    {
     "name": "stderr",
     "output_type": "stream",
     "text": [
      "100%|████████████████████████████████████████████████████| 1/1 [00:00<?, ?it/s]\n"
     ]
    },
    {
     "name": "stdout",
     "output_type": "stream",
     "text": [
      "Attribution score for channel e6d6: -6.61\n",
      "\n",
      "Computing phi for channel c2f2...\n"
     ]
    },
    {
     "name": "stderr",
     "output_type": "stream",
     "text": [
      "100%|██████████████████████████████████████████████████| 12/12 [00:00<?, ?it/s]\n"
     ]
    },
    {
     "name": "stdout",
     "output_type": "stream",
     "text": [
      "Attribution score for channel c2f2: -76.89\n",
      "\n",
      "Computing phi for channel d3g3...\n"
     ]
    },
    {
     "name": "stderr",
     "output_type": "stream",
     "text": [
      "100%|████████████████████████████████████████████████████| 1/1 [00:00<?, ?it/s]\n"
     ]
    },
    {
     "name": "stdout",
     "output_type": "stream",
     "text": [
      "Attribution score for channel d3g3: -3.82\n",
      "\n",
      "Computing phi for channel b6b5...\n"
     ]
    },
    {
     "name": "stderr",
     "output_type": "stream",
     "text": [
      "100%|████████████████████████████████████████████████████| 1/1 [00:00<?, ?it/s]\n"
     ]
    },
    {
     "name": "stdout",
     "output_type": "stream",
     "text": [
      "Attribution score for channel b6b5: -6.72\n",
      "\n",
      "Computing phi for channel h0h2...\n"
     ]
    },
    {
     "name": "stderr",
     "output_type": "stream",
     "text": [
      "100%|████████████████████████████████████████████████████| 2/2 [00:00<?, ?it/s]\n"
     ]
    },
    {
     "name": "stdout",
     "output_type": "stream",
     "text": [
      "Attribution score for channel h0h2: -14.84\n",
      "\n",
      "Computing phi for channel c1a1...\n"
     ]
    },
    {
     "name": "stderr",
     "output_type": "stream",
     "text": [
      "100%|████████████████████████████████████████████████████| 4/4 [00:00<?, ?it/s]\n"
     ]
    },
    {
     "name": "stdout",
     "output_type": "stream",
     "text": [
      "Attribution score for channel c1a1: -26.59\n",
      "\n",
      "Computing phi for channel d2a2...\n"
     ]
    },
    {
     "name": "stderr",
     "output_type": "stream",
     "text": [
      "100%|██████████████████████████████████████████████████| 10/10 [00:00<?, ?it/s]\n"
     ]
    },
    {
     "name": "stdout",
     "output_type": "stream",
     "text": [
      "Attribution score for channel d2a2: -56.49\n",
      "\n",
      "Computing phi for channel d1e1...\n"
     ]
    },
    {
     "name": "stderr",
     "output_type": "stream",
     "text": [
      "100%|██████████████████████████████████████████████████| 15/15 [00:00<?, ?it/s]\n"
     ]
    },
    {
     "name": "stdout",
     "output_type": "stream",
     "text": [
      "Attribution score for channel d1e1: -102.42\n",
      "\n",
      "Computing phi for channel b2b5...\n"
     ]
    },
    {
     "name": "stderr",
     "output_type": "stream",
     "text": [
      "100%|██████████████████████████████████████████████████| 27/27 [00:00<?, ?it/s]\n"
     ]
    },
    {
     "name": "stdout",
     "output_type": "stream",
     "text": [
      "Attribution score for channel b2b5: -217.20\n",
      "\n",
      "Computing phi for channel e7c6...\n"
     ]
    },
    {
     "name": "stderr",
     "output_type": "stream",
     "text": [
      "100%|████████████████████████████████████████████████████| 1/1 [00:00<?, ?it/s]\n"
     ]
    },
    {
     "name": "stdout",
     "output_type": "stream",
     "text": [
      "Attribution score for channel e7c6: -8.73\n",
      "\n",
      "Computing phi for channel h5b5...\n"
     ]
    },
    {
     "name": "stderr",
     "output_type": "stream",
     "text": [
      "100%|████████████████████████████████████████████████████| 1/1 [00:00<?, ?it/s]\n"
     ]
    },
    {
     "name": "stdout",
     "output_type": "stream",
     "text": [
      "Attribution score for channel h5b5: -8.56\n",
      "\n",
      "Computing phi for channel h5h2...\n"
     ]
    },
    {
     "name": "stderr",
     "output_type": "stream",
     "text": [
      "100%|██████████████████████████████████████████████████| 13/13 [00:00<?, ?it/s]\n"
     ]
    },
    {
     "name": "stdout",
     "output_type": "stream",
     "text": [
      "Attribution score for channel h5h2: -80.23\n",
      "\n",
      "Computing phi for channel a2a0...\n"
     ]
    },
    {
     "name": "stderr",
     "output_type": "stream",
     "text": [
      "100%|██████████████████████████████████████████████████| 17/17 [00:00<?, ?it/s]\n"
     ]
    },
    {
     "name": "stdout",
     "output_type": "stream",
     "text": [
      "Attribution score for channel a2a0: -120.16\n",
      "\n",
      "Computing phi for channel h2a2...\n"
     ]
    },
    {
     "name": "stderr",
     "output_type": "stream",
     "text": [
      "100%|██████████████████████████████████████████| 4/4 [00:00<00:00, 4007.94it/s]\n"
     ]
    },
    {
     "name": "stdout",
     "output_type": "stream",
     "text": [
      "Attribution score for channel h2a2: -32.82\n",
      "\n",
      "Computing phi for channel h5h7...\n"
     ]
    },
    {
     "name": "stderr",
     "output_type": "stream",
     "text": [
      "100%|████████████████████████████████████████████████████| 1/1 [00:00<?, ?it/s]\n"
     ]
    },
    {
     "name": "stdout",
     "output_type": "stream",
     "text": [
      "Attribution score for channel h5h7: -10.79\n",
      "\n",
      "Computing phi for channel e1g1...\n"
     ]
    },
    {
     "name": "stderr",
     "output_type": "stream",
     "text": [
      "100%|██████████████████████████████████████████| 2/2 [00:00<00:00, 2004.93it/s]\n"
     ]
    },
    {
     "name": "stdout",
     "output_type": "stream",
     "text": [
      "Attribution score for channel e1g1: -11.84\n",
      "\n",
      "Computing phi for channel h0i0...\n"
     ]
    },
    {
     "name": "stderr",
     "output_type": "stream",
     "text": [
      "100%|████████████████████████████████████████████████████| 2/2 [00:00<?, ?it/s]\n"
     ]
    },
    {
     "name": "stdout",
     "output_type": "stream",
     "text": [
      "Attribution score for channel h0i0: -15.82\n",
      "\n",
      "Computing phi for channel f6f0...\n"
     ]
    },
    {
     "name": "stderr",
     "output_type": "stream",
     "text": [
      "100%|████████████████████████████████████████████████████| 2/2 [00:00<?, ?it/s]\n"
     ]
    },
    {
     "name": "stdout",
     "output_type": "stream",
     "text": [
      "Attribution score for channel f6f0: -14.63\n",
      "\n",
      "Computing phi for channel d2c2...\n"
     ]
    },
    {
     "name": "stderr",
     "output_type": "stream",
     "text": [
      "100%|██████████████████████████████████████████| 6/6 [00:00<00:00, 6010.47it/s]\n"
     ]
    },
    {
     "name": "stdout",
     "output_type": "stream",
     "text": [
      "Attribution score for channel d2c2: -37.42\n",
      "\n",
      "Computing phi for channel h5i5...\n"
     ]
    },
    {
     "name": "stderr",
     "output_type": "stream",
     "text": [
      "100%|███████████████████████████████████████| 18/18 [00:00<00:00, 18065.92it/s]\n"
     ]
    },
    {
     "name": "stdout",
     "output_type": "stream",
     "text": [
      "Attribution score for channel h5i5: -103.62\n",
      "\n",
      "Computing phi for channel c1g1...\n"
     ]
    },
    {
     "name": "stderr",
     "output_type": "stream",
     "text": [
      "100%|██████████████████████████████████████████| 3/3 [00:00<00:00, 3009.55it/s]\n"
     ]
    },
    {
     "name": "stdout",
     "output_type": "stream",
     "text": [
      "Attribution score for channel c1g1: -13.42\n",
      "\n",
      "Computing phi for channel h1e1...\n"
     ]
    },
    {
     "name": "stderr",
     "output_type": "stream",
     "text": [
      "100%|████████████████████████████████████████████████████| 2/2 [00:00<?, ?it/s]\n"
     ]
    },
    {
     "name": "stdout",
     "output_type": "stream",
     "text": [
      "Attribution score for channel h1e1: -14.39\n",
      "\n",
      "Computing phi for channel b1b7...\n"
     ]
    },
    {
     "name": "stderr",
     "output_type": "stream",
     "text": [
      "100%|████████████████████████████████████████████████████| 1/1 [00:00<?, ?it/s]\n"
     ]
    },
    {
     "name": "stdout",
     "output_type": "stream",
     "text": [
      "Attribution score for channel b1b7: -8.05\n",
      "\n",
      "Computing phi for channel c2a3...\n"
     ]
    },
    {
     "name": "stderr",
     "output_type": "stream",
     "text": [
      "100%|████████████████████████████████████████████████████| 1/1 [00:00<?, ?it/s]\n"
     ]
    },
    {
     "name": "stdout",
     "output_type": "stream",
     "text": [
      "Attribution score for channel c2a3: -2.82\n",
      "\n",
      "Computing phi for channel a4c4...\n"
     ]
    },
    {
     "name": "stderr",
     "output_type": "stream",
     "text": [
      "100%|████████████████████████████████████████████████████| 4/4 [00:00<?, ?it/s]\n"
     ]
    },
    {
     "name": "stdout",
     "output_type": "stream",
     "text": [
      "Attribution score for channel a4c4: -21.50\n",
      "\n",
      "Computing phi for channel b4b3...\n"
     ]
    },
    {
     "name": "stderr",
     "output_type": "stream",
     "text": [
      "100%|████████████████████████████████████████████████████| 9/9 [00:00<?, ?it/s]\n"
     ]
    },
    {
     "name": "stdout",
     "output_type": "stream",
     "text": [
      "Attribution score for channel b4b3: -67.28\n",
      "\n",
      "Computing phi for channel b0b1...\n"
     ]
    },
    {
     "name": "stderr",
     "output_type": "stream",
     "text": [
      "100%|████████████████████████████████████████████████████| 6/6 [00:00<?, ?it/s]\n"
     ]
    },
    {
     "name": "stdout",
     "output_type": "stream",
     "text": [
      "Attribution score for channel b0b1: -36.41\n",
      "\n",
      "Computing phi for channel c1a2...\n"
     ]
    },
    {
     "name": "stderr",
     "output_type": "stream",
     "text": [
      "100%|████████████████████████████████████████████████████| 1/1 [00:00<?, ?it/s]\n"
     ]
    },
    {
     "name": "stdout",
     "output_type": "stream",
     "text": [
      "Attribution score for channel c1a2: -9.00\n",
      "\n",
      "Computing phi for channel d4d5...\n"
     ]
    },
    {
     "name": "stderr",
     "output_type": "stream",
     "text": [
      "100%|████████████████████████████████████████████████████| 1/1 [00:00<?, ?it/s]\n"
     ]
    },
    {
     "name": "stdout",
     "output_type": "stream",
     "text": [
      "Attribution score for channel d4d5: -5.96\n",
      "\n",
      "Computing phi for channel f2c2...\n"
     ]
    },
    {
     "name": "stderr",
     "output_type": "stream",
     "text": [
      "100%|██████████████████████████████████████████████████| 10/10 [00:00<?, ?it/s]\n"
     ]
    },
    {
     "name": "stdout",
     "output_type": "stream",
     "text": [
      "Attribution score for channel f2c2: -72.02\n",
      "\n",
      "Computing phi for channel h8h6...\n"
     ]
    },
    {
     "name": "stderr",
     "output_type": "stream",
     "text": [
      "100%|████████████████████████████████████████████████████| 3/3 [00:00<?, ?it/s]\n"
     ]
    },
    {
     "name": "stdout",
     "output_type": "stream",
     "text": [
      "Attribution score for channel h8h6: -23.59\n",
      "\n",
      "Computing phi for channel d4d6...\n"
     ]
    },
    {
     "name": "stderr",
     "output_type": "stream",
     "text": [
      "100%|████████████████████████████████████████████████████| 2/2 [00:00<?, ?it/s]\n"
     ]
    },
    {
     "name": "stdout",
     "output_type": "stream",
     "text": [
      "Attribution score for channel d4d6: -14.91\n",
      "\n",
      "Computing phi for channel a2d2...\n"
     ]
    },
    {
     "name": "stderr",
     "output_type": "stream",
     "text": [
      "100%|██████████████████████████████████████████████████| 21/21 [00:00<?, ?it/s]\n"
     ]
    },
    {
     "name": "stdout",
     "output_type": "stream",
     "text": [
      "Attribution score for channel a2d2: -133.22\n",
      "\n",
      "Computing phi for channel b8b9...\n"
     ]
    },
    {
     "name": "stderr",
     "output_type": "stream",
     "text": [
      "100%|████████████████████████████████████████████████████| 1/1 [00:00<?, ?it/s]\n"
     ]
    },
    {
     "name": "stdout",
     "output_type": "stream",
     "text": [
      "Attribution score for channel b8b9: -11.78\n",
      "\n",
      "Computing phi for channel b4b7...\n"
     ]
    },
    {
     "name": "stderr",
     "output_type": "stream",
     "text": [
      "100%|████████████████████████████████████████████████████| 4/4 [00:00<?, ?it/s]\n"
     ]
    },
    {
     "name": "stdout",
     "output_type": "stream",
     "text": [
      "Attribution score for channel b4b7: -33.37\n",
      "\n",
      "Computing phi for channel h8a8...\n"
     ]
    },
    {
     "name": "stderr",
     "output_type": "stream",
     "text": [
      "100%|████████████████████████████████████████████████████| 1/1 [00:00<?, ?it/s]\n"
     ]
    },
    {
     "name": "stdout",
     "output_type": "stream",
     "text": [
      "Attribution score for channel h8a8: -9.36\n",
      "\n",
      "Computing phi for channel b6g6...\n"
     ]
    },
    {
     "name": "stderr",
     "output_type": "stream",
     "text": [
      "100%|████████████████████████████████████████████████████| 1/1 [00:00<?, ?it/s]\n"
     ]
    },
    {
     "name": "stdout",
     "output_type": "stream",
     "text": [
      "Attribution score for channel b6g6: -7.83\n",
      "\n",
      "Computing phi for channel c6c4...\n"
     ]
    },
    {
     "name": "stderr",
     "output_type": "stream",
     "text": [
      "100%|██████████████████████████████████████████| 2/2 [00:00<00:00, 2005.88it/s]\n"
     ]
    },
    {
     "name": "stdout",
     "output_type": "stream",
     "text": [
      "Attribution score for channel c6c4: -12.46\n",
      "\n",
      "Computing phi for channel b0b9...\n"
     ]
    },
    {
     "name": "stderr",
     "output_type": "stream",
     "text": [
      "100%|████████████████████████████████████████████████████| 2/2 [00:00<?, ?it/s]\n"
     ]
    },
    {
     "name": "stdout",
     "output_type": "stream",
     "text": [
      "Attribution score for channel b0b9: -11.31\n",
      "\n",
      "Computing phi for channel e5g5...\n"
     ]
    },
    {
     "name": "stderr",
     "output_type": "stream",
     "text": [
      "100%|████████████████████████████████████████████████████| 1/1 [00:00<?, ?it/s]\n"
     ]
    },
    {
     "name": "stdout",
     "output_type": "stream",
     "text": [
      "Attribution score for channel e5g5: -7.98\n",
      "\n",
      "Computing phi for channel b3e3...\n"
     ]
    },
    {
     "name": "stderr",
     "output_type": "stream",
     "text": [
      "100%|████████████████████████████████████████████████████| 3/3 [00:00<?, ?it/s]\n"
     ]
    },
    {
     "name": "stdout",
     "output_type": "stream",
     "text": [
      "Attribution score for channel b3e3: -18.85\n",
      "\n",
      "Computing phi for channel a1h1...\n"
     ]
    },
    {
     "name": "stderr",
     "output_type": "stream",
     "text": [
      "100%|████████████████████████████████████████████████████| 9/9 [00:00<?, ?it/s]\n"
     ]
    },
    {
     "name": "stdout",
     "output_type": "stream",
     "text": [
      "Attribution score for channel a1h1: -54.81\n",
      "\n",
      "Computing phi for channel e3e4...\n"
     ]
    },
    {
     "name": "stderr",
     "output_type": "stream",
     "text": [
      "100%|████████████████████████████████████████████████| 273/273 [00:00<?, ?it/s]\n"
     ]
    },
    {
     "name": "stdout",
     "output_type": "stream",
     "text": [
      "Attribution score for channel e3e4: -1869.45\n",
      "\n",
      "Computing phi for channel h7h6...\n"
     ]
    },
    {
     "name": "stderr",
     "output_type": "stream",
     "text": [
      "100%|████████████████████████████████████████████████████| 1/1 [00:00<?, ?it/s]"
     ]
    },
    {
     "name": "stdout",
     "output_type": "stream",
     "text": [
      "Attribution score for channel h7h6: -10.79\n",
      "\n",
      "Computing phi for channel e2d2...\n"
     ]
    },
    {
     "name": "stderr",
     "output_type": "stream",
     "text": [
      "\n",
      "100%|███████████████████████████████████████| 41/41 [00:00<00:00, 41140.30it/s]\n"
     ]
    },
    {
     "name": "stdout",
     "output_type": "stream",
     "text": [
      "Attribution score for channel e2d2: -256.85\n",
      "\n",
      "Computing phi for channel g1i1...\n"
     ]
    },
    {
     "name": "stderr",
     "output_type": "stream",
     "text": [
      "100%|████████████████████████████████████████████████████| 3/3 [00:00<?, ?it/s]\n"
     ]
    },
    {
     "name": "stdout",
     "output_type": "stream",
     "text": [
      "Attribution score for channel g1i1: -20.11\n",
      "\n",
      "Computing phi for channel b5b0...\n"
     ]
    },
    {
     "name": "stderr",
     "output_type": "stream",
     "text": [
      "100%|████████████████████████████████████████████████████| 1/1 [00:00<?, ?it/s]\n"
     ]
    },
    {
     "name": "stdout",
     "output_type": "stream",
     "text": [
      "Attribution score for channel b5b0: -9.05\n",
      "\n",
      "Computing phi for channel f5f7...\n"
     ]
    },
    {
     "name": "stderr",
     "output_type": "stream",
     "text": [
      "100%|████████████████████████████████████████████████████| 1/1 [00:00<?, ?it/s]\n"
     ]
    },
    {
     "name": "stdout",
     "output_type": "stream",
     "text": [
      "Attribution score for channel f5f7: -4.02\n",
      "\n",
      "Computing phi for channel a2a6...\n"
     ]
    },
    {
     "name": "stderr",
     "output_type": "stream",
     "text": [
      "100%|████████████████████████████████████████████████████| 1/1 [00:00<?, ?it/s]\n"
     ]
    },
    {
     "name": "stdout",
     "output_type": "stream",
     "text": [
      "Attribution score for channel a2a6: -7.83\n",
      "\n",
      "Computing phi for channel f4a4...\n"
     ]
    },
    {
     "name": "stderr",
     "output_type": "stream",
     "text": [
      "100%|████████████████████████████████████████████████████| 1/1 [00:00<?, ?it/s]\n"
     ]
    },
    {
     "name": "stdout",
     "output_type": "stream",
     "text": [
      "Attribution score for channel f4a4: -5.71\n",
      "\n",
      "Computing phi for channel d1c1...\n"
     ]
    },
    {
     "name": "stderr",
     "output_type": "stream",
     "text": [
      "100%|████████████████████████████████████████████████████| 2/2 [00:00<?, ?it/s]\n"
     ]
    },
    {
     "name": "stdout",
     "output_type": "stream",
     "text": [
      "Attribution score for channel d1c1: -14.65\n",
      "\n",
      "Computing phi for channel c1e0...\n"
     ]
    },
    {
     "name": "stderr",
     "output_type": "stream",
     "text": [
      "100%|████████████████████████████████████████████████████| 1/1 [00:00<?, ?it/s]\n"
     ]
    },
    {
     "name": "stdout",
     "output_type": "stream",
     "text": [
      "Attribution score for channel c1e0: -8.36\n",
      "\n",
      "Computing phi for channel f6e6...\n"
     ]
    },
    {
     "name": "stderr",
     "output_type": "stream",
     "text": [
      "100%|████████████████████████████████████████████████████| 1/1 [00:00<?, ?it/s]\n"
     ]
    },
    {
     "name": "stdout",
     "output_type": "stream",
     "text": [
      "Attribution score for channel f6e6: -5.95\n",
      "\n",
      "Computing phi for channel i1c1...\n"
     ]
    },
    {
     "name": "stderr",
     "output_type": "stream",
     "text": [
      "100%|████████████████████████████████████████████████████| 3/3 [00:00<?, ?it/s]\n"
     ]
    },
    {
     "name": "stdout",
     "output_type": "stream",
     "text": [
      "Attribution score for channel i1c1: -19.05\n",
      "\n",
      "Computing phi for channel e6a6...\n"
     ]
    },
    {
     "name": "stderr",
     "output_type": "stream",
     "text": [
      "100%|██████████████████████████████████████████| 1/1 [00:00<00:00, 1002.70it/s]\n"
     ]
    },
    {
     "name": "stdout",
     "output_type": "stream",
     "text": [
      "Attribution score for channel e6a6: -7.70\n",
      "\n",
      "Computing phi for channel a1f1...\n"
     ]
    },
    {
     "name": "stderr",
     "output_type": "stream",
     "text": [
      "100%|███████████████████████████████████████| 13/13 [00:00<00:00, 25804.99it/s]\n"
     ]
    },
    {
     "name": "stdout",
     "output_type": "stream",
     "text": [
      "Attribution score for channel a1f1: -80.02\n",
      "\n",
      "Computing phi for channel c2c0...\n"
     ]
    },
    {
     "name": "stderr",
     "output_type": "stream",
     "text": [
      "100%|████████████████████████████████████████████████████| 1/1 [00:00<?, ?it/s]\n"
     ]
    },
    {
     "name": "stdout",
     "output_type": "stream",
     "text": [
      "Attribution score for channel c2c0: -6.67\n",
      "\n",
      "Computing phi for channel d8i8...\n"
     ]
    },
    {
     "name": "stderr",
     "output_type": "stream",
     "text": [
      "100%|████████████████████████████████████████████████████| 1/1 [00:00<?, ?it/s]\n"
     ]
    },
    {
     "name": "stdout",
     "output_type": "stream",
     "text": [
      "Attribution score for channel d8i8: -5.82\n",
      "\n",
      "Computing phi for channel b2b1...\n"
     ]
    },
    {
     "name": "stderr",
     "output_type": "stream",
     "text": [
      "100%|██████████████████████████████████████████████████| 92/92 [00:00<?, ?it/s]\n"
     ]
    },
    {
     "name": "stdout",
     "output_type": "stream",
     "text": [
      "Attribution score for channel b2b1: -630.99\n",
      "\n",
      "Computing phi for channel f0f3...\n"
     ]
    },
    {
     "name": "stderr",
     "output_type": "stream",
     "text": [
      "100%|██████████████████████████████████████████| 1/1 [00:00<00:00, 1002.70it/s]\n"
     ]
    },
    {
     "name": "stdout",
     "output_type": "stream",
     "text": [
      "Attribution score for channel f0f3: -4.91\n",
      "\n",
      "Computing phi for channel h1h3...\n"
     ]
    },
    {
     "name": "stderr",
     "output_type": "stream",
     "text": [
      "100%|████████████████████████████████████████████████████| 4/4 [00:00<?, ?it/s]\n"
     ]
    },
    {
     "name": "stdout",
     "output_type": "stream",
     "text": [
      "Attribution score for channel h1h3: -35.45\n",
      "\n",
      "Computing phi for channel c9e9...\n"
     ]
    },
    {
     "name": "stderr",
     "output_type": "stream",
     "text": [
      "100%|████████████████████████████████████████████████████| 1/1 [00:00<?, ?it/s]\n"
     ]
    },
    {
     "name": "stdout",
     "output_type": "stream",
     "text": [
      "Attribution score for channel c9e9: -5.79\n",
      "\n",
      "Computing phi for channel b3b4...\n"
     ]
    },
    {
     "name": "stderr",
     "output_type": "stream",
     "text": [
      "100%|████████████████████████████████████████████████████| 7/7 [00:00<?, ?it/s]\n"
     ]
    },
    {
     "name": "stdout",
     "output_type": "stream",
     "text": [
      "Attribution score for channel b3b4: -58.33\n",
      "\n",
      "Computing phi for channel d0e1...\n"
     ]
    },
    {
     "name": "stderr",
     "output_type": "stream",
     "text": [
      "100%|██████████████████████████████████████████████████| 91/91 [00:00<?, ?it/s]\n"
     ]
    },
    {
     "name": "stdout",
     "output_type": "stream",
     "text": [
      "Attribution score for channel d0e1: -600.90\n",
      "\n",
      "Computing phi for channel f1f9...\n"
     ]
    },
    {
     "name": "stderr",
     "output_type": "stream",
     "text": [
      "100%|████████████████████████████████████████████████████| 1/1 [00:00<?, ?it/s]\n"
     ]
    },
    {
     "name": "stdout",
     "output_type": "stream",
     "text": [
      "Attribution score for channel f1f9: -4.91\n",
      "\n",
      "Computing phi for channel e5a5...\n"
     ]
    },
    {
     "name": "stderr",
     "output_type": "stream",
     "text": [
      "100%|██████████████████████████████████████████| 2/2 [00:00<00:00, 2002.53it/s]\n"
     ]
    },
    {
     "name": "stdout",
     "output_type": "stream",
     "text": [
      "Attribution score for channel e5a5: -14.86\n",
      "\n",
      "Computing phi for channel i2i1...\n"
     ]
    },
    {
     "name": "stderr",
     "output_type": "stream",
     "text": [
      "100%|████████████████████████████████████████████████████| 8/8 [00:00<?, ?it/s]\n"
     ]
    },
    {
     "name": "stdout",
     "output_type": "stream",
     "text": [
      "Attribution score for channel i2i1: -54.83\n",
      "\n",
      "Computing phi for channel e1e6...\n"
     ]
    },
    {
     "name": "stderr",
     "output_type": "stream",
     "text": [
      "100%|██████████████████████████████████████████| 1/1 [00:00<00:00, 1003.18it/s]\n"
     ]
    },
    {
     "name": "stdout",
     "output_type": "stream",
     "text": [
      "Attribution score for channel e1e6: -7.53\n",
      "\n",
      "Computing phi for channel e5e6...\n"
     ]
    },
    {
     "name": "stderr",
     "output_type": "stream",
     "text": [
      "100%|████████████████████████████████████████████████████| 2/2 [00:00<?, ?it/s]\n"
     ]
    },
    {
     "name": "stdout",
     "output_type": "stream",
     "text": [
      "Attribution score for channel e5e6: -11.63\n",
      "\n",
      "Computing phi for channel b3b2...\n"
     ]
    },
    {
     "name": "stderr",
     "output_type": "stream",
     "text": [
      "100%|████████████████████████████████████████████████████| 6/6 [00:00<?, ?it/s]\n"
     ]
    },
    {
     "name": "stdout",
     "output_type": "stream",
     "text": [
      "Attribution score for channel b3b2: -46.28\n",
      "\n",
      "Computing phi for channel i4i7...\n"
     ]
    },
    {
     "name": "stderr",
     "output_type": "stream",
     "text": [
      "100%|████████████████████████████████████████████████████| 1/1 [00:00<?, ?it/s]\n"
     ]
    },
    {
     "name": "stdout",
     "output_type": "stream",
     "text": [
      "Attribution score for channel i4i7: -8.29\n",
      "\n",
      "Computing phi for channel i1a1...\n"
     ]
    },
    {
     "name": "stderr",
     "output_type": "stream",
     "text": [
      "100%|████████████████████████████████████████████████████| 1/1 [00:00<?, ?it/s]\n"
     ]
    },
    {
     "name": "stdout",
     "output_type": "stream",
     "text": [
      "Attribution score for channel i1a1: -6.45\n",
      "\n",
      "Computing phi for channel b6c6...\n"
     ]
    },
    {
     "name": "stderr",
     "output_type": "stream",
     "text": [
      "100%|██████████████████████████████████████████| 2/2 [00:00<00:00, 2005.40it/s]\n"
     ]
    },
    {
     "name": "stdout",
     "output_type": "stream",
     "text": [
      "Attribution score for channel b6c6: -12.85\n",
      "\n",
      "Computing phi for channel i2c2...\n"
     ]
    },
    {
     "name": "stderr",
     "output_type": "stream",
     "text": [
      "100%|████████████████████████████████████████████████████| 7/7 [00:00<?, ?it/s]\n"
     ]
    },
    {
     "name": "stdout",
     "output_type": "stream",
     "text": [
      "Attribution score for channel i2c2: -48.35\n",
      "\n",
      "Computing phi for channel b7b0...\n"
     ]
    },
    {
     "name": "stderr",
     "output_type": "stream",
     "text": [
      "100%|██████████████████████████████████████████| 2/2 [00:00<00:00, 2005.40it/s]\n"
     ]
    },
    {
     "name": "stdout",
     "output_type": "stream",
     "text": [
      "Attribution score for channel b7b0: -8.29\n",
      "\n",
      "Computing phi for channel h6h1...\n"
     ]
    },
    {
     "name": "stderr",
     "output_type": "stream",
     "text": [
      "100%|████████████████████████████████████████████████████| 8/8 [00:00<?, ?it/s]\n"
     ]
    },
    {
     "name": "stdout",
     "output_type": "stream",
     "text": [
      "Attribution score for channel h6h1: -63.81\n",
      "\n",
      "Computing phi for channel f3f1...\n"
     ]
    },
    {
     "name": "stderr",
     "output_type": "stream",
     "text": [
      "100%|████████████████████████████████████████████████████| 1/1 [00:00<?, ?it/s]\n"
     ]
    },
    {
     "name": "stdout",
     "output_type": "stream",
     "text": [
      "Attribution score for channel f3f1: -6.42\n",
      "\n",
      "Computing phi for channel h4g4...\n"
     ]
    },
    {
     "name": "stderr",
     "output_type": "stream",
     "text": [
      "100%|████████████████████████████████████████████████████| 4/4 [00:00<?, ?it/s]\n"
     ]
    },
    {
     "name": "stdout",
     "output_type": "stream",
     "text": [
      "Attribution score for channel h4g4: -15.34\n",
      "\n",
      "Computing phi for channel h2h7...\n"
     ]
    },
    {
     "name": "stderr",
     "output_type": "stream",
     "text": [
      "100%|██████████████████████████████████████████████████| 28/28 [00:00<?, ?it/s]\n"
     ]
    },
    {
     "name": "stdout",
     "output_type": "stream",
     "text": [
      "Attribution score for channel h2h7: -226.11\n",
      "\n",
      "Computing phi for channel i3i4...\n"
     ]
    },
    {
     "name": "stderr",
     "output_type": "stream",
     "text": [
      "100%|████████████████████████████████████████████████| 245/245 [00:00<?, ?it/s]\n"
     ]
    },
    {
     "name": "stdout",
     "output_type": "stream",
     "text": [
      "Attribution score for channel i3i4: -1669.55\n",
      "\n",
      "Computing phi for channel b1g1...\n"
     ]
    },
    {
     "name": "stderr",
     "output_type": "stream",
     "text": [
      "100%|██████████████████████████████████████████████████| 11/11 [00:00<?, ?it/s]\n"
     ]
    },
    {
     "name": "stdout",
     "output_type": "stream",
     "text": [
      "Attribution score for channel b1g1: -67.38\n",
      "\n",
      "Computing phi for channel a1c1...\n"
     ]
    },
    {
     "name": "stderr",
     "output_type": "stream",
     "text": [
      "100%|██████████████████████████████████████████████████| 32/32 [00:00<?, ?it/s]\n"
     ]
    },
    {
     "name": "stdout",
     "output_type": "stream",
     "text": [
      "Attribution score for channel a1c1: -183.11\n",
      "\n",
      "Computing phi for channel e1g0...\n"
     ]
    },
    {
     "name": "stderr",
     "output_type": "stream",
     "text": [
      "100%|████████████████████████████████████████████████████| 1/1 [00:00<?, ?it/s]\n"
     ]
    },
    {
     "name": "stdout",
     "output_type": "stream",
     "text": [
      "Attribution score for channel e1g0: -2.66\n",
      "\n",
      "Computing phi for channel e2c0...\n"
     ]
    },
    {
     "name": "stderr",
     "output_type": "stream",
     "text": [
      "100%|██████████████████████████████████████████████████| 30/30 [00:00<?, ?it/s]\n"
     ]
    },
    {
     "name": "stdout",
     "output_type": "stream",
     "text": [
      "Attribution score for channel e2c0: -216.77\n",
      "\n",
      "Computing phi for channel e2c2...\n"
     ]
    },
    {
     "name": "stderr",
     "output_type": "stream",
     "text": [
      "100%|████████████████████████████████████████████████████| 7/7 [00:00<?, ?it/s]\n"
     ]
    },
    {
     "name": "stdout",
     "output_type": "stream",
     "text": [
      "Attribution score for channel e2c2: -49.13\n",
      "\n",
      "Computing phi for channel g0f0...\n"
     ]
    },
    {
     "name": "stderr",
     "output_type": "stream",
     "text": [
      "100%|████████████████████████████████████████████████████| 2/2 [00:00<?, ?it/s]\n"
     ]
    },
    {
     "name": "stdout",
     "output_type": "stream",
     "text": [
      "Attribution score for channel g0f0: -11.62\n",
      "\n",
      "Computing phi for channel a0b0...\n"
     ]
    },
    {
     "name": "stderr",
     "output_type": "stream",
     "text": [
      "100%|██████████████████████████████████████████████████| 49/49 [00:00<?, ?it/s]\n"
     ]
    },
    {
     "name": "stdout",
     "output_type": "stream",
     "text": [
      "Attribution score for channel a0b0: -301.53\n",
      "\n",
      "Computing phi for channel a2b0...\n"
     ]
    },
    {
     "name": "stderr",
     "output_type": "stream",
     "text": [
      "100%|████████████████████████████████████████████████████| 7/7 [00:00<?, ?it/s]\n"
     ]
    },
    {
     "name": "stdout",
     "output_type": "stream",
     "text": [
      "Attribution score for channel a2b0: -40.78\n",
      "\n",
      "Computing phi for channel h7c7...\n"
     ]
    },
    {
     "name": "stderr",
     "output_type": "stream",
     "text": [
      "100%|████████████████████████████████████████████████████| 4/4 [00:00<?, ?it/s]\n"
     ]
    },
    {
     "name": "stdout",
     "output_type": "stream",
     "text": [
      "Attribution score for channel h7c7: -32.28\n",
      "\n",
      "Computing phi for channel b6e6...\n"
     ]
    },
    {
     "name": "stderr",
     "output_type": "stream",
     "text": [
      "100%|██████████████████████████████████████████████████| 10/10 [00:00<?, ?it/s]\n"
     ]
    },
    {
     "name": "stdout",
     "output_type": "stream",
     "text": [
      "Attribution score for channel b6e6: -63.02\n",
      "\n",
      "Computing phi for channel b1b9...\n"
     ]
    },
    {
     "name": "stderr",
     "output_type": "stream",
     "text": [
      "100%|████████████████████████████████████████████████████| 4/4 [00:00<?, ?it/s]\n"
     ]
    },
    {
     "name": "stdout",
     "output_type": "stream",
     "text": [
      "Attribution score for channel b1b9: -26.04\n",
      "\n",
      "Computing phi for channel h6h5...\n"
     ]
    },
    {
     "name": "stderr",
     "output_type": "stream",
     "text": [
      "100%|██████████████████████████████████████████████████| 31/31 [00:00<?, ?it/s]\n"
     ]
    },
    {
     "name": "stdout",
     "output_type": "stream",
     "text": [
      "Attribution score for channel h6h5: -176.79\n",
      "\n",
      "Computing phi for channel d1i1...\n"
     ]
    },
    {
     "name": "stderr",
     "output_type": "stream",
     "text": [
      "100%|████████████████████████████████████████████████████| 2/2 [00:00<?, ?it/s]\n"
     ]
    },
    {
     "name": "stdout",
     "output_type": "stream",
     "text": [
      "Attribution score for channel d1i1: -11.43\n",
      "\n",
      "Computing phi for channel b8e8...\n"
     ]
    },
    {
     "name": "stderr",
     "output_type": "stream",
     "text": [
      "100%|████████████████████████████████████████████████████| 1/1 [00:00<?, ?it/s]\n"
     ]
    },
    {
     "name": "stdout",
     "output_type": "stream",
     "text": [
      "Attribution score for channel b8e8: -8.68\n",
      "\n",
      "Computing phi for channel h0g0...\n"
     ]
    },
    {
     "name": "stderr",
     "output_type": "stream",
     "text": [
      "100%|████████████████████████████████████████████████████| 1/1 [00:00<?, ?it/s]\n"
     ]
    },
    {
     "name": "stdout",
     "output_type": "stream",
     "text": [
      "Attribution score for channel h0g0: -8.12\n",
      "\n",
      "Computing phi for channel h4h6...\n"
     ]
    },
    {
     "name": "stderr",
     "output_type": "stream",
     "text": [
      "100%|████████████████████████████████████████████████████| 2/2 [00:00<?, ?it/s]\n"
     ]
    },
    {
     "name": "stdout",
     "output_type": "stream",
     "text": [
      "Attribution score for channel h4h6: -15.04\n",
      "\n",
      "Computing phi for channel d0e2...\n"
     ]
    },
    {
     "name": "stderr",
     "output_type": "stream",
     "text": [
      "100%|████████████████████████████████████████████████████| 3/3 [00:00<?, ?it/s]\n"
     ]
    },
    {
     "name": "stdout",
     "output_type": "stream",
     "text": [
      "Attribution score for channel d0e2: -21.66\n",
      "\n",
      "Computing phi for channel h1d1...\n"
     ]
    },
    {
     "name": "stderr",
     "output_type": "stream",
     "text": [
      "100%|████████████████████████████████████████████████████| 1/1 [00:00<?, ?it/s]\n"
     ]
    },
    {
     "name": "stdout",
     "output_type": "stream",
     "text": [
      "Attribution score for channel h1d1: -5.78\n",
      "\n",
      "Computing phi for channel b9b8...\n"
     ]
    },
    {
     "name": "stderr",
     "output_type": "stream",
     "text": [
      "100%|████████████████████████████████████████████████████| 3/3 [00:00<?, ?it/s]\n"
     ]
    },
    {
     "name": "stdout",
     "output_type": "stream",
     "text": [
      "Attribution score for channel b9b8: -27.60\n",
      "\n",
      "Computing phi for channel h2d2...\n"
     ]
    },
    {
     "name": "stderr",
     "output_type": "stream",
     "text": [
      "100%|██████████████████████████████████████████████████| 15/15 [00:00<?, ?it/s]\n"
     ]
    },
    {
     "name": "stdout",
     "output_type": "stream",
     "text": [
      "Attribution score for channel h2d2: -100.28\n",
      "\n",
      "Computing phi for channel g8d8...\n"
     ]
    },
    {
     "name": "stderr",
     "output_type": "stream",
     "text": [
      "100%|████████████████████████████████████████████████████| 1/1 [00:00<?, ?it/s]\n"
     ]
    },
    {
     "name": "stdout",
     "output_type": "stream",
     "text": [
      "Attribution score for channel g8d8: -5.82\n",
      "\n",
      "Computing phi for channel g2e1...\n"
     ]
    },
    {
     "name": "stderr",
     "output_type": "stream",
     "text": [
      "100%|████████████████████████████████████████████████████| 4/4 [00:00<?, ?it/s]\n"
     ]
    },
    {
     "name": "stdout",
     "output_type": "stream",
     "text": [
      "Attribution score for channel g2e1: -22.13\n",
      "\n",
      "Computing phi for channel b3a3...\n"
     ]
    },
    {
     "name": "stderr",
     "output_type": "stream",
     "text": [
      "100%|████████████████████████████████████████████████████| 3/3 [00:00<?, ?it/s]\n"
     ]
    },
    {
     "name": "stdout",
     "output_type": "stream",
     "text": [
      "Attribution score for channel b3a3: -17.40\n",
      "\n",
      "Computing phi for channel f6f3...\n"
     ]
    },
    {
     "name": "stderr",
     "output_type": "stream",
     "text": [
      "100%|████████████████████████████████████████████████████| 1/1 [00:00<?, ?it/s]\n"
     ]
    },
    {
     "name": "stdout",
     "output_type": "stream",
     "text": [
      "Attribution score for channel f6f3: -6.42\n",
      "\n",
      "Computing phi for channel b2b0...\n"
     ]
    },
    {
     "name": "stderr",
     "output_type": "stream",
     "text": [
      "100%|██████████████████████████████████████████████████| 14/14 [00:00<?, ?it/s]\n"
     ]
    },
    {
     "name": "stdout",
     "output_type": "stream",
     "text": [
      "Attribution score for channel b2b0: -76.87\n",
      "\n",
      "Computing phi for channel f3b3...\n"
     ]
    },
    {
     "name": "stderr",
     "output_type": "stream",
     "text": [
      "100%|████████████████████████████████████████████████████| 1/1 [00:00<?, ?it/s]\n"
     ]
    },
    {
     "name": "stdout",
     "output_type": "stream",
     "text": [
      "Attribution score for channel f3b3: -6.67\n",
      "\n",
      "Computing phi for channel h3h7...\n"
     ]
    },
    {
     "name": "stderr",
     "output_type": "stream",
     "text": [
      "100%|████████████████████████████████████████████████████| 1/1 [00:00<?, ?it/s]\n"
     ]
    },
    {
     "name": "stdout",
     "output_type": "stream",
     "text": [
      "Attribution score for channel h3h7: -11.18\n",
      "\n",
      "Computing phi for channel e2c4...\n"
     ]
    },
    {
     "name": "stderr",
     "output_type": "stream",
     "text": [
      "100%|██████████████████████████████████████████████████| 33/33 [00:00<?, ?it/s]\n"
     ]
    },
    {
     "name": "stdout",
     "output_type": "stream",
     "text": [
      "Attribution score for channel e2c4: -275.39\n",
      "\n",
      "Computing phi for channel d1a1...\n"
     ]
    },
    {
     "name": "stderr",
     "output_type": "stream",
     "text": [
      "100%|████████████████████████████████████████████████████| 4/4 [00:00<?, ?it/s]\n"
     ]
    },
    {
     "name": "stdout",
     "output_type": "stream",
     "text": [
      "Attribution score for channel d1a1: -29.85\n",
      "\n",
      "Computing phi for channel g1h3...\n"
     ]
    },
    {
     "name": "stderr",
     "output_type": "stream",
     "text": [
      "100%|████████████████████████████████████████████████████| 1/1 [00:00<?, ?it/s]\n"
     ]
    },
    {
     "name": "stdout",
     "output_type": "stream",
     "text": [
      "Attribution score for channel g1h3: -6.05\n",
      "\n",
      "Computing phi for channel d2d1...\n"
     ]
    },
    {
     "name": "stderr",
     "output_type": "stream",
     "text": [
      "100%|██████████████████████████████████████████████████| 14/14 [00:00<?, ?it/s]\n"
     ]
    },
    {
     "name": "stdout",
     "output_type": "stream",
     "text": [
      "Attribution score for channel d2d1: -92.10\n",
      "\n",
      "Computing phi for channel h4g2...\n"
     ]
    },
    {
     "name": "stderr",
     "output_type": "stream",
     "text": [
      "100%|████████████████████████████████████████████████████| 1/1 [00:00<?, ?it/s]\n"
     ]
    },
    {
     "name": "stdout",
     "output_type": "stream",
     "text": [
      "Attribution score for channel h4g2: -6.59\n",
      "\n",
      "Computing phi for channel a1a0...\n"
     ]
    },
    {
     "name": "stderr",
     "output_type": "stream",
     "text": [
      "100%|██████████████████████████████████████████████████| 12/12 [00:00<?, ?it/s]\n"
     ]
    },
    {
     "name": "stdout",
     "output_type": "stream",
     "text": [
      "Attribution score for channel a1a0: -60.58\n",
      "\n",
      "Computing phi for channel i1e1...\n"
     ]
    },
    {
     "name": "stderr",
     "output_type": "stream",
     "text": [
      "100%|████████████████████████████████████████████████████| 5/5 [00:00<?, ?it/s]\n"
     ]
    },
    {
     "name": "stdout",
     "output_type": "stream",
     "text": [
      "Attribution score for channel i1e1: -32.23\n",
      "\n",
      "Computing phi for channel b4b1...\n"
     ]
    },
    {
     "name": "stderr",
     "output_type": "stream",
     "text": [
      "100%|██████████████████████████████████████████████████| 15/15 [00:00<?, ?it/s]\n"
     ]
    },
    {
     "name": "stdout",
     "output_type": "stream",
     "text": [
      "Attribution score for channel b4b1: -90.61\n",
      "\n",
      "Computing phi for channel b6b3...\n"
     ]
    },
    {
     "name": "stderr",
     "output_type": "stream",
     "text": [
      "100%|████████████████████████████████████████████████████| 4/4 [00:00<?, ?it/s]\n"
     ]
    },
    {
     "name": "stdout",
     "output_type": "stream",
     "text": [
      "Attribution score for channel b6b3: -28.31\n",
      "\n",
      "Computing phi for channel h7e7...\n"
     ]
    },
    {
     "name": "stderr",
     "output_type": "stream",
     "text": [
      "100%|████████████████████████████████████████████████████| 2/2 [00:00<?, ?it/s]\n"
     ]
    },
    {
     "name": "stdout",
     "output_type": "stream",
     "text": [
      "Attribution score for channel h7e7: -20.92\n",
      "\n",
      "Computing phi for channel c6c8...\n"
     ]
    },
    {
     "name": "stderr",
     "output_type": "stream",
     "text": [
      "100%|████████████████████████████████████████████████████| 1/1 [00:00<?, ?it/s]\n"
     ]
    },
    {
     "name": "stdout",
     "output_type": "stream",
     "text": [
      "Attribution score for channel c6c8: -6.46\n",
      "\n",
      "Computing phi for channel g1f1...\n"
     ]
    },
    {
     "name": "stderr",
     "output_type": "stream",
     "text": [
      "100%|████████████████████████████████████████████████████| 3/3 [00:00<?, ?it/s]\n"
     ]
    },
    {
     "name": "stdout",
     "output_type": "stream",
     "text": [
      "Attribution score for channel g1f1: -14.66\n",
      "\n",
      "Computing phi for channel i2h2...\n"
     ]
    },
    {
     "name": "stderr",
     "output_type": "stream",
     "text": [
      "100%|████████████████████████████████████████████████████| 7/7 [00:00<?, ?it/s]\n"
     ]
    },
    {
     "name": "stdout",
     "output_type": "stream",
     "text": [
      "Attribution score for channel i2h2: -45.64\n",
      "\n",
      "Computing phi for channel a1a2...\n"
     ]
    },
    {
     "name": "stderr",
     "output_type": "stream",
     "text": [
      "100%|██████████████████████████████████████████████████| 62/62 [00:00<?, ?it/s]\n"
     ]
    },
    {
     "name": "stdout",
     "output_type": "stream",
     "text": [
      "Attribution score for channel a1a2: -353.28\n",
      "\n",
      "Computing phi for channel d2e2...\n"
     ]
    },
    {
     "name": "stderr",
     "output_type": "stream",
     "text": [
      "100%|██████████████████████████████████████████████████| 28/28 [00:00<?, ?it/s]\n"
     ]
    },
    {
     "name": "stdout",
     "output_type": "stream",
     "text": [
      "Attribution score for channel d2e2: -199.84\n",
      "\n",
      "Computing phi for channel h3h0...\n"
     ]
    },
    {
     "name": "stderr",
     "output_type": "stream",
     "text": [
      "100%|████████████████████████████████████████████████████| 3/3 [00:00<?, ?it/s]\n"
     ]
    },
    {
     "name": "stdout",
     "output_type": "stream",
     "text": [
      "Attribution score for channel h3h0: -18.53\n",
      "\n",
      "Computing phi for channel f1g1...\n"
     ]
    },
    {
     "name": "stderr",
     "output_type": "stream",
     "text": [
      "100%|████████████████████████████████████████████████████| 3/3 [00:00<?, ?it/s]\n"
     ]
    },
    {
     "name": "stdout",
     "output_type": "stream",
     "text": [
      "Attribution score for channel f1g1: -15.83\n",
      "\n",
      "Computing phi for channel h0h8...\n"
     ]
    },
    {
     "name": "stderr",
     "output_type": "stream",
     "text": [
      "100%|████████████████████████████████████████████████████| 1/1 [00:00<?, ?it/s]\n"
     ]
    },
    {
     "name": "stdout",
     "output_type": "stream",
     "text": [
      "Attribution score for channel h0h8: -8.00\n",
      "\n",
      "Computing phi for channel g4g5...\n"
     ]
    },
    {
     "name": "stderr",
     "output_type": "stream",
     "text": [
      "100%|██████████████████████████████████████████████████| 19/19 [00:00<?, ?it/s]\n"
     ]
    },
    {
     "name": "stdout",
     "output_type": "stream",
     "text": [
      "Attribution score for channel g4g5: -132.48\n",
      "\n",
      "Computing phi for channel h7h0...\n"
     ]
    },
    {
     "name": "stderr",
     "output_type": "stream",
     "text": [
      "100%|████████████████████████████████████████████████████| 1/1 [00:00<?, ?it/s]\n"
     ]
    },
    {
     "name": "stdout",
     "output_type": "stream",
     "text": [
      "Attribution score for channel h7h0: -6.31\n",
      "\n",
      "Computing phi for channel f0e0...\n"
     ]
    },
    {
     "name": "stderr",
     "output_type": "stream",
     "text": [
      "100%|██████████████████████████████████████████████████| 17/17 [00:00<?, ?it/s]\n"
     ]
    },
    {
     "name": "stdout",
     "output_type": "stream",
     "text": [
      "Attribution score for channel f0e0: -107.45\n",
      "\n",
      "Computing phi for channel e2e4...\n"
     ]
    },
    {
     "name": "stderr",
     "output_type": "stream",
     "text": [
      "100%|██████████████████████████████████████████| 3/3 [00:00<00:00, 3008.83it/s]\n"
     ]
    },
    {
     "name": "stdout",
     "output_type": "stream",
     "text": [
      "Attribution score for channel e2e4: -15.46\n",
      "\n",
      "Computing phi for channel b8g8...\n"
     ]
    },
    {
     "name": "stderr",
     "output_type": "stream",
     "text": [
      "100%|████████████████████████████████████████████████████| 1/1 [00:00<?, ?it/s]\n"
     ]
    },
    {
     "name": "stdout",
     "output_type": "stream",
     "text": [
      "Attribution score for channel b8g8: -7.53\n",
      "\n",
      "Computing phi for channel c0b2...\n"
     ]
    },
    {
     "name": "stderr",
     "output_type": "stream",
     "text": [
      "100%|████████████████████████████████████████████████████| 1/1 [00:00<?, ?it/s]\n"
     ]
    },
    {
     "name": "stdout",
     "output_type": "stream",
     "text": [
      "Attribution score for channel c0b2: -5.25\n",
      "\n",
      "Computing phi for channel e0d0...\n"
     ]
    },
    {
     "name": "stderr",
     "output_type": "stream",
     "text": [
      "100%|██████████████████████████████████████████████████| 26/26 [00:00<?, ?it/s]"
     ]
    },
    {
     "name": "stdout",
     "output_type": "stream",
     "text": [
      "Attribution score for channel e0d0: -162.04\n",
      "\n",
      "Computing phi for channel d1d6...\n"
     ]
    },
    {
     "name": "stderr",
     "output_type": "stream",
     "text": [
      "\n",
      "100%|████████████████████████████████████████████████████| 1/1 [00:00<?, ?it/s]\n"
     ]
    },
    {
     "name": "stdout",
     "output_type": "stream",
     "text": [
      "Attribution score for channel d1d6: -2.19\n",
      "\n",
      "Computing phi for channel g6g5...\n"
     ]
    },
    {
     "name": "stderr",
     "output_type": "stream",
     "text": [
      "100%|████████████████████████████████████████████████████| 3/3 [00:00<?, ?it/s]\n"
     ]
    },
    {
     "name": "stdout",
     "output_type": "stream",
     "text": [
      "Attribution score for channel g6g5: -19.87\n",
      "\n",
      "Computing phi for channel g2a2...\n"
     ]
    },
    {
     "name": "stderr",
     "output_type": "stream",
     "text": [
      "100%|████████████████████████████████████████████████████| 4/4 [00:00<?, ?it/s]\n"
     ]
    },
    {
     "name": "stdout",
     "output_type": "stream",
     "text": [
      "Attribution score for channel g2a2: -25.20\n",
      "\n",
      "Computing phi for channel f4f5...\n"
     ]
    },
    {
     "name": "stderr",
     "output_type": "stream",
     "text": [
      "100%|████████████████████████████████████████████████████| 6/6 [00:00<?, ?it/s]\n"
     ]
    },
    {
     "name": "stdout",
     "output_type": "stream",
     "text": [
      "Attribution score for channel f4f5: -36.28\n",
      "\n",
      "Computing phi for channel b4g4...\n"
     ]
    },
    {
     "name": "stderr",
     "output_type": "stream",
     "text": [
      "100%|██████████████████████████████████████████████████| 13/13 [00:00<?, ?it/s]\n"
     ]
    },
    {
     "name": "stdout",
     "output_type": "stream",
     "text": [
      "Attribution score for channel b4g4: -77.73\n",
      "\n",
      "Computing phi for channel c1e2...\n"
     ]
    },
    {
     "name": "stderr",
     "output_type": "stream",
     "text": [
      "100%|████████████████████████████████████████████████████| 1/1 [00:00<?, ?it/s]\n"
     ]
    },
    {
     "name": "stdout",
     "output_type": "stream",
     "text": [
      "Attribution score for channel c1e2: -1.60\n",
      "\n",
      "Computing phi for channel e0f0...\n"
     ]
    },
    {
     "name": "stderr",
     "output_type": "stream",
     "text": [
      "100%|██████████████████████████████████████████████████| 29/29 [00:00<?, ?it/s]\n"
     ]
    },
    {
     "name": "stdout",
     "output_type": "stream",
     "text": [
      "Attribution score for channel e0f0: -185.52\n",
      "\n",
      "Computing phi for channel h7h8...\n"
     ]
    },
    {
     "name": "stderr",
     "output_type": "stream",
     "text": [
      "100%|████████████████████████████████████████████████████| 1/1 [00:00<?, ?it/s]\n"
     ]
    },
    {
     "name": "stdout",
     "output_type": "stream",
     "text": [
      "Attribution score for channel h7h8: -6.69\n",
      "\n",
      "Computing phi for channel f7f4...\n"
     ]
    },
    {
     "name": "stderr",
     "output_type": "stream",
     "text": [
      "100%|██████████████████████████████████████████| 1/1 [00:00<00:00, 1000.07it/s]\n"
     ]
    },
    {
     "name": "stdout",
     "output_type": "stream",
     "text": [
      "Attribution score for channel f7f4: -7.30\n",
      "\n",
      "Computing phi for channel e3d3...\n"
     ]
    },
    {
     "name": "stderr",
     "output_type": "stream",
     "text": [
      "100%|████████████████████████████████████████████████████| 2/2 [00:00<?, ?it/s]\n"
     ]
    },
    {
     "name": "stdout",
     "output_type": "stream",
     "text": [
      "Attribution score for channel e3d3: -11.32\n",
      "\n",
      "Computing phi for channel c2c5...\n"
     ]
    },
    {
     "name": "stderr",
     "output_type": "stream",
     "text": [
      "100%|████████████████████████████████████████████████████| 1/1 [00:00<?, ?it/s]\n"
     ]
    },
    {
     "name": "stdout",
     "output_type": "stream",
     "text": [
      "Attribution score for channel c2c5: -5.28\n",
      "\n",
      "Computing phi for channel b5g5...\n"
     ]
    },
    {
     "name": "stderr",
     "output_type": "stream",
     "text": [
      "100%|████████████████████████████████████████████████████| 2/2 [00:00<?, ?it/s]\n"
     ]
    },
    {
     "name": "stdout",
     "output_type": "stream",
     "text": [
      "Attribution score for channel b5g5: -14.99\n",
      "\n",
      "Computing phi for channel h1b1...\n"
     ]
    },
    {
     "name": "stderr",
     "output_type": "stream",
     "text": [
      "100%|████████████████████████████████████████████████████| 3/3 [00:00<?, ?it/s]\n"
     ]
    },
    {
     "name": "stdout",
     "output_type": "stream",
     "text": [
      "Attribution score for channel h1b1: -15.34\n",
      "\n",
      "Computing phi for channel i1b1...\n"
     ]
    },
    {
     "name": "stderr",
     "output_type": "stream",
     "text": [
      "100%|████████████████████████████████████████████████████| 2/2 [00:00<?, ?it/s]\n"
     ]
    },
    {
     "name": "stdout",
     "output_type": "stream",
     "text": [
      "Attribution score for channel i1b1: -11.08\n",
      "\n",
      "Computing phi for channel d4d9...\n"
     ]
    },
    {
     "name": "stderr",
     "output_type": "stream",
     "text": [
      "100%|████████████████████████████████████████████████████| 1/1 [00:00<?, ?it/s]\n"
     ]
    },
    {
     "name": "stdout",
     "output_type": "stream",
     "text": [
      "Attribution score for channel d4d9: -7.24\n",
      "\n",
      "Computing phi for channel e1c2...\n"
     ]
    },
    {
     "name": "stderr",
     "output_type": "stream",
     "text": [
      "100%|████████████████████████████████████████████████████| 2/2 [00:00<?, ?it/s]\n"
     ]
    },
    {
     "name": "stdout",
     "output_type": "stream",
     "text": [
      "Attribution score for channel e1c2: -13.62\n",
      "\n",
      "Computing phi for channel b4b8...\n"
     ]
    },
    {
     "name": "stderr",
     "output_type": "stream",
     "text": [
      "100%|████████████████████████████████████████████████████| 5/5 [00:00<?, ?it/s]\n"
     ]
    },
    {
     "name": "stdout",
     "output_type": "stream",
     "text": [
      "Attribution score for channel b4b8: -34.09\n",
      "\n",
      "Computing phi for channel b4h4...\n"
     ]
    },
    {
     "name": "stderr",
     "output_type": "stream",
     "text": [
      "100%|████████████████████████████████████████████████████| 6/6 [00:00<?, ?it/s]\n"
     ]
    },
    {
     "name": "stdout",
     "output_type": "stream",
     "text": [
      "Attribution score for channel b4h4: -54.34\n",
      "\n",
      "Computing phi for channel b4b5...\n"
     ]
    },
    {
     "name": "stderr",
     "output_type": "stream",
     "text": [
      "100%|███████████████████████████████████████| 14/14 [00:00<00:00, 14024.42it/s]\n"
     ]
    },
    {
     "name": "stdout",
     "output_type": "stream",
     "text": [
      "Attribution score for channel b4b5: -101.27\n",
      "\n",
      "Computing phi for channel b6b1...\n"
     ]
    },
    {
     "name": "stderr",
     "output_type": "stream",
     "text": [
      "100%|██████████████████████████████████████████████████| 11/11 [00:00<?, ?it/s]\n"
     ]
    },
    {
     "name": "stdout",
     "output_type": "stream",
     "text": [
      "Attribution score for channel b6b1: -82.20\n",
      "\n",
      "Computing phi for channel e6e4...\n"
     ]
    },
    {
     "name": "stderr",
     "output_type": "stream",
     "text": [
      "100%|████████████████████████████████████████████████████| 3/3 [00:00<?, ?it/s]\n"
     ]
    },
    {
     "name": "stdout",
     "output_type": "stream",
     "text": [
      "Attribution score for channel e6e4: -22.77\n",
      "\n",
      "Computing phi for channel h4d4...\n"
     ]
    },
    {
     "name": "stderr",
     "output_type": "stream",
     "text": [
      "100%|████████████████████████████████████████████████████| 1/1 [00:00<?, ?it/s]\n"
     ]
    },
    {
     "name": "stdout",
     "output_type": "stream",
     "text": [
      "Attribution score for channel h4d4: -8.24\n",
      "\n",
      "Computing phi for channel f1f0...\n"
     ]
    },
    {
     "name": "stderr",
     "output_type": "stream",
     "text": [
      "100%|██████████████████████████████████████████████████| 56/56 [00:00<?, ?it/s]\n"
     ]
    },
    {
     "name": "stdout",
     "output_type": "stream",
     "text": [
      "Attribution score for channel f1f0: -449.47\n",
      "\n",
      "Computing phi for channel h2h5...\n"
     ]
    },
    {
     "name": "stderr",
     "output_type": "stream",
     "text": [
      "100%|███████████████████████████████████████| 38/38 [00:00<00:00, 38111.80it/s]\n"
     ]
    },
    {
     "name": "stdout",
     "output_type": "stream",
     "text": [
      "Attribution score for channel h2h5: -291.17\n",
      "\n",
      "Computing phi for channel c1h1...\n"
     ]
    },
    {
     "name": "stderr",
     "output_type": "stream",
     "text": [
      "100%|████████████████████████████████████████████████████| 1/1 [00:00<?, ?it/s]\n"
     ]
    },
    {
     "name": "stdout",
     "output_type": "stream",
     "text": [
      "Attribution score for channel c1h1: -6.18\n",
      "\n",
      "Computing phi for channel e2e1...\n"
     ]
    },
    {
     "name": "stderr",
     "output_type": "stream",
     "text": [
      "100%|███████████████████████████████████████| 17/17 [00:00<00:00, 17025.59it/s]\n"
     ]
    },
    {
     "name": "stdout",
     "output_type": "stream",
     "text": [
      "Attribution score for channel e2e1: -121.29\n",
      "\n",
      "Computing phi for channel b0b7...\n"
     ]
    },
    {
     "name": "stderr",
     "output_type": "stream",
     "text": [
      "100%|████████████████████████████████████████████████████| 1/1 [00:00<?, ?it/s]\n"
     ]
    },
    {
     "name": "stdout",
     "output_type": "stream",
     "text": [
      "Attribution score for channel b0b7: -0.78\n",
      "\n",
      "Computing phi for channel e1d1...\n"
     ]
    },
    {
     "name": "stderr",
     "output_type": "stream",
     "text": [
      "100%|██████████████████████████████████████████████████| 75/75 [00:00<?, ?it/s]\n"
     ]
    },
    {
     "name": "stdout",
     "output_type": "stream",
     "text": [
      "Attribution score for channel e1d1: -571.22\n",
      "\n",
      "Computing phi for channel h0h7...\n"
     ]
    },
    {
     "name": "stderr",
     "output_type": "stream",
     "text": [
      "100%|████████████████████████████████████████████████████| 1/1 [00:00<?, ?it/s]\n"
     ]
    },
    {
     "name": "stdout",
     "output_type": "stream",
     "text": [
      "Attribution score for channel h0h7: -8.73\n",
      "\n",
      "Computing phi for channel g2f4...\n"
     ]
    },
    {
     "name": "stderr",
     "output_type": "stream",
     "text": [
      "100%|████████████████████████████████████████████████████| 2/2 [00:00<?, ?it/s]\n"
     ]
    },
    {
     "name": "stdout",
     "output_type": "stream",
     "text": [
      "Attribution score for channel g2f4: -10.73\n",
      "\n",
      "Computing phi for channel a0a2...\n"
     ]
    },
    {
     "name": "stderr",
     "output_type": "stream",
     "text": [
      "100%|████████████████████████████████████████████████| 164/164 [00:00<?, ?it/s]\n"
     ]
    },
    {
     "name": "stdout",
     "output_type": "stream",
     "text": [
      "Attribution score for channel a0a2: -1033.45\n",
      "\n",
      "Computing phi for channel g2g9...\n"
     ]
    },
    {
     "name": "stderr",
     "output_type": "stream",
     "text": [
      "100%|██████████████████████████████████████████| 1/1 [00:00<00:00, 1002.46it/s]\n"
     ]
    },
    {
     "name": "stdout",
     "output_type": "stream",
     "text": [
      "Attribution score for channel g2g9: -6.44\n",
      "\n",
      "Computing phi for channel c0b0...\n"
     ]
    },
    {
     "name": "stderr",
     "output_type": "stream",
     "text": [
      "100%|████████████████████████████████████████████████████| 1/1 [00:00<?, ?it/s]\n"
     ]
    },
    {
     "name": "stdout",
     "output_type": "stream",
     "text": [
      "Attribution score for channel c0b0: -5.40\n",
      "\n",
      "Computing phi for channel g1g0...\n"
     ]
    },
    {
     "name": "stderr",
     "output_type": "stream",
     "text": [
      "100%|████████████████████████████████████████████████████| 1/1 [00:00<?, ?it/s]\n"
     ]
    },
    {
     "name": "stdout",
     "output_type": "stream",
     "text": [
      "Attribution score for channel g1g0: -4.93\n",
      "\n",
      "Computing phi for channel c5c6...\n"
     ]
    },
    {
     "name": "stderr",
     "output_type": "stream",
     "text": [
      "100%|████████████████████████████████████████████████████| 2/2 [00:00<?, ?it/s]\n"
     ]
    },
    {
     "name": "stdout",
     "output_type": "stream",
     "text": [
      "Attribution score for channel c5c6: -15.58\n",
      "\n",
      "Computing phi for channel b1d1...\n"
     ]
    },
    {
     "name": "stderr",
     "output_type": "stream",
     "text": [
      "100%|████████████████████████████████████████████████████| 3/3 [00:00<?, ?it/s]\n"
     ]
    },
    {
     "name": "stdout",
     "output_type": "stream",
     "text": [
      "Attribution score for channel b1d1: -19.84\n",
      "\n",
      "Computing phi for channel i1h3...\n"
     ]
    },
    {
     "name": "stderr",
     "output_type": "stream",
     "text": [
      "100%|████████████████████████████████████████████████████| 1/1 [00:00<?, ?it/s]\n"
     ]
    },
    {
     "name": "stdout",
     "output_type": "stream",
     "text": [
      "Attribution score for channel i1h3: -7.90\n",
      "\n",
      "Computing phi for channel d3d6...\n"
     ]
    },
    {
     "name": "stderr",
     "output_type": "stream",
     "text": [
      "100%|████████████████████████████████████████████████████| 1/1 [00:00<?, ?it/s]\n"
     ]
    },
    {
     "name": "stdout",
     "output_type": "stream",
     "text": [
      "Attribution score for channel d3d6: -5.73\n",
      "\n",
      "Computing phi for channel e2g2...\n"
     ]
    },
    {
     "name": "stderr",
     "output_type": "stream",
     "text": [
      "100%|██████████████████████████████████████████████████| 76/76 [00:00<?, ?it/s]\n"
     ]
    },
    {
     "name": "stdout",
     "output_type": "stream",
     "text": [
      "Attribution score for channel e2g2: -575.48\n",
      "\n",
      "Computing phi for channel d4b4...\n"
     ]
    },
    {
     "name": "stderr",
     "output_type": "stream",
     "text": [
      "100%|████████████████████████████████████████████████████| 5/5 [00:00<?, ?it/s]\n"
     ]
    },
    {
     "name": "stdout",
     "output_type": "stream",
     "text": [
      "Attribution score for channel d4b4: -35.39\n",
      "\n",
      "Computing phi for channel h5g5...\n"
     ]
    },
    {
     "name": "stderr",
     "output_type": "stream",
     "text": [
      "100%|████████████████████████████████████████████████████| 1/1 [00:00<?, ?it/s]\n"
     ]
    },
    {
     "name": "stdout",
     "output_type": "stream",
     "text": [
      "Attribution score for channel h5g5: -7.58\n",
      "\n",
      "Computing phi for channel b2d2...\n"
     ]
    },
    {
     "name": "stderr",
     "output_type": "stream",
     "text": [
      "100%|██████████████████████████████████████████████████| 27/27 [00:00<?, ?it/s]\n"
     ]
    },
    {
     "name": "stdout",
     "output_type": "stream",
     "text": [
      "Attribution score for channel b2d2: -174.11\n",
      "\n",
      "Computing phi for channel f5e5...\n"
     ]
    },
    {
     "name": "stderr",
     "output_type": "stream",
     "text": [
      "100%|████████████████████████████████████████████████████| 3/3 [00:00<?, ?it/s]\n"
     ]
    },
    {
     "name": "stdout",
     "output_type": "stream",
     "text": [
      "Attribution score for channel f5e5: -18.14\n",
      "\n",
      "Computing phi for channel i0f0...\n"
     ]
    },
    {
     "name": "stderr",
     "output_type": "stream",
     "text": [
      "100%|████████████████████████████████████████████████████| 4/4 [00:00<?, ?it/s]\n"
     ]
    },
    {
     "name": "stdout",
     "output_type": "stream",
     "text": [
      "Attribution score for channel i0f0: -24.28\n",
      "\n",
      "Computing phi for channel d4c4...\n"
     ]
    },
    {
     "name": "stderr",
     "output_type": "stream",
     "text": [
      "100%|████████████████████████████████████████████████████| 1/1 [00:00<?, ?it/s]\n"
     ]
    },
    {
     "name": "stdout",
     "output_type": "stream",
     "text": [
      "Attribution score for channel d4c4: -6.95\n",
      "\n",
      "Computing phi for channel c2i2...\n"
     ]
    },
    {
     "name": "stderr",
     "output_type": "stream",
     "text": [
      "100%|████████████████████████████████████████████████████| 8/8 [00:00<?, ?it/s]"
     ]
    },
    {
     "name": "stdout",
     "output_type": "stream",
     "text": [
      "Attribution score for channel c2i2: -47.10\n",
      "\n",
      "Computing phi for channel b1f1...\n"
     ]
    },
    {
     "name": "stderr",
     "output_type": "stream",
     "text": [
      "\n",
      "100%|████████████████████████████████████████████████████| 9/9 [00:00<?, ?it/s]\n"
     ]
    },
    {
     "name": "stdout",
     "output_type": "stream",
     "text": [
      "Attribution score for channel b1f1: -54.55\n",
      "\n",
      "Computing phi for channel h6h0...\n"
     ]
    },
    {
     "name": "stderr",
     "output_type": "stream",
     "text": [
      "100%|████████████████████████████████████████████████████| 4/4 [00:00<?, ?it/s]\n"
     ]
    },
    {
     "name": "stdout",
     "output_type": "stream",
     "text": [
      "Attribution score for channel h6h0: -28.57\n",
      "\n",
      "Computing phi for channel b7b9...\n"
     ]
    },
    {
     "name": "stderr",
     "output_type": "stream",
     "text": [
      "100%|████████████████████████████████████████████████████| 1/1 [00:00<?, ?it/s]\n"
     ]
    },
    {
     "name": "stdout",
     "output_type": "stream",
     "text": [
      "Attribution score for channel b7b9: -7.64\n",
      "\n",
      "Computing phi for channel b0a0...\n"
     ]
    },
    {
     "name": "stderr",
     "output_type": "stream",
     "text": [
      "100%|████████████████████████████████████████████████████| 8/8 [00:00<?, ?it/s]\n"
     ]
    },
    {
     "name": "stdout",
     "output_type": "stream",
     "text": [
      "Attribution score for channel b0a0: -40.63\n",
      "\n",
      "Computing phi for channel c2b2...\n"
     ]
    },
    {
     "name": "stderr",
     "output_type": "stream",
     "text": [
      "100%|██████████████████████████████████████████████████| 36/36 [00:00<?, ?it/s]\n"
     ]
    },
    {
     "name": "stdout",
     "output_type": "stream",
     "text": [
      "Attribution score for channel c2b2: -282.67\n",
      "\n",
      "Computing phi for channel c0e2...\n"
     ]
    },
    {
     "name": "stderr",
     "output_type": "stream",
     "text": [
      "100%|████████████████████████████████████████████████| 131/131 [00:00<?, ?it/s]\n"
     ]
    },
    {
     "name": "stdout",
     "output_type": "stream",
     "text": [
      "Attribution score for channel c0e2: -996.26\n",
      "\n",
      "Computing phi for channel b4b9...\n"
     ]
    },
    {
     "name": "stderr",
     "output_type": "stream",
     "text": [
      "100%|██████████████████████████████████████████████████| 11/11 [00:00<?, ?it/s]\n"
     ]
    },
    {
     "name": "stdout",
     "output_type": "stream",
     "text": [
      "Attribution score for channel b4b9: -98.55\n",
      "\n",
      "Computing phi for channel h0g2...\n"
     ]
    },
    {
     "name": "stderr",
     "output_type": "stream",
     "text": [
      "100%|██████████████████████████████████████████████████| 81/81 [00:00<?, ?it/s]\n"
     ]
    },
    {
     "name": "stdout",
     "output_type": "stream",
     "text": [
      "Attribution score for channel h0g2: -441.26\n",
      "\n",
      "Computing phi for channel h1h7...\n"
     ]
    },
    {
     "name": "stderr",
     "output_type": "stream",
     "text": [
      "100%|████████████████████████████████████████████████████| 8/8 [00:00<?, ?it/s]\n"
     ]
    },
    {
     "name": "stdout",
     "output_type": "stream",
     "text": [
      "Attribution score for channel h1h7: -53.23\n",
      "\n",
      "Computing phi for channel f2f4...\n"
     ]
    },
    {
     "name": "stderr",
     "output_type": "stream",
     "text": [
      "100%|████████████████████████████████████████████████████| 6/6 [00:00<?, ?it/s]\n"
     ]
    },
    {
     "name": "stdout",
     "output_type": "stream",
     "text": [
      "Attribution score for channel f2f4: -38.87\n",
      "\n",
      "Computing phi for channel d1f0...\n"
     ]
    },
    {
     "name": "stderr",
     "output_type": "stream",
     "text": [
      "100%|████████████████████████████████████████████████████| 3/3 [00:00<?, ?it/s]\n"
     ]
    },
    {
     "name": "stdout",
     "output_type": "stream",
     "text": [
      "Attribution score for channel d1f0: -27.15\n",
      "\n",
      "Computing phi for channel b7e7...\n"
     ]
    },
    {
     "name": "stderr",
     "output_type": "stream",
     "text": [
      "100%|████████████████████████████████████████████████████| 1/1 [00:00<?, ?it/s]\n"
     ]
    },
    {
     "name": "stdout",
     "output_type": "stream",
     "text": [
      "Attribution score for channel b7e7: -6.89\n",
      "\n",
      "Computing phi for channel f1f3...\n"
     ]
    },
    {
     "name": "stderr",
     "output_type": "stream",
     "text": [
      "100%|████████████████████████████████████████████████████| 2/2 [00:00<?, ?it/s]\n"
     ]
    },
    {
     "name": "stdout",
     "output_type": "stream",
     "text": [
      "Attribution score for channel f1f3: -13.54\n",
      "\n",
      "Computing phi for channel f2f0...\n"
     ]
    },
    {
     "name": "stderr",
     "output_type": "stream",
     "text": [
      "100%|████████████████████████████████████████████████████| 1/1 [00:00<?, ?it/s]\n"
     ]
    },
    {
     "name": "stdout",
     "output_type": "stream",
     "text": [
      "Attribution score for channel f2f0: -11.35\n",
      "\n",
      "Computing phi for channel e6e5...\n"
     ]
    },
    {
     "name": "stderr",
     "output_type": "stream",
     "text": [
      "100%|████████████████████████████████████████████████████| 2/2 [00:00<?, ?it/s]\n"
     ]
    },
    {
     "name": "stdout",
     "output_type": "stream",
     "text": [
      "Attribution score for channel e6e5: -14.86\n",
      "\n",
      "Computing phi for channel a1c2...\n"
     ]
    },
    {
     "name": "stderr",
     "output_type": "stream",
     "text": [
      "100%|████████████████████████████████████████████████████| 3/3 [00:00<?, ?it/s]\n"
     ]
    },
    {
     "name": "stdout",
     "output_type": "stream",
     "text": [
      "Attribution score for channel a1c2: -19.45\n",
      "\n",
      "Computing phi for channel d4c6...\n"
     ]
    },
    {
     "name": "stderr",
     "output_type": "stream",
     "text": [
      "100%|████████████████████████████████████████████████████| 1/1 [00:00<?, ?it/s]\n"
     ]
    },
    {
     "name": "stdout",
     "output_type": "stream",
     "text": [
      "Attribution score for channel d4c6: -6.39\n",
      "\n",
      "Computing phi for channel d1d3...\n"
     ]
    },
    {
     "name": "stderr",
     "output_type": "stream",
     "text": [
      "100%|██████████████████████████████████████████| 2/2 [00:00<00:00, 1999.67it/s]\n"
     ]
    },
    {
     "name": "stdout",
     "output_type": "stream",
     "text": [
      "Attribution score for channel d1d3: -12.81\n",
      "\n",
      "Computing phi for channel i4f4...\n"
     ]
    },
    {
     "name": "stderr",
     "output_type": "stream",
     "text": [
      "100%|████████████████████████████████████████████████████| 1/1 [00:00<?, ?it/s]\n"
     ]
    },
    {
     "name": "stdout",
     "output_type": "stream",
     "text": [
      "Attribution score for channel i4f4: -6.02\n",
      "\n",
      "Computing phi for channel e0e8...\n"
     ]
    },
    {
     "name": "stderr",
     "output_type": "stream",
     "text": [
      "100%|████████████████████████████████████████████████████| 1/1 [00:00<?, ?it/s]\n"
     ]
    },
    {
     "name": "stdout",
     "output_type": "stream",
     "text": [
      "Attribution score for channel e0e8: -4.93\n",
      "\n",
      "Computing phi for channel b3b9...\n"
     ]
    },
    {
     "name": "stderr",
     "output_type": "stream",
     "text": [
      "100%|████████████████████████████████████████████████████| 2/2 [00:00<?, ?it/s]\n"
     ]
    },
    {
     "name": "stdout",
     "output_type": "stream",
     "text": [
      "Attribution score for channel b3b9: -16.42\n",
      "\n",
      "Computing phi for channel c6g6...\n"
     ]
    },
    {
     "name": "stderr",
     "output_type": "stream",
     "text": [
      "100%|████████████████████████████████████████████████████| 1/1 [00:00<?, ?it/s]\n"
     ]
    },
    {
     "name": "stdout",
     "output_type": "stream",
     "text": [
      "Attribution score for channel c6g6: -7.01\n",
      "\n",
      "Computing phi for channel a2c0...\n"
     ]
    },
    {
     "name": "stderr",
     "output_type": "stream",
     "text": [
      "100%|██████████████████████████████████████████████████| 30/30 [00:00<?, ?it/s]\n"
     ]
    },
    {
     "name": "stdout",
     "output_type": "stream",
     "text": [
      "Attribution score for channel a2c0: -227.20\n",
      "\n",
      "Computing phi for channel g2b2...\n"
     ]
    },
    {
     "name": "stderr",
     "output_type": "stream",
     "text": [
      "100%|████████████████████████████████████████████████████| 5/5 [00:00<?, ?it/s]\n"
     ]
    },
    {
     "name": "stdout",
     "output_type": "stream",
     "text": [
      "Attribution score for channel g2b2: -35.15\n",
      "\n",
      "Computing phi for channel a3a4...\n"
     ]
    },
    {
     "name": "stderr",
     "output_type": "stream",
     "text": [
      "100%|████████████████████████████████████| 169/169 [00:00<00:00, 169456.70it/s]\n"
     ]
    },
    {
     "name": "stdout",
     "output_type": "stream",
     "text": [
      "Attribution score for channel a3a4: -1254.89\n",
      "\n",
      "Computing phi for channel i1i2...\n"
     ]
    },
    {
     "name": "stderr",
     "output_type": "stream",
     "text": [
      "100%|████████████████████████████████████████████████████| 2/2 [00:00<?, ?it/s]\n"
     ]
    },
    {
     "name": "stdout",
     "output_type": "stream",
     "text": [
      "Attribution score for channel i1i2: -11.02\n",
      "\n",
      "Computing phi for channel d2d7...\n"
     ]
    },
    {
     "name": "stderr",
     "output_type": "stream",
     "text": [
      "100%|████████████████████████████████████████████████████| 1/1 [00:00<?, ?it/s]\n"
     ]
    },
    {
     "name": "stdout",
     "output_type": "stream",
     "text": [
      "Attribution score for channel d2d7: -7.20\n",
      "\n",
      "Computing phi for channel b4d5...\n"
     ]
    },
    {
     "name": "stderr",
     "output_type": "stream",
     "text": [
      "100%|████████████████████████████████████████████████████| 2/2 [00:00<?, ?it/s]\n"
     ]
    },
    {
     "name": "stdout",
     "output_type": "stream",
     "text": [
      "Attribution score for channel b4d5: -14.81\n",
      "\n",
      "Computing phi for channel f3e3...\n"
     ]
    },
    {
     "name": "stderr",
     "output_type": "stream",
     "text": [
      "100%|████████████████████████████████████████████████████| 2/2 [00:00<?, ?it/s]\n"
     ]
    },
    {
     "name": "stdout",
     "output_type": "stream",
     "text": [
      "Attribution score for channel f3e3: -10.28\n",
      "\n",
      "Computing phi for channel g5f5...\n"
     ]
    },
    {
     "name": "stderr",
     "output_type": "stream",
     "text": [
      "100%|████████████████████████████████████████████████████| 2/2 [00:00<?, ?it/s]\n"
     ]
    },
    {
     "name": "stdout",
     "output_type": "stream",
     "text": [
      "Attribution score for channel g5f5: -19.09\n",
      "\n",
      "Computing phi for channel i5i6...\n"
     ]
    },
    {
     "name": "stderr",
     "output_type": "stream",
     "text": [
      "100%|████████████████████████████████████████████████████| 4/4 [00:00<?, ?it/s]\n"
     ]
    },
    {
     "name": "stdout",
     "output_type": "stream",
     "text": [
      "Attribution score for channel i5i6: -18.91\n",
      "\n",
      "Computing phi for channel f5f3...\n"
     ]
    },
    {
     "name": "stderr",
     "output_type": "stream",
     "text": [
      "100%|████████████████████████████████████████████████████| 1/1 [00:00<?, ?it/s]\n"
     ]
    },
    {
     "name": "stdout",
     "output_type": "stream",
     "text": [
      "Attribution score for channel f5f3: -9.21\n",
      "\n",
      "Computing phi for channel c4a2...\n"
     ]
    },
    {
     "name": "stderr",
     "output_type": "stream",
     "text": [
      "100%|██████████████████████████████████████████████████| 12/12 [00:00<?, ?it/s]\n"
     ]
    },
    {
     "name": "stdout",
     "output_type": "stream",
     "text": [
      "Attribution score for channel c4a2: -88.33\n",
      "\n",
      "Computing phi for channel b3b1...\n"
     ]
    },
    {
     "name": "stderr",
     "output_type": "stream",
     "text": [
      "100%|████████████████████████████████████████████████████| 2/2 [00:00<?, ?it/s]\n"
     ]
    },
    {
     "name": "stdout",
     "output_type": "stream",
     "text": [
      "Attribution score for channel b3b1: -12.99\n",
      "\n",
      "Computing phi for channel d4c2...\n"
     ]
    },
    {
     "name": "stderr",
     "output_type": "stream",
     "text": [
      "100%|████████████████████████████████████████████████████| 1/1 [00:00<?, ?it/s]\n"
     ]
    },
    {
     "name": "stdout",
     "output_type": "stream",
     "text": [
      "Attribution score for channel d4c2: -8.24\n",
      "\n",
      "Computing phi for channel c2c6...\n"
     ]
    },
    {
     "name": "stderr",
     "output_type": "stream",
     "text": [
      "100%|███████████████████████████████████████| 12/12 [00:00<00:00, 12026.68it/s]\n"
     ]
    },
    {
     "name": "stdout",
     "output_type": "stream",
     "text": [
      "Attribution score for channel c2c6: -98.21\n",
      "\n",
      "Computing phi for channel b2c2...\n"
     ]
    },
    {
     "name": "stderr",
     "output_type": "stream",
     "text": [
      "100%|██████████████████████████████████████████████████| 87/87 [00:00<?, ?it/s]\n"
     ]
    },
    {
     "name": "stdout",
     "output_type": "stream",
     "text": [
      "Attribution score for channel b2c2: -559.72\n",
      "\n",
      "Computing phi for channel i2a2...\n"
     ]
    },
    {
     "name": "stderr",
     "output_type": "stream",
     "text": [
      "100%|████████████████████████████████████████████████████| 6/6 [00:00<?, ?it/s]\n"
     ]
    },
    {
     "name": "stdout",
     "output_type": "stream",
     "text": [
      "Attribution score for channel i2a2: -35.72\n",
      "\n",
      "Computing phi for channel e5d5...\n"
     ]
    },
    {
     "name": "stderr",
     "output_type": "stream",
     "text": [
      "100%|████████████████████████████████████████████████████| 4/4 [00:00<?, ?it/s]"
     ]
    },
    {
     "name": "stdout",
     "output_type": "stream",
     "text": [
      "Attribution score for channel e5d5: -24.91\n",
      "\n",
      "Computing phi for channel b0b3...\n"
     ]
    },
    {
     "name": "stderr",
     "output_type": "stream",
     "text": [
      "\n",
      "100%|████████████████████████████████████████████████████| 5/5 [00:00<?, ?it/s]\n"
     ]
    },
    {
     "name": "stdout",
     "output_type": "stream",
     "text": [
      "Attribution score for channel b0b3: -34.29\n",
      "\n",
      "Computing phi for channel b2a2...\n"
     ]
    },
    {
     "name": "stderr",
     "output_type": "stream",
     "text": [
      "100%|██████████████████████████████████████████████████| 19/19 [00:00<?, ?it/s]\n"
     ]
    },
    {
     "name": "stdout",
     "output_type": "stream",
     "text": [
      "Attribution score for channel b2a2: -149.06\n",
      "\n",
      "Computing phi for channel b0d1...\n"
     ]
    },
    {
     "name": "stderr",
     "output_type": "stream",
     "text": [
      "100%|██████████████████████████████████████████████████| 30/30 [00:00<?, ?it/s]\n"
     ]
    },
    {
     "name": "stdout",
     "output_type": "stream",
     "text": [
      "Attribution score for channel b0d1: -232.59\n",
      "\n",
      "Computing phi for channel h6h4...\n"
     ]
    },
    {
     "name": "stderr",
     "output_type": "stream",
     "text": [
      "100%|████████████████████████████████████████████████████| 2/2 [00:00<?, ?it/s]\n"
     ]
    },
    {
     "name": "stdout",
     "output_type": "stream",
     "text": [
      "Attribution score for channel h6h4: -17.50\n",
      "\n",
      "Computing phi for channel c1d3...\n"
     ]
    },
    {
     "name": "stderr",
     "output_type": "stream",
     "text": [
      "100%|████████████████████████████████████████████████████| 2/2 [00:00<?, ?it/s]\n"
     ]
    },
    {
     "name": "stdout",
     "output_type": "stream",
     "text": [
      "Attribution score for channel c1d3: -9.21\n",
      "\n",
      "Computing phi for channel a2c4...\n"
     ]
    },
    {
     "name": "stderr",
     "output_type": "stream",
     "text": [
      "100%|██████████████████████████████████████████████████| 56/56 [00:00<?, ?it/s]\n"
     ]
    },
    {
     "name": "stdout",
     "output_type": "stream",
     "text": [
      "Attribution score for channel a2c4: -440.59\n",
      "\n",
      "Computing phi for channel b5f5...\n"
     ]
    },
    {
     "name": "stderr",
     "output_type": "stream",
     "text": [
      "100%|████████████████████████████████████████████████████| 1/1 [00:00<?, ?it/s]\n"
     ]
    },
    {
     "name": "stdout",
     "output_type": "stream",
     "text": [
      "Attribution score for channel b5f5: -10.79\n",
      "\n",
      "Computing phi for channel g2f2...\n"
     ]
    },
    {
     "name": "stderr",
     "output_type": "stream",
     "text": [
      "100%|██████████████████████████████████████████████████| 13/13 [00:00<?, ?it/s]\n"
     ]
    },
    {
     "name": "stdout",
     "output_type": "stream",
     "text": [
      "Attribution score for channel g2f2: -92.67\n",
      "\n",
      "Computing phi for channel h4a4...\n"
     ]
    },
    {
     "name": "stderr",
     "output_type": "stream",
     "text": [
      "100%|████████████████████████████████████████████████████| 3/3 [00:00<?, ?it/s]\n"
     ]
    },
    {
     "name": "stdout",
     "output_type": "stream",
     "text": [
      "Attribution score for channel h4a4: -29.47\n",
      "\n",
      "Computing phi for channel e4c4...\n"
     ]
    },
    {
     "name": "stderr",
     "output_type": "stream",
     "text": [
      "100%|██████████████████████████████████████████████████| 16/16 [00:00<?, ?it/s]\n"
     ]
    },
    {
     "name": "stdout",
     "output_type": "stream",
     "text": [
      "Attribution score for channel e4c4: -94.54\n",
      "\n",
      "Computing phi for channel c0d2...\n"
     ]
    },
    {
     "name": "stderr",
     "output_type": "stream",
     "text": [
      "100%|████████████████████████████████████████████████████| 1/1 [00:00<?, ?it/s]\n"
     ]
    },
    {
     "name": "stdout",
     "output_type": "stream",
     "text": [
      "Attribution score for channel c0d2: -6.38\n",
      "\n",
      "Computing phi for channel c2c9...\n"
     ]
    },
    {
     "name": "stderr",
     "output_type": "stream",
     "text": [
      "100%|████████████████████████████████████████████████████| 3/3 [00:00<?, ?it/s]\n"
     ]
    },
    {
     "name": "stdout",
     "output_type": "stream",
     "text": [
      "Attribution score for channel c2c9: -19.15\n",
      "\n",
      "Computing phi for channel a0c0...\n"
     ]
    },
    {
     "name": "stderr",
     "output_type": "stream",
     "text": [
      "100%|████████████████████████████████████████████████████| 5/5 [00:00<?, ?it/s]\n"
     ]
    },
    {
     "name": "stdout",
     "output_type": "stream",
     "text": [
      "Attribution score for channel a0c0: -34.96\n",
      "\n",
      "Computing phi for channel b0b6...\n"
     ]
    },
    {
     "name": "stderr",
     "output_type": "stream",
     "text": [
      "100%|████████████████████████████████████████████████████| 6/6 [00:00<?, ?it/s]\n"
     ]
    },
    {
     "name": "stdout",
     "output_type": "stream",
     "text": [
      "Attribution score for channel b0b6: -31.32\n",
      "\n",
      "Computing phi for channel b7f7...\n"
     ]
    },
    {
     "name": "stderr",
     "output_type": "stream",
     "text": [
      "100%|████████████████████████████████████████████████████| 3/3 [00:00<?, ?it/s]\n"
     ]
    },
    {
     "name": "stdout",
     "output_type": "stream",
     "text": [
      "Attribution score for channel b7f7: -27.41\n",
      "\n",
      "Computing phi for channel d5d1...\n"
     ]
    },
    {
     "name": "stderr",
     "output_type": "stream",
     "text": [
      "100%|████████████████████████████████████████████████████| 1/1 [00:00<?, ?it/s]\n"
     ]
    },
    {
     "name": "stdout",
     "output_type": "stream",
     "text": [
      "Attribution score for channel d5d1: -11.17\n",
      "\n",
      "Computing phi for channel e1e2...\n"
     ]
    },
    {
     "name": "stderr",
     "output_type": "stream",
     "text": [
      "100%|██████████████████████████████████████████████████| 72/72 [00:00<?, ?it/s]\n"
     ]
    },
    {
     "name": "stdout",
     "output_type": "stream",
     "text": [
      "Attribution score for channel e1e2: -508.94\n",
      "\n",
      "Computing phi for channel h2g2...\n"
     ]
    },
    {
     "name": "stderr",
     "output_type": "stream",
     "text": [
      "100%|██████████████████████████████████████████████████| 80/80 [00:00<?, ?it/s]\n"
     ]
    },
    {
     "name": "stdout",
     "output_type": "stream",
     "text": [
      "Attribution score for channel h2g2: -544.10\n",
      "\n",
      "Computing phi for channel b2b9...\n"
     ]
    },
    {
     "name": "stderr",
     "output_type": "stream",
     "text": [
      "100%|██████████████████████████████████████████████████| 52/52 [00:00<?, ?it/s]\n"
     ]
    },
    {
     "name": "stdout",
     "output_type": "stream",
     "text": [
      "Attribution score for channel b2b9: -453.27\n",
      "\n",
      "Computing phi for channel a4a5...\n"
     ]
    },
    {
     "name": "stderr",
     "output_type": "stream",
     "text": [
      "100%|██████████████████████████████████████████████████| 18/18 [00:00<?, ?it/s]\n"
     ]
    },
    {
     "name": "stdout",
     "output_type": "stream",
     "text": [
      "Attribution score for channel a4a5: -133.10\n",
      "\n",
      "Computing phi for channel d5a5...\n"
     ]
    },
    {
     "name": "stderr",
     "output_type": "stream",
     "text": [
      "100%|██████████████████████████████████████████| 2/2 [00:00<00:00, 2002.53it/s]\n"
     ]
    },
    {
     "name": "stdout",
     "output_type": "stream",
     "text": [
      "Attribution score for channel d5a5: -16.40\n",
      "\n",
      "Computing phi for channel b1b0...\n"
     ]
    },
    {
     "name": "stderr",
     "output_type": "stream",
     "text": [
      "100%|██████████████████████████████████████████████████| 14/14 [00:00<?, ?it/s]\n"
     ]
    },
    {
     "name": "stdout",
     "output_type": "stream",
     "text": [
      "Attribution score for channel b1b0: -84.79\n",
      "\n",
      "Computing phi for channel e3e2...\n"
     ]
    },
    {
     "name": "stderr",
     "output_type": "stream",
     "text": [
      "100%|████████████████████████████████████████████████████| 1/1 [00:00<?, ?it/s]\n"
     ]
    },
    {
     "name": "stdout",
     "output_type": "stream",
     "text": [
      "Attribution score for channel e3e2: -7.94\n",
      "\n",
      "Computing phi for channel c2e1...\n"
     ]
    },
    {
     "name": "stderr",
     "output_type": "stream",
     "text": [
      "100%|████████████████████████████████████████████████████| 5/5 [00:00<?, ?it/s]\n"
     ]
    },
    {
     "name": "stdout",
     "output_type": "stream",
     "text": [
      "Attribution score for channel c2e1: -29.51\n",
      "\n",
      "Computing phi for channel d3e3...\n"
     ]
    },
    {
     "name": "stderr",
     "output_type": "stream",
     "text": [
      "100%|████████████████████████████████████████████████████| 1/1 [00:00<?, ?it/s]\n"
     ]
    },
    {
     "name": "stdout",
     "output_type": "stream",
     "text": [
      "Attribution score for channel d3e3: -6.91\n",
      "\n",
      "Computing phi for channel i1f1...\n"
     ]
    },
    {
     "name": "stderr",
     "output_type": "stream",
     "text": [
      "100%|████████████████████████████████████████████████████| 4/4 [00:00<?, ?it/s]"
     ]
    },
    {
     "name": "stdout",
     "output_type": "stream",
     "text": [
      "Attribution score for channel i1f1: -21.13\n",
      "\n",
      "Computing phi for channel h2h4...\n"
     ]
    },
    {
     "name": "stderr",
     "output_type": "stream",
     "text": [
      "\n",
      "100%|██████████████████████████████████████████████████| 74/74 [00:00<?, ?it/s]\n"
     ]
    },
    {
     "name": "stdout",
     "output_type": "stream",
     "text": [
      "Attribution score for channel h2h4: -422.60\n",
      "\n",
      "Computing phi for channel b1a1...\n"
     ]
    },
    {
     "name": "stderr",
     "output_type": "stream",
     "text": [
      "100%|████████████████████████████████████████████████████| 5/5 [00:00<?, ?it/s]\n"
     ]
    },
    {
     "name": "stdout",
     "output_type": "stream",
     "text": [
      "Attribution score for channel b1a1: -34.38\n",
      "\n",
      "Computing phi for channel c2d2...\n"
     ]
    },
    {
     "name": "stderr",
     "output_type": "stream",
     "text": [
      "100%|██████████████████████████████████████████████████| 24/24 [00:00<?, ?it/s]\n"
     ]
    },
    {
     "name": "stdout",
     "output_type": "stream",
     "text": [
      "Attribution score for channel c2d2: -152.39\n",
      "\n",
      "Computing phi for channel f4h4...\n"
     ]
    },
    {
     "name": "stderr",
     "output_type": "stream",
     "text": [
      "100%|████████████████████████████████████████████████████| 1/1 [00:00<?, ?it/s]\n"
     ]
    },
    {
     "name": "stdout",
     "output_type": "stream",
     "text": [
      "Attribution score for channel f4h4: -5.55\n",
      "\n",
      "Computing phi for channel d4f4...\n"
     ]
    },
    {
     "name": "stderr",
     "output_type": "stream",
     "text": [
      "100%|████████████████████████████████████████████████████| 5/5 [00:00<?, ?it/s]\n"
     ]
    },
    {
     "name": "stdout",
     "output_type": "stream",
     "text": [
      "Attribution score for channel d4f4: -35.13\n",
      "\n",
      "Computing phi for channel c4e4...\n"
     ]
    },
    {
     "name": "stderr",
     "output_type": "stream",
     "text": [
      "100%|████████████████████████████████████████████████████| 1/1 [00:00<?, ?it/s]\n"
     ]
    },
    {
     "name": "stdout",
     "output_type": "stream",
     "text": [
      "Attribution score for channel c4e4: -7.98\n",
      "\n",
      "Computing phi for channel g1g6...\n"
     ]
    },
    {
     "name": "stderr",
     "output_type": "stream",
     "text": [
      "100%|██████████████████████████████████████████| 4/4 [00:00<00:00, 4006.98it/s]\n"
     ]
    },
    {
     "name": "stdout",
     "output_type": "stream",
     "text": [
      "Attribution score for channel g1g6: -24.69\n",
      "\n",
      "Computing phi for channel c4b4...\n"
     ]
    },
    {
     "name": "stderr",
     "output_type": "stream",
     "text": [
      "100%|████████████████████████████████████████████████████| 6/6 [00:00<?, ?it/s]\n"
     ]
    },
    {
     "name": "stdout",
     "output_type": "stream",
     "text": [
      "Attribution score for channel c4b4: -38.68\n",
      "\n",
      "Computing phi for channel b2f2...\n"
     ]
    },
    {
     "name": "stderr",
     "output_type": "stream",
     "text": [
      "100%|██████████████████████████████████████████████████| 26/26 [00:00<?, ?it/s]\n"
     ]
    },
    {
     "name": "stdout",
     "output_type": "stream",
     "text": [
      "Attribution score for channel b2f2: -196.96\n",
      "\n",
      "Computing phi for channel g4e2...\n"
     ]
    },
    {
     "name": "stderr",
     "output_type": "stream",
     "text": [
      "100%|████████████████████████████████████████████████████| 1/1 [00:00<?, ?it/s]\n"
     ]
    },
    {
     "name": "stdout",
     "output_type": "stream",
     "text": [
      "Attribution score for channel g4e2: -7.71\n",
      "\n",
      "Computing phi for channel b8h8...\n"
     ]
    },
    {
     "name": "stderr",
     "output_type": "stream",
     "text": [
      "100%|████████████████████████████████████████████████████| 1/1 [00:00<?, ?it/s]\n"
     ]
    },
    {
     "name": "stdout",
     "output_type": "stream",
     "text": [
      "Attribution score for channel b8h8: -8.12\n",
      "\n",
      "Computing phi for channel e2g0...\n"
     ]
    },
    {
     "name": "stderr",
     "output_type": "stream",
     "text": [
      "100%|██████████████████████████████████████████████████| 17/17 [00:00<?, ?it/s]\n"
     ]
    },
    {
     "name": "stdout",
     "output_type": "stream",
     "text": [
      "Attribution score for channel e2g0: -108.59\n",
      "\n",
      "Computing phi for channel b7b1...\n"
     ]
    },
    {
     "name": "stderr",
     "output_type": "stream",
     "text": [
      "100%|████████████████████████████████████████████████████| 1/1 [00:00<?, ?it/s]\n"
     ]
    },
    {
     "name": "stdout",
     "output_type": "stream",
     "text": [
      "Attribution score for channel b7b1: -5.25\n",
      "\n",
      "Computing phi for channel g6g8...\n"
     ]
    },
    {
     "name": "stderr",
     "output_type": "stream",
     "text": [
      "100%|████████████████████████████████████████████████████| 2/2 [00:00<?, ?it/s]\n"
     ]
    },
    {
     "name": "stdout",
     "output_type": "stream",
     "text": [
      "Attribution score for channel g6g8: -14.58\n",
      "\n",
      "Computing phi for channel e1f2...\n"
     ]
    },
    {
     "name": "stderr",
     "output_type": "stream",
     "text": [
      "100%|███████████████████████████████████████| 33/33 [00:00<00:00, 33097.09it/s]\n"
     ]
    },
    {
     "name": "stdout",
     "output_type": "stream",
     "text": [
      "Attribution score for channel e1f2: -212.85\n",
      "\n",
      "Computing phi for channel b9b3...\n"
     ]
    },
    {
     "name": "stderr",
     "output_type": "stream",
     "text": [
      "100%|████████████████████████████████████████████████████| 2/2 [00:00<?, ?it/s]\n"
     ]
    },
    {
     "name": "stdout",
     "output_type": "stream",
     "text": [
      "Attribution score for channel b9b3: -11.89\n",
      "\n",
      "Computing phi for channel h7d7...\n"
     ]
    },
    {
     "name": "stderr",
     "output_type": "stream",
     "text": [
      "100%|████████████████████████████████████████████████████| 3/3 [00:00<?, ?it/s]\n"
     ]
    },
    {
     "name": "stdout",
     "output_type": "stream",
     "text": [
      "Attribution score for channel h7d7: -23.18\n",
      "\n",
      "Computing phi for channel e3d1...\n"
     ]
    },
    {
     "name": "stderr",
     "output_type": "stream",
     "text": [
      "100%|████████████████████████████████████████████████████| 1/1 [00:00<?, ?it/s]\n"
     ]
    },
    {
     "name": "stdout",
     "output_type": "stream",
     "text": [
      "Attribution score for channel e3d1: -5.65\n",
      "\n",
      "Computing phi for channel e1c1...\n"
     ]
    },
    {
     "name": "stderr",
     "output_type": "stream",
     "text": [
      "100%|████████████████████████████████████████████████████| 1/1 [00:00<?, ?it/s]\n"
     ]
    },
    {
     "name": "stdout",
     "output_type": "stream",
     "text": [
      "Attribution score for channel e1c1: -6.02\n",
      "\n",
      "Computing phi for channel c2h2...\n"
     ]
    },
    {
     "name": "stderr",
     "output_type": "stream",
     "text": [
      "100%|████████████████████████████████████████████████████| 1/1 [00:00<?, ?it/s]\n"
     ]
    },
    {
     "name": "stdout",
     "output_type": "stream",
     "text": [
      "Attribution score for channel c2h2: -7.65\n",
      "\n",
      "Computing phi for channel g2d2...\n"
     ]
    },
    {
     "name": "stderr",
     "output_type": "stream",
     "text": [
      "100%|██████████████████████████████████████████████████| 12/12 [00:00<?, ?it/s]\n"
     ]
    },
    {
     "name": "stdout",
     "output_type": "stream",
     "text": [
      "Attribution score for channel g2d2: -82.45\n",
      "\n",
      "Computing phi for channel f8g8...\n"
     ]
    },
    {
     "name": "stderr",
     "output_type": "stream",
     "text": [
      "100%|████████████████████████████████████████████████████| 2/2 [00:00<?, ?it/s]\n"
     ]
    },
    {
     "name": "stdout",
     "output_type": "stream",
     "text": [
      "Attribution score for channel f8g8: -14.57\n",
      "\n",
      "Computing phi for channel g4i2...\n"
     ]
    },
    {
     "name": "stderr",
     "output_type": "stream",
     "text": [
      "100%|██████████████████████████████████████████| 1/1 [00:00<00:00, 1002.70it/s]\n"
     ]
    },
    {
     "name": "stdout",
     "output_type": "stream",
     "text": [
      "Attribution score for channel g4i2: -5.73\n",
      "\n",
      "Computing phi for channel b8i8...\n"
     ]
    },
    {
     "name": "stderr",
     "output_type": "stream",
     "text": [
      "100%|████████████████████████████████████████████████████| 1/1 [00:00<?, ?it/s]\n"
     ]
    },
    {
     "name": "stdout",
     "output_type": "stream",
     "text": [
      "Attribution score for channel b8i8: -6.26\n",
      "\n",
      "Computing phi for channel f4f8...\n"
     ]
    },
    {
     "name": "stderr",
     "output_type": "stream",
     "text": [
      "100%|████████████████████████████████████████████████████| 2/2 [00:00<?, ?it/s]\n"
     ]
    },
    {
     "name": "stdout",
     "output_type": "stream",
     "text": [
      "Attribution score for channel f4f8: -12.87\n",
      "\n",
      "Computing phi for channel a2g2...\n"
     ]
    },
    {
     "name": "stderr",
     "output_type": "stream",
     "text": [
      "100%|████████████████████████████████████████████████████| 5/5 [00:00<?, ?it/s]\n"
     ]
    },
    {
     "name": "stdout",
     "output_type": "stream",
     "text": [
      "Attribution score for channel a2g2: -31.49\n",
      "\n",
      "Computing phi for channel h5e5...\n"
     ]
    },
    {
     "name": "stderr",
     "output_type": "stream",
     "text": [
      "100%|████████████████████████████████████████████████████| 2/2 [00:00<?, ?it/s]\n"
     ]
    },
    {
     "name": "stdout",
     "output_type": "stream",
     "text": [
      "Attribution score for channel h5e5: -24.53\n",
      "\n",
      "Computing phi for channel h3h8...\n"
     ]
    },
    {
     "name": "stderr",
     "output_type": "stream",
     "text": [
      "100%|████████████████████████████████████████████████████| 2/2 [00:00<?, ?it/s]\n"
     ]
    },
    {
     "name": "stdout",
     "output_type": "stream",
     "text": [
      "Attribution score for channel h3h8: -18.14\n",
      "\n",
      "Computing phi for channel h7f7...\n"
     ]
    },
    {
     "name": "stderr",
     "output_type": "stream",
     "text": [
      "100%|████████████████████████████████████████████████████| 1/1 [00:00<?, ?it/s]\n"
     ]
    },
    {
     "name": "stdout",
     "output_type": "stream",
     "text": [
      "Attribution score for channel h7f7: -10.38\n",
      "\n",
      "Computing phi for channel e1e4...\n"
     ]
    },
    {
     "name": "stderr",
     "output_type": "stream",
     "text": [
      "100%|██████████████████████████████████████████| 1/1 [00:00<00:00, 1002.70it/s]\n"
     ]
    },
    {
     "name": "stdout",
     "output_type": "stream",
     "text": [
      "Attribution score for channel e1e4: -6.03\n",
      "\n",
      "Computing phi for channel i2g2...\n"
     ]
    },
    {
     "name": "stderr",
     "output_type": "stream",
     "text": [
      "100%|███████████████████████████████████████| 16/16 [00:00<00:00, 16073.98it/s]\n"
     ]
    },
    {
     "name": "stdout",
     "output_type": "stream",
     "text": [
      "Attribution score for channel i2g2: -100.85\n",
      "\n",
      "Computing phi for channel c4f4...\n"
     ]
    },
    {
     "name": "stderr",
     "output_type": "stream",
     "text": [
      "100%|████████████████████████████████████████████████████| 1/1 [00:00<?, ?it/s]\n"
     ]
    },
    {
     "name": "stdout",
     "output_type": "stream",
     "text": [
      "Attribution score for channel c4f4: -4.93\n",
      "\n",
      "Computing phi for channel a1c0...\n"
     ]
    },
    {
     "name": "stderr",
     "output_type": "stream",
     "text": [
      "100%|████████████████████████████████████████████████████| 1/1 [00:00<?, ?it/s]\n"
     ]
    },
    {
     "name": "stdout",
     "output_type": "stream",
     "text": [
      "Attribution score for channel a1c0: -6.38\n",
      "\n",
      "Computing phi for channel f0f1...\n"
     ]
    },
    {
     "name": "stderr",
     "output_type": "stream",
     "text": [
      "100%|████████████████████████████████████████████████████| 8/8 [00:00<?, ?it/s]"
     ]
    },
    {
     "name": "stdout",
     "output_type": "stream",
     "text": [
      "Attribution score for channel f0f1: -50.02\n",
      "\n",
      "Computing phi for channel h8h4...\n"
     ]
    },
    {
     "name": "stderr",
     "output_type": "stream",
     "text": [
      "\n",
      "100%|████████████████████████████████████████████████████| 1/1 [00:00<?, ?it/s]\n"
     ]
    },
    {
     "name": "stdout",
     "output_type": "stream",
     "text": [
      "Attribution score for channel h8h4: -9.56\n",
      "\n",
      "Computing phi for channel h2h0...\n"
     ]
    },
    {
     "name": "stderr",
     "output_type": "stream",
     "text": [
      "100%|██████████████████████████████████████████████████| 27/27 [00:00<?, ?it/s]\n"
     ]
    },
    {
     "name": "stdout",
     "output_type": "stream",
     "text": [
      "Attribution score for channel h2h0: -219.03\n",
      "\n",
      "Computing phi for channel b3b6...\n"
     ]
    },
    {
     "name": "stderr",
     "output_type": "stream",
     "text": [
      "100%|████████████████████████████████████████████████████| 9/9 [00:00<?, ?it/s]\n"
     ]
    },
    {
     "name": "stdout",
     "output_type": "stream",
     "text": [
      "Attribution score for channel b3b6: -59.46\n",
      "\n",
      "Computing phi for channel h2f2...\n"
     ]
    },
    {
     "name": "stderr",
     "output_type": "stream",
     "text": [
      "100%|███████████████████████████████████████| 29/29 [00:00<00:00, 29078.37it/s]\n"
     ]
    },
    {
     "name": "stdout",
     "output_type": "stream",
     "text": [
      "Attribution score for channel h2f2: -225.76\n",
      "\n",
      "Computing phi for channel d1d9...\n"
     ]
    },
    {
     "name": "stderr",
     "output_type": "stream",
     "text": [
      "100%|████████████████████████████████████████████████████| 1/1 [00:00<?, ?it/s]\n"
     ]
    },
    {
     "name": "stdout",
     "output_type": "stream",
     "text": [
      "Attribution score for channel d1d9: -4.76\n",
      "\n",
      "Computing phi for channel b5b9...\n"
     ]
    },
    {
     "name": "stderr",
     "output_type": "stream",
     "text": [
      "100%|████████████████████████████████████████████████████| 2/2 [00:00<?, ?it/s]\n"
     ]
    },
    {
     "name": "stdout",
     "output_type": "stream",
     "text": [
      "Attribution score for channel b5b9: -19.80\n",
      "\n",
      "Computing phi for channel h7h1...\n"
     ]
    },
    {
     "name": "stderr",
     "output_type": "stream",
     "text": [
      "100%|████████████████████████████████████████████████████| 7/7 [00:00<?, ?it/s]"
     ]
    },
    {
     "name": "stdout",
     "output_type": "stream",
     "text": [
      "Attribution score for channel h7h1: -59.30\n",
      "\n",
      "Computing phi for channel h1h6...\n"
     ]
    },
    {
     "name": "stderr",
     "output_type": "stream",
     "text": [
      "\n",
      "100%|████████████████████████████████████████████████████| 2/2 [00:00<?, ?it/s]\n"
     ]
    },
    {
     "name": "stdout",
     "output_type": "stream",
     "text": [
      "Attribution score for channel h1h6: -15.60\n",
      "\n",
      "Computing phi for channel d5e5...\n"
     ]
    },
    {
     "name": "stderr",
     "output_type": "stream",
     "text": [
      "100%|████████████████████████████████████████████████████| 5/5 [00:00<?, ?it/s]\n"
     ]
    },
    {
     "name": "stdout",
     "output_type": "stream",
     "text": [
      "Attribution score for channel d5e5: -30.20\n",
      "\n",
      "Computing phi for channel f1f2...\n"
     ]
    },
    {
     "name": "stderr",
     "output_type": "stream",
     "text": [
      "100%|██████████████████████████████████████████████████| 33/33 [00:00<?, ?it/s]\n"
     ]
    },
    {
     "name": "stdout",
     "output_type": "stream",
     "text": [
      "Attribution score for channel f1f2: -253.93\n",
      "\n",
      "Computing phi for channel f0h0...\n"
     ]
    },
    {
     "name": "stderr",
     "output_type": "stream",
     "text": [
      "100%|████████████████████████████████████████████████████| 2/2 [00:00<?, ?it/s]\n"
     ]
    },
    {
     "name": "stdout",
     "output_type": "stream",
     "text": [
      "Attribution score for channel f0h0: -14.81\n",
      "\n",
      "Computing phi for channel f1d2...\n"
     ]
    },
    {
     "name": "stderr",
     "output_type": "stream",
     "text": [
      "100%|████████████████████████████████████████████████████| 1/1 [00:00<?, ?it/s]\n"
     ]
    },
    {
     "name": "stdout",
     "output_type": "stream",
     "text": [
      "Attribution score for channel f1d2: -4.76\n",
      "\n",
      "Computing phi for channel i0i6...\n"
     ]
    },
    {
     "name": "stderr",
     "output_type": "stream",
     "text": [
      "100%|████████████████████████████████████████████████████| 2/2 [00:00<?, ?it/s]\n"
     ]
    },
    {
     "name": "stdout",
     "output_type": "stream",
     "text": [
      "Attribution score for channel i0i6: -14.03\n",
      "\n",
      "Computing phi for channel c1e1...\n"
     ]
    },
    {
     "name": "stderr",
     "output_type": "stream",
     "text": [
      "100%|████████████████████████████████████████████████████| 3/3 [00:00<?, ?it/s]\n"
     ]
    },
    {
     "name": "stdout",
     "output_type": "stream",
     "text": [
      "Attribution score for channel c1e1: -17.61\n",
      "\n",
      "Computing phi for channel g2g1...\n"
     ]
    },
    {
     "name": "stderr",
     "output_type": "stream",
     "text": [
      "100%|██████████████████████████████████████████████████| 16/16 [00:00<?, ?it/s]\n"
     ]
    },
    {
     "name": "stdout",
     "output_type": "stream",
     "text": [
      "Attribution score for channel g2g1: -101.63\n",
      "\n",
      "Computing phi for channel f2f6...\n"
     ]
    },
    {
     "name": "stderr",
     "output_type": "stream",
     "text": [
      "100%|████████████████████████████████████████████████████| 5/5 [00:00<?, ?it/s]\n"
     ]
    },
    {
     "name": "stdout",
     "output_type": "stream",
     "text": [
      "Attribution score for channel f2f6: -41.24\n",
      "\n",
      "Computing phi for channel h5h1...\n"
     ]
    },
    {
     "name": "stderr",
     "output_type": "stream",
     "text": [
      "100%|████████████████████████████████████████████████████| 4/4 [00:00<?, ?it/s]\n"
     ]
    },
    {
     "name": "stdout",
     "output_type": "stream",
     "text": [
      "Attribution score for channel h5h1: -23.70\n",
      "\n",
      "Computing phi for channel b4d4...\n"
     ]
    },
    {
     "name": "stderr",
     "output_type": "stream",
     "text": [
      "100%|██████████████████████████████████████████████████| 13/13 [00:00<?, ?it/s]\n"
     ]
    },
    {
     "name": "stdout",
     "output_type": "stream",
     "text": [
      "Attribution score for channel b4d4: -90.67\n",
      "\n",
      "Computing phi for channel i6a6...\n"
     ]
    },
    {
     "name": "stderr",
     "output_type": "stream",
     "text": [
      "100%|████████████████████████████████████████████████████| 1/1 [00:00<?, ?it/s]\n"
     ]
    },
    {
     "name": "stdout",
     "output_type": "stream",
     "text": [
      "Attribution score for channel i6a6: -9.54\n",
      "\n",
      "Computing phi for channel h2e2...\n"
     ]
    },
    {
     "name": "stderr",
     "output_type": "stream",
     "text": [
      "100%|████████████████████████████████████| 108/108 [00:00<00:00, 108214.25it/s]\n"
     ]
    },
    {
     "name": "stdout",
     "output_type": "stream",
     "text": [
      "Attribution score for channel h2e2: -811.43\n",
      "\n",
      "Computing phi for channel b0b8...\n"
     ]
    },
    {
     "name": "stderr",
     "output_type": "stream",
     "text": [
      "100%|████████████████████████████████████████████████████| 5/5 [00:00<?, ?it/s]\n"
     ]
    },
    {
     "name": "stdout",
     "output_type": "stream",
     "text": [
      "Attribution score for channel b0b8: -35.73\n",
      "\n",
      "Computing phi for channel b1h1...\n"
     ]
    },
    {
     "name": "stderr",
     "output_type": "stream",
     "text": [
      "100%|████████████████████████████████████████████████████| 4/4 [00:00<?, ?it/s]\n"
     ]
    },
    {
     "name": "stdout",
     "output_type": "stream",
     "text": [
      "Attribution score for channel b1h1: -31.22\n",
      "\n",
      "Computing phi for channel c2d4...\n"
     ]
    },
    {
     "name": "stderr",
     "output_type": "stream",
     "text": [
      "100%|████████████████████████████████████████████████████| 2/2 [00:00<?, ?it/s]\n"
     ]
    },
    {
     "name": "stdout",
     "output_type": "stream",
     "text": [
      "Attribution score for channel c2d4: -14.64\n",
      "\n",
      "Computing phi for channel e6i6...\n"
     ]
    },
    {
     "name": "stderr",
     "output_type": "stream",
     "text": [
      "100%|████████████████████████████████████████████████████| 1/1 [00:00<?, ?it/s]\n"
     ]
    },
    {
     "name": "stdout",
     "output_type": "stream",
     "text": [
      "Attribution score for channel e6i6: -9.05\n",
      "\n",
      "Computing phi for channel b0a2...\n"
     ]
    },
    {
     "name": "stderr",
     "output_type": "stream",
     "text": [
      "100%|██████████████████████████████████████████████████| 73/73 [00:00<?, ?it/s]\n"
     ]
    },
    {
     "name": "stdout",
     "output_type": "stream",
     "text": [
      "Attribution score for channel b0a2: -439.22\n",
      "\n",
      "Computing phi for channel f1h0...\n"
     ]
    },
    {
     "name": "stderr",
     "output_type": "stream",
     "text": [
      "100%|████████████████████████████████████████████████████| 3/3 [00:00<?, ?it/s]\n"
     ]
    },
    {
     "name": "stdout",
     "output_type": "stream",
     "text": [
      "Attribution score for channel f1h0: -12.55\n",
      "\n",
      "Computing phi for channel i2b2...\n"
     ]
    },
    {
     "name": "stderr",
     "output_type": "stream",
     "text": [
      "100%|████████████████████████████████████████████████████| 2/2 [00:00<?, ?it/s]\n"
     ]
    },
    {
     "name": "stdout",
     "output_type": "stream",
     "text": [
      "Attribution score for channel i2b2: -17.27\n",
      "\n",
      "Computing phi for channel b4a4...\n"
     ]
    },
    {
     "name": "stderr",
     "output_type": "stream",
     "text": [
      "100%|████████████████████████████████████████████████████| 4/4 [00:00<?, ?it/s]"
     ]
    },
    {
     "name": "stdout",
     "output_type": "stream",
     "text": [
      "Attribution score for channel b4a4: -33.69\n",
      "\n",
      "Computing phi for channel c2c1...\n"
     ]
    },
    {
     "name": "stderr",
     "output_type": "stream",
     "text": [
      "\n",
      "100%|████████████████████████████████████████████████████| 4/4 [00:00<?, ?it/s]\n"
     ]
    },
    {
     "name": "stdout",
     "output_type": "stream",
     "text": [
      "Attribution score for channel c2c1: -31.88\n",
      "\n",
      "Computing phi for channel e2h2...\n"
     ]
    },
    {
     "name": "stderr",
     "output_type": "stream",
     "text": [
      "100%|██████████████████████████████████████████████████| 10/10 [00:00<?, ?it/s]\n"
     ]
    },
    {
     "name": "stdout",
     "output_type": "stream",
     "text": [
      "Attribution score for channel e2h2: -62.57\n",
      "\n",
      "Computing phi for channel g4i4...\n"
     ]
    },
    {
     "name": "stderr",
     "output_type": "stream",
     "text": [
      "100%|████████████████████████████████████████████████████| 1/1 [00:00<?, ?it/s]\n"
     ]
    },
    {
     "name": "stdout",
     "output_type": "stream",
     "text": [
      "Attribution score for channel g4i4: -3.42\n",
      "\n",
      "Computing phi for channel f3f2...\n"
     ]
    },
    {
     "name": "stderr",
     "output_type": "stream",
     "text": [
      "100%|████████████████████████████████████████████████████| 1/1 [00:00<?, ?it/s]\n"
     ]
    },
    {
     "name": "stdout",
     "output_type": "stream",
     "text": [
      "Attribution score for channel f3f2: -4.31\n",
      "\n",
      "Computing phi for channel b2d3...\n"
     ]
    },
    {
     "name": "stderr",
     "output_type": "stream",
     "text": [
      "100%|████████████████████████████████████████████████████| 1/1 [00:00<?, ?it/s]\n"
     ]
    },
    {
     "name": "stdout",
     "output_type": "stream",
     "text": [
      "Attribution score for channel b2d3: -6.77\n",
      "\n",
      "Computing phi for channel h3h2...\n"
     ]
    },
    {
     "name": "stderr",
     "output_type": "stream",
     "text": [
      "100%|████████████████████████████████████████████████████| 4/4 [00:00<?, ?it/s]\n"
     ]
    },
    {
     "name": "stdout",
     "output_type": "stream",
     "text": [
      "Attribution score for channel h3h2: -35.52\n",
      "\n",
      "Computing phi for channel a2b2...\n"
     ]
    },
    {
     "name": "stderr",
     "output_type": "stream",
     "text": [
      "100%|██████████████████████████████████████████████████| 61/61 [00:00<?, ?it/s]\n"
     ]
    },
    {
     "name": "stdout",
     "output_type": "stream",
     "text": [
      "Attribution score for channel a2b2: -396.51\n",
      "\n",
      "Computing phi for channel g1g5...\n"
     ]
    },
    {
     "name": "stderr",
     "output_type": "stream",
     "text": [
      "100%|████████████████████████████████████████████████████| 1/1 [00:00<?, ?it/s]\n"
     ]
    },
    {
     "name": "stdout",
     "output_type": "stream",
     "text": [
      "Attribution score for channel g1g5: -7.00\n",
      "\n",
      "Computing phi for channel e6e7...\n"
     ]
    },
    {
     "name": "stderr",
     "output_type": "stream",
     "text": [
      "100%|████████████████████████████████████████████████████| 2/2 [00:00<?, ?it/s]\n"
     ]
    },
    {
     "name": "stdout",
     "output_type": "stream",
     "text": [
      "Attribution score for channel e6e7: -18.76\n",
      "\n",
      "Computing phi for channel b1b2...\n"
     ]
    },
    {
     "name": "stderr",
     "output_type": "stream",
     "text": [
      "100%|██████████████████████████████████████████████████| 20/20 [00:00<?, ?it/s]\n"
     ]
    },
    {
     "name": "stdout",
     "output_type": "stream",
     "text": [
      "Attribution score for channel b1b2: -128.19\n",
      "\n",
      "Computing phi for channel h8d8...\n"
     ]
    },
    {
     "name": "stderr",
     "output_type": "stream",
     "text": [
      "100%|████████████████████████████████████████████████████| 2/2 [00:00<?, ?it/s]\n"
     ]
    },
    {
     "name": "stdout",
     "output_type": "stream",
     "text": [
      "Attribution score for channel h8d8: -19.17\n",
      "\n",
      "Computing phi for channel d6d1...\n"
     ]
    },
    {
     "name": "stderr",
     "output_type": "stream",
     "text": [
      "100%|████████████████████████████████████████████████████| 3/3 [00:00<?, ?it/s]\n"
     ]
    },
    {
     "name": "stdout",
     "output_type": "stream",
     "text": [
      "Attribution score for channel d6d1: -11.72\n",
      "\n",
      "Computing phi for channel d2h2...\n"
     ]
    },
    {
     "name": "stderr",
     "output_type": "stream",
     "text": [
      "100%|████████████████████████████████████████████████████| 3/3 [00:00<?, ?it/s]\n"
     ]
    },
    {
     "name": "stdout",
     "output_type": "stream",
     "text": [
      "Attribution score for channel d2h2: -28.61\n",
      "\n",
      "Computing phi for channel c1c2...\n"
     ]
    },
    {
     "name": "stderr",
     "output_type": "stream",
     "text": [
      "100%|████████████████████████████████████████████████████| 5/5 [00:00<?, ?it/s]\n"
     ]
    },
    {
     "name": "stdout",
     "output_type": "stream",
     "text": [
      "Attribution score for channel c1c2: -40.02\n",
      "\n",
      "Computing phi for channel c4e2...\n"
     ]
    },
    {
     "name": "stderr",
     "output_type": "stream",
     "text": [
      "100%|██████████████████████████████████████████| 7/7 [00:00<00:00, 7018.92it/s]\n"
     ]
    },
    {
     "name": "stdout",
     "output_type": "stream",
     "text": [
      "Attribution score for channel c4e2: -55.69\n",
      "\n",
      "Computing phi for channel h8e8...\n"
     ]
    },
    {
     "name": "stderr",
     "output_type": "stream",
     "text": [
      "100%|████████████████████████████████████████████████████| 3/3 [00:00<?, ?it/s]\n"
     ]
    },
    {
     "name": "stdout",
     "output_type": "stream",
     "text": [
      "Attribution score for channel h8e8: -26.58\n",
      "\n",
      "Computing phi for channel c1d1...\n"
     ]
    },
    {
     "name": "stderr",
     "output_type": "stream",
     "text": [
      "100%|████████████████████████████████████████████████████| 4/4 [00:00<?, ?it/s]\n"
     ]
    },
    {
     "name": "stdout",
     "output_type": "stream",
     "text": [
      "Attribution score for channel c1d1: -25.62\n",
      "\n",
      "Computing phi for channel f2a2...\n"
     ]
    },
    {
     "name": "stderr",
     "output_type": "stream",
     "text": [
      "100%|████████████████████████████████████████████████████| 2/2 [00:00<?, ?it/s]\n"
     ]
    },
    {
     "name": "stdout",
     "output_type": "stream",
     "text": [
      "Attribution score for channel f2a2: -13.04\n",
      "\n",
      "Computing phi for channel a2i2...\n"
     ]
    },
    {
     "name": "stderr",
     "output_type": "stream",
     "text": [
      "100%|██████████████████████████████████████████████████| 13/13 [00:00<?, ?it/s]\n"
     ]
    },
    {
     "name": "stdout",
     "output_type": "stream",
     "text": [
      "Attribution score for channel a2i2: -79.21\n",
      "\n",
      "Computing phi for channel h2h6...\n"
     ]
    },
    {
     "name": "stderr",
     "output_type": "stream",
     "text": [
      "100%|██████████████████████████████████████████████████| 80/80 [00:00<?, ?it/s]\n"
     ]
    },
    {
     "name": "stdout",
     "output_type": "stream",
     "text": [
      "Attribution score for channel h2h6: -572.91\n",
      "\n",
      "Computing phi for channel h1h2...\n"
     ]
    },
    {
     "name": "stderr",
     "output_type": "stream",
     "text": [
      "100%|████████████████████████████████████████████████████| 5/5 [00:00<?, ?it/s]\n"
     ]
    },
    {
     "name": "stdout",
     "output_type": "stream",
     "text": [
      "Attribution score for channel h1h2: -35.74\n",
      "\n",
      "Computing phi for channel h5h6...\n"
     ]
    },
    {
     "name": "stderr",
     "output_type": "stream",
     "text": [
      "100%|████████████████████████████████████████████████████| 2/2 [00:00<?, ?it/s]\n"
     ]
    },
    {
     "name": "stdout",
     "output_type": "stream",
     "text": [
      "Attribution score for channel h5h6: -15.39\n",
      "\n",
      "Computing phi for channel b5e5...\n"
     ]
    },
    {
     "name": "stderr",
     "output_type": "stream",
     "text": [
      "100%|████████████████████████████████████████████████████| 2/2 [00:00<?, ?it/s]\n"
     ]
    },
    {
     "name": "stdout",
     "output_type": "stream",
     "text": [
      "Attribution score for channel b5e5: -8.79\n",
      "\n",
      "Computing phi for channel b1b4...\n"
     ]
    },
    {
     "name": "stderr",
     "output_type": "stream",
     "text": [
      "100%|██████████████████████████████████████████████████| 13/13 [00:00<?, ?it/s]\n"
     ]
    },
    {
     "name": "stdout",
     "output_type": "stream",
     "text": [
      "Attribution score for channel b1b4: -81.02\n",
      "\n",
      "Computing phi for channel e0c1...\n"
     ]
    },
    {
     "name": "stderr",
     "output_type": "stream",
     "text": [
      "100%|████████████████████████████████████████████████████| 1/1 [00:00<?, ?it/s]\n"
     ]
    },
    {
     "name": "stdout",
     "output_type": "stream",
     "text": [
      "Attribution score for channel e0c1: -8.36\n",
      "\n",
      "Computing phi for channel h1h4...\n"
     ]
    },
    {
     "name": "stderr",
     "output_type": "stream",
     "text": [
      "100%|████████████████████████████████████████████████████| 3/3 [00:00<?, ?it/s]\n"
     ]
    },
    {
     "name": "stdout",
     "output_type": "stream",
     "text": [
      "Attribution score for channel h1h4: -24.92\n",
      "\n",
      "Computing phi for channel f2e1...\n"
     ]
    },
    {
     "name": "stderr",
     "output_type": "stream",
     "text": [
      "100%|████████████████████████████████████████████████████| 6/6 [00:00<?, ?it/s]\n"
     ]
    },
    {
     "name": "stdout",
     "output_type": "stream",
     "text": [
      "Attribution score for channel f2e1: -37.40\n",
      "\n",
      "Computing phi for channel e4h4...\n"
     ]
    },
    {
     "name": "stderr",
     "output_type": "stream",
     "text": [
      "100%|████████████████████████████████████████████████████| 1/1 [00:00<?, ?it/s]\n"
     ]
    },
    {
     "name": "stdout",
     "output_type": "stream",
     "text": [
      "Attribution score for channel e4h4: -17.19\n",
      "\n",
      "Computing phi for channel b7b4...\n"
     ]
    },
    {
     "name": "stderr",
     "output_type": "stream",
     "text": [
      "100%|████████████████████████████████████████████████████| 1/1 [00:00<?, ?it/s]\n"
     ]
    },
    {
     "name": "stdout",
     "output_type": "stream",
     "text": [
      "Attribution score for channel b7b4: -10.28\n",
      "\n",
      "Computing phi for channel h4h8...\n"
     ]
    },
    {
     "name": "stderr",
     "output_type": "stream",
     "text": [
      "100%|████████████████████████████████████████████████████| 1/1 [00:00<?, ?it/s]\n"
     ]
    },
    {
     "name": "stdout",
     "output_type": "stream",
     "text": [
      "Attribution score for channel h4h8: -7.94\n",
      "\n",
      "Computing phi for channel g2g6...\n"
     ]
    },
    {
     "name": "stderr",
     "output_type": "stream",
     "text": [
      "100%|████████████████████████████████████████| 18/18 [00:00<00:00, 9017.85it/s]\n"
     ]
    },
    {
     "name": "stdout",
     "output_type": "stream",
     "text": [
      "Attribution score for channel g2g6: -140.51\n",
      "\n",
      "Computing phi for channel b5d5...\n"
     ]
    },
    {
     "name": "stderr",
     "output_type": "stream",
     "text": [
      "100%|████████████████████████████████████████████████████| 3/3 [00:00<?, ?it/s]\n"
     ]
    },
    {
     "name": "stdout",
     "output_type": "stream",
     "text": [
      "Attribution score for channel b5d5: -26.38\n",
      "\n",
      "Computing phi for channel b2i2...\n"
     ]
    },
    {
     "name": "stderr",
     "output_type": "stream",
     "text": [
      "100%|████████████████████████████████████████████████████| 9/9 [00:00<?, ?it/s]\n"
     ]
    },
    {
     "name": "stdout",
     "output_type": "stream",
     "text": [
      "Attribution score for channel b2i2: -67.39\n",
      "\n",
      "Computing phi for channel f3h3...\n"
     ]
    },
    {
     "name": "stderr",
     "output_type": "stream",
     "text": [
      "100%|██████████████████████████████████████████| 1/1 [00:00<00:00, 1985.94it/s]\n"
     ]
    },
    {
     "name": "stdout",
     "output_type": "stream",
     "text": [
      "Attribution score for channel f3h3: -4.91\n",
      "\n",
      "Computing phi for channel f8a8...\n"
     ]
    },
    {
     "name": "stderr",
     "output_type": "stream",
     "text": [
      "100%|██████████████████████████████████████████| 2/2 [00:00<00:00, 8765.53it/s]\n"
     ]
    },
    {
     "name": "stdout",
     "output_type": "stream",
     "text": [
      "Attribution score for channel f8a8: -12.30\n",
      "\n",
      "Computing phi for channel c2e2...\n"
     ]
    },
    {
     "name": "stderr",
     "output_type": "stream",
     "text": [
      "100%|████████████████████████████████████████████████████| 6/6 [00:00<?, ?it/s]\n"
     ]
    },
    {
     "name": "stdout",
     "output_type": "stream",
     "text": [
      "Attribution score for channel c2e2: -39.43\n",
      "\n",
      "Computing phi for channel g3g4...\n"
     ]
    },
    {
     "name": "stderr",
     "output_type": "stream",
     "text": [
      "100%|████████████████████████████████████████████████| 120/120 [00:00<?, ?it/s]\n"
     ]
    },
    {
     "name": "stdout",
     "output_type": "stream",
     "text": [
      "Attribution score for channel g3g4: -881.90\n",
      "\n",
      "Computing phi for channel b3b8...\n"
     ]
    },
    {
     "name": "stderr",
     "output_type": "stream",
     "text": [
      "100%|████████████████████████████████████████████████████| 1/1 [00:00<?, ?it/s]\n"
     ]
    },
    {
     "name": "stdout",
     "output_type": "stream",
     "text": [
      "Attribution score for channel b3b8: -8.68\n",
      "\n",
      "Computing phi for channel h1h8...\n"
     ]
    },
    {
     "name": "stderr",
     "output_type": "stream",
     "text": [
      "100%|████████████████████████████████████████████████████| 1/1 [00:00<?, ?it/s]\n"
     ]
    },
    {
     "name": "stdout",
     "output_type": "stream",
     "text": [
      "Attribution score for channel h1h8: -9.18\n",
      "\n",
      "Computing phi for channel f6f8...\n"
     ]
    },
    {
     "name": "stderr",
     "output_type": "stream",
     "text": [
      "100%|██████████████████████████████████████████| 1/1 [00:00<00:00, 1985.00it/s]\n"
     ]
    },
    {
     "name": "stdout",
     "output_type": "stream",
     "text": [
      "Attribution score for channel f6f8: -6.20\n",
      "\n",
      "Computing phi for channel h1i1...\n"
     ]
    },
    {
     "name": "stderr",
     "output_type": "stream",
     "text": [
      "100%|██████████████████████████████████████████| 4/4 [00:00<00:00, 4009.85it/s]\n"
     ]
    },
    {
     "name": "stdout",
     "output_type": "stream",
     "text": [
      "Attribution score for channel h1i1: -31.69\n",
      "\n",
      "Computing phi for channel d7c7...\n"
     ]
    },
    {
     "name": "stderr",
     "output_type": "stream",
     "text": [
      "100%|██████████████████████████████████████████| 2/2 [00:00<00:00, 1999.67it/s]\n"
     ]
    },
    {
     "name": "stdout",
     "output_type": "stream",
     "text": [
      "Attribution score for channel d7c7: -14.45\n",
      "\n",
      "Computing phi for channel c0c1...\n"
     ]
    },
    {
     "name": "stderr",
     "output_type": "stream",
     "text": [
      "100%|██████████████████████████████████████████| 2/2 [00:00<00:00, 2006.36it/s]\n"
     ]
    },
    {
     "name": "stdout",
     "output_type": "stream",
     "text": [
      "Attribution score for channel c0c1: -10.11\n",
      "\n",
      "Computing phi for channel g2i1...\n"
     ]
    },
    {
     "name": "stderr",
     "output_type": "stream",
     "text": [
      "100%|████████████████████████████████████████████████████| 2/2 [00:00<?, ?it/s]\n"
     ]
    },
    {
     "name": "stdout",
     "output_type": "stream",
     "text": [
      "Attribution score for channel g2i1: -16.31\n",
      "\n",
      "Computing phi for channel c4i4...\n"
     ]
    },
    {
     "name": "stderr",
     "output_type": "stream",
     "text": [
      "100%|████████████████████████████████████████████████████| 1/1 [00:00<?, ?it/s]\n"
     ]
    },
    {
     "name": "stdout",
     "output_type": "stream",
     "text": [
      "Attribution score for channel c4i4: -6.44\n",
      "\n",
      "Computing phi for channel g2i2...\n"
     ]
    },
    {
     "name": "stderr",
     "output_type": "stream",
     "text": [
      "100%|██████████████████████████████████████████████████| 14/14 [00:00<?, ?it/s]\n"
     ]
    },
    {
     "name": "stdout",
     "output_type": "stream",
     "text": [
      "Attribution score for channel g2i2: -89.31\n",
      "\n",
      "Computing phi for channel a2e2...\n"
     ]
    },
    {
     "name": "stderr",
     "output_type": "stream",
     "text": [
      "100%|████████████████████████████████████████████████████| 6/6 [00:00<?, ?it/s]\n"
     ]
    },
    {
     "name": "stdout",
     "output_type": "stream",
     "text": [
      "Attribution score for channel a2e2: -44.29\n",
      "\n",
      "Computing phi for channel h0i2...\n"
     ]
    },
    {
     "name": "stderr",
     "output_type": "stream",
     "text": [
      "100%|███████████████████████████████████████| 29/29 [00:00<00:00, 29078.37it/s]\n"
     ]
    },
    {
     "name": "stdout",
     "output_type": "stream",
     "text": [
      "Attribution score for channel h0i2: -173.42\n",
      "\n",
      "Computing phi for channel i2d2...\n"
     ]
    },
    {
     "name": "stderr",
     "output_type": "stream",
     "text": [
      "100%|██████████████████████████████████████████████████| 10/10 [00:00<?, ?it/s]\n"
     ]
    },
    {
     "name": "stdout",
     "output_type": "stream",
     "text": [
      "Attribution score for channel i2d2: -49.12\n",
      "\n",
      "Computing phi for channel f2f8...\n"
     ]
    },
    {
     "name": "stderr",
     "output_type": "stream",
     "text": [
      "100%|████████████████████████████████████████████████████| 7/7 [00:00<?, ?it/s]\n"
     ]
    },
    {
     "name": "stdout",
     "output_type": "stream",
     "text": [
      "Attribution score for channel f2f8: -44.51\n",
      "\n",
      "Computing phi for channel g2h2...\n"
     ]
    },
    {
     "name": "stderr",
     "output_type": "stream",
     "text": [
      "100%|███████████████████████████████████████| 26/26 [00:00<00:00, 26051.58it/s]\n"
     ]
    },
    {
     "name": "stdout",
     "output_type": "stream",
     "text": [
      "Attribution score for channel g2h2: -201.44\n",
      "\n",
      "Computing phi for channel h2b2...\n"
     ]
    },
    {
     "name": "stderr",
     "output_type": "stream",
     "text": [
      "100%|████████████████████████████████████| 106/106 [00:00<00:00, 106261.05it/s]\n"
     ]
    },
    {
     "name": "stdout",
     "output_type": "stream",
     "text": [
      "Attribution score for channel h2b2: -713.91\n",
      "\n",
      "Computing phi for channel e2i2...\n"
     ]
    },
    {
     "name": "stderr",
     "output_type": "stream",
     "text": [
      "100%|████████████████████████████████████████████████████| 8/8 [00:00<?, ?it/s]\n"
     ]
    },
    {
     "name": "stdout",
     "output_type": "stream",
     "text": [
      "Attribution score for channel e2i2: -48.30\n",
      "\n",
      "Computing phi for channel b5b1...\n"
     ]
    },
    {
     "name": "stderr",
     "output_type": "stream",
     "text": [
      "100%|██████████████████████████████████████████| 2/2 [00:00<00:00, 2005.40it/s]\n"
     ]
    },
    {
     "name": "stdout",
     "output_type": "stream",
     "text": [
      "Attribution score for channel b5b1: -12.90\n",
      "\n",
      "Computing phi for channel f3f4...\n"
     ]
    },
    {
     "name": "stderr",
     "output_type": "stream",
     "text": [
      "100%|████████████████████████████████████████████████████| 1/1 [00:00<?, ?it/s]\n"
     ]
    },
    {
     "name": "stdout",
     "output_type": "stream",
     "text": [
      "Attribution score for channel f3f4: -8.79\n",
      "\n",
      "Computing phi for channel f5f6...\n"
     ]
    },
    {
     "name": "stderr",
     "output_type": "stream",
     "text": [
      "100%|████████████████████████████████████████████████████| 2/2 [00:00<?, ?it/s]\n"
     ]
    },
    {
     "name": "stdout",
     "output_type": "stream",
     "text": [
      "Attribution score for channel f5f6: -14.67\n",
      "\n",
      "Computing phi for channel h8f8...\n"
     ]
    },
    {
     "name": "stderr",
     "output_type": "stream",
     "text": [
      "100%|████████████████████████████████████████████████████| 2/2 [00:00<?, ?it/s]\n"
     ]
    },
    {
     "name": "stdout",
     "output_type": "stream",
     "text": [
      "Attribution score for channel h8f8: -17.42\n",
      "\n",
      "Computing phi for channel f3f7...\n"
     ]
    },
    {
     "name": "stderr",
     "output_type": "stream",
     "text": [
      "100%|██████████████████████████████████████████| 2/2 [00:00<00:00, 2005.88it/s]\n"
     ]
    },
    {
     "name": "stdout",
     "output_type": "stream",
     "text": [
      "Attribution score for channel f3f7: -12.85\n",
      "\n",
      "Computing phi for channel b0b5...\n"
     ]
    },
    {
     "name": "stderr",
     "output_type": "stream",
     "text": [
      "100%|██████████████████████████████████████████| 1/1 [00:00<00:00, 5607.36it/s]\n"
     ]
    },
    {
     "name": "stdout",
     "output_type": "stream",
     "text": [
      "Attribution score for channel b0b5: -5.70\n",
      "\n",
      "Computing phi for channel h6e6...\n"
     ]
    },
    {
     "name": "stderr",
     "output_type": "stream",
     "text": [
      "100%|████████████████████████████████████████████████████| 5/5 [00:00<?, ?it/s]\n"
     ]
    },
    {
     "name": "stdout",
     "output_type": "stream",
     "text": [
      "Attribution score for channel h6e6: -39.27\n",
      "\n",
      "Computing phi for channel b0c0...\n"
     ]
    },
    {
     "name": "stderr",
     "output_type": "stream",
     "text": [
      "100%|████████████████████████████████████████████████████| 2/2 [00:00<?, ?it/s]\n"
     ]
    },
    {
     "name": "stdout",
     "output_type": "stream",
     "text": [
      "Attribution score for channel b0c0: -7.98\n",
      "\n",
      "Computing phi for channel f4g4...\n"
     ]
    },
    {
     "name": "stderr",
     "output_type": "stream",
     "text": [
      "100%|████████████████████████████████████████████████████| 1/1 [00:00<?, ?it/s]\n"
     ]
    },
    {
     "name": "stdout",
     "output_type": "stream",
     "text": [
      "Attribution score for channel f4g4: -7.41\n",
      "\n",
      "Computing phi for channel g2g3...\n"
     ]
    },
    {
     "name": "stderr",
     "output_type": "stream",
     "text": [
      "100%|████████████████████████████████████████████████████| 1/1 [00:00<?, ?it/s]\n"
     ]
    },
    {
     "name": "stdout",
     "output_type": "stream",
     "text": [
      "Attribution score for channel g2g3: -8.28\n",
      "\n",
      "Computing phi for channel d6g6...\n"
     ]
    },
    {
     "name": "stderr",
     "output_type": "stream",
     "text": [
      "100%|████████████████████████████████████████████████████| 2/2 [00:00<?, ?it/s]\n"
     ]
    },
    {
     "name": "stdout",
     "output_type": "stream",
     "text": [
      "Attribution score for channel d6g6: -14.43\n",
      "\n",
      "Computing phi for channel f6i6...\n"
     ]
    },
    {
     "name": "stderr",
     "output_type": "stream",
     "text": [
      "100%|████████████████████████████████████████████████████| 1/1 [00:00<?, ?it/s]\n"
     ]
    },
    {
     "name": "stdout",
     "output_type": "stream",
     "text": [
      "Attribution score for channel f6i6: -11.35\n",
      "\n",
      "Computing phi for channel h1c1...\n"
     ]
    },
    {
     "name": "stderr",
     "output_type": "stream",
     "text": [
      "100%|████████████████████████████████████████████████████| 1/1 [00:00<?, ?it/s]\n"
     ]
    },
    {
     "name": "stdout",
     "output_type": "stream",
     "text": [
      "Attribution score for channel h1c1: -6.77\n",
      "\n",
      "Computing phi for channel c1c5...\n"
     ]
    },
    {
     "name": "stderr",
     "output_type": "stream",
     "text": [
      "100%|████████████████████████████████████████████████████| 1/1 [00:00<?, ?it/s]\n"
     ]
    },
    {
     "name": "stdout",
     "output_type": "stream",
     "text": [
      "Attribution score for channel c1c5: -6.67\n",
      "\n",
      "Computing phi for channel h6h2...\n"
     ]
    },
    {
     "name": "stderr",
     "output_type": "stream",
     "text": [
      "100%|████████████████████████████████████████████████████| 2/2 [00:00<?, ?it/s]\n"
     ]
    },
    {
     "name": "stdout",
     "output_type": "stream",
     "text": [
      "Attribution score for channel h6h2: -17.77\n",
      "\n",
      "Computing phi for channel i2i6...\n"
     ]
    },
    {
     "name": "stderr",
     "output_type": "stream",
     "text": [
      "100%|████████████████████████████████████████████████████| 6/6 [00:00<?, ?it/s]\n"
     ]
    },
    {
     "name": "stdout",
     "output_type": "stream",
     "text": [
      "Attribution score for channel i2i6: -51.13\n",
      "\n",
      "Computing phi for channel b5b6...\n"
     ]
    },
    {
     "name": "stderr",
     "output_type": "stream",
     "text": [
      "100%|████████████████████████████████████████████████████| 3/3 [00:00<?, ?it/s]\n"
     ]
    },
    {
     "name": "stdout",
     "output_type": "stream",
     "text": [
      "Attribution score for channel b5b6: -21.38\n",
      "\n",
      "Computing phi for channel h5a5...\n"
     ]
    },
    {
     "name": "stderr",
     "output_type": "stream",
     "text": [
      "100%|████████████████████████████████████████████████████| 1/1 [00:00<?, ?it/s]\n"
     ]
    },
    {
     "name": "stdout",
     "output_type": "stream",
     "text": [
      "Attribution score for channel h5a5: -9.01\n",
      "\n",
      "Computing phi for channel b2c0...\n"
     ]
    },
    {
     "name": "stderr",
     "output_type": "stream",
     "text": [
      "100%|██████████████████████████████████████████| 2/2 [00:00<00:00, 2004.93it/s]\n"
     ]
    },
    {
     "name": "stdout",
     "output_type": "stream",
     "text": [
      "Attribution score for channel b2c0: -11.61\n",
      "\n",
      "Computing phi for channel d2d5...\n"
     ]
    },
    {
     "name": "stderr",
     "output_type": "stream",
     "text": [
      "100%|██████████████████████████████████████████████████| 10/10 [00:00<?, ?it/s]\n"
     ]
    },
    {
     "name": "stdout",
     "output_type": "stream",
     "text": [
      "Attribution score for channel d2d5: -66.51\n",
      "\n",
      "Computing phi for channel f5f4...\n"
     ]
    },
    {
     "name": "stderr",
     "output_type": "stream",
     "text": [
      "100%|██████████████████████████████████████████| 1/1 [00:00<00:00, 1001.74it/s]\n"
     ]
    },
    {
     "name": "stdout",
     "output_type": "stream",
     "text": [
      "Attribution score for channel f5f4: -9.80\n",
      "\n",
      "Computing phi for channel g0g1...\n"
     ]
    },
    {
     "name": "stderr",
     "output_type": "stream",
     "text": [
      "100%|████████████████████████████████████████████████████| 2/2 [00:00<?, ?it/s]\n"
     ]
    },
    {
     "name": "stdout",
     "output_type": "stream",
     "text": [
      "Attribution score for channel g0g1: -13.84\n",
      "\n",
      "Computing phi for channel d5d0...\n"
     ]
    },
    {
     "name": "stderr",
     "output_type": "stream",
     "text": [
      "100%|██████████████████████████████████████████| 1/1 [00:00<00:00, 1002.70it/s]\n"
     ]
    },
    {
     "name": "stdout",
     "output_type": "stream",
     "text": [
      "Attribution score for channel d5d0: -10.14\n",
      "\n",
      "Computing phi for channel d1f1...\n"
     ]
    },
    {
     "name": "stderr",
     "output_type": "stream",
     "text": [
      "100%|████████████████████████████████████████████████████| 3/3 [00:00<?, ?it/s]\n"
     ]
    },
    {
     "name": "stdout",
     "output_type": "stream",
     "text": [
      "Attribution score for channel d1f1: -22.73\n",
      "\n",
      "Computing phi for channel e3e1...\n"
     ]
    },
    {
     "name": "stderr",
     "output_type": "stream",
     "text": [
      "100%|██████████████████████████████████████████| 1/1 [00:00<00:00, 1003.42it/s]\n"
     ]
    },
    {
     "name": "stdout",
     "output_type": "stream",
     "text": [
      "Attribution score for channel e3e1: -5.00\n",
      "\n",
      "Computing phi for channel h1h5...\n"
     ]
    },
    {
     "name": "stderr",
     "output_type": "stream",
     "text": [
      "100%|████████████████████████████████████████████████████| 2/2 [00:00<?, ?it/s]\n"
     ]
    },
    {
     "name": "stdout",
     "output_type": "stream",
     "text": [
      "Attribution score for channel h1h5: -10.97\n",
      "\n",
      "Computing phi for channel f2f7...\n"
     ]
    },
    {
     "name": "stderr",
     "output_type": "stream",
     "text": [
      "100%|████████████████████████████████████████████████████| 5/5 [00:00<?, ?it/s]\n"
     ]
    },
    {
     "name": "stdout",
     "output_type": "stream",
     "text": [
      "Attribution score for channel f2f7: -34.89\n",
      "\n",
      "Computing phi for channel h0f0...\n"
     ]
    },
    {
     "name": "stderr",
     "output_type": "stream",
     "text": [
      "100%|████████████████████████████████████████████████████| 1/1 [00:00<?, ?it/s]\n"
     ]
    },
    {
     "name": "stdout",
     "output_type": "stream",
     "text": [
      "Attribution score for channel h0f0: -5.14\n",
      "\n",
      "Computing phi for channel f2i2...\n"
     ]
    },
    {
     "name": "stderr",
     "output_type": "stream",
     "text": [
      "100%|████████████████████████████████████████████████████| 5/5 [00:00<?, ?it/s]\n"
     ]
    },
    {
     "name": "stdout",
     "output_type": "stream",
     "text": [
      "Attribution score for channel f2i2: -38.66\n",
      "\n",
      "Computing phi for channel h4b4...\n"
     ]
    },
    {
     "name": "stderr",
     "output_type": "stream",
     "text": [
      "100%|████████████████████████████████████████████████████| 1/1 [00:00<?, ?it/s]\n"
     ]
    },
    {
     "name": "stdout",
     "output_type": "stream",
     "text": [
      "Attribution score for channel h4b4: -10.79\n",
      "\n",
      "Computing phi for channel h4h7...\n"
     ]
    },
    {
     "name": "stderr",
     "output_type": "stream",
     "text": [
      "100%|████████████████████████████████████████████████████| 2/2 [00:00<?, ?it/s]\n"
     ]
    },
    {
     "name": "stdout",
     "output_type": "stream",
     "text": [
      "Attribution score for channel h4h7: -18.51\n",
      "\n",
      "Computing phi for channel h5h0...\n"
     ]
    },
    {
     "name": "stderr",
     "output_type": "stream",
     "text": [
      "100%|████████████████████████████████████████████████████| 1/1 [00:00<?, ?it/s]\n"
     ]
    },
    {
     "name": "stdout",
     "output_type": "stream",
     "text": [
      "Attribution score for channel h5h0: -10.14\n",
      "\n",
      "Computing phi for channel b0b4...\n"
     ]
    },
    {
     "name": "stderr",
     "output_type": "stream",
     "text": [
      "100%|████████████████████████████████████████████████████| 3/3 [00:00<?, ?it/s]\n"
     ]
    },
    {
     "name": "stdout",
     "output_type": "stream",
     "text": [
      "Attribution score for channel b0b4: -9.75\n",
      "\n",
      "Computing phi for channel b5b4...\n"
     ]
    },
    {
     "name": "stderr",
     "output_type": "stream",
     "text": [
      "100%|████████████████████████████████████████████████████| 1/1 [00:00<?, ?it/s]\n"
     ]
    },
    {
     "name": "stdout",
     "output_type": "stream",
     "text": [
      "Attribution score for channel b5b4: -8.29\n",
      "\n",
      "Computing phi for channel h5f5...\n"
     ]
    },
    {
     "name": "stderr",
     "output_type": "stream",
     "text": [
      "100%|██████████████████████████████████████████| 4/4 [00:00<00:00, 4006.02it/s]\n"
     ]
    },
    {
     "name": "stdout",
     "output_type": "stream",
     "text": [
      "Attribution score for channel h5f5: -33.32\n",
      "\n",
      "Computing phi for channel h3h4...\n"
     ]
    },
    {
     "name": "stderr",
     "output_type": "stream",
     "text": [
      "100%|████████████████████████████████████████████████████| 1/1 [00:00<?, ?it/s]\n"
     ]
    },
    {
     "name": "stdout",
     "output_type": "stream",
     "text": [
      "Attribution score for channel h3h4: -4.91\n",
      "\n",
      "Computing phi for channel i1h1...\n"
     ]
    },
    {
     "name": "stderr",
     "output_type": "stream",
     "text": [
      "100%|████████████████████████████████████████████████████| 5/5 [00:00<?, ?it/s]\n"
     ]
    },
    {
     "name": "stdout",
     "output_type": "stream",
     "text": [
      "Attribution score for channel i1h1: -42.41\n",
      "\n",
      "Computing phi for channel g0e2...\n"
     ]
    },
    {
     "name": "stderr",
     "output_type": "stream",
     "text": [
      "100%|██████████████████████████████████████████████████| 94/94 [00:00<?, ?it/s]\n"
     ]
    },
    {
     "name": "stdout",
     "output_type": "stream",
     "text": [
      "Attribution score for channel g0e2: -581.30\n",
      "\n",
      "Computing phi for channel e2g1...\n"
     ]
    },
    {
     "name": "stderr",
     "output_type": "stream",
     "text": [
      "100%|████████████████████████████████████████████████████| 1/1 [00:00<?, ?it/s]\n"
     ]
    },
    {
     "name": "stdout",
     "output_type": "stream",
     "text": [
      "Attribution score for channel e2g1: -6.05\n",
      "\n",
      "Computing phi for channel h0h6...\n"
     ]
    },
    {
     "name": "stderr",
     "output_type": "stream",
     "text": [
      "100%|███████████████████████████████████████████| 1/1 [00:00<00:00, 500.51it/s]\n"
     ]
    },
    {
     "name": "stdout",
     "output_type": "stream",
     "text": [
      "Attribution score for channel h0h6: -5.55\n",
      "\n",
      "Computing phi for channel i2f2...\n"
     ]
    },
    {
     "name": "stderr",
     "output_type": "stream",
     "text": [
      "100%|██████████████████████████████████████████████████| 14/14 [00:00<?, ?it/s]\n"
     ]
    },
    {
     "name": "stdout",
     "output_type": "stream",
     "text": [
      "Attribution score for channel i2f2: -79.25\n",
      "\n",
      "Computing phi for channel b2g2...\n"
     ]
    },
    {
     "name": "stderr",
     "output_type": "stream",
     "text": [
      "100%|██████████████████████████████████████████████████| 26/26 [00:00<?, ?it/s]\n"
     ]
    },
    {
     "name": "stdout",
     "output_type": "stream",
     "text": [
      "Attribution score for channel b2g2: -194.09\n",
      "\n",
      "Computing phi for channel g1h1...\n"
     ]
    },
    {
     "name": "stderr",
     "output_type": "stream",
     "text": [
      "100%|████████████████████████████████████████████████████| 2/2 [00:00<?, ?it/s]\n"
     ]
    },
    {
     "name": "stdout",
     "output_type": "stream",
     "text": [
      "Attribution score for channel g1h1: -9.89\n",
      "\n",
      "Computing phi for channel e1b1...\n"
     ]
    },
    {
     "name": "stderr",
     "output_type": "stream",
     "text": [
      "100%|████████████████████████████████████████████████████| 2/2 [00:00<?, ?it/s]\n"
     ]
    },
    {
     "name": "stdout",
     "output_type": "stream",
     "text": [
      "Attribution score for channel e1b1: -13.07\n",
      "\n",
      "Computing phi for channel f8f4...\n"
     ]
    },
    {
     "name": "stderr",
     "output_type": "stream",
     "text": [
      "100%|████████████████████████████████████████████████████| 2/2 [00:00<?, ?it/s]\n"
     ]
    },
    {
     "name": "stdout",
     "output_type": "stream",
     "text": [
      "Attribution score for channel f8f4: -15.22\n",
      "\n",
      "Computing phi for channel e2f2...\n"
     ]
    },
    {
     "name": "stderr",
     "output_type": "stream",
     "text": [
      "100%|███████████████████████████████████████| 28/28 [00:00<00:00, 28062.25it/s]\n"
     ]
    },
    {
     "name": "stdout",
     "output_type": "stream",
     "text": [
      "Attribution score for channel e2f2: -186.21\n",
      "\n",
      "Computing phi for channel e3b3...\n"
     ]
    },
    {
     "name": "stderr",
     "output_type": "stream",
     "text": [
      "100%|██████████████████████████████████████████| 1/1 [00:00<00:00, 1004.38it/s]\n"
     ]
    },
    {
     "name": "stdout",
     "output_type": "stream",
     "text": [
      "Attribution score for channel e3b3: -5.82\n",
      "\n",
      "Computing phi for channel h5h3...\n"
     ]
    },
    {
     "name": "stderr",
     "output_type": "stream",
     "text": [
      "100%|████████████████████████████████████████████████████| 1/1 [00:00<?, ?it/s]\n"
     ]
    },
    {
     "name": "stdout",
     "output_type": "stream",
     "text": [
      "Attribution score for channel h5h3: -9.56\n",
      "\n",
      "Computing phi for channel h5h4...\n"
     ]
    },
    {
     "name": "stderr",
     "output_type": "stream",
     "text": [
      "100%|████████████████████████████████████████████████████| 1/1 [00:00<?, ?it/s]\n"
     ]
    },
    {
     "name": "stdout",
     "output_type": "stream",
     "text": [
      "Attribution score for channel h5h4: -6.67\n",
      "\n",
      "Computing phi for channel e1a1...\n"
     ]
    },
    {
     "name": "stderr",
     "output_type": "stream",
     "text": [
      "100%|████████████████████████████████████████████████████| 3/3 [00:00<?, ?it/s]\n"
     ]
    },
    {
     "name": "stdout",
     "output_type": "stream",
     "text": [
      "Attribution score for channel e1a1: -19.19\n",
      "\n",
      "Computing phi for channel d0c2...\n"
     ]
    },
    {
     "name": "stderr",
     "output_type": "stream",
     "text": [
      "100%|██████████████████████████████████████████| 3/3 [00:00<00:00, 3146.51it/s]\n"
     ]
    },
    {
     "name": "stdout",
     "output_type": "stream",
     "text": [
      "Attribution score for channel d0c2: -18.78\n",
      "\n",
      "Computing phi for channel e0e1...\n"
     ]
    },
    {
     "name": "stderr",
     "output_type": "stream",
     "text": [
      "100%|████████████████████████████████████████████████| 413/413 [00:00<?, ?it/s]\n"
     ]
    },
    {
     "name": "stdout",
     "output_type": "stream",
     "text": [
      "Attribution score for channel e0e1: -3193.63\n",
      "\n",
      "Computing phi for channel c9d9...\n"
     ]
    },
    {
     "name": "stderr",
     "output_type": "stream",
     "text": [
      "100%|████████████████████████████████████████████████████| 1/1 [00:00<?, ?it/s]\n"
     ]
    },
    {
     "name": "stdout",
     "output_type": "stream",
     "text": [
      "Attribution score for channel c9d9: -9.09\n",
      "\n",
      "Computing phi for channel f1f7...\n"
     ]
    },
    {
     "name": "stderr",
     "output_type": "stream",
     "text": [
      "100%|██████████████████████████████████████████| 1/1 [00:00<00:00, 1002.94it/s]\n"
     ]
    },
    {
     "name": "stdout",
     "output_type": "stream",
     "text": [
      "Attribution score for channel f1f7: -7.30\n",
      "\n",
      "Computing phi for channel h3h5...\n"
     ]
    },
    {
     "name": "stderr",
     "output_type": "stream",
     "text": [
      "100%|████████████████████████████████████████████████████| 1/1 [00:00<?, ?it/s]\n"
     ]
    },
    {
     "name": "stdout",
     "output_type": "stream",
     "text": [
      "Attribution score for channel h3h5: -8.44\n",
      "\n",
      "Computing phi for channel g2g0...\n"
     ]
    },
    {
     "name": "stderr",
     "output_type": "stream",
     "text": [
      "100%|████████████████████████████████████████████████████| 4/4 [00:00<?, ?it/s]\n"
     ]
    },
    {
     "name": "stdout",
     "output_type": "stream",
     "text": [
      "Attribution score for channel g2g0: -29.61\n",
      "\n",
      "Computing phi for channel d7f7...\n"
     ]
    },
    {
     "name": "stderr",
     "output_type": "stream",
     "text": [
      "100%|████████████████████████████████████████████████████| 1/1 [00:00<?, ?it/s]\n"
     ]
    },
    {
     "name": "stdout",
     "output_type": "stream",
     "text": [
      "Attribution score for channel d7f7: -5.92\n",
      "\n",
      "Computing phi for channel c4a4...\n"
     ]
    },
    {
     "name": "stderr",
     "output_type": "stream",
     "text": [
      "100%|████████████████████████████████████████████████████| 6/6 [00:00<?, ?it/s]\n"
     ]
    },
    {
     "name": "stdout",
     "output_type": "stream",
     "text": [
      "Attribution score for channel c4a4: -33.34\n",
      "\n",
      "Computing phi for channel d7a7...\n"
     ]
    },
    {
     "name": "stderr",
     "output_type": "stream",
     "text": [
      "100%|████████████████████████████████████████████████████| 1/1 [00:00<?, ?it/s]\n"
     ]
    },
    {
     "name": "stdout",
     "output_type": "stream",
     "text": [
      "Attribution score for channel d7a7: -5.59\n",
      "\n",
      "Computing phi for channel c1f1...\n"
     ]
    },
    {
     "name": "stderr",
     "output_type": "stream",
     "text": [
      "100%|████████████████████████████████████████████████████| 2/2 [00:00<?, ?it/s]\n"
     ]
    },
    {
     "name": "stdout",
     "output_type": "stream",
     "text": [
      "Attribution score for channel c1f1: -17.89\n",
      "\n",
      "Computing phi for channel f8i8...\n"
     ]
    },
    {
     "name": "stderr",
     "output_type": "stream",
     "text": [
      "100%|████████████████████████████████████████████████████| 1/1 [00:00<?, ?it/s]\n"
     ]
    },
    {
     "name": "stdout",
     "output_type": "stream",
     "text": [
      "Attribution score for channel f8i8: -6.43\n",
      "\n",
      "Computing phi for channel b2b7...\n"
     ]
    },
    {
     "name": "stderr",
     "output_type": "stream",
     "text": [
      "100%|████████████████████████████████████████████████████| 8/8 [00:00<?, ?it/s]\n"
     ]
    },
    {
     "name": "stdout",
     "output_type": "stream",
     "text": [
      "Attribution score for channel b2b7: -42.54\n",
      "\n",
      "Computing phi for channel b7b6...\n"
     ]
    },
    {
     "name": "stderr",
     "output_type": "stream",
     "text": [
      "100%|██████████████████████████████████████████| 3/3 [00:00<00:00, 3008.83it/s]\n"
     ]
    },
    {
     "name": "stdout",
     "output_type": "stream",
     "text": [
      "Attribution score for channel b7b6: -10.46\n",
      "\n",
      "Computing phi for channel c2b4...\n"
     ]
    },
    {
     "name": "stderr",
     "output_type": "stream",
     "text": [
      "100%|████████████████████████████████████████████████████| 4/4 [00:00<?, ?it/s]\n"
     ]
    },
    {
     "name": "stdout",
     "output_type": "stream",
     "text": [
      "Attribution score for channel c2b4: -29.54\n",
      "\n",
      "Computing phi for channel f4f2...\n"
     ]
    },
    {
     "name": "stderr",
     "output_type": "stream",
     "text": [
      "100%|████████████████████████████████████████████████████| 2/2 [00:00<?, ?it/s]\n"
     ]
    },
    {
     "name": "stdout",
     "output_type": "stream",
     "text": [
      "Attribution score for channel f4f2: -13.06\n",
      "\n",
      "Computing phi for channel g0g2...\n"
     ]
    },
    {
     "name": "stderr",
     "output_type": "stream",
     "text": [
      "100%|████████████████████████████████████████████████████| 1/1 [00:00<?, ?it/s]\n"
     ]
    },
    {
     "name": "stdout",
     "output_type": "stream",
     "text": [
      "Attribution score for channel g0g2: -5.17\n",
      "\n",
      "Computing phi for channel c2c3...\n"
     ]
    },
    {
     "name": "stderr",
     "output_type": "stream",
     "text": [
      "100%|████████████████████████████████████████████████████| 1/1 [00:00<?, ?it/s]\n"
     ]
    },
    {
     "name": "stdout",
     "output_type": "stream",
     "text": [
      "Attribution score for channel c2c3: -6.39\n",
      "\n",
      "Computing phi for channel b5c5...\n"
     ]
    },
    {
     "name": "stderr",
     "output_type": "stream",
     "text": [
      "100%|████████████████████████████████████████████████████| 5/5 [00:00<?, ?it/s]\n"
     ]
    },
    {
     "name": "stdout",
     "output_type": "stream",
     "text": [
      "Attribution score for channel b5c5: -40.42\n",
      "\n",
      "Computing phi for channel d2g2...\n"
     ]
    },
    {
     "name": "stderr",
     "output_type": "stream",
     "text": [
      "100%|██████████████████████████████████████████| 5/5 [00:00<00:00, 5005.14it/s]\n"
     ]
    },
    {
     "name": "stdout",
     "output_type": "stream",
     "text": [
      "Attribution score for channel d2g2: -32.01\n",
      "\n",
      "Computing phi for channel a4e4...\n"
     ]
    },
    {
     "name": "stderr",
     "output_type": "stream",
     "text": [
      "100%|████████████████████████████████████████████████████| 1/1 [00:00<?, ?it/s]\n"
     ]
    },
    {
     "name": "stdout",
     "output_type": "stream",
     "text": [
      "Attribution score for channel a4e4: -5.83\n",
      "\n",
      "Computing phi for channel f7f1...\n"
     ]
    },
    {
     "name": "stderr",
     "output_type": "stream",
     "text": [
      "100%|████████████████████████████████████████████████████| 1/1 [00:00<?, ?it/s]\n"
     ]
    },
    {
     "name": "stdout",
     "output_type": "stream",
     "text": [
      "Attribution score for channel f7f1: -4.02\n",
      "\n",
      "Computing phi for channel c2a1...\n"
     ]
    },
    {
     "name": "stderr",
     "output_type": "stream",
     "text": [
      "100%|██████████████████████████████████████████████████| 14/14 [00:00<?, ?it/s]\n"
     ]
    },
    {
     "name": "stdout",
     "output_type": "stream",
     "text": [
      "Attribution score for channel c2a1: -83.39\n",
      "\n",
      "Computing phi for channel g5g6...\n"
     ]
    },
    {
     "name": "stderr",
     "output_type": "stream",
     "text": [
      "100%|████████████████████████████████████████████████████| 2/2 [00:00<?, ?it/s]\n"
     ]
    },
    {
     "name": "stdout",
     "output_type": "stream",
     "text": [
      "Attribution score for channel g5g6: -17.06\n",
      "\n",
      "Computing phi for channel a3e3...\n"
     ]
    },
    {
     "name": "stderr",
     "output_type": "stream",
     "text": [
      "100%|████████████████████████████████████████████████████| 1/1 [00:00<?, ?it/s]\n"
     ]
    },
    {
     "name": "stdout",
     "output_type": "stream",
     "text": [
      "Attribution score for channel a3e3: -5.00\n",
      "\n",
      "Computing phi for channel i4i5...\n"
     ]
    },
    {
     "name": "stderr",
     "output_type": "stream",
     "text": [
      "100%|██████████████████████████████████████████████████| 56/56 [00:00<?, ?it/s]\n"
     ]
    },
    {
     "name": "stdout",
     "output_type": "stream",
     "text": [
      "Attribution score for channel i4i5: -381.41\n",
      "\n",
      "Computing phi for channel f0e1...\n"
     ]
    },
    {
     "name": "stderr",
     "output_type": "stream",
     "text": [
      "100%|████████████████████████████████████████████████| 194/194 [00:00<?, ?it/s]\n"
     ]
    },
    {
     "name": "stdout",
     "output_type": "stream",
     "text": [
      "Attribution score for channel f0e1: -1151.61\n",
      "\n",
      "Computing phi for channel d1g1...\n"
     ]
    },
    {
     "name": "stderr",
     "output_type": "stream",
     "text": [
      "100%|████████████████████████████████████████████████████| 2/2 [00:00<?, ?it/s]\n"
     ]
    },
    {
     "name": "stdout",
     "output_type": "stream",
     "text": [
      "Attribution score for channel d1g1: -12.62\n",
      "\n",
      "Computing phi for channel f2f5...\n"
     ]
    },
    {
     "name": "stderr",
     "output_type": "stream",
     "text": [
      "100%|████████████████████████████████████████████████████| 7/7 [00:00<?, ?it/s]\n"
     ]
    },
    {
     "name": "stdout",
     "output_type": "stream",
     "text": [
      "Attribution score for channel f2f5: -51.96\n",
      "\n",
      "Computing phi for channel a0a1...\n"
     ]
    },
    {
     "name": "stderr",
     "output_type": "stream",
     "text": [
      "100%|████████████████████████████████████████████████| 268/268 [00:00<?, ?it/s]\n"
     ]
    },
    {
     "name": "stdout",
     "output_type": "stream",
     "text": [
      "Attribution score for channel a0a1: -1645.98\n",
      "\n",
      "Computing phi for channel b1c1...\n"
     ]
    },
    {
     "name": "stderr",
     "output_type": "stream",
     "text": [
      "100%|██████████████████████████████████████████| 4/4 [00:00<00:00, 4013.69it/s]\n"
     ]
    },
    {
     "name": "stdout",
     "output_type": "stream",
     "text": [
      "Attribution score for channel b1c1: -29.52\n",
      "\n",
      "Computing phi for channel i0h0...\n"
     ]
    },
    {
     "name": "stderr",
     "output_type": "stream",
     "text": [
      "100%|██████████████████████████████████████████████████| 10/10 [00:00<?, ?it/s]\n"
     ]
    },
    {
     "name": "stdout",
     "output_type": "stream",
     "text": [
      "Attribution score for channel i0h0: -51.34\n",
      "\n",
      "Computing phi for channel b5b3...\n"
     ]
    },
    {
     "name": "stderr",
     "output_type": "stream",
     "text": [
      "100%|██████████████████████████████████████████| 5/5 [00:00<00:00, 5011.12it/s]\n"
     ]
    },
    {
     "name": "stdout",
     "output_type": "stream",
     "text": [
      "Attribution score for channel b5b3: -39.70\n",
      "\n",
      "Computing phi for channel e4g4...\n"
     ]
    },
    {
     "name": "stderr",
     "output_type": "stream",
     "text": [
      "100%|████████████████████████████████████████████████████| 5/5 [00:00<?, ?it/s]\n"
     ]
    },
    {
     "name": "stdout",
     "output_type": "stream",
     "text": [
      "Attribution score for channel e4g4: -31.84\n",
      "\n",
      "Computing phi for channel g2c2...\n"
     ]
    },
    {
     "name": "stderr",
     "output_type": "stream",
     "text": [
      "100%|██████████████████████████████████████████████████| 11/11 [00:00<?, ?it/s]\n"
     ]
    },
    {
     "name": "stdout",
     "output_type": "stream",
     "text": [
      "Attribution score for channel g2c2: -86.57\n",
      "\n",
      "Computing phi for channel g2h0...\n"
     ]
    },
    {
     "name": "stderr",
     "output_type": "stream",
     "text": [
      "100%|██████████████████████████████████████████| 5/5 [00:00<00:00, 5011.12it/s]\n"
     ]
    },
    {
     "name": "stdout",
     "output_type": "stream",
     "text": [
      "Attribution score for channel g2h0: -27.82\n",
      "\n",
      "Computing phi for channel d1d2...\n"
     ]
    },
    {
     "name": "stderr",
     "output_type": "stream",
     "text": [
      "100%|██████████████████████████████████████████████████| 39/39 [00:00<?, ?it/s]\n"
     ]
    },
    {
     "name": "stdout",
     "output_type": "stream",
     "text": [
      "Attribution score for channel d1d2: -291.91\n",
      "\n",
      "Computing phi for channel h1h0...\n"
     ]
    },
    {
     "name": "stderr",
     "output_type": "stream",
     "text": [
      "100%|████████████████████████████████████████████████████| 1/1 [00:00<?, ?it/s]\n"
     ]
    },
    {
     "name": "stdout",
     "output_type": "stream",
     "text": [
      "Attribution score for channel h1h0: -9.50\n",
      "\n",
      "Computing phi for channel h5h8...\n"
     ]
    },
    {
     "name": "stderr",
     "output_type": "stream",
     "text": [
      "100%|████████████████████████████████████████████████████| 2/2 [00:00<?, ?it/s]\n"
     ]
    },
    {
     "name": "stdout",
     "output_type": "stream",
     "text": [
      "Attribution score for channel h5h8: -16.13\n",
      "\n",
      "Computing phi for channel g1e1...\n"
     ]
    },
    {
     "name": "stderr",
     "output_type": "stream",
     "text": [
      "100%|████████████████████████████████████████████████████| 1/1 [00:00<?, ?it/s]\n"
     ]
    },
    {
     "name": "stdout",
     "output_type": "stream",
     "text": [
      "Attribution score for channel g1e1: -6.29\n",
      "\n",
      "Computing phi for channel b1b3...\n"
     ]
    },
    {
     "name": "stderr",
     "output_type": "stream",
     "text": [
      "100%|██████████████████████████████████████████████████| 17/17 [00:00<?, ?it/s]\n"
     ]
    },
    {
     "name": "stdout",
     "output_type": "stream",
     "text": [
      "Attribution score for channel b1b3: -124.51\n",
      "\n",
      "Computing phi for channel h2h1...\n"
     ]
    },
    {
     "name": "stderr",
     "output_type": "stream",
     "text": [
      "100%|██████████████████████████████████████████████████| 23/23 [00:00<?, ?it/s]\n"
     ]
    },
    {
     "name": "stdout",
     "output_type": "stream",
     "text": [
      "Attribution score for channel h2h1: -209.38\n",
      "\n",
      "Computing phi for channel e1f1...\n"
     ]
    },
    {
     "name": "stderr",
     "output_type": "stream",
     "text": [
      "100%|████████████████████████████████████████████████| 171/171 [00:00<?, ?it/s]\n"
     ]
    },
    {
     "name": "stdout",
     "output_type": "stream",
     "text": [
      "Attribution score for channel e1f1: -1279.94\n",
      "\n",
      "Computing phi for channel e2e5...\n"
     ]
    },
    {
     "name": "stderr",
     "output_type": "stream",
     "text": [
      "100%|████████████████████████████████████████████████████| 1/1 [00:00<?, ?it/s]\n"
     ]
    },
    {
     "name": "stdout",
     "output_type": "stream",
     "text": [
      "Attribution score for channel e2e5: -5.92\n",
      "\n",
      "Computing phi for channel e6f6...\n"
     ]
    },
    {
     "name": "stderr",
     "output_type": "stream",
     "text": [
      "100%|████████████████████████████████████████████████████| 1/1 [00:00<?, ?it/s]\n"
     ]
    },
    {
     "name": "stdout",
     "output_type": "stream",
     "text": [
      "Attribution score for channel e6f6: -5.95\n",
      "\n",
      "Computing phi for channel h3i3...\n"
     ]
    },
    {
     "name": "stderr",
     "output_type": "stream",
     "text": [
      "100%|██████████████████████████████████████████| 1/1 [00:00<00:00, 1001.98it/s]\n"
     ]
    },
    {
     "name": "stdout",
     "output_type": "stream",
     "text": [
      "Attribution score for channel h3i3: -6.65\n",
      "\n",
      "Computing phi for channel h2h3...\n"
     ]
    },
    {
     "name": "stderr",
     "output_type": "stream",
     "text": [
      "100%|██████████████████████████████████████████████████| 34/34 [00:00<?, ?it/s]\n"
     ]
    },
    {
     "name": "stdout",
     "output_type": "stream",
     "text": [
      "Attribution score for channel h2h3: -257.67\n",
      "\n",
      "Computing phi for channel d3d5...\n"
     ]
    },
    {
     "name": "stderr",
     "output_type": "stream",
     "text": [
      "100%|████████████████████████████████████████████████████| 1/1 [00:00<?, ?it/s]\n"
     ]
    },
    {
     "name": "stdout",
     "output_type": "stream",
     "text": [
      "Attribution score for channel d3d5: -10.14\n",
      "\n",
      "Computing phi for channel f4f1...\n"
     ]
    },
    {
     "name": "stderr",
     "output_type": "stream",
     "text": [
      "100%|████████████████████████████████████████████████████| 6/6 [00:00<?, ?it/s]\n"
     ]
    },
    {
     "name": "stdout",
     "output_type": "stream",
     "text": [
      "Attribution score for channel f4f1: -36.86\n",
      "\n",
      "Computing phi for channel b4e4...\n"
     ]
    },
    {
     "name": "stderr",
     "output_type": "stream",
     "text": [
      "100%|██████████████████████████████████████████████████| 35/35 [00:00<?, ?it/s]\n"
     ]
    },
    {
     "name": "stdout",
     "output_type": "stream",
     "text": [
      "Attribution score for channel b4e4: -213.76\n",
      "\n",
      "Computing phi for channel c1a0...\n"
     ]
    },
    {
     "name": "stderr",
     "output_type": "stream",
     "text": [
      "100%|████████████████████████████████████████████████████| 1/1 [00:00<?, ?it/s]\n"
     ]
    },
    {
     "name": "stdout",
     "output_type": "stream",
     "text": [
      "Attribution score for channel c1a0: -4.35\n",
      "\n",
      "Computing phi for channel d0d2...\n"
     ]
    },
    {
     "name": "stderr",
     "output_type": "stream",
     "text": [
      "100%|████████████████████████████████████████████████████| 1/1 [00:00<?, ?it/s]\n"
     ]
    },
    {
     "name": "stdout",
     "output_type": "stream",
     "text": [
      "Attribution score for channel d0d2: -10.14\n",
      "\n",
      "Computing phi for channel c5d5...\n"
     ]
    },
    {
     "name": "stderr",
     "output_type": "stream",
     "text": [
      "100%|██████████████████████████████████████████| 3/3 [00:00<00:00, 3009.55it/s]\n"
     ]
    },
    {
     "name": "stdout",
     "output_type": "stream",
     "text": [
      "Attribution score for channel c5d5: -20.05\n",
      "\n",
      "Computing phi for channel b4c4...\n"
     ]
    },
    {
     "name": "stderr",
     "output_type": "stream",
     "text": [
      "100%|██████████████████████████████████████████████████| 10/10 [00:00<?, ?it/s]\n"
     ]
    },
    {
     "name": "stdout",
     "output_type": "stream",
     "text": [
      "Attribution score for channel b4c4: -71.04\n",
      "\n",
      "Computing phi for channel e6e8...\n"
     ]
    },
    {
     "name": "stderr",
     "output_type": "stream",
     "text": [
      "100%|████████████████████████████████████████████████████| 1/1 [00:00<?, ?it/s]\n"
     ]
    },
    {
     "name": "stdout",
     "output_type": "stream",
     "text": [
      "Attribution score for channel e6e8: -5.55\n",
      "\n",
      "Computing phi for channel h3h6...\n"
     ]
    },
    {
     "name": "stderr",
     "output_type": "stream",
     "text": [
      "100%|████████████████████████████████████████████████████| 5/5 [00:00<?, ?it/s]\n"
     ]
    },
    {
     "name": "stdout",
     "output_type": "stream",
     "text": [
      "Attribution score for channel h3h6: -44.94\n",
      "\n",
      "Computing phi for channel b3b7...\n"
     ]
    },
    {
     "name": "stderr",
     "output_type": "stream",
     "text": [
      "100%|████████████████████████████████████████████████████| 3/3 [00:00<?, ?it/s]\n"
     ]
    },
    {
     "name": "stdout",
     "output_type": "stream",
     "text": [
      "Attribution score for channel b3b7: -20.05\n",
      "\n",
      "Computing phi for channel d1d4...\n"
     ]
    },
    {
     "name": "stderr",
     "output_type": "stream",
     "text": [
      "100%|████████████████████████████████████████████████████| 2/2 [00:00<?, ?it/s]\n"
     ]
    },
    {
     "name": "stdout",
     "output_type": "stream",
     "text": [
      "Attribution score for channel d1d4: -13.21\n",
      "\n",
      "Computing phi for channel d5c5...\n"
     ]
    },
    {
     "name": "stderr",
     "output_type": "stream",
     "text": [
      "100%|████████████████████████████████████████████████████| 3/3 [00:00<?, ?it/s]\n"
     ]
    },
    {
     "name": "stdout",
     "output_type": "stream",
     "text": [
      "Attribution score for channel d5c5: -22.95\n",
      "\n",
      "Computing phi for channel d8b8...\n"
     ]
    },
    {
     "name": "stderr",
     "output_type": "stream",
     "text": [
      "100%|████████████████████████████████████████████████████| 1/1 [00:00<?, ?it/s]\n"
     ]
    },
    {
     "name": "stdout",
     "output_type": "stream",
     "text": [
      "Attribution score for channel d8b8: -6.51\n",
      "\n",
      "Computing phi for channel d2d6...\n"
     ]
    },
    {
     "name": "stderr",
     "output_type": "stream",
     "text": [
      "100%|██████████████████████████████████████████| 8/8 [00:00<00:00, 8023.54it/s]\n"
     ]
    },
    {
     "name": "stdout",
     "output_type": "stream",
     "text": [
      "Attribution score for channel d2d6: -45.45\n",
      "\n",
      "Computing phi for channel a1a3...\n"
     ]
    },
    {
     "name": "stderr",
     "output_type": "stream",
     "text": [
      "100%|██████████████████████████████████████████| 5/5 [00:00<00:00, 5011.12it/s]\n"
     ]
    },
    {
     "name": "stdout",
     "output_type": "stream",
     "text": [
      "Attribution score for channel a1a3: -32.18\n",
      "\n",
      "Computing phi for channel e5e4...\n"
     ]
    },
    {
     "name": "stderr",
     "output_type": "stream",
     "text": [
      "100%|██████████████████████████████████████████| 1/1 [00:00<00:00, 1001.27it/s]\n"
     ]
    },
    {
     "name": "stdout",
     "output_type": "stream",
     "text": [
      "Attribution score for channel e5e4: -7.98\n",
      "\n",
      "Computing phi for channel d6c6...\n"
     ]
    },
    {
     "name": "stderr",
     "output_type": "stream",
     "text": [
      "100%|████████████████████████████████████████████████████| 1/1 [00:00<?, ?it/s]\n"
     ]
    },
    {
     "name": "stdout",
     "output_type": "stream",
     "text": [
      "Attribution score for channel d6c6: -6.39\n",
      "\n",
      "Computing phi for channel b1b6...\n"
     ]
    },
    {
     "name": "stderr",
     "output_type": "stream",
     "text": [
      "100%|████████████████████████████████████████████████████| 3/3 [00:00<?, ?it/s]\n"
     ]
    },
    {
     "name": "stdout",
     "output_type": "stream",
     "text": [
      "Attribution score for channel b1b6: -25.52\n",
      "\n",
      "Computing phi for channel b2h2...\n"
     ]
    },
    {
     "name": "stderr",
     "output_type": "stream",
     "text": [
      "100%|██████████████████████████████████████████| 4/4 [00:00<00:00, 4012.73it/s]\n"
     ]
    },
    {
     "name": "stdout",
     "output_type": "stream",
     "text": [
      "Attribution score for channel b2h2: -31.14\n",
      "\n",
      "Computing phi for channel i1g1...\n"
     ]
    },
    {
     "name": "stderr",
     "output_type": "stream",
     "text": [
      "100%|████████████████████████████████████████████████████| 4/4 [00:00<?, ?it/s]\n"
     ]
    },
    {
     "name": "stdout",
     "output_type": "stream",
     "text": [
      "Attribution score for channel i1g1: -20.94\n",
      "\n",
      "Computing phi for channel b7b3...\n"
     ]
    },
    {
     "name": "stderr",
     "output_type": "stream",
     "text": [
      "100%|████████████████████████████████████████████████████| 1/1 [00:00<?, ?it/s]\n"
     ]
    },
    {
     "name": "stdout",
     "output_type": "stream",
     "text": [
      "Attribution score for channel b7b3: -9.79\n",
      "\n",
      "Computing phi for channel h4h9...\n"
     ]
    },
    {
     "name": "stderr",
     "output_type": "stream",
     "text": [
      "100%|██████████████████████████████████████████| 1/1 [00:00<00:00, 1002.70it/s]\n"
     ]
    },
    {
     "name": "stdout",
     "output_type": "stream",
     "text": [
      "Attribution score for channel h4h9: -8.06\n",
      "\n",
      "Computing phi for channel g4g7...\n"
     ]
    },
    {
     "name": "stderr",
     "output_type": "stream",
     "text": [
      "100%|████████████████████████████████████████████████████| 2/2 [00:00<?, ?it/s]\n"
     ]
    },
    {
     "name": "stdout",
     "output_type": "stream",
     "text": [
      "Attribution score for channel g4g7: -8.19\n",
      "\n",
      "Computing phi for channel f4c4...\n"
     ]
    },
    {
     "name": "stderr",
     "output_type": "stream",
     "text": [
      "100%|████████████████████████████████████████████████████| 5/5 [00:00<?, ?it/s]\n"
     ]
    },
    {
     "name": "stdout",
     "output_type": "stream",
     "text": [
      "Attribution score for channel f4c4: -30.09\n",
      "\n",
      "Computing phi for channel h4f4...\n"
     ]
    },
    {
     "name": "stderr",
     "output_type": "stream",
     "text": [
      "100%|██████████████████████████████████████████████████| 39/39 [00:00<?, ?it/s]\n"
     ]
    },
    {
     "name": "stdout",
     "output_type": "stream",
     "text": [
      "Attribution score for channel h4f4: -222.65\n",
      "\n",
      "Computing phi for channel d3d9...\n"
     ]
    },
    {
     "name": "stderr",
     "output_type": "stream",
     "text": [
      "100%|████████████████████████████████████████████████████| 1/1 [00:00<?, ?it/s]\n"
     ]
    },
    {
     "name": "stdout",
     "output_type": "stream",
     "text": [
      "Attribution score for channel d3d9: -8.64\n",
      "\n",
      "Computing phi for channel h2h8...\n"
     ]
    },
    {
     "name": "stderr",
     "output_type": "stream",
     "text": [
      "100%|██████████████████████████████████████████████████| 17/17 [00:00<?, ?it/s]\n"
     ]
    },
    {
     "name": "stdout",
     "output_type": "stream",
     "text": [
      "Attribution score for channel h2h8: -143.32\n",
      "\n",
      "Computing phi for channel e4e8...\n"
     ]
    },
    {
     "name": "stderr",
     "output_type": "stream",
     "text": [
      "100%|████████████████████████████████████████████████████| 1/1 [00:00<?, ?it/s]\n"
     ]
    },
    {
     "name": "stdout",
     "output_type": "stream",
     "text": [
      "Attribution score for channel e4e8: -8.73\n",
      "\n",
      "Computing phi for channel h4h5...\n"
     ]
    },
    {
     "name": "stderr",
     "output_type": "stream",
     "text": [
      "100%|████████████████████████████████████████████████████| 4/4 [00:00<?, ?it/s]\n"
     ]
    },
    {
     "name": "stdout",
     "output_type": "stream",
     "text": [
      "Attribution score for channel h4h5: -23.70\n",
      "\n",
      "Computing phi for channel d5d6...\n"
     ]
    },
    {
     "name": "stderr",
     "output_type": "stream",
     "text": [
      "100%|████████████████████████████████████████████████████| 1/1 [00:00<?, ?it/s]\n"
     ]
    },
    {
     "name": "stdout",
     "output_type": "stream",
     "text": [
      "Attribution score for channel d5d6: -6.39\n",
      "\n",
      "Computing phi for channel b2e2...\n"
     ]
    },
    {
     "name": "stderr",
     "output_type": "stream",
     "text": [
      "100%|██████████████████████████████████████████████████| 29/29 [00:00<?, ?it/s]\n"
     ]
    },
    {
     "name": "stdout",
     "output_type": "stream",
     "text": [
      "Attribution score for channel b2e2: -186.93\n",
      "\n",
      "Computing phi for channel g2f0...\n"
     ]
    },
    {
     "name": "stderr",
     "output_type": "stream",
     "text": [
      "100%|████████████████████████████████████████████████████| 6/6 [00:00<?, ?it/s]\n"
     ]
    },
    {
     "name": "stdout",
     "output_type": "stream",
     "text": [
      "Attribution score for channel g2f0: -37.10\n",
      "\n",
      "Computing phi for channel b1e1...\n"
     ]
    },
    {
     "name": "stderr",
     "output_type": "stream",
     "text": [
      "100%|████████████████████████████████████████████████████| 4/4 [00:00<?, ?it/s]\n"
     ]
    },
    {
     "name": "stdout",
     "output_type": "stream",
     "text": [
      "Attribution score for channel b1e1: -25.92\n",
      "\n",
      "Computing phi for channel f2f1...\n"
     ]
    },
    {
     "name": "stderr",
     "output_type": "stream",
     "text": [
      "100%|██████████████████████████████████████████████████| 17/17 [00:00<?, ?it/s]\n"
     ]
    },
    {
     "name": "stdout",
     "output_type": "stream",
     "text": [
      "Attribution score for channel f2f1: -115.09\n",
      "\n",
      "Computing phi for channel h6h3...\n"
     ]
    },
    {
     "name": "stderr",
     "output_type": "stream",
     "text": [
      "100%|████████████████████████████████████████████████████| 6/6 [00:00<?, ?it/s]\n"
     ]
    },
    {
     "name": "stdout",
     "output_type": "stream",
     "text": [
      "Attribution score for channel h6h3: -48.34\n",
      "\n",
      "Computing phi for channel a4b4...\n"
     ]
    },
    {
     "name": "stderr",
     "output_type": "stream",
     "text": [
      "100%|████████████████████████████████████████████████████| 1/1 [00:00<?, ?it/s]\n"
     ]
    },
    {
     "name": "stdout",
     "output_type": "stream",
     "text": [
      "Attribution score for channel a4b4: -8.57\n",
      "\n",
      "Computing phi for channel d2b2...\n"
     ]
    },
    {
     "name": "stderr",
     "output_type": "stream",
     "text": [
      "100%|██████████████████████████████████████████████████| 22/22 [00:00<?, ?it/s]\n"
     ]
    },
    {
     "name": "stdout",
     "output_type": "stream",
     "text": [
      "Attribution score for channel d2b2: -128.16\n",
      "\n",
      "Computing phi for channel g8h8...\n"
     ]
    },
    {
     "name": "stderr",
     "output_type": "stream",
     "text": [
      "100%|████████████████████████████████████████████████████| 1/1 [00:00<?, ?it/s]\n"
     ]
    },
    {
     "name": "stdout",
     "output_type": "stream",
     "text": [
      "Attribution score for channel g8h8: -8.74\n",
      "\n",
      "Computing phi for channel a5b5...\n"
     ]
    },
    {
     "name": "stderr",
     "output_type": "stream",
     "text": [
      "100%|████████████████████████████████████████████████████| 1/1 [00:00<?, ?it/s]\n"
     ]
    },
    {
     "name": "stdout",
     "output_type": "stream",
     "text": [
      "Attribution score for channel a5b5: -7.33\n",
      "\n",
      "Computing phi for channel d3d7...\n"
     ]
    },
    {
     "name": "stderr",
     "output_type": "stream",
     "text": [
      "100%|████████████████████████████████████████████████████| 1/1 [00:00<?, ?it/s]\n"
     ]
    },
    {
     "name": "stdout",
     "output_type": "stream",
     "text": [
      "Attribution score for channel d3d7: -5.59\n",
      "\n",
      "Computing phi for channel a1i1...\n"
     ]
    },
    {
     "name": "stderr",
     "output_type": "stream",
     "text": [
      "100%|████████████████████████████████████████████████████| 3/3 [00:00<?, ?it/s]\n"
     ]
    },
    {
     "name": "stdout",
     "output_type": "stream",
     "text": [
      "Attribution score for channel a1i1: -18.41\n",
      "\n",
      "Computing phi for channel g4g9...\n"
     ]
    },
    {
     "name": "stderr",
     "output_type": "stream",
     "text": [
      "100%|████████████████████████████████████████████████████| 1/1 [00:00<?, ?it/s]\n"
     ]
    },
    {
     "name": "stdout",
     "output_type": "stream",
     "text": [
      "Attribution score for channel g4g9: -7.01\n",
      "\n",
      "Computing phi for channel b5a5...\n"
     ]
    },
    {
     "name": "stderr",
     "output_type": "stream",
     "text": [
      "100%|██████████████████████████████████████████| 3/3 [00:00<00:00, 3005.23it/s]\n"
     ]
    },
    {
     "name": "stdout",
     "output_type": "stream",
     "text": [
      "Attribution score for channel b5a5: -25.05\n",
      "\n",
      "Computing phi for channel h6g6...\n"
     ]
    },
    {
     "name": "stderr",
     "output_type": "stream",
     "text": [
      "100%|████████████████████████████████████████████████████| 1/1 [00:00<?, ?it/s]\n"
     ]
    },
    {
     "name": "stdout",
     "output_type": "stream",
     "text": [
      "Attribution score for channel h6g6: -4.79\n",
      "\n",
      "Computing phi for channel b5b7...\n"
     ]
    },
    {
     "name": "stderr",
     "output_type": "stream",
     "text": [
      "100%|████████████████████████████████████████████████████| 1/1 [00:00<?, ?it/s]\n"
     ]
    },
    {
     "name": "stdout",
     "output_type": "stream",
     "text": [
      "Attribution score for channel b5b7: -10.28\n",
      "\n",
      "Computing phi for channel i3i1...\n"
     ]
    },
    {
     "name": "stderr",
     "output_type": "stream",
     "text": [
      "100%|██████████████████████████████████████████| 4/4 [00:00<00:00, 4015.61it/s]\n"
     ]
    },
    {
     "name": "stdout",
     "output_type": "stream",
     "text": [
      "Attribution score for channel i3i1: -24.52\n",
      "\n",
      "Computing phi for channel b6b0...\n"
     ]
    },
    {
     "name": "stderr",
     "output_type": "stream",
     "text": [
      "100%|██████████████████████████████████████████| 2/2 [00:00<00:00, 2004.93it/s]\n"
     ]
    },
    {
     "name": "stdout",
     "output_type": "stream",
     "text": [
      "Attribution score for channel b6b0: -12.81\n",
      "\n",
      "Computing phi for channel h7h4...\n"
     ]
    },
    {
     "name": "stderr",
     "output_type": "stream",
     "text": [
      "100%|████████████████████████████████████████████████████| 4/4 [00:00<?, ?it/s]\n"
     ]
    },
    {
     "name": "stdout",
     "output_type": "stream",
     "text": [
      "Attribution score for channel h7h4: -23.70\n",
      "\n",
      "Computing phi for channel f4f7...\n"
     ]
    },
    {
     "name": "stderr",
     "output_type": "stream",
     "text": [
      "100%|████████████████████████████████████████████████████| 1/1 [00:00<?, ?it/s]\n"
     ]
    },
    {
     "name": "stdout",
     "output_type": "stream",
     "text": [
      "Attribution score for channel f4f7: -12.60\n",
      "\n",
      "Computing phi for channel h2c2...\n"
     ]
    },
    {
     "name": "stderr",
     "output_type": "stream",
     "text": [
      "100%|██████████████████████████████████████████████████| 25/25 [00:00<?, ?it/s]\n"
     ]
    },
    {
     "name": "stdout",
     "output_type": "stream",
     "text": [
      "Attribution score for channel h2c2: -189.95\n",
      "\n",
      "Computing phi for channel f3f0...\n"
     ]
    },
    {
     "name": "stderr",
     "output_type": "stream",
     "text": [
      "100%|████████████████████████████████████████████████████| 1/1 [00:00<?, ?it/s]\n"
     ]
    },
    {
     "name": "stdout",
     "output_type": "stream",
     "text": [
      "Attribution score for channel f3f0: -9.21\n",
      "\n",
      "Computing phi for channel f1h1...\n"
     ]
    },
    {
     "name": "stderr",
     "output_type": "stream",
     "text": [
      "100%|████████████████████████████████████████████████████| 5/5 [00:00<?, ?it/s]\n"
     ]
    },
    {
     "name": "stdout",
     "output_type": "stream",
     "text": [
      "Attribution score for channel f1h1: -32.93\n",
      "\n",
      "Computing phi for channel c0a0...\n"
     ]
    },
    {
     "name": "stderr",
     "output_type": "stream",
     "text": [
      "100%|████████████████████████████████████████████████████| 1/1 [00:00<?, ?it/s]\n"
     ]
    },
    {
     "name": "stdout",
     "output_type": "stream",
     "text": [
      "Attribution score for channel c0a0: -5.65\n",
      "\n",
      "Computing phi for channel d2d9...\n"
     ]
    },
    {
     "name": "stderr",
     "output_type": "stream",
     "text": [
      "100%|████████████████████████████████████████████████████| 1/1 [00:00<?, ?it/s]\n"
     ]
    },
    {
     "name": "stdout",
     "output_type": "stream",
     "text": [
      "Attribution score for channel d2d9: -10.38\n",
      "\n",
      "Computing phi for channel g6c6...\n"
     ]
    },
    {
     "name": "stderr",
     "output_type": "stream",
     "text": [
      "100%|████████████████████████████████████████████████████| 2/2 [00:00<?, ?it/s]\n"
     ]
    },
    {
     "name": "stdout",
     "output_type": "stream",
     "text": [
      "Attribution score for channel g6c6: -10.94\n",
      "\n",
      "Computing phi for channel h0h1...\n"
     ]
    },
    {
     "name": "stderr",
     "output_type": "stream",
     "text": [
      "100%|████████████████████████████████████████████████████| 8/8 [00:00<?, ?it/s]\n"
     ]
    },
    {
     "name": "stdout",
     "output_type": "stream",
     "text": [
      "Attribution score for channel h0h1: -35.85\n",
      "\n",
      "Computing phi for channel e2a2...\n"
     ]
    },
    {
     "name": "stderr",
     "output_type": "stream",
     "text": [
      "100%|████████████████████████████████████████████████████| 1/1 [00:00<?, ?it/s]\n"
     ]
    },
    {
     "name": "stdout",
     "output_type": "stream",
     "text": [
      "Attribution score for channel e2a2: -8.71\n",
      "\n",
      "Computing phi for channel b4b0...\n"
     ]
    },
    {
     "name": "stderr",
     "output_type": "stream",
     "text": [
      "100%|████████████████████████████████████████████████████| 2/2 [00:00<?, ?it/s]\n"
     ]
    },
    {
     "name": "stdout",
     "output_type": "stream",
     "text": [
      "Attribution score for channel b4b0: -13.58\n",
      "\n",
      "Computing phi for channel d0e0...\n"
     ]
    },
    {
     "name": "stderr",
     "output_type": "stream",
     "text": [
      "100%|████████████████████████████████████████████████████| 9/9 [00:00<?, ?it/s]\n"
     ]
    },
    {
     "name": "stdout",
     "output_type": "stream",
     "text": [
      "Attribution score for channel d0e0: -64.74\n",
      "\n",
      "Computing phi for channel i2g0...\n"
     ]
    },
    {
     "name": "stderr",
     "output_type": "stream",
     "text": [
      "100%|██████████████████████████████████████████████████| 19/19 [00:00<?, ?it/s]\n"
     ]
    },
    {
     "name": "stdout",
     "output_type": "stream",
     "text": [
      "Attribution score for channel i2g0: -130.13\n",
      "\n",
      "Computing phi for channel f8f6...\n"
     ]
    },
    {
     "name": "stderr",
     "output_type": "stream",
     "text": [
      "100%|██████████████████████████████████████████| 2/2 [00:00<00:00, 2005.40it/s]\n"
     ]
    },
    {
     "name": "stdout",
     "output_type": "stream",
     "text": [
      "Attribution score for channel f8f6: -10.81\n",
      "\n",
      "Computing phi for channel b3b0...\n"
     ]
    },
    {
     "name": "stderr",
     "output_type": "stream",
     "text": [
      "100%|██████████████████████████████████████████████████| 15/15 [00:00<?, ?it/s]\n"
     ]
    },
    {
     "name": "stdout",
     "output_type": "stream",
     "text": [
      "Attribution score for channel b3b0: -87.91\n",
      "\n",
      "Computing phi for channel h2i2...\n"
     ]
    },
    {
     "name": "stderr",
     "output_type": "stream",
     "text": [
      "100%|███████████████████████████████████████| 22/22 [00:00<00:00, 22075.28it/s]\n"
     ]
    },
    {
     "name": "stdout",
     "output_type": "stream",
     "text": [
      "Attribution score for channel h2i2: -171.54\n",
      "\n",
      "Computing phi for channel i3i0...\n"
     ]
    },
    {
     "name": "stderr",
     "output_type": "stream",
     "text": [
      "100%|████████████████████████████████████████████████████| 5/5 [00:00<?, ?it/s]\n"
     ]
    },
    {
     "name": "stdout",
     "output_type": "stream",
     "text": [
      "Attribution score for channel i3i0: -30.82\n",
      "\n",
      "Computing phi for channel d3d0...\n"
     ]
    },
    {
     "name": "stderr",
     "output_type": "stream",
     "text": [
      "100%|██████████████████████████████████████████| 1/1 [00:00<00:00, 1002.46it/s]\n"
     ]
    },
    {
     "name": "stdout",
     "output_type": "stream",
     "text": [
      "Attribution score for channel d3d0: -6.35\n",
      "\n",
      "Computing phi for channel f2g2...\n"
     ]
    },
    {
     "name": "stderr",
     "output_type": "stream",
     "text": [
      "100%|██████████████████████████████████████████| 8/8 [00:00<00:00, 8019.70it/s]\n"
     ]
    },
    {
     "name": "stdout",
     "output_type": "stream",
     "text": [
      "Attribution score for channel f2g2: -52.01\n",
      "\n",
      "Computing phi for channel a1e1...\n"
     ]
    },
    {
     "name": "stderr",
     "output_type": "stream",
     "text": [
      "100%|████████████████████████████████████████████████████| 4/4 [00:00<?, ?it/s]\n"
     ]
    },
    {
     "name": "stdout",
     "output_type": "stream",
     "text": [
      "Attribution score for channel a1e1: -21.17\n",
      "\n",
      "Computing phi for channel c2g2...\n"
     ]
    },
    {
     "name": "stderr",
     "output_type": "stream",
     "text": [
      "100%|████████████████████████████████████████████████████| 4/4 [00:00<?, ?it/s]\n"
     ]
    },
    {
     "name": "stdout",
     "output_type": "stream",
     "text": [
      "Attribution score for channel c2g2: -29.55\n",
      "\n",
      "Computing phi for channel h8h2...\n"
     ]
    },
    {
     "name": "stderr",
     "output_type": "stream",
     "text": [
      "100%|████████████████████████████████████████████████████| 1/1 [00:00<?, ?it/s]\n"
     ]
    },
    {
     "name": "stdout",
     "output_type": "stream",
     "text": [
      "Attribution score for channel h8h2: -9.68\n",
      "\n",
      "Computing phi for channel a2h2...\n"
     ]
    },
    {
     "name": "stderr",
     "output_type": "stream",
     "text": [
      "100%|████████████████████████████████████████████████████| 5/5 [00:00<?, ?it/s]\n"
     ]
    },
    {
     "name": "stdout",
     "output_type": "stream",
     "text": [
      "Attribution score for channel a2h2: -37.48\n",
      "\n",
      "Computing phi for channel g6g9...\n"
     ]
    },
    {
     "name": "stderr",
     "output_type": "stream",
     "text": [
      "100%|████████████████████████████████████████████████████| 1/1 [00:00<?, ?it/s]\n"
     ]
    },
    {
     "name": "stdout",
     "output_type": "stream",
     "text": [
      "Attribution score for channel g6g9: -6.24\n",
      "\n",
      "Computing phi for channel i2e2...\n"
     ]
    },
    {
     "name": "stderr",
     "output_type": "stream",
     "text": [
      "100%|████████████████████████████████████████████████████| 3/3 [00:00<?, ?it/s]\n"
     ]
    },
    {
     "name": "stdout",
     "output_type": "stream",
     "text": [
      "Attribution score for channel i2e2: -17.75\n",
      "\n",
      "Computing phi for channel e4e2...\n"
     ]
    },
    {
     "name": "stderr",
     "output_type": "stream",
     "text": [
      "100%|████████████████████████████████████████████████████| 1/1 [00:00<?, ?it/s]\n"
     ]
    },
    {
     "name": "stdout",
     "output_type": "stream",
     "text": [
      "Attribution score for channel e4e2: -6.03\n",
      "\n",
      "Computing phi for channel h4h0...\n"
     ]
    },
    {
     "name": "stderr",
     "output_type": "stream",
     "text": [
      "100%|████████████████████████████████████████████████████| 4/4 [00:00<?, ?it/s]\n"
     ]
    },
    {
     "name": "stdout",
     "output_type": "stream",
     "text": [
      "Attribution score for channel h4h0: -33.89\n",
      "\n",
      "Computing phi for channel e4d4...\n"
     ]
    },
    {
     "name": "stderr",
     "output_type": "stream",
     "text": [
      "100%|████████████████████████████████████████████████████| 2/2 [00:00<?, ?it/s]\n"
     ]
    },
    {
     "name": "stdout",
     "output_type": "stream",
     "text": [
      "Attribution score for channel e4d4: -12.39\n",
      "\n",
      "Computing phi for channel c2b0...\n"
     ]
    },
    {
     "name": "stderr",
     "output_type": "stream",
     "text": [
      "100%|██████████████████████████████████████████████████| 63/63 [00:00<?, ?it/s]\n"
     ]
    },
    {
     "name": "stdout",
     "output_type": "stream",
     "text": [
      "Attribution score for channel c2b0: -375.83\n",
      "\n",
      "Computing phi for channel b6b8...\n"
     ]
    },
    {
     "name": "stderr",
     "output_type": "stream",
     "text": [
      "100%|████████████████████████████████████████████████████| 1/1 [00:00<?, ?it/s]\n"
     ]
    },
    {
     "name": "stdout",
     "output_type": "stream",
     "text": [
      "Attribution score for channel b6b8: -5.28\n",
      "\n",
      "Computing phi for channel h3h1...\n"
     ]
    },
    {
     "name": "stderr",
     "output_type": "stream",
     "text": [
      "100%|████████████████████████████████████████████████████| 3/3 [00:00<?, ?it/s]\n"
     ]
    },
    {
     "name": "stdout",
     "output_type": "stream",
     "text": [
      "Attribution score for channel h3h1: -17.81\n",
      "\n",
      "Computing phi for channel g2i3...\n"
     ]
    },
    {
     "name": "stderr",
     "output_type": "stream",
     "text": [
      "100%|████████████████████████████████████████████████████| 1/1 [00:00<?, ?it/s]\n"
     ]
    },
    {
     "name": "stdout",
     "output_type": "stream",
     "text": [
      "Attribution score for channel g2i3: -5.66\n",
      "\n",
      "Computing phi for channel d1b2...\n"
     ]
    },
    {
     "name": "stderr",
     "output_type": "stream",
     "text": [
      "100%|████████████████████████████████████████████████████| 5/5 [00:00<?, ?it/s]\n"
     ]
    },
    {
     "name": "stdout",
     "output_type": "stream",
     "text": [
      "Attribution score for channel d1b2: -31.66\n",
      "\n",
      "Computing phi for channel f8d8...\n"
     ]
    },
    {
     "name": "stderr",
     "output_type": "stream",
     "text": [
      "100%|████████████████████████████████████████████████████| 1/1 [00:00<?, ?it/s]\n"
     ]
    },
    {
     "name": "stdout",
     "output_type": "stream",
     "text": [
      "Attribution score for channel f8d8: -8.63\n",
      "\n",
      "Computing phi for channel i0i3...\n"
     ]
    },
    {
     "name": "stderr",
     "output_type": "stream",
     "text": [
      "100%|███████████████████████████████████████| 19/19 [00:00<00:00, 19046.79it/s]\n"
     ]
    },
    {
     "name": "stdout",
     "output_type": "stream",
     "text": [
      "Attribution score for channel i0i3: -115.03\n",
      "\n",
      "Computing phi for channel a2c2...\n"
     ]
    },
    {
     "name": "stderr",
     "output_type": "stream",
     "text": [
      "100%|██████████████████████████████████████████████████| 12/12 [00:00<?, ?it/s]\n"
     ]
    },
    {
     "name": "stdout",
     "output_type": "stream",
     "text": [
      "Attribution score for channel a2c2: -78.86\n",
      "\n",
      "Computing phi for channel f0f2...\n"
     ]
    },
    {
     "name": "stderr",
     "output_type": "stream",
     "text": [
      "100%|████████████████████████████████████████████████████| 1/1 [00:00<?, ?it/s]\n"
     ]
    },
    {
     "name": "stdout",
     "output_type": "stream",
     "text": [
      "Attribution score for channel f0f2: -11.35\n",
      "\n",
      "Computing phi for channel g1c1...\n"
     ]
    },
    {
     "name": "stderr",
     "output_type": "stream",
     "text": [
      "100%|████████████████████████████████████████████████████| 2/2 [00:00<?, ?it/s]\n"
     ]
    },
    {
     "name": "stdout",
     "output_type": "stream",
     "text": [
      "Attribution score for channel g1c1: -12.96\n",
      "\n",
      "Computing phi for channel f1a1...\n"
     ]
    },
    {
     "name": "stderr",
     "output_type": "stream",
     "text": [
      "100%|██████████████████████████████████████████| 1/1 [00:00<00:00, 1003.66it/s]\n"
     ]
    },
    {
     "name": "stdout",
     "output_type": "stream",
     "text": [
      "Attribution score for channel f1a1: -6.98\n",
      "\n",
      "Computing phi for channel e2e0...\n"
     ]
    },
    {
     "name": "stderr",
     "output_type": "stream",
     "text": [
      "100%|██████████████████████████████████████████| 2/2 [00:00<00:00, 2006.84it/s]\n"
     ]
    },
    {
     "name": "stdout",
     "output_type": "stream",
     "text": [
      "Attribution score for channel e2e0: -19.30\n",
      "\n",
      "Computing phi for channel i2i3...\n"
     ]
    },
    {
     "name": "stderr",
     "output_type": "stream",
     "text": [
      "100%|████████████████████████████████████████████████████| 1/1 [00:00<?, ?it/s]\n"
     ]
    },
    {
     "name": "stdout",
     "output_type": "stream",
     "text": [
      "Attribution score for channel i2i3: -6.77\n",
      "\n",
      "Computing phi for channel d6d5...\n"
     ]
    },
    {
     "name": "stderr",
     "output_type": "stream",
     "text": [
      "100%|████████████████████████████████████████████████████| 1/1 [00:00<?, ?it/s]\n"
     ]
    },
    {
     "name": "stdout",
     "output_type": "stream",
     "text": [
      "Attribution score for channel d6d5: -8.15\n",
      "\n",
      "Computing phi for channel f2f3...\n"
     ]
    },
    {
     "name": "stderr",
     "output_type": "stream",
     "text": [
      "100%|████████████████████████████████████████████████████| 9/9 [00:00<?, ?it/s]\n"
     ]
    },
    {
     "name": "stdout",
     "output_type": "stream",
     "text": [
      "Attribution score for channel f2f3: -54.22\n",
      "\n",
      "Computing phi for channel b0c2...\n"
     ]
    },
    {
     "name": "stderr",
     "output_type": "stream",
     "text": [
      "100%|████████████████████████████████████████████████| 153/153 [00:00<?, ?it/s]\n"
     ]
    },
    {
     "name": "stdout",
     "output_type": "stream",
     "text": [
      "Attribution score for channel b0c2: -995.41\n",
      "\n",
      "Computing phi for channel i0i4...\n"
     ]
    },
    {
     "name": "stderr",
     "output_type": "stream",
     "text": [
      "100%|████████████████████████████████████████████████████| 1/1 [00:00<?, ?it/s]\n"
     ]
    },
    {
     "name": "stdout",
     "output_type": "stream",
     "text": [
      "Attribution score for channel i0i4: -5.49\n",
      "\n",
      "Computing phi for channel i2g1...\n"
     ]
    },
    {
     "name": "stderr",
     "output_type": "stream",
     "text": [
      "100%|████████████████████████████████████████████████████| 9/9 [00:00<?, ?it/s]\n"
     ]
    },
    {
     "name": "stdout",
     "output_type": "stream",
     "text": [
      "Attribution score for channel i2g1: -50.59\n",
      "\n",
      "Computing phi for channel e1d2...\n"
     ]
    },
    {
     "name": "stderr",
     "output_type": "stream",
     "text": [
      "100%|██████████████████████████████████████████████████| 22/22 [00:00<?, ?it/s]\n"
     ]
    },
    {
     "name": "stdout",
     "output_type": "stream",
     "text": [
      "Attribution score for channel e1d2: -143.59\n",
      "\n",
      "Computing phi for channel c5c9...\n"
     ]
    },
    {
     "name": "stderr",
     "output_type": "stream",
     "text": [
      "100%|████████████████████████████████████████████████████| 3/3 [00:00<?, ?it/s]\n"
     ]
    },
    {
     "name": "stdout",
     "output_type": "stream",
     "text": [
      "Attribution score for channel c5c9: -24.86\n",
      "\n",
      "Computing phi for channel h8h0...\n"
     ]
    },
    {
     "name": "stderr",
     "output_type": "stream",
     "text": [
      "100%|████████████████████████████████████████████████████| 1/1 [00:00<?, ?it/s]\n"
     ]
    },
    {
     "name": "stdout",
     "output_type": "stream",
     "text": [
      "Attribution score for channel h8h0: -6.69\n",
      "\n",
      "Computing phi for channel c6i6...\n"
     ]
    },
    {
     "name": "stderr",
     "output_type": "stream",
     "text": [
      "100%|████████████████████████████████████████████████████| 1/1 [00:00<?, ?it/s]\n"
     ]
    },
    {
     "name": "stdout",
     "output_type": "stream",
     "text": [
      "Attribution score for channel c6i6: -9.54\n",
      "\n",
      "Computing phi for channel f2h2...\n"
     ]
    },
    {
     "name": "stderr",
     "output_type": "stream",
     "text": [
      "100%|████████████████████████████████████████████████████| 3/3 [00:00<?, ?it/s]\n"
     ]
    },
    {
     "name": "stdout",
     "output_type": "stream",
     "text": [
      "Attribution score for channel f2h2: -21.68\n",
      "\n",
      "Computing phi for channel f2b2...\n"
     ]
    },
    {
     "name": "stderr",
     "output_type": "stream",
     "text": [
      "100%|████████████████████████████████████████████████████| 4/4 [00:00<?, ?it/s]\n"
     ]
    },
    {
     "name": "stdout",
     "output_type": "stream",
     "text": [
      "Attribution score for channel f2b2: -27.57\n",
      "\n",
      "Computing phi for channel b5b2...\n"
     ]
    },
    {
     "name": "stderr",
     "output_type": "stream",
     "text": [
      "100%|████████████████████████████████████████████████████| 1/1 [00:00<?, ?it/s]\n"
     ]
    },
    {
     "name": "stdout",
     "output_type": "stream",
     "text": [
      "Attribution score for channel b5b2: -5.86\n",
      "\n",
      "Computing phi for channel f4e4...\n"
     ]
    },
    {
     "name": "stderr",
     "output_type": "stream",
     "text": [
      "100%|████████████████████████████████████████████████████| 4/4 [00:00<?, ?it/s]\n"
     ]
    },
    {
     "name": "stdout",
     "output_type": "stream",
     "text": [
      "Attribution score for channel f4e4: -30.34\n",
      "\n",
      "Computing phi for channel e2e3...\n"
     ]
    },
    {
     "name": "stderr",
     "output_type": "stream",
     "text": [
      "100%|████████████████████████████████████████████████████| 4/4 [00:00<?, ?it/s]\n"
     ]
    },
    {
     "name": "stdout",
     "output_type": "stream",
     "text": [
      "Attribution score for channel e2e3: -30.61\n",
      "\n",
      "Computing phi for channel d6d8...\n"
     ]
    },
    {
     "name": "stderr",
     "output_type": "stream",
     "text": [
      "100%|████████████████████████████████████████████████████| 1/1 [00:00<?, ?it/s]\n"
     ]
    },
    {
     "name": "stdout",
     "output_type": "stream",
     "text": [
      "Attribution score for channel d6d8: -6.91\n",
      "\n",
      "Computing phi for channel a2f2...\n"
     ]
    },
    {
     "name": "stderr",
     "output_type": "stream",
     "text": [
      "100%|████████████████████████████████████████████████████| 8/8 [00:00<?, ?it/s]\n"
     ]
    },
    {
     "name": "stdout",
     "output_type": "stream",
     "text": [
      "Attribution score for channel a2f2: -54.51\n",
      "\n",
      "Computing phi for channel h6h7...\n"
     ]
    },
    {
     "name": "stderr",
     "output_type": "stream",
     "text": [
      "100%|████████████████████████████████████████████████████| 2/2 [00:00<?, ?it/s]\n"
     ]
    },
    {
     "name": "stdout",
     "output_type": "stream",
     "text": [
      "Attribution score for channel h6h7: -21.70\n",
      "\n",
      "Computing phi for channel f4f0...\n"
     ]
    },
    {
     "name": "stderr",
     "output_type": "stream",
     "text": [
      "100%|████████████████████████████████████████████████████| 1/1 [00:00<?, ?it/s]\n"
     ]
    },
    {
     "name": "stdout",
     "output_type": "stream",
     "text": [
      "Attribution score for channel f4f0: -7.00\n",
      "\n",
      "Computing phi for channel a2a3...\n"
     ]
    },
    {
     "name": "stderr",
     "output_type": "stream",
     "text": [
      "100%|████████████████████████████████████████████████████| 1/1 [00:00<?, ?it/s]\n"
     ]
    },
    {
     "name": "stdout",
     "output_type": "stream",
     "text": [
      "Attribution score for channel a2a3: -7.73\n",
      "\n",
      "Computing phi for channel f1b1...\n"
     ]
    },
    {
     "name": "stderr",
     "output_type": "stream",
     "text": [
      "100%|██████████████████████████████████████████| 2/2 [00:00<00:00, 3971.88it/s]\n"
     ]
    },
    {
     "name": "stdout",
     "output_type": "stream",
     "text": [
      "Attribution score for channel f1b1: -11.49\n",
      "\n",
      "Computing phi for channel b6b2...\n"
     ]
    },
    {
     "name": "stderr",
     "output_type": "stream",
     "text": [
      "100%|████████████████████████████████████████████████████| 1/1 [00:00<?, ?it/s]\n"
     ]
    },
    {
     "name": "stdout",
     "output_type": "stream",
     "text": [
      "Attribution score for channel b6b2: -6.89\n",
      "\n",
      "Computing phi for channel a2b4...\n"
     ]
    },
    {
     "name": "stderr",
     "output_type": "stream",
     "text": [
      "100%|████████████████████████████████████████████████████| 6/6 [00:00<?, ?it/s]\n"
     ]
    },
    {
     "name": "stdout",
     "output_type": "stream",
     "text": [
      "Attribution score for channel a2b4: -42.52\n",
      "\n",
      "Computing phi for channel b2b4...\n"
     ]
    },
    {
     "name": "stderr",
     "output_type": "stream",
     "text": [
      "100%|████████████████████████████████████████████████| 370/370 [00:00<?, ?it/s]\n"
     ]
    },
    {
     "name": "stdout",
     "output_type": "stream",
     "text": [
      "Attribution score for channel b2b4: -2527.31\n",
      "\n",
      "Computing phi for channel c2a2...\n"
     ]
    },
    {
     "name": "stderr",
     "output_type": "stream",
     "text": [
      "100%|████████████████████████████████████████████████████| 3/3 [00:00<?, ?it/s]\n"
     ]
    },
    {
     "name": "stdout",
     "output_type": "stream",
     "text": [
      "Attribution score for channel c2a2: -18.12\n",
      "\n",
      "Computing phi for channel c3c4...\n"
     ]
    },
    {
     "name": "stderr",
     "output_type": "stream",
     "text": [
      "100%|███████████████████████████████████████| 92/92 [00:00<00:00, 46124.31it/s]\n"
     ]
    },
    {
     "name": "stdout",
     "output_type": "stream",
     "text": [
      "Attribution score for channel c3c4: -720.75\n",
      "\n",
      "Computing phi for channel g2e3...\n"
     ]
    },
    {
     "name": "stderr",
     "output_type": "stream",
     "text": [
      "100%|████████████████████████████████████████████████████| 2/2 [00:00<?, ?it/s]\n"
     ]
    },
    {
     "name": "stdout",
     "output_type": "stream",
     "text": [
      "Attribution score for channel g2e3: -12.24\n",
      "\n",
      "Computing phi for channel h4i4...\n"
     ]
    },
    {
     "name": "stderr",
     "output_type": "stream",
     "text": [
      "100%|████████████████████████████████████████████████████| 1/1 [00:00<?, ?it/s]\n"
     ]
    },
    {
     "name": "stdout",
     "output_type": "stream",
     "text": [
      "Attribution score for channel h4i4: -8.29\n",
      "\n",
      "Computing phi for channel b2b6...\n"
     ]
    },
    {
     "name": "stderr",
     "output_type": "stream",
     "text": [
      "100%|██████████████████████████████████████████████████| 36/36 [00:00<?, ?it/s]\n"
     ]
    },
    {
     "name": "stdout",
     "output_type": "stream",
     "text": [
      "Attribution score for channel b2b6: -257.85\n",
      "\n",
      "Computing phi for channel d2i2...\n"
     ]
    },
    {
     "name": "stderr",
     "output_type": "stream",
     "text": [
      "100%|████████████████████████████████████████████████████| 3/3 [00:00<?, ?it/s]\n"
     ]
    },
    {
     "name": "stdout",
     "output_type": "stream",
     "text": [
      "Attribution score for channel d2i2: -18.45\n",
      "\n",
      "Computing phi for channel h8h3...\n"
     ]
    },
    {
     "name": "stderr",
     "output_type": "stream",
     "text": [
      "100%|████████████████████████████████████████████████████| 1/1 [00:00<?, ?it/s]\n"
     ]
    },
    {
     "name": "stdout",
     "output_type": "stream",
     "text": [
      "Attribution score for channel h8h3: -8.00\n",
      "\n",
      "Computing phi for channel b7b2...\n"
     ]
    },
    {
     "name": "stderr",
     "output_type": "stream",
     "text": [
      "100%|████████████████████████████████████████████████████| 2/2 [00:00<?, ?it/s]\n"
     ]
    },
    {
     "name": "stdout",
     "output_type": "stream",
     "text": [
      "Attribution score for channel b7b2: -15.96\n",
      "\n",
      "Computing phi for channel i2h0...\n"
     ]
    },
    {
     "name": "stderr",
     "output_type": "stream",
     "text": [
      "100%|██████████████████████████████████████████| 3/3 [00:00<00:00, 3009.55it/s]\n"
     ]
    },
    {
     "name": "stdout",
     "output_type": "stream",
     "text": [
      "Attribution score for channel i2h0: -20.47\n",
      "\n",
      "Computing phi for channel e2g4...\n"
     ]
    },
    {
     "name": "stderr",
     "output_type": "stream",
     "text": [
      "100%|██████████████████████████████████████████████████| 11/11 [00:00<?, ?it/s]\n"
     ]
    },
    {
     "name": "stdout",
     "output_type": "stream",
     "text": [
      "Attribution score for channel e2g4: -67.28\n",
      "\n",
      "Computing phi for channel d2d3...\n"
     ]
    },
    {
     "name": "stderr",
     "output_type": "stream",
     "text": [
      "100%|████████████████████████████████████████████████████| 6/6 [00:00<?, ?it/s]\n"
     ]
    },
    {
     "name": "stdout",
     "output_type": "stream",
     "text": [
      "Attribution score for channel d2d3: -43.54\n",
      "\n",
      "Computing phi for channel f0e2...\n"
     ]
    },
    {
     "name": "stderr",
     "output_type": "stream",
     "text": [
      "100%|████████████████████████████████████████████████████| 1/1 [00:00<?, ?it/s]\n"
     ]
    },
    {
     "name": "stdout",
     "output_type": "stream",
     "text": [
      "Attribution score for channel f0e2: -6.05\n",
      "\n",
      "Computing phi for channel e4b4...\n"
     ]
    },
    {
     "name": "stderr",
     "output_type": "stream",
     "text": [
      "100%|████████████████████████████████████████████████████| 1/1 [00:00<?, ?it/s]\n"
     ]
    },
    {
     "name": "stdout",
     "output_type": "stream",
     "text": [
      "Attribution score for channel e4b4: -6.20\n",
      "\n",
      "Computing phi for channel h5c5...\n"
     ]
    },
    {
     "name": "stderr",
     "output_type": "stream",
     "text": [
      "100%|████████████████████████████████████████████████████| 4/4 [00:00<?, ?it/s]\n"
     ]
    },
    {
     "name": "stdout",
     "output_type": "stream",
     "text": [
      "Attribution score for channel h5c5: -31.30\n",
      "\n",
      "Computing phi for channel h0f1...\n"
     ]
    },
    {
     "name": "stderr",
     "output_type": "stream",
     "text": [
      "100%|████████████████████████████████████████████████████| 8/8 [00:00<?, ?it/s]\n"
     ]
    },
    {
     "name": "stdout",
     "output_type": "stream",
     "text": [
      "Attribution score for channel h0f1: -44.96\n",
      "\n",
      "Computing phi for channel c0a2...\n"
     ]
    },
    {
     "name": "stderr",
     "output_type": "stream",
     "text": [
      "100%|████████████████████████████████████████████████| 182/182 [00:00<?, ?it/s]\n"
     ]
    },
    {
     "name": "stdout",
     "output_type": "stream",
     "text": [
      "Attribution score for channel c0a2: -1305.73\n",
      "\n",
      "Computing phi for channel h1g1...\n"
     ]
    },
    {
     "name": "stderr",
     "output_type": "stream",
     "text": [
      "100%|████████████████████████████████████████████████████| 2/2 [00:00<?, ?it/s]\n"
     ]
    },
    {
     "name": "stdout",
     "output_type": "stream",
     "text": [
      "Attribution score for channel h1g1: -12.85\n",
      "\n",
      "Computing phi for channel g4a4...\n"
     ]
    },
    {
     "name": "stderr",
     "output_type": "stream",
     "text": [
      "100%|████████████████████████████████████████████████████| 1/1 [00:00<?, ?it/s]\n"
     ]
    },
    {
     "name": "stdout",
     "output_type": "stream",
     "text": [
      "Attribution score for channel g4a4: -5.07\n",
      "\n",
      "Computing phi for channel e3c3...\n"
     ]
    },
    {
     "name": "stderr",
     "output_type": "stream",
     "text": [
      "100%|████████████████████████████████████████████████████| 1/1 [00:00<?, ?it/s]\n"
     ]
    },
    {
     "name": "stdout",
     "output_type": "stream",
     "text": [
      "Attribution score for channel e3c3: -6.91\n",
      "\n",
      "Computing phi for channel i0i1...\n"
     ]
    },
    {
     "name": "stderr",
     "output_type": "stream",
     "text": [
      "100%|██████████████████████████████████████████████████| 23/23 [00:00<?, ?it/s]\n"
     ]
    },
    {
     "name": "stdout",
     "output_type": "stream",
     "text": [
      "Attribution score for channel i0i1: -148.68\n",
      "\n",
      "Computing phi for channel e1d0...\n"
     ]
    },
    {
     "name": "stderr",
     "output_type": "stream",
     "text": [
      "100%|██████████████████████████████████████████████████| 16/16 [00:00<?, ?it/s]\n"
     ]
    },
    {
     "name": "stdout",
     "output_type": "stream",
     "text": [
      "Attribution score for channel e1d0: -114.72\n",
      "\n",
      "Computing phi for channel c9c5...\n"
     ]
    },
    {
     "name": "stderr",
     "output_type": "stream",
     "text": [
      "100%|██████████████████████████████████████████| 1/1 [00:00<00:00, 1001.98it/s]\n"
     ]
    },
    {
     "name": "stdout",
     "output_type": "stream",
     "text": [
      "Attribution score for channel c9c5: -6.09\n",
      "\n",
      "Computing phi for channel f0i0...\n"
     ]
    },
    {
     "name": "stderr",
     "output_type": "stream",
     "text": [
      "100%|████████████████████████████████████████████████████| 2/2 [00:00<?, ?it/s]\n"
     ]
    },
    {
     "name": "stdout",
     "output_type": "stream",
     "text": [
      "Attribution score for channel f0i0: -10.35\n",
      "\n",
      "Computing phi for channel b6b7...\n"
     ]
    },
    {
     "name": "stderr",
     "output_type": "stream",
     "text": [
      "100%|██████████████████████████████████████████| 4/4 [00:00<00:00, 4012.73it/s]\n"
     ]
    },
    {
     "name": "stdout",
     "output_type": "stream",
     "text": [
      "Attribution score for channel b6b7: -29.89\n",
      "\n",
      "Computing phi for channel e2b2...\n"
     ]
    },
    {
     "name": "stderr",
     "output_type": "stream",
     "text": [
      "100%|████████████████████████████████████████████████████| 8/8 [00:00<?, ?it/s]\n"
     ]
    },
    {
     "name": "stdout",
     "output_type": "stream",
     "text": [
      "Attribution score for channel e2b2: -41.45\n",
      "\n",
      "Computing phi for channel b5b8...\n"
     ]
    },
    {
     "name": "stderr",
     "output_type": "stream",
     "text": [
      "100%|████████████████████████████████████████████████████| 1/1 [00:00<?, ?it/s]\n"
     ]
    },
    {
     "name": "stdout",
     "output_type": "stream",
     "text": [
      "Attribution score for channel b5b8: -6.29\n",
      "\n",
      "Computing phi for channel f2d2...\n"
     ]
    },
    {
     "name": "stderr",
     "output_type": "stream",
     "text": [
      "100%|████████████████████████████████████████████████████| 7/7 [00:00<?, ?it/s]\n"
     ]
    },
    {
     "name": "stdout",
     "output_type": "stream",
     "text": [
      "Attribution score for channel f2d2: -52.57\n",
      "\n",
      "Computing phi for channel d0d1...\n"
     ]
    },
    {
     "name": "stderr",
     "output_type": "stream",
     "text": [
      "100%|██████████████████████████████████████████████████| 18/18 [00:00<?, ?it/s]\n"
     ]
    },
    {
     "name": "stdout",
     "output_type": "stream",
     "text": [
      "Attribution score for channel d0d1: -110.81\n",
      "\n",
      "Computing phi for channel d8h8...\n"
     ]
    },
    {
     "name": "stderr",
     "output_type": "stream",
     "text": [
      "100%|████████████████████████████████████████████████████| 1/1 [00:00<?, ?it/s]\n"
     ]
    },
    {
     "name": "stdout",
     "output_type": "stream",
     "text": [
      "Attribution score for channel d8h8: -8.63\n",
      "\n",
      "Computing phi for channel e1g2...\n"
     ]
    },
    {
     "name": "stderr",
     "output_type": "stream",
     "text": [
      "100%|████████████████████████████████████████████████████| 1/1 [00:00<?, ?it/s]\n"
     ]
    },
    {
     "name": "stdout",
     "output_type": "stream",
     "text": [
      "Attribution score for channel e1g2: -5.83\n",
      "\n",
      "Computing phi for channel i5h5...\n"
     ]
    },
    {
     "name": "stderr",
     "output_type": "stream",
     "text": [
      "100%|████████████████████████████████████████████████████| 1/1 [00:00<?, ?it/s]\n"
     ]
    },
    {
     "name": "stdout",
     "output_type": "stream",
     "text": [
      "Attribution score for channel i5h5: -9.36\n",
      "\n",
      "Computing phi for channel e5f5...\n"
     ]
    },
    {
     "name": "stderr",
     "output_type": "stream",
     "text": [
      "100%|████████████████████████████████████████████████████| 1/1 [00:00<?, ?it/s]\n"
     ]
    },
    {
     "name": "stdout",
     "output_type": "stream",
     "text": [
      "Attribution score for channel e5f5: -9.25\n",
      "\n",
      "Computing phi for channel c2d0...\n"
     ]
    },
    {
     "name": "stderr",
     "output_type": "stream",
     "text": [
      "100%|██████████████████████████████████████████| 6/6 [00:00<00:00, 6011.90it/s]\n"
     ]
    },
    {
     "name": "stdout",
     "output_type": "stream",
     "text": [
      "Attribution score for channel c2d0: -40.44\n",
      "\n",
      "Computing phi for channel a2c1...\n"
     ]
    },
    {
     "name": "stderr",
     "output_type": "stream",
     "text": [
      "100%|███████████████████████████████████████| 13/13 [00:00<00:00, 13032.02it/s]\n"
     ]
    },
    {
     "name": "stdout",
     "output_type": "stream",
     "text": [
      "Attribution score for channel a2c1: -82.94\n",
      "\n",
      "Computing phi for channel d5d2...\n"
     ]
    },
    {
     "name": "stderr",
     "output_type": "stream",
     "text": [
      "100%|████████████████████████████████████████████████████| 1/1 [00:00<?, ?it/s]\n"
     ]
    },
    {
     "name": "stdout",
     "output_type": "stream",
     "text": [
      "Attribution score for channel d5d2: -6.86\n",
      "\n",
      "Computing phi for channel i2i0...\n"
     ]
    },
    {
     "name": "stderr",
     "output_type": "stream",
     "text": [
      "100%|██████████████████████████████████████████████████| 13/13 [00:00<?, ?it/s]\n"
     ]
    },
    {
     "name": "stdout",
     "output_type": "stream",
     "text": [
      "Attribution score for channel i2i0: -90.15\n",
      "\n",
      "Computing phi for channel b4b2...\n"
     ]
    },
    {
     "name": "stderr",
     "output_type": "stream",
     "text": [
      "100%|████████████████████████████████████████████████████| 1/1 [00:00<?, ?it/s]\n"
     ]
    },
    {
     "name": "stdout",
     "output_type": "stream",
     "text": [
      "Attribution score for channel b4b2: -4.88\n",
      "\n",
      "Computing phi for channel i0i2...\n"
     ]
    },
    {
     "name": "stderr",
     "output_type": "stream",
     "text": [
      "100%|██████████████████████████████████████████████████| 82/82 [00:00<?, ?it/s]\n"
     ]
    },
    {
     "name": "stdout",
     "output_type": "stream",
     "text": [
      "Attribution score for channel i0i2: -483.64\n",
      "\n",
      "Computing phi for channel c4c5...\n"
     ]
    },
    {
     "name": "stderr",
     "output_type": "stream",
     "text": [
      "100%|██████████████████████████████████████████████████| 25/25 [00:00<?, ?it/s]\n"
     ]
    },
    {
     "name": "stdout",
     "output_type": "stream",
     "text": [
      "Attribution score for channel c4c5: -187.41\n",
      "\n",
      "Computing phi for channel a1d1...\n"
     ]
    },
    {
     "name": "stderr",
     "output_type": "stream",
     "text": [
      "100%|██████████████████████████████████████████████████| 27/27 [00:00<?, ?it/s]\n"
     ]
    },
    {
     "name": "stdout",
     "output_type": "stream",
     "text": [
      "Attribution score for channel a1d1: -178.82\n",
      "\n",
      "Computing phi for channel h4h3...\n"
     ]
    },
    {
     "name": "stderr",
     "output_type": "stream",
     "text": [
      "100%|████████████████████████████████████████████████████| 3/3 [00:00<?, ?it/s]\n"
     ]
    },
    {
     "name": "stdout",
     "output_type": "stream",
     "text": [
      "Attribution score for channel h4h3: -15.81\n",
      "\n",
      "Computing phi for channel i1i0...\n"
     ]
    },
    {
     "name": "stderr",
     "output_type": "stream",
     "text": [
      "100%|████████████████████████████████████████████████████| 6/6 [00:00<?, ?it/s]\n"
     ]
    },
    {
     "name": "stdout",
     "output_type": "stream",
     "text": [
      "Attribution score for channel i1i0: -45.03\n",
      "\n",
      "Computing phi for channel b4i4...\n"
     ]
    },
    {
     "name": "stderr",
     "output_type": "stream",
     "text": [
      "100%|██████████████████████████████████████████| 3/3 [00:00<00:00, 5957.82it/s]\n"
     ]
    },
    {
     "name": "stdout",
     "output_type": "stream",
     "text": [
      "Attribution score for channel b4i4: -21.56\n",
      "\n",
      "Computing phi for channel b4f4...\n"
     ]
    },
    {
     "name": "stderr",
     "output_type": "stream",
     "text": [
      "100%|████████████████████████████████████████████████████| 1/1 [00:00<?, ?it/s]\n"
     ]
    },
    {
     "name": "stdout",
     "output_type": "stream",
     "text": [
      "Attribution score for channel b4f4: -9.21\n",
      "\n",
      "Computing phi for channel d4d8...\n"
     ]
    },
    {
     "name": "stderr",
     "output_type": "stream",
     "text": [
      "100%|████████████████████████████████████████████████████| 1/1 [00:00<?, ?it/s]\n"
     ]
    },
    {
     "name": "stdout",
     "output_type": "stream",
     "text": [
      "Attribution score for channel d4d8: -6.51\n",
      "\n",
      "Computing phi for channel f8e8...\n"
     ]
    },
    {
     "name": "stderr",
     "output_type": "stream",
     "text": [
      "100%|████████████████████████████████████████████████████| 1/1 [00:00<?, ?it/s]\n"
     ]
    },
    {
     "name": "stdout",
     "output_type": "stream",
     "text": [
      "Attribution score for channel f8e8: -6.32\n",
      "\n",
      "Computing phi for channel e4e5...\n"
     ]
    },
    {
     "name": "stderr",
     "output_type": "stream",
     "text": [
      "100%|██████████████████████████████████████████████████| 48/48 [00:00<?, ?it/s]\n"
     ]
    },
    {
     "name": "stdout",
     "output_type": "stream",
     "text": [
      "Attribution score for channel e4e5: -319.58\n",
      "\n",
      "Computing phi for channel i2g4...\n"
     ]
    },
    {
     "name": "stderr",
     "output_type": "stream",
     "text": [
      "100%|██████████████████████████████████████████████████| 12/12 [00:00<?, ?it/s]\n"
     ]
    },
    {
     "name": "stdout",
     "output_type": "stream",
     "text": [
      "Attribution score for channel i2g4: -86.39\n",
      "\n",
      "Computing phi for channel c0c2...\n"
     ]
    },
    {
     "name": "stderr",
     "output_type": "stream",
     "text": [
      "100%|████████████████████████████████████████████████████| 1/1 [00:00<?, ?it/s]\n"
     ]
    },
    {
     "name": "stdout",
     "output_type": "stream",
     "text": [
      "Attribution score for channel c0c2: -6.67\n",
      "\n",
      "Computing phi for channel f4f3...\n"
     ]
    },
    {
     "name": "stderr",
     "output_type": "stream",
     "text": [
      "100%|██████████████████████████████████████████| 4/4 [00:00<00:00, 4008.89it/s]\n"
     ]
    },
    {
     "name": "stdout",
     "output_type": "stream",
     "text": [
      "Attribution score for channel f4f3: -28.12\n",
      "\n",
      "Computing phi for channel c6b6...\n"
     ]
    },
    {
     "name": "stderr",
     "output_type": "stream",
     "text": [
      "100%|████████████████████████████████████████████████████| 3/3 [00:00<?, ?it/s]\n"
     ]
    },
    {
     "name": "stdout",
     "output_type": "stream",
     "text": [
      "Attribution score for channel c6b6: -21.29\n",
      "\n",
      "Computing phi for channel e4f4...\n"
     ]
    },
    {
     "name": "stderr",
     "output_type": "stream",
     "text": [
      "100%|████████████████████████████████████████████████████| 5/5 [00:00<?, ?it/s]\n"
     ]
    },
    {
     "name": "stdout",
     "output_type": "stream",
     "text": [
      "Attribution score for channel e4f4: -30.70\n",
      "\n",
      "Computing phi for channel e1i1...\n"
     ]
    },
    {
     "name": "stderr",
     "output_type": "stream",
     "text": [
      "100%|████████████████████████████████████████████████████| 3/3 [00:00<?, ?it/s]\n"
     ]
    },
    {
     "name": "stdout",
     "output_type": "stream",
     "text": [
      "Attribution score for channel e1i1: -18.10\n",
      "\n",
      "Computing phi for channel b6b4...\n"
     ]
    },
    {
     "name": "stderr",
     "output_type": "stream",
     "text": [
      "100%|████████████████████████████████████████████████████| 8/8 [00:00<?, ?it/s]\n"
     ]
    },
    {
     "name": "stdout",
     "output_type": "stream",
     "text": [
      "Attribution score for channel b6b4: -56.48\n",
      "\n",
      "Computing phi for channel c4c9...\n"
     ]
    },
    {
     "name": "stderr",
     "output_type": "stream",
     "text": [
      "100%|████████████████████████████████████████████████████| 9/9 [00:00<?, ?it/s]\n"
     ]
    },
    {
     "name": "stdout",
     "output_type": "stream",
     "text": [
      "Attribution score for channel c4c9: -54.75\n",
      "\n",
      "Computing phi for channel d1b1...\n"
     ]
    },
    {
     "name": "stderr",
     "output_type": "stream",
     "text": [
      "100%|██████████████████████████████████████████████████| 10/10 [00:00<?, ?it/s]\n"
     ]
    },
    {
     "name": "stdout",
     "output_type": "stream",
     "text": [
      "Attribution score for channel d1b1: -64.64\n",
      "\n",
      "Computing phi for channel c1b1...\n"
     ]
    },
    {
     "name": "stderr",
     "output_type": "stream",
     "text": [
      "100%|████████████████████████████████████████████████████| 7/7 [00:00<?, ?it/s]\n"
     ]
    },
    {
     "name": "stdout",
     "output_type": "stream",
     "text": [
      "Attribution score for channel c1b1: -39.68\n",
      "\n",
      "Computing phi for channel a1b1...\n"
     ]
    },
    {
     "name": "stderr",
     "output_type": "stream",
     "text": [
      "100%|██████████████████████████████████████████████████| 21/21 [00:00<?, ?it/s]\n"
     ]
    },
    {
     "name": "stdout",
     "output_type": "stream",
     "text": [
      "Attribution score for channel a1b1: -156.95\n",
      "\n",
      "Computing phi for channel f1i1...\n"
     ]
    },
    {
     "name": "stderr",
     "output_type": "stream",
     "text": [
      "100%|████████████████████████████████████████████████████| 2/2 [00:00<?, ?it/s]\n"
     ]
    },
    {
     "name": "stdout",
     "output_type": "stream",
     "text": [
      "Attribution score for channel f1i1: -9.34\n",
      "\n",
      "Computing phi for channel d8d3...\n"
     ]
    },
    {
     "name": "stderr",
     "output_type": "stream",
     "text": [
      "100%|████████████████████████████████████████████████████| 1/1 [00:00<?, ?it/s]\n"
     ]
    },
    {
     "name": "stdout",
     "output_type": "stream",
     "text": [
      "Attribution score for channel d8d3: -6.91\n",
      "\n",
      "Computing phi for channel b3b5...\n"
     ]
    },
    {
     "name": "stderr",
     "output_type": "stream",
     "text": [
      "100%|████████████████████████████████████████████████████| 7/7 [00:00<?, ?it/s]\n"
     ]
    },
    {
     "name": "stdout",
     "output_type": "stream",
     "text": [
      "Attribution score for channel b3b5: -44.06\n",
      "\n",
      "Computing phi for channel b6b9...\n"
     ]
    },
    {
     "name": "stderr",
     "output_type": "stream",
     "text": [
      "100%|████████████████████████████████████████████████████| 4/4 [00:00<?, ?it/s]\n"
     ]
    },
    {
     "name": "stdout",
     "output_type": "stream",
     "text": [
      "Attribution score for channel b6b9: -28.02\n",
      "\n",
      "Computing phi for channel d4d2...\n"
     ]
    },
    {
     "name": "stderr",
     "output_type": "stream",
     "text": [
      "100%|████████████████████████████████████████████████████| 1/1 [00:00<?, ?it/s]\n"
     ]
    },
    {
     "name": "stdout",
     "output_type": "stream",
     "text": [
      "Attribution score for channel d4d2: -3.82\n",
      "\n",
      "Computing phi for channel g4f4...\n"
     ]
    },
    {
     "name": "stderr",
     "output_type": "stream",
     "text": [
      "100%|████████████████████████████████████████████████████| 5/5 [00:00<?, ?it/s]\n"
     ]
    },
    {
     "name": "stdout",
     "output_type": "stream",
     "text": [
      "Attribution score for channel g4f4: -30.79\n",
      "\n",
      "Computing phi for channel b2b8...\n"
     ]
    },
    {
     "name": "stderr",
     "output_type": "stream",
     "text": [
      "100%|████████████████████████████████████████████████████| 1/1 [00:00<?, ?it/s]\n"
     ]
    },
    {
     "name": "stdout",
     "output_type": "stream",
     "text": [
      "Attribution score for channel b2b8: -10.69\n",
      "\n",
      "Computing phi for channel d2d4...\n"
     ]
    },
    {
     "name": "stderr",
     "output_type": "stream",
     "text": [
      "100%|████████████████████████████████████████████████████| 5/5 [00:00<?, ?it/s]\n"
     ]
    },
    {
     "name": "stdout",
     "output_type": "stream",
     "text": [
      "Attribution score for channel d2d4: -34.04\n",
      "\n",
      "Computing phi for channel h2h9...\n"
     ]
    },
    {
     "name": "stderr",
     "output_type": "stream",
     "text": [
      "100%|████████████████████████████████████████████████████| 6/6 [00:00<?, ?it/s]\n"
     ]
    },
    {
     "name": "stdout",
     "output_type": "stream",
     "text": [
      "Attribution score for channel h2h9: -38.99\n",
      "\n",
      "Computing phi for channel g0i2...\n"
     ]
    },
    {
     "name": "stderr",
     "output_type": "stream",
     "text": [
      "100%|████████████████████████████████████████████████| 110/110 [00:00<?, ?it/s]\n"
     ]
    },
    {
     "name": "stdout",
     "output_type": "stream",
     "text": [
      "Attribution score for channel g0i2: -748.48\n",
      "\n",
      "Computing phi for channel f1f6...\n"
     ]
    },
    {
     "name": "stderr",
     "output_type": "stream",
     "text": [
      "100%|████████████████████████████████████████████████████| 4/4 [00:00<?, ?it/s]\n"
     ]
    },
    {
     "name": "stdout",
     "output_type": "stream",
     "text": [
      "Attribution score for channel f1f6: -23.16\n",
      "\n",
      "Computing phi for channel f1e1...\n"
     ]
    },
    {
     "name": "stderr",
     "output_type": "stream",
     "text": [
      "100%|██████████████████████████████████████████████████| 34/34 [00:00<?, ?it/s]\n"
     ]
    },
    {
     "name": "stdout",
     "output_type": "stream",
     "text": [
      "Attribution score for channel f1e1: -248.67\n",
      "\n",
      "Computing phi for channel b5i5...\n"
     ]
    },
    {
     "name": "stderr",
     "output_type": "stream",
     "text": [
      "100%|████████████████████████████████████████████████████| 2/2 [00:00<?, ?it/s]\n"
     ]
    },
    {
     "name": "stdout",
     "output_type": "stream",
     "text": [
      "Attribution score for channel b5i5: -12.44\n",
      "\n",
      "Computing phi for channel c1b3...\n"
     ]
    },
    {
     "name": "stderr",
     "output_type": "stream",
     "text": [
      "100%|████████████████████████████████████████████████████| 1/1 [00:00<?, ?it/s]\n"
     ]
    },
    {
     "name": "stdout",
     "output_type": "stream",
     "text": [
      "Attribution score for channel c1b3: -7.25\n",
      "\n",
      "Computing phi for channel b0b2...\n"
     ]
    },
    {
     "name": "stderr",
     "output_type": "stream",
     "text": [
      "100%|██████████████████████████████████████████| 1/1 [00:00<00:00, 1002.94it/s]\n"
     ]
    },
    {
     "name": "stdout",
     "output_type": "stream",
     "text": [
      "Attribution score for channel b0b2: -7.77\n",
      "\n",
      "Computing phi for channel f0a0...\n"
     ]
    },
    {
     "name": "stderr",
     "output_type": "stream",
     "text": [
      "100%|██████████████████████████████████████████| 1/1 [00:00<00:00, 1004.38it/s]\n"
     ]
    },
    {
     "name": "stdout",
     "output_type": "stream",
     "text": [
      "Attribution score for channel f0a0: -9.21\n",
      "\n",
      "Computing phi for channel d7h7...\n"
     ]
    },
    {
     "name": "stderr",
     "output_type": "stream",
     "text": [
      "100%|████████████████████████████████████████████████████| 1/1 [00:00<?, ?it/s]\n"
     ]
    },
    {
     "name": "stdout",
     "output_type": "stream",
     "text": [
      "Attribution score for channel d7h7: -10.01\n",
      "\n",
      "Computing phi for channel g1g2...\n"
     ]
    },
    {
     "name": "stderr",
     "output_type": "stream",
     "text": [
      "100%|████████████████████████████████████████████████████| 5/5 [00:00<?, ?it/s]\n"
     ]
    },
    {
     "name": "stdout",
     "output_type": "stream",
     "text": [
      "Attribution score for channel g1g2: -30.71\n",
      "\n",
      "Computing phi for channel d5e7...\n"
     ]
    },
    {
     "name": "stderr",
     "output_type": "stream",
     "text": [
      "100%|██████████████████████████████████████████| 2/2 [00:00<00:00, 2005.88it/s]\n"
     ]
    },
    {
     "name": "stdout",
     "output_type": "stream",
     "text": [
      "Attribution score for channel d5e7: -14.81\n",
      "\n",
      "Computing phi for channel a0a5...\n"
     ]
    },
    {
     "name": "stderr",
     "output_type": "stream",
     "text": [
      "100%|████████████████████████████████████████████████████| 1/1 [00:00<?, ?it/s]\n"
     ]
    },
    {
     "name": "stdout",
     "output_type": "stream",
     "text": [
      "Attribution score for channel a0a5: -8.30\n",
      "\n",
      "Computing phi for channel e0e6...\n"
     ]
    },
    {
     "name": "stderr",
     "output_type": "stream",
     "text": [
      "100%|████████████████████████████████████████████████████| 1/1 [00:00<?, ?it/s]\n"
     ]
    },
    {
     "name": "stdout",
     "output_type": "stream",
     "text": [
      "Attribution score for channel e0e6: -7.95\n",
      "\n",
      "Computing phi for channel d6d3...\n"
     ]
    },
    {
     "name": "stderr",
     "output_type": "stream",
     "text": [
      "100%|████████████████████████████████████████████████████| 1/1 [00:00<?, ?it/s]\n"
     ]
    },
    {
     "name": "stdout",
     "output_type": "stream",
     "text": [
      "Attribution score for channel d6d3: -7.60\n",
      "\n",
      "Computing phi for channel c6d6...\n"
     ]
    },
    {
     "name": "stderr",
     "output_type": "stream",
     "text": [
      "100%|██████████████████████████████████████████| 1/1 [00:00<00:00, 1003.18it/s]\n"
     ]
    },
    {
     "name": "stdout",
     "output_type": "stream",
     "text": [
      "Attribution score for channel c6d6: -6.39\n",
      "\n",
      "Computing phi for channel a2a5...\n"
     ]
    },
    {
     "name": "stderr",
     "output_type": "stream",
     "text": [
      "100%|████████████████████████████████████████████████████| 1/1 [00:00<?, ?it/s]\n"
     ]
    },
    {
     "name": "stdout",
     "output_type": "stream",
     "text": [
      "Attribution score for channel a2a5: -8.14\n",
      "\n",
      "Computing phi for channel b4d3...\n"
     ]
    },
    {
     "name": "stderr",
     "output_type": "stream",
     "text": [
      "100%|████████████████████████████████████████████████████| 1/1 [00:00<?, ?it/s]\n"
     ]
    },
    {
     "name": "stdout",
     "output_type": "stream",
     "text": [
      "Attribution score for channel b4d3: -9.14\n",
      "\n",
      "Computing phi for channel d3f2...\n"
     ]
    },
    {
     "name": "stderr",
     "output_type": "stream",
     "text": [
      "100%|████████████████████████████████████████████████████| 1/1 [00:00<?, ?it/s]\n"
     ]
    },
    {
     "name": "stdout",
     "output_type": "stream",
     "text": [
      "Attribution score for channel d3f2: -9.14\n",
      "\n",
      "Computing phi for channel d2d0...\n"
     ]
    },
    {
     "name": "stderr",
     "output_type": "stream",
     "text": [
      "100%|████████████████████████████████████████████████████| 1/1 [00:00<?, ?it/s]\n"
     ]
    },
    {
     "name": "stdout",
     "output_type": "stream",
     "text": [
      "Attribution score for channel d2d0: -5.72\n",
      "\n",
      "Computing phi for channel d1d0...\n"
     ]
    },
    {
     "name": "stderr",
     "output_type": "stream",
     "text": [
      "100%|██████████████████████████████████████████████████| 19/19 [00:00<?, ?it/s]\n"
     ]
    },
    {
     "name": "stdout",
     "output_type": "stream",
     "text": [
      "Attribution score for channel d1d0: -138.23\n",
      "\n",
      "Computing phi for channel b4b6...\n"
     ]
    },
    {
     "name": "stderr",
     "output_type": "stream",
     "text": [
      "100%|██████████████████████████████████████████████████| 58/58 [00:00<?, ?it/s]\n"
     ]
    },
    {
     "name": "stdout",
     "output_type": "stream",
     "text": [
      "Attribution score for channel b4b6: -343.84\n",
      "\n",
      "Computing phi for channel e2e6...\n"
     ]
    },
    {
     "name": "stderr",
     "output_type": "stream",
     "text": [
      "100%|██████████████████████████████████████████████████| 12/12 [00:00<?, ?it/s]\n"
     ]
    },
    {
     "name": "stdout",
     "output_type": "stream",
     "text": [
      "Attribution score for channel e2e6: -87.67\n",
      "\n",
      "Computing phi for channel b8b2...\n"
     ]
    },
    {
     "name": "stderr",
     "output_type": "stream",
     "text": [
      "100%|████████████████████████████████████████████████████| 1/1 [00:00<?, ?it/s]\n"
     ]
    },
    {
     "name": "stdout",
     "output_type": "stream",
     "text": [
      "Attribution score for channel b8b2: -5.28\n",
      "\n",
      "Computing phi for channel f7e7...\n"
     ]
    },
    {
     "name": "stderr",
     "output_type": "stream",
     "text": [
      "100%|████████████████████████████████████████████████████| 1/1 [00:00<?, ?it/s]\n"
     ]
    },
    {
     "name": "stdout",
     "output_type": "stream",
     "text": [
      "Attribution score for channel f7e7: -5.92\n",
      "\n",
      "Computing phi for channel e1f0...\n"
     ]
    },
    {
     "name": "stderr",
     "output_type": "stream",
     "text": [
      "100%|████████████████████████████████████████████████████| 9/9 [00:00<?, ?it/s]"
     ]
    },
    {
     "name": "stdout",
     "output_type": "stream",
     "text": [
      "Attribution score for channel e1f0: -48.15\n",
      "\n"
     ]
    },
    {
     "name": "stderr",
     "output_type": "stream",
     "text": [
      "\n"
     ]
    }
   ],
   "source": [
    "model = SimplifiedShapleyAttributionModel()\n",
    "result = model.attribute(data3)"
   ]
  },
  {
   "cell_type": "code",
   "execution_count": 65,
   "id": "3cd1738a",
   "metadata": {},
   "outputs": [
    {
     "name": "stdout",
     "output_type": "stream",
     "text": [
      "Action 'f7f0': -9.34\n",
      "Action 'h0h4': -15.86\n",
      "Action 'g6h6': -11.21\n",
      "Action 'd2f2': -45.74\n",
      "Action 'a2a1': -115.29\n",
      "Action 'f1f8': -10.69\n",
      "Action 'g2e2': -149.75\n",
      "Action 'd2e1': -26.40\n",
      "Action 'e1e0': -655.08\n",
      "Action 'b5h5': -4.88\n",
      "Action 'i0g0': -38.69\n",
      "Action 'f2e2': -135.61\n",
      "Action 'g2h4': -23.71\n",
      "Action 'b2b3': -462.83\n",
      "Action 'e6d6': -6.61\n",
      "Action 'c2f2': -76.89\n",
      "Action 'd3g3': -3.82\n",
      "Action 'b6b5': -6.72\n",
      "Action 'h0h2': -14.84\n",
      "Action 'c1a1': -26.59\n",
      "Action 'd2a2': -56.49\n",
      "Action 'd1e1': -102.42\n",
      "Action 'b2b5': -217.20\n",
      "Action 'e7c6': -8.73\n",
      "Action 'h5b5': -8.56\n",
      "Action 'h5h2': -80.23\n",
      "Action 'a2a0': -120.16\n",
      "Action 'h2a2': -32.82\n",
      "Action 'h5h7': -10.79\n",
      "Action 'e1g1': -11.84\n",
      "Action 'h0i0': -15.82\n",
      "Action 'f6f0': -14.63\n",
      "Action 'd2c2': -37.42\n",
      "Action 'h5i5': -103.62\n",
      "Action 'c1g1': -13.42\n",
      "Action 'h1e1': -14.39\n",
      "Action 'b1b7': -8.05\n",
      "Action 'c2a3': -2.82\n",
      "Action 'a4c4': -21.50\n",
      "Action 'b4b3': -67.28\n",
      "Action 'b0b1': -36.41\n",
      "Action 'c1a2': -9.00\n",
      "Action 'd4d5': -5.96\n",
      "Action 'f2c2': -72.02\n",
      "Action 'h8h6': -23.59\n",
      "Action 'd4d6': -14.91\n",
      "Action 'a2d2': -133.22\n",
      "Action 'b8b9': -11.78\n",
      "Action 'b4b7': -33.37\n",
      "Action 'h8a8': -9.36\n",
      "Action 'b6g6': -7.83\n",
      "Action 'c6c4': -12.46\n",
      "Action 'b0b9': -11.31\n",
      "Action 'e5g5': -7.98\n",
      "Action 'b3e3': -18.85\n",
      "Action 'a1h1': -54.81\n",
      "Action 'e3e4': -1869.45\n",
      "Action 'h7h6': -10.79\n",
      "Action 'e2d2': -256.85\n",
      "Action 'g1i1': -20.11\n",
      "Action 'b5b0': -9.05\n",
      "Action 'f5f7': -4.02\n",
      "Action 'a2a6': -7.83\n",
      "Action 'f4a4': -5.71\n",
      "Action 'd1c1': -14.65\n",
      "Action 'c1e0': -8.36\n",
      "Action 'f6e6': -5.95\n",
      "Action 'i1c1': -19.05\n",
      "Action 'e6a6': -7.70\n",
      "Action 'a1f1': -80.02\n",
      "Action 'c2c0': -6.67\n",
      "Action 'd8i8': -5.82\n",
      "Action 'b2b1': -630.99\n",
      "Action 'f0f3': -4.91\n",
      "Action 'h1h3': -35.45\n",
      "Action 'c9e9': -5.79\n",
      "Action 'b3b4': -58.33\n",
      "Action 'd0e1': -600.90\n",
      "Action 'f1f9': -4.91\n",
      "Action 'e5a5': -14.86\n",
      "Action 'i2i1': -54.83\n",
      "Action 'e1e6': -7.53\n",
      "Action 'e5e6': -11.63\n",
      "Action 'b3b2': -46.28\n",
      "Action 'i4i7': -8.29\n",
      "Action 'i1a1': -6.45\n",
      "Action 'b6c6': -12.85\n",
      "Action 'i2c2': -48.35\n",
      "Action 'b7b0': -8.29\n",
      "Action 'h6h1': -63.81\n",
      "Action 'f3f1': -6.42\n",
      "Action 'h4g4': -15.34\n",
      "Action 'h2h7': -226.11\n",
      "Action 'i3i4': -1669.55\n",
      "Action 'b1g1': -67.38\n",
      "Action 'a1c1': -183.11\n",
      "Action 'e1g0': -2.66\n",
      "Action 'e2c0': -216.77\n",
      "Action 'e2c2': -49.13\n",
      "Action 'g0f0': -11.62\n",
      "Action 'a0b0': -301.53\n",
      "Action 'a2b0': -40.78\n",
      "Action 'h7c7': -32.28\n",
      "Action 'b6e6': -63.02\n",
      "Action 'b1b9': -26.04\n",
      "Action 'h6h5': -176.79\n",
      "Action 'd1i1': -11.43\n",
      "Action 'b8e8': -8.68\n",
      "Action 'h0g0': -8.12\n",
      "Action 'h4h6': -15.04\n",
      "Action 'd0e2': -21.66\n",
      "Action 'h1d1': -5.78\n",
      "Action 'b9b8': -27.60\n",
      "Action 'h2d2': -100.28\n",
      "Action 'g8d8': -5.82\n",
      "Action 'g2e1': -22.13\n",
      "Action 'b3a3': -17.40\n",
      "Action 'f6f3': -6.42\n",
      "Action 'b2b0': -76.87\n",
      "Action 'f3b3': -6.67\n",
      "Action 'h3h7': -11.18\n",
      "Action 'e2c4': -275.39\n",
      "Action 'd1a1': -29.85\n",
      "Action 'g1h3': -6.05\n",
      "Action 'd2d1': -92.10\n",
      "Action 'h4g2': -6.59\n",
      "Action 'a1a0': -60.58\n",
      "Action 'i1e1': -32.23\n",
      "Action 'b4b1': -90.61\n",
      "Action 'b6b3': -28.31\n",
      "Action 'h7e7': -20.92\n",
      "Action 'c6c8': -6.46\n",
      "Action 'g1f1': -14.66\n",
      "Action 'i2h2': -45.64\n",
      "Action 'a1a2': -353.28\n",
      "Action 'd2e2': -199.84\n",
      "Action 'h3h0': -18.53\n",
      "Action 'f1g1': -15.83\n",
      "Action 'h0h8': -8.00\n",
      "Action 'g4g5': -132.48\n",
      "Action 'h7h0': -6.31\n",
      "Action 'f0e0': -107.45\n",
      "Action 'e2e4': -15.46\n",
      "Action 'b8g8': -7.53\n",
      "Action 'c0b2': -5.25\n",
      "Action 'e0d0': -162.04\n",
      "Action 'd1d6': -2.19\n",
      "Action 'g6g5': -19.87\n",
      "Action 'g2a2': -25.20\n",
      "Action 'f4f5': -36.28\n",
      "Action 'b4g4': -77.73\n",
      "Action 'c1e2': -1.60\n",
      "Action 'e0f0': -185.52\n",
      "Action 'h7h8': -6.69\n",
      "Action 'f7f4': -7.30\n",
      "Action 'e3d3': -11.32\n",
      "Action 'c2c5': -5.28\n",
      "Action 'b5g5': -14.99\n",
      "Action 'h1b1': -15.34\n",
      "Action 'i1b1': -11.08\n",
      "Action 'd4d9': -7.24\n",
      "Action 'e1c2': -13.62\n",
      "Action 'b4b8': -34.09\n",
      "Action 'b4h4': -54.34\n",
      "Action 'b4b5': -101.27\n",
      "Action 'b6b1': -82.20\n",
      "Action 'e6e4': -22.77\n",
      "Action 'h4d4': -8.24\n",
      "Action 'f1f0': -449.47\n",
      "Action 'h2h5': -291.17\n",
      "Action 'c1h1': -6.18\n",
      "Action 'e2e1': -121.29\n",
      "Action 'b0b7': -0.78\n",
      "Action 'e1d1': -571.22\n",
      "Action 'h0h7': -8.73\n",
      "Action 'g2f4': -10.73\n",
      "Action 'a0a2': -1033.45\n",
      "Action 'g2g9': -6.44\n",
      "Action 'c0b0': -5.40\n",
      "Action 'g1g0': -4.93\n",
      "Action 'c5c6': -15.58\n",
      "Action 'b1d1': -19.84\n",
      "Action 'i1h3': -7.90\n",
      "Action 'd3d6': -5.73\n",
      "Action 'e2g2': -575.48\n",
      "Action 'd4b4': -35.39\n",
      "Action 'h5g5': -7.58\n",
      "Action 'b2d2': -174.11\n",
      "Action 'f5e5': -18.14\n",
      "Action 'i0f0': -24.28\n",
      "Action 'd4c4': -6.95\n",
      "Action 'c2i2': -47.10\n",
      "Action 'b1f1': -54.55\n",
      "Action 'h6h0': -28.57\n",
      "Action 'b7b9': -7.64\n",
      "Action 'b0a0': -40.63\n",
      "Action 'c2b2': -282.67\n",
      "Action 'c0e2': -996.26\n",
      "Action 'b4b9': -98.55\n",
      "Action 'h0g2': -441.26\n",
      "Action 'h1h7': -53.23\n",
      "Action 'f2f4': -38.87\n",
      "Action 'd1f0': -27.15\n",
      "Action 'b7e7': -6.89\n",
      "Action 'f1f3': -13.54\n",
      "Action 'f2f0': -11.35\n",
      "Action 'e6e5': -14.86\n",
      "Action 'a1c2': -19.45\n",
      "Action 'd4c6': -6.39\n",
      "Action 'd1d3': -12.81\n",
      "Action 'i4f4': -6.02\n",
      "Action 'e0e8': -4.93\n",
      "Action 'b3b9': -16.42\n",
      "Action 'c6g6': -7.01\n",
      "Action 'a2c0': -227.20\n",
      "Action 'g2b2': -35.15\n",
      "Action 'a3a4': -1254.89\n",
      "Action 'i1i2': -11.02\n",
      "Action 'd2d7': -7.20\n",
      "Action 'b4d5': -14.81\n",
      "Action 'f3e3': -10.28\n",
      "Action 'g5f5': -19.09\n",
      "Action 'i5i6': -18.91\n",
      "Action 'f5f3': -9.21\n",
      "Action 'c4a2': -88.33\n",
      "Action 'b3b1': -12.99\n",
      "Action 'd4c2': -8.24\n",
      "Action 'c2c6': -98.21\n",
      "Action 'b2c2': -559.72\n",
      "Action 'i2a2': -35.72\n",
      "Action 'e5d5': -24.91\n",
      "Action 'b0b3': -34.29\n",
      "Action 'b2a2': -149.06\n",
      "Action 'b0d1': -232.59\n",
      "Action 'h6h4': -17.50\n",
      "Action 'c1d3': -9.21\n",
      "Action 'a2c4': -440.59\n",
      "Action 'b5f5': -10.79\n",
      "Action 'g2f2': -92.67\n",
      "Action 'h4a4': -29.47\n",
      "Action 'e4c4': -94.54\n",
      "Action 'c0d2': -6.38\n",
      "Action 'c2c9': -19.15\n",
      "Action 'a0c0': -34.96\n",
      "Action 'b0b6': -31.32\n",
      "Action 'b7f7': -27.41\n",
      "Action 'd5d1': -11.17\n",
      "Action 'e1e2': -508.94\n",
      "Action 'h2g2': -544.10\n",
      "Action 'b2b9': -453.27\n",
      "Action 'a4a5': -133.10\n",
      "Action 'd5a5': -16.40\n",
      "Action 'b1b0': -84.79\n",
      "Action 'e3e2': -7.94\n",
      "Action 'c2e1': -29.51\n",
      "Action 'd3e3': -6.91\n",
      "Action 'i1f1': -21.13\n",
      "Action 'h2h4': -422.60\n",
      "Action 'b1a1': -34.38\n",
      "Action 'c2d2': -152.39\n",
      "Action 'f4h4': -5.55\n",
      "Action 'd4f4': -35.13\n",
      "Action 'c4e4': -7.98\n",
      "Action 'g1g6': -24.69\n",
      "Action 'c4b4': -38.68\n",
      "Action 'b2f2': -196.96\n",
      "Action 'g4e2': -7.71\n",
      "Action 'b8h8': -8.12\n",
      "Action 'e2g0': -108.59\n",
      "Action 'b7b1': -5.25\n",
      "Action 'g6g8': -14.58\n",
      "Action 'e1f2': -212.85\n",
      "Action 'b9b3': -11.89\n",
      "Action 'h7d7': -23.18\n",
      "Action 'e3d1': -5.65\n",
      "Action 'e1c1': -6.02\n",
      "Action 'c2h2': -7.65\n",
      "Action 'g2d2': -82.45\n",
      "Action 'f8g8': -14.57\n",
      "Action 'g4i2': -5.73\n",
      "Action 'b8i8': -6.26\n",
      "Action 'f4f8': -12.87\n",
      "Action 'a2g2': -31.49\n",
      "Action 'h5e5': -24.53\n",
      "Action 'h3h8': -18.14\n",
      "Action 'h7f7': -10.38\n",
      "Action 'e1e4': -6.03\n",
      "Action 'i2g2': -100.85\n",
      "Action 'c4f4': -4.93\n",
      "Action 'a1c0': -6.38\n",
      "Action 'f0f1': -50.02\n",
      "Action 'h8h4': -9.56\n",
      "Action 'h2h0': -219.03\n",
      "Action 'b3b6': -59.46\n",
      "Action 'h2f2': -225.76\n",
      "Action 'd1d9': -4.76\n",
      "Action 'b5b9': -19.80\n",
      "Action 'h7h1': -59.30\n",
      "Action 'h1h6': -15.60\n",
      "Action 'd5e5': -30.20\n",
      "Action 'f1f2': -253.93\n",
      "Action 'f0h0': -14.81\n",
      "Action 'f1d2': -4.76\n",
      "Action 'i0i6': -14.03\n",
      "Action 'c1e1': -17.61\n",
      "Action 'g2g1': -101.63\n",
      "Action 'f2f6': -41.24\n",
      "Action 'h5h1': -23.70\n",
      "Action 'b4d4': -90.67\n",
      "Action 'i6a6': -9.54\n",
      "Action 'h2e2': -811.43\n",
      "Action 'b0b8': -35.73\n",
      "Action 'b1h1': -31.22\n",
      "Action 'c2d4': -14.64\n",
      "Action 'e6i6': -9.05\n",
      "Action 'b0a2': -439.22\n",
      "Action 'f1h0': -12.55\n",
      "Action 'i2b2': -17.27\n",
      "Action 'b4a4': -33.69\n",
      "Action 'c2c1': -31.88\n",
      "Action 'e2h2': -62.57\n",
      "Action 'g4i4': -3.42\n",
      "Action 'f3f2': -4.31\n",
      "Action 'b2d3': -6.77\n",
      "Action 'h3h2': -35.52\n",
      "Action 'a2b2': -396.51\n",
      "Action 'g1g5': -7.00\n",
      "Action 'e6e7': -18.76\n",
      "Action 'b1b2': -128.19\n",
      "Action 'h8d8': -19.17\n",
      "Action 'd6d1': -11.72\n",
      "Action 'd2h2': -28.61\n",
      "Action 'c1c2': -40.02\n",
      "Action 'c4e2': -55.69\n",
      "Action 'h8e8': -26.58\n",
      "Action 'c1d1': -25.62\n",
      "Action 'f2a2': -13.04\n",
      "Action 'a2i2': -79.21\n",
      "Action 'h2h6': -572.91\n",
      "Action 'h1h2': -35.74\n",
      "Action 'h5h6': -15.39\n",
      "Action 'b5e5': -8.79\n",
      "Action 'b1b4': -81.02\n",
      "Action 'e0c1': -8.36\n",
      "Action 'h1h4': -24.92\n",
      "Action 'f2e1': -37.40\n",
      "Action 'e4h4': -17.19\n",
      "Action 'b7b4': -10.28\n",
      "Action 'h4h8': -7.94\n",
      "Action 'g2g6': -140.51\n",
      "Action 'b5d5': -26.38\n",
      "Action 'b2i2': -67.39\n",
      "Action 'f3h3': -4.91\n",
      "Action 'f8a8': -12.30\n",
      "Action 'c2e2': -39.43\n",
      "Action 'g3g4': -881.90\n",
      "Action 'b3b8': -8.68\n",
      "Action 'h1h8': -9.18\n",
      "Action 'f6f8': -6.20\n",
      "Action 'h1i1': -31.69\n",
      "Action 'd7c7': -14.45\n",
      "Action 'c0c1': -10.11\n",
      "Action 'g2i1': -16.31\n",
      "Action 'c4i4': -6.44\n",
      "Action 'g2i2': -89.31\n",
      "Action 'a2e2': -44.29\n",
      "Action 'h0i2': -173.42\n",
      "Action 'i2d2': -49.12\n",
      "Action 'f2f8': -44.51\n",
      "Action 'g2h2': -201.44\n",
      "Action 'h2b2': -713.91\n",
      "Action 'e2i2': -48.30\n",
      "Action 'b5b1': -12.90\n",
      "Action 'f3f4': -8.79\n",
      "Action 'f5f6': -14.67\n",
      "Action 'h8f8': -17.42\n",
      "Action 'f3f7': -12.85\n",
      "Action 'b0b5': -5.70\n",
      "Action 'h6e6': -39.27\n",
      "Action 'b0c0': -7.98\n",
      "Action 'f4g4': -7.41\n",
      "Action 'g2g3': -8.28\n",
      "Action 'd6g6': -14.43\n",
      "Action 'f6i6': -11.35\n",
      "Action 'h1c1': -6.77\n",
      "Action 'c1c5': -6.67\n",
      "Action 'h6h2': -17.77\n",
      "Action 'i2i6': -51.13\n",
      "Action 'b5b6': -21.38\n",
      "Action 'h5a5': -9.01\n",
      "Action 'b2c0': -11.61\n",
      "Action 'd2d5': -66.51\n",
      "Action 'f5f4': -9.80\n",
      "Action 'g0g1': -13.84\n",
      "Action 'd5d0': -10.14\n",
      "Action 'd1f1': -22.73\n",
      "Action 'e3e1': -5.00\n",
      "Action 'h1h5': -10.97\n",
      "Action 'f2f7': -34.89\n",
      "Action 'h0f0': -5.14\n",
      "Action 'f2i2': -38.66\n",
      "Action 'h4b4': -10.79\n",
      "Action 'h4h7': -18.51\n",
      "Action 'h5h0': -10.14\n",
      "Action 'b0b4': -9.75\n",
      "Action 'b5b4': -8.29\n",
      "Action 'h5f5': -33.32\n",
      "Action 'h3h4': -4.91\n",
      "Action 'i1h1': -42.41\n",
      "Action 'g0e2': -581.30\n",
      "Action 'e2g1': -6.05\n",
      "Action 'h0h6': -5.55\n",
      "Action 'i2f2': -79.25\n",
      "Action 'b2g2': -194.09\n",
      "Action 'g1h1': -9.89\n",
      "Action 'e1b1': -13.07\n",
      "Action 'f8f4': -15.22\n",
      "Action 'e2f2': -186.21\n",
      "Action 'e3b3': -5.82\n",
      "Action 'h5h3': -9.56\n",
      "Action 'h5h4': -6.67\n",
      "Action 'e1a1': -19.19\n",
      "Action 'd0c2': -18.78\n",
      "Action 'e0e1': -3193.63\n",
      "Action 'c9d9': -9.09\n",
      "Action 'f1f7': -7.30\n",
      "Action 'h3h5': -8.44\n",
      "Action 'g2g0': -29.61\n",
      "Action 'd7f7': -5.92\n",
      "Action 'c4a4': -33.34\n",
      "Action 'd7a7': -5.59\n",
      "Action 'c1f1': -17.89\n",
      "Action 'f8i8': -6.43\n",
      "Action 'b2b7': -42.54\n",
      "Action 'b7b6': -10.46\n",
      "Action 'c2b4': -29.54\n",
      "Action 'f4f2': -13.06\n",
      "Action 'g0g2': -5.17\n",
      "Action 'c2c3': -6.39\n",
      "Action 'b5c5': -40.42\n",
      "Action 'd2g2': -32.01\n",
      "Action 'a4e4': -5.83\n",
      "Action 'f7f1': -4.02\n",
      "Action 'c2a1': -83.39\n",
      "Action 'g5g6': -17.06\n",
      "Action 'a3e3': -5.00\n",
      "Action 'i4i5': -381.41\n",
      "Action 'f0e1': -1151.61\n",
      "Action 'd1g1': -12.62\n",
      "Action 'f2f5': -51.96\n",
      "Action 'a0a1': -1645.98\n",
      "Action 'b1c1': -29.52\n",
      "Action 'i0h0': -51.34\n",
      "Action 'b5b3': -39.70\n",
      "Action 'e4g4': -31.84\n",
      "Action 'g2c2': -86.57\n",
      "Action 'g2h0': -27.82\n",
      "Action 'd1d2': -291.91\n",
      "Action 'h1h0': -9.50\n",
      "Action 'h5h8': -16.13\n",
      "Action 'g1e1': -6.29\n",
      "Action 'b1b3': -124.51\n",
      "Action 'h2h1': -209.38\n",
      "Action 'e1f1': -1279.94\n",
      "Action 'e2e5': -5.92\n",
      "Action 'e6f6': -5.95\n",
      "Action 'h3i3': -6.65\n",
      "Action 'h2h3': -257.67\n",
      "Action 'd3d5': -10.14\n",
      "Action 'f4f1': -36.86\n",
      "Action 'b4e4': -213.76\n",
      "Action 'c1a0': -4.35\n",
      "Action 'd0d2': -10.14\n",
      "Action 'c5d5': -20.05\n",
      "Action 'b4c4': -71.04\n",
      "Action 'e6e8': -5.55\n",
      "Action 'h3h6': -44.94\n",
      "Action 'b3b7': -20.05\n",
      "Action 'd1d4': -13.21\n",
      "Action 'd5c5': -22.95\n",
      "Action 'd8b8': -6.51\n",
      "Action 'd2d6': -45.45\n",
      "Action 'a1a3': -32.18\n",
      "Action 'e5e4': -7.98\n",
      "Action 'd6c6': -6.39\n",
      "Action 'b1b6': -25.52\n",
      "Action 'b2h2': -31.14\n",
      "Action 'i1g1': -20.94\n",
      "Action 'b7b3': -9.79\n",
      "Action 'h4h9': -8.06\n",
      "Action 'g4g7': -8.19\n",
      "Action 'f4c4': -30.09\n",
      "Action 'h4f4': -222.65\n",
      "Action 'd3d9': -8.64\n",
      "Action 'h2h8': -143.32\n",
      "Action 'e4e8': -8.73\n",
      "Action 'h4h5': -23.70\n",
      "Action 'd5d6': -6.39\n",
      "Action 'b2e2': -186.93\n",
      "Action 'g2f0': -37.10\n",
      "Action 'b1e1': -25.92\n",
      "Action 'f2f1': -115.09\n",
      "Action 'h6h3': -48.34\n",
      "Action 'a4b4': -8.57\n",
      "Action 'd2b2': -128.16\n",
      "Action 'g8h8': -8.74\n",
      "Action 'a5b5': -7.33\n",
      "Action 'd3d7': -5.59\n",
      "Action 'a1i1': -18.41\n",
      "Action 'g4g9': -7.01\n",
      "Action 'b5a5': -25.05\n",
      "Action 'h6g6': -4.79\n",
      "Action 'b5b7': -10.28\n",
      "Action 'i3i1': -24.52\n",
      "Action 'b6b0': -12.81\n",
      "Action 'h7h4': -23.70\n",
      "Action 'f4f7': -12.60\n",
      "Action 'h2c2': -189.95\n",
      "Action 'f3f0': -9.21\n",
      "Action 'f1h1': -32.93\n",
      "Action 'c0a0': -5.65\n",
      "Action 'd2d9': -10.38\n",
      "Action 'g6c6': -10.94\n",
      "Action 'h0h1': -35.85\n",
      "Action 'e2a2': -8.71\n",
      "Action 'b4b0': -13.58\n",
      "Action 'd0e0': -64.74\n",
      "Action 'i2g0': -130.13\n",
      "Action 'f8f6': -10.81\n",
      "Action 'b3b0': -87.91\n",
      "Action 'h2i2': -171.54\n",
      "Action 'i3i0': -30.82\n",
      "Action 'd3d0': -6.35\n",
      "Action 'f2g2': -52.01\n",
      "Action 'a1e1': -21.17\n",
      "Action 'c2g2': -29.55\n",
      "Action 'h8h2': -9.68\n",
      "Action 'a2h2': -37.48\n",
      "Action 'g6g9': -6.24\n",
      "Action 'i2e2': -17.75\n",
      "Action 'e4e2': -6.03\n",
      "Action 'h4h0': -33.89\n",
      "Action 'e4d4': -12.39\n",
      "Action 'c2b0': -375.83\n",
      "Action 'b6b8': -5.28\n",
      "Action 'h3h1': -17.81\n",
      "Action 'g2i3': -5.66\n",
      "Action 'd1b2': -31.66\n",
      "Action 'f8d8': -8.63\n",
      "Action 'i0i3': -115.03\n",
      "Action 'a2c2': -78.86\n",
      "Action 'f0f2': -11.35\n",
      "Action 'g1c1': -12.96\n",
      "Action 'f1a1': -6.98\n",
      "Action 'e2e0': -19.30\n",
      "Action 'i2i3': -6.77\n",
      "Action 'd6d5': -8.15\n",
      "Action 'f2f3': -54.22\n",
      "Action 'b0c2': -995.41\n",
      "Action 'i0i4': -5.49\n",
      "Action 'i2g1': -50.59\n",
      "Action 'e1d2': -143.59\n",
      "Action 'c5c9': -24.86\n",
      "Action 'h8h0': -6.69\n",
      "Action 'c6i6': -9.54\n",
      "Action 'f2h2': -21.68\n",
      "Action 'f2b2': -27.57\n",
      "Action 'b5b2': -5.86\n",
      "Action 'f4e4': -30.34\n",
      "Action 'e2e3': -30.61\n",
      "Action 'd6d8': -6.91\n",
      "Action 'a2f2': -54.51\n",
      "Action 'h6h7': -21.70\n",
      "Action 'f4f0': -7.00\n",
      "Action 'a2a3': -7.73\n",
      "Action 'f1b1': -11.49\n",
      "Action 'b6b2': -6.89\n",
      "Action 'a2b4': -42.52\n",
      "Action 'b2b4': -2527.31\n",
      "Action 'c2a2': -18.12\n",
      "Action 'c3c4': -720.75\n",
      "Action 'g2e3': -12.24\n",
      "Action 'h4i4': -8.29\n",
      "Action 'b2b6': -257.85\n",
      "Action 'd2i2': -18.45\n",
      "Action 'h8h3': -8.00\n",
      "Action 'b7b2': -15.96\n",
      "Action 'i2h0': -20.47\n",
      "Action 'e2g4': -67.28\n",
      "Action 'd2d3': -43.54\n",
      "Action 'f0e2': -6.05\n",
      "Action 'e4b4': -6.20\n",
      "Action 'h5c5': -31.30\n",
      "Action 'h0f1': -44.96\n",
      "Action 'c0a2': -1305.73\n",
      "Action 'h1g1': -12.85\n",
      "Action 'g4a4': -5.07\n",
      "Action 'e3c3': -6.91\n",
      "Action 'i0i1': -148.68\n",
      "Action 'e1d0': -114.72\n",
      "Action 'c9c5': -6.09\n",
      "Action 'f0i0': -10.35\n",
      "Action 'b6b7': -29.89\n",
      "Action 'e2b2': -41.45\n",
      "Action 'b5b8': -6.29\n",
      "Action 'f2d2': -52.57\n",
      "Action 'd0d1': -110.81\n",
      "Action 'd8h8': -8.63\n",
      "Action 'e1g2': -5.83\n",
      "Action 'i5h5': -9.36\n",
      "Action 'e5f5': -9.25\n",
      "Action 'c2d0': -40.44\n",
      "Action 'a2c1': -82.94\n",
      "Action 'd5d2': -6.86\n",
      "Action 'i2i0': -90.15\n",
      "Action 'b4b2': -4.88\n",
      "Action 'i0i2': -483.64\n",
      "Action 'c4c5': -187.41\n",
      "Action 'a1d1': -178.82\n",
      "Action 'h4h3': -15.81\n",
      "Action 'i1i0': -45.03\n",
      "Action 'b4i4': -21.56\n",
      "Action 'b4f4': -9.21\n",
      "Action 'd4d8': -6.51\n",
      "Action 'f8e8': -6.32\n",
      "Action 'e4e5': -319.58\n",
      "Action 'i2g4': -86.39\n",
      "Action 'c0c2': -6.67\n",
      "Action 'f4f3': -28.12\n",
      "Action 'c6b6': -21.29\n",
      "Action 'e4f4': -30.70\n",
      "Action 'e1i1': -18.10\n",
      "Action 'b6b4': -56.48\n",
      "Action 'c4c9': -54.75\n",
      "Action 'd1b1': -64.64\n",
      "Action 'c1b1': -39.68\n",
      "Action 'a1b1': -156.95\n",
      "Action 'f1i1': -9.34\n",
      "Action 'd8d3': -6.91\n",
      "Action 'b3b5': -44.06\n",
      "Action 'b6b9': -28.02\n",
      "Action 'd4d2': -3.82\n",
      "Action 'g4f4': -30.79\n",
      "Action 'b2b8': -10.69\n",
      "Action 'd2d4': -34.04\n",
      "Action 'h2h9': -38.99\n",
      "Action 'g0i2': -748.48\n",
      "Action 'f1f6': -23.16\n",
      "Action 'f1e1': -248.67\n",
      "Action 'b5i5': -12.44\n",
      "Action 'c1b3': -7.25\n",
      "Action 'b0b2': -7.77\n",
      "Action 'f0a0': -9.21\n",
      "Action 'd7h7': -10.01\n",
      "Action 'g1g2': -30.71\n",
      "Action 'd5e7': -14.81\n",
      "Action 'a0a5': -8.30\n",
      "Action 'e0e6': -7.95\n",
      "Action 'd6d3': -7.60\n",
      "Action 'c6d6': -6.39\n",
      "Action 'a2a5': -8.14\n",
      "Action 'b4d3': -9.14\n",
      "Action 'd3f2': -9.14\n",
      "Action 'd2d0': -5.72\n",
      "Action 'd1d0': -138.23\n",
      "Action 'b4b6': -343.84\n",
      "Action 'e2e6': -87.67\n",
      "Action 'b8b2': -5.28\n",
      "Action 'f7e7': -5.92\n",
      "Action 'e1f0': -48.15\n",
      "Total of attributed values: -59064.57\n"
     ]
    }
   ],
   "source": [
    "total = 0\n",
    "for k, v in result.items():\n",
    "    print(f\"Action '{k}': {v:.2f}\")\n",
    "    total += v\n",
    "\n",
    "print(f\"Total of attributed values: {total:.2f}\")"
   ]
  },
  {
   "cell_type": "code",
   "execution_count": null,
   "id": "5e19bcfc",
   "metadata": {},
   "outputs": [],
   "source": []
  },
  {
   "cell_type": "markdown",
   "id": "3238d3c4",
   "metadata": {},
   "source": [
    "### 以下计算shapley value 方法复杂度很高，暂不采用"
   ]
  },
  {
   "cell_type": "code",
   "execution_count": 13,
   "id": "a2a726af",
   "metadata": {},
   "outputs": [],
   "source": [
    "# 即生成列表List的所有组合\n",
    "# 如List = [1,2,3]，则返回[], [1], [2], [3], [1,2], [1,3], [2,3], [1,2,3]\n",
    "def power_set(List):\n",
    "    PS = [list(j) for i in range(len(List)) for j in itertools.combinations(List, i+1)]\n",
    "    return PS"
   ]
  },
  {
   "cell_type": "code",
   "execution_count": 14,
   "id": "2c7300ef",
   "metadata": {},
   "outputs": [],
   "source": [
    "def subsets(s):\n",
    "    if len(s) == 1:\n",
    "        return s\n",
    "    else:\n",
    "        sub_channels = []\n",
    "        for i in range(1, len(s) + 1):\n",
    "            sub_channels.extend(map(list, itertools.combinations(s, i)))\n",
    "    return list(map(\",\".join, map(sorted, sub_channels)))"
   ]
  },
  {
   "cell_type": "code",
   "execution_count": 16,
   "id": "c20bcfcc",
   "metadata": {},
   "outputs": [],
   "source": [
    "def value_function(A, C_values):\n",
    "    subsets_of_A = subsets(A)\n",
    "    worth_of_A = 0\n",
    "    for subset in subsets_of_A:\n",
    "        print(f\"subset: {subset}\")\n",
    "        if subset in C_values:\n",
    "            worth_of_A += C_values[subset]\n",
    "    return worth_of_A"
   ]
  },
  {
   "cell_type": "code",
   "execution_count": 17,
   "id": "a69d788c",
   "metadata": {},
   "outputs": [],
   "source": [
    "def factorial(n):\n",
    "    if n == 0:\n",
    "        return 1\n",
    "    else:\n",
    "        return n * factorial(n-1)"
   ]
  },
  {
   "cell_type": "code",
   "execution_count": 23,
   "id": "56ab1157",
   "metadata": {},
   "outputs": [
    {
     "name": "stdout",
     "output_type": "stream",
     "text": [
      "channels count: 16\n",
      "{'a0a1,a1c1,b2b8,c1f1,f1f8,c3c4,g0i2,e3e4,c0a2': -96.17, 'a0a1,b2b4,a1b1,h2d2,g0e2,b1f1,d0e1,e1f2': -37.61}\n"
     ]
    }
   ],
   "source": [
    "#demo\n",
    "data_demo = data3.head(2)\n",
    "\n",
    "c_values = data_demo.set_index(\"action_sequence\").to_dict()[\"chapture_value\"]    \n",
    "channels = []\n",
    "for i in range(len(data_demo)):\n",
    "    row = data_demo.iloc[i]\n",
    "    actions = row[\"action_sequence\"].split(\",\")\n",
    "    channels.extend(actions)\n",
    "    \n",
    "channels = list(set(channels))\n",
    "print(f\"channels count: {len(channels)}\")\n",
    "\n",
    "power_channels = power_set(channels)\n",
    "print(c_values)\n",
    "    \n",
    "# v_values = {}\n",
    "# for A in power_channels:\n",
    "#     v_values[','.join(sorted(A))] = value_function(A, c_values)\n",
    "# print(f\"v_values: {v_values}\")\n"
   ]
  },
  {
   "cell_type": "code",
   "execution_count": 21,
   "id": "f26c5880",
   "metadata": {},
   "outputs": [
    {
     "ename": "KeyError",
     "evalue": "'a0a1,a1c1,b2b8,c1f1,f1f8,c3c4,g0i2,e3e4,c0a2'",
     "output_type": "error",
     "traceback": [
      "\u001b[1;31m---------------------------------------------------------------------------\u001b[0m",
      "\u001b[1;31mKeyError\u001b[0m                                  Traceback (most recent call last)",
      "Input \u001b[1;32mIn [21]\u001b[0m, in \u001b[0;36m<cell line: 1>\u001b[1;34m()\u001b[0m\n\u001b[1;32m----> 1\u001b[0m \u001b[43mv_values\u001b[49m\u001b[43m[\u001b[49m\u001b[38;5;124;43m\"\u001b[39;49m\u001b[38;5;124;43ma0a1,a1c1,b2b8,c1f1,f1f8,c3c4,g0i2,e3e4,c0a2\u001b[39;49m\u001b[38;5;124;43m\"\u001b[39;49m\u001b[43m]\u001b[49m\n",
      "\u001b[1;31mKeyError\u001b[0m: 'a0a1,a1c1,b2b8,c1f1,f1f8,c3c4,g0i2,e3e4,c0a2'"
     ]
    }
   ],
   "source": [
    "v_values[\"a0a1,a1c1,b2b8,c1f1,f1f8,c3c4,g0i2,e3e4,c0a2\"]"
   ]
  },
  {
   "cell_type": "code",
   "execution_count": 28,
   "id": "343465c6",
   "metadata": {},
   "outputs": [],
   "source": [
    "def calculate_shapley(df, channel_name, conv_name):\n",
    "    c_values = df.set_index(channel_name).to_dict()[conv_name]    \n",
    "    df['channels'] = df[channel_name].apply(lambda x: x if len(x.split(\",\")) == 1 else np.nan)  # hoho: 这里可能会遗漏一些channel\n",
    "    channels = list(df['channels'].dropna().unique())\n",
    "    \n",
    "#     print(f\"power_set: {power_set(channels)}\")\n",
    "    \n",
    "    v_values = {}\n",
    "    for A in power_set(channels):\n",
    "        v_values[','.join(sorted(A))] = v_function(A, c_values)\n",
    "    n = len(channels)\n",
    "    shapley_values = defaultdict(int)\n",
    "    \n",
    "    for channel in channels:\n",
    "        for A in v_values.keys():\n",
    "            if channel not in A.split(\",\"):\n",
    "                cardinal_A = len(A.split(\",\"))  # 没有channel的长度\n",
    "                A_with_channel = A.split(\",\")\n",
    "                A_with_channel.append(channel)\n",
    "                A_with_channel = \",\".join(sorted(A_with_channel))\n",
    "                weight = (factorial(cardinal_A) * factorial(n - cardinal_A - 1) / factorial(n)) # Weight = |S|!(n-|S|-1)!/n!\n",
    "                contrib = (v_values[A_with_channel] - v_values[A]) # Marginal contribution = v(S U {i})-v(S)\n",
    "                shapley_values[channel] += weight * contrib\n",
    "                \n",
    "        # Add the term corresponding to the empty set\n",
    "        shapley_values[channel]+= v_values[channel] / n \n",
    "        \n",
    "    return shapley_values"
   ]
  },
  {
   "cell_type": "markdown",
   "id": "a42ba4c9",
   "metadata": {},
   "source": [
    "### 计算shapley value 方法复杂度很高，暂不采用"
   ]
  },
  {
   "cell_type": "code",
   "execution_count": null,
   "id": "db66ab32",
   "metadata": {},
   "outputs": [],
   "source": []
  }
 ],
 "metadata": {
  "kernelspec": {
   "display_name": "Python 3 (ipykernel)",
   "language": "python",
   "name": "python3"
  },
  "language_info": {
   "codemirror_mode": {
    "name": "ipython",
    "version": 3
   },
   "file_extension": ".py",
   "mimetype": "text/x-python",
   "name": "python",
   "nbconvert_exporter": "python",
   "pygments_lexer": "ipython3",
   "version": "3.9.7"
  }
 },
 "nbformat": 4,
 "nbformat_minor": 5
}
